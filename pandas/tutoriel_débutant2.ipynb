{
 "cells": [
  {
   "cell_type": "markdown",
   "metadata": {
    "colab_type": "text",
    "id": "eeFs9x5ErvRB"
   },
   "source": [
    "# Tutoriel débutant Python 2"
   ]
  },
  {
   "cell_type": "markdown",
   "metadata": {
    "colab_type": "text",
    "id": "DxkTcaZCrvRD"
   },
   "source": [
    "### 2.1 Bref commentaire sur les modules en Python\n",
    "> Les modules sont des regroupements de fonctions (ou classes) qui permettent d'utiliser ses dernières dans son script Python. Les prochaines cellules illustrent comment importer et utiliser des fonctions et des classes provenant de modules extérieurs. \n",
    "> Par exemple, le module *numpy* offre des objets en N-dimension de type array, des opérations d'algèbre linéaire ainsi que des transformés de Fourier."
   ]
  },
  {
   "cell_type": "code",
   "execution_count": 2,
   "metadata": {
    "colab": {},
    "colab_type": "code",
    "id": "zRgXQ-9hrvRE",
    "outputId": "258dca5c-b477-4eaa-a9ec-a737f1c651c1"
   },
   "outputs": [
    {
     "data": {
      "text/plain": [
       "'Sun Aug  2 22:03:32 2020'"
      ]
     },
     "execution_count": 2,
     "metadata": {},
     "output_type": "execute_result"
    }
   ],
   "source": [
    "import time\n",
    " \n",
    "time.asctime() # nous appelons la fonction asctime du module time en \n",
    "    # écrivant le nom du module que nous avons importé suivie\n",
    "    # d'un point et de la fonction que nous désirons utiliser."
   ]
  },
  {
   "cell_type": "code",
   "execution_count": 3,
   "metadata": {
    "colab": {},
    "colab_type": "code",
    "id": "SDEN6Q5crvRL",
    "outputId": "804b0892-93fa-4187-8b7c-2643dda6356c"
   },
   "outputs": [
    {
     "data": {
      "text/plain": [
       "array([ 0.1       ,  0.30204082,  0.50408163,  0.70612245,  0.90816327,\n",
       "        1.11020408,  1.3122449 ,  1.51428571,  1.71632653,  1.91836735,\n",
       "        2.12040816,  2.32244898,  2.5244898 ,  2.72653061,  2.92857143,\n",
       "        3.13061224,  3.33265306,  3.53469388,  3.73673469,  3.93877551,\n",
       "        4.14081633,  4.34285714,  4.54489796,  4.74693878,  4.94897959,\n",
       "        5.15102041,  5.35306122,  5.55510204,  5.75714286,  5.95918367,\n",
       "        6.16122449,  6.36326531,  6.56530612,  6.76734694,  6.96938776,\n",
       "        7.17142857,  7.37346939,  7.5755102 ,  7.77755102,  7.97959184,\n",
       "        8.18163265,  8.38367347,  8.58571429,  8.7877551 ,  8.98979592,\n",
       "        9.19183673,  9.39387755,  9.59591837,  9.79795918, 10.        ])"
      ]
     },
     "execution_count": 3,
     "metadata": {},
     "output_type": "execute_result"
    }
   ],
   "source": [
    "import numpy as np # nous pouvons renommer les modules dans notre code\n",
    "    # tel que nous pouvons les appeler avec ce nouveau nom. Nous utilisons\n",
    "    # le mot-clé \"as\" dans ce cas\n",
    "\n",
    "np.linspace(0.1, 10) # même situation que dans le cas précédent, mis\n",
    "    # à part que nous utilisons notre nom np à la place de numpy\n",
    "    # suivie du point et de la fonction que nous vous désirez"
   ]
  },
  {
   "cell_type": "code",
   "execution_count": 4,
   "metadata": {
    "colab": {},
    "colab_type": "code",
    "id": "B8eqo0b5rvRR",
    "outputId": "255d9861-1e61-42aa-cc4e-1eedff86a5d3"
   },
   "outputs": [
    {
     "data": {
      "text/plain": [
       "array([1, 2, 3, 4])"
      ]
     },
     "execution_count": 4,
     "metadata": {},
     "output_type": "execute_result"
    }
   ],
   "source": [
    "from numpy import array # nous pouvons également importer seulement\n",
    "    # des fonctions ou des classes particulières d'un module\n",
    "    # avec le keyword import.\n",
    "\n",
    "array([1,2,3,4]) # puisque nous avons directement importé la classe array\n",
    "    # nous n'avons pas besoin d'écrire le nom du module suivi d'un point \n",
    "    # avant la classe."
   ]
  },
  {
   "cell_type": "markdown",
   "metadata": {
    "colab_type": "text",
    "id": "Qe3zxd-ErvRV"
   },
   "source": [
    "### 2.2 Ouvrir des fichiers et comprendre sa position sur son disque dur en Python\n",
    "> Le module $os$ permet d'interagir avec son système de fichiers, que ce soit sur Windows, ou bien sur Mac ou Linux. Ce module nous offre la possibilité d'ouvrir des fichiers qui sont dans différents dossiers. "
   ]
  },
  {
   "cell_type": "code",
   "execution_count": 5,
   "metadata": {
    "colab": {},
    "colab_type": "code",
    "id": "KpjHDx3krvRW"
   },
   "outputs": [],
   "source": [
    "import os"
   ]
  },
  {
   "cell_type": "code",
   "execution_count": 6,
   "metadata": {
    "colab": {},
    "colab_type": "code",
    "id": "Z1rf6XkprvRZ",
    "outputId": "8ffcd4d5-1a16-471c-9181-d4d313520191"
   },
   "outputs": [
    {
     "data": {
      "text/plain": [
       "'/home/jackson/PycharmProjects/python-tutorials/pandas'"
      ]
     },
     "execution_count": 6,
     "metadata": {},
     "output_type": "execute_result"
    }
   ],
   "source": [
    "os.getcwd() # imprime le dossier actuel de travail"
   ]
  },
  {
   "cell_type": "code",
   "execution_count": 7,
   "metadata": {
    "colab": {},
    "colab_type": "code",
    "id": "8o70Me2IrvRc",
    "outputId": "d27c6376-2431-4c66-c997-a4131dc2ad2d"
   },
   "outputs": [
    {
     "data": {
      "text/plain": [
       "['solutionnaire2.ipynb',\n",
       " '.ipynb_checkpoints',\n",
       " 'bitcoin_history.csv',\n",
       " 'beginner_workshop2.ipynb',\n",
       " 'tutoriel_débutant2.ipynb',\n",
       " 'answers_2.ipynb',\n",
       " 'starWarsClean.csv']"
      ]
     },
     "execution_count": 7,
     "metadata": {},
     "output_type": "execute_result"
    }
   ],
   "source": [
    "os.listdir() # imprimes les fichiers dans votre dossier actuel"
   ]
  },
  {
   "cell_type": "markdown",
   "metadata": {
    "colab_type": "text",
    "id": "vQXqsrCgrvRg"
   },
   "source": [
    "> Un scénario habituel est l'ouverture d'un fichier dans un dossier spécifique. Nous allons ouvrir le fichier 'starWarsClean.csv' que vous pouvez télécharger [içi](https://drive.google.com/file/d/1XNGKtLzBacQaaP7PgPgyfBHc3Ux1nl2w/view?usp=sharing). J'assume qu'après téléchargement, ce fichier se trouve dans votre dossier téléchargement. Ce dossier correspond probablement à un emplacement similaire à cela:  \n",
    "![path](https://i.ibb.co/kS9XkKR/image.png)  \n",
    "Notez les \"backwards slashes\" (\\) sur Windows. Tandis que sur Linux ou Mac, ce sont des \"forwards slashes\" (/). Donc on transcrirait ce path comme le suivant:"
   ]
  },
  {
   "cell_type": "code",
   "execution_count": 8,
   "metadata": {
    "colab": {},
    "colab_type": "code",
    "id": "beI4YxO5rvRh",
    "outputId": "68e0b9c8-b1ed-4593-d73a-72d247e7a447"
   },
   "outputs": [
    {
     "data": {
      "text/plain": [
       "'/home/jackson/PycharmProjects/python-tutorials/pandas/bitcoin_history.csv'"
      ]
     },
     "execution_count": 8,
     "metadata": {},
     "output_type": "execute_result"
    }
   ],
   "source": [
    "PATH = \"C:\\\\Users\\\\mystery\\\\Downloads\" # on windows, we have to double backslashes\n",
    "PATH = \"/home/jackson/PycharmProjects/python-tutorials/pandas/\" # on linux/mac, slashes\n",
    "filename = \"bitcoin_history.csv\"\n",
    "\n",
    "os.path.join(PATH, filename) # s'occupe des slashes automatiquement"
   ]
  },
  {
   "cell_type": "markdown",
   "metadata": {
    "colab_type": "text",
    "id": "z7YrCijXrvRm"
   },
   "source": [
    "> Parfait, maintenant que nous somme capables d'avoir accès à des fichiers n'importe ou sur notre ordinateur, nous allons ouvrir le jeu de données.\n",
    "\n",
    "### 2.3 Les DataFrame \"Pandas\"\n",
    "> Le module pandas offre énormément de fonctionnalité pour les programmeurs jouant avec des jeux de données. Les DataFrame sont une composante intégrale de pandas qui correspond à une structure de données ayant des rangées ainsi que des colonnes. Les rangées, et les colonnes, sont identifiées par des noms. Nous pouvons ouvrir un fichier .csv directement en DataFrame avec la fonctionnalité \"read_csv\"."
   ]
  },
  {
   "cell_type": "code",
   "execution_count": 1,
   "metadata": {},
   "outputs": [
    {
     "name": "stdout",
     "output_type": "stream",
     "text": [
      "Requirement already satisfied: expects in /home/jackson/anaconda3/lib/python3.7/site-packages (0.9.0)\n"
     ]
    }
   ],
   "source": [
    "!pip install expects"
   ]
  },
  {
   "cell_type": "code",
   "execution_count": 9,
   "metadata": {
    "colab": {
     "base_uri": "https://localhost:8080/",
     "height": 468,
     "resources": {
      "http://localhost:8080/nbextensions/google.colab/files.js": {
       "data": "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",
       "headers": [
        [
         "content-length",
         "5492"
        ],
        [
         "content-type",
         "application/javascript"
        ]
       ],
       "ok": true,
       "status": 200,
       "status_text": "OK"
      }
     }
    },
    "colab_type": "code",
    "executionInfo": {
     "elapsed": 9410,
     "status": "ok",
     "timestamp": 1561064570278,
     "user": {
      "displayName": "Erik-Olivier Riendeau",
      "photoUrl": "",
      "userId": "00353816361356672599"
     },
     "user_tz": 240
    },
    "id": "uAZLxAJTrvRs",
    "outputId": "b3a7bd46-d30a-4b05-e0b8-b1fd1ff8d5db"
   },
   "outputs": [
    {
     "data": {
      "text/html": [
       "<div>\n",
       "<style scoped>\n",
       "    .dataframe tbody tr th:only-of-type {\n",
       "        vertical-align: middle;\n",
       "    }\n",
       "\n",
       "    .dataframe tbody tr th {\n",
       "        vertical-align: top;\n",
       "    }\n",
       "\n",
       "    .dataframe thead th {\n",
       "        text-align: right;\n",
       "    }\n",
       "</style>\n",
       "<table border=\"1\" class=\"dataframe\">\n",
       "  <thead>\n",
       "    <tr style=\"text-align: right;\">\n",
       "      <th></th>\n",
       "      <th>Date</th>\n",
       "      <th>Price</th>\n",
       "      <th>Open</th>\n",
       "      <th>High</th>\n",
       "      <th>Low</th>\n",
       "      <th>Vol.</th>\n",
       "      <th>Change %</th>\n",
       "    </tr>\n",
       "  </thead>\n",
       "  <tbody>\n",
       "    <tr>\n",
       "      <th>0</th>\n",
       "      <td>Aug 02, 2020</td>\n",
       "      <td>11,118.9</td>\n",
       "      <td>11,802.6</td>\n",
       "      <td>12,061.1</td>\n",
       "      <td>10,730.7</td>\n",
       "      <td>647.23K</td>\n",
       "      <td>-5.80%</td>\n",
       "    </tr>\n",
       "    <tr>\n",
       "      <th>1</th>\n",
       "      <td>Aug 01, 2020</td>\n",
       "      <td>11,803.1</td>\n",
       "      <td>11,333.2</td>\n",
       "      <td>11,847.7</td>\n",
       "      <td>11,226.1</td>\n",
       "      <td>611.47K</td>\n",
       "      <td>4.14%</td>\n",
       "    </tr>\n",
       "    <tr>\n",
       "      <th>2</th>\n",
       "      <td>Jul 31, 2020</td>\n",
       "      <td>11,333.4</td>\n",
       "      <td>11,096.5</td>\n",
       "      <td>11,434.8</td>\n",
       "      <td>10,964.6</td>\n",
       "      <td>530.95K</td>\n",
       "      <td>2.14%</td>\n",
       "    </tr>\n",
       "    <tr>\n",
       "      <th>3</th>\n",
       "      <td>Jul 30, 2020</td>\n",
       "      <td>11,096.2</td>\n",
       "      <td>11,105.8</td>\n",
       "      <td>11,164.4</td>\n",
       "      <td>10,861.6</td>\n",
       "      <td>501.14K</td>\n",
       "      <td>-0.09%</td>\n",
       "    </tr>\n",
       "    <tr>\n",
       "      <th>4</th>\n",
       "      <td>Jul 29, 2020</td>\n",
       "      <td>11,105.9</td>\n",
       "      <td>10,908.4</td>\n",
       "      <td>11,336.5</td>\n",
       "      <td>10,771.8</td>\n",
       "      <td>576.83K</td>\n",
       "      <td>1.81%</td>\n",
       "    </tr>\n",
       "  </tbody>\n",
       "</table>\n",
       "</div>"
      ],
      "text/plain": [
       "           Date     Price      Open      High       Low     Vol. Change %\n",
       "0  Aug 02, 2020  11,118.9  11,802.6  12,061.1  10,730.7  647.23K   -5.80%\n",
       "1  Aug 01, 2020  11,803.1  11,333.2  11,847.7  11,226.1  611.47K    4.14%\n",
       "2  Jul 31, 2020  11,333.4  11,096.5  11,434.8  10,964.6  530.95K    2.14%\n",
       "3  Jul 30, 2020  11,096.2  11,105.8  11,164.4  10,861.6  501.14K   -0.09%\n",
       "4  Jul 29, 2020  11,105.9  10,908.4  11,336.5  10,771.8  576.83K    1.81%"
      ]
     },
     "execution_count": 9,
     "metadata": {},
     "output_type": "execute_result"
    }
   ],
   "source": [
    "from expects import expect, equal, contain_exactly\n",
    "import pandas as pd\n",
    "\n",
    "# open the file \"bitcoin_history.csv\"\n",
    "#bitcoin_data = pd.read_csv(os.path.join(PATH, filename))\n",
    "# let's be lazy\n",
    "bitcoin_data = pd.read_csv(\"https://raw.githubusercontent.com/erikmagic/python-tutorials/master/pandas/bitcoin_history.csv\")\n",
    "'''\n",
    "import io\n",
    "from google.colab import files\n",
    "uploaded = files.upload()\n",
    "star_wars_data = pd.read_csv(io.StringIO(uploaded['bitcoin_history.csv'].decode()))\n",
    "'''\n",
    "\n",
    "bitcoin_data.head() # head() returns the 5 first rows by default"
   ]
  },
  {
   "cell_type": "markdown",
   "metadata": {
    "colab_type": "text",
    "id": "K9VDBCxcrvRv"
   },
   "source": [
    "#### 2.3.1 Les différentes façons d'accéder aux données dans un DataFrame\n",
    "\n",
    "> La fonction employée dans la cellule précédente était *head()* qui affiche les 5 premières rangées par défaut, avec toutes les colonnes. Les fonctions *iloc* et *loc* nous donne plus de flexibilité. Ces fonctions sont basées sur les principes du _slicing_ et du _indexing_, vu précédemment.  \n",
    "*iloc* nous permet d'accéder à nos données avec des indices (entrants numériques) tandis que *loc* nous permet d'accéder à nos données avec le nom des colonnes et des rangées."
   ]
  },
  {
   "cell_type": "code",
   "execution_count": 10,
   "metadata": {
    "colab": {},
    "colab_type": "code",
    "id": "l1118tdKrvRx",
    "outputId": "635d5a83-56c9-4897-8a85-db01ccf2f964"
   },
   "outputs": [
    {
     "data": {
      "text/plain": [
       "Date        Aug 02, 2020\n",
       "Price           11,118.9\n",
       "Open            11,802.6\n",
       "High            12,061.1\n",
       "Low             10,730.7\n",
       "Vol.             647.23K\n",
       "Change %          -5.80%\n",
       "Name: 0, dtype: object"
      ]
     },
     "execution_count": 10,
     "metadata": {},
     "output_type": "execute_result"
    }
   ],
   "source": [
    "# iloc fonctionne avec des valeurs numériques\n",
    "bitcoin_data.iloc[0] # retourne la première rangée"
   ]
  },
  {
   "cell_type": "code",
   "execution_count": 11,
   "metadata": {
    "colab": {},
    "colab_type": "code",
    "id": "aJSqjX68rvR2",
    "outputId": "1d206d52-5724-48b3-8ff7-b03abb40ed79"
   },
   "outputs": [
    {
     "data": {
      "text/html": [
       "<div>\n",
       "<style scoped>\n",
       "    .dataframe tbody tr th:only-of-type {\n",
       "        vertical-align: middle;\n",
       "    }\n",
       "\n",
       "    .dataframe tbody tr th {\n",
       "        vertical-align: top;\n",
       "    }\n",
       "\n",
       "    .dataframe thead th {\n",
       "        text-align: right;\n",
       "    }\n",
       "</style>\n",
       "<table border=\"1\" class=\"dataframe\">\n",
       "  <thead>\n",
       "    <tr style=\"text-align: right;\">\n",
       "      <th></th>\n",
       "      <th>Date</th>\n",
       "      <th>Price</th>\n",
       "      <th>Open</th>\n",
       "      <th>High</th>\n",
       "      <th>Low</th>\n",
       "      <th>Vol.</th>\n",
       "      <th>Change %</th>\n",
       "    </tr>\n",
       "  </thead>\n",
       "  <tbody>\n",
       "    <tr>\n",
       "      <th>0</th>\n",
       "      <td>Aug 02, 2020</td>\n",
       "      <td>11,118.9</td>\n",
       "      <td>11,802.6</td>\n",
       "      <td>12,061.1</td>\n",
       "      <td>10,730.7</td>\n",
       "      <td>647.23K</td>\n",
       "      <td>-5.80%</td>\n",
       "    </tr>\n",
       "    <tr>\n",
       "      <th>2</th>\n",
       "      <td>Jul 31, 2020</td>\n",
       "      <td>11,333.4</td>\n",
       "      <td>11,096.5</td>\n",
       "      <td>11,434.8</td>\n",
       "      <td>10,964.6</td>\n",
       "      <td>530.95K</td>\n",
       "      <td>2.14%</td>\n",
       "    </tr>\n",
       "    <tr>\n",
       "      <th>3</th>\n",
       "      <td>Jul 30, 2020</td>\n",
       "      <td>11,096.2</td>\n",
       "      <td>11,105.8</td>\n",
       "      <td>11,164.4</td>\n",
       "      <td>10,861.6</td>\n",
       "      <td>501.14K</td>\n",
       "      <td>-0.09%</td>\n",
       "    </tr>\n",
       "  </tbody>\n",
       "</table>\n",
       "</div>"
      ],
      "text/plain": [
       "           Date     Price      Open      High       Low     Vol. Change %\n",
       "0  Aug 02, 2020  11,118.9  11,802.6  12,061.1  10,730.7  647.23K   -5.80%\n",
       "2  Jul 31, 2020  11,333.4  11,096.5  11,434.8  10,964.6  530.95K    2.14%\n",
       "3  Jul 30, 2020  11,096.2  11,105.8  11,164.4  10,861.6  501.14K   -0.09%"
      ]
     },
     "execution_count": 11,
     "metadata": {},
     "output_type": "execute_result"
    }
   ],
   "source": [
    "# iloc peut retourner plusieurs rangées avec des listes comme entrant\n",
    "bitcoin_data.iloc[[0,2,3]] # retourne la première, troisième ainsi que la quatrième rangée"
   ]
  },
  {
   "cell_type": "code",
   "execution_count": 12,
   "metadata": {
    "colab": {
     "base_uri": "https://localhost:8080/",
     "height": 411
    },
    "colab_type": "code",
    "executionInfo": {
     "elapsed": 614,
     "status": "ok",
     "timestamp": 1561064800824,
     "user": {
      "displayName": "Erik-Olivier Riendeau",
      "photoUrl": "",
      "userId": "00353816361356672599"
     },
     "user_tz": 240
    },
    "id": "-XVuhCP2rvR6",
    "outputId": "ac52cfcc-035c-4722-b0bb-d54879e6962e"
   },
   "outputs": [
    {
     "data": {
      "text/html": [
       "<div>\n",
       "<style scoped>\n",
       "    .dataframe tbody tr th:only-of-type {\n",
       "        vertical-align: middle;\n",
       "    }\n",
       "\n",
       "    .dataframe tbody tr th {\n",
       "        vertical-align: top;\n",
       "    }\n",
       "\n",
       "    .dataframe thead th {\n",
       "        text-align: right;\n",
       "    }\n",
       "</style>\n",
       "<table border=\"1\" class=\"dataframe\">\n",
       "  <thead>\n",
       "    <tr style=\"text-align: right;\">\n",
       "      <th></th>\n",
       "      <th>Date</th>\n",
       "      <th>Price</th>\n",
       "      <th>Open</th>\n",
       "      <th>High</th>\n",
       "      <th>Low</th>\n",
       "      <th>Vol.</th>\n",
       "      <th>Change %</th>\n",
       "    </tr>\n",
       "  </thead>\n",
       "  <tbody>\n",
       "    <tr>\n",
       "      <th>0</th>\n",
       "      <td>Aug 02, 2020</td>\n",
       "      <td>11,118.9</td>\n",
       "      <td>11,802.6</td>\n",
       "      <td>12,061.1</td>\n",
       "      <td>10,730.7</td>\n",
       "      <td>647.23K</td>\n",
       "      <td>-5.80%</td>\n",
       "    </tr>\n",
       "    <tr>\n",
       "      <th>1</th>\n",
       "      <td>Aug 01, 2020</td>\n",
       "      <td>11,803.1</td>\n",
       "      <td>11,333.2</td>\n",
       "      <td>11,847.7</td>\n",
       "      <td>11,226.1</td>\n",
       "      <td>611.47K</td>\n",
       "      <td>4.14%</td>\n",
       "    </tr>\n",
       "    <tr>\n",
       "      <th>2</th>\n",
       "      <td>Jul 31, 2020</td>\n",
       "      <td>11,333.4</td>\n",
       "      <td>11,096.5</td>\n",
       "      <td>11,434.8</td>\n",
       "      <td>10,964.6</td>\n",
       "      <td>530.95K</td>\n",
       "      <td>2.14%</td>\n",
       "    </tr>\n",
       "    <tr>\n",
       "      <th>3</th>\n",
       "      <td>Jul 30, 2020</td>\n",
       "      <td>11,096.2</td>\n",
       "      <td>11,105.8</td>\n",
       "      <td>11,164.4</td>\n",
       "      <td>10,861.6</td>\n",
       "      <td>501.14K</td>\n",
       "      <td>-0.09%</td>\n",
       "    </tr>\n",
       "    <tr>\n",
       "      <th>4</th>\n",
       "      <td>Jul 29, 2020</td>\n",
       "      <td>11,105.9</td>\n",
       "      <td>10,908.4</td>\n",
       "      <td>11,336.5</td>\n",
       "      <td>10,771.8</td>\n",
       "      <td>576.83K</td>\n",
       "      <td>1.81%</td>\n",
       "    </tr>\n",
       "  </tbody>\n",
       "</table>\n",
       "</div>"
      ],
      "text/plain": [
       "           Date     Price      Open      High       Low     Vol. Change %\n",
       "0  Aug 02, 2020  11,118.9  11,802.6  12,061.1  10,730.7  647.23K   -5.80%\n",
       "1  Aug 01, 2020  11,803.1  11,333.2  11,847.7  11,226.1  611.47K    4.14%\n",
       "2  Jul 31, 2020  11,333.4  11,096.5  11,434.8  10,964.6  530.95K    2.14%\n",
       "3  Jul 30, 2020  11,096.2  11,105.8  11,164.4  10,861.6  501.14K   -0.09%\n",
       "4  Jul 29, 2020  11,105.9  10,908.4  11,336.5  10,771.8  576.83K    1.81%"
      ]
     },
     "execution_count": 12,
     "metadata": {},
     "output_type": "execute_result"
    }
   ],
   "source": [
    "# iloc fonctionne également avec le slicing\n",
    "bitcoin_data.iloc[:5] # les 5 premières rangées ( l' équivalent de .head())"
   ]
  },
  {
   "cell_type": "code",
   "execution_count": 12,
   "metadata": {
    "colab": {
     "base_uri": "https://localhost:8080/",
     "height": 204
    },
    "colab_type": "code",
    "executionInfo": {
     "elapsed": 1313,
     "status": "ok",
     "timestamp": 1561064902052,
     "user": {
      "displayName": "Erik-Olivier Riendeau",
      "photoUrl": "",
      "userId": "00353816361356672599"
     },
     "user_tz": 240
    },
    "id": "n-bFUw5Ptn9d",
    "outputId": "e3e9414d-0ef6-495a-c913-da57b9f5c31b"
   },
   "outputs": [
    {
     "data": {
      "text/html": [
       "<div>\n",
       "<style scoped>\n",
       "    .dataframe tbody tr th:only-of-type {\n",
       "        vertical-align: middle;\n",
       "    }\n",
       "\n",
       "    .dataframe tbody tr th {\n",
       "        vertical-align: top;\n",
       "    }\n",
       "\n",
       "    .dataframe thead th {\n",
       "        text-align: right;\n",
       "    }\n",
       "</style>\n",
       "<table border=\"1\" class=\"dataframe\">\n",
       "  <thead>\n",
       "    <tr style=\"text-align: right;\">\n",
       "      <th></th>\n",
       "      <th>id</th>\n",
       "      <th>Seen_StarWars</th>\n",
       "    </tr>\n",
       "  </thead>\n",
       "  <tbody>\n",
       "    <tr>\n",
       "      <th>0</th>\n",
       "      <td>3292879998</td>\n",
       "      <td>Yes</td>\n",
       "    </tr>\n",
       "    <tr>\n",
       "      <th>1</th>\n",
       "      <td>3292879538</td>\n",
       "      <td>No</td>\n",
       "    </tr>\n",
       "    <tr>\n",
       "      <th>2</th>\n",
       "      <td>3292765271</td>\n",
       "      <td>Yes</td>\n",
       "    </tr>\n",
       "    <tr>\n",
       "      <th>3</th>\n",
       "      <td>3292763116</td>\n",
       "      <td>Yes</td>\n",
       "    </tr>\n",
       "    <tr>\n",
       "      <th>4</th>\n",
       "      <td>3292731220</td>\n",
       "      <td>Yes</td>\n",
       "    </tr>\n",
       "  </tbody>\n",
       "</table>\n",
       "</div>"
      ],
      "text/plain": [
       "           id Seen_StarWars\n",
       "0  3292879998           Yes\n",
       "1  3292879538            No\n",
       "2  3292765271           Yes\n",
       "3  3292763116           Yes\n",
       "4  3292731220           Yes"
      ]
     },
     "execution_count": 12,
     "metadata": {},
     "output_type": "execute_result"
    }
   ],
   "source": [
    "# iloc peut également être utilisé afin de retourner seulement certaines colonnes\n",
    "bitcoin_data.iloc[:5, :2] #retourne les deux premières colonnes des 5 premières rangées"
   ]
  },
  {
   "cell_type": "markdown",
   "metadata": {
    "colab_type": "text",
    "id": "9lnvS0lXuDo8"
   },
   "source": [
    "Dans l'exemple précédent \n",
    "```\n",
    "bitcoin_data.iloc[:5, :2]\n",
    "```\n",
    "Remarquez la virgule,  elle sépare les rangées des colonnes. La ligne suivante\n",
    "```\n",
    "bitcoin_data.iloc[:, :]\n",
    "```\n",
    "retourne l'ensemble des données dans le DataFrame. La suivante\n",
    "```\n",
    "bitcoin_data.iloc[0:1, 0:1]\n",
    "```\n",
    "retourne le premier élément (première rangée et première colonne).\n",
    "\n"
   ]
  },
  {
   "cell_type": "code",
   "execution_count": 13,
   "metadata": {
    "colab": {
     "base_uri": "https://localhost:8080/",
     "height": 80
    },
    "colab_type": "code",
    "executionInfo": {
     "elapsed": 918,
     "status": "ok",
     "timestamp": 1561066514332,
     "user": {
      "displayName": "Erik-Olivier Riendeau",
      "photoUrl": "",
      "userId": "00353816361356672599"
     },
     "user_tz": 240
    },
    "id": "XH9txQyguinK",
    "outputId": "090bbc28-e5d5-4af8-9d41-ba9130de9ef1"
   },
   "outputs": [
    {
     "data": {
      "text/html": [
       "<div>\n",
       "<style scoped>\n",
       "    .dataframe tbody tr th:only-of-type {\n",
       "        vertical-align: middle;\n",
       "    }\n",
       "\n",
       "    .dataframe tbody tr th {\n",
       "        vertical-align: top;\n",
       "    }\n",
       "\n",
       "    .dataframe thead th {\n",
       "        text-align: right;\n",
       "    }\n",
       "</style>\n",
       "<table border=\"1\" class=\"dataframe\">\n",
       "  <thead>\n",
       "    <tr style=\"text-align: right;\">\n",
       "      <th></th>\n",
       "      <th>Date</th>\n",
       "    </tr>\n",
       "  </thead>\n",
       "  <tbody>\n",
       "    <tr>\n",
       "      <th>0</th>\n",
       "      <td>Aug 02, 2020</td>\n",
       "    </tr>\n",
       "  </tbody>\n",
       "</table>\n",
       "</div>"
      ],
      "text/plain": [
       "           Date\n",
       "0  Aug 02, 2020"
      ]
     },
     "execution_count": 13,
     "metadata": {},
     "output_type": "execute_result"
    }
   ],
   "source": [
    "bitcoin_data.iloc[0:1, 0:1]"
   ]
  },
  {
   "cell_type": "code",
   "execution_count": 14,
   "metadata": {
    "colab": {
     "base_uri": "https://localhost:8080/",
     "height": 34
    },
    "colab_type": "code",
    "executionInfo": {
     "elapsed": 499,
     "status": "ok",
     "timestamp": 1561066529603,
     "user": {
      "displayName": "Erik-Olivier Riendeau",
      "photoUrl": "",
      "userId": "00353816361356672599"
     },
     "user_tz": 240
    },
    "id": "kaO14gKo0LFj",
    "outputId": "bda1384d-9a5b-4c09-c549-e31d86cd1fc6"
   },
   "outputs": [
    {
     "data": {
      "text/plain": [
       "pandas.core.frame.DataFrame"
      ]
     },
     "execution_count": 14,
     "metadata": {},
     "output_type": "execute_result"
    }
   ],
   "source": [
    "type(bitcoin_data.iloc[0:1, 0:1]) # retourne en fait un DataFrame"
   ]
  },
  {
   "cell_type": "code",
   "execution_count": 15,
   "metadata": {
    "colab": {
     "base_uri": "https://localhost:8080/",
     "height": 34
    },
    "colab_type": "code",
    "executionInfo": {
     "elapsed": 567,
     "status": "ok",
     "timestamp": 1561066470663,
     "user": {
      "displayName": "Erik-Olivier Riendeau",
      "photoUrl": "",
      "userId": "00353816361356672599"
     },
     "user_tz": 240
    },
    "id": "xC3XoYlUz5yX",
    "outputId": "863ca87a-030f-41fc-d03a-103db8130226"
   },
   "outputs": [
    {
     "data": {
      "text/plain": [
       "'Aug 02, 2020'"
      ]
     },
     "execution_count": 15,
     "metadata": {},
     "output_type": "execute_result"
    }
   ],
   "source": [
    "bitcoin_data.iloc[0, 0] # même chose que la cellule précédente"
   ]
  },
  {
   "cell_type": "code",
   "execution_count": 16,
   "metadata": {
    "colab": {
     "base_uri": "https://localhost:8080/",
     "height": 34
    },
    "colab_type": "code",
    "executionInfo": {
     "elapsed": 784,
     "status": "ok",
     "timestamp": 1561066561377,
     "user": {
      "displayName": "Erik-Olivier Riendeau",
      "photoUrl": "",
      "userId": "00353816361356672599"
     },
     "user_tz": 240
    },
    "id": "Y9djL9Gc0RiC",
    "outputId": "e0b0fc25-3aeb-4b25-d54b-e185ed127f6d"
   },
   "outputs": [
    {
     "data": {
      "text/plain": [
       "str"
      ]
     },
     "execution_count": 16,
     "metadata": {},
     "output_type": "execute_result"
    }
   ],
   "source": [
    "type(bitcoin_data.iloc[0, 0]) # retourne la valeur dans cette case"
   ]
  },
  {
   "cell_type": "code",
   "execution_count": 17,
   "metadata": {
    "colab": {
     "base_uri": "https://localhost:8080/",
     "height": 142
    },
    "colab_type": "code",
    "executionInfo": {
     "elapsed": 3589,
     "status": "ok",
     "timestamp": 1561065645193,
     "user": {
      "displayName": "Erik-Olivier Riendeau",
      "photoUrl": "",
      "userId": "00353816361356672599"
     },
     "user_tz": 240
    },
    "id": "7KAtswLLweuG",
    "outputId": "f5192c1b-3986-4f89-edc4-8add95c5097c"
   },
   "outputs": [
    {
     "data": {
      "text/html": [
       "<div>\n",
       "<style scoped>\n",
       "    .dataframe tbody tr th:only-of-type {\n",
       "        vertical-align: middle;\n",
       "    }\n",
       "\n",
       "    .dataframe tbody tr th {\n",
       "        vertical-align: top;\n",
       "    }\n",
       "\n",
       "    .dataframe thead th {\n",
       "        text-align: right;\n",
       "    }\n",
       "</style>\n",
       "<table border=\"1\" class=\"dataframe\">\n",
       "  <thead>\n",
       "    <tr style=\"text-align: right;\">\n",
       "      <th></th>\n",
       "      <th>Low</th>\n",
       "      <th>Vol.</th>\n",
       "    </tr>\n",
       "  </thead>\n",
       "  <tbody>\n",
       "    <tr>\n",
       "      <th>0</th>\n",
       "      <td>10,730.7</td>\n",
       "      <td>647.23K</td>\n",
       "    </tr>\n",
       "    <tr>\n",
       "      <th>1</th>\n",
       "      <td>11,226.1</td>\n",
       "      <td>611.47K</td>\n",
       "    </tr>\n",
       "    <tr>\n",
       "      <th>3</th>\n",
       "      <td>10,861.6</td>\n",
       "      <td>501.14K</td>\n",
       "    </tr>\n",
       "  </tbody>\n",
       "</table>\n",
       "</div>"
      ],
      "text/plain": [
       "        Low     Vol.\n",
       "0  10,730.7  647.23K\n",
       "1  11,226.1  611.47K\n",
       "3  10,861.6  501.14K"
      ]
     },
     "execution_count": 17,
     "metadata": {},
     "output_type": "execute_result"
    }
   ],
   "source": [
    "# on peut également donner des listes comme entrées\n",
    "bitcoin_data.iloc[[0,1,3], [4, 5]]"
   ]
  },
  {
   "cell_type": "markdown",
   "metadata": {},
   "source": [
    "> La fonction *loc* fonctionne avec des entrants en texte représentant le nom d'une rangée ou d'une colonne. "
   ]
  },
  {
   "cell_type": "code",
   "execution_count": 18,
   "metadata": {
    "colab": {
     "base_uri": "https://localhost:8080/",
     "height": 247
    },
    "colab_type": "code",
    "executionInfo": {
     "elapsed": 508,
     "status": "ok",
     "timestamp": 1561066098104,
     "user": {
      "displayName": "Erik-Olivier Riendeau",
      "photoUrl": "",
      "userId": "00353816361356672599"
     },
     "user_tz": 240
    },
    "id": "sAtAksUrw1Yt",
    "outputId": "8d818995-968c-425c-9ce7-a598c8d1e130"
   },
   "outputs": [
    {
     "data": {
      "text/html": [
       "<div>\n",
       "<style scoped>\n",
       "    .dataframe tbody tr th:only-of-type {\n",
       "        vertical-align: middle;\n",
       "    }\n",
       "\n",
       "    .dataframe tbody tr th {\n",
       "        vertical-align: top;\n",
       "    }\n",
       "\n",
       "    .dataframe thead th {\n",
       "        text-align: right;\n",
       "    }\n",
       "</style>\n",
       "<table border=\"1\" class=\"dataframe\">\n",
       "  <thead>\n",
       "    <tr style=\"text-align: right;\">\n",
       "      <th></th>\n",
       "      <th>Date</th>\n",
       "      <th>Price</th>\n",
       "      <th>Open</th>\n",
       "      <th>High</th>\n",
       "      <th>Low</th>\n",
       "      <th>Vol.</th>\n",
       "      <th>Change %</th>\n",
       "    </tr>\n",
       "  </thead>\n",
       "  <tbody>\n",
       "    <tr>\n",
       "      <th>0</th>\n",
       "      <td>Aug 02, 2020</td>\n",
       "      <td>11,118.9</td>\n",
       "      <td>11,802.6</td>\n",
       "      <td>12,061.1</td>\n",
       "      <td>10,730.7</td>\n",
       "      <td>647.23K</td>\n",
       "      <td>-5.80%</td>\n",
       "    </tr>\n",
       "    <tr>\n",
       "      <th>1</th>\n",
       "      <td>Aug 01, 2020</td>\n",
       "      <td>11,803.1</td>\n",
       "      <td>11,333.2</td>\n",
       "      <td>11,847.7</td>\n",
       "      <td>11,226.1</td>\n",
       "      <td>611.47K</td>\n",
       "      <td>4.14%</td>\n",
       "    </tr>\n",
       "    <tr>\n",
       "      <th>2</th>\n",
       "      <td>Jul 31, 2020</td>\n",
       "      <td>11,333.4</td>\n",
       "      <td>11,096.5</td>\n",
       "      <td>11,434.8</td>\n",
       "      <td>10,964.6</td>\n",
       "      <td>530.95K</td>\n",
       "      <td>2.14%</td>\n",
       "    </tr>\n",
       "  </tbody>\n",
       "</table>\n",
       "</div>"
      ],
      "text/plain": [
       "           Date     Price      Open      High       Low     Vol. Change %\n",
       "0  Aug 02, 2020  11,118.9  11,802.6  12,061.1  10,730.7  647.23K   -5.80%\n",
       "1  Aug 01, 2020  11,803.1  11,333.2  11,847.7  11,226.1  611.47K    4.14%\n",
       "2  Jul 31, 2020  11,333.4  11,096.5  11,434.8  10,964.6  530.95K    2.14%"
      ]
     },
     "execution_count": 18,
     "metadata": {},
     "output_type": "execute_result"
    }
   ],
   "source": [
    "bitcoin_data.loc[[0, 1, 2]] # en fait içi, nos noms de rangées sont des numéros"
   ]
  },
  {
   "cell_type": "code",
   "execution_count": 19,
   "metadata": {
    "colab": {
     "base_uri": "https://localhost:8080/",
     "height": 235
    },
    "colab_type": "code",
    "executionInfo": {
     "elapsed": 741,
     "status": "ok",
     "timestamp": 1561066254681,
     "user": {
      "displayName": "Erik-Olivier Riendeau",
      "photoUrl": "",
      "userId": "00353816361356672599"
     },
     "user_tz": 240
    },
    "id": "Gp7Ql6KJxabH",
    "outputId": "624b676b-c249-499d-e6f8-c00b111f2917"
   },
   "outputs": [
    {
     "data": {
      "text/html": [
       "<div>\n",
       "<style scoped>\n",
       "    .dataframe tbody tr th:only-of-type {\n",
       "        vertical-align: middle;\n",
       "    }\n",
       "\n",
       "    .dataframe tbody tr th {\n",
       "        vertical-align: top;\n",
       "    }\n",
       "\n",
       "    .dataframe thead th {\n",
       "        text-align: right;\n",
       "    }\n",
       "</style>\n",
       "<table border=\"1\" class=\"dataframe\">\n",
       "  <thead>\n",
       "    <tr style=\"text-align: right;\">\n",
       "      <th></th>\n",
       "      <th>Fan</th>\n",
       "      <th>Princess.Leia</th>\n",
       "    </tr>\n",
       "  </thead>\n",
       "  <tbody>\n",
       "    <tr>\n",
       "      <th>0</th>\n",
       "      <td>Yes</td>\n",
       "      <td>Very favorably</td>\n",
       "    </tr>\n",
       "    <tr>\n",
       "      <th>1</th>\n",
       "      <td>NaN</td>\n",
       "      <td>NaN</td>\n",
       "    </tr>\n",
       "    <tr>\n",
       "      <th>2</th>\n",
       "      <td>No</td>\n",
       "      <td>Somewhat favorably</td>\n",
       "    </tr>\n",
       "    <tr>\n",
       "      <th>3</th>\n",
       "      <td>Yes</td>\n",
       "      <td>Very favorably</td>\n",
       "    </tr>\n",
       "    <tr>\n",
       "      <th>4</th>\n",
       "      <td>Yes</td>\n",
       "      <td>Somewhat favorably</td>\n",
       "    </tr>\n",
       "    <tr>\n",
       "      <th>5</th>\n",
       "      <td>Yes</td>\n",
       "      <td>Very favorably</td>\n",
       "    </tr>\n",
       "  </tbody>\n",
       "</table>\n",
       "</div>"
      ],
      "text/plain": [
       "   Fan       Princess.Leia\n",
       "0  Yes      Very favorably\n",
       "1  NaN                 NaN\n",
       "2   No  Somewhat favorably\n",
       "3  Yes      Very favorably\n",
       "4  Yes  Somewhat favorably\n",
       "5  Yes      Very favorably"
      ]
     },
     "execution_count": 19,
     "metadata": {},
     "output_type": "execute_result"
    }
   ],
   "source": [
    "bitcoin_data.loc[:5, ['Fan', 'Princess.Leia']] # 5 première rangée et seulement 2 colonnes"
   ]
  },
  {
   "cell_type": "markdown",
   "metadata": {
    "colab_type": "text",
    "id": "b-v8DU2FzOrP"
   },
   "source": [
    "#### Exercice 1\n",
    "> Affichez la valeur de *Open* de la troisième date dans notre DataFrame en utilisant la fonction _loc_."
   ]
  },
  {
   "cell_type": "code",
   "execution_count": 20,
   "metadata": {
    "colab": {},
    "colab_type": "code",
    "id": "ayqvdntize78"
   },
   "outputs": [
    {
     "ename": "AssertionError",
     "evalue": "",
     "output_type": "error",
     "traceback": [
      "\u001b[1;31m---------------------------------------------------------------------------\u001b[0m",
      "\u001b[1;31mAssertionError\u001b[0m                            Traceback (most recent call last)",
      "\u001b[1;32m<ipython-input-20-cd9c9e2f214b>\u001b[0m in \u001b[0;36m<module>\u001b[1;34m\u001b[0m\n\u001b[0;32m      3\u001b[0m   \u001b[1;32mreturn\u001b[0m \u001b[0mx\u001b[0m\u001b[1;33m\u001b[0m\u001b[1;33m\u001b[0m\u001b[0m\n\u001b[0;32m      4\u001b[0m \u001b[1;33m\u001b[0m\u001b[0m\n\u001b[1;32m----> 5\u001b[1;33m \u001b[1;32massert\u001b[0m \u001b[0mexercice1\u001b[0m\u001b[1;33m(\u001b[0m\u001b[0mstar_wars_data\u001b[0m\u001b[1;33m)\u001b[0m \u001b[1;33m==\u001b[0m \u001b[1;34m'High school degree'\u001b[0m\u001b[1;33m\u001b[0m\u001b[1;33m\u001b[0m\u001b[0m\n\u001b[0m",
      "\u001b[1;31mAssertionError\u001b[0m: "
     ]
    }
   ],
   "source": [
    "x = None # assign the proper value to this variable\n",
    "\n",
    "expect(x).to(equal('11,096.5'))"
   ]
  },
  {
   "cell_type": "markdown",
   "metadata": {
    "colab_type": "text",
    "id": "fGQNigjx4dzo"
   },
   "source": [
    "#### Exercice 2\n",
    "> Affichez tous les *Change %* dans notre DataFrame en utilisant la fonction _loc_."
   ]
  },
  {
   "cell_type": "code",
   "execution_count": 19,
   "metadata": {},
   "outputs": [
    {
     "ename": "TypeError",
     "evalue": "'NoneType' object is not iterable",
     "output_type": "error",
     "traceback": [
      "\u001b[0;31m---------------------------------------------------------------------------\u001b[0m",
      "\u001b[0;31mTypeError\u001b[0m                                 Traceback (most recent call last)",
      "\u001b[0;32m<ipython-input-19-abf50170a7c1>\u001b[0m in \u001b[0;36m<module>\u001b[0;34m\u001b[0m\n\u001b[1;32m      1\u001b[0m \u001b[0mx\u001b[0m \u001b[0;34m=\u001b[0m \u001b[0;32mNone\u001b[0m\u001b[0;34m\u001b[0m\u001b[0;34m\u001b[0m\u001b[0m\n\u001b[0;32m----> 2\u001b[0;31m \u001b[0mexpect\u001b[0m\u001b[0;34m(\u001b[0m\u001b[0mlist\u001b[0m\u001b[0;34m(\u001b[0m\u001b[0mx\u001b[0m\u001b[0;34m)\u001b[0m\u001b[0;34m)\u001b[0m\u001b[0;34m.\u001b[0m\u001b[0mto\u001b[0m\u001b[0;34m(\u001b[0m\u001b[0;34m(\u001b[0m\u001b[0mcontain_exactly\u001b[0m\u001b[0;34m(\u001b[0m\u001b[0;34m*\u001b[0m\u001b[0mlist\u001b[0m\u001b[0;34m(\u001b[0m\u001b[0mpd\u001b[0m\u001b[0;34m.\u001b[0m\u001b[0mread_csv\u001b[0m\u001b[0;34m(\u001b[0m\u001b[0;34m\"https://raw.githubusercontent.com/erikmagic/python-tutorials/master/pandas/bitcoin_history.csv\"\u001b[0m\u001b[0;34m)\u001b[0m\u001b[0;34m[\u001b[0m\u001b[0;34m\"Change %\"\u001b[0m\u001b[0;34m]\u001b[0m\u001b[0;34m)\u001b[0m\u001b[0;34m)\u001b[0m\u001b[0;34m)\u001b[0m\u001b[0;34m)\u001b[0m\u001b[0;34m\u001b[0m\u001b[0;34m\u001b[0m\u001b[0m\n\u001b[0m",
      "\u001b[0;31mTypeError\u001b[0m: 'NoneType' object is not iterable"
     ]
    }
   ],
   "source": [
    "x = None\n",
    "expect(list(x)).to((contain_exactly(*list(pd.read_csv(\"https://raw.githubusercontent.com/erikmagic/python-tutorials/master/pandas/bitcoin_history.csv\")[\"Change %\"]))))"
   ]
  },
  {
   "cell_type": "markdown",
   "metadata": {},
   "source": [
    "### 2.4 Visualisation avec les DataFrames pandas\n",
    "> Les DataFrame pandas nous offrent directement la possibilité de visualiser nos données de différentes façons. Nous pouvons utiliser la fonction _plot_ directement sur un DataFrame que nous avons défini. La visualisation avec le module pandas nécessite le module *matplotlib*. Le module *matplotlib* est fréquemment utilisé pour la visualisation, également sur d'autres structures de données que les DataFrames de pandas comme des listes ou des arrays numpy."
   ]
  },
  {
   "cell_type": "code",
   "execution_count": 25,
   "metadata": {},
   "outputs": [],
   "source": [
    "import matplotlib.pyplot as plt\n",
    "import matplotlib\n",
    "import matplotlib.dates as mdates\n",
    "plt.close('all')"
   ]
  },
  {
   "cell_type": "code",
   "execution_count": 20,
   "metadata": {},
   "outputs": [],
   "source": [
    "# petit détour pour catégoriser nos données\n",
    "bitcoin_data['numerical_change'] = bitcoin_data['Change %'].str.extract(\"([-+]?\\d+.\\d+)\")[0].astype(\"float\")\n",
    "bitcoin_data['yield'] = pd.cut( bitcoin_data.numerical_change\n",
    "                               , 3\n",
    "                               , labels=['low yield', 'medium yield', 'high yield'])"
   ]
  },
  {
   "cell_type": "code",
   "execution_count": 21,
   "metadata": {},
   "outputs": [
    {
     "data": {
      "text/plain": [
       "<matplotlib.axes._subplots.AxesSubplot at 0x7f54cc53b4d0>"
      ]
     },
     "execution_count": 21,
     "metadata": {},
     "output_type": "execute_result"
    },
    {
     "data": {
      "image/png": "[encoded data removed]",
      "text/plain": [
       "<Figure size 432x288 with 1 Axes>"
      ]
     },
     "metadata": {
      "needs_background": "light"
     },
     "output_type": "display_data"
    }
   ],
   "source": [
    "bitcoin_data['yield'].value_counts().plot(kind='bar')"
   ]
  },
  {
   "cell_type": "code",
   "execution_count": 22,
   "metadata": {},
   "outputs": [
    {
     "data": {
      "text/plain": [
       "<matplotlib.axes._subplots.AxesSubplot at 0x7f54cb7f4110>"
      ]
     },
     "execution_count": 22,
     "metadata": {},
     "output_type": "execute_result"
    },
    {
     "data": {
      "image/png": "[encoded data removed]",
      "text/plain": [
       "<Figure size 432x288 with 1 Axes>"
      ]
     },
     "metadata": {},
     "output_type": "display_data"
    }
   ],
   "source": [
    "bitcoin_data['yield'].value_counts().plot(kind='pie')"
   ]
  },
  {
   "cell_type": "code",
   "execution_count": 23,
   "metadata": {},
   "outputs": [
    {
     "data": {
      "text/plain": [
       "<matplotlib.axes._subplots.AxesSubplot at 0x7f54cb7cd650>"
      ]
     },
     "execution_count": 23,
     "metadata": {},
     "output_type": "execute_result"
    },
    {
     "data": {
      "image/png": "[encoded data removed]",
      "text/plain": [
       "<Figure size 432x288 with 1 Axes>"
      ]
     },
     "metadata": {
      "needs_background": "light"
     },
     "output_type": "display_data"
    }
   ],
   "source": [
    "# remarquer le problème avec le graphique suivant!\n",
    "\n",
    "bitcoin_data['numerical_price'] = bitcoin_data.Price.str.replace(\",\", \"\").astype(\"float\")\n",
    "bitcoin_data.numerical_price.plot()"
   ]
  },
  {
   "cell_type": "markdown",
   "metadata": {},
   "source": [
    "### 2.4 Plus d'outils avec matplotlib.pyplot\n",
    "> Nous avons vu comment tracer des graphiques simples directement à partir d'un DataFrame. Par contre, quoique efficiente, cette façon est très limitée. Nous avons beaucoup plus d'options en utilisant les \"subplots\" de matplotlib.pyplot directement. Les avantages de matplotlib selon Wikipedia sont:  \n",
    "* Export possible en de nombreux formats matriciels (PNG, JPEG...) et vectoriels (PDF, SVG...)  \n",
    "* Documentation en ligne en quantité, nombreux exemples disponibles sur internet  \n",
    "* Forte communauté très active  \n",
    "* Interface pylab : reproduit fidèlement la syntaxe MATLAB  \n",
    "* Bibliothèque haut niveau : idéale pour le calcul interactif  \n",
    "\n",
    "> Deux autres packages pour la visualisation disponible en Python sont *plotly* et *seaborn*.  \n",
    "Rajoutons désormais des descriptions pour nos axes, un titre et une légende à notre graphique. Nous pouvons même changer la taille de nos graphes."
   ]
  },
  {
   "cell_type": "code",
   "execution_count": 26,
   "metadata": {},
   "outputs": [
    {
     "name": "stderr",
     "output_type": "stream",
     "text": [
      "/home/jackson/anaconda3/lib/python3.7/site-packages/ipykernel_launcher.py:2: SettingWithCopyWarning: \n",
      "A value is trying to be set on a copy of a slice from a DataFrame.\n",
      "Try using .loc[row_indexer,col_indexer] = value instead\n",
      "\n",
      "See the caveats in the documentation: https://pandas.pydata.org/pandas-docs/stable/user_guide/indexing.html#returning-a-view-versus-a-copy\n",
      "  \n"
     ]
    },
    {
     "data": {
      "image/png": "[encoded data removed]",
      "text/plain": [
       "<Figure size 720x720 with 1 Axes>"
      ]
     },
     "metadata": {
      "needs_background": "light"
     },
     "output_type": "display_data"
    }
   ],
   "source": [
    "bitcoin_dat = bitcoin_data[['Date', 'numerical_price']]\n",
    "bitcoin_dat['Date'] = pd.to_datetime(bitcoin_dat.Date, format=\"%b %d, %Y\")\n",
    "bitcoin_dat.set_index(\"Date\", inplace=True)\n",
    "\n",
    "fig, ax = plt.subplots(figsize=(10,10)) # modifier la taille de notre graphe. \n",
    "                # la taille défaut est 6.4 * 6.4 pouces\n",
    "plt.plot(bitcoin_dat, 'g^')\n",
    "plt.xlabel('Date')\n",
    "plt.ylabel('numerical_price')\n",
    "plt.legend(['Price'])\n",
    "plt.title('Recent price of bitcoin')\n",
    "\n",
    "date_fmt = mdates.DateFormatter(\"%Y%b\")\n",
    "ax.xaxis.set_major_formatter(date_fmt)\n"
   ]
  },
  {
   "cell_type": "code",
   "execution_count": 27,
   "metadata": {},
   "outputs": [
    {
     "name": "stderr",
     "output_type": "stream",
     "text": [
      "/home/jackson/anaconda3/lib/python3.7/site-packages/ipykernel_launcher.py:2: SettingWithCopyWarning: \n",
      "A value is trying to be set on a copy of a slice from a DataFrame.\n",
      "Try using .loc[row_indexer,col_indexer] = value instead\n",
      "\n",
      "See the caveats in the documentation: https://pandas.pydata.org/pandas-docs/stable/user_guide/indexing.html#returning-a-view-versus-a-copy\n",
      "  \n"
     ]
    },
    {
     "data": {
      "text/plain": [
       "<matplotlib.legend.Legend at 0x7f54cb637790>"
      ]
     },
     "execution_count": 27,
     "metadata": {},
     "output_type": "execute_result"
    },
    {
     "data": {
      "image/png": "[encoded data removed]",
      "text/plain": [
       "<Figure size 720x720 with 2 Axes>"
      ]
     },
     "metadata": {
      "needs_background": "light"
     },
     "output_type": "display_data"
    }
   ],
   "source": [
    "bitcoin_chg = bitcoin_data[['Date', 'numerical_change']]\n",
    "bitcoin_chg['Date'] = pd.to_datetime(bitcoin_chg.Date, format=\"%b %d, %Y\")\n",
    "bitcoin_chg.set_index(\"Date\", inplace=True)\n",
    "\n",
    "\n",
    "figure, axes = plt.subplots(2, 1, figsize=(10,10)) # 2 * 1 graphes avec la dimension spécifiée\n",
    "# écrivons le titre de l'ensemble de graphe.\n",
    "figure.suptitle('Titre des 2 sous graphes')\n",
    "\n",
    "# retrouvons les axes de notre \"subplots\" qui représent des sous-graphes dans notre image\n",
    "ax1 = axes[0]\n",
    "ax2 = axes[1]\n",
    "\n",
    "# affichons le premier dataframe en vert\n",
    "ax1.plot(bitcoin_dat, 'g^')\n",
    "\n",
    "# affichons le deuxième dataframe en rouge\n",
    "ax2.plot(bitcoin_chg, 'r-')\n",
    "\n",
    "\n",
    "# écrivons les titres des sous graphes\n",
    "ax1.set_title('Premier Graphe')\n",
    "ax2.set_title('Deuxième Graphe')\n",
    "\n",
    "# écrivons des descriptions des axes des sous graphes\n",
    "ax1.set_xlabel('Date')\n",
    "ax2.set_xlabel('Date')\n",
    "\n",
    "ax1.set_ylabel('Valeur')\n",
    "ax2.set_ylabel('Valeur')\n",
    "\n",
    "# écrivons des légendes\n",
    "ax1.legend(['Ma légende 1'])\n",
    "ax2.legend(['Ma légende 2'])\n",
    "\n",
    "\n"
   ]
  },
  {
   "cell_type": "markdown",
   "metadata": {},
   "source": [
    "### 2.5 Statistiques descriptive avec les DataFrame pandas\n",
    "> Nous pouvons directement générer une description qui résume notre jeu de données lorsqu'il est dans le format DataFrame. Par défaut, la description ciblera tous les colonnes numériques."
   ]
  },
  {
   "cell_type": "code",
   "execution_count": 28,
   "metadata": {},
   "outputs": [
    {
     "data": {
      "text/html": [
       "<div>\n",
       "<style scoped>\n",
       "    .dataframe tbody tr th:only-of-type {\n",
       "        vertical-align: middle;\n",
       "    }\n",
       "\n",
       "    .dataframe tbody tr th {\n",
       "        vertical-align: top;\n",
       "    }\n",
       "\n",
       "    .dataframe thead th {\n",
       "        text-align: right;\n",
       "    }\n",
       "</style>\n",
       "<table border=\"1\" class=\"dataframe\">\n",
       "  <thead>\n",
       "    <tr style=\"text-align: right;\">\n",
       "      <th></th>\n",
       "      <th>numerical_price</th>\n",
       "    </tr>\n",
       "  </thead>\n",
       "  <tbody>\n",
       "    <tr>\n",
       "      <th>count</th>\n",
       "      <td>32.000000</td>\n",
       "    </tr>\n",
       "    <tr>\n",
       "      <th>mean</th>\n",
       "      <td>9720.225000</td>\n",
       "    </tr>\n",
       "    <tr>\n",
       "      <th>std</th>\n",
       "      <td>826.585179</td>\n",
       "    </tr>\n",
       "    <tr>\n",
       "      <th>min</th>\n",
       "      <td>9067.100000</td>\n",
       "    </tr>\n",
       "    <tr>\n",
       "      <th>25%</th>\n",
       "      <td>9191.575000</td>\n",
       "    </tr>\n",
       "    <tr>\n",
       "      <th>50%</th>\n",
       "      <td>9292.950000</td>\n",
       "    </tr>\n",
       "    <tr>\n",
       "      <th>75%</th>\n",
       "      <td>9761.200000</td>\n",
       "    </tr>\n",
       "    <tr>\n",
       "      <th>max</th>\n",
       "      <td>11803.100000</td>\n",
       "    </tr>\n",
       "  </tbody>\n",
       "</table>\n",
       "</div>"
      ],
      "text/plain": [
       "       numerical_price\n",
       "count        32.000000\n",
       "mean       9720.225000\n",
       "std         826.585179\n",
       "min        9067.100000\n",
       "25%        9191.575000\n",
       "50%        9292.950000\n",
       "75%        9761.200000\n",
       "max       11803.100000"
      ]
     },
     "execution_count": 28,
     "metadata": {},
     "output_type": "execute_result"
    }
   ],
   "source": [
    "bitcoin_dat.describe()"
   ]
  },
  {
   "cell_type": "code",
   "execution_count": 29,
   "metadata": {},
   "outputs": [
    {
     "data": {
      "text/html": [
       "<div>\n",
       "<style scoped>\n",
       "    .dataframe tbody tr th:only-of-type {\n",
       "        vertical-align: middle;\n",
       "    }\n",
       "\n",
       "    .dataframe tbody tr th {\n",
       "        vertical-align: top;\n",
       "    }\n",
       "\n",
       "    .dataframe thead th {\n",
       "        text-align: right;\n",
       "    }\n",
       "</style>\n",
       "<table border=\"1\" class=\"dataframe\">\n",
       "  <thead>\n",
       "    <tr style=\"text-align: right;\">\n",
       "      <th></th>\n",
       "      <th>numerical_price</th>\n",
       "    </tr>\n",
       "  </thead>\n",
       "  <tbody>\n",
       "    <tr>\n",
       "      <th>count</th>\n",
       "      <td>32.000000</td>\n",
       "    </tr>\n",
       "    <tr>\n",
       "      <th>mean</th>\n",
       "      <td>9720.225000</td>\n",
       "    </tr>\n",
       "    <tr>\n",
       "      <th>std</th>\n",
       "      <td>826.585179</td>\n",
       "    </tr>\n",
       "    <tr>\n",
       "      <th>min</th>\n",
       "      <td>9067.100000</td>\n",
       "    </tr>\n",
       "    <tr>\n",
       "      <th>25%</th>\n",
       "      <td>9191.575000</td>\n",
       "    </tr>\n",
       "    <tr>\n",
       "      <th>50%</th>\n",
       "      <td>9292.950000</td>\n",
       "    </tr>\n",
       "    <tr>\n",
       "      <th>75%</th>\n",
       "      <td>9761.200000</td>\n",
       "    </tr>\n",
       "    <tr>\n",
       "      <th>max</th>\n",
       "      <td>11803.100000</td>\n",
       "    </tr>\n",
       "  </tbody>\n",
       "</table>\n",
       "</div>"
      ],
      "text/plain": [
       "       numerical_price\n",
       "count        32.000000\n",
       "mean       9720.225000\n",
       "std         826.585179\n",
       "min        9067.100000\n",
       "25%        9191.575000\n",
       "50%        9292.950000\n",
       "75%        9761.200000\n",
       "max       11803.100000"
      ]
     },
     "execution_count": 29,
     "metadata": {},
     "output_type": "execute_result"
    }
   ],
   "source": [
    "# nous pouvons également afficher d'autres types\n",
    "# de données avec 'object' dans la liste à inclure\n",
    "include = ['object', 'float', 'int']\n",
    "bitcoin_dat.describe(include=include)"
   ]
  },
  {
   "cell_type": "markdown",
   "metadata": {},
   "source": [
    "> Nous allons concevoir un jeu de données aléatoires afin d'utiliser d'autres types de graphiques que ceux s'appliquant aux données catégoriques. Nous pourrions utiliser un vrai jeu de données, mais nous allons utiliser des données générer aléatoirement avec la fonction *randn* question d'efficacité.\n"
   ]
  },
  {
   "cell_type": "code",
   "execution_count": null,
   "metadata": {},
   "outputs": [],
   "source": [
    "import numpy as np\n",
    "# 1000 données\n",
    "x = np.random.randn(1000)\n",
    "y = pd.date_range('1/1/2019', periods=1000)\n",
    "df = pd.DataFrame(data=x, index=y)\n",
    "# nous pouvons changer le nom des colonnes\n",
    "df.columns = ['Valeur']\n",
    "df.head()"
   ]
  },
  {
   "cell_type": "markdown",
   "metadata": {},
   "source": [
    "#### Exercice 3\n",
    "> Reproduisez l'image suivante: \n",
    "![e3](https://i.ibb.co/263BrW8/image.png)  \n",
    "Tel que la taille est de 9 pouces * 9 pouces, les points sont des cercles, la couleur des points est jaune et on voit les informations (axes, légende..) sur l'image. Prenez notre jeu de données _df_. Évidemment vos points seront différents puisque le jeu de données est simulé aléatoirement."
   ]
  },
  {
   "cell_type": "code",
   "execution_count": 34,
   "metadata": {},
   "outputs": [],
   "source": [
    "# remplissez l'exercice 3 içi\n",
    "\n"
   ]
  }
 ],
 "metadata": {
  "colab": {
   "name": "python1.ipynb",
   "provenance": [],
   "version": "0.3.2"
  },
  "kernelspec": {
   "display_name": "Python 3",
   "language": "python",
   "name": "python3"
  },
  "language_info": {
   "codemirror_mode": {
    "name": "ipython",
    "version": 3
   },
   "file_extension": ".py",
   "mimetype": "text/x-python",
   "name": "python",
   "nbconvert_exporter": "python",
   "pygments_lexer": "ipython3",
   "version": "3.7.3"
  }
 },
 "nbformat": 4,
 "nbformat_minor": 4
}
