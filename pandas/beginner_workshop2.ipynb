{
 "cells": [
  {
   "cell_type": "markdown",
   "metadata": {},
   "source": [
    "# Python Beginner Workshop 2"
   ]
  },
  {
   "cell_type": "markdown",
   "metadata": {},
   "source": [
    "### 2.1 Quick overview of modules in Python\n",
    "> Modules are groups of classes and functions. When we import a module, we can use these classes and functions in our code. The following snippets show how to import and use functions and classes inside a module.\n",
    "> For instance, the *numpy* module offers powerful N-dimensional array object, linear algebra operations and Fourier transforms."
   ]
  },
  {
   "cell_type": "code",
   "execution_count": 20,
   "metadata": {},
   "outputs": [
    {
     "data": {
      "text/plain": [
       "'Tue Jun 25 22:14:49 2019'"
      ]
     },
     "execution_count": 20,
     "metadata": {},
     "output_type": "execute_result"
    }
   ],
   "source": [
    "import time # time is a module\n",
    "\n",
    "time.asctime() # we call the function asctime from the time module\n",
    "    # by writing the module following by a point before the \n",
    "    # function we want to use. "
   ]
  },
  {
   "cell_type": "code",
   "execution_count": 21,
   "metadata": {},
   "outputs": [
    {
     "data": {
      "text/plain": [
       "array([ 0.1       ,  0.30204082,  0.50408163,  0.70612245,  0.90816327,\n",
       "        1.11020408,  1.3122449 ,  1.51428571,  1.71632653,  1.91836735,\n",
       "        2.12040816,  2.32244898,  2.5244898 ,  2.72653061,  2.92857143,\n",
       "        3.13061224,  3.33265306,  3.53469388,  3.73673469,  3.93877551,\n",
       "        4.14081633,  4.34285714,  4.54489796,  4.74693878,  4.94897959,\n",
       "        5.15102041,  5.35306122,  5.55510204,  5.75714286,  5.95918367,\n",
       "        6.16122449,  6.36326531,  6.56530612,  6.76734694,  6.96938776,\n",
       "        7.17142857,  7.37346939,  7.5755102 ,  7.77755102,  7.97959184,\n",
       "        8.18163265,  8.38367347,  8.58571429,  8.7877551 ,  8.98979592,\n",
       "        9.19183673,  9.39387755,  9.59591837,  9.79795918, 10.        ])"
      ]
     },
     "execution_count": 21,
     "metadata": {},
     "output_type": "execute_result"
    }
   ],
   "source": [
    "import numpy as np # we can rename the module with the \"as\" keyword.\n",
    "    # Then, we refer to numpy as np in our code\n",
    "    \n",
    "np.linspace(0.1, 10) # same case as in our previous cell, except that\n",
    "    # now we wrote np instead of numpy before the dot and our function."
   ]
  },
  {
   "cell_type": "code",
   "execution_count": 22,
   "metadata": {},
   "outputs": [
    {
     "data": {
      "text/plain": [
       "array([1, 2, 3, 4])"
      ]
     },
     "execution_count": 22,
     "metadata": {},
     "output_type": "execute_result"
    }
   ],
   "source": [
    "from numpy import array # we can also directly import one or few functions\n",
    "    # or classes from a module using the import keyworkd.\n",
    "    \n",
    "\n",
    "array([1,2,3,4]) # because we directly imported the array class from the \n",
    "    # numpy module using the import keyword, we don't have to write \n",
    "    # the module name followed by a dot.\n"
   ]
  },
  {
   "cell_type": "markdown",
   "metadata": {},
   "source": [
    "### 2.2 Opening folders and understanding where you files are on your disk in Python.\n",
    "> The $os$ module allows you to access your filesystem and to intereact with files on your disk. The $os$ module works independently of your operating system. Using this module, we can open files stored in different folders."
   ]
  },
  {
   "cell_type": "code",
   "execution_count": 23,
   "metadata": {},
   "outputs": [
    {
     "data": {
      "text/plain": [
       "'C:\\\\Users\\\\mystery\\\\Documents\\\\python_tutorials'"
      ]
     },
     "execution_count": 23,
     "metadata": {},
     "output_type": "execute_result"
    }
   ],
   "source": [
    "import os\n",
    "os.getcwd() # shows the current working directory"
   ]
  },
  {
   "cell_type": "code",
   "execution_count": 24,
   "metadata": {},
   "outputs": [
    {
     "data": {
      "text/plain": [
       "['.ipynb_checkpoints',\n",
       " 'answers_1.ipynb',\n",
       " 'answers_2.ipynb',\n",
       " 'beginner_workshop2.ipynb',\n",
       " 'beginner_workshop_1.ipynb',\n",
       " 'requirements.txt',\n",
       " 'solutionnaire2.ipynb',\n",
       " 'solutionnaire_1.ipynb',\n",
       " 'starWarsClean.csv',\n",
       " 'tutoriel_débutant2.ipynb',\n",
       " 'tutoriel_débutant_1.ipynb']"
      ]
     },
     "execution_count": 24,
     "metadata": {},
     "output_type": "execute_result"
    }
   ],
   "source": [
    "os.listdir() # shows the files in your current directory"
   ]
  },
  {
   "cell_type": "markdown",
   "metadata": {},
   "source": [
    "> A usual situation is having to open a file in a specific folder. In our case, we want to open the file \"starWarsClean.csv\" which you can download [here](https://drive.google.com/file/d/1XNGKtLzBacQaaP7PgPgyfBHc3Ux1nl2w/view?usp=sharing). I assume that your file is in your download folder after you've downloaded it. This folder is probably somwhere like this,  \n",
    "![path](https://i.ibb.co/kS9XkKR/image.png)  \n",
    "Note that Windows use backslashes (\\). On the other hand, Linux and Mac uses forward slashes (/). So we would write our path like this:"
   ]
  },
  {
   "cell_type": "code",
   "execution_count": 25,
   "metadata": {},
   "outputs": [
    {
     "data": {
      "text/plain": [
       "'C:\\\\Users\\\\mystery\\\\Downloads\\\\starWarsClean.csv'"
      ]
     },
     "execution_count": 25,
     "metadata": {},
     "output_type": "execute_result"
    }
   ],
   "source": [
    "PATH = \"C:\\\\Users\\\\mystery\\\\Downloads\" # on windows, we have to double backslashes\n",
    "filename = \"starWarsClean.csv\"\n",
    "\n",
    "os.path.join(PATH, filename) # os path join deals automatically with slashes"
   ]
  },
  {
   "cell_type": "markdown",
   "metadata": {},
   "source": [
    "> Now that we have access to files anywhere on our computer, we will open the star wars dataset.\n",
    "\n",
    "### 2.3 Pandas DataFrame\n",
    "> The pandas module offers a tremendous amount of functionalities for python developers dealing with datasets. DataFrames are important components of the pandas module which represent a data type with rows and columns. Rows are internally represented as index. Both rows and columns have names. We can directly open a csv using the pandas module such that it is mapped to a DataFrame."
   ]
  },
  {
   "cell_type": "code",
   "execution_count": 26,
   "metadata": {},
   "outputs": [
    {
     "data": {
      "text/html": [
       "<div>\n",
       "<style scoped>\n",
       "    .dataframe tbody tr th:only-of-type {\n",
       "        vertical-align: middle;\n",
       "    }\n",
       "\n",
       "    .dataframe tbody tr th {\n",
       "        vertical-align: top;\n",
       "    }\n",
       "\n",
       "    .dataframe thead th {\n",
       "        text-align: right;\n",
       "    }\n",
       "</style>\n",
       "<table border=\"1\" class=\"dataframe\">\n",
       "  <thead>\n",
       "    <tr style=\"text-align: right;\">\n",
       "      <th></th>\n",
       "      <th>id</th>\n",
       "      <th>Seen_StarWars</th>\n",
       "      <th>Fan</th>\n",
       "      <th>Han_Solo</th>\n",
       "      <th>Luke_Skywalker</th>\n",
       "      <th>Princess.Leia</th>\n",
       "      <th>Anakin.Skywalker</th>\n",
       "      <th>Obi_Wan</th>\n",
       "      <th>Emperor_Palpatine</th>\n",
       "      <th>Darth_Vader</th>\n",
       "      <th>...</th>\n",
       "      <th>C3P0</th>\n",
       "      <th>R2D2</th>\n",
       "      <th>Jar_Jar_Binks</th>\n",
       "      <th>Padme_Amidala</th>\n",
       "      <th>Yoda</th>\n",
       "      <th>Who_shot_first</th>\n",
       "      <th>Gender</th>\n",
       "      <th>Age</th>\n",
       "      <th>Household_Income</th>\n",
       "      <th>Education</th>\n",
       "    </tr>\n",
       "  </thead>\n",
       "  <tbody>\n",
       "    <tr>\n",
       "      <th>0</th>\n",
       "      <td>3292879998</td>\n",
       "      <td>Yes</td>\n",
       "      <td>Yes</td>\n",
       "      <td>Very favorably</td>\n",
       "      <td>Very favorably</td>\n",
       "      <td>Very favorably</td>\n",
       "      <td>Very favorably</td>\n",
       "      <td>Very favorably</td>\n",
       "      <td>Very favorably</td>\n",
       "      <td>Very favorably</td>\n",
       "      <td>...</td>\n",
       "      <td>Very favorably</td>\n",
       "      <td>Very favorably</td>\n",
       "      <td>Very favorably</td>\n",
       "      <td>Very favorably</td>\n",
       "      <td>Very favorably</td>\n",
       "      <td>I don't understand this question</td>\n",
       "      <td>Male</td>\n",
       "      <td>24.0</td>\n",
       "      <td>NaN</td>\n",
       "      <td>High school degree</td>\n",
       "    </tr>\n",
       "    <tr>\n",
       "      <th>1</th>\n",
       "      <td>3292879538</td>\n",
       "      <td>No</td>\n",
       "      <td>NaN</td>\n",
       "      <td>NaN</td>\n",
       "      <td>NaN</td>\n",
       "      <td>NaN</td>\n",
       "      <td>NaN</td>\n",
       "      <td>NaN</td>\n",
       "      <td>NaN</td>\n",
       "      <td>NaN</td>\n",
       "      <td>...</td>\n",
       "      <td>NaN</td>\n",
       "      <td>NaN</td>\n",
       "      <td>NaN</td>\n",
       "      <td>NaN</td>\n",
       "      <td>NaN</td>\n",
       "      <td>NaN</td>\n",
       "      <td>Male</td>\n",
       "      <td>25.0</td>\n",
       "      <td>$0 - $24,999</td>\n",
       "      <td>Bachelor degree</td>\n",
       "    </tr>\n",
       "    <tr>\n",
       "      <th>2</th>\n",
       "      <td>3292765271</td>\n",
       "      <td>Yes</td>\n",
       "      <td>No</td>\n",
       "      <td>Somewhat favorably</td>\n",
       "      <td>Somewhat favorably</td>\n",
       "      <td>Somewhat favorably</td>\n",
       "      <td>Somewhat favorably</td>\n",
       "      <td>Somewhat favorably</td>\n",
       "      <td>Unfamiliar (N/A)</td>\n",
       "      <td>Unfamiliar (N/A)</td>\n",
       "      <td>...</td>\n",
       "      <td>Unfamiliar (N/A)</td>\n",
       "      <td>Unfamiliar (N/A)</td>\n",
       "      <td>Unfamiliar (N/A)</td>\n",
       "      <td>Unfamiliar (N/A)</td>\n",
       "      <td>Unfamiliar (N/A)</td>\n",
       "      <td>I don't understand this question</td>\n",
       "      <td>Male</td>\n",
       "      <td>29.0</td>\n",
       "      <td>$0 - $24,999</td>\n",
       "      <td>High school degree</td>\n",
       "    </tr>\n",
       "    <tr>\n",
       "      <th>3</th>\n",
       "      <td>3292763116</td>\n",
       "      <td>Yes</td>\n",
       "      <td>Yes</td>\n",
       "      <td>Very favorably</td>\n",
       "      <td>Very favorably</td>\n",
       "      <td>Very favorably</td>\n",
       "      <td>Very favorably</td>\n",
       "      <td>Very favorably</td>\n",
       "      <td>Somewhat favorably</td>\n",
       "      <td>Very favorably</td>\n",
       "      <td>...</td>\n",
       "      <td>Very favorably</td>\n",
       "      <td>Very favorably</td>\n",
       "      <td>Very favorably</td>\n",
       "      <td>Very favorably</td>\n",
       "      <td>Very favorably</td>\n",
       "      <td>I don't understand this question</td>\n",
       "      <td>Male</td>\n",
       "      <td>23.0</td>\n",
       "      <td>$100,000 - $149,999</td>\n",
       "      <td>Some college or Associate degree</td>\n",
       "    </tr>\n",
       "    <tr>\n",
       "      <th>4</th>\n",
       "      <td>3292731220</td>\n",
       "      <td>Yes</td>\n",
       "      <td>Yes</td>\n",
       "      <td>Very favorably</td>\n",
       "      <td>Somewhat favorably</td>\n",
       "      <td>Somewhat favorably</td>\n",
       "      <td>Somewhat unfavorably</td>\n",
       "      <td>Very favorably</td>\n",
       "      <td>Very unfavorably</td>\n",
       "      <td>Somewhat favorably</td>\n",
       "      <td>...</td>\n",
       "      <td>Somewhat favorably</td>\n",
       "      <td>Somewhat favorably</td>\n",
       "      <td>Very unfavorably</td>\n",
       "      <td>Somewhat favorably</td>\n",
       "      <td>Somewhat favorably</td>\n",
       "      <td>Greedo</td>\n",
       "      <td>Male</td>\n",
       "      <td>29.0</td>\n",
       "      <td>$100,000 - $149,999</td>\n",
       "      <td>Some college or Associate degree</td>\n",
       "    </tr>\n",
       "  </tbody>\n",
       "</table>\n",
       "<p>5 rows × 22 columns</p>\n",
       "</div>"
      ],
      "text/plain": [
       "           id Seen_StarWars  Fan            Han_Solo      Luke_Skywalker  \\\n",
       "0  3292879998           Yes  Yes      Very favorably      Very favorably   \n",
       "1  3292879538            No  NaN                 NaN                 NaN   \n",
       "2  3292765271           Yes   No  Somewhat favorably  Somewhat favorably   \n",
       "3  3292763116           Yes  Yes      Very favorably      Very favorably   \n",
       "4  3292731220           Yes  Yes      Very favorably  Somewhat favorably   \n",
       "\n",
       "        Princess.Leia      Anakin.Skywalker             Obi_Wan  \\\n",
       "0      Very favorably        Very favorably      Very favorably   \n",
       "1                 NaN                   NaN                 NaN   \n",
       "2  Somewhat favorably    Somewhat favorably  Somewhat favorably   \n",
       "3      Very favorably        Very favorably      Very favorably   \n",
       "4  Somewhat favorably  Somewhat unfavorably      Very favorably   \n",
       "\n",
       "    Emperor_Palpatine         Darth_Vader  ...                C3P0  \\\n",
       "0      Very favorably      Very favorably  ...      Very favorably   \n",
       "1                 NaN                 NaN  ...                 NaN   \n",
       "2    Unfamiliar (N/A)    Unfamiliar (N/A)  ...    Unfamiliar (N/A)   \n",
       "3  Somewhat favorably      Very favorably  ...      Very favorably   \n",
       "4    Very unfavorably  Somewhat favorably  ...  Somewhat favorably   \n",
       "\n",
       "                 R2D2     Jar_Jar_Binks       Padme_Amidala  \\\n",
       "0      Very favorably    Very favorably      Very favorably   \n",
       "1                 NaN               NaN                 NaN   \n",
       "2    Unfamiliar (N/A)  Unfamiliar (N/A)    Unfamiliar (N/A)   \n",
       "3      Very favorably    Very favorably      Very favorably   \n",
       "4  Somewhat favorably  Very unfavorably  Somewhat favorably   \n",
       "\n",
       "                 Yoda                    Who_shot_first Gender   Age  \\\n",
       "0      Very favorably  I don't understand this question   Male  24.0   \n",
       "1                 NaN                               NaN   Male  25.0   \n",
       "2    Unfamiliar (N/A)  I don't understand this question   Male  29.0   \n",
       "3      Very favorably  I don't understand this question   Male  23.0   \n",
       "4  Somewhat favorably                            Greedo   Male  29.0   \n",
       "\n",
       "      Household_Income                         Education  \n",
       "0                  NaN                High school degree  \n",
       "1         $0 - $24,999                   Bachelor degree  \n",
       "2         $0 - $24,999                High school degree  \n",
       "3  $100,000 - $149,999  Some college or Associate degree  \n",
       "4  $100,000 - $149,999  Some college or Associate degree  \n",
       "\n",
       "[5 rows x 22 columns]"
      ]
     },
     "execution_count": 26,
     "metadata": {},
     "output_type": "execute_result"
    }
   ],
   "source": [
    "import pandas as pd\n",
    "\n",
    "# open the file \"starWarsClean.csv\"\n",
    "star_wars_data = pd.read_csv(os.path.join(PATH, filename))\n",
    "'''\n",
    "import io\n",
    "from google.colab import files\n",
    "uploaded = files.upload()\n",
    "star_wars_data = pd.read_csv(io.StringIO(uploaded['starWarsClean.csv'].decode()))\n",
    "'''\n",
    "\n",
    "star_wars_data.head() # head() returns the 5 first rows by default"
   ]
  },
  {
   "cell_type": "markdown",
   "metadata": {},
   "source": [
    "#### 2.3.1 The different ways of retrieving data from a DataFrame\n",
    "> In the previous cell, we used the head() function which automatically returns the 5 first rows of our DataFrame. However, we might want to access other rows or elements of our DataFrame. The two main ways of doing so are the function *loc* and *iloc*. These functions use the _slicing_ and _indexing_ capabilities that we looked at previously.  \n",
    "> The *iloc* function is used to access our data with indices (numerical inputs) while the *loc* function is used to access our dataset with the name of our rows and columns."
   ]
  },
  {
   "cell_type": "code",
   "execution_count": 27,
   "metadata": {},
   "outputs": [
    {
     "data": {
      "text/plain": [
       "id                                         3292879998\n",
       "Seen_StarWars                                     Yes\n",
       "Fan                                               Yes\n",
       "Han_Solo                               Very favorably\n",
       "Luke_Skywalker                         Very favorably\n",
       "Princess.Leia                          Very favorably\n",
       "Anakin.Skywalker                       Very favorably\n",
       "Obi_Wan                                Very favorably\n",
       "Emperor_Palpatine                      Very favorably\n",
       "Darth_Vader                            Very favorably\n",
       "Lando_Calrissian                     Unfamiliar (N/A)\n",
       "Boba.Fett                            Unfamiliar (N/A)\n",
       "C3P0                                   Very favorably\n",
       "R2D2                                   Very favorably\n",
       "Jar_Jar_Binks                          Very favorably\n",
       "Padme_Amidala                          Very favorably\n",
       "Yoda                                   Very favorably\n",
       "Who_shot_first       I don't understand this question\n",
       "Gender                                           Male\n",
       "Age                                                24\n",
       "Household_Income                                  NaN\n",
       "Education                          High school degree\n",
       "Name: 0, dtype: object"
      ]
     },
     "execution_count": 27,
     "metadata": {},
     "output_type": "execute_result"
    }
   ],
   "source": [
    "# iloc use numerical inputs\n",
    "star_wars_data.iloc[0] # returns the first row"
   ]
  },
  {
   "cell_type": "code",
   "execution_count": 28,
   "metadata": {},
   "outputs": [
    {
     "data": {
      "text/html": [
       "<div>\n",
       "<style scoped>\n",
       "    .dataframe tbody tr th:only-of-type {\n",
       "        vertical-align: middle;\n",
       "    }\n",
       "\n",
       "    .dataframe tbody tr th {\n",
       "        vertical-align: top;\n",
       "    }\n",
       "\n",
       "    .dataframe thead th {\n",
       "        text-align: right;\n",
       "    }\n",
       "</style>\n",
       "<table border=\"1\" class=\"dataframe\">\n",
       "  <thead>\n",
       "    <tr style=\"text-align: right;\">\n",
       "      <th></th>\n",
       "      <th>id</th>\n",
       "      <th>Seen_StarWars</th>\n",
       "      <th>Fan</th>\n",
       "      <th>Han_Solo</th>\n",
       "      <th>Luke_Skywalker</th>\n",
       "      <th>Princess.Leia</th>\n",
       "      <th>Anakin.Skywalker</th>\n",
       "      <th>Obi_Wan</th>\n",
       "      <th>Emperor_Palpatine</th>\n",
       "      <th>Darth_Vader</th>\n",
       "      <th>...</th>\n",
       "      <th>C3P0</th>\n",
       "      <th>R2D2</th>\n",
       "      <th>Jar_Jar_Binks</th>\n",
       "      <th>Padme_Amidala</th>\n",
       "      <th>Yoda</th>\n",
       "      <th>Who_shot_first</th>\n",
       "      <th>Gender</th>\n",
       "      <th>Age</th>\n",
       "      <th>Household_Income</th>\n",
       "      <th>Education</th>\n",
       "    </tr>\n",
       "  </thead>\n",
       "  <tbody>\n",
       "    <tr>\n",
       "      <th>0</th>\n",
       "      <td>3292879998</td>\n",
       "      <td>Yes</td>\n",
       "      <td>Yes</td>\n",
       "      <td>Very favorably</td>\n",
       "      <td>Very favorably</td>\n",
       "      <td>Very favorably</td>\n",
       "      <td>Very favorably</td>\n",
       "      <td>Very favorably</td>\n",
       "      <td>Very favorably</td>\n",
       "      <td>Very favorably</td>\n",
       "      <td>...</td>\n",
       "      <td>Very favorably</td>\n",
       "      <td>Very favorably</td>\n",
       "      <td>Very favorably</td>\n",
       "      <td>Very favorably</td>\n",
       "      <td>Very favorably</td>\n",
       "      <td>I don't understand this question</td>\n",
       "      <td>Male</td>\n",
       "      <td>24.0</td>\n",
       "      <td>NaN</td>\n",
       "      <td>High school degree</td>\n",
       "    </tr>\n",
       "    <tr>\n",
       "      <th>2</th>\n",
       "      <td>3292765271</td>\n",
       "      <td>Yes</td>\n",
       "      <td>No</td>\n",
       "      <td>Somewhat favorably</td>\n",
       "      <td>Somewhat favorably</td>\n",
       "      <td>Somewhat favorably</td>\n",
       "      <td>Somewhat favorably</td>\n",
       "      <td>Somewhat favorably</td>\n",
       "      <td>Unfamiliar (N/A)</td>\n",
       "      <td>Unfamiliar (N/A)</td>\n",
       "      <td>...</td>\n",
       "      <td>Unfamiliar (N/A)</td>\n",
       "      <td>Unfamiliar (N/A)</td>\n",
       "      <td>Unfamiliar (N/A)</td>\n",
       "      <td>Unfamiliar (N/A)</td>\n",
       "      <td>Unfamiliar (N/A)</td>\n",
       "      <td>I don't understand this question</td>\n",
       "      <td>Male</td>\n",
       "      <td>29.0</td>\n",
       "      <td>$0 - $24,999</td>\n",
       "      <td>High school degree</td>\n",
       "    </tr>\n",
       "    <tr>\n",
       "      <th>3</th>\n",
       "      <td>3292763116</td>\n",
       "      <td>Yes</td>\n",
       "      <td>Yes</td>\n",
       "      <td>Very favorably</td>\n",
       "      <td>Very favorably</td>\n",
       "      <td>Very favorably</td>\n",
       "      <td>Very favorably</td>\n",
       "      <td>Very favorably</td>\n",
       "      <td>Somewhat favorably</td>\n",
       "      <td>Very favorably</td>\n",
       "      <td>...</td>\n",
       "      <td>Very favorably</td>\n",
       "      <td>Very favorably</td>\n",
       "      <td>Very favorably</td>\n",
       "      <td>Very favorably</td>\n",
       "      <td>Very favorably</td>\n",
       "      <td>I don't understand this question</td>\n",
       "      <td>Male</td>\n",
       "      <td>23.0</td>\n",
       "      <td>$100,000 - $149,999</td>\n",
       "      <td>Some college or Associate degree</td>\n",
       "    </tr>\n",
       "  </tbody>\n",
       "</table>\n",
       "<p>3 rows × 22 columns</p>\n",
       "</div>"
      ],
      "text/plain": [
       "           id Seen_StarWars  Fan            Han_Solo      Luke_Skywalker  \\\n",
       "0  3292879998           Yes  Yes      Very favorably      Very favorably   \n",
       "2  3292765271           Yes   No  Somewhat favorably  Somewhat favorably   \n",
       "3  3292763116           Yes  Yes      Very favorably      Very favorably   \n",
       "\n",
       "        Princess.Leia    Anakin.Skywalker             Obi_Wan  \\\n",
       "0      Very favorably      Very favorably      Very favorably   \n",
       "2  Somewhat favorably  Somewhat favorably  Somewhat favorably   \n",
       "3      Very favorably      Very favorably      Very favorably   \n",
       "\n",
       "    Emperor_Palpatine       Darth_Vader  ...              C3P0  \\\n",
       "0      Very favorably    Very favorably  ...    Very favorably   \n",
       "2    Unfamiliar (N/A)  Unfamiliar (N/A)  ...  Unfamiliar (N/A)   \n",
       "3  Somewhat favorably    Very favorably  ...    Very favorably   \n",
       "\n",
       "               R2D2     Jar_Jar_Binks     Padme_Amidala              Yoda  \\\n",
       "0    Very favorably    Very favorably    Very favorably    Very favorably   \n",
       "2  Unfamiliar (N/A)  Unfamiliar (N/A)  Unfamiliar (N/A)  Unfamiliar (N/A)   \n",
       "3    Very favorably    Very favorably    Very favorably    Very favorably   \n",
       "\n",
       "                     Who_shot_first Gender   Age     Household_Income  \\\n",
       "0  I don't understand this question   Male  24.0                  NaN   \n",
       "2  I don't understand this question   Male  29.0         $0 - $24,999   \n",
       "3  I don't understand this question   Male  23.0  $100,000 - $149,999   \n",
       "\n",
       "                          Education  \n",
       "0                High school degree  \n",
       "2                High school degree  \n",
       "3  Some college or Associate degree  \n",
       "\n",
       "[3 rows x 22 columns]"
      ]
     },
     "execution_count": 28,
     "metadata": {},
     "output_type": "execute_result"
    }
   ],
   "source": [
    "# iloc can return multiple rows at once if you give it a list as input\n",
    "star_wars_data.iloc[[0,2,3]] # returns the first, third and fourth rows"
   ]
  },
  {
   "cell_type": "code",
   "execution_count": 29,
   "metadata": {},
   "outputs": [
    {
     "data": {
      "text/html": [
       "<div>\n",
       "<style scoped>\n",
       "    .dataframe tbody tr th:only-of-type {\n",
       "        vertical-align: middle;\n",
       "    }\n",
       "\n",
       "    .dataframe tbody tr th {\n",
       "        vertical-align: top;\n",
       "    }\n",
       "\n",
       "    .dataframe thead th {\n",
       "        text-align: right;\n",
       "    }\n",
       "</style>\n",
       "<table border=\"1\" class=\"dataframe\">\n",
       "  <thead>\n",
       "    <tr style=\"text-align: right;\">\n",
       "      <th></th>\n",
       "      <th>id</th>\n",
       "      <th>Seen_StarWars</th>\n",
       "      <th>Fan</th>\n",
       "      <th>Han_Solo</th>\n",
       "      <th>Luke_Skywalker</th>\n",
       "      <th>Princess.Leia</th>\n",
       "      <th>Anakin.Skywalker</th>\n",
       "      <th>Obi_Wan</th>\n",
       "      <th>Emperor_Palpatine</th>\n",
       "      <th>Darth_Vader</th>\n",
       "      <th>...</th>\n",
       "      <th>C3P0</th>\n",
       "      <th>R2D2</th>\n",
       "      <th>Jar_Jar_Binks</th>\n",
       "      <th>Padme_Amidala</th>\n",
       "      <th>Yoda</th>\n",
       "      <th>Who_shot_first</th>\n",
       "      <th>Gender</th>\n",
       "      <th>Age</th>\n",
       "      <th>Household_Income</th>\n",
       "      <th>Education</th>\n",
       "    </tr>\n",
       "  </thead>\n",
       "  <tbody>\n",
       "    <tr>\n",
       "      <th>0</th>\n",
       "      <td>3292879998</td>\n",
       "      <td>Yes</td>\n",
       "      <td>Yes</td>\n",
       "      <td>Very favorably</td>\n",
       "      <td>Very favorably</td>\n",
       "      <td>Very favorably</td>\n",
       "      <td>Very favorably</td>\n",
       "      <td>Very favorably</td>\n",
       "      <td>Very favorably</td>\n",
       "      <td>Very favorably</td>\n",
       "      <td>...</td>\n",
       "      <td>Very favorably</td>\n",
       "      <td>Very favorably</td>\n",
       "      <td>Very favorably</td>\n",
       "      <td>Very favorably</td>\n",
       "      <td>Very favorably</td>\n",
       "      <td>I don't understand this question</td>\n",
       "      <td>Male</td>\n",
       "      <td>24.0</td>\n",
       "      <td>NaN</td>\n",
       "      <td>High school degree</td>\n",
       "    </tr>\n",
       "    <tr>\n",
       "      <th>1</th>\n",
       "      <td>3292879538</td>\n",
       "      <td>No</td>\n",
       "      <td>NaN</td>\n",
       "      <td>NaN</td>\n",
       "      <td>NaN</td>\n",
       "      <td>NaN</td>\n",
       "      <td>NaN</td>\n",
       "      <td>NaN</td>\n",
       "      <td>NaN</td>\n",
       "      <td>NaN</td>\n",
       "      <td>...</td>\n",
       "      <td>NaN</td>\n",
       "      <td>NaN</td>\n",
       "      <td>NaN</td>\n",
       "      <td>NaN</td>\n",
       "      <td>NaN</td>\n",
       "      <td>NaN</td>\n",
       "      <td>Male</td>\n",
       "      <td>25.0</td>\n",
       "      <td>$0 - $24,999</td>\n",
       "      <td>Bachelor degree</td>\n",
       "    </tr>\n",
       "    <tr>\n",
       "      <th>2</th>\n",
       "      <td>3292765271</td>\n",
       "      <td>Yes</td>\n",
       "      <td>No</td>\n",
       "      <td>Somewhat favorably</td>\n",
       "      <td>Somewhat favorably</td>\n",
       "      <td>Somewhat favorably</td>\n",
       "      <td>Somewhat favorably</td>\n",
       "      <td>Somewhat favorably</td>\n",
       "      <td>Unfamiliar (N/A)</td>\n",
       "      <td>Unfamiliar (N/A)</td>\n",
       "      <td>...</td>\n",
       "      <td>Unfamiliar (N/A)</td>\n",
       "      <td>Unfamiliar (N/A)</td>\n",
       "      <td>Unfamiliar (N/A)</td>\n",
       "      <td>Unfamiliar (N/A)</td>\n",
       "      <td>Unfamiliar (N/A)</td>\n",
       "      <td>I don't understand this question</td>\n",
       "      <td>Male</td>\n",
       "      <td>29.0</td>\n",
       "      <td>$0 - $24,999</td>\n",
       "      <td>High school degree</td>\n",
       "    </tr>\n",
       "    <tr>\n",
       "      <th>3</th>\n",
       "      <td>3292763116</td>\n",
       "      <td>Yes</td>\n",
       "      <td>Yes</td>\n",
       "      <td>Very favorably</td>\n",
       "      <td>Very favorably</td>\n",
       "      <td>Very favorably</td>\n",
       "      <td>Very favorably</td>\n",
       "      <td>Very favorably</td>\n",
       "      <td>Somewhat favorably</td>\n",
       "      <td>Very favorably</td>\n",
       "      <td>...</td>\n",
       "      <td>Very favorably</td>\n",
       "      <td>Very favorably</td>\n",
       "      <td>Very favorably</td>\n",
       "      <td>Very favorably</td>\n",
       "      <td>Very favorably</td>\n",
       "      <td>I don't understand this question</td>\n",
       "      <td>Male</td>\n",
       "      <td>23.0</td>\n",
       "      <td>$100,000 - $149,999</td>\n",
       "      <td>Some college or Associate degree</td>\n",
       "    </tr>\n",
       "    <tr>\n",
       "      <th>4</th>\n",
       "      <td>3292731220</td>\n",
       "      <td>Yes</td>\n",
       "      <td>Yes</td>\n",
       "      <td>Very favorably</td>\n",
       "      <td>Somewhat favorably</td>\n",
       "      <td>Somewhat favorably</td>\n",
       "      <td>Somewhat unfavorably</td>\n",
       "      <td>Very favorably</td>\n",
       "      <td>Very unfavorably</td>\n",
       "      <td>Somewhat favorably</td>\n",
       "      <td>...</td>\n",
       "      <td>Somewhat favorably</td>\n",
       "      <td>Somewhat favorably</td>\n",
       "      <td>Very unfavorably</td>\n",
       "      <td>Somewhat favorably</td>\n",
       "      <td>Somewhat favorably</td>\n",
       "      <td>Greedo</td>\n",
       "      <td>Male</td>\n",
       "      <td>29.0</td>\n",
       "      <td>$100,000 - $149,999</td>\n",
       "      <td>Some college or Associate degree</td>\n",
       "    </tr>\n",
       "  </tbody>\n",
       "</table>\n",
       "<p>5 rows × 22 columns</p>\n",
       "</div>"
      ],
      "text/plain": [
       "           id Seen_StarWars  Fan            Han_Solo      Luke_Skywalker  \\\n",
       "0  3292879998           Yes  Yes      Very favorably      Very favorably   \n",
       "1  3292879538            No  NaN                 NaN                 NaN   \n",
       "2  3292765271           Yes   No  Somewhat favorably  Somewhat favorably   \n",
       "3  3292763116           Yes  Yes      Very favorably      Very favorably   \n",
       "4  3292731220           Yes  Yes      Very favorably  Somewhat favorably   \n",
       "\n",
       "        Princess.Leia      Anakin.Skywalker             Obi_Wan  \\\n",
       "0      Very favorably        Very favorably      Very favorably   \n",
       "1                 NaN                   NaN                 NaN   \n",
       "2  Somewhat favorably    Somewhat favorably  Somewhat favorably   \n",
       "3      Very favorably        Very favorably      Very favorably   \n",
       "4  Somewhat favorably  Somewhat unfavorably      Very favorably   \n",
       "\n",
       "    Emperor_Palpatine         Darth_Vader  ...                C3P0  \\\n",
       "0      Very favorably      Very favorably  ...      Very favorably   \n",
       "1                 NaN                 NaN  ...                 NaN   \n",
       "2    Unfamiliar (N/A)    Unfamiliar (N/A)  ...    Unfamiliar (N/A)   \n",
       "3  Somewhat favorably      Very favorably  ...      Very favorably   \n",
       "4    Very unfavorably  Somewhat favorably  ...  Somewhat favorably   \n",
       "\n",
       "                 R2D2     Jar_Jar_Binks       Padme_Amidala  \\\n",
       "0      Very favorably    Very favorably      Very favorably   \n",
       "1                 NaN               NaN                 NaN   \n",
       "2    Unfamiliar (N/A)  Unfamiliar (N/A)    Unfamiliar (N/A)   \n",
       "3      Very favorably    Very favorably      Very favorably   \n",
       "4  Somewhat favorably  Very unfavorably  Somewhat favorably   \n",
       "\n",
       "                 Yoda                    Who_shot_first Gender   Age  \\\n",
       "0      Very favorably  I don't understand this question   Male  24.0   \n",
       "1                 NaN                               NaN   Male  25.0   \n",
       "2    Unfamiliar (N/A)  I don't understand this question   Male  29.0   \n",
       "3      Very favorably  I don't understand this question   Male  23.0   \n",
       "4  Somewhat favorably                            Greedo   Male  29.0   \n",
       "\n",
       "      Household_Income                         Education  \n",
       "0                  NaN                High school degree  \n",
       "1         $0 - $24,999                   Bachelor degree  \n",
       "2         $0 - $24,999                High school degree  \n",
       "3  $100,000 - $149,999  Some college or Associate degree  \n",
       "4  $100,000 - $149,999  Some college or Associate degree  \n",
       "\n",
       "[5 rows x 22 columns]"
      ]
     },
     "execution_count": 29,
     "metadata": {},
     "output_type": "execute_result"
    }
   ],
   "source": [
    "# we can slice a DataFrame using iloc\n",
    "star_wars_data.iloc[:5] # returns the first 5 rows just like the head function"
   ]
  },
  {
   "cell_type": "code",
   "execution_count": 30,
   "metadata": {},
   "outputs": [
    {
     "data": {
      "text/html": [
       "<div>\n",
       "<style scoped>\n",
       "    .dataframe tbody tr th:only-of-type {\n",
       "        vertical-align: middle;\n",
       "    }\n",
       "\n",
       "    .dataframe tbody tr th {\n",
       "        vertical-align: top;\n",
       "    }\n",
       "\n",
       "    .dataframe thead th {\n",
       "        text-align: right;\n",
       "    }\n",
       "</style>\n",
       "<table border=\"1\" class=\"dataframe\">\n",
       "  <thead>\n",
       "    <tr style=\"text-align: right;\">\n",
       "      <th></th>\n",
       "      <th>id</th>\n",
       "      <th>Seen_StarWars</th>\n",
       "    </tr>\n",
       "  </thead>\n",
       "  <tbody>\n",
       "    <tr>\n",
       "      <th>0</th>\n",
       "      <td>3292879998</td>\n",
       "      <td>Yes</td>\n",
       "    </tr>\n",
       "    <tr>\n",
       "      <th>1</th>\n",
       "      <td>3292879538</td>\n",
       "      <td>No</td>\n",
       "    </tr>\n",
       "    <tr>\n",
       "      <th>2</th>\n",
       "      <td>3292765271</td>\n",
       "      <td>Yes</td>\n",
       "    </tr>\n",
       "    <tr>\n",
       "      <th>3</th>\n",
       "      <td>3292763116</td>\n",
       "      <td>Yes</td>\n",
       "    </tr>\n",
       "    <tr>\n",
       "      <th>4</th>\n",
       "      <td>3292731220</td>\n",
       "      <td>Yes</td>\n",
       "    </tr>\n",
       "  </tbody>\n",
       "</table>\n",
       "</div>"
      ],
      "text/plain": [
       "           id Seen_StarWars\n",
       "0  3292879998           Yes\n",
       "1  3292879538            No\n",
       "2  3292765271           Yes\n",
       "3  3292763116           Yes\n",
       "4  3292731220           Yes"
      ]
     },
     "execution_count": 30,
     "metadata": {},
     "output_type": "execute_result"
    }
   ],
   "source": [
    "# iloc can be used to return a subset of columns (here we specify we want the 2 first columns - after the comma)\n",
    "star_wars_data.iloc[:5, :2] # returns the 2 first columns of the first 5 rows"
   ]
  },
  {
   "cell_type": "markdown",
   "metadata": {},
   "source": [
    "In the previous example\n",
    "```\n",
    "star_wars_data.iloc[:5, :2]\n",
    "```\n",
    "Notice the comma, it splits the rows from the columns. The following line\n",
    "```\n",
    "star_wars_data.iloc[:, :]\n",
    "```\n",
    "returns all data in our DataFrame (the complete DataFrame). While the following line\n",
    "```\n",
    "star_wars_data.iloc[0:1, 0:1]\n",
    "```\n",
    "returns only a DataFrame consisting of the very first element. (first row and fist column)\n"
   ]
  },
  {
   "cell_type": "code",
   "execution_count": 31,
   "metadata": {},
   "outputs": [
    {
     "data": {
      "text/html": [
       "<div>\n",
       "<style scoped>\n",
       "    .dataframe tbody tr th:only-of-type {\n",
       "        vertical-align: middle;\n",
       "    }\n",
       "\n",
       "    .dataframe tbody tr th {\n",
       "        vertical-align: top;\n",
       "    }\n",
       "\n",
       "    .dataframe thead th {\n",
       "        text-align: right;\n",
       "    }\n",
       "</style>\n",
       "<table border=\"1\" class=\"dataframe\">\n",
       "  <thead>\n",
       "    <tr style=\"text-align: right;\">\n",
       "      <th></th>\n",
       "      <th>id</th>\n",
       "    </tr>\n",
       "  </thead>\n",
       "  <tbody>\n",
       "    <tr>\n",
       "      <th>0</th>\n",
       "      <td>3292879998</td>\n",
       "    </tr>\n",
       "  </tbody>\n",
       "</table>\n",
       "</div>"
      ],
      "text/plain": [
       "           id\n",
       "0  3292879998"
      ]
     },
     "execution_count": 31,
     "metadata": {},
     "output_type": "execute_result"
    }
   ],
   "source": [
    "star_wars_data.iloc[0:1, 0:1]"
   ]
  },
  {
   "cell_type": "code",
   "execution_count": 32,
   "metadata": {},
   "outputs": [
    {
     "data": {
      "text/plain": [
       "pandas.core.frame.DataFrame"
      ]
     },
     "execution_count": 32,
     "metadata": {},
     "output_type": "execute_result"
    }
   ],
   "source": [
    "type(star_wars_data.iloc[0:1, 0:1]) # in fact this is a DataFrame, and now a number"
   ]
  },
  {
   "cell_type": "code",
   "execution_count": 33,
   "metadata": {},
   "outputs": [
    {
     "data": {
      "text/html": [
       "<div>\n",
       "<style scoped>\n",
       "    .dataframe tbody tr th:only-of-type {\n",
       "        vertical-align: middle;\n",
       "    }\n",
       "\n",
       "    .dataframe tbody tr th {\n",
       "        vertical-align: top;\n",
       "    }\n",
       "\n",
       "    .dataframe thead th {\n",
       "        text-align: right;\n",
       "    }\n",
       "</style>\n",
       "<table border=\"1\" class=\"dataframe\">\n",
       "  <thead>\n",
       "    <tr style=\"text-align: right;\">\n",
       "      <th></th>\n",
       "      <th>Luke_Skywalker</th>\n",
       "      <th>Princess.Leia</th>\n",
       "    </tr>\n",
       "  </thead>\n",
       "  <tbody>\n",
       "    <tr>\n",
       "      <th>0</th>\n",
       "      <td>Very favorably</td>\n",
       "      <td>Very favorably</td>\n",
       "    </tr>\n",
       "    <tr>\n",
       "      <th>1</th>\n",
       "      <td>NaN</td>\n",
       "      <td>NaN</td>\n",
       "    </tr>\n",
       "    <tr>\n",
       "      <th>3</th>\n",
       "      <td>Very favorably</td>\n",
       "      <td>Very favorably</td>\n",
       "    </tr>\n",
       "  </tbody>\n",
       "</table>\n",
       "</div>"
      ],
      "text/plain": [
       "   Luke_Skywalker   Princess.Leia\n",
       "0  Very favorably  Very favorably\n",
       "1             NaN             NaN\n",
       "3  Very favorably  Very favorably"
      ]
     },
     "execution_count": 33,
     "metadata": {},
     "output_type": "execute_result"
    }
   ],
   "source": [
    "# using lists as input\n",
    "star_wars_data.iloc[[0,1,3], [4, 5]]"
   ]
  },
  {
   "cell_type": "markdown",
   "metadata": {},
   "source": [
    "> *loc* works with text data. We use the columns and rows name to access the DataFram when using the *loc* function."
   ]
  },
  {
   "cell_type": "code",
   "execution_count": 34,
   "metadata": {},
   "outputs": [
    {
     "data": {
      "text/html": [
       "<div>\n",
       "<style scoped>\n",
       "    .dataframe tbody tr th:only-of-type {\n",
       "        vertical-align: middle;\n",
       "    }\n",
       "\n",
       "    .dataframe tbody tr th {\n",
       "        vertical-align: top;\n",
       "    }\n",
       "\n",
       "    .dataframe thead th {\n",
       "        text-align: right;\n",
       "    }\n",
       "</style>\n",
       "<table border=\"1\" class=\"dataframe\">\n",
       "  <thead>\n",
       "    <tr style=\"text-align: right;\">\n",
       "      <th></th>\n",
       "      <th>id</th>\n",
       "      <th>Seen_StarWars</th>\n",
       "      <th>Fan</th>\n",
       "      <th>Han_Solo</th>\n",
       "      <th>Luke_Skywalker</th>\n",
       "      <th>Princess.Leia</th>\n",
       "      <th>Anakin.Skywalker</th>\n",
       "      <th>Obi_Wan</th>\n",
       "      <th>Emperor_Palpatine</th>\n",
       "      <th>Darth_Vader</th>\n",
       "      <th>...</th>\n",
       "      <th>C3P0</th>\n",
       "      <th>R2D2</th>\n",
       "      <th>Jar_Jar_Binks</th>\n",
       "      <th>Padme_Amidala</th>\n",
       "      <th>Yoda</th>\n",
       "      <th>Who_shot_first</th>\n",
       "      <th>Gender</th>\n",
       "      <th>Age</th>\n",
       "      <th>Household_Income</th>\n",
       "      <th>Education</th>\n",
       "    </tr>\n",
       "  </thead>\n",
       "  <tbody>\n",
       "    <tr>\n",
       "      <th>0</th>\n",
       "      <td>3292879998</td>\n",
       "      <td>Yes</td>\n",
       "      <td>Yes</td>\n",
       "      <td>Very favorably</td>\n",
       "      <td>Very favorably</td>\n",
       "      <td>Very favorably</td>\n",
       "      <td>Very favorably</td>\n",
       "      <td>Very favorably</td>\n",
       "      <td>Very favorably</td>\n",
       "      <td>Very favorably</td>\n",
       "      <td>...</td>\n",
       "      <td>Very favorably</td>\n",
       "      <td>Very favorably</td>\n",
       "      <td>Very favorably</td>\n",
       "      <td>Very favorably</td>\n",
       "      <td>Very favorably</td>\n",
       "      <td>I don't understand this question</td>\n",
       "      <td>Male</td>\n",
       "      <td>24.0</td>\n",
       "      <td>NaN</td>\n",
       "      <td>High school degree</td>\n",
       "    </tr>\n",
       "    <tr>\n",
       "      <th>1</th>\n",
       "      <td>3292879538</td>\n",
       "      <td>No</td>\n",
       "      <td>NaN</td>\n",
       "      <td>NaN</td>\n",
       "      <td>NaN</td>\n",
       "      <td>NaN</td>\n",
       "      <td>NaN</td>\n",
       "      <td>NaN</td>\n",
       "      <td>NaN</td>\n",
       "      <td>NaN</td>\n",
       "      <td>...</td>\n",
       "      <td>NaN</td>\n",
       "      <td>NaN</td>\n",
       "      <td>NaN</td>\n",
       "      <td>NaN</td>\n",
       "      <td>NaN</td>\n",
       "      <td>NaN</td>\n",
       "      <td>Male</td>\n",
       "      <td>25.0</td>\n",
       "      <td>$0 - $24,999</td>\n",
       "      <td>Bachelor degree</td>\n",
       "    </tr>\n",
       "    <tr>\n",
       "      <th>2</th>\n",
       "      <td>3292765271</td>\n",
       "      <td>Yes</td>\n",
       "      <td>No</td>\n",
       "      <td>Somewhat favorably</td>\n",
       "      <td>Somewhat favorably</td>\n",
       "      <td>Somewhat favorably</td>\n",
       "      <td>Somewhat favorably</td>\n",
       "      <td>Somewhat favorably</td>\n",
       "      <td>Unfamiliar (N/A)</td>\n",
       "      <td>Unfamiliar (N/A)</td>\n",
       "      <td>...</td>\n",
       "      <td>Unfamiliar (N/A)</td>\n",
       "      <td>Unfamiliar (N/A)</td>\n",
       "      <td>Unfamiliar (N/A)</td>\n",
       "      <td>Unfamiliar (N/A)</td>\n",
       "      <td>Unfamiliar (N/A)</td>\n",
       "      <td>I don't understand this question</td>\n",
       "      <td>Male</td>\n",
       "      <td>29.0</td>\n",
       "      <td>$0 - $24,999</td>\n",
       "      <td>High school degree</td>\n",
       "    </tr>\n",
       "  </tbody>\n",
       "</table>\n",
       "<p>3 rows × 22 columns</p>\n",
       "</div>"
      ],
      "text/plain": [
       "           id Seen_StarWars  Fan            Han_Solo      Luke_Skywalker  \\\n",
       "0  3292879998           Yes  Yes      Very favorably      Very favorably   \n",
       "1  3292879538            No  NaN                 NaN                 NaN   \n",
       "2  3292765271           Yes   No  Somewhat favorably  Somewhat favorably   \n",
       "\n",
       "        Princess.Leia    Anakin.Skywalker             Obi_Wan  \\\n",
       "0      Very favorably      Very favorably      Very favorably   \n",
       "1                 NaN                 NaN                 NaN   \n",
       "2  Somewhat favorably  Somewhat favorably  Somewhat favorably   \n",
       "\n",
       "  Emperor_Palpatine       Darth_Vader  ...              C3P0  \\\n",
       "0    Very favorably    Very favorably  ...    Very favorably   \n",
       "1               NaN               NaN  ...               NaN   \n",
       "2  Unfamiliar (N/A)  Unfamiliar (N/A)  ...  Unfamiliar (N/A)   \n",
       "\n",
       "               R2D2     Jar_Jar_Binks     Padme_Amidala              Yoda  \\\n",
       "0    Very favorably    Very favorably    Very favorably    Very favorably   \n",
       "1               NaN               NaN               NaN               NaN   \n",
       "2  Unfamiliar (N/A)  Unfamiliar (N/A)  Unfamiliar (N/A)  Unfamiliar (N/A)   \n",
       "\n",
       "                     Who_shot_first Gender   Age Household_Income  \\\n",
       "0  I don't understand this question   Male  24.0              NaN   \n",
       "1                               NaN   Male  25.0     $0 - $24,999   \n",
       "2  I don't understand this question   Male  29.0     $0 - $24,999   \n",
       "\n",
       "            Education  \n",
       "0  High school degree  \n",
       "1     Bachelor degree  \n",
       "2  High school degree  \n",
       "\n",
       "[3 rows x 22 columns]"
      ]
     },
     "execution_count": 34,
     "metadata": {},
     "output_type": "execute_result"
    }
   ],
   "source": [
    "star_wars_data.loc[[0, 1, 2]] # in fact, our rows' name are number so same as iloc in this specific instance"
   ]
  },
  {
   "cell_type": "code",
   "execution_count": 35,
   "metadata": {},
   "outputs": [
    {
     "data": {
      "text/html": [
       "<div>\n",
       "<style scoped>\n",
       "    .dataframe tbody tr th:only-of-type {\n",
       "        vertical-align: middle;\n",
       "    }\n",
       "\n",
       "    .dataframe tbody tr th {\n",
       "        vertical-align: top;\n",
       "    }\n",
       "\n",
       "    .dataframe thead th {\n",
       "        text-align: right;\n",
       "    }\n",
       "</style>\n",
       "<table border=\"1\" class=\"dataframe\">\n",
       "  <thead>\n",
       "    <tr style=\"text-align: right;\">\n",
       "      <th></th>\n",
       "      <th>Fan</th>\n",
       "      <th>Princess.Leia</th>\n",
       "    </tr>\n",
       "  </thead>\n",
       "  <tbody>\n",
       "    <tr>\n",
       "      <th>0</th>\n",
       "      <td>Yes</td>\n",
       "      <td>Very favorably</td>\n",
       "    </tr>\n",
       "    <tr>\n",
       "      <th>1</th>\n",
       "      <td>NaN</td>\n",
       "      <td>NaN</td>\n",
       "    </tr>\n",
       "    <tr>\n",
       "      <th>2</th>\n",
       "      <td>No</td>\n",
       "      <td>Somewhat favorably</td>\n",
       "    </tr>\n",
       "    <tr>\n",
       "      <th>3</th>\n",
       "      <td>Yes</td>\n",
       "      <td>Very favorably</td>\n",
       "    </tr>\n",
       "    <tr>\n",
       "      <th>4</th>\n",
       "      <td>Yes</td>\n",
       "      <td>Somewhat favorably</td>\n",
       "    </tr>\n",
       "    <tr>\n",
       "      <th>5</th>\n",
       "      <td>Yes</td>\n",
       "      <td>Very favorably</td>\n",
       "    </tr>\n",
       "  </tbody>\n",
       "</table>\n",
       "</div>"
      ],
      "text/plain": [
       "   Fan       Princess.Leia\n",
       "0  Yes      Very favorably\n",
       "1  NaN                 NaN\n",
       "2   No  Somewhat favorably\n",
       "3  Yes      Very favorably\n",
       "4  Yes  Somewhat favorably\n",
       "5  Yes      Very favorably"
      ]
     },
     "execution_count": 35,
     "metadata": {},
     "output_type": "execute_result"
    }
   ],
   "source": [
    "star_wars_data.loc[:5, ['Fan', 'Princess.Leia']] # 5 first rows and only 2 columns"
   ]
  },
  {
   "cell_type": "markdown",
   "metadata": {},
   "source": [
    "#### Exercise 1\n",
    "> Display the *education* of the third person in our DataFrame using the _loc_ function."
   ]
  },
  {
   "cell_type": "code",
   "execution_count": 36,
   "metadata": {},
   "outputs": [
    {
     "ename": "AssertionError",
     "evalue": "",
     "output_type": "error",
     "traceback": [
      "\u001b[1;31m---------------------------------------------------------------------------\u001b[0m",
      "\u001b[1;31mAssertionError\u001b[0m                            Traceback (most recent call last)",
      "\u001b[1;32m<ipython-input-36-6d6540db55b9>\u001b[0m in \u001b[0;36m<module>\u001b[1;34m\u001b[0m\n\u001b[0;32m      3\u001b[0m   \u001b[1;32mreturn\u001b[0m \u001b[0mx\u001b[0m\u001b[1;33m\u001b[0m\u001b[1;33m\u001b[0m\u001b[0m\n\u001b[0;32m      4\u001b[0m \u001b[1;33m\u001b[0m\u001b[0m\n\u001b[1;32m----> 5\u001b[1;33m \u001b[1;32massert\u001b[0m \u001b[0mexercice1\u001b[0m\u001b[1;33m(\u001b[0m\u001b[0mstar_wars_data\u001b[0m\u001b[1;33m)\u001b[0m \u001b[1;33m==\u001b[0m \u001b[1;34m'High school degree'\u001b[0m\u001b[1;33m\u001b[0m\u001b[1;33m\u001b[0m\u001b[0m\n\u001b[0m",
      "\u001b[1;31mAssertionError\u001b[0m: "
     ]
    }
   ],
   "source": [
    "def exercice1(df):\n",
    "  x = None # modify this variable, you can assign other variables\n",
    "  return x\n",
    "\n",
    "assert exercice1(star_wars_data) == 'High school degree'"
   ]
  },
  {
   "cell_type": "markdown",
   "metadata": {},
   "source": [
    "#### Exercise 2\n",
    "> Display the *Household_Income* of all the people in our DataFrame using the _loc_ function."
   ]
  },
  {
   "cell_type": "code",
   "execution_count": 37,
   "metadata": {},
   "outputs": [
    {
     "ename": "AttributeError",
     "evalue": "'NoneType' object has no attribute 'equals'",
     "output_type": "error",
     "traceback": [
      "\u001b[1;31m---------------------------------------------------------------------------\u001b[0m",
      "\u001b[1;31mAttributeError\u001b[0m                            Traceback (most recent call last)",
      "\u001b[1;32m<ipython-input-37-edcb71c2f8c4>\u001b[0m in \u001b[0;36m<module>\u001b[1;34m\u001b[0m\n\u001b[0;32m      3\u001b[0m     \u001b[1;32mreturn\u001b[0m \u001b[0mx\u001b[0m\u001b[1;33m\u001b[0m\u001b[1;33m\u001b[0m\u001b[0m\n\u001b[0;32m      4\u001b[0m \u001b[1;33m\u001b[0m\u001b[0m\n\u001b[1;32m----> 5\u001b[1;33m \u001b[1;32massert\u001b[0m \u001b[0mexercice2\u001b[0m\u001b[1;33m(\u001b[0m\u001b[0mstar_wars_data\u001b[0m\u001b[1;33m)\u001b[0m\u001b[1;33m.\u001b[0m\u001b[0mequals\u001b[0m\u001b[1;33m(\u001b[0m\u001b[0mpd\u001b[0m\u001b[1;33m.\u001b[0m\u001b[0mread_csv\u001b[0m\u001b[1;33m(\u001b[0m\u001b[1;34m'starWarsClean.csv'\u001b[0m\u001b[1;33m,\u001b[0m \u001b[0musecols\u001b[0m\u001b[1;33m=\u001b[0m\u001b[1;33m[\u001b[0m\u001b[1;34m'Household_Income'\u001b[0m\u001b[1;33m]\u001b[0m\u001b[1;33m)\u001b[0m\u001b[1;33m)\u001b[0m\u001b[1;33m\u001b[0m\u001b[1;33m\u001b[0m\u001b[0m\n\u001b[0m",
      "\u001b[1;31mAttributeError\u001b[0m: 'NoneType' object has no attribute 'equals'"
     ]
    }
   ],
   "source": [
    "def exercice2(df):\n",
    "    x = None\n",
    "    return x\n",
    "\n",
    "assert exercice2(star_wars_data).equals(pd.read_csv('starWarsClean.csv', usecols=['Household_Income']))"
   ]
  },
  {
   "cell_type": "markdown",
   "metadata": {},
   "source": [
    "### 2.4 Visualisation with the pandas DataFrame\n",
    "> Pandas DataFrame allows us to directly plot datasets in different ways. We can use the _plot_ function directly on a DataFrame. However, to plot, we need to import the *matplotlib* module. *matplotlib* is frequently use for visualisation purposes and can also be used on other data types than pandas DataFrame such as lists or numpy arrays."
   ]
  },
  {
   "cell_type": "code",
   "execution_count": 38,
   "metadata": {},
   "outputs": [],
   "source": [
    "import matplotlib.pyplot as plt\n",
    "import matplotlib\n",
    "plt.close('all')"
   ]
  },
  {
   "cell_type": "code",
   "execution_count": 39,
   "metadata": {},
   "outputs": [
    {
     "data": {
      "text/plain": [
       "Very favorably                                 608\n",
       "Somewhat favorably                             151\n",
       "Neither favorably nor unfavorably (neutral)     44\n",
       "Unfamiliar (N/A)                                15\n",
       "Somewhat unfavorably                             8\n",
       "Very unfavorably                                 1\n",
       "Name: Han_Solo, dtype: int64"
      ]
     },
     "execution_count": 39,
     "metadata": {},
     "output_type": "execute_result"
    }
   ],
   "source": [
    "star_wars_data.loc[:, 'Han_Solo'].value_counts()"
   ]
  },
  {
   "cell_type": "code",
   "execution_count": 40,
   "metadata": {},
   "outputs": [
    {
     "data": {
      "text/plain": [
       "<matplotlib.axes._subplots.AxesSubplot at 0x11a8912e160>"
      ]
     },
     "execution_count": 40,
     "metadata": {},
     "output_type": "execute_result"
    },
    {
     "data": {
      "image/png": "[encoded data removed]",
      "text/plain": [
       "<Figure size 432x288 with 1 Axes>"
      ]
     },
     "metadata": {
      "needs_background": "light"
     },
     "output_type": "display_data"
    }
   ],
   "source": [
    "star_wars_data.loc[:, 'Han_Solo'].value_counts().plot(kind='bar')"
   ]
  },
  {
   "cell_type": "code",
   "execution_count": 41,
   "metadata": {},
   "outputs": [
    {
     "data": {
      "text/plain": [
       "<matplotlib.axes._subplots.AxesSubplot at 0x11a8b1f76a0>"
      ]
     },
     "execution_count": 41,
     "metadata": {},
     "output_type": "execute_result"
    },
    {
     "data": {
      "image/png": "[encoded data removed]",
      "text/plain": [
       "<Figure size 432x288 with 1 Axes>"
      ]
     },
     "metadata": {
      "needs_background": "light"
     },
     "output_type": "display_data"
    }
   ],
   "source": [
    "star_wars_data.loc[:, 'Emperor_Palpatine'].value_counts().plot(kind='bar')"
   ]
  },
  {
   "cell_type": "code",
   "execution_count": 42,
   "metadata": {},
   "outputs": [
    {
     "data": {
      "text/plain": [
       "<matplotlib.axes._subplots.AxesSubplot at 0x11a8b241400>"
      ]
     },
     "execution_count": 42,
     "metadata": {},
     "output_type": "execute_result"
    },
    {
     "data": {
      "image/png": "[encoded data removed]",
      "text/plain": [
       "<Figure size 432x288 with 1 Axes>"
      ]
     },
     "metadata": {},
     "output_type": "display_data"
    }
   ],
   "source": [
    "star_wars_data.loc[:, 'Emperor_Palpatine'].value_counts().plot(kind='pie')"
   ]
  },
  {
   "cell_type": "markdown",
   "metadata": {},
   "source": [
    "> We will artificially construct a fake dataset in order to use different type of graphs than the ones we previously used which were for categorical data. We could use a real dataset, but we will generate a random one here for simplicity using the *randn* function."
   ]
  },
  {
   "cell_type": "code",
   "execution_count": 43,
   "metadata": {},
   "outputs": [
    {
     "data": {
      "text/html": [
       "<div>\n",
       "<style scoped>\n",
       "    .dataframe tbody tr th:only-of-type {\n",
       "        vertical-align: middle;\n",
       "    }\n",
       "\n",
       "    .dataframe tbody tr th {\n",
       "        vertical-align: top;\n",
       "    }\n",
       "\n",
       "    .dataframe thead th {\n",
       "        text-align: right;\n",
       "    }\n",
       "</style>\n",
       "<table border=\"1\" class=\"dataframe\">\n",
       "  <thead>\n",
       "    <tr style=\"text-align: right;\">\n",
       "      <th></th>\n",
       "      <th>Value</th>\n",
       "    </tr>\n",
       "  </thead>\n",
       "  <tbody>\n",
       "    <tr>\n",
       "      <th>2019-01-01</th>\n",
       "      <td>0.191860</td>\n",
       "    </tr>\n",
       "    <tr>\n",
       "      <th>2019-01-02</th>\n",
       "      <td>-0.648649</td>\n",
       "    </tr>\n",
       "    <tr>\n",
       "      <th>2019-01-03</th>\n",
       "      <td>-0.285080</td>\n",
       "    </tr>\n",
       "    <tr>\n",
       "      <th>2019-01-04</th>\n",
       "      <td>-1.381078</td>\n",
       "    </tr>\n",
       "    <tr>\n",
       "      <th>2019-01-05</th>\n",
       "      <td>-1.186301</td>\n",
       "    </tr>\n",
       "  </tbody>\n",
       "</table>\n",
       "</div>"
      ],
      "text/plain": [
       "               Value\n",
       "2019-01-01  0.191860\n",
       "2019-01-02 -0.648649\n",
       "2019-01-03 -0.285080\n",
       "2019-01-04 -1.381078\n",
       "2019-01-05 -1.186301"
      ]
     },
     "execution_count": 43,
     "metadata": {},
     "output_type": "execute_result"
    }
   ],
   "source": [
    "import numpy as np\n",
    "# 1000 data points\n",
    "x = np.random.randn(1000)\n",
    "y = pd.date_range('1/1/2019', periods=1000)\n",
    "df = pd.DataFrame(data=x, index=y)\n",
    "# we can change columns' name\n",
    "df.columns = ['Value']\n",
    "df.head()"
   ]
  },
  {
   "cell_type": "code",
   "execution_count": 44,
   "metadata": {},
   "outputs": [
    {
     "data": {
      "text/plain": [
       "<matplotlib.axes._subplots.AxesSubplot at 0x11a8b2dd4a8>"
      ]
     },
     "execution_count": 44,
     "metadata": {},
     "output_type": "execute_result"
    },
    {
     "data": {
      "image/png": "[encoded data removed]",
      "text/plain": [
       "<Figure size 432x288 with 1 Axes>"
      ]
     },
     "metadata": {
      "needs_background": "light"
     },
     "output_type": "display_data"
    }
   ],
   "source": [
    "df.plot()"
   ]
  },
  {
   "cell_type": "code",
   "execution_count": 45,
   "metadata": {},
   "outputs": [
    {
     "data": {
      "text/plain": [
       "<matplotlib.axes._subplots.AxesSubplot at 0x11a8b3cb2b0>"
      ]
     },
     "execution_count": 45,
     "metadata": {},
     "output_type": "execute_result"
    },
    {
     "data": {
      "image/png": "[encoded data removed]",
      "text/plain": [
       "<Figure size 432x288 with 1 Axes>"
      ]
     },
     "metadata": {
      "needs_background": "light"
     },
     "output_type": "display_data"
    }
   ],
   "source": [
    "df = df.cumsum() # cumulative sum over our data\n",
    "df.plot()"
   ]
  },
  {
   "cell_type": "markdown",
   "metadata": {},
   "source": [
    "### 2.4 More possibilities with matplotlib.pyplot\n",
    "> We have seen how to display simple plots directly from a DataFrame. However, while efficient, this method is very limited. We have a lot more options when using *matplotlib* _subplots_ and figures directly. *matplotlib*'s advantages per Wikipedia are the following:\n",
    "* You can export in many formats (PNG, JPEG, PDF, SVG ...)\n",
    "* There is a lot of easily accessible documentation on the web\n",
    "* The community is very active\n",
    "* Pylab can reproduce the MATLAB syntax\n",
    "* high level module which is ideal for interactive computations  \n",
    "\n",
    "> There exists other visualisations packages in Python sush as *plotly* and *seaborn*.  \n",
    "Now, we can modify our figures by adding labels, titles, a legend and modify the size of our plots"
   ]
  },
  {
   "cell_type": "code",
   "execution_count": 46,
   "metadata": {},
   "outputs": [
    {
     "data": {
      "text/plain": [
       "Text(0.5, 1.0, 'My Graph')"
      ]
     },
     "execution_count": 46,
     "metadata": {},
     "output_type": "execute_result"
    },
    {
     "data": {
      "image/png": "[encoded data removed]",
      "text/plain": [
       "<Figure size 720x720 with 1 Axes>"
      ]
     },
     "metadata": {
      "needs_background": "light"
     },
     "output_type": "display_data"
    }
   ],
   "source": [
    "plt.figure(figsize=(10,10)) # modify the size of our plot\n",
    "                # default size is 6.4 * 6.4 inches\n",
    "plt.plot(df, 'g^')\n",
    "plt.xlabel('Date')\n",
    "plt.ylabel('Value')\n",
    "plt.legend(['Random Points'])\n",
    "plt.title('My Graph')"
   ]
  },
  {
   "cell_type": "code",
   "execution_count": 47,
   "metadata": {},
   "outputs": [
    {
     "data": {
      "text/plain": [
       "<matplotlib.legend.Legend at 0x11a8c4d79e8>"
      ]
     },
     "execution_count": 47,
     "metadata": {},
     "output_type": "execute_result"
    },
    {
     "data": {
      "image/png": "[encoded data removed]",
      "text/plain": [
       "<Figure size 720x720 with 2 Axes>"
      ]
     },
     "metadata": {
      "needs_background": "light"
     },
     "output_type": "display_data"
    }
   ],
   "source": [
    "# let's create another fake random dataset to illustrate 2 datasets together\n",
    "x2 = np.random.randn(1000) # 1000 points\n",
    "df2 = pd.DataFrame(data=x2, index=y) # index being the x axis being the dates from earlier\n",
    "df2 = df2.cumsum() # computing the cumulative sum over our dataset\n",
    "\n",
    "figure, axes = plt.subplots(2, 1, figsize=(10,10)) # 2 * 1 images with this specified size.\n",
    "# the title of our plots\n",
    "figure.suptitle('Plot Title')\n",
    "\n",
    "# axes represent a subgraph in our figure \n",
    "ax1 = axes[0]\n",
    "ax2 = axes[1]\n",
    "\n",
    "# the data from the first DataFrame will be in green\n",
    "ax1.plot(df, 'g^')\n",
    "\n",
    "# the data from our second DataFrame will be in red\n",
    "ax2.plot(df2, 'r-')\n",
    "\n",
    "\n",
    "# subgraphs' titles\n",
    "ax1.set_title('First Plot')\n",
    "ax2.set_title('Second Plot')\n",
    "\n",
    "# setting the x labels\n",
    "ax1.set_xlabel('Date')\n",
    "ax2.set_xlabel('Date')\n",
    "\n",
    "ax1.set_ylabel('Value')\n",
    "ax2.set_ylabel('Value')\n",
    "\n",
    "# let's display some legends\n",
    "ax1.legend(['My 1st legend'])\n",
    "ax2.legend(['My 2nd legend'])\n",
    "\n"
   ]
  },
  {
   "cell_type": "markdown",
   "metadata": {},
   "source": [
    "### Descriptive statistics using pandas Dataframe\n",
    "> We can directly generate a description of our dataset when our dataset is in the DataFrame format. By default, a description will only target numerical data types. "
   ]
  },
  {
   "cell_type": "code",
   "execution_count": 48,
   "metadata": {},
   "outputs": [
    {
     "data": {
      "text/html": [
       "<div>\n",
       "<style scoped>\n",
       "    .dataframe tbody tr th:only-of-type {\n",
       "        vertical-align: middle;\n",
       "    }\n",
       "\n",
       "    .dataframe tbody tr th {\n",
       "        vertical-align: top;\n",
       "    }\n",
       "\n",
       "    .dataframe thead th {\n",
       "        text-align: right;\n",
       "    }\n",
       "</style>\n",
       "<table border=\"1\" class=\"dataframe\">\n",
       "  <thead>\n",
       "    <tr style=\"text-align: right;\">\n",
       "      <th></th>\n",
       "      <th>id</th>\n",
       "      <th>Age</th>\n",
       "    </tr>\n",
       "  </thead>\n",
       "  <tbody>\n",
       "    <tr>\n",
       "      <th>count</th>\n",
       "      <td>1.184000e+03</td>\n",
       "      <td>1044.000000</td>\n",
       "    </tr>\n",
       "    <tr>\n",
       "      <th>mean</th>\n",
       "      <td>3.290131e+09</td>\n",
       "      <td>47.591954</td>\n",
       "    </tr>\n",
       "    <tr>\n",
       "      <th>std</th>\n",
       "      <td>1.054059e+06</td>\n",
       "      <td>18.205395</td>\n",
       "    </tr>\n",
       "    <tr>\n",
       "      <th>min</th>\n",
       "      <td>3.288375e+09</td>\n",
       "      <td>18.000000</td>\n",
       "    </tr>\n",
       "    <tr>\n",
       "      <th>25%</th>\n",
       "      <td>3.289457e+09</td>\n",
       "      <td>33.000000</td>\n",
       "    </tr>\n",
       "    <tr>\n",
       "      <th>50%</th>\n",
       "      <td>3.290149e+09</td>\n",
       "      <td>46.000000</td>\n",
       "    </tr>\n",
       "    <tr>\n",
       "      <th>75%</th>\n",
       "      <td>3.290816e+09</td>\n",
       "      <td>60.000000</td>\n",
       "    </tr>\n",
       "    <tr>\n",
       "      <th>max</th>\n",
       "      <td>3.292880e+09</td>\n",
       "      <td>85.000000</td>\n",
       "    </tr>\n",
       "  </tbody>\n",
       "</table>\n",
       "</div>"
      ],
      "text/plain": [
       "                 id          Age\n",
       "count  1.184000e+03  1044.000000\n",
       "mean   3.290131e+09    47.591954\n",
       "std    1.054059e+06    18.205395\n",
       "min    3.288375e+09    18.000000\n",
       "25%    3.289457e+09    33.000000\n",
       "50%    3.290149e+09    46.000000\n",
       "75%    3.290816e+09    60.000000\n",
       "max    3.292880e+09    85.000000"
      ]
     },
     "execution_count": 48,
     "metadata": {},
     "output_type": "execute_result"
    }
   ],
   "source": [
    "star_wars_data.describe()"
   ]
  },
  {
   "cell_type": "code",
   "execution_count": 49,
   "metadata": {},
   "outputs": [
    {
     "data": {
      "text/html": [
       "<div>\n",
       "<style scoped>\n",
       "    .dataframe tbody tr th:only-of-type {\n",
       "        vertical-align: middle;\n",
       "    }\n",
       "\n",
       "    .dataframe tbody tr th {\n",
       "        vertical-align: top;\n",
       "    }\n",
       "\n",
       "    .dataframe thead th {\n",
       "        text-align: right;\n",
       "    }\n",
       "</style>\n",
       "<table border=\"1\" class=\"dataframe\">\n",
       "  <thead>\n",
       "    <tr style=\"text-align: right;\">\n",
       "      <th></th>\n",
       "      <th>Seen_StarWars</th>\n",
       "      <th>Fan</th>\n",
       "      <th>Han_Solo</th>\n",
       "      <th>Luke_Skywalker</th>\n",
       "      <th>Princess.Leia</th>\n",
       "      <th>Anakin.Skywalker</th>\n",
       "      <th>Obi_Wan</th>\n",
       "      <th>Emperor_Palpatine</th>\n",
       "      <th>Darth_Vader</th>\n",
       "      <th>Lando_Calrissian</th>\n",
       "      <th>...</th>\n",
       "      <th>C3P0</th>\n",
       "      <th>R2D2</th>\n",
       "      <th>Jar_Jar_Binks</th>\n",
       "      <th>Padme_Amidala</th>\n",
       "      <th>Yoda</th>\n",
       "      <th>Who_shot_first</th>\n",
       "      <th>Gender</th>\n",
       "      <th>Age</th>\n",
       "      <th>Household_Income</th>\n",
       "      <th>Education</th>\n",
       "    </tr>\n",
       "  </thead>\n",
       "  <tbody>\n",
       "    <tr>\n",
       "      <th>count</th>\n",
       "      <td>1184</td>\n",
       "      <td>834</td>\n",
       "      <td>827</td>\n",
       "      <td>829</td>\n",
       "      <td>829</td>\n",
       "      <td>821</td>\n",
       "      <td>823</td>\n",
       "      <td>812</td>\n",
       "      <td>824</td>\n",
       "      <td>818</td>\n",
       "      <td>...</td>\n",
       "      <td>825</td>\n",
       "      <td>828</td>\n",
       "      <td>819</td>\n",
       "      <td>812</td>\n",
       "      <td>824</td>\n",
       "      <td>826</td>\n",
       "      <td>1044</td>\n",
       "      <td>1044.000000</td>\n",
       "      <td>856</td>\n",
       "      <td>1034</td>\n",
       "    </tr>\n",
       "    <tr>\n",
       "      <th>unique</th>\n",
       "      <td>2</td>\n",
       "      <td>2</td>\n",
       "      <td>6</td>\n",
       "      <td>6</td>\n",
       "      <td>6</td>\n",
       "      <td>6</td>\n",
       "      <td>6</td>\n",
       "      <td>6</td>\n",
       "      <td>6</td>\n",
       "      <td>6</td>\n",
       "      <td>...</td>\n",
       "      <td>6</td>\n",
       "      <td>6</td>\n",
       "      <td>6</td>\n",
       "      <td>6</td>\n",
       "      <td>6</td>\n",
       "      <td>3</td>\n",
       "      <td>2</td>\n",
       "      <td>NaN</td>\n",
       "      <td>5</td>\n",
       "      <td>5</td>\n",
       "    </tr>\n",
       "    <tr>\n",
       "      <th>top</th>\n",
       "      <td>Yes</td>\n",
       "      <td>Yes</td>\n",
       "      <td>Very favorably</td>\n",
       "      <td>Very favorably</td>\n",
       "      <td>Very favorably</td>\n",
       "      <td>Somewhat favorably</td>\n",
       "      <td>Very favorably</td>\n",
       "      <td>Neither favorably nor unfavorably (neutral)</td>\n",
       "      <td>Very favorably</td>\n",
       "      <td>Neither favorably nor unfavorably (neutral)</td>\n",
       "      <td>...</td>\n",
       "      <td>Very favorably</td>\n",
       "      <td>Very favorably</td>\n",
       "      <td>Very unfavorably</td>\n",
       "      <td>Neither favorably nor unfavorably (neutral)</td>\n",
       "      <td>Very favorably</td>\n",
       "      <td>Han</td>\n",
       "      <td>Female</td>\n",
       "      <td>NaN</td>\n",
       "      <td>$50,000 - $99,999</td>\n",
       "      <td>Some college or Associate degree</td>\n",
       "    </tr>\n",
       "    <tr>\n",
       "      <th>freq</th>\n",
       "      <td>934</td>\n",
       "      <td>551</td>\n",
       "      <td>608</td>\n",
       "      <td>551</td>\n",
       "      <td>545</td>\n",
       "      <td>269</td>\n",
       "      <td>589</td>\n",
       "      <td>212</td>\n",
       "      <td>308</td>\n",
       "      <td>236</td>\n",
       "      <td>...</td>\n",
       "      <td>474</td>\n",
       "      <td>562</td>\n",
       "      <td>203</td>\n",
       "      <td>206</td>\n",
       "      <td>604</td>\n",
       "      <td>324</td>\n",
       "      <td>547</td>\n",
       "      <td>NaN</td>\n",
       "      <td>297</td>\n",
       "      <td>327</td>\n",
       "    </tr>\n",
       "    <tr>\n",
       "      <th>mean</th>\n",
       "      <td>NaN</td>\n",
       "      <td>NaN</td>\n",
       "      <td>NaN</td>\n",
       "      <td>NaN</td>\n",
       "      <td>NaN</td>\n",
       "      <td>NaN</td>\n",
       "      <td>NaN</td>\n",
       "      <td>NaN</td>\n",
       "      <td>NaN</td>\n",
       "      <td>NaN</td>\n",
       "      <td>...</td>\n",
       "      <td>NaN</td>\n",
       "      <td>NaN</td>\n",
       "      <td>NaN</td>\n",
       "      <td>NaN</td>\n",
       "      <td>NaN</td>\n",
       "      <td>NaN</td>\n",
       "      <td>NaN</td>\n",
       "      <td>47.591954</td>\n",
       "      <td>NaN</td>\n",
       "      <td>NaN</td>\n",
       "    </tr>\n",
       "    <tr>\n",
       "      <th>std</th>\n",
       "      <td>NaN</td>\n",
       "      <td>NaN</td>\n",
       "      <td>NaN</td>\n",
       "      <td>NaN</td>\n",
       "      <td>NaN</td>\n",
       "      <td>NaN</td>\n",
       "      <td>NaN</td>\n",
       "      <td>NaN</td>\n",
       "      <td>NaN</td>\n",
       "      <td>NaN</td>\n",
       "      <td>...</td>\n",
       "      <td>NaN</td>\n",
       "      <td>NaN</td>\n",
       "      <td>NaN</td>\n",
       "      <td>NaN</td>\n",
       "      <td>NaN</td>\n",
       "      <td>NaN</td>\n",
       "      <td>NaN</td>\n",
       "      <td>18.205395</td>\n",
       "      <td>NaN</td>\n",
       "      <td>NaN</td>\n",
       "    </tr>\n",
       "    <tr>\n",
       "      <th>min</th>\n",
       "      <td>NaN</td>\n",
       "      <td>NaN</td>\n",
       "      <td>NaN</td>\n",
       "      <td>NaN</td>\n",
       "      <td>NaN</td>\n",
       "      <td>NaN</td>\n",
       "      <td>NaN</td>\n",
       "      <td>NaN</td>\n",
       "      <td>NaN</td>\n",
       "      <td>NaN</td>\n",
       "      <td>...</td>\n",
       "      <td>NaN</td>\n",
       "      <td>NaN</td>\n",
       "      <td>NaN</td>\n",
       "      <td>NaN</td>\n",
       "      <td>NaN</td>\n",
       "      <td>NaN</td>\n",
       "      <td>NaN</td>\n",
       "      <td>18.000000</td>\n",
       "      <td>NaN</td>\n",
       "      <td>NaN</td>\n",
       "    </tr>\n",
       "    <tr>\n",
       "      <th>25%</th>\n",
       "      <td>NaN</td>\n",
       "      <td>NaN</td>\n",
       "      <td>NaN</td>\n",
       "      <td>NaN</td>\n",
       "      <td>NaN</td>\n",
       "      <td>NaN</td>\n",
       "      <td>NaN</td>\n",
       "      <td>NaN</td>\n",
       "      <td>NaN</td>\n",
       "      <td>NaN</td>\n",
       "      <td>...</td>\n",
       "      <td>NaN</td>\n",
       "      <td>NaN</td>\n",
       "      <td>NaN</td>\n",
       "      <td>NaN</td>\n",
       "      <td>NaN</td>\n",
       "      <td>NaN</td>\n",
       "      <td>NaN</td>\n",
       "      <td>33.000000</td>\n",
       "      <td>NaN</td>\n",
       "      <td>NaN</td>\n",
       "    </tr>\n",
       "    <tr>\n",
       "      <th>50%</th>\n",
       "      <td>NaN</td>\n",
       "      <td>NaN</td>\n",
       "      <td>NaN</td>\n",
       "      <td>NaN</td>\n",
       "      <td>NaN</td>\n",
       "      <td>NaN</td>\n",
       "      <td>NaN</td>\n",
       "      <td>NaN</td>\n",
       "      <td>NaN</td>\n",
       "      <td>NaN</td>\n",
       "      <td>...</td>\n",
       "      <td>NaN</td>\n",
       "      <td>NaN</td>\n",
       "      <td>NaN</td>\n",
       "      <td>NaN</td>\n",
       "      <td>NaN</td>\n",
       "      <td>NaN</td>\n",
       "      <td>NaN</td>\n",
       "      <td>46.000000</td>\n",
       "      <td>NaN</td>\n",
       "      <td>NaN</td>\n",
       "    </tr>\n",
       "    <tr>\n",
       "      <th>75%</th>\n",
       "      <td>NaN</td>\n",
       "      <td>NaN</td>\n",
       "      <td>NaN</td>\n",
       "      <td>NaN</td>\n",
       "      <td>NaN</td>\n",
       "      <td>NaN</td>\n",
       "      <td>NaN</td>\n",
       "      <td>NaN</td>\n",
       "      <td>NaN</td>\n",
       "      <td>NaN</td>\n",
       "      <td>...</td>\n",
       "      <td>NaN</td>\n",
       "      <td>NaN</td>\n",
       "      <td>NaN</td>\n",
       "      <td>NaN</td>\n",
       "      <td>NaN</td>\n",
       "      <td>NaN</td>\n",
       "      <td>NaN</td>\n",
       "      <td>60.000000</td>\n",
       "      <td>NaN</td>\n",
       "      <td>NaN</td>\n",
       "    </tr>\n",
       "    <tr>\n",
       "      <th>max</th>\n",
       "      <td>NaN</td>\n",
       "      <td>NaN</td>\n",
       "      <td>NaN</td>\n",
       "      <td>NaN</td>\n",
       "      <td>NaN</td>\n",
       "      <td>NaN</td>\n",
       "      <td>NaN</td>\n",
       "      <td>NaN</td>\n",
       "      <td>NaN</td>\n",
       "      <td>NaN</td>\n",
       "      <td>...</td>\n",
       "      <td>NaN</td>\n",
       "      <td>NaN</td>\n",
       "      <td>NaN</td>\n",
       "      <td>NaN</td>\n",
       "      <td>NaN</td>\n",
       "      <td>NaN</td>\n",
       "      <td>NaN</td>\n",
       "      <td>85.000000</td>\n",
       "      <td>NaN</td>\n",
       "      <td>NaN</td>\n",
       "    </tr>\n",
       "  </tbody>\n",
       "</table>\n",
       "<p>11 rows × 21 columns</p>\n",
       "</div>"
      ],
      "text/plain": [
       "       Seen_StarWars  Fan        Han_Solo  Luke_Skywalker   Princess.Leia  \\\n",
       "count           1184  834             827             829             829   \n",
       "unique             2    2               6               6               6   \n",
       "top              Yes  Yes  Very favorably  Very favorably  Very favorably   \n",
       "freq             934  551             608             551             545   \n",
       "mean             NaN  NaN             NaN             NaN             NaN   \n",
       "std              NaN  NaN             NaN             NaN             NaN   \n",
       "min              NaN  NaN             NaN             NaN             NaN   \n",
       "25%              NaN  NaN             NaN             NaN             NaN   \n",
       "50%              NaN  NaN             NaN             NaN             NaN   \n",
       "75%              NaN  NaN             NaN             NaN             NaN   \n",
       "max              NaN  NaN             NaN             NaN             NaN   \n",
       "\n",
       "          Anakin.Skywalker         Obi_Wan  \\\n",
       "count                  821             823   \n",
       "unique                   6               6   \n",
       "top     Somewhat favorably  Very favorably   \n",
       "freq                   269             589   \n",
       "mean                   NaN             NaN   \n",
       "std                    NaN             NaN   \n",
       "min                    NaN             NaN   \n",
       "25%                    NaN             NaN   \n",
       "50%                    NaN             NaN   \n",
       "75%                    NaN             NaN   \n",
       "max                    NaN             NaN   \n",
       "\n",
       "                                  Emperor_Palpatine     Darth_Vader  \\\n",
       "count                                           812             824   \n",
       "unique                                            6               6   \n",
       "top     Neither favorably nor unfavorably (neutral)  Very favorably   \n",
       "freq                                            212             308   \n",
       "mean                                            NaN             NaN   \n",
       "std                                             NaN             NaN   \n",
       "min                                             NaN             NaN   \n",
       "25%                                             NaN             NaN   \n",
       "50%                                             NaN             NaN   \n",
       "75%                                             NaN             NaN   \n",
       "max                                             NaN             NaN   \n",
       "\n",
       "                                   Lando_Calrissian  ...            C3P0  \\\n",
       "count                                           818  ...             825   \n",
       "unique                                            6  ...               6   \n",
       "top     Neither favorably nor unfavorably (neutral)  ...  Very favorably   \n",
       "freq                                            236  ...             474   \n",
       "mean                                            NaN  ...             NaN   \n",
       "std                                             NaN  ...             NaN   \n",
       "min                                             NaN  ...             NaN   \n",
       "25%                                             NaN  ...             NaN   \n",
       "50%                                             NaN  ...             NaN   \n",
       "75%                                             NaN  ...             NaN   \n",
       "max                                             NaN  ...             NaN   \n",
       "\n",
       "                  R2D2     Jar_Jar_Binks  \\\n",
       "count              828               819   \n",
       "unique               6                 6   \n",
       "top     Very favorably  Very unfavorably   \n",
       "freq               562               203   \n",
       "mean               NaN               NaN   \n",
       "std                NaN               NaN   \n",
       "min                NaN               NaN   \n",
       "25%                NaN               NaN   \n",
       "50%                NaN               NaN   \n",
       "75%                NaN               NaN   \n",
       "max                NaN               NaN   \n",
       "\n",
       "                                      Padme_Amidala            Yoda  \\\n",
       "count                                           812             824   \n",
       "unique                                            6               6   \n",
       "top     Neither favorably nor unfavorably (neutral)  Very favorably   \n",
       "freq                                            206             604   \n",
       "mean                                            NaN             NaN   \n",
       "std                                             NaN             NaN   \n",
       "min                                             NaN             NaN   \n",
       "25%                                             NaN             NaN   \n",
       "50%                                             NaN             NaN   \n",
       "75%                                             NaN             NaN   \n",
       "max                                             NaN             NaN   \n",
       "\n",
       "       Who_shot_first  Gender          Age   Household_Income  \\\n",
       "count             826    1044  1044.000000                856   \n",
       "unique              3       2          NaN                  5   \n",
       "top               Han  Female          NaN  $50,000 - $99,999   \n",
       "freq              324     547          NaN                297   \n",
       "mean              NaN     NaN    47.591954                NaN   \n",
       "std               NaN     NaN    18.205395                NaN   \n",
       "min               NaN     NaN    18.000000                NaN   \n",
       "25%               NaN     NaN    33.000000                NaN   \n",
       "50%               NaN     NaN    46.000000                NaN   \n",
       "75%               NaN     NaN    60.000000                NaN   \n",
       "max               NaN     NaN    85.000000                NaN   \n",
       "\n",
       "                               Education  \n",
       "count                               1034  \n",
       "unique                                 5  \n",
       "top     Some college or Associate degree  \n",
       "freq                                 327  \n",
       "mean                                 NaN  \n",
       "std                                  NaN  \n",
       "min                                  NaN  \n",
       "25%                                  NaN  \n",
       "50%                                  NaN  \n",
       "75%                                  NaN  \n",
       "max                                  NaN  \n",
       "\n",
       "[11 rows x 21 columns]"
      ]
     },
     "execution_count": 49,
     "metadata": {},
     "output_type": "execute_result"
    }
   ],
   "source": [
    "# we can also describe other data types with the include list having the 'object' value\n",
    "include = ['object', 'float', 'int']\n",
    "star_wars_data.describe(include=include)"
   ]
  },
  {
   "cell_type": "markdown",
   "metadata": {},
   "source": [
    "#### Exercise 3\n",
    "> Reproduce the following figure:  \n",
    "![pomm](https://i.ibb.co/0rYWbhq/image.png)  \n",
    "Such that the figure's sizeis 9 by 9 inches, the data points are represented as circles, their color is yellow and we see the same information (axes, legend ...) describing the figure. Take the *df* dataset. Evidently, your figure will look different as our dataset is randomly generated each time."
   ]
  },
  {
   "cell_type": "code",
   "execution_count": null,
   "metadata": {},
   "outputs": [],
   "source": []
  }
 ],
 "metadata": {
  "kernelspec": {
   "display_name": "Python 3",
   "language": "python",
   "name": "python3"
  },
  "language_info": {
   "codemirror_mode": {
    "name": "ipython",
    "version": 3
   },
   "file_extension": ".py",
   "mimetype": "text/x-python",
   "name": "python",
   "nbconvert_exporter": "python",
   "pygments_lexer": "ipython3",
   "version": "3.6.7"
  }
 },
 "nbformat": 4,
 "nbformat_minor": 2
}
