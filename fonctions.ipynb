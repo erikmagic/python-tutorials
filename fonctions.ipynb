{
 "cells": [
  {
   "cell_type": "markdown",
   "metadata": {
    "collapsed": true,
    "pycharm": {
     "name": "#%% md\n"
    }
   },
   "source": [
    "#  Les Fonctions en Python\n",
    "## Introduction\n",
    "\n",
    "> Les fonctions sont une partie intégrante de Python. Nous pouvons fragmenter les fonctions afin d'en faire des opérations \n",
    "générales, paramétrables et qui peuvent être répétées. Dans ce tutoriel, nous allons voir comment utiliser et définir nos\n",
    "propres fonctions.\n",
    "Nous avons déjà vu diverses fonctions prédéfinies comme ```print(), len() ...```\n"
   ]
  },
  {
   "cell_type": "code",
   "execution_count": 2,
   "outputs": [
    {
     "name": "stdout",
     "text": [
      "12\n"
     ],
     "output_type": "stream"
    },
    {
     "data": {
      "text/plain": "3"
     },
     "metadata": {},
     "output_type": "execute_result",
     "execution_count": 2
    }
   ],
   "source": [
    "print(12)\n",
    "len([12,3,4])"
   ],
   "metadata": {
    "collapsed": false,
    "pycharm": {
     "name": "#%%\n",
     "is_executing": false
    }
   }
  },
  {
   "cell_type": "markdown",
   "source": [
    "> Commençons par définir nos propres fonctions. La syntaxe est la suivante:\n",
    "```\n",
    "def nom_fonction(liste de paramètres):\n",
    "      bloc d'instructions\n",
    "```\n",
    "\n",
    "> Donc vous pouvez choisir le nom de fonction qui vous convient en tenant compte de ne pas utiliser des caractères\n",
    " particuliers à l'exception du caractère souligné << _ >>. Effectivement, un bon moyen de nommer des noms plus complexes\n",
    " est d'utiliser allègrement le caractère souligné. Un bon nom de fonction est descriptif: \n",
    " ```\n",
    " def test_outbound_call_generating_valid_number_of_values(...):\n",
    "    ...\n",
    " ```\n",
    " \n",
    " > Bon, donc une fonction est constituée d'un nom, d'une liste de paramètres suivi d'un deux-points. Ensuite, les lignes \n",
    " suivantes constituant le corps de la fonction sont séparées grâce à l'indentation. Ce bloc d'instructions est le corps\n",
    " de la fonction."
   ],
   "metadata": {
    "collapsed": false,
    "pycharm": {
     "name": "#%% md\n"
    }
   }
  },
  {
   "cell_type": "code",
   "execution_count": 6,
   "outputs": [
    {
     "data": {
      "text/plain": "27"
     },
     "metadata": {},
     "output_type": "execute_result",
     "execution_count": 6
    }
   ],
   "source": [
    "def addition(nombre_1, nombre_2):\n",
    "    resultat = nombre_1 + nombre_2\n",
    "    return resultat\n",
    "addition(12, 15)"
   ],
   "metadata": {
    "collapsed": false,
    "pycharm": {
     "name": "#%%\n",
     "is_executing": false
    }
   }
  },
  {
   "cell_type": "code",
   "execution_count": 8,
   "outputs": [
    {
     "data": {
      "text/plain": "32"
     },
     "metadata": {},
     "output_type": "execute_result",
     "execution_count": 8
    }
   ],
   "source": [
    "def multiplication(nombre_1, nombre_2):\n",
    "    total = 0\n",
    "    for _ in range(nombre_2):\n",
    "        total = addition(total, nombre_1)\n",
    "    return total\n",
    "multiplication(4, 8)"
   ],
   "metadata": {
    "collapsed": false,
    "pycharm": {
     "name": "#%%\n",
     "is_executing": false
    }
   }
  },
  {
   "cell_type": "markdown",
   "source": [
    "> Comme dans l'exemple précédent, les fonctions peuvent appeler d'autres fonctions sans problème."
   ],
   "metadata": {
    "collapsed": false,
    "pycharm": {
     "name": "#%% md\n"
    }
   }
  },
  {
   "cell_type": "markdown",
   "source": [
    "## Valeurs de retours\n",
    "> Nous avons beaucoup d'options en ce qui concerne les valeurs de retours en Python. À propri, nous n'avons pas besoin\n",
    "de retourner quoi que ce soit. Dans ce cas la, la valeur ```None``` est automatiquement retournée."
   ],
   "metadata": {
    "collapsed": false,
    "pycharm": {
     "name": "#%% md\n"
    }
   }
  },
  {
   "cell_type": "code",
   "execution_count": 10,
   "outputs": [
    {
     "name": "stdout",
     "text": [
      "\n                                       ._ o o\n                                       \\_`-)|_\n                                    ,\"\"       \\ \n                                  ,\"  ## |   ಠ ಠ. \n                                ,\" ##   ,-\\__    `.\n                              ,\"       /     `--._;)\n                            ,\"     ## /\n                          ,\"   ##    /\n\n\n                    \n\n                                       ._ o o\n                                       \\_`-)|_\n                                    ,\"\"       \\ \n                                  ,\"  ## |   ಠ ಠ. \n                                ,\" ##   ,-\\__    `.\n                              ,\"       /     `--._;)\n                            ,\"     ## /\n                          ,\"   ##    /\n\n\n                    \nQuel est la valeur de x?: None\n"
     ],
     "output_type": "stream"
    }
   ],
   "source": [
    "def print_horse():\n",
    "    print(\"\"\"\\\n",
    "\n",
    "                                       ._ o o\n",
    "                                       \\_`-)|_\n",
    "                                    ,\"\"       \\ \n",
    "                                  ,\"  ## |   ಠ ಠ. \n",
    "                                ,\" ##   ,-\\__    `.\n",
    "                              ,\"       /     `--._;)\n",
    "                            ,\"     ## /\n",
    "                          ,\"   ##    /\n",
    "\n",
    "\n",
    "                    \"\"\")\n",
    "\n",
    "print_horse()\n",
    "x = print_horse() \n",
    "print('Quel est la valeur de x?: {}'.format(x))"
   ],
   "metadata": {
    "collapsed": false,
    "pycharm": {
     "name": "#%%\n",
     "is_executing": false
    }
   }
  },
  {
   "cell_type": "markdown",
   "source": [
    "> Nous pouvons retourner plusieurs valeurs qui prendront la forme d'un tuple en sortant. Cela peut s'avérer très utile,\n",
    "mais prenez conscience que c'est considéré comme une mauvaise pratique en générale de retourner plusieurs valeurs\n",
    "d'un seule fonction."
   ],
   "metadata": {
    "collapsed": false,
    "pycharm": {
     "name": "#%% md\n"
    }
   }
  },
  {
   "cell_type": "code",
   "execution_count": 2,
   "outputs": [
    {
     "data": {
      "text/plain": "(False, 4)"
     },
     "metadata": {},
     "output_type": "execute_result",
     "execution_count": 2
    }
   ],
   "source": [
    "def element_in_list(el, _list):\n",
    "    found_index = -1\n",
    "    found = False\n",
    "    for i, list_element in enumerate(_list):\n",
    "        if list_element == el:\n",
    "            found_index = i\n",
    "            found = True\n",
    "            break\n",
    "    return found, found_index\n",
    "\n",
    "element_in_list(9, [1,2,3,5,9])"
   ],
   "metadata": {
    "collapsed": false,
    "pycharm": {
     "name": "#%%\n",
     "is_executing": false
    }
   }
  },
  {
   "cell_type": "markdown",
   "source": [
    "> Noter que nous pouvons également retourner des fonctions dans nos fonctions."
   ],
   "metadata": {
    "collapsed": false,
    "pycharm": {
     "name": "#%% md\n"
    }
   }
  },
  {
   "cell_type": "code",
   "execution_count": 3,
   "outputs": [
    {
     "data": {
      "text/plain": "'Bonjour'"
     },
     "metadata": {},
     "output_type": "execute_result",
     "execution_count": 3
    }
   ],
   "source": [
    "def hello():\n",
    "    def dit_bonjour():\n",
    "        return \"Bonjour\"\n",
    "    return dit_bonjour\n",
    "\n",
    "dit_bonjour = hello() # dit_bonjour est desormais notre fonction\n",
    "dit_bonjour()\n"
   ],
   "metadata": {
    "collapsed": false,
    "pycharm": {
     "name": "#%%\n",
     "is_executing": false
    }
   }
  },
  {
   "cell_type": "markdown",
   "source": [
    "## Paramètres et paramètres par défaut\n",
    "> Il existe deux types de paramètres en Python, les paramètres optionnels et les paramètres obligatoirs."
   ],
   "metadata": {
    "collapsed": false,
    "pycharm": {
     "name": "#%% md\n",
     "is_executing": false
    }
   }
  },
  {
   "cell_type": "code",
   "execution_count": null,
   "outputs": [],
   "source": [
    "def ma_fonction(obligatoire, optionnel=\"Salut\"):\n",
    "    print(\"mes paramètres sont {} et {}\".format(obligatoire, optionnel))\n",
    "\n",
    "# appel normal à ma fonction\n",
    "ma_fonction('bonjour bonjour')\n",
    "\n",
    "# erreur puisque le paramètre obligatoire n'a pas été entré\n",
    "try:\n",
    "    ma_fonction()\n",
    "except Exception as e:\n",
    "    print(str(e))\n",
    "\n",
    "# appelé la fonction avec une valeur sur son paramètre optionnel\n",
    "ma_fonction(\"bonjour\", \"hi\")\n",
    "\n",
    "# nous pouvons changé l'ordre des paramètres appelés sans problèmes\n",
    "ma_fonction(optionnel=\"White\", obligatoire=\"Stripes\")"
   ],
   "metadata": {
    "collapsed": false,
    "pycharm": {
     "name": "#%% \n"
    }
   }
  },
  {
   "cell_type": "markdown",
   "source": [
    "> En lisant du code python, vous allez fréquemment tomber sur les mot-clés \"args\" et \"kwargs\" souvent spécifiés de \n",
    "la manière suivante.\n",
    "```\n",
    "def ma_fonction(*args, **kwargs):\n",
    "    mon_corps\n",
    "```\n",
    "> Args est un diminutif pour \"Arguments\" tandis que kwargs est un diminutif pour \"Keywords arguments\". Args est utilisé \n",
    "pour l'équivalent des arguments obligatoires tandis que kwargs est utilisé pour l'équivalent des keywords optionnels. Je\n",
    "dis l'équivalent puisque tous args est totalement optionnel également, mais ses arguments ont la forme des arguments\n",
    "obligatoires vu précédemment dans le sens qu'il non pas la forme (key=value).Dans le fond, args et kwargs\n",
    "sont utilisés afin d'avoir des fonctions plus polyvalentes qui prennent virtuellement n'importe quoi comme entrant. "
   ],
   "metadata": {
    "collapsed": false,
    "pycharm": {
     "name": "#%% md\n"
    }
   }
  },
  {
   "cell_type": "code",
   "execution_count": 9,
   "outputs": [
    {
     "name": "stdout",
     "text": [
      "argument simple #0: salut\nargument simple #1: 9\nargument simple #2: True\nnom du paramètre: jack, valeur du paramètre: Huncho\nnom du paramètre: mon_statut, valeur du paramètre: 12\n"
     ],
     "output_type": "stream"
    }
   ],
   "source": [
    "def ma_nouvelle_fonction(*args, **kwargs):\n",
    "    for i, arg in enumerate(args):\n",
    "        print(\"argument simple #{}: {}\".format(i, arg))\n",
    "        \n",
    "    for key, value in kwargs.items():\n",
    "        print(\"nom du paramètre: {}, valeur du paramètre: {}\".format(key, value))\n",
    "\n",
    "ma_nouvelle_fonction('salut', 9, True, jack=\"Huncho\", mon_statut=12)\n"
   ],
   "metadata": {
    "collapsed": false,
    "pycharm": {
     "name": "#%% \n",
     "is_executing": false
    }
   }
  },
  {
   "cell_type": "markdown",
   "source": [
    "> À noter que les arguments optionnels sont appelés des \"keywords arguments\" et que les arguments obligatoires sont\n",
    "appelés des \"positional arguments\" en anglais. Il faut également toujours écrire nos \"positional arguments\" avant\n",
    "nos \"keyword arguments\"."
   ],
   "metadata": {
    "collapsed": false,
    "pycharm": {
     "name": "#%% md\n"
    }
   }
  },
  {
   "cell_type": "code",
   "execution_count": 12,
   "outputs": [
    {
     "traceback": [
      "\u001b[1;36m  File \u001b[1;32m\"<ipython-input-12-4af83d8f2478>\"\u001b[1;36m, line \u001b[1;32m2\u001b[0m\n\u001b[1;33m    ma_nouvelle_fonction(mon_statut=\"très bien\", 9, 12, [], \"salut\")\u001b[0m\n\u001b[1;37m                                                 ^\u001b[0m\n\u001b[1;31mSyntaxError\u001b[0m\u001b[1;31m:\u001b[0m positional argument follows keyword argument\n"
     ],
     "ename": "SyntaxError",
     "evalue": "positional argument follows keyword argument (<ipython-input-12-4af83d8f2478>, line 2)",
     "output_type": "error"
    }
   ],
   "source": [
    "try:\n",
    "    ma_nouvelle_fonction(mon_statut=\"très bien\", 9, 12, [], \"salut\")\n",
    "except SyntaxError as e:\n",
    "    print(str(e))"
   ],
   "metadata": {
    "collapsed": false,
    "pycharm": {
     "name": "#%%\n",
     "is_executing": false
    }
   }
  },
  {
   "cell_type": "code",
   "execution_count": 16,
   "outputs": [
    {
     "name": "stdout",
     "text": [
      "a : aaaaaaaaa\nb: bbbbbbbbbbbb\nc: cccccccc\nargs: ('dddddddddd', 'eeeeeeeeee')\nkwargs: {'f': 'ff', 'g': 'gg'}\n"
     ],
     "output_type": "stream"
    }
   ],
   "source": [
    "def fonction_utile(a, b, c=12, *args, **kwargs):\n",
    "    print(\"a : {}\".format(a))\n",
    "    print(\"b: {}\".format(b))\n",
    "    print(\"c: {}\".format(c))\n",
    "    print(\"args: {}\".format(args))\n",
    "    print(\"kwargs: {}\".format(kwargs))\n",
    "\n",
    "fonction_utile(\"aaaaaaaaa\", \"bbbbbbbbbbbb\", \"cccccccc\", \"dddddddddd\", \"eeeeeeeeee\", f=\"ff\", g=\"gg\")"
   ],
   "metadata": {
    "collapsed": false,
    "pycharm": {
     "name": "#%%\n",
     "is_executing": false
    }
   }
  },
  {
   "cell_type": "markdown",
   "source": [
    "## Docstrings\n",
    "> C'est connu que lire du code est beaucoup plus difficile qu'en écrire. Afin de simplifier la tâche de ceux qui \n",
    "éventuellement liront votre code, la première règle à suivre est de bien nommer ses variables avec de long noms\n",
    "spécifiques. Ensuite, l'écriture de \"docstrings\" est recommandée. "
   ],
   "metadata": {
    "collapsed": false,
    "pycharm": {
     "name": "#%% md\n",
     "is_executing": false
    }
   }
  },
  {
   "cell_type": "code",
   "execution_count": null,
   "outputs": [],
   "source": [
    "## Paramètres et paramètres par défaut\n",
    "## Espace local versus nonlocal versus global\n",
    "## Exercices"
   ],
   "metadata": {
    "collapsed": false,
    "pycharm": {
     "name": "#%%\n"
    }
   }
  },
  {
   "cell_type": "code",
   "execution_count": null,
   "outputs": [],
   "source": [
    "\n"
   ],
   "metadata": {
    "collapsed": false,
    "pycharm": {
     "name": "#%%\n"
    }
   }
  }
 ],
 "metadata": {
  "language_info": {
   "codemirror_mode": {
    "name": "ipython",
    "version": 2
   },
   "file_extension": ".py",
   "mimetype": "text/x-python",
   "name": "python",
   "nbconvert_exporter": "python",
   "pygments_lexer": "ipython2",
   "version": "2.7.6"
  },
  "kernelspec": {
   "name": "python3",
   "language": "python",
   "display_name": "Python 3"
  },
  "pycharm": {
   "stem_cell": {
    "cell_type": "raw",
    "source": [],
    "metadata": {
     "collapsed": false
    }
   }
  }
 },
 "nbformat": 4,
 "nbformat_minor": 0
}