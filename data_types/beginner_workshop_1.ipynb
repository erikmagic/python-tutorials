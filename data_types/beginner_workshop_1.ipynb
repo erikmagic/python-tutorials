{
 "cells": [
  {
   "cell_type": "markdown",
   "metadata": {},
   "source": [
    "#  Python Beginner Workshop 1"
   ]
  },
  {
   "cell_type": "markdown",
   "metadata": {},
   "source": [
    "## Introduction to Jupyter Notebook and Google Colab\n",
    "> In this workshop, we will be using Jupyter. Jupyter is a tool that allows us to write directly in our browser. Jupyter is very popular among data scientists as it allows us to visualize our data directly in our code.\n",
    "> Jupyter Notebooks are \".ipynb\" files instead of normal \".py\" files. In fact, they work with IPython instead of Python ( IPython being a superset of Python):\n",
    "> \"IPython (Interactive Python) is a command shell for interactive computing in multiple programming languages, originally developed for the Python programming language, that offers introspection, rich media, shell syntax, tab completion, and history.\"  \n",
    "Google Colab (the website you are currently on) uses IPYthon and Jupyter Notebooks. Jupyter notebooks are web applications which allows to write files that contain live code, equations, visualisations and text. "
   ]
  },
  {
   "cell_type": "markdown",
   "metadata": {},
   "source": [
    "#### Installing Python, required packages and Jupyter Lab [Optional, we skip this section because we run our stuff in colab]\n",
    "> 1. We start by installing Python at the following [url](https://www.python.org/downloads/) (select Python 3.7.3).\n",
    "2. Verify that the intallation worked by looking up for Python in the Windows search bar. ![py_search](https://i.ibb.co/x8H7Db7/image.png)  \n",
    "3. Download this current notebook.  ![ce_notebook](https://i.ibb.co/wBmYhR8/image.png)  \n",
    "4. After you've downloaded this notebook, put it in a folder along with this [file](https://drive.google.com/open?id=1yWr_-NAVEynJrK8YIJIdYAruwAs56AfP).  \n",
    "5. Open the _command prompt_ on windows or the terminal on Mac/Linux. and go the folder where you saved your jupyter notebook ![cmd](https://i.ibb.co/RvrQMC4/image.png)  \n",
    "6. Download necessary packages with Pip.  ![pip](https://i.ibb.co/CMmnMCH/image.png)  \n",
    "7. Open up this notebook on Jupyter lab.  ![lab](https://i.ibb.co/qjJcrB5/image.png)  \n",
    "![lab2](https://i.ibb.co/5nNj32S/image.png)  \n"
   ]
  },
  {
   "cell_type": "markdown",
   "metadata": {},
   "source": [
    "## How to properly use JupyterLab or Google Colab [We start here]\n",
    "> The trick is to properly segment our code into multiple cells in order to organize our work.\n",
    "To create cells, click on the _+_ button in the toolbar at the top of the notebook. A cell can be of multiple types, its default type is code, but it can also contain markdown text. The dropbar at the end of the top menu allows you to choose which type is you cell. You will mostly use code cells.  \n",
    "Cells are stacked on top of each others, so when you execute one cell, later cells can use the variables declared in this previous cell. "
   ]
  },
  {
   "cell_type": "code",
   "execution_count": 12,
   "metadata": {},
   "outputs": [],
   "source": [
    "x = 3"
   ]
  },
  {
   "cell_type": "code",
   "execution_count": 13,
   "metadata": {},
   "outputs": [
    {
     "name": "stdout",
     "output_type": "stream",
     "text": [
      "3\n"
     ]
    }
   ],
   "source": [
    "print(x)"
   ]
  },
  {
   "cell_type": "markdown",
   "metadata": {},
   "source": [
    "> The most important thing about a cell is its status in the current session. A cell can be executed, but it can also not be. For instance:  \n",
    "![alt text](https://i.ibb.co/XZx7F8C/image.png)  \n",
    "The empty square signifies that the cell has not been executed. Every time you restart your environment, or you close and open your notebook, all cells come back to this status. Here:  \n",
    "![alt text](https://i.ibb.co/cXgYbwp/image.png)  \n",
    "The first cell has been executed before the last one as $ 1 < 2 $. Thus, we have declared the variable $x$ and we can print its value with no problem. In the following example, the two cells have been executed in reverse order:  \n",
    "![alt text](https://i.ibb.co/F48kHPp/image.png)  \n",
    "We get an error as $x$ as not been declared before we attempt to print it.  \n",
    "When working on Jupyter notebooks, you always have to remember the order you execute cells and if some variables you declare have not already been used in previous cells. You have to execute your cells in the good order to not get errors!.  \n",
    "To execute a cell, you need to click on the *play* button on the top menu, or you can type *shift and enter*.  \n",
    "![play](https://i.ibb.co/chR1JkB/image.png)"
   ]
  },
  {
   "cell_type": "code",
   "execution_count": 1,
   "metadata": {},
   "outputs": [
    {
     "name": "stdout",
     "output_type": "stream",
     "text": [
      "Requirement already satisfied: expects in /home/jackson/anaconda3/lib/python3.7/site-packages (0.9.0)\n"
     ]
    }
   ],
   "source": [
    "!pip install expects"
   ]
  },
  {
   "cell_type": "code",
   "execution_count": 1,
   "metadata": {},
   "outputs": [
    {
     "name": "stdout",
     "output_type": "stream",
     "text": [
      "please execute my cell!\n"
     ]
    }
   ],
   "source": [
    "from expects import expect, equal\n",
    "print('please execute my cell!')"
   ]
  },
  {
   "cell_type": "markdown",
   "metadata": {},
   "source": [
    "## 1. Built-in Types and Basic Data Structures\n",
    "### 1.1 Numerical types\n",
    "> A data type creates a constraint on a variable, just like *format* in *excel*.  \n",
    "> Two main types:\n",
    "* integers -> int\n",
    "* floating points (equivalent of decimals) -> float"
   ]
  },
  {
   "cell_type": "code",
   "execution_count": 15,
   "metadata": {},
   "outputs": [
    {
     "name": "stdout",
     "output_type": "stream",
     "text": [
      "x / y = 2.0\n"
     ]
    }
   ],
   "source": [
    "# this is a comment (starts with #)\n",
    "\"\"\"\n",
    "    this is a multi-lines comment\n",
    "\"\"\"\n",
    "'''\n",
    "    this is also a multi-lines comment\n",
    "'''\n",
    "\n",
    "x = 3\n",
    "y = 1.5\n",
    "z = x / y\n",
    "print(\"x / y = {}\".format(z)) # print is a function and the parenthesis afterwards specify inputs"
   ]
  },
  {
   "cell_type": "markdown",
   "metadata": {},
   "source": [
    "> Numerical types type casting and conversion are implicitely made by the interpreter. In the last cell, the result of the division ($z$) is 2.0 and not 2. By default, an integer will be cast to a float when it is part of operations containing other floats."
   ]
  },
  {
   "cell_type": "code",
   "execution_count": 16,
   "metadata": {},
   "outputs": [
    {
     "name": "stdout",
     "output_type": "stream",
     "text": [
      "int(z) = \n",
      "z's new value after its conversion from float to int \n",
      "absolute value in python = 4\n"
     ]
    },
    {
     "data": {
      "text/plain": [
       "True"
      ]
     },
     "execution_count": 16,
     "metadata": {},
     "output_type": "execute_result"
    }
   ],
   "source": [
    "intz = int(z)\n",
    "print(\"int(z) = \".format(intz))\n",
    "\n",
    "floatz = float(intz)\n",
    "print(\"z's new value after its conversion from float to int \".format(floatz))\n",
    "\n",
    "x_negative = -4\n",
    "x_positive = abs(x_negative) # abs stands for absolute value\n",
    "print(\"absolute value in python = {}\".format(x_positive))\n",
    "\n",
    "\n",
    "exponent = x ** 2\n",
    "\n",
    "exponent == pow(x, 2) # pow for power"
   ]
  },
  {
   "cell_type": "markdown",
   "metadata": {},
   "source": [
    "### 1.2 Boolean values (bool)\n",
    "> Boolean values are either  \n",
    "```\n",
    "False\n",
    "True\n",
    "```  \n",
    "They are very useful for loops and control flows which will be seen later."
   ]
  },
  {
   "cell_type": "code",
   "execution_count": 17,
   "metadata": {},
   "outputs": [
    {
     "name": "stdout",
     "output_type": "stream",
     "text": [
      "variable_false as a number: 0.0\n",
      "variable_true as a number: 1\n"
     ]
    }
   ],
   "source": [
    "variable_false = False\n",
    "variable_true = True\n",
    "\n",
    "# boolean values can be converted to numbers\n",
    "variable_false_as_a_number = float(variable_false)\n",
    "variable_true_as_a_number = int(variable_true)\n",
    "\n",
    "print(\"variable_false as a number: {}\".format(variable_false_as_a_number))\n",
    "print(\"variable_true as a number: {}\".format(variable_true_as_a_number))\n"
   ]
  },
  {
   "cell_type": "markdown",
   "metadata": {},
   "source": [
    "> In the previous cell, we use what is called \"variable casting\" or \"typecasting\". This is the conversion of one data type to another. Here, we converted a boolean value to a number. This will be useful later on."
   ]
  },
  {
   "cell_type": "markdown",
   "metadata": {},
   "source": [
    "### 1.3 Strings (str)\n",
    "> Strings are immutable sequences of characters in Unicode. Strings can be declared in the three following ways:  \n",
    "* single quotes: ``` 'Hey, how are you doing' ```  \n",
    "* double quotes: ``` \"Good, yourself?\" ```\n",
    "* triple quotes: ``` \"\"\" thanks thanks \"\"\", ''' coool! ''' ```  \n",
    "Triple quotes can be used for multi-lines strings"
   ]
  },
  {
   "cell_type": "code",
   "execution_count": 18,
   "metadata": {},
   "outputs": [
    {
     "data": {
      "text/plain": [
       "'Hi my name is erik and I am Canadian'"
      ]
     },
     "execution_count": 18,
     "metadata": {},
     "output_type": "execute_result"
    }
   ],
   "source": [
    "nationality = 'Canadian'\n",
    "name = 'erik'\n",
    "\n",
    "'Hi my name is {} and I am {}'.format(name, nationality)"
   ]
  },
  {
   "cell_type": "code",
   "execution_count": 19,
   "metadata": {},
   "outputs": [
    {
     "data": {
      "text/plain": [
       "'I AM VERY MAD'"
      ]
     },
     "execution_count": 19,
     "metadata": {},
     "output_type": "execute_result"
    }
   ],
   "source": [
    "# there exists numerous built-in methods for strings\n",
    "mad = \"I am very mad\"\n",
    "mad.upper()"
   ]
  },
  {
   "cell_type": "markdown",
   "metadata": {},
   "source": [
    "> strings can be manipulated using \"indexing\" and \"slicing\". *Indexable data types and strings start at position 0!*. This is different from languages used by math people such as $R$ where indexing starts at position 1."
   ]
  },
  {
   "cell_type": "code",
   "execution_count": 20,
   "metadata": {},
   "outputs": [
    {
     "name": "stdout",
     "output_type": "stream",
     "text": [
      "I\n",
      "a\n",
      "d\n",
      "a\n"
     ]
    }
   ],
   "source": [
    "print(mad[0]) # returns the first character of the string mad (I)\n",
    "print(mad[2]) # returns the third character of the string mad (a)\n",
    "print(mad[-1]) # returns the last character of the string mad (d)\n",
    "                # because -0 makes no sense, right\n",
    "print(mad[-2]) # returns the penultimate character (a)"
   ]
  },
  {
   "cell_type": "markdown",
   "metadata": {},
   "source": [
    "> Surprisingly, some numerical operations can be applied to strings (like addition and multiplication)"
   ]
  },
  {
   "cell_type": "code",
   "execution_count": 21,
   "metadata": {},
   "outputs": [
    {
     "name": "stdout",
     "output_type": "stream",
     "text": [
      "I am very madI am very mad\n",
      "I am very mad but I am still chill nonetheless\n"
     ]
    }
   ],
   "source": [
    "very_mad = mad * 2\n",
    "print(very_mad)\n",
    "chill = \" but I am still chill nonetheless\"\n",
    "print(mad + chill)"
   ]
  },
  {
   "cell_type": "markdown",
   "metadata": {},
   "source": [
    "#### Exercise 1\n",
    "> Write the word \"love\" from the sentence \"I owe my friends all I have.\" using indexing and string additions."
   ]
  },
  {
   "cell_type": "code",
   "execution_count": 2,
   "metadata": {},
   "outputs": [
    {
     "ename": "AssertionError",
     "evalue": "\nexpected: None to equal 'love'",
     "output_type": "error",
     "traceback": [
      "\u001b[0;31m---------------------------------------------------------------------------\u001b[0m",
      "\u001b[0;31mAssertionError\u001b[0m                            Traceback (most recent call last)",
      "\u001b[0;32m<ipython-input-2-88a74beff133>\u001b[0m in \u001b[0;36m<module>\u001b[0;34m\u001b[0m\n\u001b[1;32m      3\u001b[0m \u001b[0mx\u001b[0m \u001b[0;34m=\u001b[0m \u001b[0;32mNone\u001b[0m\u001b[0;34m\u001b[0m\u001b[0;34m\u001b[0m\u001b[0m\n\u001b[1;32m      4\u001b[0m \u001b[0;34m\u001b[0m\u001b[0m\n\u001b[0;32m----> 5\u001b[0;31m \u001b[0mexpect\u001b[0m\u001b[0;34m(\u001b[0m\u001b[0mx\u001b[0m\u001b[0;34m)\u001b[0m\u001b[0;34m.\u001b[0m\u001b[0mto\u001b[0m\u001b[0;34m(\u001b[0m\u001b[0mequal\u001b[0m\u001b[0;34m(\u001b[0m\u001b[0;34m\"love\"\u001b[0m\u001b[0;34m)\u001b[0m\u001b[0;34m)\u001b[0m\u001b[0;34m\u001b[0m\u001b[0;34m\u001b[0m\u001b[0m\n\u001b[0m",
      "\u001b[0;32m~/anaconda3/lib/python3.7/site-packages/expects/expectations.py\u001b[0m in \u001b[0;36mto\u001b[0;34m(self, matcher)\u001b[0m\n\u001b[1;32m     23\u001b[0m         \u001b[0m__tracebackhide__\u001b[0m \u001b[0;34m=\u001b[0m \u001b[0;32mTrue\u001b[0m\u001b[0;34m\u001b[0m\u001b[0;34m\u001b[0m\u001b[0m\n\u001b[1;32m     24\u001b[0m \u001b[0;34m\u001b[0m\u001b[0m\n\u001b[0;32m---> 25\u001b[0;31m         \u001b[0mself\u001b[0m\u001b[0;34m.\u001b[0m\u001b[0m_assert\u001b[0m\u001b[0;34m(\u001b[0m\u001b[0mmatcher\u001b[0m\u001b[0;34m)\u001b[0m\u001b[0;34m\u001b[0m\u001b[0;34m\u001b[0m\u001b[0m\n\u001b[0m\u001b[1;32m     26\u001b[0m \u001b[0;34m\u001b[0m\u001b[0m\n\u001b[1;32m     27\u001b[0m     \u001b[0;32mdef\u001b[0m \u001b[0m_assert\u001b[0m\u001b[0;34m(\u001b[0m\u001b[0mself\u001b[0m\u001b[0;34m,\u001b[0m \u001b[0mmatcher\u001b[0m\u001b[0;34m)\u001b[0m\u001b[0;34m:\u001b[0m\u001b[0;34m\u001b[0m\u001b[0;34m\u001b[0m\u001b[0m\n",
      "\u001b[0;32m~/anaconda3/lib/python3.7/site-packages/expects/expectations.py\u001b[0m in \u001b[0;36m_assert\u001b[0;34m(self, matcher)\u001b[0m\n\u001b[1;32m     31\u001b[0m \u001b[0;34m\u001b[0m\u001b[0m\n\u001b[1;32m     32\u001b[0m         \u001b[0;32mif\u001b[0m \u001b[0;32mnot\u001b[0m \u001b[0mok\u001b[0m\u001b[0;34m:\u001b[0m\u001b[0;34m\u001b[0m\u001b[0;34m\u001b[0m\u001b[0m\n\u001b[0;32m---> 33\u001b[0;31m             \u001b[0;32mraise\u001b[0m \u001b[0mAssertionError\u001b[0m\u001b[0;34m(\u001b[0m\u001b[0mself\u001b[0m\u001b[0;34m.\u001b[0m\u001b[0m_failure_message\u001b[0m\u001b[0;34m(\u001b[0m\u001b[0mmatcher\u001b[0m\u001b[0;34m,\u001b[0m \u001b[0mreasons\u001b[0m\u001b[0;34m)\u001b[0m\u001b[0;34m)\u001b[0m\u001b[0;34m\u001b[0m\u001b[0;34m\u001b[0m\u001b[0m\n\u001b[0m\u001b[1;32m     34\u001b[0m \u001b[0;34m\u001b[0m\u001b[0m\n\u001b[1;32m     35\u001b[0m     \u001b[0;32mdef\u001b[0m \u001b[0m_match\u001b[0m\u001b[0;34m(\u001b[0m\u001b[0mself\u001b[0m\u001b[0;34m,\u001b[0m \u001b[0mmatcher\u001b[0m\u001b[0;34m)\u001b[0m\u001b[0;34m:\u001b[0m\u001b[0;34m\u001b[0m\u001b[0;34m\u001b[0m\u001b[0m\n",
      "\u001b[0;31mAssertionError\u001b[0m: \nexpected: None to equal 'love'"
     ]
    }
   ],
   "source": [
    "sentence = \"I owe my friends all I have.\"\n",
    "\n",
    "x = None\n",
    "\n",
    "expect(x).to(equal(\"love\"))"
   ]
  },
  {
   "cell_type": "markdown",
   "metadata": {},
   "source": [
    "> We can also use the slicing operation in order to retrieve strings from other strings"
   ]
  },
  {
   "cell_type": "code",
   "execution_count": 23,
   "metadata": {},
   "outputs": [
    {
     "data": {
      "text/plain": [
       "('walk', ' blind', 'I walk through the valley')"
      ]
     },
     "execution_count": 23,
     "metadata": {},
     "output_type": "execute_result"
    }
   ],
   "source": [
    "my_sentence = \"\"\"I walk through the valley of the shadow of death. \n",
    "    I fear no evil because I'm blind to it all. \"\"\"\n",
    "walk = my_sentence[2:6]\n",
    "blind = my_sentence[-18:-12]\n",
    "walking_where = my_sentence[0:25]\n",
    "walk, blind, walking_where"
   ]
  },
  {
   "cell_type": "code",
   "execution_count": 24,
   "metadata": {},
   "outputs": [],
   "source": [
    "# Notice that my_sentence[0:25] == my_sentence[:25]\n",
    "assert walking_where == my_sentence[:25]"
   ]
  },
  {
   "cell_type": "markdown",
   "metadata": {},
   "source": [
    "#### Exercise 2\n",
    "> Retrieve the sentence \"somewhere is the Truth\" from the sentence  \n",
    "\"Truth is you can stop and stare\n",
    "Bled myself out and no one cares\n",
    "Dug a trench out, laid down there\n",
    "With a shovel up out of reach somewhere\"."
   ]
  },
  {
   "cell_type": "code",
   "execution_count": 4,
   "metadata": {},
   "outputs": [
    {
     "ename": "AssertionError",
     "evalue": "\nexpected: None to equal 'somewhere is the Truth'",
     "output_type": "error",
     "traceback": [
      "\u001b[0;31m---------------------------------------------------------------------------\u001b[0m",
      "\u001b[0;31mAssertionError\u001b[0m                            Traceback (most recent call last)",
      "\u001b[0;32m<ipython-input-4-268570922607>\u001b[0m in \u001b[0;36m<module>\u001b[0;34m\u001b[0m\n\u001b[1;32m      6\u001b[0m \u001b[0mx\u001b[0m \u001b[0;34m=\u001b[0m \u001b[0;32mNone\u001b[0m\u001b[0;34m\u001b[0m\u001b[0;34m\u001b[0m\u001b[0m\n\u001b[1;32m      7\u001b[0m \u001b[0;34m\u001b[0m\u001b[0m\n\u001b[0;32m----> 8\u001b[0;31m \u001b[0mexpect\u001b[0m\u001b[0;34m(\u001b[0m\u001b[0mx\u001b[0m\u001b[0;34m)\u001b[0m\u001b[0;34m.\u001b[0m\u001b[0mto\u001b[0m\u001b[0;34m(\u001b[0m\u001b[0mequal\u001b[0m\u001b[0;34m(\u001b[0m\u001b[0;34m\"somewhere is the Truth\"\u001b[0m\u001b[0;34m)\u001b[0m\u001b[0;34m)\u001b[0m\u001b[0;34m\u001b[0m\u001b[0;34m\u001b[0m\u001b[0m\n\u001b[0m",
      "\u001b[0;32m~/anaconda3/lib/python3.7/site-packages/expects/expectations.py\u001b[0m in \u001b[0;36mto\u001b[0;34m(self, matcher)\u001b[0m\n\u001b[1;32m     23\u001b[0m         \u001b[0m__tracebackhide__\u001b[0m \u001b[0;34m=\u001b[0m \u001b[0;32mTrue\u001b[0m\u001b[0;34m\u001b[0m\u001b[0;34m\u001b[0m\u001b[0m\n\u001b[1;32m     24\u001b[0m \u001b[0;34m\u001b[0m\u001b[0m\n\u001b[0;32m---> 25\u001b[0;31m         \u001b[0mself\u001b[0m\u001b[0;34m.\u001b[0m\u001b[0m_assert\u001b[0m\u001b[0;34m(\u001b[0m\u001b[0mmatcher\u001b[0m\u001b[0;34m)\u001b[0m\u001b[0;34m\u001b[0m\u001b[0;34m\u001b[0m\u001b[0m\n\u001b[0m\u001b[1;32m     26\u001b[0m \u001b[0;34m\u001b[0m\u001b[0m\n\u001b[1;32m     27\u001b[0m     \u001b[0;32mdef\u001b[0m \u001b[0m_assert\u001b[0m\u001b[0;34m(\u001b[0m\u001b[0mself\u001b[0m\u001b[0;34m,\u001b[0m \u001b[0mmatcher\u001b[0m\u001b[0;34m)\u001b[0m\u001b[0;34m:\u001b[0m\u001b[0;34m\u001b[0m\u001b[0;34m\u001b[0m\u001b[0m\n",
      "\u001b[0;32m~/anaconda3/lib/python3.7/site-packages/expects/expectations.py\u001b[0m in \u001b[0;36m_assert\u001b[0;34m(self, matcher)\u001b[0m\n\u001b[1;32m     31\u001b[0m \u001b[0;34m\u001b[0m\u001b[0m\n\u001b[1;32m     32\u001b[0m         \u001b[0;32mif\u001b[0m \u001b[0;32mnot\u001b[0m \u001b[0mok\u001b[0m\u001b[0;34m:\u001b[0m\u001b[0;34m\u001b[0m\u001b[0;34m\u001b[0m\u001b[0m\n\u001b[0;32m---> 33\u001b[0;31m             \u001b[0;32mraise\u001b[0m \u001b[0mAssertionError\u001b[0m\u001b[0;34m(\u001b[0m\u001b[0mself\u001b[0m\u001b[0;34m.\u001b[0m\u001b[0m_failure_message\u001b[0m\u001b[0;34m(\u001b[0m\u001b[0mmatcher\u001b[0m\u001b[0;34m,\u001b[0m \u001b[0mreasons\u001b[0m\u001b[0;34m)\u001b[0m\u001b[0;34m)\u001b[0m\u001b[0;34m\u001b[0m\u001b[0;34m\u001b[0m\u001b[0m\n\u001b[0m\u001b[1;32m     34\u001b[0m \u001b[0;34m\u001b[0m\u001b[0m\n\u001b[1;32m     35\u001b[0m     \u001b[0;32mdef\u001b[0m \u001b[0m_match\u001b[0m\u001b[0;34m(\u001b[0m\u001b[0mself\u001b[0m\u001b[0;34m,\u001b[0m \u001b[0mmatcher\u001b[0m\u001b[0;34m)\u001b[0m\u001b[0;34m:\u001b[0m\u001b[0;34m\u001b[0m\u001b[0;34m\u001b[0m\u001b[0m\n",
      "\u001b[0;31mAssertionError\u001b[0m: \nexpected: None to equal 'somewhere is the Truth'"
     ]
    }
   ],
   "source": [
    "sentence = \"\"\"Truth is you can stop and stare\n",
    "Bled myself out and no one cares\n",
    "Dug a trench out, laid down there\n",
    "With a shovel up out of reach somewhere\"\"\"\n",
    "\n",
    "x = None\n",
    "\n",
    "expect(x).to(equal(\"somewhere is the Truth\"))\n"
   ]
  },
  {
   "cell_type": "markdown",
   "metadata": {},
   "source": [
    "### 1.4 Lists\n",
    "> A list is a collection which is mutable (can be changed) and ordered. A list allows duplicate members. As seen with strings (which can also be seen as a collection of characters), slicing and indexing can be used on lists."
   ]
  },
  {
   "cell_type": "code",
   "execution_count": 26,
   "metadata": {},
   "outputs": [
    {
     "name": "stdout",
     "output_type": "stream",
     "text": [
      "first element: element1\n",
      "last element: 99\n"
     ]
    },
    {
     "data": {
      "text/plain": [
       "['element1', False]"
      ]
     },
     "execution_count": 26,
     "metadata": {},
     "output_type": "execute_result"
    }
   ],
   "source": [
    "my_list = [\"element1\", False, 99]\n",
    "first_element = my_list[0]\n",
    "print('first element: {}'.format(first_element))\n",
    "last_element = my_list[-1]\n",
    "print('last element: {}'.format(last_element))\n",
    "new_list = my_list[:2]\n",
    "\n",
    "assert new_list == my_list[0:2]\n",
    "new_list"
   ]
  },
  {
   "cell_type": "markdown",
   "metadata": {},
   "source": [
    "> We can iteratively add elements to a list with the *append* function"
   ]
  },
  {
   "cell_type": "code",
   "execution_count": 27,
   "metadata": {},
   "outputs": [
    {
     "name": "stdout",
     "output_type": "stream",
     "text": [
      "new list: ['element1', False]\n"
     ]
    },
    {
     "data": {
      "text/plain": [
       "['element1', False, 'new element']"
      ]
     },
     "execution_count": 27,
     "metadata": {},
     "output_type": "execute_result"
    }
   ],
   "source": [
    "print(\"new list: {}\".format(new_list))\n",
    "new_list.append(\"new element\")\n",
    "new_list"
   ]
  },
  {
   "cell_type": "markdown",
   "metadata": {},
   "source": [
    "> There is the *len* function to get the size of a list."
   ]
  },
  {
   "cell_type": "code",
   "execution_count": 28,
   "metadata": {},
   "outputs": [
    {
     "data": {
      "text/plain": [
       "3"
      ]
     },
     "execution_count": 28,
     "metadata": {},
     "output_type": "execute_result"
    }
   ],
   "source": [
    "len(new_list)"
   ]
  },
  {
   "cell_type": "markdown",
   "metadata": {},
   "source": [
    "#### Exercise 3:\n",
    "> Retrieve a list consisting of the last three elements of this long list."
   ]
  },
  {
   "cell_type": "code",
   "execution_count": 7,
   "metadata": {},
   "outputs": [
    {
     "ename": "AssertionError",
     "evalue": "\nexpected: None to equal ['Diagnosis:', 'Diagnosis 2:', 'Procedure:']",
     "output_type": "error",
     "traceback": [
      "\u001b[0;31m---------------------------------------------------------------------------\u001b[0m",
      "\u001b[0;31mAssertionError\u001b[0m                            Traceback (most recent call last)",
      "\u001b[0;32m<ipython-input-7-66923c574eaf>\u001b[0m in \u001b[0;36m<module>\u001b[0;34m\u001b[0m\n\u001b[1;32m     39\u001b[0m \u001b[0mx\u001b[0m \u001b[0;34m=\u001b[0m \u001b[0;32mNone\u001b[0m\u001b[0;34m\u001b[0m\u001b[0;34m\u001b[0m\u001b[0m\n\u001b[1;32m     40\u001b[0m \u001b[0;34m\u001b[0m\u001b[0m\n\u001b[0;32m---> 41\u001b[0;31m \u001b[0mexpect\u001b[0m\u001b[0;34m(\u001b[0m\u001b[0mx\u001b[0m\u001b[0;34m)\u001b[0m\u001b[0;34m.\u001b[0m\u001b[0mto\u001b[0m\u001b[0;34m(\u001b[0m\u001b[0mequal\u001b[0m\u001b[0;34m(\u001b[0m\u001b[0;34m[\u001b[0m\u001b[0;34m'Diagnosis:'\u001b[0m\u001b[0;34m,\u001b[0m \u001b[0;34m'Diagnosis 2:'\u001b[0m\u001b[0;34m,\u001b[0m \u001b[0;34m'Procedure:'\u001b[0m\u001b[0;34m]\u001b[0m\u001b[0;34m)\u001b[0m\u001b[0;34m)\u001b[0m\u001b[0;34m\u001b[0m\u001b[0;34m\u001b[0m\u001b[0m\n\u001b[0m",
      "\u001b[0;32m~/anaconda3/lib/python3.7/site-packages/expects/expectations.py\u001b[0m in \u001b[0;36mto\u001b[0;34m(self, matcher)\u001b[0m\n\u001b[1;32m     23\u001b[0m         \u001b[0m__tracebackhide__\u001b[0m \u001b[0;34m=\u001b[0m \u001b[0;32mTrue\u001b[0m\u001b[0;34m\u001b[0m\u001b[0;34m\u001b[0m\u001b[0m\n\u001b[1;32m     24\u001b[0m \u001b[0;34m\u001b[0m\u001b[0m\n\u001b[0;32m---> 25\u001b[0;31m         \u001b[0mself\u001b[0m\u001b[0;34m.\u001b[0m\u001b[0m_assert\u001b[0m\u001b[0;34m(\u001b[0m\u001b[0mmatcher\u001b[0m\u001b[0;34m)\u001b[0m\u001b[0;34m\u001b[0m\u001b[0;34m\u001b[0m\u001b[0m\n\u001b[0m\u001b[1;32m     26\u001b[0m \u001b[0;34m\u001b[0m\u001b[0m\n\u001b[1;32m     27\u001b[0m     \u001b[0;32mdef\u001b[0m \u001b[0m_assert\u001b[0m\u001b[0;34m(\u001b[0m\u001b[0mself\u001b[0m\u001b[0;34m,\u001b[0m \u001b[0mmatcher\u001b[0m\u001b[0;34m)\u001b[0m\u001b[0;34m:\u001b[0m\u001b[0;34m\u001b[0m\u001b[0;34m\u001b[0m\u001b[0m\n",
      "\u001b[0;32m~/anaconda3/lib/python3.7/site-packages/expects/expectations.py\u001b[0m in \u001b[0;36m_assert\u001b[0;34m(self, matcher)\u001b[0m\n\u001b[1;32m     31\u001b[0m \u001b[0;34m\u001b[0m\u001b[0m\n\u001b[1;32m     32\u001b[0m         \u001b[0;32mif\u001b[0m \u001b[0;32mnot\u001b[0m \u001b[0mok\u001b[0m\u001b[0;34m:\u001b[0m\u001b[0;34m\u001b[0m\u001b[0;34m\u001b[0m\u001b[0m\n\u001b[0;32m---> 33\u001b[0;31m             \u001b[0;32mraise\u001b[0m \u001b[0mAssertionError\u001b[0m\u001b[0;34m(\u001b[0m\u001b[0mself\u001b[0m\u001b[0;34m.\u001b[0m\u001b[0m_failure_message\u001b[0m\u001b[0;34m(\u001b[0m\u001b[0mmatcher\u001b[0m\u001b[0;34m,\u001b[0m \u001b[0mreasons\u001b[0m\u001b[0;34m)\u001b[0m\u001b[0;34m)\u001b[0m\u001b[0;34m\u001b[0m\u001b[0;34m\u001b[0m\u001b[0m\n\u001b[0m\u001b[1;32m     34\u001b[0m \u001b[0;34m\u001b[0m\u001b[0m\n\u001b[1;32m     35\u001b[0m     \u001b[0;32mdef\u001b[0m \u001b[0m_match\u001b[0m\u001b[0;34m(\u001b[0m\u001b[0mself\u001b[0m\u001b[0;34m,\u001b[0m \u001b[0mmatcher\u001b[0m\u001b[0;34m)\u001b[0m\u001b[0;34m:\u001b[0m\u001b[0;34m\u001b[0m\u001b[0;34m\u001b[0m\u001b[0m\n",
      "\u001b[0;31mAssertionError\u001b[0m: \nexpected: None to equal ['Diagnosis:', 'Diagnosis 2:', 'Procedure:']"
     ]
    }
   ],
   "source": [
    "random_list = [\n",
    "    'Email:',\n",
    "    'SSN:',\n",
    "    'Address:',\n",
    "    'Home Phone:',\n",
    "    'Mobile Phone: ',\n",
    "    'DOB:',\n",
    "    'Date of Surgery:',\n",
    "    'Date of Service:',\n",
    "    'Facility of Service:',\n",
    "    'Clinic Number:',\n",
    "    'Employer:',\n",
    "    'Work Phone: ',\n",
    "    'Fax: ',\n",
    "    'Type:',\n",
    "    'IPA:',\n",
    "    'Health Plan:',\n",
    "    'ID #:',\n",
    "    'Claims Address:',\n",
    "    'Group #:',\n",
    "    'Claim # / PO #:',\n",
    "    'Phone:',\n",
    "    'Fax:',\n",
    "    'Contact',\n",
    "    'Adjuster Email',\n",
    "    'Util Review Phone',\n",
    "    'Util Review Fax',\n",
    "    'Doctor:',\n",
    "    'NPI #: ',\n",
    "    'Date of Injury: ',\n",
    "    'Body Parts:',\n",
    "    'Body Part Side:',\n",
    "    'Gender:',\n",
    "    'Diagnosis:',\n",
    "    'Diagnosis 2:',\n",
    "    'Procedure:'\n",
    "    ]\n",
    "\n",
    "x = None\n",
    "\n",
    "expect(x).to(equal(['Diagnosis:', 'Diagnosis 2:', 'Procedure:']))"
   ]
  },
  {
   "cell_type": "markdown",
   "metadata": {},
   "source": [
    "### 1.5 Tuples\n",
    "> Tuples are like mini lists that cannot be modified and often contains only a few elements. Tuples allow for duplicates and are ordered. Tuples are often used as return values when we want to return multiple things from one function.\n"
   ]
  },
  {
   "cell_type": "code",
   "execution_count": 30,
   "metadata": {},
   "outputs": [
    {
     "data": {
      "text/plain": [
       "(4, 5, 'hello')"
      ]
     },
     "execution_count": 30,
     "metadata": {},
     "output_type": "execute_result"
    }
   ],
   "source": [
    "x = 4\n",
    "my_tuple = (x, 5, 'hello')\n",
    "my_tuple"
   ]
  },
  {
   "cell_type": "code",
   "execution_count": 31,
   "metadata": {},
   "outputs": [
    {
     "data": {
      "text/plain": [
       "4"
      ]
     },
     "execution_count": 31,
     "metadata": {},
     "output_type": "execute_result"
    }
   ],
   "source": [
    "# first element of the tuple\n",
    "my_tuple[0]"
   ]
  },
  {
   "cell_type": "code",
   "execution_count": 32,
   "metadata": {},
   "outputs": [
    {
     "data": {
      "text/plain": [
       "(5, 'hello')"
      ]
     },
     "execution_count": 32,
     "metadata": {},
     "output_type": "execute_result"
    }
   ],
   "source": [
    "# two last elements of the tuple\n",
    "my_tuple[1: len(my_tuple)]"
   ]
  },
  {
   "cell_type": "code",
   "execution_count": 33,
   "metadata": {},
   "outputs": [
    {
     "data": {
      "text/plain": [
       "(4, 5)"
      ]
     },
     "execution_count": 33,
     "metadata": {},
     "output_type": "execute_result"
    }
   ],
   "source": [
    "# \"unpacking\" a tuple\n",
    "element1, element2, _ = my_tuple\n",
    "element1, element2"
   ]
  },
  {
   "cell_type": "markdown",
   "metadata": {},
   "source": [
    "#### Exercise 4:\n",
    "> Return a tuple of three elements from one input number. The first of these is the number divided by 2. The second one is the $int$ value of the input number. The third element is the input number to its fourth power."
   ]
  },
  {
   "cell_type": "code",
   "execution_count": 8,
   "metadata": {},
   "outputs": [
    {
     "ename": "AssertionError",
     "evalue": "\nexpected: None to equal (4.66, 9, 7545.0765337600005)",
     "output_type": "error",
     "traceback": [
      "\u001b[0;31m---------------------------------------------------------------------------\u001b[0m",
      "\u001b[0;31mAssertionError\u001b[0m                            Traceback (most recent call last)",
      "\u001b[0;32m<ipython-input-8-ed9fbae3c1bb>\u001b[0m in \u001b[0;36m<module>\u001b[0;34m\u001b[0m\n\u001b[1;32m      3\u001b[0m \u001b[0mx\u001b[0m \u001b[0;34m=\u001b[0m \u001b[0;32mNone\u001b[0m\u001b[0;34m\u001b[0m\u001b[0;34m\u001b[0m\u001b[0m\n\u001b[1;32m      4\u001b[0m \u001b[0;34m\u001b[0m\u001b[0m\n\u001b[0;32m----> 5\u001b[0;31m \u001b[0mexpect\u001b[0m\u001b[0;34m(\u001b[0m\u001b[0mx\u001b[0m\u001b[0;34m)\u001b[0m\u001b[0;34m.\u001b[0m\u001b[0mto\u001b[0m\u001b[0;34m(\u001b[0m\u001b[0mequal\u001b[0m\u001b[0;34m(\u001b[0m\u001b[0;34m(\u001b[0m\u001b[0;36m4.66\u001b[0m\u001b[0;34m,\u001b[0m \u001b[0;36m9\u001b[0m\u001b[0;34m,\u001b[0m \u001b[0;36m7545.0765337600005\u001b[0m\u001b[0;34m)\u001b[0m\u001b[0;34m)\u001b[0m\u001b[0;34m)\u001b[0m\u001b[0;34m\u001b[0m\u001b[0;34m\u001b[0m\u001b[0m\n\u001b[0m",
      "\u001b[0;32m~/anaconda3/lib/python3.7/site-packages/expects/expectations.py\u001b[0m in \u001b[0;36mto\u001b[0;34m(self, matcher)\u001b[0m\n\u001b[1;32m     23\u001b[0m         \u001b[0m__tracebackhide__\u001b[0m \u001b[0;34m=\u001b[0m \u001b[0;32mTrue\u001b[0m\u001b[0;34m\u001b[0m\u001b[0;34m\u001b[0m\u001b[0m\n\u001b[1;32m     24\u001b[0m \u001b[0;34m\u001b[0m\u001b[0m\n\u001b[0;32m---> 25\u001b[0;31m         \u001b[0mself\u001b[0m\u001b[0;34m.\u001b[0m\u001b[0m_assert\u001b[0m\u001b[0;34m(\u001b[0m\u001b[0mmatcher\u001b[0m\u001b[0;34m)\u001b[0m\u001b[0;34m\u001b[0m\u001b[0;34m\u001b[0m\u001b[0m\n\u001b[0m\u001b[1;32m     26\u001b[0m \u001b[0;34m\u001b[0m\u001b[0m\n\u001b[1;32m     27\u001b[0m     \u001b[0;32mdef\u001b[0m \u001b[0m_assert\u001b[0m\u001b[0;34m(\u001b[0m\u001b[0mself\u001b[0m\u001b[0;34m,\u001b[0m \u001b[0mmatcher\u001b[0m\u001b[0;34m)\u001b[0m\u001b[0;34m:\u001b[0m\u001b[0;34m\u001b[0m\u001b[0;34m\u001b[0m\u001b[0m\n",
      "\u001b[0;32m~/anaconda3/lib/python3.7/site-packages/expects/expectations.py\u001b[0m in \u001b[0;36m_assert\u001b[0;34m(self, matcher)\u001b[0m\n\u001b[1;32m     31\u001b[0m \u001b[0;34m\u001b[0m\u001b[0m\n\u001b[1;32m     32\u001b[0m         \u001b[0;32mif\u001b[0m \u001b[0;32mnot\u001b[0m \u001b[0mok\u001b[0m\u001b[0;34m:\u001b[0m\u001b[0;34m\u001b[0m\u001b[0;34m\u001b[0m\u001b[0m\n\u001b[0;32m---> 33\u001b[0;31m             \u001b[0;32mraise\u001b[0m \u001b[0mAssertionError\u001b[0m\u001b[0;34m(\u001b[0m\u001b[0mself\u001b[0m\u001b[0;34m.\u001b[0m\u001b[0m_failure_message\u001b[0m\u001b[0;34m(\u001b[0m\u001b[0mmatcher\u001b[0m\u001b[0;34m,\u001b[0m \u001b[0mreasons\u001b[0m\u001b[0;34m)\u001b[0m\u001b[0;34m)\u001b[0m\u001b[0;34m\u001b[0m\u001b[0;34m\u001b[0m\u001b[0m\n\u001b[0m\u001b[1;32m     34\u001b[0m \u001b[0;34m\u001b[0m\u001b[0m\n\u001b[1;32m     35\u001b[0m     \u001b[0;32mdef\u001b[0m \u001b[0m_match\u001b[0m\u001b[0;34m(\u001b[0m\u001b[0mself\u001b[0m\u001b[0;34m,\u001b[0m \u001b[0mmatcher\u001b[0m\u001b[0;34m)\u001b[0m\u001b[0;34m:\u001b[0m\u001b[0;34m\u001b[0m\u001b[0;34m\u001b[0m\u001b[0m\n",
      "\u001b[0;31mAssertionError\u001b[0m: \nexpected: None to equal (4.66, 9, 7545.0765337600005)"
     ]
    }
   ],
   "source": [
    "numb = 9.32\n",
    "\n",
    "x = None\n",
    "\n",
    "expect(x).to(equal((4.66, 9, 7545.0765337600005)))"
   ]
  },
  {
   "cell_type": "markdown",
   "metadata": {},
   "source": [
    "### 1.6 Dictionaries\n",
    "> Dictionaries are very important in Python. They are a collection of key-value pairs. Dictionaries are unordered, changeable and indexed. Dictionaries do not allow for duplicate keys. "
   ]
  },
  {
   "cell_type": "code",
   "execution_count": 35,
   "metadata": {},
   "outputs": [
    {
     "data": {
      "text/plain": [
       "{'key 1': 9, 'key 2': 'hec', 'key 3': [1.43, 6, 77], 'key 4': (132, 'l')}"
      ]
     },
     "execution_count": 35,
     "metadata": {},
     "output_type": "execute_result"
    }
   ],
   "source": [
    "my_empty_dictionary = {}\n",
    "my_dictionary = {\n",
    "    'key 1': 9,\n",
    "    'key 2': 'hec',\n",
    "    'key 3': [1.43, 6, 77],\n",
    "    'key 4': (132, 'l')\n",
    "}\n",
    "my_dictionary"
   ]
  },
  {
   "cell_type": "markdown",
   "metadata": {},
   "source": [
    "> Dictionaries values and keys can be returned in different manners."
   ]
  },
  {
   "cell_type": "code",
   "execution_count": 36,
   "metadata": {},
   "outputs": [
    {
     "name": "stdout",
     "output_type": "stream",
     "text": [
      "the value associated to \"key 1\": 9\n",
      "keys set: dict_keys(['key 1', 'key 2', 'key 3', 'key 4'])\n",
      "values set: dict_values([9, 'hec', [1.43, 6, 77], (132, 'l')])\n"
     ]
    },
    {
     "data": {
      "text/plain": [
       "dict_items([('key 1', 9), ('key 2', 'hec'), ('key 3', [1.43, 6, 77]), ('key 4', (132, 'l'))])"
      ]
     },
     "execution_count": 36,
     "metadata": {},
     "output_type": "execute_result"
    }
   ],
   "source": [
    "value1 = my_dictionary['key 1']\n",
    "print('the value associated to \"key 1\": {}'.format(value1))\n",
    "all_keys = my_dictionary.keys()\n",
    "print('keys set: {}'.format(all_keys))\n",
    "all_values = my_dictionary.values()\n",
    "print('values set: {}'.format(all_values))\n",
    "all_pairs = my_dictionary.items()\n",
    "all_pairs"
   ]
  },
  {
   "cell_type": "markdown",
   "metadata": {},
   "source": [
    "> If a key does not exist, an error is returned."
   ]
  },
  {
   "cell_type": "code",
   "execution_count": 37,
   "metadata": {},
   "outputs": [
    {
     "ename": "KeyError",
     "evalue": "'missing key'",
     "output_type": "error",
     "traceback": [
      "\u001b[1;31m---------------------------------------------------------------------------\u001b[0m",
      "\u001b[1;31mKeyError\u001b[0m                                  Traceback (most recent call last)",
      "\u001b[1;32m<ipython-input-37-69c646a63fb0>\u001b[0m in \u001b[0;36m<module>\u001b[1;34m\u001b[0m\n\u001b[1;32m----> 1\u001b[1;33m \u001b[0mmy_dictionary\u001b[0m\u001b[1;33m[\u001b[0m\u001b[1;34m'missing key'\u001b[0m\u001b[1;33m]\u001b[0m\u001b[1;33m\u001b[0m\u001b[1;33m\u001b[0m\u001b[0m\n\u001b[0m",
      "\u001b[1;31mKeyError\u001b[0m: 'missing key'"
     ]
    }
   ],
   "source": [
    "my_dictionary['missing key']"
   ]
  },
  {
   "cell_type": "markdown",
   "metadata": {},
   "source": [
    "> However, we can always add this key along with a value, if it has found to be missing. "
   ]
  },
  {
   "cell_type": "code",
   "execution_count": 38,
   "metadata": {},
   "outputs": [
    {
     "data": {
      "text/plain": [
       "{'key 1': 9,\n",
       " 'key 2': 'hec',\n",
       " 'key 3': [1.43, 6, 77],\n",
       " 'key 4': (132, 'l'),\n",
       " 'missing key': 'whatever value'}"
      ]
     },
     "execution_count": 38,
     "metadata": {},
     "output_type": "execute_result"
    }
   ],
   "source": [
    "if 'missing key' not in my_dictionary:\n",
    "    my_dictionary['missing key'] = 'whatever value'\n",
    "my_dictionary"
   ]
  },
  {
   "cell_type": "markdown",
   "metadata": {},
   "source": [
    "#### Exercise 5\n",
    "> Form a dictionary having another dictionary has one of its value. In this other dictionary, add the pair 'key 1': 'value 1'. Then, return the value in this pair"
   ]
  },
  {
   "cell_type": "code",
   "execution_count": 9,
   "metadata": {},
   "outputs": [
    {
     "ename": "AssertionError",
     "evalue": "\nexpected: None to equal 'value 1'",
     "output_type": "error",
     "traceback": [
      "\u001b[0;31m---------------------------------------------------------------------------\u001b[0m",
      "\u001b[0;31mAssertionError\u001b[0m                            Traceback (most recent call last)",
      "\u001b[0;32m<ipython-input-9-b037c3c70b71>\u001b[0m in \u001b[0;36m<module>\u001b[0;34m\u001b[0m\n\u001b[1;32m      5\u001b[0m \u001b[0mx\u001b[0m \u001b[0;34m=\u001b[0m \u001b[0;32mNone\u001b[0m\u001b[0;34m\u001b[0m\u001b[0;34m\u001b[0m\u001b[0m\n\u001b[1;32m      6\u001b[0m \u001b[0;34m\u001b[0m\u001b[0m\n\u001b[0;32m----> 7\u001b[0;31m \u001b[0mexpect\u001b[0m\u001b[0;34m(\u001b[0m\u001b[0mx\u001b[0m\u001b[0;34m)\u001b[0m\u001b[0;34m.\u001b[0m\u001b[0mto\u001b[0m\u001b[0;34m(\u001b[0m\u001b[0mequal\u001b[0m\u001b[0;34m(\u001b[0m\u001b[0;34m\"value 1\"\u001b[0m\u001b[0;34m)\u001b[0m\u001b[0;34m)\u001b[0m\u001b[0;34m\u001b[0m\u001b[0;34m\u001b[0m\u001b[0m\n\u001b[0m",
      "\u001b[0;32m~/anaconda3/lib/python3.7/site-packages/expects/expectations.py\u001b[0m in \u001b[0;36mto\u001b[0;34m(self, matcher)\u001b[0m\n\u001b[1;32m     23\u001b[0m         \u001b[0m__tracebackhide__\u001b[0m \u001b[0;34m=\u001b[0m \u001b[0;32mTrue\u001b[0m\u001b[0;34m\u001b[0m\u001b[0;34m\u001b[0m\u001b[0m\n\u001b[1;32m     24\u001b[0m \u001b[0;34m\u001b[0m\u001b[0m\n\u001b[0;32m---> 25\u001b[0;31m         \u001b[0mself\u001b[0m\u001b[0;34m.\u001b[0m\u001b[0m_assert\u001b[0m\u001b[0;34m(\u001b[0m\u001b[0mmatcher\u001b[0m\u001b[0;34m)\u001b[0m\u001b[0;34m\u001b[0m\u001b[0;34m\u001b[0m\u001b[0m\n\u001b[0m\u001b[1;32m     26\u001b[0m \u001b[0;34m\u001b[0m\u001b[0m\n\u001b[1;32m     27\u001b[0m     \u001b[0;32mdef\u001b[0m \u001b[0m_assert\u001b[0m\u001b[0;34m(\u001b[0m\u001b[0mself\u001b[0m\u001b[0;34m,\u001b[0m \u001b[0mmatcher\u001b[0m\u001b[0;34m)\u001b[0m\u001b[0;34m:\u001b[0m\u001b[0;34m\u001b[0m\u001b[0;34m\u001b[0m\u001b[0m\n",
      "\u001b[0;32m~/anaconda3/lib/python3.7/site-packages/expects/expectations.py\u001b[0m in \u001b[0;36m_assert\u001b[0;34m(self, matcher)\u001b[0m\n\u001b[1;32m     31\u001b[0m \u001b[0;34m\u001b[0m\u001b[0m\n\u001b[1;32m     32\u001b[0m         \u001b[0;32mif\u001b[0m \u001b[0;32mnot\u001b[0m \u001b[0mok\u001b[0m\u001b[0;34m:\u001b[0m\u001b[0;34m\u001b[0m\u001b[0;34m\u001b[0m\u001b[0m\n\u001b[0;32m---> 33\u001b[0;31m             \u001b[0;32mraise\u001b[0m \u001b[0mAssertionError\u001b[0m\u001b[0;34m(\u001b[0m\u001b[0mself\u001b[0m\u001b[0;34m.\u001b[0m\u001b[0m_failure_message\u001b[0m\u001b[0;34m(\u001b[0m\u001b[0mmatcher\u001b[0m\u001b[0;34m,\u001b[0m \u001b[0mreasons\u001b[0m\u001b[0;34m)\u001b[0m\u001b[0;34m)\u001b[0m\u001b[0;34m\u001b[0m\u001b[0;34m\u001b[0m\u001b[0m\n\u001b[0m\u001b[1;32m     34\u001b[0m \u001b[0;34m\u001b[0m\u001b[0m\n\u001b[1;32m     35\u001b[0m     \u001b[0;32mdef\u001b[0m \u001b[0m_match\u001b[0m\u001b[0;34m(\u001b[0m\u001b[0mself\u001b[0m\u001b[0;34m,\u001b[0m \u001b[0mmatcher\u001b[0m\u001b[0;34m)\u001b[0m\u001b[0;34m:\u001b[0m\u001b[0;34m\u001b[0m\u001b[0;34m\u001b[0m\u001b[0m\n",
      "\u001b[0;31mAssertionError\u001b[0m: \nexpected: None to equal 'value 1'"
     ]
    }
   ],
   "source": [
    "outer_dictionary = {}\n",
    "\n",
    "# start by adding the filled inner dictionary to the outer dictionary\n",
    "\n",
    "x = None\n",
    "\n",
    "expect(x).to(equal(\"value 1\"))"
   ]
  },
  {
   "cell_type": "markdown",
   "metadata": {},
   "source": [
    "# Questions ?"
   ]
  }
 ],
 "metadata": {
  "kernelspec": {
   "display_name": "Python 3",
   "language": "python",
   "name": "python3"
  },
  "language_info": {
   "codemirror_mode": {
    "name": "ipython",
    "version": 3
   },
   "file_extension": ".py",
   "mimetype": "text/x-python",
   "name": "python",
   "nbconvert_exporter": "python",
   "pygments_lexer": "ipython3",
   "version": "3.7.3"
  }
 },
 "nbformat": 4,
 "nbformat_minor": 4
}
