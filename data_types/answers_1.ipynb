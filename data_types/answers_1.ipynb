{
 "cells": [
  {
   "cell_type": "markdown",
   "metadata": {},
   "source": [
    "### Exercise 1"
   ]
  },
  {
   "cell_type": "code",
   "execution_count": 6,
   "metadata": {},
   "outputs": [],
   "source": [
    "sentence = \"I owe my friends all I have.\"\n",
    "def exercise1(sentence):\n",
    "    l = sentence[-9]\n",
    "    o = sentence [2]\n",
    "    v = sentence[-3]\n",
    "    e = sentence[-2]\n",
    "    return l + o + v + e\n",
    "\n",
    "assert exercise1(sentence) == \"love\""
   ]
  },
  {
   "cell_type": "markdown",
   "metadata": {},
   "source": [
    "### Exercise 2"
   ]
  },
  {
   "cell_type": "code",
   "execution_count": 7,
   "metadata": {},
   "outputs": [],
   "source": [
    "sentence = \"\"\"Truth is you can stop and stare\n",
    "Bled myself out and no one cares\n",
    "Dug a trench out, laid down there\n",
    "With a shovel up out of reach somewhere\"\"\"\n",
    "\n",
    "def exercise2(sentence):\n",
    "    somewhere = sentence[-9:]\n",
    "    _is = sentence[6:8]\n",
    "    the = sentence[-45:-42]\n",
    "    truth = sentence[:5]\n",
    "    space = sentence[5]\n",
    "    return somewhere + space + _is + space + the + space + truth\n",
    "\n",
    "assert exercise2(sentence) == \"somewhere is the Truth\""
   ]
  },
  {
   "cell_type": "markdown",
   "metadata": {},
   "source": [
    "### Exercise 3"
   ]
  },
  {
   "cell_type": "code",
   "execution_count": 8,
   "metadata": {},
   "outputs": [],
   "source": [
    "random_list = [\n",
    "    'Email:',\n",
    "    'SSN:',\n",
    "    'Address:',\n",
    "    'Home Phone:',\n",
    "    'Mobile Phone: ',\n",
    "    'DOB:',\n",
    "    'Date of Surgery:',\n",
    "    'Date of Service:',\n",
    "    'Facility of Service:',\n",
    "    'Clinic Number:',\n",
    "    'Employer:',\n",
    "    'Work Phone: ',\n",
    "    'Fax: ',\n",
    "    'Type:',\n",
    "    'IPA:',\n",
    "    'Health Plan:',\n",
    "    'ID #:',\n",
    "    'Claims Address:',\n",
    "    'Group #:',\n",
    "    'Claim # / PO #:',\n",
    "    'Phone:',\n",
    "    'Fax:',\n",
    "    'Contact',\n",
    "    'Adjuster Email',\n",
    "    'Util Review Phone',\n",
    "    'Util Review Fax',\n",
    "    'Doctor:',\n",
    "    'NPI #: ',\n",
    "    'Date of Injury: ',\n",
    "    'Body Parts:',\n",
    "    'Body Part Side:',\n",
    "    'Gender:',\n",
    "    'Diagnosis:',\n",
    "    'Diagnosis 2:',\n",
    "    'Procedure:'\n",
    "    ]\n",
    "\n",
    "def exercise3(l):\n",
    "    x = l[-3: len(l)]\n",
    "    return x\n",
    "\n",
    "assert exercise3(random_list) == ['Diagnosis:', 'Diagnosis 2:', 'Procedure:'] "
   ]
  },
  {
   "cell_type": "markdown",
   "metadata": {},
   "source": [
    "### Exercise 4"
   ]
  },
  {
   "cell_type": "code",
   "execution_count": 9,
   "metadata": {},
   "outputs": [],
   "source": [
    "numb = 9.32\n",
    "def exercise4(numb):\n",
    "    x = (numb / 2, int(numb), numb ** 4)\n",
    "    return x\n",
    "\n",
    "assert exercise4(numb) == (4.66, 9, 7545.0765337600005)"
   ]
  },
  {
   "cell_type": "markdown",
   "metadata": {},
   "source": [
    "### Exercise 5"
   ]
  },
  {
   "cell_type": "code",
   "execution_count": 10,
   "metadata": {},
   "outputs": [],
   "source": [
    "outer_dictionary = {}\n",
    "\n",
    "# start by adding the filled inner dictionary to the outer dictionary\n",
    "inner_dictionary = {'key 1': 'value 1'}\n",
    "outer_dictionary['inner'] = inner_dictionary\n",
    "\n",
    "def exercise5(outer_dictionary):\n",
    "    x = outer_dictionary['inner']['key 1']\n",
    "    return x\n",
    "\n",
    "assert exercise5(outer_dictionary) == 'value 1'"
   ]
  }
 ],
 "metadata": {
  "kernelspec": {
   "display_name": "Python 3",
   "language": "python",
   "name": "python3"
  },
  "language_info": {
   "codemirror_mode": {
    "name": "ipython",
    "version": 3
   },
   "file_extension": ".py",
   "mimetype": "text/x-python",
   "name": "python",
   "nbconvert_exporter": "python",
   "pygments_lexer": "ipython3",
   "version": "3.6.7"
  }
 },
 "nbformat": 4,
 "nbformat_minor": 2
}
