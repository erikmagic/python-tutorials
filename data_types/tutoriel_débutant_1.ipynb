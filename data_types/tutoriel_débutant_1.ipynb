{
 "cells": [
  {
   "cell_type": "markdown",
   "metadata": {},
   "source": [
    "# Tutoriel Python niveau débutant 1"
   ]
  },
  {
   "cell_type": "markdown",
   "metadata": {
    "colab_type": "text",
    "id": "zLXKj7jVS76l"
   },
   "source": [
    "## Introduction aux Jupyther Notebook et Google Colab\n",
    "\n",
    "> Nous allons utiliser Jupyter dans ce tutoriel. Jupyter est un outil permettant de programmer son code dans son navigateur notamment. Jupyter est très populaire chez les scientifiques des données puisque ça permet de visualiser ses données directement dans son code.\n",
    "> Les notebooks jupyters sont des fichiers \".ipynb\" versus les \".py\" normalement utilisés en Python. En fait, ils fonctionnent non pas avec Python, mais bien avec IPython:  \n",
    "> \"IPython est un terminal interactif, ou shell, pour le langage de programmation Python qui propose des fonctionnalités telles que l'introspection, une syntaxe additionnelle, la complétion et un historique riche.\"  \n",
    "Concrètement, IPython est une extension de Python. Google Colab supporte le format IPython.\n"
   ]
  },
  {
   "cell_type": "markdown",
   "metadata": {
    "colab_type": "text",
    "id": "2YZoCKJJ3CQu"
   },
   "source": [
    "#### Installation de Python et des packages nécessaires pour ce tutoriel [Optionnel, pas nécessaire pour ce cours!]\n",
    "> 1. Installez Python en suivant ce [lien](https://www.python.org/downloads/) (sélectionnez Python 3.7.3)\n",
    "2. Vérifier que l'installation a fonctionné en cherchant le programme avec la recherche Windows. ![py_search](https://i.ibb.co/x8H7Db7/image.png) \n",
    "3. Télécharger le notebook présent. ![ce_notebook](https://i.ibb.co/wBmYhR8/image.png) \n",
    "4. Après avoir télécharger le notebook présent, placez le dans un dossier avec ce [fichier](https://drive.google.com/open?id=1yWr_-NAVEynJrK8YIJIdYAruwAs56AfP) également.  \n",
    "5. Ouvrez la _command prompt_ sur windows et allez dans votre dossier. Si vous utilisez Mac ou Linux, ouvrez votre terminal.  ![cmd](https://i.ibb.co/RvrQMC4/image.png)  \n",
    "6. Télécharger les packages nécessaire avec pip. ![pip](https://i.ibb.co/CMmnMCH/image.png)  \n",
    "7. Ouvrez ce notebook avec jupyter lab. ![lab](https://i.ibb.co/qjJcrB5/image.png)  \n",
    "![lab2](https://i.ibb.co/5nNj32S/image.png)  \n",
    "\n"
   ]
  },
  {
   "cell_type": "markdown",
   "metadata": {
    "colab_type": "text",
    "id": "lZJWkl2Qchv-"
   },
   "source": [
    "## Comment utiliser JupyterLab ou bien Google Colab [Début de l'atelier]\n",
    "> Le truc est d'insérer ses nouvelles lignes de code sur des nouvelles cellules de code afin de bien séparer et organiser son travail.  \n",
    "Afin de créer des cellules, cliquer sur le bouton _+_ par-dessus le notebook. Ensuite, vous pouvez choisir le type de cellule, soit une cellule de texte (*Markdown*) ou bien une cellule de code. Les deuxièmes types de cellules nous intéressent davantage.  \n",
    "Les cellules de code s'empilent comme une pyramide, les variables de chaque cellule sont également disponibles dans les prochaines cellules.\n"
   ]
  },
  {
   "cell_type": "code",
   "execution_count": 1,
   "metadata": {
    "colab": {},
    "colab_type": "code",
    "id": "FNMAduhBIx5y"
   },
   "outputs": [],
   "source": [
    "x = 3"
   ]
  },
  {
   "cell_type": "code",
   "execution_count": 2,
   "metadata": {
    "colab": {
     "base_uri": "https://localhost:8080/",
     "height": 167
    },
    "colab_type": "code",
    "id": "vhH0keUJIzzO",
    "outputId": "e697fc37-e7a7-4181-8a13-54e69047820b"
   },
   "outputs": [
    {
     "name": "stdout",
     "output_type": "stream",
     "text": [
      "3\n"
     ]
    }
   ],
   "source": [
    "print(x)"
   ]
  },
  {
   "cell_type": "markdown",
   "metadata": {
    "colab_type": "text",
    "id": "_YF2fK6DJSfX"
   },
   "source": [
    "> L' élément le plus important pour ce qui est des cellules de codes est le statut d'une cellule. Une cellule peut être exécutée, ou non. Par exemple:  \n",
    "![alt text](https://i.ibb.co/XZx7F8C/image.png)  \n",
    "Le carré étant vide signifie que la cellule n'est pas exécutée. Chaque fois que vous redémarrez votre environnement, elles reviennent à ce stade. Dans l'image suivante:  \n",
    "![alt text](https://i.ibb.co/cXgYbwp/image.png)  \n",
    "La première cellule a été exécuté avant la dernière puisque $ 1 < 2 $. Donc le résultat est l'impression de la valeur de la variable $x$ dans le terminal. Dans l'exemple suivant, les deux cellules ont été exécuté dans l'ordre inverse, créant une erreur:  \n",
    "![alt text](https://i.ibb.co/F48kHPp/image.png)  \n",
    "Bref, garder l'ordre d'exécution en tête lorsque vous travaillez en Python sur Google Colab ou bien Jupyter Notebook. Vous devez *runner* vos cellules dans le bon ordre afin que votre code s'exécute correctement  \n",
    "Finalement, pour exécuter une cellule de code, vous n'avez qu'à cliquer sur le bouton play en haut: ![play](https://i.ibb.co/chR1JkB/image.png).  \n",
    "Vous pouvez également appuyez sur *shift et enter*.\n",
    "\n"
   ]
  },
  {
   "cell_type": "code",
   "execution_count": 1,
   "metadata": {},
   "outputs": [
    {
     "name": "stdout",
     "output_type": "stream",
     "text": [
      "Collecting expects\n",
      "  Downloading https://files.pythonhosted.org/packages/86/9a/4944ecc222f24d18e8d2819800472ffc2668e52986afd5c7bc41ecaf897b/expects-0.9.0.tar.gz\n",
      "Building wheels for collected packages: expects\n",
      "  Building wheel for expects (setup.py): started\n",
      "  Building wheel for expects (setup.py): finished with status 'done'\n",
      "  Stored in directory: C:\\Users\\eriko\\AppData\\Local\\pip\\Cache\\wheels\\46\\2d\\68\\bd9161b843538746b0e037df6ae3a8037fd1d095d568d2c06d\n",
      "Successfully built expects\n",
      "Installing collected packages: expects\n",
      "Successfully installed expects-0.9.0\n"
     ]
    }
   ],
   "source": [
    "!pip install expects"
   ]
  },
  {
   "cell_type": "code",
   "execution_count": 3,
   "metadata": {
    "colab": {
     "base_uri": "https://localhost:8080/",
     "height": 34
    },
    "colab_type": "code",
    "id": "I7WQxzX5L4Du",
    "outputId": "be4e8024-fbe4-4b4f-a37b-7638af7771ee"
   },
   "outputs": [
    {
     "name": "stdout",
     "output_type": "stream",
     "text": [
      "Exécuter ma cellule svp!\n"
     ]
    }
   ],
   "source": [
    "from expects import expect, equal\n",
    "print('Exécuter ma cellule svp!')"
   ]
  },
  {
   "cell_type": "markdown",
   "metadata": {
    "colab_type": "text",
    "id": "wChzfq2BMFoS"
   },
   "source": [
    "## 1. Les types de base en Python ainsi que les structures de données\n",
    "\n",
    "### 1.1 valeurs numériques\n",
    "> Un type de base crée une contrainte sur une variable comme un *format* dans *excel*.\n",
    "\n",
    ">Deux types principaux:  \n",
    "* les entiers (integers) -> int\n",
    "* les floating points numbers (nombre flottants - décimaux) -> float\n",
    "\n"
   ]
  },
  {
   "cell_type": "code",
   "execution_count": 4,
   "metadata": {
    "colab": {},
    "colab_type": "code",
    "id": "oY_-T_JjZBya"
   },
   "outputs": [
    {
     "name": "stdout",
     "output_type": "stream",
     "text": [
      "x / y = 2.0\n"
     ]
    }
   ],
   "source": [
    "# ceci est un commentaire (commence par le #)\n",
    "\"\"\"\n",
    "  ceci est un commentaire multi-lignes \n",
    "\"\"\"\n",
    "'''\n",
    "  ceci est également un commentaire multi-lignes\n",
    "'''\n",
    "\n",
    "x = 3\n",
    "y = 1.5\n",
    "z = x / y\n",
    "print(\"x / y = {}\".format(z)) # print est une fonction et les parenthèses entourent les entrants\n"
   ]
  },
  {
   "cell_type": "markdown",
   "metadata": {
    "colab_type": "text",
    "id": "3PTi2jlbdtSg"
   },
   "source": [
    "> Les conversions des types numériques sont implicitement exécutées par l'intépréteur. Dans le dernier exemple, le résultat de la division de 3 par 1.5 est 2.0 et non 2. Donc, par défaut un entier sera converti en décimal pour les opérations impliquant d'autres décimaux."
   ]
  },
  {
   "cell_type": "code",
   "execution_count": 5,
   "metadata": {
    "colab": {
     "base_uri": "https://localhost:8080/",
     "height": 238
    },
    "colab_type": "code",
    "id": "LaqndxUJeBvW",
    "outputId": "d1a104cf-98c8-4bbd-e529-83badcf5c476"
   },
   "outputs": [
    {
     "name": "stdout",
     "output_type": "stream",
     "text": [
      "int(z) = \n",
      "nouvelle valeur de z après conversion de float à int = \n",
      "valeur absolue en python = 4\n"
     ]
    },
    {
     "data": {
      "text/plain": [
       "True"
      ]
     },
     "execution_count": 5,
     "metadata": {},
     "output_type": "execute_result"
    }
   ],
   "source": [
    "intz = int(z)\n",
    "print(\"int(z) = {} \".format(intz))\n",
    "\n",
    "floatz = float(intz)\n",
    "print(\"nouvelle valeur de z après conversion de float à int = \".format(floatz))\n",
    "\n",
    "x_négatif = -4\n",
    "x_positif = abs(x_négatif) # abs pour absolue\n",
    "print(\"valeur absolue en python = {}\".format(x_positif))\n",
    "\n",
    "\n",
    "exposant = x ** 2\n",
    "\n",
    "exposant == pow(x, 2) # pow pour power"
   ]
  },
  {
   "cell_type": "markdown",
   "metadata": {
    "colab_type": "text",
    "id": "YRCg_RLRnMi6"
   },
   "source": [
    "### 1.2 Valeurs booléennes (bool)\n",
    ">Les valeurs booléennes sont soit \n",
    "```\n",
    "False\n",
    "True\n",
    "```\n",
    "Elles sont très utiles pour les boucles et les contrôles de flux qui seront abordés plus tard."
   ]
  },
  {
   "cell_type": "code",
   "execution_count": 6,
   "metadata": {
    "colab": {
     "base_uri": "https://localhost:8080/",
     "height": 52
    },
    "colab_type": "code",
    "id": "2tHyTO-AoHl0",
    "outputId": "ae9bc979-5b68-4c08-8920-80ac245ef639"
   },
   "outputs": [
    {
     "name": "stdout",
     "output_type": "stream",
     "text": [
      "variable_faux en number: 0.0\n",
      "variable_vrai en number: 1\n"
     ]
    }
   ],
   "source": [
    "variable_faux = False\n",
    "variable_vrai = True\n",
    "\n",
    "# les variables booléennes peuvent être converties en number\n",
    "variable_faux_en_number = float(variable_faux)\n",
    "variable_vrai_en_number = int(variable_vrai)\n",
    "\n",
    "print(\"variable_faux en number: {}\".format(variable_faux_en_number))\n",
    "print(\"variable_vrai en number: {}\".format(variable_vrai_en_number))\n"
   ]
  },
  {
   "cell_type": "markdown",
   "metadata": {
    "colab_type": "text",
    "id": "wPqQqKITo7Un"
   },
   "source": [
    "> Dans la précédente cellule, nous avons utilisé ce que l'on appelle du *typecasting*. Cela est la conversion d'un type à un autre type. Dans les exemples précédents, nous avons casté un boolean en number. Ceci nous sera utile plus tard."
   ]
  },
  {
   "cell_type": "markdown",
   "metadata": {
    "colab_type": "text",
    "id": "rICVh1v6po3l"
   },
   "source": [
    "### 1.3 Type séquence de texte - (string, str)\n",
    " >Les strings sont des séquences immuables de charactères. Elles peuvent être écrites de 3 manières différentes:\n",
    "* guillemets simples: ``` 'salut, tu vas bien?' ```\n",
    "* guillemets: ``` \"oui, et toi?\" ```\n",
    "* guillemets triples: ``` \"\"\"merci merci\"\"\",  ''' cool cool''' ```  \n",
    "Les guillemets triples peuvent être utilisés pour des textes sur plusieurs lignes. \n",
    "\n"
   ]
  },
  {
   "cell_type": "code",
   "execution_count": 7,
   "metadata": {
    "colab": {
     "base_uri": "https://localhost:8080/",
     "height": 34
    },
    "colab_type": "code",
    "id": "WHB86vZio18f",
    "outputId": "f2b8dcc4-155b-4a6f-b930-d06f63ac3237"
   },
   "outputs": [
    {
     "data": {
      "text/plain": [
       "'salut, mon nom est Erik et je suis canadien.'"
      ]
     },
     "execution_count": 7,
     "metadata": {},
     "output_type": "execute_result"
    }
   ],
   "source": [
    "nationalite = 'canadien'\n",
    "nom = \"Erik\"\n",
    "\n",
    "\"salut, mon nom est {} et je suis {}.\".format(nom, nationalite)"
   ]
  },
  {
   "cell_type": "code",
   "execution_count": 8,
   "metadata": {
    "colab": {
     "base_uri": "https://localhost:8080/",
     "height": 34
    },
    "colab_type": "code",
    "id": "7LKUUXIkresU",
    "outputId": "78c5c52b-1fff-4b05-a1d0-91296d3680a6"
   },
   "outputs": [
    {
     "data": {
      "text/plain": [
       "'JE NE SUIS PAS CONTENT'"
      ]
     },
     "execution_count": 8,
     "metadata": {},
     "output_type": "execute_result"
    }
   ],
   "source": [
    "# il existe énormement de fonction built-in sur les strings, par exemple:\n",
    "pas_content = 'je ne suis pas content'\n",
    "pas_content.upper()"
   ]
  },
  {
   "cell_type": "markdown",
   "metadata": {
    "colab_type": "text",
    "id": "--vHMieQBNs5"
   },
   "source": [
    "> Les strings peuvent être manipulées à l'aide d'opérations que l'on appelle *indexing* et *slicing*.  \n",
    "_*Les strings ainsi que toutes les valeurs pouvant être indexer commence à la position 0!*_ Ceci est différent des languages pour mathématiciens tel que $R$ ou l'indexing commence à la position 1."
   ]
  },
  {
   "cell_type": "code",
   "execution_count": 9,
   "metadata": {
    "colab": {},
    "colab_type": "code",
    "id": "xu2YAdo3BNs9",
    "outputId": "b41012df-3fe0-45e0-d4c5-410977c7540c"
   },
   "outputs": [
    {
     "name": "stdout",
     "output_type": "stream",
     "text": [
      "j\n",
      " \n",
      "t\n",
      "n\n"
     ]
    }
   ],
   "source": [
    "print(pas_content[0]) # retourne la première lettre de la string pas_content (j)\n",
    "print(pas_content[2]) # retourne la troisième lettre de la string pas_content ( espace )\n",
    "print(pas_content[-1]) # retourne la dernière lettre de la string pas_content (t)\n",
    "                        # puisque -0 ne fait pas de sens \n",
    "print(pas_content[-2]) # retourne l'avant dernière lettre (n)"
   ]
  },
  {
   "cell_type": "markdown",
   "metadata": {
    "colab_type": "text",
    "id": "HzLHzKcFBNtN"
   },
   "source": [
    "> Les opérations de base peuvent s'appliquer sur les strings également (addition et multiplication)."
   ]
  },
  {
   "cell_type": "code",
   "execution_count": 10,
   "metadata": {
    "colab": {},
    "colab_type": "code",
    "id": "Mf47sVosBNtQ",
    "outputId": "3ca71769-fa25-4c31-d2d3-c58ffe6cb007"
   },
   "outputs": [
    {
     "name": "stdout",
     "output_type": "stream",
     "text": [
      "je ne suis pas contentje ne suis pas content\n",
      "je ne suis pas content mais c'est pas vrai\n"
     ]
    }
   ],
   "source": [
    "pas_content_fois_deux = pas_content * 2\n",
    "print(pas_content_fois_deux)\n",
    "pas_vrai = \" mais c'est pas vrai\"\n",
    "print(pas_content + pas_vrai)\n"
   ]
  },
  {
   "cell_type": "markdown",
   "metadata": {
    "colab_type": "text",
    "id": "lPosdmEMBNte"
   },
   "source": [
    "#### Exercice 1: \n",
    "> Veuillez écrire \"salut\" en utilisant le indexing et l'addition de strings avec la phrase \n",
    "\"C'est pour que s'accomplisse notre prière\". "
   ]
  },
  {
   "cell_type": "code",
   "execution_count": 4,
   "metadata": {
    "colab": {},
    "colab_type": "code",
    "id": "NXMFU7n2BNth"
   },
   "outputs": [
    {
     "ename": "AssertionError",
     "evalue": "\nexpected: None to equal 'salut'",
     "output_type": "error",
     "traceback": [
      "\u001b[0;31m---------------------------------------------------------------------------\u001b[0m",
      "\u001b[0;31mAssertionError\u001b[0m                            Traceback (most recent call last)",
      "\u001b[0;32m<ipython-input-4-9c6a19097516>\u001b[0m in \u001b[0;36m<module>\u001b[0;34m\u001b[0m\n\u001b[1;32m      4\u001b[0m \u001b[0mx\u001b[0m \u001b[0;34m=\u001b[0m \u001b[0;32mNone\u001b[0m\u001b[0;34m\u001b[0m\u001b[0;34m\u001b[0m\u001b[0m\n\u001b[1;32m      5\u001b[0m \u001b[0;34m\u001b[0m\u001b[0m\n\u001b[0;32m----> 6\u001b[0;31m \u001b[0mexpect\u001b[0m\u001b[0;34m(\u001b[0m\u001b[0mx\u001b[0m\u001b[0;34m)\u001b[0m\u001b[0;34m.\u001b[0m\u001b[0mto\u001b[0m\u001b[0;34m(\u001b[0m\u001b[0mequal\u001b[0m\u001b[0;34m(\u001b[0m\u001b[0;34m\"salut\"\u001b[0m\u001b[0;34m)\u001b[0m\u001b[0;34m)\u001b[0m\u001b[0;34m\u001b[0m\u001b[0;34m\u001b[0m\u001b[0m\n\u001b[0m",
      "\u001b[0;32m~/anaconda3/lib/python3.7/site-packages/expects/expectations.py\u001b[0m in \u001b[0;36mto\u001b[0;34m(self, matcher)\u001b[0m\n\u001b[1;32m     23\u001b[0m         \u001b[0m__tracebackhide__\u001b[0m \u001b[0;34m=\u001b[0m \u001b[0;32mTrue\u001b[0m\u001b[0;34m\u001b[0m\u001b[0;34m\u001b[0m\u001b[0m\n\u001b[1;32m     24\u001b[0m \u001b[0;34m\u001b[0m\u001b[0m\n\u001b[0;32m---> 25\u001b[0;31m         \u001b[0mself\u001b[0m\u001b[0;34m.\u001b[0m\u001b[0m_assert\u001b[0m\u001b[0;34m(\u001b[0m\u001b[0mmatcher\u001b[0m\u001b[0;34m)\u001b[0m\u001b[0;34m\u001b[0m\u001b[0;34m\u001b[0m\u001b[0m\n\u001b[0m\u001b[1;32m     26\u001b[0m \u001b[0;34m\u001b[0m\u001b[0m\n\u001b[1;32m     27\u001b[0m     \u001b[0;32mdef\u001b[0m \u001b[0m_assert\u001b[0m\u001b[0;34m(\u001b[0m\u001b[0mself\u001b[0m\u001b[0;34m,\u001b[0m \u001b[0mmatcher\u001b[0m\u001b[0;34m)\u001b[0m\u001b[0;34m:\u001b[0m\u001b[0;34m\u001b[0m\u001b[0;34m\u001b[0m\u001b[0m\n",
      "\u001b[0;32m~/anaconda3/lib/python3.7/site-packages/expects/expectations.py\u001b[0m in \u001b[0;36m_assert\u001b[0;34m(self, matcher)\u001b[0m\n\u001b[1;32m     31\u001b[0m \u001b[0;34m\u001b[0m\u001b[0m\n\u001b[1;32m     32\u001b[0m         \u001b[0;32mif\u001b[0m \u001b[0;32mnot\u001b[0m \u001b[0mok\u001b[0m\u001b[0;34m:\u001b[0m\u001b[0;34m\u001b[0m\u001b[0;34m\u001b[0m\u001b[0m\n\u001b[0;32m---> 33\u001b[0;31m             \u001b[0;32mraise\u001b[0m \u001b[0mAssertionError\u001b[0m\u001b[0;34m(\u001b[0m\u001b[0mself\u001b[0m\u001b[0;34m.\u001b[0m\u001b[0m_failure_message\u001b[0m\u001b[0;34m(\u001b[0m\u001b[0mmatcher\u001b[0m\u001b[0;34m,\u001b[0m \u001b[0mreasons\u001b[0m\u001b[0;34m)\u001b[0m\u001b[0;34m)\u001b[0m\u001b[0;34m\u001b[0m\u001b[0;34m\u001b[0m\u001b[0m\n\u001b[0m\u001b[1;32m     34\u001b[0m \u001b[0;34m\u001b[0m\u001b[0m\n\u001b[1;32m     35\u001b[0m     \u001b[0;32mdef\u001b[0m \u001b[0m_match\u001b[0m\u001b[0;34m(\u001b[0m\u001b[0mself\u001b[0m\u001b[0;34m,\u001b[0m \u001b[0mmatcher\u001b[0m\u001b[0;34m)\u001b[0m\u001b[0;34m:\u001b[0m\u001b[0;34m\u001b[0m\u001b[0;34m\u001b[0m\u001b[0m\n",
      "\u001b[0;31mAssertionError\u001b[0m: \nexpected: None to equal 'salut'"
     ]
    }
   ],
   "source": [
    "# Exercice 1\n",
    "entrant = \"C'est pour que s'accomplisse notre prière\"\n",
    "\n",
    "x = None \n",
    "\n",
    "expect(x).to(equal(\"salut\"))"
   ]
  },
  {
   "cell_type": "markdown",
   "metadata": {
    "colab_type": "text",
    "id": "VRRUSW62BNtr"
   },
   "source": [
    "> Le \"slicing\" peut être utilisé afin d'extirper des strings d'autres strings. Il est représenté par le \":\". La valeur avant le \":\" est la position du premier élément à retourner (incluse). La valeur après le \":\" est où arrêter puisque ce dernier élément n'est pas inclus."
   ]
  },
  {
   "cell_type": "code",
   "execution_count": 12,
   "metadata": {
    "colab": {},
    "colab_type": "code",
    "id": "cyVG4vjzBNtu",
    "outputId": "9db01487-4158-44a8-b09e-565de95db0a1"
   },
   "outputs": [
    {
     "data": {
      "text/plain": [
       "('Quebec', 'le Quebec', 'merveilleuse')"
      ]
     },
     "execution_count": 12,
     "metadata": {},
     "output_type": "execute_result"
    }
   ],
   "source": [
    "phrase = \"le Quebec est une place merveilleuse\"\n",
    "quebec = phrase[3:9] # le dernier élément est exclu\n",
    "le_quebec = phrase[:9]\n",
    "merveilleuse = phrase[-12:]\n",
    "quebec, le_quebec, merveilleuse\n"
   ]
  },
  {
   "cell_type": "code",
   "execution_count": 13,
   "metadata": {},
   "outputs": [],
   "source": [
    "# notez que phrase[:9] == phrase[0:9]"
   ]
  },
  {
   "cell_type": "code",
   "execution_count": 14,
   "metadata": {},
   "outputs": [],
   "source": [
    "assert le_quebec == phrase[0:9]"
   ]
  },
  {
   "cell_type": "markdown",
   "metadata": {
    "colab_type": "text",
    "id": "a-7T6Af6BNuC"
   },
   "source": [
    "#### Exercice 2:\n",
    "> Veuillez extirper \"ta belle lune pleure\" en utilisant des additions de string et le slicing à partir de la phrase  \n",
    "\"Et la lune se lève\n",
    "Comme les heures sont brèves\n",
    "Car ta mère était si belle\n",
    "Je n'arrête pas de pleurer\"\n"
   ]
  },
  {
   "cell_type": "code",
   "execution_count": 5,
   "metadata": {
    "colab": {},
    "colab_type": "code",
    "id": "jm_i0fdQBNuG"
   },
   "outputs": [
    {
     "ename": "AssertionError",
     "evalue": "\nexpected: None to equal 'ta belle lune pleure'",
     "output_type": "error",
     "traceback": [
      "\u001b[0;31m---------------------------------------------------------------------------\u001b[0m",
      "\u001b[0;31mAssertionError\u001b[0m                            Traceback (most recent call last)",
      "\u001b[0;32m<ipython-input-5-87a1e71d7d0e>\u001b[0m in \u001b[0;36m<module>\u001b[0;34m\u001b[0m\n\u001b[1;32m      9\u001b[0m \u001b[0mx\u001b[0m \u001b[0;34m=\u001b[0m \u001b[0;32mNone\u001b[0m \u001b[0;31m# assigner la valeur à x\u001b[0m\u001b[0;34m\u001b[0m\u001b[0;34m\u001b[0m\u001b[0m\n\u001b[1;32m     10\u001b[0m \u001b[0;34m\u001b[0m\u001b[0m\n\u001b[0;32m---> 11\u001b[0;31m \u001b[0mexpect\u001b[0m\u001b[0;34m(\u001b[0m\u001b[0mx\u001b[0m\u001b[0;34m)\u001b[0m\u001b[0;34m.\u001b[0m\u001b[0mto\u001b[0m\u001b[0;34m(\u001b[0m\u001b[0mequal\u001b[0m\u001b[0;34m(\u001b[0m\u001b[0;34m\"ta belle lune pleure\"\u001b[0m\u001b[0;34m)\u001b[0m\u001b[0;34m)\u001b[0m\u001b[0;34m\u001b[0m\u001b[0;34m\u001b[0m\u001b[0m\n\u001b[0m",
      "\u001b[0;32m~/anaconda3/lib/python3.7/site-packages/expects/expectations.py\u001b[0m in \u001b[0;36mto\u001b[0;34m(self, matcher)\u001b[0m\n\u001b[1;32m     23\u001b[0m         \u001b[0m__tracebackhide__\u001b[0m \u001b[0;34m=\u001b[0m \u001b[0;32mTrue\u001b[0m\u001b[0;34m\u001b[0m\u001b[0;34m\u001b[0m\u001b[0m\n\u001b[1;32m     24\u001b[0m \u001b[0;34m\u001b[0m\u001b[0m\n\u001b[0;32m---> 25\u001b[0;31m         \u001b[0mself\u001b[0m\u001b[0;34m.\u001b[0m\u001b[0m_assert\u001b[0m\u001b[0;34m(\u001b[0m\u001b[0mmatcher\u001b[0m\u001b[0;34m)\u001b[0m\u001b[0;34m\u001b[0m\u001b[0;34m\u001b[0m\u001b[0m\n\u001b[0m\u001b[1;32m     26\u001b[0m \u001b[0;34m\u001b[0m\u001b[0m\n\u001b[1;32m     27\u001b[0m     \u001b[0;32mdef\u001b[0m \u001b[0m_assert\u001b[0m\u001b[0;34m(\u001b[0m\u001b[0mself\u001b[0m\u001b[0;34m,\u001b[0m \u001b[0mmatcher\u001b[0m\u001b[0;34m)\u001b[0m\u001b[0;34m:\u001b[0m\u001b[0;34m\u001b[0m\u001b[0;34m\u001b[0m\u001b[0m\n",
      "\u001b[0;32m~/anaconda3/lib/python3.7/site-packages/expects/expectations.py\u001b[0m in \u001b[0;36m_assert\u001b[0;34m(self, matcher)\u001b[0m\n\u001b[1;32m     31\u001b[0m \u001b[0;34m\u001b[0m\u001b[0m\n\u001b[1;32m     32\u001b[0m         \u001b[0;32mif\u001b[0m \u001b[0;32mnot\u001b[0m \u001b[0mok\u001b[0m\u001b[0;34m:\u001b[0m\u001b[0;34m\u001b[0m\u001b[0;34m\u001b[0m\u001b[0m\n\u001b[0;32m---> 33\u001b[0;31m             \u001b[0;32mraise\u001b[0m \u001b[0mAssertionError\u001b[0m\u001b[0;34m(\u001b[0m\u001b[0mself\u001b[0m\u001b[0;34m.\u001b[0m\u001b[0m_failure_message\u001b[0m\u001b[0;34m(\u001b[0m\u001b[0mmatcher\u001b[0m\u001b[0;34m,\u001b[0m \u001b[0mreasons\u001b[0m\u001b[0;34m)\u001b[0m\u001b[0;34m)\u001b[0m\u001b[0;34m\u001b[0m\u001b[0;34m\u001b[0m\u001b[0m\n\u001b[0m\u001b[1;32m     34\u001b[0m \u001b[0;34m\u001b[0m\u001b[0m\n\u001b[1;32m     35\u001b[0m     \u001b[0;32mdef\u001b[0m \u001b[0m_match\u001b[0m\u001b[0;34m(\u001b[0m\u001b[0mself\u001b[0m\u001b[0;34m,\u001b[0m \u001b[0mmatcher\u001b[0m\u001b[0;34m)\u001b[0m\u001b[0;34m:\u001b[0m\u001b[0;34m\u001b[0m\u001b[0;34m\u001b[0m\u001b[0m\n",
      "\u001b[0;31mAssertionError\u001b[0m: \nexpected: None to equal 'ta belle lune pleure'"
     ]
    }
   ],
   "source": [
    "# Exercice 2\n",
    "phrase = \"\"\"\n",
    "Et la lune se lève\n",
    "Comme les heures sont brèves\n",
    "Car ta mère était si belle\n",
    "Je n'arrête pas de pleurer\n",
    "\"\"\"\n",
    "\n",
    "x = None # assigner la valeur à x\n",
    "\n",
    "expect(x).to(equal(\"ta belle lune pleure\"))"
   ]
  },
  {
   "cell_type": "markdown",
   "metadata": {
    "colab_type": "text",
    "id": "pIlwaseJBNuU"
   },
   "source": [
    "### 1.4 Les listes\n",
    "> Les listes sont un regroupement d'éléments. Ces éléments peuvent être différents ou du même type. Une liste est ordonnée et permet d'avoir des doublons. Une liste peut être modifiée après sa déclaration. Le même type d'indexing que vu précédemment peut être utilisé:\n"
   ]
  },
  {
   "cell_type": "code",
   "execution_count": 16,
   "metadata": {
    "colab": {},
    "colab_type": "code",
    "id": "eM5hV5MSBNuY",
    "outputId": "b684d759-2f37-42d3-8ce1-9e0b320953f7"
   },
   "outputs": [
    {
     "name": "stdout",
     "output_type": "stream",
     "text": [
      "premier élément: element1\n",
      "dernier élément: 99\n"
     ]
    },
    {
     "data": {
      "text/plain": [
       "['element1', False]"
      ]
     },
     "execution_count": 16,
     "metadata": {},
     "output_type": "execute_result"
    }
   ],
   "source": [
    "ma_liste = [\"element1\", False, 99]\n",
    "premier_element = ma_liste[0]\n",
    "print(\"premier élément: {}\".format(premier_element))\n",
    "dernier_element = ma_liste[-1]\n",
    "print(\"dernier élément: {}\".format(dernier_element))\n",
    "nouvelle_liste = ma_liste[:2]\n",
    "\n",
    "nouvelle_liste"
   ]
  },
  {
   "cell_type": "markdown",
   "metadata": {
    "colab_type": "text",
    "id": "KFhJxU9LBNuq"
   },
   "source": [
    "> Nous pouvons ajouter des éléments itérativement sur des listes avec la fonction *append*:"
   ]
  },
  {
   "cell_type": "code",
   "execution_count": 17,
   "metadata": {},
   "outputs": [
    {
     "name": "stdout",
     "output_type": "stream",
     "text": [
      "nouvelle liste: ['element1', False]\n",
      "nouvelle liste: ['element1', False, 'nouveau élément']\n"
     ]
    }
   ],
   "source": [
    "print(\"nouvelle liste: {}\".format(nouvelle_liste))\n",
    "nouvelle_liste.append(\"nouveau élément\")\n",
    "print(\"nouvelle liste: {}\".format(nouvelle_liste))\n"
   ]
  },
  {
   "cell_type": "markdown",
   "metadata": {},
   "source": [
    "> Nous pouvons retrouver la taille des listes avec la fonction *len*:"
   ]
  },
  {
   "cell_type": "code",
   "execution_count": 18,
   "metadata": {},
   "outputs": [
    {
     "data": {
      "text/plain": [
       "3"
      ]
     },
     "execution_count": 18,
     "metadata": {},
     "output_type": "execute_result"
    }
   ],
   "source": [
    "len(nouvelle_liste)"
   ]
  },
  {
   "cell_type": "markdown",
   "metadata": {},
   "source": [
    "#### Exercice 3:\n",
    "> Veuillez extirper les 3 derniers éléments de la liste:"
   ]
  },
  {
   "cell_type": "code",
   "execution_count": 6,
   "metadata": {},
   "outputs": [
    {
     "ename": "AssertionError",
     "evalue": "\nexpected: None to equal ['Diagnosis:', 'Diagnosis 2:', 'Procedure:']",
     "output_type": "error",
     "traceback": [
      "\u001b[0;31m---------------------------------------------------------------------------\u001b[0m",
      "\u001b[0;31mAssertionError\u001b[0m                            Traceback (most recent call last)",
      "\u001b[0;32m<ipython-input-6-55610ae767f6>\u001b[0m in \u001b[0;36m<module>\u001b[0;34m\u001b[0m\n\u001b[1;32m     40\u001b[0m \u001b[0mx\u001b[0m \u001b[0;34m=\u001b[0m \u001b[0;32mNone\u001b[0m\u001b[0;34m\u001b[0m\u001b[0;34m\u001b[0m\u001b[0m\n\u001b[1;32m     41\u001b[0m \u001b[0;34m\u001b[0m\u001b[0m\n\u001b[0;32m---> 42\u001b[0;31m \u001b[0mexpect\u001b[0m\u001b[0;34m(\u001b[0m\u001b[0mx\u001b[0m\u001b[0;34m)\u001b[0m\u001b[0;34m.\u001b[0m\u001b[0mto\u001b[0m\u001b[0;34m(\u001b[0m\u001b[0mequal\u001b[0m\u001b[0;34m(\u001b[0m\u001b[0;34m[\u001b[0m\u001b[0;34m'Diagnosis:'\u001b[0m\u001b[0;34m,\u001b[0m \u001b[0;34m'Diagnosis 2:'\u001b[0m\u001b[0;34m,\u001b[0m \u001b[0;34m'Procedure:'\u001b[0m\u001b[0;34m]\u001b[0m\u001b[0;34m)\u001b[0m\u001b[0;34m)\u001b[0m\u001b[0;34m\u001b[0m\u001b[0;34m\u001b[0m\u001b[0m\n\u001b[0m",
      "\u001b[0;32m~/anaconda3/lib/python3.7/site-packages/expects/expectations.py\u001b[0m in \u001b[0;36mto\u001b[0;34m(self, matcher)\u001b[0m\n\u001b[1;32m     23\u001b[0m         \u001b[0m__tracebackhide__\u001b[0m \u001b[0;34m=\u001b[0m \u001b[0;32mTrue\u001b[0m\u001b[0;34m\u001b[0m\u001b[0;34m\u001b[0m\u001b[0m\n\u001b[1;32m     24\u001b[0m \u001b[0;34m\u001b[0m\u001b[0m\n\u001b[0;32m---> 25\u001b[0;31m         \u001b[0mself\u001b[0m\u001b[0;34m.\u001b[0m\u001b[0m_assert\u001b[0m\u001b[0;34m(\u001b[0m\u001b[0mmatcher\u001b[0m\u001b[0;34m)\u001b[0m\u001b[0;34m\u001b[0m\u001b[0;34m\u001b[0m\u001b[0m\n\u001b[0m\u001b[1;32m     26\u001b[0m \u001b[0;34m\u001b[0m\u001b[0m\n\u001b[1;32m     27\u001b[0m     \u001b[0;32mdef\u001b[0m \u001b[0m_assert\u001b[0m\u001b[0;34m(\u001b[0m\u001b[0mself\u001b[0m\u001b[0;34m,\u001b[0m \u001b[0mmatcher\u001b[0m\u001b[0;34m)\u001b[0m\u001b[0;34m:\u001b[0m\u001b[0;34m\u001b[0m\u001b[0;34m\u001b[0m\u001b[0m\n",
      "\u001b[0;32m~/anaconda3/lib/python3.7/site-packages/expects/expectations.py\u001b[0m in \u001b[0;36m_assert\u001b[0;34m(self, matcher)\u001b[0m\n\u001b[1;32m     31\u001b[0m \u001b[0;34m\u001b[0m\u001b[0m\n\u001b[1;32m     32\u001b[0m         \u001b[0;32mif\u001b[0m \u001b[0;32mnot\u001b[0m \u001b[0mok\u001b[0m\u001b[0;34m:\u001b[0m\u001b[0;34m\u001b[0m\u001b[0;34m\u001b[0m\u001b[0m\n\u001b[0;32m---> 33\u001b[0;31m             \u001b[0;32mraise\u001b[0m \u001b[0mAssertionError\u001b[0m\u001b[0;34m(\u001b[0m\u001b[0mself\u001b[0m\u001b[0;34m.\u001b[0m\u001b[0m_failure_message\u001b[0m\u001b[0;34m(\u001b[0m\u001b[0mmatcher\u001b[0m\u001b[0;34m,\u001b[0m \u001b[0mreasons\u001b[0m\u001b[0;34m)\u001b[0m\u001b[0;34m)\u001b[0m\u001b[0;34m\u001b[0m\u001b[0;34m\u001b[0m\u001b[0m\n\u001b[0m\u001b[1;32m     34\u001b[0m \u001b[0;34m\u001b[0m\u001b[0m\n\u001b[1;32m     35\u001b[0m     \u001b[0;32mdef\u001b[0m \u001b[0m_match\u001b[0m\u001b[0;34m(\u001b[0m\u001b[0mself\u001b[0m\u001b[0;34m,\u001b[0m \u001b[0mmatcher\u001b[0m\u001b[0;34m)\u001b[0m\u001b[0;34m:\u001b[0m\u001b[0;34m\u001b[0m\u001b[0;34m\u001b[0m\u001b[0m\n",
      "\u001b[0;31mAssertionError\u001b[0m: \nexpected: None to equal ['Diagnosis:', 'Diagnosis 2:', 'Procedure:']"
     ]
    }
   ],
   "source": [
    "liste_aleatoire = [\n",
    "    'Email:',\n",
    "    'SSN:',\n",
    "    'Address:',\n",
    "    'Home Phone:',\n",
    "    'Mobile Phone: ',\n",
    "    'DOB:',\n",
    "    'Date of Surgery:',\n",
    "    'Date of Service:',\n",
    "    'Facility of Service:',\n",
    "    'Clinic Number:',\n",
    "    'Employer:',\n",
    "    'Work Phone: ',\n",
    "    'Fax: ',\n",
    "    'Type:',\n",
    "    'IPA:',\n",
    "    'Health Plan:',\n",
    "    'ID #:',\n",
    "    'Claims Address:',\n",
    "    'Group #:',\n",
    "    'Claim # / PO #:',\n",
    "    'Phone:',\n",
    "    'Fax:',\n",
    "    'Contact',\n",
    "    'Adjuster Email',\n",
    "    'Util Review Phone',\n",
    "    'Util Review Fax',\n",
    "    'Doctor:',\n",
    "    'NPI #: ',\n",
    "    'Date of Injury: ',\n",
    "    'Body Parts:',\n",
    "    'Body Part Side:',\n",
    "    'Gender:',\n",
    "    'Diagnosis:',\n",
    "    'Diagnosis 2:',\n",
    "    'Procedure:'\n",
    "    ]\n",
    "\n",
    "# Exercice 3:\n",
    "x = None\n",
    "\n",
    "expect(x).to(equal(['Diagnosis:', 'Diagnosis 2:', 'Procedure:']))"
   ]
  },
  {
   "cell_type": "markdown",
   "metadata": {},
   "source": [
    "### 1.5 Les tuples\n",
    "> Les tuples sont comme des minis-listes, mais qui ne peuvent pas être changées et qui contiennent souvent peu d'éléments. Les tuples sont ordonnés et permettent les doublons. Ils sont souvent utilisés lors de retours de fonctions si on veut que la fonction retourne plusieurs valeurs."
   ]
  },
  {
   "cell_type": "code",
   "execution_count": 20,
   "metadata": {},
   "outputs": [
    {
     "data": {
      "text/plain": [
       "(4, 5, 'salut')"
      ]
     },
     "execution_count": 20,
     "metadata": {},
     "output_type": "execute_result"
    }
   ],
   "source": [
    "x = 4\n",
    "mon_tuple = (x, 5, 'salut')\n",
    "mon_tuple"
   ]
  },
  {
   "cell_type": "code",
   "execution_count": 21,
   "metadata": {},
   "outputs": [
    {
     "data": {
      "text/plain": [
       "4"
      ]
     },
     "execution_count": 21,
     "metadata": {},
     "output_type": "execute_result"
    }
   ],
   "source": [
    "# premier élément du tuple\n",
    "mon_tuple[0]"
   ]
  },
  {
   "cell_type": "code",
   "execution_count": 22,
   "metadata": {},
   "outputs": [
    {
     "data": {
      "text/plain": [
       "(5, 'salut')"
      ]
     },
     "execution_count": 22,
     "metadata": {},
     "output_type": "execute_result"
    }
   ],
   "source": [
    "# deux derniers éléments du tuple\n",
    "mon_tuple[1: len(mon_tuple)]"
   ]
  },
  {
   "cell_type": "code",
   "execution_count": 23,
   "metadata": {},
   "outputs": [
    {
     "data": {
      "text/plain": [
       "(4, 'salut')"
      ]
     },
     "execution_count": 23,
     "metadata": {},
     "output_type": "execute_result"
    }
   ],
   "source": [
    "# \"unpack\" les valeurs d'un tuple\n",
    "element1, _, element2 = mon_tuple\n",
    "# la variable underscore est utilisé lorsque l'on a pas besoin d'un element sortant d'un tuple par exemple\n",
    "element1, element2"
   ]
  },
  {
   "cell_type": "markdown",
   "metadata": {},
   "source": [
    "#### Exercice 4:\n",
    "> Retourner un tuple de trois éléments à partir d'un entrant. Le premier élément du tuple est l'entrant divisé par 2. Le deuxième est la valeur *int* de l'entrant. Finalement, le dernier élément est l'entrant exposant 4."
   ]
  },
  {
   "cell_type": "code",
   "execution_count": 7,
   "metadata": {},
   "outputs": [
    {
     "ename": "AssertionError",
     "evalue": "\nexpected: None to equal (4.66, 9, 7545.0765337600005)",
     "output_type": "error",
     "traceback": [
      "\u001b[0;31m---------------------------------------------------------------------------\u001b[0m",
      "\u001b[0;31mAssertionError\u001b[0m                            Traceback (most recent call last)",
      "\u001b[0;32m<ipython-input-7-d9fc3ae06b90>\u001b[0m in \u001b[0;36m<module>\u001b[0;34m\u001b[0m\n\u001b[1;32m      3\u001b[0m \u001b[0mx\u001b[0m \u001b[0;34m=\u001b[0m \u001b[0;32mNone\u001b[0m\u001b[0;34m\u001b[0m\u001b[0;34m\u001b[0m\u001b[0m\n\u001b[1;32m      4\u001b[0m \u001b[0;34m\u001b[0m\u001b[0m\n\u001b[0;32m----> 5\u001b[0;31m \u001b[0mexpect\u001b[0m\u001b[0;34m(\u001b[0m\u001b[0mx\u001b[0m\u001b[0;34m)\u001b[0m\u001b[0;34m.\u001b[0m\u001b[0mto\u001b[0m\u001b[0;34m(\u001b[0m\u001b[0mequal\u001b[0m\u001b[0;34m(\u001b[0m\u001b[0;34m(\u001b[0m\u001b[0;36m4.66\u001b[0m\u001b[0;34m,\u001b[0m \u001b[0;36m9\u001b[0m\u001b[0;34m,\u001b[0m \u001b[0;36m7545.0765337600005\u001b[0m\u001b[0;34m)\u001b[0m\u001b[0;34m)\u001b[0m\u001b[0;34m)\u001b[0m\u001b[0;34m\u001b[0m\u001b[0;34m\u001b[0m\u001b[0m\n\u001b[0m",
      "\u001b[0;32m~/anaconda3/lib/python3.7/site-packages/expects/expectations.py\u001b[0m in \u001b[0;36mto\u001b[0;34m(self, matcher)\u001b[0m\n\u001b[1;32m     23\u001b[0m         \u001b[0m__tracebackhide__\u001b[0m \u001b[0;34m=\u001b[0m \u001b[0;32mTrue\u001b[0m\u001b[0;34m\u001b[0m\u001b[0;34m\u001b[0m\u001b[0m\n\u001b[1;32m     24\u001b[0m \u001b[0;34m\u001b[0m\u001b[0m\n\u001b[0;32m---> 25\u001b[0;31m         \u001b[0mself\u001b[0m\u001b[0;34m.\u001b[0m\u001b[0m_assert\u001b[0m\u001b[0;34m(\u001b[0m\u001b[0mmatcher\u001b[0m\u001b[0;34m)\u001b[0m\u001b[0;34m\u001b[0m\u001b[0;34m\u001b[0m\u001b[0m\n\u001b[0m\u001b[1;32m     26\u001b[0m \u001b[0;34m\u001b[0m\u001b[0m\n\u001b[1;32m     27\u001b[0m     \u001b[0;32mdef\u001b[0m \u001b[0m_assert\u001b[0m\u001b[0;34m(\u001b[0m\u001b[0mself\u001b[0m\u001b[0;34m,\u001b[0m \u001b[0mmatcher\u001b[0m\u001b[0;34m)\u001b[0m\u001b[0;34m:\u001b[0m\u001b[0;34m\u001b[0m\u001b[0;34m\u001b[0m\u001b[0m\n",
      "\u001b[0;32m~/anaconda3/lib/python3.7/site-packages/expects/expectations.py\u001b[0m in \u001b[0;36m_assert\u001b[0;34m(self, matcher)\u001b[0m\n\u001b[1;32m     31\u001b[0m \u001b[0;34m\u001b[0m\u001b[0m\n\u001b[1;32m     32\u001b[0m         \u001b[0;32mif\u001b[0m \u001b[0;32mnot\u001b[0m \u001b[0mok\u001b[0m\u001b[0;34m:\u001b[0m\u001b[0;34m\u001b[0m\u001b[0;34m\u001b[0m\u001b[0m\n\u001b[0;32m---> 33\u001b[0;31m             \u001b[0;32mraise\u001b[0m \u001b[0mAssertionError\u001b[0m\u001b[0;34m(\u001b[0m\u001b[0mself\u001b[0m\u001b[0;34m.\u001b[0m\u001b[0m_failure_message\u001b[0m\u001b[0;34m(\u001b[0m\u001b[0mmatcher\u001b[0m\u001b[0;34m,\u001b[0m \u001b[0mreasons\u001b[0m\u001b[0;34m)\u001b[0m\u001b[0;34m)\u001b[0m\u001b[0;34m\u001b[0m\u001b[0;34m\u001b[0m\u001b[0m\n\u001b[0m\u001b[1;32m     34\u001b[0m \u001b[0;34m\u001b[0m\u001b[0m\n\u001b[1;32m     35\u001b[0m     \u001b[0;32mdef\u001b[0m \u001b[0m_match\u001b[0m\u001b[0;34m(\u001b[0m\u001b[0mself\u001b[0m\u001b[0;34m,\u001b[0m \u001b[0mmatcher\u001b[0m\u001b[0;34m)\u001b[0m\u001b[0;34m:\u001b[0m\u001b[0;34m\u001b[0m\u001b[0;34m\u001b[0m\u001b[0m\n",
      "\u001b[0;31mAssertionError\u001b[0m: \nexpected: None to equal (4.66, 9, 7545.0765337600005)"
     ]
    }
   ],
   "source": [
    "entrant = 9.32\n",
    "\n",
    "x = None\n",
    "\n",
    "expect(x).to(equal((4.66, 9, 7545.0765337600005)))"
   ]
  },
  {
   "cell_type": "markdown",
   "metadata": {},
   "source": [
    "### 1.6 Les dictionnaires\n",
    "> Les dictionnaires sont un type très important en Python. Ils sont une collection de (key, values) avec comme conditions que tous les *keys* sont uniques. Les dictionnaires peuvent être modifiés sans problème. "
   ]
  },
  {
   "cell_type": "code",
   "execution_count": 25,
   "metadata": {},
   "outputs": [
    {
     "data": {
      "text/plain": [
       "{'clé 1': 9, 'clé 2': 'hec', 'clé 3': [9, 12, 3], 'clé 4': (8.1232, 1.1111)}"
      ]
     },
     "execution_count": 25,
     "metadata": {},
     "output_type": "execute_result"
    }
   ],
   "source": [
    "mon_dictionnaire_vide = {}\n",
    "mon_dictionnaire = {\n",
    "    'clé 1': 9,\n",
    "    'clé 2': 'hec',\n",
    "    'clé 3': [9, 12, 3],\n",
    "    'clé 4': (8.1232, 1.1111)\n",
    "}\n",
    "\n",
    "mon_dictionnaire"
   ]
  },
  {
   "cell_type": "markdown",
   "metadata": {},
   "source": [
    "> Les valeurs des dictionnaires peuvent être retournées avec leur clé associée:"
   ]
  },
  {
   "cell_type": "code",
   "execution_count": 26,
   "metadata": {},
   "outputs": [
    {
     "name": "stdout",
     "output_type": "stream",
     "text": [
      "la valeur associé à clé 1: 9\n",
      "clés: dict_keys(['clé 1', 'clé 2', 'clé 3', 'clé 4'])\n",
      "valeurs: dict_values([9, 'hec', [9, 12, 3], (8.1232, 1.1111)])\n"
     ]
    },
    {
     "data": {
      "text/plain": [
       "dict_items([('clé 1', 9), ('clé 2', 'hec'), ('clé 3', [9, 12, 3]), ('clé 4', (8.1232, 1.1111))])"
      ]
     },
     "execution_count": 26,
     "metadata": {},
     "output_type": "execute_result"
    }
   ],
   "source": [
    "valeur1 = mon_dictionnaire['clé 1']\n",
    "print('la valeur associé à clé 1: {}'.format(valeur1))\n",
    "\n",
    "toutes_les_clés = mon_dictionnaire.keys()\n",
    "print(\"clés: {}\".format(toutes_les_clés))\n",
    "\n",
    "toutes_les_valeurs = mon_dictionnaire.values()\n",
    "print(\"valeurs: {}\".format(toutes_les_valeurs))\n",
    "\n",
    "toutes_les_paires = mon_dictionnaire.items()\n",
    "toutes_les_paires"
   ]
  },
  {
   "cell_type": "markdown",
   "metadata": {},
   "source": [
    "> Si une clé n'existe pas, une erreur est retournée:"
   ]
  },
  {
   "cell_type": "code",
   "execution_count": 27,
   "metadata": {},
   "outputs": [
    {
     "ename": "KeyError",
     "evalue": "'clé inexistante'",
     "output_type": "error",
     "traceback": [
      "\u001b[1;31m---------------------------------------------------------------------------\u001b[0m",
      "\u001b[1;31mKeyError\u001b[0m                                  Traceback (most recent call last)",
      "\u001b[1;32m<ipython-input-27-2bb486136a95>\u001b[0m in \u001b[0;36m<module>\u001b[1;34m\u001b[0m\n\u001b[1;32m----> 1\u001b[1;33m \u001b[0mmon_dictionnaire\u001b[0m\u001b[1;33m[\u001b[0m\u001b[1;34m'clé inexistante'\u001b[0m\u001b[1;33m]\u001b[0m\u001b[1;33m\u001b[0m\u001b[1;33m\u001b[0m\u001b[0m\n\u001b[0m",
      "\u001b[1;31mKeyError\u001b[0m: 'clé inexistante'"
     ]
    }
   ],
   "source": [
    "mon_dictionnaire['clé inexistante']"
   ]
  },
  {
   "cell_type": "markdown",
   "metadata": {},
   "source": [
    "> En revanche, on peut ajouter une clé avec une valeur si la clé n'est pas dans le dictionnaire:"
   ]
  },
  {
   "cell_type": "code",
   "execution_count": 28,
   "metadata": {},
   "outputs": [],
   "source": [
    "if 'clé inexistante' not in mon_dictionnaire:\n",
    "    mon_dictionnaire['clé inexistante'] = 'ma nouvelle valeur'"
   ]
  },
  {
   "cell_type": "markdown",
   "metadata": {},
   "source": [
    "#### Exercice 5\n",
    "> Formez un dictionnaire ayant un autre dictionnaire comme valeur. Dans cet autre dictionnaire, ajouter la paire 'clé 1': 'valeur 1'. Retournez la valeur dans cette paire."
   ]
  },
  {
   "cell_type": "code",
   "execution_count": 8,
   "metadata": {},
   "outputs": [
    {
     "ename": "AssertionError",
     "evalue": "\nexpected: None to equal 'valeur 1'",
     "output_type": "error",
     "traceback": [
      "\u001b[0;31m---------------------------------------------------------------------------\u001b[0m",
      "\u001b[0;31mAssertionError\u001b[0m                            Traceback (most recent call last)",
      "\u001b[0;32m<ipython-input-8-9e6f684f64ae>\u001b[0m in \u001b[0;36m<module>\u001b[0;34m\u001b[0m\n\u001b[1;32m      5\u001b[0m \u001b[0mx\u001b[0m \u001b[0;34m=\u001b[0m \u001b[0;32mNone\u001b[0m\u001b[0;34m\u001b[0m\u001b[0;34m\u001b[0m\u001b[0m\n\u001b[1;32m      6\u001b[0m \u001b[0;34m\u001b[0m\u001b[0m\n\u001b[0;32m----> 7\u001b[0;31m \u001b[0mexpect\u001b[0m\u001b[0;34m(\u001b[0m\u001b[0mx\u001b[0m\u001b[0;34m)\u001b[0m\u001b[0;34m.\u001b[0m\u001b[0mto\u001b[0m\u001b[0;34m(\u001b[0m\u001b[0mequal\u001b[0m\u001b[0;34m(\u001b[0m\u001b[0;34m'valeur 1'\u001b[0m\u001b[0;34m)\u001b[0m\u001b[0;34m)\u001b[0m\u001b[0;34m\u001b[0m\u001b[0;34m\u001b[0m\u001b[0m\n\u001b[0m",
      "\u001b[0;32m~/anaconda3/lib/python3.7/site-packages/expects/expectations.py\u001b[0m in \u001b[0;36mto\u001b[0;34m(self, matcher)\u001b[0m\n\u001b[1;32m     23\u001b[0m         \u001b[0m__tracebackhide__\u001b[0m \u001b[0;34m=\u001b[0m \u001b[0;32mTrue\u001b[0m\u001b[0;34m\u001b[0m\u001b[0;34m\u001b[0m\u001b[0m\n\u001b[1;32m     24\u001b[0m \u001b[0;34m\u001b[0m\u001b[0m\n\u001b[0;32m---> 25\u001b[0;31m         \u001b[0mself\u001b[0m\u001b[0;34m.\u001b[0m\u001b[0m_assert\u001b[0m\u001b[0;34m(\u001b[0m\u001b[0mmatcher\u001b[0m\u001b[0;34m)\u001b[0m\u001b[0;34m\u001b[0m\u001b[0;34m\u001b[0m\u001b[0m\n\u001b[0m\u001b[1;32m     26\u001b[0m \u001b[0;34m\u001b[0m\u001b[0m\n\u001b[1;32m     27\u001b[0m     \u001b[0;32mdef\u001b[0m \u001b[0m_assert\u001b[0m\u001b[0;34m(\u001b[0m\u001b[0mself\u001b[0m\u001b[0;34m,\u001b[0m \u001b[0mmatcher\u001b[0m\u001b[0;34m)\u001b[0m\u001b[0;34m:\u001b[0m\u001b[0;34m\u001b[0m\u001b[0;34m\u001b[0m\u001b[0m\n",
      "\u001b[0;32m~/anaconda3/lib/python3.7/site-packages/expects/expectations.py\u001b[0m in \u001b[0;36m_assert\u001b[0;34m(self, matcher)\u001b[0m\n\u001b[1;32m     31\u001b[0m \u001b[0;34m\u001b[0m\u001b[0m\n\u001b[1;32m     32\u001b[0m         \u001b[0;32mif\u001b[0m \u001b[0;32mnot\u001b[0m \u001b[0mok\u001b[0m\u001b[0;34m:\u001b[0m\u001b[0;34m\u001b[0m\u001b[0;34m\u001b[0m\u001b[0m\n\u001b[0;32m---> 33\u001b[0;31m             \u001b[0;32mraise\u001b[0m \u001b[0mAssertionError\u001b[0m\u001b[0;34m(\u001b[0m\u001b[0mself\u001b[0m\u001b[0;34m.\u001b[0m\u001b[0m_failure_message\u001b[0m\u001b[0;34m(\u001b[0m\u001b[0mmatcher\u001b[0m\u001b[0;34m,\u001b[0m \u001b[0mreasons\u001b[0m\u001b[0;34m)\u001b[0m\u001b[0;34m)\u001b[0m\u001b[0;34m\u001b[0m\u001b[0;34m\u001b[0m\u001b[0m\n\u001b[0m\u001b[1;32m     34\u001b[0m \u001b[0;34m\u001b[0m\u001b[0m\n\u001b[1;32m     35\u001b[0m     \u001b[0;32mdef\u001b[0m \u001b[0m_match\u001b[0m\u001b[0;34m(\u001b[0m\u001b[0mself\u001b[0m\u001b[0;34m,\u001b[0m \u001b[0mmatcher\u001b[0m\u001b[0;34m)\u001b[0m\u001b[0;34m:\u001b[0m\u001b[0;34m\u001b[0m\u001b[0;34m\u001b[0m\u001b[0m\n",
      "\u001b[0;31mAssertionError\u001b[0m: \nexpected: None to equal 'valeur 1'"
     ]
    }
   ],
   "source": [
    "dictionnaire_de_dictionnaire = {}\n",
    "\n",
    "# ajouter un dictionnaire avec la paire 'clé 1': 'valeur 1' au dictionnaire_de_dictionnaire\n",
    "\n",
    "x = None\n",
    "\n",
    "expect(x).to(equal('valeur 1'))"
   ]
  },
  {
   "cell_type": "markdown",
   "metadata": {},
   "source": [
    "# Questions ?"
   ]
  }
 ],
 "metadata": {
  "colab": {
   "collapsed_sections": [],
   "name": "tutoriel_débutant_1.ipynb",
   "provenance": [],
   "version": "0.3.2"
  },
  "kernelspec": {
   "display_name": "Python 3",
   "language": "python",
   "name": "python3"
  },
  "language_info": {
   "codemirror_mode": {
    "name": "ipython",
    "version": 3
   },
   "file_extension": ".py",
   "mimetype": "text/x-python",
   "name": "python",
   "nbconvert_exporter": "python",
   "pygments_lexer": "ipython3",
   "version": "3.7.3"
  }
 },
 "nbformat": 4,
 "nbformat_minor": 4
}
