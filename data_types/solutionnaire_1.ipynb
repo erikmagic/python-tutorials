{
 "cells": [
  {
   "cell_type": "markdown",
   "metadata": {},
   "source": [
    "### Exercice 1"
   ]
  },
  {
   "cell_type": "code",
   "execution_count": 1,
   "metadata": {},
   "outputs": [],
   "source": [
    "entrant = \"C'est pour que s'accomplisse notre prière\"\n",
    "def exercice1(entrant):\n",
    "    s = entrant[3]\n",
    "    a = entrant[17]\n",
    "    l = entrant[23]\n",
    "    u = entrant[8]\n",
    "    t = entrant[4]\n",
    "    return s + a + l + u + t\n",
    "\n",
    "assert exercice1(entrant) == \"salut\""
   ]
  },
  {
   "cell_type": "markdown",
   "metadata": {},
   "source": [
    "### Exercice 2"
   ]
  },
  {
   "cell_type": "code",
   "execution_count": 2,
   "metadata": {},
   "outputs": [],
   "source": [
    "phrase = \"\"\"\n",
    "Et la lune se lève\n",
    "Comme les heures sont brèves\n",
    "Car ta mère était si belle\n",
    "Je n'arrête pas de pleurer\n",
    "\"\"\"\n",
    "\n",
    "def exercise2(entrant):\n",
    "    ta = entrant[53:55]\n",
    "    belle = entrant[70:75]\n",
    "    lune = entrant[7:11]\n",
    "    pleure = entrant[-8: -2]\n",
    "    esp = entrant[3]\n",
    "    return ta + esp + belle + esp + lune + esp + pleure\n",
    "\n",
    "assert exercise2(phrase) == \"ta belle lune pleure\""
   ]
  },
  {
   "cell_type": "markdown",
   "metadata": {},
   "source": [
    "### Exercice 3"
   ]
  },
  {
   "cell_type": "code",
   "execution_count": 3,
   "metadata": {},
   "outputs": [],
   "source": [
    "liste_aleatoire = [\n",
    "    'Email:',\n",
    "    'SSN:',\n",
    "    'Address:',\n",
    "    'Home Phone:',\n",
    "    'Mobile Phone: ',\n",
    "    'DOB:',\n",
    "    'Date of Surgery:',\n",
    "    'Date of Service:',\n",
    "    'Facility of Service:',\n",
    "    'Clinic Number:',\n",
    "    'Employer:',\n",
    "    'Work Phone: ',\n",
    "    'Fax: ',\n",
    "    'Type:',\n",
    "    'IPA:',\n",
    "    'Health Plan:',\n",
    "    'ID #:',\n",
    "    'Claims Address:',\n",
    "    'Group #:',\n",
    "    'Claim # / PO #:',\n",
    "    'Phone:',\n",
    "    'Fax:',\n",
    "    'Contact',\n",
    "    'Adjuster Email',\n",
    "    'Util Review Phone',\n",
    "    'Util Review Fax',\n",
    "    'Doctor:',\n",
    "    'NPI #: ',\n",
    "    'Date of Injury: ',\n",
    "    'Body Parts:',\n",
    "    'Body Part Side:',\n",
    "    'Gender:',\n",
    "    'Diagnosis:',\n",
    "    'Diagnosis 2:',\n",
    "    'Procedure:'\n",
    "    ]\n",
    "\n",
    "# Exercice 3:\n",
    "def exercice3(entrant):\n",
    "    return entrant[-3: len(entrant)]\n",
    "\n",
    "assert exercice3(liste_aleatoire) == ['Diagnosis:', 'Diagnosis 2:', 'Procedure:'] \n"
   ]
  },
  {
   "cell_type": "markdown",
   "metadata": {},
   "source": [
    "### Exercice 4"
   ]
  },
  {
   "cell_type": "code",
   "execution_count": 4,
   "metadata": {},
   "outputs": [],
   "source": [
    "entrant = 9.32\n",
    "def exercice4(entrant):\n",
    "    return (entrant / 2, int(entrant), entrant ** 4)\n",
    "\n",
    "assert exercice4(entrant) == (4.66, 9, 7545.0765337600005)"
   ]
  },
  {
   "cell_type": "markdown",
   "metadata": {},
   "source": [
    "### Exercice 5"
   ]
  },
  {
   "cell_type": "code",
   "execution_count": 5,
   "metadata": {},
   "outputs": [],
   "source": [
    "dictionnaire_de_dictionnaire = {}\n",
    "\n",
    "# ajouter un dictionnaire avec la paire 'clé 1': 'valeur 1' au dictionnaire_de_dictionnaire\n",
    "dictionnaire_interieur = {'clé 1': 'valeur 1'}\n",
    "dictionnaire_de_dictionnaire['interieur'] = dictionnaire_interieur\n",
    "\n",
    "def exercice5(entrant):\n",
    "    return entrant['interieur']['clé 1']\n",
    "\n",
    "assert exercice5(dictionnaire_de_dictionnaire) == 'valeur 1'"
   ]
  }
 ],
 "metadata": {
  "kernelspec": {
   "display_name": "Python 3",
   "language": "python",
   "name": "python3"
  },
  "language_info": {
   "codemirror_mode": {
    "name": "ipython",
    "version": 3
   },
   "file_extension": ".py",
   "mimetype": "text/x-python",
   "name": "python",
   "nbconvert_exporter": "python",
   "pygments_lexer": "ipython3",
   "version": "3.6.7"
  }
 },
 "nbformat": 4,
 "nbformat_minor": 2
}
