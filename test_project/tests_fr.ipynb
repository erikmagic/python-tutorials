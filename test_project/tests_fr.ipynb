{
 "cells": [
  {
   "cell_type": "markdown",
   "metadata": {
    "slideshow": {
     "slide_type": "slide"
    }
   },
   "source": [
    "Tests et Profilage, Python\n",
    "=========================="
   ]
  },
  {
   "cell_type": "markdown",
   "metadata": {
    "slideshow": {
     "slide_type": "slide"
    }
   },
   "source": [
    "Le présent tutoriel vise à éclaircir certains concepts reliés aux tests en\n",
    "programmation et à mettre l'emphase sur les bonnes pratiques d'assurance\n",
    "qualité en Python. Nous allons également investiguer comment profiler son code\n",
    "afin de déterminer la performance."
   ]
  },
  {
   "cell_type": "markdown",
   "metadata": {
    "slideshow": {
     "slide_type": "slide"
    }
   },
   "source": [
    "Tests unitaires\n",
    "---------------\n",
    "Le pilier principal de l'assurance qualité en programmation\n",
    "est les tests unitaires. Les tests unitaires ont comme objectif de vérifier que\n",
    "mon code fait ce qu'il est censé faire."
   ]
  },
  {
   "cell_type": "markdown",
   "metadata": {
    "slideshow": {
     "slide_type": "slide"
    }
   },
   "source": [
    "Les tests unitaires sont composés de 4 étapes:\n",
    "1. Préparation (`setUp`): les composantes nécessaires pour le test sont\n",
    "   instanciées.\n",
    "2. Exercice: L'unité de code testée est lancée.\n",
    "3. Vérification: Le sortant de l'unité de code en question est comparé à sa\n",
    "   valeur anticipée.\n",
    "4. Ramassage (`tearDown`): les composantes nécessaires pour le test sont\n",
    "   détruites."
   ]
  },
  {
   "cell_type": "markdown",
   "metadata": {
    "slideshow": {
     "slide_type": "slide"
    }
   },
   "source": [
    "Un test unitaire est généralement conçu afin d'isoler une unité de code. Il\n",
    "est important de découpler les tests unitaires.   Nous allons commencer par\n",
    "nous habituer à la structure générale des tests. Le premier exemple est le\n",
    "script `utilities.py` et sa classe de tests dans `test_utilities.py`.  \n",
    "Nous n'allons pas aborder le script `utilities.py` dans ce tutoriel puisqu'il nécessite des concepts de base en programmation orienté objet. Cependant, je le laisse à titre d'exemple puisque vous allez probablement fréquemment rencontrer des exemples similaires. "
   ]
  },
  {
   "cell_type": "markdown",
   "metadata": {
    "slideshow": {
     "slide_type": "slide"
    }
   },
   "source": [
    "Pytest\n",
    "------"
   ]
  },
  {
   "cell_type": "markdown",
   "metadata": {
    "slideshow": {
     "slide_type": "subslide"
    }
   },
   "source": [
    "Pytest nous permet de lancer nos tests et de voir le résultat\n",
    "avec un résumé graphique sur la ligne de commande. La commande est `pytest\n",
    "<votre_fichier_de_test.py> `."
   ]
  },
  {
   "cell_type": "markdown",
   "metadata": {
    "slideshow": {
     "slide_type": "slide"
    }
   },
   "source": [
    "Il y a plusieurs options utiles pour commencer\n",
    "tels que `-s` qui permet d'afficher le _standard out_ (les print statements,\n",
    "sinon ils ne sont pas imprimés puisque pytest capture l'ensemble des sortants\n",
    "des tests."
   ]
  },
  {
   "cell_type": "markdown",
   "metadata": {
    "slideshow": {
     "slide_type": "slide"
    }
   },
   "source": [
    "Pytest est un des principaux modules de test dans Python. Il supporte les tests\n",
    "unitaires classiques comme nous venons juste de voir. De plus, il permet de\n",
    "gérer les tests différemment avec des _fixture_. Nous allons refactoriser la\n",
    "classe TestUtilities afin d'utiliser les _fixture_.\n",
    "Le ficher est *test_utilities_refactored.py*"
   ]
  },
  {
   "cell_type": "code",
   "execution_count": null,
   "metadata": {
    "collapsed": false,
    "jupyter": {
     "outputs_hidden": false
    },
    "pycharm": {
     "name": "#%%\n"
    },
    "slideshow": {
     "slide_type": "slide"
    }
   },
   "outputs": [],
   "source": [
    "@pytest.fixture(scope='module')\n",
    "def prepare():\n",
    "    print('nothing to prepare in this example!')\n",
    "    return \n",
    "\n",
    "def test_translate_to_jadensmith_raises_value_error(prepare):\n",
    "    with pytest.raises(ValueError):\n",
    "        ut.translate_to_jadensmith(999)\n",
    "\n",
    "def test_translate_to_jadensmith_single_word(prepare):\n",
    "    sentence = \"bonjour\"\n",
    "    expected_value = \"Bonjour\"\n",
    "\n",
    "    actual_value = ut.translate_to_jadensmith(sentence)\n",
    "\n",
    "    assert expected_value == actual_value\n"
   ]
  },
  {
   "cell_type": "markdown",
   "metadata": {
    "slideshow": {
     "slide_type": "subslide"
    }
   },
   "source": [
    "Les _fixtures_ sont une fonctionnalité très puissante de pytest."
   ]
  },
  {
   "cell_type": "markdown",
   "metadata": {
    "slideshow": {
     "slide_type": "slide"
    }
   },
   "source": [
    "Pytest Coverage\n",
    "---------------"
   ]
  },
  {
   "cell_type": "markdown",
   "metadata": {
    "slideshow": {
     "slide_type": "subslide"
    }
   },
   "source": [
    "_pytest-cov_ est un module supplémentaire nous permettant de visualiser la\n",
    "proportion du code testée. Il est facile de se restreindre à seulement quelques\n",
    "chemins possibles par le code. Par exemple. si j'ai le code suivant:"
   ]
  },
  {
   "cell_type": "code",
   "execution_count": null,
   "metadata": {
    "collapsed": false,
    "jupyter": {
     "outputs_hidden": false
    },
    "pycharm": {
     "name": "#%%\n"
    },
    "slideshow": {
     "slide_type": "slide"
    }
   },
   "outputs": [],
   "source": [
    "if first_name == \"\":\n",
    "   if last_name == \"\":\n",
    "        db.set_name(\"unknown\")\n",
    "   else:\n",
    "        db.set_name(last_name)\n",
    "else:\n",
    "    if last_name == \"\":\n",
    "        db.set_name(first_name + \"_unknown\")\n",
    "    else:\n",
    "        db.set_name(first_name +  \" \" + last_name)"
   ]
  },
  {
   "cell_type": "markdown",
   "metadata": {
    "slideshow": {
     "slide_type": "slide"
    }
   },
   "source": [
    "Nous devons écrire soit 4 tests ou bien un test parcourant les 4 chemins.\n",
    "Un module comme _pytest-cov_ nous permet de calculer la proportion du code qui\n",
    "est réellement testé."
   ]
  },
  {
   "cell_type": "markdown",
   "metadata": {
    "slideshow": {
     "slide_type": "slide"
    }
   },
   "source": [
    "La commande est `pytest --cov=<nom du module> <test_directory>`\n",
    "\n",
    "![pytest cov result](./include/pytest_cov.png)"
   ]
  },
  {
   "cell_type": "markdown",
   "metadata": {
    "slideshow": {
     "slide_type": "slide"
    }
   },
   "source": [
    "La photo précédente démontre le résultat d'une couverture de test."
   ]
  },
  {
   "cell_type": "markdown",
   "metadata": {
    "pycharm": {
     "name": "#%% md\n"
    },
    "slideshow": {
     "slide_type": "slide"
    }
   },
   "source": [
    "Analyse comparative en Python\n",
    "-----------------------------\n",
    "Il est parfois important de respecter certains critères de performance.\n",
    "Comment valider les performances de composantes précises de notre software?\n",
    "Pour des fonctions isolées, nous pouvous utiliser le module `timeit`."
   ]
  },
  {
   "cell_type": "code",
   "execution_count": null,
   "metadata": {
    "collapsed": false,
    "jupyter": {
     "outputs_hidden": false
    },
    "pycharm": {
     "name": "#%%\n"
    },
    "slideshow": {
     "slide_type": "slide"
    }
   },
   "outputs": [],
   "source": [
    "import timeit\n",
    "s = \"\"\"\n",
    "with open(\"sherlock.txt\") as f:\n",
    "    lines = f.readlines()\n",
    "meme_lines = [ut.translate_to_internet_meme(l) for l in lines[:100]]\n",
    "\"\"\"\n",
    "print(timeit.timeit(stmt=s, setup=\"from __main__ import ut\", number=1000))"
   ]
  },
  {
   "cell_type": "markdown",
   "metadata": {
    "pycharm": {
     "name": "#%% md\n"
    },
    "slideshow": {
     "slide_type": "subslide"
    }
   },
   "source": [
    "Le code précédent ouvre un ficher texte (Sherlock Holmes) et appelle la fonction `translate_to_internet_meme` \n",
    "sur les 100 premières phrases. Cette procédure est repétée 1000 fois. Cela permet d'obtenir \n",
    "une moyenne assez précise des performances.   \n",
    "Noter que le code est sous forme de `str` ce qui limite quelque peut les possibilités d'essaies."
   ]
  },
  {
   "cell_type": "markdown",
   "metadata": {
    "pycharm": {
     "name": "#%% md\n"
    },
    "slideshow": {
     "slide_type": "slide"
    }
   },
   "source": [
    "Profilage en Python\n",
    "-------------------\n",
    "Outre l'analyse comparative, le profilage peut également s'avérer utile afin de mieux comprendre son programme.\n",
    "Un profilage est un ensemble de statistiques descriptives du temps d'éxécution des divers composantes d'un programme."
   ]
  },
  {
   "cell_type": "markdown",
   "metadata": {
    "pycharm": {
     "name": "#%% md\n"
    },
    "slideshow": {
     "slide_type": "slide"
    }
   },
   "source": [
    "Le module le plus populaire et utile est sans doute le module `cprofile`.\n",
    "Ce module est fait pour créer une profile d'exécution et non afin d'analyse comparative, utiliser `timeit`dans ce contexte."
   ]
  },
  {
   "cell_type": "markdown",
   "metadata": {
    "pycharm": {
     "name": "#%% md\n"
    },
    "slideshow": {
     "slide_type": "subslide"
    }
   },
   "source": [
    "La commande pour lancer le profileur *cprofile* est la suivante:\n",
    "`python -m cprofile <your_script_name.py`"
   ]
  },
  {
   "cell_type": "code",
   "execution_count": null,
   "metadata": {
    "collapsed": false,
    "jupyter": {
     "outputs_hidden": false
    },
    "pycharm": {
     "name": "#%%\n"
    },
    "slideshow": {
     "slide_type": "slide"
    }
   },
   "outputs": [],
   "source": [
    "import time\n",
    "\n",
    "def f(x):\n",
    "    x = str(x)\n",
    "    c = \"this value is \" + x +  \".\"\n",
    "    time.sleep(1)\n",
    "    print(c)\n",
    "\n",
    "l = [1,2,3,4,5,6,7]\n",
    "\n",
    "for v in l:\n",
    "    f(v)"
   ]
  },
  {
   "cell_type": "markdown",
   "metadata": {
    "pycharm": {
     "name": "#%% md\n"
    },
    "slideshow": {
     "slide_type": "slide"
    }
   },
   "source": [
    "![cprofile](./include/result_cprofile.png)"
   ]
  },
  {
   "cell_type": "markdown",
   "metadata": {
    "pycharm": {
     "name": "#%% md\n"
    },
    "slideshow": {
     "slide_type": "slide"
    }
   },
   "source": [
    "Voici la signification des colonnes:\n",
    "* ncalls: le nombre de fois la fonction a été appelé.\n",
    "* tottime: le temps total passé dans une fonction.\n",
    "* percall: tottime / ncalls\n",
    "* cumtime: temps cumulatif passé dans une fonction et ses sous-fonctions.\n"
   ]
  }
 ],
 "metadata": {
  "kernelspec": {
   "display_name": "Python 3",
   "language": "python",
   "name": "python3"
  },
  "language_info": {
   "codemirror_mode": {
    "name": "ipython",
    "version": 3
   },
   "file_extension": ".py",
   "mimetype": "text/x-python",
   "name": "python",
   "nbconvert_exporter": "python",
   "pygments_lexer": "ipython3",
   "version": "3.8.5"
  }
 },
 "nbformat": 4,
 "nbformat_minor": 4
}
