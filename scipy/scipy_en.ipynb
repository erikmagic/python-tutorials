{
 "cells": [
  {
   "cell_type": "markdown",
   "metadata": {},
   "source": [
    "# Scipy \n",
    "\n",
    "Scipy is an extremely versatile Python math module. It contains among others the following sub-modules:\n",
    "* Special functions\n",
    "* Integration\n",
    "* Optimization\n",
    "* Interpolation\n",
    "* Fourier Transforms\n",
    "* Signal Processing\n",
    "* Linear Algebra\n",
    "* Compressed Sparse Graph Routines\n",
    "* Spatial data structures and algorithms\n",
    "* Statistics\n",
    "* Image Processing\n",
    "* File IO\n",
    "\n",
    "Today, we are going to study four particular sub-modules:\n",
    "* Special Functions\n",
    "* Statistics\n",
    "* File IO\n",
    "* Linea Algebra\n"
   ]
  },
  {
   "cell_type": "markdown",
   "metadata": {},
   "source": [
    "## Scipy IO\n",
    "The first module we are studying is the preliminary, the scipy.io I/O module.  \n",
    "\n",
    "This module is particularly useful to open mathematical files from other tools such as Matlab, Fortan or NetCDF.  \n",
    "\n",
    "\n"
   ]
  },
  {
   "cell_type": "markdown",
   "metadata": {},
   "source": [
    "#### Matlab\n",
    "The next cell shows how to save a *numpy* array as a matlab file. Notice that we are saving a dictionary. In fact, from the edge of matlab, the objects are similar to structures resembling our python dictionaries. So, the conversion is implicitly done between matlab structures and python dictionaries in the scipy module."
   ]
  },
  {
   "cell_type": "code",
   "execution_count": 1,
   "metadata": {},
   "outputs": [
    {
     "name": "stdout",
     "output_type": "stream",
     "text": [
      "Requirement already satisfied: expects in c:\\programdata\\anaconda3\\lib\\site-packages (0.9.0)\n"
     ]
    }
   ],
   "source": [
    "!pip install expects"
   ]
  },
  {
   "cell_type": "code",
   "execution_count": 17,
   "metadata": {},
   "outputs": [],
   "source": [
    "from expects import expect, equal\n",
    "import scipy.io as sio\n",
    "from scipy import stats\n",
    "import numpy as np\n",
    "np.random.seed(22)\n",
    "import seaborn as sns\n",
    "sns.set()\n",
    "%matplotlib inline\n",
    "import matplotlib.pyplot as plt\n",
    "import pandas as pd\n",
    "\n",
    "array = np.arange(100).reshape(10,10)\n",
    "sio.savemat(\"matrix.mat\", {\"matrix\": array})\n"
   ]
  },
  {
   "cell_type": "markdown",
   "metadata": {},
   "source": [
    "The `whosmat` function allows us to inspect the *.mat* file before opening it. This can be useful for quality assurance."
   ]
  },
  {
   "cell_type": "code",
   "execution_count": 18,
   "metadata": {},
   "outputs": [
    {
     "data": {
      "text/plain": [
       "[('matrix', (10, 10), 'int64')]"
      ]
     },
     "execution_count": 18,
     "metadata": {},
     "output_type": "execute_result"
    }
   ],
   "source": [
    "sio.whosmat(\"matrix.mat\")"
   ]
  },
  {
   "cell_type": "code",
   "execution_count": 19,
   "metadata": {},
   "outputs": [
    {
     "data": {
      "text/plain": [
       "{'__header__': b'MATLAB 5.0 MAT-file Platform: posix, Created on: Thu Aug  6 10:12:59 2020',\n",
       " '__version__': '1.0',\n",
       " '__globals__': [],\n",
       " 'matrix': array([[ 0,  1,  2,  3,  4,  5,  6,  7,  8,  9],\n",
       "        [10, 11, 12, 13, 14, 15, 16, 17, 18, 19],\n",
       "        [20, 21, 22, 23, 24, 25, 26, 27, 28, 29],\n",
       "        [30, 31, 32, 33, 34, 35, 36, 37, 38, 39],\n",
       "        [40, 41, 42, 43, 44, 45, 46, 47, 48, 49],\n",
       "        [50, 51, 52, 53, 54, 55, 56, 57, 58, 59],\n",
       "        [60, 61, 62, 63, 64, 65, 66, 67, 68, 69],\n",
       "        [70, 71, 72, 73, 74, 75, 76, 77, 78, 79],\n",
       "        [80, 81, 82, 83, 84, 85, 86, 87, 88, 89],\n",
       "        [90, 91, 92, 93, 94, 95, 96, 97, 98, 99]])}"
      ]
     },
     "execution_count": 19,
     "metadata": {},
     "output_type": "execute_result"
    }
   ],
   "source": [
    "data = sio.loadmat(\"matrix.mat\")\n",
    "data"
   ]
  },
  {
   "cell_type": "markdown",
   "metadata": {},
   "source": [
    "#### Fortran\n",
    "Fortran files are somewhat more difficult to access since there is no compliance between different versions of Fortran. Moreover, depending on which machine a Fortran version is running, the result can be different!  \n",
    "We can interact with files called *unformatted sequential files*."
   ]
  },
  {
   "cell_type": "code",
   "execution_count": 20,
   "metadata": {},
   "outputs": [],
   "source": [
    "array2 = np.arange(100, 200).reshape(10, 10)\n",
    "\n",
    "with sio.FortranFile(\"data.unf\", \"w\") as f:\n",
    "    f.write_record(array2)\n"
   ]
  },
  {
   "cell_type": "code",
   "execution_count": 21,
   "metadata": {},
   "outputs": [
    {
     "name": "stdout",
     "output_type": "stream",
     "text": [
      "[100 101 102 103 104 105 106 107 108 109 110 111 112 113 114 115 116 117\n",
      " 118 119 120 121 122 123 124 125 126 127 128 129 130 131 132 133 134 135\n",
      " 136 137 138 139 140 141 142 143 144 145 146 147 148 149 150 151 152 153\n",
      " 154 155 156 157 158 159 160 161 162 163 164 165 166 167 168 169 170 171\n",
      " 172 173 174 175 176 177 178 179 180 181 182 183 184 185 186 187 188 189\n",
      " 190 191 192 193 194 195 196 197 198 199]\n"
     ]
    }
   ],
   "source": [
    "with sio.FortranFile(\"data.unf\", \"r\") as f:\n",
    "    data = f.read_record(np.int64)\n",
    "    print(data)"
   ]
  },
  {
   "cell_type": "markdown",
   "metadata": {},
   "source": [
    "## Scipy Statistics\n",
    "We can access observations of random variables from the *numpy* module. This is a simple example:\n"
   ]
  },
  {
   "cell_type": "code",
   "execution_count": 22,
   "metadata": {},
   "outputs": [
    {
     "data": {
      "text/plain": [
       "array([26, 30, 29, 35, 26, 28, 27, 32, 26, 34, 20, 31, 34, 33, 26, 19, 33,\n",
       "       38, 32, 28, 33, 32, 29, 31, 29, 31, 32, 24, 37, 41, 32, 34, 22, 26,\n",
       "       35, 33, 30, 25, 30, 30])"
      ]
     },
     "execution_count": 22,
     "metadata": {},
     "output_type": "execute_result"
    }
   ],
   "source": [
    "import numpy as np\n",
    "obs = np.random.binomial(n=100, p=0.3, size=40)\n",
    "obs"
   ]
  },
  {
   "cell_type": "markdown",
   "metadata": {},
   "source": [
    "On the other hand, the *scipy.statistics* module produces the random variable in itself, and allows us to access the observations using the method."
   ]
  },
  {
   "cell_type": "code",
   "execution_count": 23,
   "metadata": {},
   "outputs": [],
   "source": [
    "from scipy.stats import binom, zipf\n",
    "\n",
    "va = binom(n=100, p=0.3)"
   ]
  },
  {
   "cell_type": "code",
   "execution_count": 24,
   "metadata": {},
   "outputs": [
    {
     "name": "stdout",
     "output_type": "stream",
     "text": [
      "mean of the random variable: 30.0\n",
      "generated observations: [28 22 29 24 22 32 35 25 25 30 26 34 31 29 40 32 26 26 30 28 36 24 28 26\n",
      " 33 34 33 26 35 19 28 38 37 21 32 26 31 27 25 30]\n",
      "skewness: 0.08728715609439695\n"
     ]
    }
   ],
   "source": [
    "print(f\"mean of the random variable: {va.mean()}\")\n",
    "print(f\"generated observations: {va.rvs(size=40)}\")\n",
    "print(f\"skewness: {va.stats(moments='s')}\")"
   ]
  },
  {
   "cell_type": "code",
   "execution_count": 25,
   "metadata": {},
   "outputs": [
    {
     "data": {
      "text/plain": [
       "<matplotlib.axes._subplots.AxesSubplot at 0x7f0ecaf222d0>"
      ]
     },
     "execution_count": 25,
     "metadata": {},
     "output_type": "execute_result"
    },
    {
     "data": {
      "image/png": "[encoded data removed]",
      "text/plain": [
       "<Figure size 432x288 with 1 Axes>"
      ]
     },
     "metadata": {
      "needs_background": "light"
     },
     "output_type": "display_data"
    }
   ],
   "source": [
    "sns.distplot(va.rvs(size=40))"
   ]
  },
  {
   "cell_type": "code",
   "execution_count": 26,
   "metadata": {},
   "outputs": [],
   "source": [
    "va_zip = zipf(a=2)"
   ]
  },
  {
   "cell_type": "code",
   "execution_count": 27,
   "metadata": {},
   "outputs": [
    {
     "name": "stdout",
     "output_type": "stream",
     "text": [
      "mean of the random variable: inf\n",
      "generated_observations: [ 2  7  2  1  1  1  2  1  1  7  1  6  1 10  1  2  1  1  1  1  2  1  2  7\n",
      "  1  4  1  3  1  1  1  1  6  1  2  1  4  1  1  1]\n",
      "skewness: nan\n"
     ]
    },
    {
     "name": "stderr",
     "output_type": "stream",
     "text": [
      "/home/jackson/anaconda3/lib/python3.7/site-packages/scipy/stats/_distn_infrastructure.py:1078: RuntimeWarning: invalid value encountered in subtract\n",
      "  mu2 = mu2p - mu * mu\n"
     ]
    }
   ],
   "source": [
    "print(f\"mean of the random variable: {va_zip.mean()}\")\n",
    "print(f\"generated_observations: {va_zip.rvs(size=40)}\")\n",
    "print(f\"skewness: {va_zip.stats(moments='s')}\")"
   ]
  },
  {
   "cell_type": "code",
   "execution_count": 28,
   "metadata": {},
   "outputs": [
    {
     "data": {
      "text/plain": [
       "<matplotlib.axes._subplots.AxesSubplot at 0x7f0ecae75150>"
      ]
     },
     "execution_count": 28,
     "metadata": {},
     "output_type": "execute_result"
    },
    {
     "data": {
      "image/png": "[encoded data removed]",
      "text/plain": [
       "<Figure size 432x288 with 1 Axes>"
      ]
     },
     "metadata": {
      "needs_background": "light"
     },
     "output_type": "display_data"
    }
   ],
   "source": [
    "sns.distplot(va_zip.rvs(size=40))"
   ]
  },
  {
   "cell_type": "markdown",
   "metadata": {},
   "source": [
    "Probability distributions *are* grouped into two categories: continuous and discrete distributions.  \n",
    "For example, continuous distributions have the following methods:\n",
    "\n",
    "* rvs: obtain a series of random observations\n",
    "* pdf: density random variable\n",
    "* cdf: distribution function\n",
    "* sf: survival function (1 - CDF)\n",
    "* ppf: quantile function (inverse of cdf)\n",
    "* isf: inverse of the survival function.\n",
    "* stats: information on the moments\n"
   ]
  },
  {
   "cell_type": "markdown",
   "metadata": {},
   "source": [
    "#### Exercise 1\n",
    "In this first exercise, please define a random variable based on a normal probability distribution with a standard deviation of 5 and a mean of 10."
   ]
  },
  {
   "cell_type": "code",
   "execution_count": 29,
   "metadata": {},
   "outputs": [
    {
     "ename": "AttributeError",
     "evalue": "'NoneType' object has no attribute 'mean'",
     "output_type": "error",
     "traceback": [
      "\u001b[0;31m---------------------------------------------------------------------------\u001b[0m",
      "\u001b[0;31mAttributeError\u001b[0m                            Traceback (most recent call last)",
      "\u001b[0;32m<ipython-input-29-be791461ad3e>\u001b[0m in \u001b[0;36m<module>\u001b[0;34m\u001b[0m\n\u001b[1;32m      1\u001b[0m \u001b[0mva_norm\u001b[0m \u001b[0;34m=\u001b[0m \u001b[0;32mNone\u001b[0m\u001b[0;34m\u001b[0m\u001b[0;34m\u001b[0m\u001b[0m\n\u001b[1;32m      2\u001b[0m \u001b[0;34m\u001b[0m\u001b[0m\n\u001b[0;32m----> 3\u001b[0;31m \u001b[0mexpect\u001b[0m\u001b[0;34m(\u001b[0m\u001b[0mva_norm\u001b[0m\u001b[0;34m.\u001b[0m\u001b[0mmean\u001b[0m\u001b[0;34m(\u001b[0m\u001b[0;34m)\u001b[0m\u001b[0;34m)\u001b[0m\u001b[0;34m.\u001b[0m\u001b[0mto\u001b[0m\u001b[0;34m(\u001b[0m\u001b[0mequal\u001b[0m\u001b[0;34m(\u001b[0m\u001b[0;36m10.\u001b[0m\u001b[0;34m)\u001b[0m\u001b[0;34m)\u001b[0m\u001b[0;34m\u001b[0m\u001b[0;34m\u001b[0m\u001b[0m\n\u001b[0m",
      "\u001b[0;31mAttributeError\u001b[0m: 'NoneType' object has no attribute 'mean'"
     ]
    }
   ],
   "source": [
    "\n",
    "va_norm = None\n",
    "\n",
    "expect(va_norm.mean()).to(equal(10.))"
   ]
  },
  {
   "cell_type": "markdown",
   "metadata": {},
   "source": [
    "So this is a simple way to generate random variables based on probability distributions. Now let's look at how to use comparisons and transformations on these variables.\n",
    "\n",
    "Let's start with a simple example of these transformations."
   ]
  },
  {
   "cell_type": "code",
   "execution_count": null,
   "metadata": {},
   "outputs": [],
   "source": [
    "from scipy.stats import cauchy\n",
    "\n",
    "# generate  a cauchy random variable\n",
    "va_cauchy = cauchy(loc=100)\n",
    "\n",
    "fig, ax = plt.subplots()\n",
    "ax.set_xlim([90, 110])\n",
    "sns.distplot(va_cauchy.rvs(size=50))\n",
    "\n"
   ]
  },
  {
   "cell_type": "code",
   "execution_count": null,
   "metadata": {},
   "outputs": [],
   "source": [
    "# is our cauchy distribution close to a \n",
    "# normal distribution?\n",
    "\n",
    "fig = plt.figure()\n",
    "ax1 = fig.add_subplot(211)\n",
    "cauch = va_cauchy.rvs(size=100)\n",
    "prob = stats.probplot(cauch, dist=stats.norm, plot=ax1)\n",
    "ax1.set_xlabel(\"\")\n",
    "ax1.set_title(\"initial cauchy dist\")\n",
    "\n",
    "ax2 = fig.add_subplot(212)\n",
    "cauch_box, _ = stats.boxcox(cauch)\n",
    "prob = stats.probplot(cauch_box, dist=stats.norm, plot=ax2)\n",
    "\n",
    "ax2.set_title(\"cauchy dist after boxplot\")"
   ]
  },
  {
   "cell_type": "code",
   "execution_count": null,
   "metadata": {},
   "outputs": [],
   "source": [
    "# we can use an Anderson-Darling test to determine\n",
    "# if our cauchy distribution is relatively close to a normal one\n",
    "\n",
    "\n",
    "statistic, crit_value, sign_level = stats.anderson(cauch_box)\n",
    "statistic, crit_value, sign_level"
   ]
  },
  {
   "cell_type": "code",
   "execution_count": null,
   "metadata": {},
   "outputs": [],
   "source": [
    "# comparing the cauchy random variable\n",
    "# before the box cox\n",
    "stats.anderson(cauch)"
   ]
  },
  {
   "cell_type": "markdown",
   "metadata": {},
   "source": [
    "#### Exercise 2\n",
    "Perform the Anderson-Darling test with your normal probability distribution generated in Exercise 1.\n"
   ]
  },
  {
   "cell_type": "code",
   "execution_count": null,
   "metadata": {},
   "outputs": [],
   "source": [
    "# exercise 2"
   ]
  },
  {
   "cell_type": "markdown",
   "metadata": {},
   "source": [
    "It turns out that we can also apply the maximum likelihood method to apply a dataset to a probability distribution. Here is an example:"
   ]
  },
  {
   "cell_type": "code",
   "execution_count": null,
   "metadata": {},
   "outputs": [],
   "source": [
    "x = va_cauchy.rvs(size=200, random_state=22)\n",
    "loc, scale= norm.fit(x)\n",
    "loc, scale"
   ]
  },
  {
   "cell_type": "code",
   "execution_count": null,
   "metadata": {},
   "outputs": [],
   "source": [
    "fig, ax = plt.subplots(1,2)\n",
    "\n",
    "ax[0].set_xlim([0, 0.175])\n",
    "ax[0].set_xlim([0, 200])\n",
    "ax[1].set_ylim([0, 0.175])\n",
    "ax[1].set_xlim([0, 200])\n",
    "\n",
    "sns.distplot(x, ax=ax[0])\n",
    "sns.distplot(norm(loc=loc, scale=scale).rvs(size=200, random_state=22), ax=ax[1])"
   ]
  },
  {
   "cell_type": "markdown",
   "metadata": {},
   "source": [
    "Let's now look at how to use the pdf and cdf functions of a probability distribution."
   ]
  },
  {
   "cell_type": "code",
   "execution_count": null,
   "metadata": {},
   "outputs": [],
   "source": [
    "range_ = np.linspace(va_cauchy.ppf(0.01), va_cauchy.ppf(0.99), 100)\n",
    "sns.lineplot(range_, va_cauchy.pdf(range_))"
   ]
  },
  {
   "cell_type": "code",
   "execution_count": null,
   "metadata": {},
   "outputs": [],
   "source": [
    "sns.lineplot(range_, va_cauchy.cdf(range_))"
   ]
  },
  {
   "cell_type": "markdown",
   "metadata": {},
   "source": [
    "## Scipy Special\n",
    "We will spend only a few minutes on the `scipy.special` module since it is quite specific and mainly used for advanced applications in mathematics and physics. The goal is mainly to inform you about its features.  \n",
    "\n",
    "Let's start with the easiest part, i.e. permutations and combinations."
   ]
  },
  {
   "cell_type": "code",
   "execution_count": null,
   "metadata": {},
   "outputs": [],
   "source": [
    "from scipy import special\n",
    "from scipy.special import comb, perm\n",
    "\n",
    "numb_comb = comb(12, 3, exact=True, repetition=True)\n",
    "numb_perm = perm(12, 3, exact=True)\n",
    "\n",
    "print(f\"number of combinations: {numb_comb}, number of permutations: {numb_perm}\")"
   ]
  },
  {
   "cell_type": "markdown",
   "metadata": {},
   "source": [
    "the complete list of available functions available from the `help` function."
   ]
  },
  {
   "cell_type": "code",
   "execution_count": null,
   "metadata": {},
   "outputs": [],
   "source": [
    "# help(special)"
   ]
  },
  {
   "cell_type": "code",
   "execution_count": null,
   "metadata": {},
   "outputs": [],
   "source": [
    "# we can try entropy functions\n",
    "\n",
    "x = norm().rvs(size=100)\n",
    "\n",
    "special.entr(x)"
   ]
  },
  {
   "cell_type": "code",
   "execution_count": null,
   "metadata": {},
   "outputs": [],
   "source": [
    "# or gamma functions\n",
    "special.gamma(x)"
   ]
  },
  {
   "cell_type": "markdown",
   "metadata": {},
   "source": [
    "## Scipy Linalg\n",
    "The `scipy.linalg` module contains all the functionality of `numpy.linalg`, but also contains more.\n",
    "\n",
    "In addition, the `scipy.linalg` module is compiled with LAPACK (linear algebra package, Fortran) which generally makes it faster than numpy which does not necessarily require this module.  \n",
    "\n",
    "Therefore, it is generally better to use `scipy.linalg`.\n"
   ]
  },
  {
   "cell_type": "markdown",
   "metadata": {},
   "source": [
    "Let's start with a short introduction to matrices and their basic operations. We use the *array numpy* to represent the matrices."
   ]
  },
  {
   "cell_type": "code",
   "execution_count": null,
   "metadata": {},
   "outputs": [],
   "source": [
    "mat1 = np.array([[1,2], [3,4]])\n",
    "mat2 = np.array([[5,6], [7,8]])\n",
    "\n",
    "elementwise = mat1 * mat2\n",
    "mat_mul = mat1 @ mat2\n",
    "\n",
    "elementwise, mat_mul"
   ]
  },
  {
   "cell_type": "code",
   "execution_count": null,
   "metadata": {},
   "outputs": [],
   "source": [
    "transpose = mat1.T\n",
    "transpose"
   ]
  },
  {
   "cell_type": "markdown",
   "metadata": {},
   "source": [
    "#### Exercise 3\n",
    "Compute the following algebraic equation:\n",
    "$$\n",
    "AB + 2B^2  - I\n",
    "$$\n",
    "où\n",
    "$$\n",
    "A = \\begin{bmatrix} 5 & 7 \\\\ 8 & 9 \\end{bmatrix}\n",
    "$$\n",
    "et \n",
    "$$\n",
    "B = \\begin{bmatrix} 0 & 1 \\\\ 2 & 7 \\end{bmatrix}\n",
    "$$"
   ]
  },
  {
   "cell_type": "code",
   "execution_count": null,
   "metadata": {},
   "outputs": [],
   "source": [
    "# exercise 3\n"
   ]
  },
  {
   "cell_type": "markdown",
   "metadata": {},
   "source": [
    "The next cell is an initiation to the linalg module. \n",
    "We instantiate the following matrix\n",
    "$$\n",
    "\\begin{bmatrix}\n",
    "10 & 11 & 12 \\\\\n",
    "13 & 14 & 15 \\\\\n",
    "16 & 17 & 18 \\\\\n",
    "\\end{bmatrix}\n",
    "$$\n",
    "We will determine whether the matrix is invertible using its \n",
    "decomposition into singular values.\n",
    "\n",
    "The number of elements > 0 in the singular value vector \n",
    "provides information on the rank of the matrix in question"
   ]
  },
  {
   "cell_type": "code",
   "execution_count": null,
   "metadata": {},
   "outputs": [],
   "source": [
    "# using singular value decomposition \n",
    "# to determine if a matrix has full rank \n",
    "from scipy import linalg\n",
    "\n",
    "mat = np.arange(9).reshape(3,3) + 10\n",
    "\n",
    "u, s, v = linalg.svd(mat)\n",
    "np.sum(s > 1e-10)\n"
   ]
  },
  {
   "cell_type": "markdown",
   "metadata": {},
   "source": [
    "Now let's try with the following invertible matrix:\n",
    "$$\n",
    "\\begin{bmatrix}\n",
    "1 & 3 & 7 \\\\\n",
    "2 & 8 & 3 \\\\\n",
    "7 & 8 & 1\n",
    "\\end{bmatrix}\n",
    "$$"
   ]
  },
  {
   "cell_type": "code",
   "execution_count": null,
   "metadata": {},
   "outputs": [],
   "source": [
    "# oups, we have a singular matrix\n",
    "mat2 = np.array([\n",
    "    [1,3,7],\n",
    "    [2,8,3],\n",
    "    [7,8,1]\n",
    "])\n",
    "\n",
    "u, s, v = linalg.svd(mat2)\n",
    "np.sum(s > 1e-10)"
   ]
  },
  {
   "cell_type": "code",
   "execution_count": null,
   "metadata": {},
   "outputs": [],
   "source": [
    "# much better\n",
    "linalg.inv(mat2)"
   ]
  },
  {
   "cell_type": "code",
   "execution_count": null,
   "metadata": {},
   "outputs": [],
   "source": [
    "# we can also check if our matrix is invertible\n",
    "# by computing the determinant (!= 0)\n",
    "d1 = linalg.det(mat)\n",
    "d2 = linalg.det(mat2)\n",
    "\n",
    "\n",
    "print(f\"first determinant is {d1} second one is {d2}\")"
   ]
  },
  {
   "cell_type": "code",
   "execution_count": null,
   "metadata": {},
   "outputs": [],
   "source": [
    "# we can compute the norms using the `norm` function\n",
    "# for a matrix, the default norm is the frobenius norm\n",
    "norm1 = linalg.norm(mat)\n",
    "norm2 = linalg.norm(mat2)\n",
    "\n",
    "print(f\"first norm: {norm1}, second norm: {norm2}\")"
   ]
  },
  {
   "cell_type": "code",
   "execution_count": null,
   "metadata": {},
   "outputs": [],
   "source": [
    "linalg.pinv(mat)"
   ]
  },
  {
   "cell_type": "code",
   "execution_count": null,
   "metadata": {},
   "outputs": [],
   "source": [
    "# eigenvalues and eigenvectors\n",
    "\n",
    "la, v = linalg.eig(mat)\n",
    "print(f\"our eigenvalues are {la} and eigenvectors are {v}\")"
   ]
  }
 ],
 "metadata": {
  "kernelspec": {
   "display_name": "Python 3",
   "language": "python",
   "name": "python3"
  },
  "language_info": {
   "codemirror_mode": {
    "name": "ipython",
    "version": 3
   },
   "file_extension": ".py",
   "mimetype": "text/x-python",
   "name": "python",
   "nbconvert_exporter": "python",
   "pygments_lexer": "ipython3",
   "version": "3.8.5"
  }
 },
 "nbformat": 4,
 "nbformat_minor": 4
}
