{
 "cells": [
  {
   "cell_type": "markdown",
   "metadata": {},
   "source": [
    "# Scipy \n",
    "\n",
    "Scipy est un module mathématique Python extrémement polyvalent. Il contient entre autres les sous-modules suivant:\n",
    "* Special functions\n",
    "* Integration\n",
    "* Optimization\n",
    "* Interpolation\n",
    "* Fourier Transforms\n",
    "* Signal Processing\n",
    "* Linear Algebra\n",
    "* Compressed Sparse Graph Routines\n",
    "* Spatial data structures and algorithms\n",
    "* Statistics\n",
    "* Image Processing\n",
    "* File IO\n",
    "\n",
    "Aujourd'hui, nous allons étudier 4 sous-modules particuliers, soient:\n",
    "* Special Functions\n",
    "* Statistics\n",
    "* File IO\n",
    "* Linea Algebra"
   ]
  },
  {
   "cell_type": "markdown",
   "metadata": {},
   "source": [
    "## Scipy IO\n",
    "Le premier module que nous étudions est le préliminaire, soit le module entrées-sorties (I/O) scipy.io.  \n",
    "\n",
    "Ce module est particulièrement utile afin d'ouvrir des fichiers mathématiques provenant  d'autres outils tels que Matlab, Fortan ou NetCDF.  \n",
    "\n"
   ]
  },
  {
   "cell_type": "markdown",
   "metadata": {},
   "source": [
    "#### Matlab\n",
    "La cellule suivante démontre comment sauvegarder un array *numpy* en fichier matlab. Remarquer que nous enregistrons un dictionnaire. En fait, du bord de matlab, les objets sont semblable à des structures ressemblant nos dictionnaires python. Donc, la conversion s'opère implicitement entre les structures matlab et les dictionnaires python dans le module scipy."
   ]
  },
  {
   "cell_type": "code",
   "execution_count": 200,
   "metadata": {},
   "outputs": [],
   "source": [
    "from expects import expect, equal\n",
    "import scipy.io as sio\n",
    "from scipy import stats\n",
    "import numpy as np\n",
    "np.random.seed(22)\n",
    "import seaborn as sns\n",
    "sns.set()\n",
    "%matplotlib inline\n",
    "import matplotlib.pyplot as plt\n",
    "import pandas as pd\n",
    "\n",
    "array = np.arange(100).reshape(10,10)\n",
    "sio.savemat(\"matrix.mat\", {\"matrix\": array})\n"
   ]
  },
  {
   "cell_type": "markdown",
   "metadata": {},
   "source": [
    "La fonction `whosmat` nous permet d'inspecter le fichier *.mat* avant de l'ouvrir. Ceci peut être utile lors de l'assurance qualité."
   ]
  },
  {
   "cell_type": "code",
   "execution_count": 274,
   "metadata": {},
   "outputs": [
    {
     "data": {
      "text/plain": [
       "[('matrix', (10, 10), 'int64')]"
      ]
     },
     "execution_count": 274,
     "metadata": {},
     "output_type": "execute_result"
    }
   ],
   "source": [
    "sio.whosmat(\"matrix.mat\")"
   ]
  },
  {
   "cell_type": "code",
   "execution_count": 202,
   "metadata": {},
   "outputs": [
    {
     "data": {
      "text/plain": [
       "{'__header__': b'MATLAB 5.0 MAT-file Platform: posix, Created on: Wed Aug  5 17:35:52 2020',\n",
       " '__version__': '1.0',\n",
       " '__globals__': [],\n",
       " 'matrix': array([[ 0,  1,  2,  3,  4,  5,  6,  7,  8,  9],\n",
       "        [10, 11, 12, 13, 14, 15, 16, 17, 18, 19],\n",
       "        [20, 21, 22, 23, 24, 25, 26, 27, 28, 29],\n",
       "        [30, 31, 32, 33, 34, 35, 36, 37, 38, 39],\n",
       "        [40, 41, 42, 43, 44, 45, 46, 47, 48, 49],\n",
       "        [50, 51, 52, 53, 54, 55, 56, 57, 58, 59],\n",
       "        [60, 61, 62, 63, 64, 65, 66, 67, 68, 69],\n",
       "        [70, 71, 72, 73, 74, 75, 76, 77, 78, 79],\n",
       "        [80, 81, 82, 83, 84, 85, 86, 87, 88, 89],\n",
       "        [90, 91, 92, 93, 94, 95, 96, 97, 98, 99]])}"
      ]
     },
     "execution_count": 202,
     "metadata": {},
     "output_type": "execute_result"
    }
   ],
   "source": [
    "data = sio.loadmat(\"matrix.mat\")\n",
    "data"
   ]
  },
  {
   "cell_type": "markdown",
   "metadata": {},
   "source": [
    "#### Fortran\n",
    "Les fichiers fortran sont quelque peux plus difficiles à accéder puisqu'il n'y a pas de conformité entre plusieurs versions de Fortran. En plus, dépendant de quelle machine une version Fortran est lancée, le résultat peut diverger!  \n",
    "Nous pouvons interagir avec des fichiers s'appelant *unformatted sequential files*."
   ]
  },
  {
   "cell_type": "code",
   "execution_count": 203,
   "metadata": {},
   "outputs": [],
   "source": [
    "array2 = np.arange(100, 200).reshape(10, 10)\n",
    "\n",
    "with sio.FortranFile(\"data.unf\", \"w\") as f:\n",
    "    f.write_record(array2)\n"
   ]
  },
  {
   "cell_type": "code",
   "execution_count": 204,
   "metadata": {},
   "outputs": [
    {
     "name": "stdout",
     "output_type": "stream",
     "text": [
      "[100 101 102 103 104 105 106 107 108 109 110 111 112 113 114 115 116 117\n",
      " 118 119 120 121 122 123 124 125 126 127 128 129 130 131 132 133 134 135\n",
      " 136 137 138 139 140 141 142 143 144 145 146 147 148 149 150 151 152 153\n",
      " 154 155 156 157 158 159 160 161 162 163 164 165 166 167 168 169 170 171\n",
      " 172 173 174 175 176 177 178 179 180 181 182 183 184 185 186 187 188 189\n",
      " 190 191 192 193 194 195 196 197 198 199]\n"
     ]
    }
   ],
   "source": [
    "with sio.FortranFile(\"data.unf\", \"r\") as f:\n",
    "    data = f.read_record(np.int64)\n",
    "    print(data)"
   ]
  },
  {
   "cell_type": "markdown",
   "metadata": {},
   "source": [
    "## Scipy Statistics\n",
    "Nous pouvons accéder aux observations de variables aléatoires à partir du module *numpy*. Voilà un exemple simple:\n"
   ]
  },
  {
   "cell_type": "code",
   "execution_count": 205,
   "metadata": {},
   "outputs": [
    {
     "data": {
      "text/plain": [
       "array([26, 30, 29, 35, 26, 28, 27, 32, 26, 34, 20, 31, 34, 33, 26, 19, 33,\n",
       "       38, 32, 28, 33, 32, 29, 31, 29, 31, 32, 24, 37, 41, 32, 34, 22, 26,\n",
       "       35, 33, 30, 25, 30, 30])"
      ]
     },
     "execution_count": 205,
     "metadata": {},
     "output_type": "execute_result"
    }
   ],
   "source": [
    "import numpy as np\n",
    "obs = np.random.binomial(n=100, p=0.3, size=40)\n",
    "obs"
   ]
  },
  {
   "cell_type": "markdown",
   "metadata": {},
   "source": [
    "En revanche, le module *scipy.statistics* produit la variable aléatoire en soit, et nous permet d'accéder aux observations à l'aide de la méthode "
   ]
  },
  {
   "cell_type": "code",
   "execution_count": 206,
   "metadata": {},
   "outputs": [],
   "source": [
    "from scipy.stats import binom, zipf\n",
    "\n",
    "va = binom(n=100, p=0.3)"
   ]
  },
  {
   "cell_type": "code",
   "execution_count": 207,
   "metadata": {},
   "outputs": [
    {
     "name": "stdout",
     "output_type": "stream",
     "text": [
      "moyenne de la variable aléatoire: 30.0\n",
      "observations générées: [28 22 29 24 22 32 35 25 25 30 26 34 31 29 40 32 26 26 30 28 36 24 28 26\n",
      " 33 34 33 26 35 19 28 38 37 21 32 26 31 27 25 30]\n",
      "mesure d'asymétrie: 0.08728715609439695\n"
     ]
    }
   ],
   "source": [
    "print(f\"moyenne de la variable aléatoire: {va.mean()}\")\n",
    "print(f\"observations générées: {va.rvs(size=40)}\")\n",
    "print(f\"mesure d'asymétrie: {va.stats(moments='s')}\")"
   ]
  },
  {
   "cell_type": "code",
   "execution_count": 208,
   "metadata": {},
   "outputs": [
    {
     "data": {
      "text/plain": [
       "<matplotlib.axes._subplots.AxesSubplot at 0x7f662d640450>"
      ]
     },
     "execution_count": 208,
     "metadata": {},
     "output_type": "execute_result"
    },
    {
     "data": {
      "image/png": "[encoded data removed]",
      "text/plain": [
       "<Figure size 432x288 with 1 Axes>"
      ]
     },
     "metadata": {
      "needs_background": "light"
     },
     "output_type": "display_data"
    }
   ],
   "source": [
    "sns.distplot(va.rvs(size=40))"
   ]
  },
  {
   "cell_type": "code",
   "execution_count": 209,
   "metadata": {},
   "outputs": [],
   "source": [
    "va_zip = zipf(a=2)"
   ]
  },
  {
   "cell_type": "code",
   "execution_count": 210,
   "metadata": {},
   "outputs": [
    {
     "name": "stdout",
     "output_type": "stream",
     "text": [
      "moyenne de la variable aléatoire: inf\n",
      "observations générées: [ 2  7  2  1  1  1  2  1  1  7  1  6  1 10  1  2  1  1  1  1  2  1  2  7\n",
      "  1  4  1  3  1  1  1  1  6  1  2  1  4  1  1  1]\n",
      "mesure d'asymétrie: nan\n"
     ]
    },
    {
     "name": "stderr",
     "output_type": "stream",
     "text": [
      "/home/jackson/anaconda3/lib/python3.7/site-packages/scipy/stats/_distn_infrastructure.py:1078: RuntimeWarning: invalid value encountered in subtract\n",
      "  mu2 = mu2p - mu * mu\n"
     ]
    }
   ],
   "source": [
    "print(f\"moyenne de la variable aléatoire: {va_zip.mean()}\")\n",
    "print(f\"observations générées: {va_zip.rvs(size=40)}\")\n",
    "print(f\"mesure d'asymétrie: {va_zip.stats(moments='s')}\")"
   ]
  },
  {
   "cell_type": "code",
   "execution_count": 211,
   "metadata": {},
   "outputs": [
    {
     "data": {
      "text/plain": [
       "<matplotlib.axes._subplots.AxesSubplot at 0x7f662d56b350>"
      ]
     },
     "execution_count": 211,
     "metadata": {},
     "output_type": "execute_result"
    },
    {
     "data": {
      "image/png": "[encoded data removed]",
      "text/plain": [
       "<Figure size 432x288 with 1 Axes>"
      ]
     },
     "metadata": {
      "needs_background": "light"
     },
     "output_type": "display_data"
    }
   ],
   "source": [
    "sns.distplot(va_zip.rvs(size=40))"
   ]
  },
  {
   "cell_type": "markdown",
   "metadata": {},
   "source": [
    "Les distributions de probabilités *sont* regroupées en deux catégories, soit les distributions continues et les distributions discrètes.  \n",
    "Par exemple, les distributions continues ont les méthodes suivantes:\n",
    "\n",
    "* rvs: obtenir une série d'observations aléatoires\n",
    "* pdf: variable aléatoire à densité\n",
    "* cdf: fonction de répartition\n",
    "* sf: fonction de survie (1 - CDF)\n",
    "* ppf: fonction de quantile (inverse de la cdf)\n",
    "* isf: inverse de la fonction de survie\n",
    "* stats: information sur les moments\n"
   ]
  },
  {
   "cell_type": "markdown",
   "metadata": {},
   "source": [
    "#### Exercice 1\n",
    "Dans ce premier exercice, veuillez définir une variable aléatoire basée sur une distribution de probabiblité normale avec une déviation standard de 5 et une moyenne de 10."
   ]
  },
  {
   "cell_type": "code",
   "execution_count": 212,
   "metadata": {},
   "outputs": [
    {
     "ename": "AttributeError",
     "evalue": "'NoneType' object has no attribute 'mean'",
     "output_type": "error",
     "traceback": [
      "\u001b[0;31m---------------------------------------------------------------------------\u001b[0m",
      "\u001b[0;31mAttributeError\u001b[0m                            Traceback (most recent call last)",
      "\u001b[0;32m<ipython-input-212-be791461ad3e>\u001b[0m in \u001b[0;36m<module>\u001b[0;34m\u001b[0m\n\u001b[1;32m      1\u001b[0m \u001b[0mva_norm\u001b[0m \u001b[0;34m=\u001b[0m \u001b[0;32mNone\u001b[0m\u001b[0;34m\u001b[0m\u001b[0;34m\u001b[0m\u001b[0m\n\u001b[1;32m      2\u001b[0m \u001b[0;34m\u001b[0m\u001b[0m\n\u001b[0;32m----> 3\u001b[0;31m \u001b[0mexpect\u001b[0m\u001b[0;34m(\u001b[0m\u001b[0mva_norm\u001b[0m\u001b[0;34m.\u001b[0m\u001b[0mmean\u001b[0m\u001b[0;34m(\u001b[0m\u001b[0;34m)\u001b[0m\u001b[0;34m)\u001b[0m\u001b[0;34m.\u001b[0m\u001b[0mto\u001b[0m\u001b[0;34m(\u001b[0m\u001b[0mequal\u001b[0m\u001b[0;34m(\u001b[0m\u001b[0;36m10.\u001b[0m\u001b[0;34m)\u001b[0m\u001b[0;34m)\u001b[0m\u001b[0;34m\u001b[0m\u001b[0;34m\u001b[0m\u001b[0m\n\u001b[0m",
      "\u001b[0;31mAttributeError\u001b[0m: 'NoneType' object has no attribute 'mean'"
     ]
    }
   ],
   "source": [
    "\n",
    "va_norm = None\n",
    "\n",
    "expect(va_norm.mean()).to(equal(10.))"
   ]
  },
  {
   "cell_type": "markdown",
   "metadata": {},
   "source": [
    "Donc voilà une façon simple de générer des variables aléatoires basées sur des distributions de probabilité. Maintenant, regardons comment utiliser des comparaisons ainsi que des transformations sur ces variables.\n",
    "\n",
    "Commençons par un exemple simple de ces transformations."
   ]
  },
  {
   "cell_type": "code",
   "execution_count": 213,
   "metadata": {},
   "outputs": [
    {
     "data": {
      "text/plain": [
       "<matplotlib.axes._subplots.AxesSubplot at 0x7f662d4690d0>"
      ]
     },
     "execution_count": 213,
     "metadata": {},
     "output_type": "execute_result"
    },
    {
     "data": {
      "image/png": "[encoded data removed]",
      "text/plain": [
       "<Figure size 432x288 with 1 Axes>"
      ]
     },
     "metadata": {
      "needs_background": "light"
     },
     "output_type": "display_data"
    }
   ],
   "source": [
    "from scipy.stats import cauchy\n",
    "\n",
    "# générer une distribution cauchy\n",
    "va_cauchy = cauchy(loc=100)\n",
    "\n",
    "fig, ax = plt.subplots()\n",
    "ax.set_xlim([90, 110])\n",
    "sns.distplot(va_cauchy.rvs(size=50))\n",
    "\n"
   ]
  },
  {
   "cell_type": "code",
   "execution_count": 214,
   "metadata": {},
   "outputs": [
    {
     "data": {
      "text/plain": [
       "Text(0.5, 1.0, 'cauchy dist after boxplot')"
      ]
     },
     "execution_count": 214,
     "metadata": {},
     "output_type": "execute_result"
    },
    {
     "data": {
      "image/png": "[encoded data removed]",
      "text/plain": [
       "<Figure size 432x288 with 2 Axes>"
      ]
     },
     "metadata": {
      "needs_background": "light"
     },
     "output_type": "display_data"
    }
   ],
   "source": [
    "# sommes nous près d'une distribution normale avec notre\n",
    "# distribution cauchy?\n",
    "\n",
    "fig = plt.figure()\n",
    "ax1 = fig.add_subplot(211)\n",
    "cauch = va_cauchy.rvs(size=100)\n",
    "prob = stats.probplot(cauch, dist=stats.norm, plot=ax1)\n",
    "ax1.set_xlabel(\"\")\n",
    "ax1.set_title(\"initial cauchy dist\")\n",
    "\n",
    "ax2 = fig.add_subplot(212)\n",
    "cauch_box, _ = stats.boxcox(cauch)\n",
    "prob = stats.probplot(cauch_box, dist=stats.norm, plot=ax2)\n",
    "\n",
    "ax2.set_title(\"cauchy dist after boxplot\")"
   ]
  },
  {
   "cell_type": "code",
   "execution_count": 215,
   "metadata": {},
   "outputs": [
    {
     "data": {
      "text/plain": [
       "(8.564345942615489,\n",
       " array([0.555, 0.632, 0.759, 0.885, 1.053]),\n",
       " array([15. , 10. ,  5. ,  2.5,  1. ]))"
      ]
     },
     "execution_count": 215,
     "metadata": {},
     "output_type": "execute_result"
    }
   ],
   "source": [
    "# nous allons utiliser le test Anderson-Darling afin de voir\n",
    "# si nous avons presqu'une distribution normale\n",
    "\n",
    "statistic, crit_value, sign_level = stats.anderson(cauch_box)\n",
    "statistic, crit_value, sign_level"
   ]
  },
  {
   "cell_type": "code",
   "execution_count": 216,
   "metadata": {},
   "outputs": [
    {
     "data": {
      "text/plain": [
       "AndersonResult(statistic=9.703551451111167, critical_values=array([0.555, 0.632, 0.759, 0.885, 1.053]), significance_level=array([15. , 10. ,  5. ,  2.5,  1. ]))"
      ]
     },
     "execution_count": 216,
     "metadata": {},
     "output_type": "execute_result"
    }
   ],
   "source": [
    "# comparer avec la distribution avant l'application du box cox\n",
    "stats.anderson(cauch)"
   ]
  },
  {
   "cell_type": "markdown",
   "metadata": {},
   "source": [
    "#### Exercice 2\n",
    "Réaliser le test d'Anderson-Darling avec votre distribution de probabilité normale générée dans l'exercice 1.\n"
   ]
  },
  {
   "cell_type": "code",
   "execution_count": null,
   "metadata": {},
   "outputs": [],
   "source": [
    "# exercice 2"
   ]
  },
  {
   "cell_type": "markdown",
   "metadata": {},
   "source": [
    "Il s'avère que nous pouvons également appliquer la méthode du maximum de vraisemblance afin d'appliquer un jeu de données à une distribution de probabilité. Voici un exemple:\n"
   ]
  },
  {
   "cell_type": "code",
   "execution_count": 257,
   "metadata": {},
   "outputs": [
    {
     "data": {
      "text/plain": [
       "(102.61849646305473, 37.68553559429059)"
      ]
     },
     "execution_count": 257,
     "metadata": {},
     "output_type": "execute_result"
    }
   ],
   "source": [
    "x = va_cauchy.rvs(size=200, random_state=22)\n",
    "loc, scale= norm.fit(x)\n",
    "loc, scale"
   ]
  },
  {
   "cell_type": "code",
   "execution_count": 260,
   "metadata": {},
   "outputs": [
    {
     "data": {
      "text/plain": [
       "<matplotlib.axes._subplots.AxesSubplot at 0x7f662c808210>"
      ]
     },
     "execution_count": 260,
     "metadata": {},
     "output_type": "execute_result"
    },
    {
     "data": {
      "image/png": "[encoded data removed]",
      "text/plain": [
       "<Figure size 432x288 with 2 Axes>"
      ]
     },
     "metadata": {
      "needs_background": "light"
     },
     "output_type": "display_data"
    }
   ],
   "source": [
    "fig, ax = plt.subplots(1,2)\n",
    "\n",
    "ax[0].set_xlim([0, 0.175])\n",
    "ax[0].set_xlim([0, 200])\n",
    "ax[1].set_ylim([0, 0.175])\n",
    "ax[1].set_xlim([0, 200])\n",
    "\n",
    "sns.distplot(x, ax=ax[0])\n",
    "sns.distplot(norm(loc=loc, scale=scale).rvs(size=200, random_state=22), ax=ax[1])"
   ]
  },
  {
   "cell_type": "markdown",
   "metadata": {},
   "source": [
    "Regardons désormais comment utiliser la fonction pdf et cdf d'une distribution de probabilité."
   ]
  },
  {
   "cell_type": "code",
   "execution_count": 267,
   "metadata": {},
   "outputs": [
    {
     "data": {
      "text/plain": [
       "<matplotlib.axes._subplots.AxesSubplot at 0x7f662dc6c250>"
      ]
     },
     "execution_count": 267,
     "metadata": {},
     "output_type": "execute_result"
    },
    {
     "data": {
      "image/png": "[encoded data removed]",
      "text/plain": [
       "<Figure size 432x288 with 1 Axes>"
      ]
     },
     "metadata": {
      "needs_background": "light"
     },
     "output_type": "display_data"
    }
   ],
   "source": [
    "range_ = np.linspace(va_cauchy.ppf(0.01), va_cauchy.ppf(0.99), 100)\n",
    "sns.lineplot(range_, va_cauchy.pdf(range_))"
   ]
  },
  {
   "cell_type": "code",
   "execution_count": 268,
   "metadata": {},
   "outputs": [
    {
     "data": {
      "text/plain": [
       "<matplotlib.axes._subplots.AxesSubplot at 0x7f662ceb1690>"
      ]
     },
     "execution_count": 268,
     "metadata": {},
     "output_type": "execute_result"
    },
    {
     "data": {
      "image/png": "[encoded data removed]",
      "text/plain": [
       "<Figure size 432x288 with 1 Axes>"
      ]
     },
     "metadata": {
      "needs_background": "light"
     },
     "output_type": "display_data"
    }
   ],
   "source": [
    "sns.lineplot(range_, va_cauchy.cdf(range_))"
   ]
  },
  {
   "cell_type": "markdown",
   "metadata": {},
   "source": [
    "## Scipy Special\n",
    "Nous allons passer seulement quelques minutes sur le module `scipy.special` puisqu'il est assez spécifique et utilisé principalement pour des applications avancées en mathématique et en physique. Le but est principalement de vous renseigner sur ses fonctionnalités.  \n",
    "\n",
    "Commençons par la partie la plus facile, c'est-à-dire les permutations et combinaisons."
   ]
  },
  {
   "cell_type": "code",
   "execution_count": 217,
   "metadata": {},
   "outputs": [
    {
     "name": "stdout",
     "output_type": "stream",
     "text": [
      "number of combinations: 364, number of permutations: 1320\n"
     ]
    }
   ],
   "source": [
    "from scipy import special\n",
    "from scipy.special import comb, perm\n",
    "\n",
    "numb_comb = comb(12, 3, exact=True, repetition=True)\n",
    "numb_perm = perm(12, 3, exact=True)\n",
    "\n",
    "print(f\"number of combinations: {numb_comb}, number of permutations: {numb_perm}\")"
   ]
  },
  {
   "cell_type": "markdown",
   "metadata": {},
   "source": [
    "La liste complète des fonctions disponibles est la suivante:"
   ]
  },
  {
   "cell_type": "code",
   "execution_count": null,
   "metadata": {},
   "outputs": [],
   "source": [
    "# help(special)"
   ]
  },
  {
   "cell_type": "code",
   "execution_count": 219,
   "metadata": {},
   "outputs": [
    {
     "data": {
      "text/plain": [
       "array([       -inf,  0.27637528,        -inf,        -inf,  0.0381282 ,\n",
       "              -inf,  0.34402984, -0.05475648,        -inf, -0.90744816,\n",
       "       -0.07001393,        -inf,        -inf,  0.34029987,  0.36114935,\n",
       "              -inf,        -inf,        -inf,        -inf,  0.34696245,\n",
       "       -0.88498208, -1.46994006,        -inf,  0.20020509,        -inf,\n",
       "        0.16740502,        -inf, -0.63000824, -0.10589128,        -inf,\n",
       "       -0.61544629,        -inf,  0.35483746,  0.23251882,        -inf,\n",
       "              -inf,  0.35438846,  0.04234237,        -inf, -1.30136413,\n",
       "        0.1277633 ,        -inf,  0.10874748,        -inf,  0.3018266 ,\n",
       "        0.16066017,  0.2681033 , -0.97378939,  0.36750685,  0.2759494 ,\n",
       "              -inf,        -inf,        -inf,  0.34756434,        -inf,\n",
       "        0.36129338,  0.34240866, -0.26845743,  0.34797786, -0.25238829,\n",
       "        0.22848602,        -inf,  0.28609035,        -inf, -0.52511286,\n",
       "              -inf, -0.68249818,        -inf,        -inf,        -inf,\n",
       "              -inf,  0.29611885,        -inf,        -inf,  0.03107906,\n",
       "              -inf,  0.27415234, -0.23618336,        -inf, -3.86505052,\n",
       "              -inf,        -inf, -1.22981413,  0.35079764,        -inf,\n",
       "              -inf, -0.51737926, -0.83089866,        -inf,        -inf,\n",
       "              -inf,  0.23650791,  0.16453098,  0.36785128,  0.36776981,\n",
       "       -0.77587534,        -inf,        -inf,        -inf,        -inf])"
      ]
     },
     "execution_count": 219,
     "metadata": {},
     "output_type": "execute_result"
    }
   ],
   "source": [
    "# nous pouvons essayer les fonctions d'entropy\n",
    "\n",
    "x = norm().rvs(size=100)\n",
    "\n",
    "special.entr(x)"
   ]
  },
  {
   "cell_type": "code",
   "execution_count": 220,
   "metadata": {},
   "outputs": [
    {
     "data": {
      "text/plain": [
       "array([  -3.54643707,    1.37292304,   -3.77280967,   -5.39104611,\n",
       "          1.02400254,  -25.66166163,    1.74483982,    0.97188672,\n",
       "         -4.70103631,    0.90930904,    0.96516251,  -24.01221011,\n",
       "          4.51473413,    3.87151637,    2.01108421,   -3.82602453,\n",
       "         -7.2745    ,   -9.16178646,   -4.96022566,    1.77689518,\n",
       "          0.90656649,    1.02173853,   -4.19005614,   12.18726892,\n",
       "         -3.55483198,   16.36145143,   -4.49817745,    0.88682572,\n",
       "          0.95096513,   -3.57113092,    0.8864045 ,   -3.60726764,\n",
       "          3.28643722,    1.25881438,   -5.19629258,   -3.80528057,\n",
       "          1.8767255 ,    1.02692065, -126.58686623,    0.9796738 ,\n",
       "          1.10102786,   -3.70363623,    1.08164279,   -6.611732  ,\n",
       "          1.46802717,    1.1397973 ,    1.3475671 ,    0.91825913,\n",
       "          2.53524837,    1.37156237,   -7.54367163,    2.7517813 ,\n",
       "         -3.60499711,    3.58619058,   -0.95525712,    2.01479602,\n",
       "          1.72841163,    0.90821448,    1.78879618,    0.91118235,\n",
       "          9.64960396,   -3.97782758,    1.40579245,  -28.13927013,\n",
       "          0.8858047 ,    9.77384472,    0.88903301,   -3.54467159,\n",
       "         -3.64956792,   55.7032112 ,   -6.90434448,    5.67878692,\n",
       "          2.43829546,    2.68947753,  163.54489227,    2.41483025,\n",
       "          1.3658894 ,    0.9144153 ,   -3.54812647,    2.59061889,\n",
       "       -119.05691263,   13.01454754,    0.96392639,    1.82443055,\n",
       "         -3.54600338,  -26.79890827,    0.885925  ,    0.90058593,\n",
       "        -76.63958786,   14.51769641,   -3.56317847,    1.26744001,\n",
       "         16.81743797,    2.44919453,    2.35811938,    0.89543994,\n",
       "         -4.13157894,   -9.23800086,   -3.49635164,   -7.63102709])"
      ]
     },
     "execution_count": 220,
     "metadata": {},
     "output_type": "execute_result"
    }
   ],
   "source": [
    "# ou les fonctions gamma\n",
    "special.gamma(x)"
   ]
  },
  {
   "cell_type": "markdown",
   "metadata": {},
   "source": [
    "## Scipy Linalg\n",
    "Le module `scipy.linalg` regroupe l'ensemble des fonctionnalités de `numpy.linalg`, mais en contient également davantage.\n",
    "\n",
    "De plus, le module `scipy.linalg` est compilé avec LAPACK (linear algebra package, Fortran) ce qui le rend généralement plus rapide que numpy qui ne nécessite pas nécessairement ce module de calcul.  \n",
    "\n",
    "Donc, il est générallement préférable d'utiliser `scipy.linalg`.\n"
   ]
  },
  {
   "cell_type": "markdown",
   "metadata": {},
   "source": [
    "Commençons avec une introduction courte sur les matrices et leurs opérations de base. Nous utilisons les *array numpy* pour représenter les matrices."
   ]
  },
  {
   "cell_type": "code",
   "execution_count": 272,
   "metadata": {},
   "outputs": [
    {
     "data": {
      "text/plain": [
       "(array([[ 5, 12],\n",
       "        [21, 32]]),\n",
       " array([[19, 22],\n",
       "        [43, 50]]))"
      ]
     },
     "execution_count": 272,
     "metadata": {},
     "output_type": "execute_result"
    }
   ],
   "source": [
    "mat1 = np.array([[1,2], [3,4]])\n",
    "mat2 = np.array([[5,6], [7,8]])\n",
    "\n",
    "elementwise = mat1 * mat2\n",
    "mat_mul = mat1 @ mat2\n",
    "\n",
    "elementwise, mat_mul"
   ]
  },
  {
   "cell_type": "code",
   "execution_count": 273,
   "metadata": {},
   "outputs": [
    {
     "data": {
      "text/plain": [
       "array([[1, 3],\n",
       "       [2, 4]])"
      ]
     },
     "execution_count": 273,
     "metadata": {},
     "output_type": "execute_result"
    }
   ],
   "source": [
    "transpose = mat1.T\n",
    "transpose"
   ]
  },
  {
   "cell_type": "markdown",
   "metadata": {},
   "source": [
    "#### Exercice 3\n",
    "Cacluler l'équation matricielle suivante\n",
    "$$\n",
    "AB + 2B^2  - I\n",
    "$$\n",
    "où\n",
    "$$\n",
    "A = \\begin{bmatrix} 5 & 7 \\\\ 8 & 9 \\end{bmatrix}\n",
    "$$\n",
    "et \n",
    "$$\n",
    "B = \\begin{bmatrix} 0 & 1 \\\\ 2 & 7 \\end{bmatrix}\n",
    "$$"
   ]
  },
  {
   "cell_type": "code",
   "execution_count": null,
   "metadata": {},
   "outputs": [],
   "source": [
    "# exercice 3\n"
   ]
  },
  {
   "cell_type": "markdown",
   "metadata": {},
   "source": [
    "La cellule suivante est une initiation au module linalg. \n",
    "Nous instancions la matrice suivante\n",
    "$$\n",
    "\\begin{bmatrix}\n",
    "10 & 11 & 12 \\\\\n",
    "13 & 14 & 15 \\\\\n",
    "16 & 17 & 18 \\\\\n",
    "\\end{bmatrix}\n",
    "$$\n",
    "Nous allons déterminer si la matrice est inversible à l'aide de sa \n",
    "décomposition en valeur singulière.\n",
    "\n",
    "Le nombre d'éléments > 0 dans le vecteur de valeur singulière \n",
    "renseigne sur le rang de la matrice en question"
   ]
  },
  {
   "cell_type": "code",
   "execution_count": 221,
   "metadata": {},
   "outputs": [
    {
     "data": {
      "text/plain": [
       "2"
      ]
     },
     "execution_count": 221,
     "metadata": {},
     "output_type": "execute_result"
    }
   ],
   "source": [
    "# nous pouvons utiliser scipy.linalg afin de déterminer l'inverse d'une matrice\n",
    "\n",
    "from scipy import linalg\n",
    "\n",
    "mat = np.arange(9).reshape(3,3) + 10\n",
    "\n",
    "u, s, v = linalg.svd(mat)\n",
    "np.sum(s > 1e-10)\n"
   ]
  },
  {
   "cell_type": "markdown",
   "metadata": {},
   "source": [
    "Essayons désormais avec la matrice inversible suivante:\n",
    "$$\n",
    "\\begin{bmatrix}\n",
    "1 & 3 & 7 \\\\\n",
    "2 & 8 & 3 \\\\\n",
    "7 & 8 & 1\n",
    "\\end{bmatrix}\n",
    "$$"
   ]
  },
  {
   "cell_type": "code",
   "execution_count": 222,
   "metadata": {},
   "outputs": [
    {
     "data": {
      "text/plain": [
       "3"
      ]
     },
     "execution_count": 222,
     "metadata": {},
     "output_type": "execute_result"
    }
   ],
   "source": [
    "# oups, nous avons une matrice singulière\n",
    "mat2 = np.array([\n",
    "    [1,3,7],\n",
    "    [2,8,3],\n",
    "    [7,8,1]\n",
    "])\n",
    "\n",
    "u, s, v = linalg.svd(mat2)\n",
    "np.sum(s > 1e-10)"
   ]
  },
  {
   "cell_type": "code",
   "execution_count": 223,
   "metadata": {},
   "outputs": [
    {
     "data": {
      "text/plain": [
       "array([[ 0.06694561, -0.22175732,  0.19665272],\n",
       "       [-0.07949791,  0.20083682, -0.0460251 ],\n",
       "       [ 0.16736402, -0.05439331, -0.0083682 ]])"
      ]
     },
     "execution_count": 223,
     "metadata": {},
     "output_type": "execute_result"
    }
   ],
   "source": [
    "# much better\n",
    "linalg.inv(mat2)"
   ]
  },
  {
   "cell_type": "code",
   "execution_count": 224,
   "metadata": {},
   "outputs": [
    {
     "name": "stdout",
     "output_type": "stream",
     "text": [
      "le premier déterminant est 0.0 et le deuxième -238.99999999999997\n"
     ]
    }
   ],
   "source": [
    "# un autre moyen de déterminer si notre matrice est inversible \n",
    "# est de calculer le déterminant (!= 0)\n",
    "d1 = linalg.det(mat)\n",
    "d2 = linalg.det(mat2)\n",
    "\n",
    "\n",
    "print(f\"le premier déterminant est {d1} et le deuxième {d2}\")"
   ]
  },
  {
   "cell_type": "code",
   "execution_count": 227,
   "metadata": {},
   "outputs": [
    {
     "name": "stdout",
     "output_type": "stream",
     "text": [
      "première norme: 42.708313008125245, deuxième norme: 15.811388300841896\n"
     ]
    }
   ],
   "source": [
    "# maintenant, les normes, si nous avons une matrice\n",
    "# par défaut nous calculons la norme de frobenius.\n",
    "norm1 = linalg.norm(mat)\n",
    "norm2 = linalg.norm(mat2)\n",
    "\n",
    "print(f\"première norme: {norm1}, deuxième norme: {norm2}\")"
   ]
  },
  {
   "cell_type": "code",
   "execution_count": 228,
   "metadata": {},
   "outputs": [
    {
     "data": {
      "text/plain": [
       "array([[-1.38888889e+00, -1.66666667e-01,  1.05555556e+00],\n",
       "       [-5.55555556e-02, -3.05698123e-16,  5.55555556e-02],\n",
       "       [ 1.27777778e+00,  1.66666667e-01, -9.44444444e-01]])"
      ]
     },
     "execution_count": 228,
     "metadata": {},
     "output_type": "execute_result"
    }
   ],
   "source": [
    "linalg.pinv(mat)"
   ]
  },
  {
   "cell_type": "code",
   "execution_count": 230,
   "metadata": {},
   "outputs": [
    {
     "name": "stdout",
     "output_type": "stream",
     "text": [
      "our eigenvalues are [ 4.24242853e+01+0.j -4.24285286e-01+0.j -1.87733841e-15+0.j] and eigenvectors are [[-0.44819574 -0.73921067  0.40824829]\n",
      " [-0.5688793  -0.03327957 -0.81649658]\n",
      " [-0.68956285  0.67265152  0.40824829]]\n"
     ]
    }
   ],
   "source": [
    "# eigenvalues and eigenvectors\n",
    "\n",
    "la, v = linalg.eig(mat)\n",
    "print(f\"our eigenvalues are {la} and eigenvectors are {v}\")"
   ]
  }
 ],
 "metadata": {
  "kernelspec": {
   "display_name": "Python 3",
   "language": "python",
   "name": "python3"
  },
  "language_info": {
   "codemirror_mode": {
    "name": "ipython",
    "version": 3
   },
   "file_extension": ".py",
   "mimetype": "text/x-python",
   "name": "python",
   "nbconvert_exporter": "python",
   "pygments_lexer": "ipython3",
   "version": "3.7.6"
  }
 },
 "nbformat": 4,
 "nbformat_minor": 4
}
