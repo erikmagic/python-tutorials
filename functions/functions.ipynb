{
 "cells": [
  {
   "cell_type": "markdown",
   "metadata": {},
   "source": [
    "#  Functions in Python\n",
    "## Introduction\n",
    "\n",
    "> Functions are a very important part of Python. We can use them to create general, configurable and repeatable pieces\n",
    ">of code. In this tutorial, we will explore the syntax and the features of Python's functions. We will also learn how\n",
    ">to use them and what are good practices associated to Python functions. In previous tutorials, we already saw few\n",
    ">functions like ```print(), len() ...   ```\n"
   ]
  },
  {
   "cell_type": "code",
   "execution_count": null,
   "metadata": {},
   "outputs": [],
   "source": [
    "!pip install expects"
   ]
  },
  {
   "cell_type": "code",
   "execution_count": 1,
   "metadata": {},
   "outputs": [],
   "source": [
    "from expects import expect, equal"
   ]
  },
  {
   "cell_type": "code",
   "execution_count": 51,
   "metadata": {
    "collapsed": false,
    "jupyter": {
     "outputs_hidden": false
    },
    "pycharm": {
     "is_executing": false,
     "name": "#%%\n"
    }
   },
   "outputs": [
    {
     "name": "stdout",
     "output_type": "stream",
     "text": [
      "12\n"
     ]
    },
    {
     "data": {
      "text/plain": [
       "3"
      ]
     },
     "execution_count": 51,
     "metadata": {},
     "output_type": "execute_result"
    }
   ],
   "source": [
    "print(12)\n",
    "len([12,3,4])"
   ]
  },
  {
   "cell_type": "markdown",
   "metadata": {},
   "source": [
    "> Let's start by defining our own functions. The syntax is the following:\n",
    "```\n",
    "def function_name(parameters):\n",
    "      function body\n",
    "```\n",
    "\n",
    "> So, you can choose any name that does not contain any funky characters. Only the underscore, letters and numbers \n",
    ">are allowed. Also note that you may not start your function with a number. The parameters are surrounded by \n",
    ">parenthesis and are the inputs to your function. You might have no parameters just like you might have 10. The \n",
    ">function body is split from the definition line (called the function signature) by indentation. In Python, it is \n",
    ">good practice to give your function good lengthy precise names. The following is a good example: \n",
    " ```\n",
    " def test_outbound_call_generating_valid_number_of_values(...):\n",
    "    ...\n",
    " ```\n",
    " \n",
    " > It is important to notice the colon after the list of parameters. \n",
    " "
   ]
  },
  {
   "cell_type": "code",
   "execution_count": 52,
   "metadata": {
    "collapsed": false,
    "jupyter": {
     "outputs_hidden": false
    },
    "pycharm": {
     "is_executing": false,
     "name": "#%%\n"
    }
   },
   "outputs": [
    {
     "data": {
      "text/plain": [
       "27"
      ]
     },
     "execution_count": 52,
     "metadata": {},
     "output_type": "execute_result"
    }
   ],
   "source": [
    "# notice the pass keyword, it's use when we want an empty function.\n",
    "def first_function():\n",
    "    pass\n",
    "\n",
    "def addition(number_1, number_2):\n",
    "    result = number_1 + number_2\n",
    "    return result\n",
    "addition(12, 15)"
   ]
  },
  {
   "cell_type": "code",
   "execution_count": 53,
   "metadata": {
    "collapsed": false,
    "jupyter": {
     "outputs_hidden": false
    },
    "pycharm": {
     "is_executing": false,
     "name": "#%%\n"
    }
   },
   "outputs": [
    {
     "data": {
      "text/plain": [
       "32"
      ]
     },
     "execution_count": 53,
     "metadata": {},
     "output_type": "execute_result"
    }
   ],
   "source": [
    "def multiplication(number_1, number_2):\n",
    "    total = 0\n",
    "    for _ in range(number_2):\n",
    "        total = addition(total, number_1)\n",
    "    return total\n",
    "multiplication(4, 8)"
   ]
  },
  {
   "cell_type": "markdown",
   "metadata": {},
   "source": [
    "> As seen in this previous example, functions can call other functions, they can also take other functions as input \n",
    ">and return functions. Very versatile!\n",
    "\n",
    "### Exercise!\n",
    "> Write a function that computes the absolute value of any number."
   ]
  },
  {
   "cell_type": "code",
   "execution_count": 2,
   "metadata": {
    "collapsed": false,
    "jupyter": {
     "outputs_hidden": false
    },
    "pycharm": {
     "is_executing": false,
     "name": "#%%\n"
    }
   },
   "outputs": [
    {
     "ename": "AssertionError",
     "evalue": "\nexpected: None to equal 9",
     "output_type": "error",
     "traceback": [
      "\u001b[0;31m---------------------------------------------------------------------------\u001b[0m",
      "\u001b[0;31mAssertionError\u001b[0m                            Traceback (most recent call last)",
      "\u001b[0;32m<ipython-input-2-7c8ce70271fc>\u001b[0m in \u001b[0;36m<module>\u001b[0;34m\u001b[0m\n\u001b[1;32m      8\u001b[0m \u001b[0;34m\u001b[0m\u001b[0m\n\u001b[1;32m      9\u001b[0m \u001b[0;32mfor\u001b[0m \u001b[0mrandom_number\u001b[0m \u001b[0;32min\u001b[0m \u001b[0mtest_numbers\u001b[0m\u001b[0;34m:\u001b[0m\u001b[0;34m\u001b[0m\u001b[0;34m\u001b[0m\u001b[0m\n\u001b[0;32m---> 10\u001b[0;31m     \u001b[0mexpect\u001b[0m\u001b[0;34m(\u001b[0m\u001b[0mmy_abs\u001b[0m\u001b[0;34m(\u001b[0m\u001b[0mrandom_number\u001b[0m\u001b[0;34m)\u001b[0m\u001b[0;34m)\u001b[0m\u001b[0;34m.\u001b[0m\u001b[0mto\u001b[0m\u001b[0;34m(\u001b[0m\u001b[0mequal\u001b[0m\u001b[0;34m(\u001b[0m\u001b[0mabs\u001b[0m\u001b[0;34m(\u001b[0m\u001b[0mrandom_number\u001b[0m\u001b[0;34m)\u001b[0m\u001b[0;34m)\u001b[0m\u001b[0;34m)\u001b[0m\u001b[0;34m\u001b[0m\u001b[0;34m\u001b[0m\u001b[0m\n\u001b[0m",
      "\u001b[0;32m~/anaconda3/lib/python3.7/site-packages/expects/expectations.py\u001b[0m in \u001b[0;36mto\u001b[0;34m(self, matcher)\u001b[0m\n\u001b[1;32m     23\u001b[0m         \u001b[0m__tracebackhide__\u001b[0m \u001b[0;34m=\u001b[0m \u001b[0;32mTrue\u001b[0m\u001b[0;34m\u001b[0m\u001b[0;34m\u001b[0m\u001b[0m\n\u001b[1;32m     24\u001b[0m \u001b[0;34m\u001b[0m\u001b[0m\n\u001b[0;32m---> 25\u001b[0;31m         \u001b[0mself\u001b[0m\u001b[0;34m.\u001b[0m\u001b[0m_assert\u001b[0m\u001b[0;34m(\u001b[0m\u001b[0mmatcher\u001b[0m\u001b[0;34m)\u001b[0m\u001b[0;34m\u001b[0m\u001b[0;34m\u001b[0m\u001b[0m\n\u001b[0m\u001b[1;32m     26\u001b[0m \u001b[0;34m\u001b[0m\u001b[0m\n\u001b[1;32m     27\u001b[0m     \u001b[0;32mdef\u001b[0m \u001b[0m_assert\u001b[0m\u001b[0;34m(\u001b[0m\u001b[0mself\u001b[0m\u001b[0;34m,\u001b[0m \u001b[0mmatcher\u001b[0m\u001b[0;34m)\u001b[0m\u001b[0;34m:\u001b[0m\u001b[0;34m\u001b[0m\u001b[0;34m\u001b[0m\u001b[0m\n",
      "\u001b[0;32m~/anaconda3/lib/python3.7/site-packages/expects/expectations.py\u001b[0m in \u001b[0;36m_assert\u001b[0;34m(self, matcher)\u001b[0m\n\u001b[1;32m     31\u001b[0m \u001b[0;34m\u001b[0m\u001b[0m\n\u001b[1;32m     32\u001b[0m         \u001b[0;32mif\u001b[0m \u001b[0;32mnot\u001b[0m \u001b[0mok\u001b[0m\u001b[0;34m:\u001b[0m\u001b[0;34m\u001b[0m\u001b[0;34m\u001b[0m\u001b[0m\n\u001b[0;32m---> 33\u001b[0;31m             \u001b[0;32mraise\u001b[0m \u001b[0mAssertionError\u001b[0m\u001b[0;34m(\u001b[0m\u001b[0mself\u001b[0m\u001b[0;34m.\u001b[0m\u001b[0m_failure_message\u001b[0m\u001b[0;34m(\u001b[0m\u001b[0mmatcher\u001b[0m\u001b[0;34m,\u001b[0m \u001b[0mreasons\u001b[0m\u001b[0;34m)\u001b[0m\u001b[0;34m)\u001b[0m\u001b[0;34m\u001b[0m\u001b[0;34m\u001b[0m\u001b[0m\n\u001b[0m\u001b[1;32m     34\u001b[0m \u001b[0;34m\u001b[0m\u001b[0m\n\u001b[1;32m     35\u001b[0m     \u001b[0;32mdef\u001b[0m \u001b[0m_match\u001b[0m\u001b[0;34m(\u001b[0m\u001b[0mself\u001b[0m\u001b[0;34m,\u001b[0m \u001b[0mmatcher\u001b[0m\u001b[0;34m)\u001b[0m\u001b[0;34m:\u001b[0m\u001b[0;34m\u001b[0m\u001b[0;34m\u001b[0m\u001b[0m\n",
      "\u001b[0;31mAssertionError\u001b[0m: \nexpected: None to equal 9"
     ]
    }
   ],
   "source": [
    "import random\n",
    "\n",
    "def my_abs(input_number):\n",
    "    pass\n",
    "\n",
    "# generate 20 random numbers from -100 to 100\n",
    "test_numbers = random.sample(range(-100, 100), 20)\n",
    "\n",
    "for random_number in test_numbers:\n",
    "    expect(my_abs(random_number)).to(equal(abs(random_number)))"
   ]
  },
  {
   "cell_type": "markdown",
   "metadata": {},
   "source": [
    "## Return Values\n",
    "> Once again, Python offers us a lot of options, this time for return values. Just keep in mind, we don't have to return\n",
    ">anything, it is optional. If we don't specify any return values, the value ```None``` is returned. You also might want\n",
    ">to use the ```return``` keyword in order to stop your function following a conditional statement.\n"
   ]
  },
  {
   "cell_type": "code",
   "execution_count": 54,
   "metadata": {
    "collapsed": false,
    "jupyter": {
     "outputs_hidden": false
    },
    "pycharm": {
     "is_executing": false,
     "name": "#%%\n"
    }
   },
   "outputs": [
    {
     "name": "stdout",
     "output_type": "stream",
     "text": [
      "\n",
      "                                       ._ o o\n",
      "                                       \\_`-)|_\n",
      "                                    ,\"\"       \\ \n",
      "                                  ,\"  ## |   ಠ ಠ. \n",
      "                                ,\" ##   ,-\\__    `.\n",
      "                              ,\"       /     `--._;)\n",
      "                            ,\"     ## /\n",
      "                          ,\"   ##    /\n",
      "\n",
      "\n",
      "                    \n",
      "\n",
      "                                       ._ o o\n",
      "                                       \\_`-)|_\n",
      "                                    ,\"\"       \\ \n",
      "                                  ,\"  ## |   ಠ ಠ. \n",
      "                                ,\" ##   ,-\\__    `.\n",
      "                              ,\"       /     `--._;)\n",
      "                            ,\"     ## /\n",
      "                          ,\"   ##    /\n",
      "\n",
      "\n",
      "                    \n",
      "What was the value returned by the function?: None\n"
     ]
    }
   ],
   "source": [
    "def print_horse():\n",
    "    print(\"\"\"\\\n",
    "\n",
    "                                       ._ o o\n",
    "                                       \\_`-)|_\n",
    "                                    ,\"\"       \\ \n",
    "                                  ,\"  ## |   ಠ ಠ. \n",
    "                                ,\" ##   ,-\\__    `.\n",
    "                              ,\"       /     `--._;)\n",
    "                            ,\"     ## /\n",
    "                          ,\"   ##    /\n",
    "\n",
    "\n",
    "                    \"\"\")\n",
    "\n",
    "print_horse()\n",
    "x = print_horse() \n",
    "print('What was the value returned by the function?: {}'.format(x))"
   ]
  },
  {
   "cell_type": "markdown",
   "metadata": {},
   "source": [
    "> We can return multiple values at once from a function, they will automatically take the shape of a tuple. This can \n",
    ">be very useful, but keep in mind that it is generally considered bad python practice to return multiple values from \n",
    ">one single function.\n"
   ]
  },
  {
   "cell_type": "code",
   "execution_count": 55,
   "metadata": {
    "collapsed": false,
    "jupyter": {
     "outputs_hidden": false
    },
    "pycharm": {
     "is_executing": false,
     "name": "#%%\n"
    }
   },
   "outputs": [
    {
     "data": {
      "text/plain": [
       "(True, 4)"
      ]
     },
     "execution_count": 55,
     "metadata": {},
     "output_type": "execute_result"
    }
   ],
   "source": [
    "def element_in_list(el, _list):\n",
    "    found_index = -1\n",
    "    found = False\n",
    "    for i, list_element in enumerate(_list):\n",
    "        if list_element == el:\n",
    "            found_index = i\n",
    "            found = True\n",
    "            break\n",
    "    return found, found_index\n",
    "\n",
    "element_in_list(9, [1,2,3,5,9])"
   ]
  },
  {
   "cell_type": "markdown",
   "metadata": {},
   "source": [
    "> Note that you can also return functions from a function."
   ]
  },
  {
   "cell_type": "code",
   "execution_count": 56,
   "metadata": {
    "collapsed": false,
    "jupyter": {
     "outputs_hidden": false
    },
    "pycharm": {
     "is_executing": false,
     "name": "#%%\n"
    }
   },
   "outputs": [
    {
     "data": {
      "text/plain": [
       "'Hi'"
      ]
     },
     "execution_count": 56,
     "metadata": {},
     "output_type": "execute_result"
    }
   ],
   "source": [
    "def hello():\n",
    "    def say_hi_fct():\n",
    "        return \"Hi\"\n",
    "    return say_hi_fct\n",
    "\n",
    "say_hi_var = hello() # say_hi function is assign to the function variable\n",
    "say_hi_var()\n"
   ]
  },
  {
   "cell_type": "markdown",
   "metadata": {
    "pycharm": {
     "name": "#%% md\n"
    }
   },
   "source": [
    "### Exercise !\n",
    "> Write a Python function that takes a list and returns a new list with unique elements of the first list as well as \n",
    ">the proportion of unique elements that were found in the input list over the number of elements of the input list.\n"
   ]
  },
  {
   "cell_type": "code",
   "execution_count": 3,
   "metadata": {
    "collapsed": false,
    "jupyter": {
     "outputs_hidden": false
    },
    "pycharm": {
     "is_executing": false,
     "name": "#%%\n"
    }
   },
   "outputs": [
    {
     "ename": "TypeError",
     "evalue": "'NoneType' object is not subscriptable",
     "output_type": "error",
     "traceback": [
      "\u001b[0;31m---------------------------------------------------------------------------\u001b[0m",
      "\u001b[0;31mTypeError\u001b[0m                                 Traceback (most recent call last)",
      "\u001b[0;32m<ipython-input-3-061b17214ef1>\u001b[0m in \u001b[0;36m<module>\u001b[0;34m\u001b[0m\n\u001b[1;32m      4\u001b[0m \u001b[0;34m\u001b[0m\u001b[0m\n\u001b[1;32m      5\u001b[0m \u001b[0mans1\u001b[0m \u001b[0;34m=\u001b[0m \u001b[0munique_elements\u001b[0m\u001b[0;34m(\u001b[0m\u001b[0;34m[\u001b[0m\u001b[0;36m6\u001b[0m\u001b[0;34m,\u001b[0m\u001b[0;36m13\u001b[0m\u001b[0;34m,\u001b[0m\u001b[0;36m15\u001b[0m\u001b[0;34m,\u001b[0m\u001b[0;36m13\u001b[0m\u001b[0;34m,\u001b[0m\u001b[0;36m67\u001b[0m\u001b[0;34m,\u001b[0m\u001b[0;36m1\u001b[0m\u001b[0;34m,\u001b[0m\u001b[0;36m1\u001b[0m\u001b[0;34m,\u001b[0m\u001b[0;36m1\u001b[0m\u001b[0;34m,\u001b[0m\u001b[0;36m1\u001b[0m\u001b[0;34m]\u001b[0m\u001b[0;34m)\u001b[0m\u001b[0;34m\u001b[0m\u001b[0;34m\u001b[0m\u001b[0m\n\u001b[0;32m----> 6\u001b[0;31m \u001b[0mans1\u001b[0m\u001b[0;34m[\u001b[0m\u001b[0;36m0\u001b[0m\u001b[0;34m]\u001b[0m\u001b[0;34m.\u001b[0m\u001b[0msort\u001b[0m\u001b[0;34m(\u001b[0m\u001b[0;34m)\u001b[0m\u001b[0;34m\u001b[0m\u001b[0;34m\u001b[0m\u001b[0m\n\u001b[0m\u001b[1;32m      7\u001b[0m \u001b[0mexpect\u001b[0m\u001b[0;34m(\u001b[0m\u001b[0mans1\u001b[0m\u001b[0;34m[\u001b[0m\u001b[0;36m0\u001b[0m\u001b[0;34m]\u001b[0m\u001b[0;34m)\u001b[0m\u001b[0;34m.\u001b[0m\u001b[0mto\u001b[0m\u001b[0;34m(\u001b[0m\u001b[0mequal\u001b[0m\u001b[0;34m(\u001b[0m\u001b[0;34m[\u001b[0m\u001b[0;36m1\u001b[0m\u001b[0;34m,\u001b[0m \u001b[0;36m6\u001b[0m\u001b[0;34m,\u001b[0m \u001b[0;36m13\u001b[0m\u001b[0;34m,\u001b[0m \u001b[0;36m15\u001b[0m\u001b[0;34m,\u001b[0m \u001b[0;36m67\u001b[0m\u001b[0;34m]\u001b[0m\u001b[0;34m)\u001b[0m\u001b[0;34m)\u001b[0m\u001b[0;34m\u001b[0m\u001b[0;34m\u001b[0m\u001b[0m\n\u001b[1;32m      8\u001b[0m \u001b[0mexpect\u001b[0m\u001b[0;34m(\u001b[0m\u001b[0mans1\u001b[0m\u001b[0;34m[\u001b[0m\u001b[0;36m1\u001b[0m\u001b[0;34m]\u001b[0m\u001b[0;34m)\u001b[0m\u001b[0;34m.\u001b[0m\u001b[0mto\u001b[0m\u001b[0;34m(\u001b[0m\u001b[0mequal\u001b[0m\u001b[0;34m(\u001b[0m\u001b[0;36m5\u001b[0m\u001b[0;34m/\u001b[0m\u001b[0;36m9\u001b[0m\u001b[0;34m)\u001b[0m\u001b[0;34m)\u001b[0m\u001b[0;34m\u001b[0m\u001b[0;34m\u001b[0m\u001b[0m\n",
      "\u001b[0;31mTypeError\u001b[0m: 'NoneType' object is not subscriptable"
     ]
    }
   ],
   "source": [
    "def unique_elements(input_list):\n",
    "    pass\n",
    "\n",
    "\n",
    "ans1 = unique_elements([6,13,15,13,67,1,1,1,1])\n",
    "ans1[0].sort()\n",
    "expect(ans1[0]).to(equal([1, 6, 13, 15, 67]))\n",
    "expect(ans1[1]).to(equal(5/9))\n"
   ]
  },
  {
   "cell_type": "markdown",
   "metadata": {},
   "source": [
    "## Parameters and Default Parameters\n",
    "> There exist two types of parameters in python, required parameters, and default/keyword parameters. \n",
    "> I might interchange arguments and parameters when I talk, as the distinction is not very rigorous. However, they \n",
    ">have slightly different meanings as an argument refers to the VALUE passed to the function while a parameter refers \n",
    ">to the VARIABLE passed to a function.\n"
   ]
  },
  {
   "cell_type": "code",
   "execution_count": 57,
   "metadata": {
    "collapsed": false,
    "jupyter": {
     "outputs_hidden": false
    },
    "pycharm": {
     "is_executing": false,
     "name": "#%% \n"
    }
   },
   "outputs": [
    {
     "name": "stdout",
     "output_type": "stream",
     "text": [
      "my parameters are Hello and Okay hey\n",
      "my_function() missing 1 required positional argument: 'required_arg'\n",
      "my parameters are bonjour and hi\n",
      "my parameters are Stripes and White\n"
     ]
    }
   ],
   "source": [
    "def my_function(required_arg, default_args=\"Okay hey\"):\n",
    "    print(\"my parameters are {} and {}\".format(required_arg, default_args))\n",
    "\n",
    "# normal call to \"my_function\"\n",
    "my_function('Hello')\n",
    "\n",
    "# This call will throw a function as the required parameter is not filled\n",
    "try:\n",
    "    my_function()\n",
    "except Exception as e:\n",
    "    print(str(e))\n",
    "\n",
    "# calling the function with another parameter instead of the default parameter\n",
    "my_function(\"bonjour\", \"hi\")\n",
    "\n",
    "# when we use the name of the parameters in the function call, we can switch up their names with no problems\n",
    "my_function(default_args=\"White\", required_arg=\"Stripes\")"
   ]
  },
  {
   "cell_type": "markdown",
   "metadata": {},
   "source": [
    "> As you start reading more and more Python code, you will frequently encounter the keywords \"args\" and \"kwargs\", \n",
    ">they are frequently used in the following manner:\n",
    "```\n",
    "def my_fct(*args, **kwargs):\n",
    "    fct_body\n",
    "```\n",
    "> Args is a diminutive for \"arguments\" while kwargs is a diminutive for \"keyword arguments\". Args is used to collect\n",
    "> an arbitrary number of required parameters while kwargs is used the same way for optional keywords. Keep in the \n",
    ">mind that these \"required\" parameters are totally optional as well. It' just that in the current context, they have \n",
    ">the same form. Let's analyze how the \"args\" and \"kwargs\" work. \n"
   ]
  },
  {
   "cell_type": "code",
   "execution_count": 58,
   "metadata": {
    "collapsed": false,
    "jupyter": {
     "outputs_hidden": false
    },
    "pycharm": {
     "is_executing": false,
     "name": "#%% \n"
    }
   },
   "outputs": [
    {
     "name": "stdout",
     "output_type": "stream",
     "text": [
      "argument #0: heyyy\n",
      "argument #1: 9\n",
      "argument #2: True\n",
      "argument's value jack, parameter's name : Huncho\n",
      "argument's value my_status, parameter's name : 12\n"
     ]
    }
   ],
   "source": [
    "def my_new_function(*args, **kwargs):\n",
    "    for i, arg in enumerate(args):\n",
    "        print(\"argument #{}: {}\".format(i, arg))\n",
    "        \n",
    "    for key, value in kwargs.items():\n",
    "        print(\"argument's value {}, parameter's name : {}\".format(key, value))\n",
    "\n",
    "my_new_function('heyyy', 9, True, jack=\"Huncho\", my_status=12)"
   ]
  },
  {
   "cell_type": "markdown",
   "metadata": {},
   "source": [
    "> Quickly, I am sure you all noticed the asterisk and the double asterisks before the args and the kwargs \n",
    ">parameters. These are the packing and unpacking operators, the single asterisk is used for iterators such as lists \n",
    ">and tuples while the doublle is used for dictionaries-like types.\n"
   ]
  },
  {
   "cell_type": "code",
   "execution_count": 59,
   "metadata": {
    "collapsed": false,
    "jupyter": {
     "outputs_hidden": false
    },
    "pycharm": {
     "is_executing": false,
     "name": "#%%\n"
    }
   },
   "outputs": [
    {
     "name": "stdout",
     "output_type": "stream",
     "text": [
      "argument #0: 9\n",
      "argument #1: hi\n",
      "argument's value first_var, parameter's name : 9\n",
      "argument's value second_var, parameter's name : hi\n"
     ]
    }
   ],
   "source": [
    "first_var = 9\n",
    "second_var = \"hi\"\n",
    "\n",
    "my_new_function(first_var, second_var)\n",
    "\n",
    "my_dict = dict(first_var=first_var, second_var=second_var)\n",
    "\n",
    "my_new_function(**my_dict)"
   ]
  },
  {
   "cell_type": "markdown",
   "metadata": {
    "pycharm": {
     "name": "#%% md\n"
    }
   },
   "source": [
    "> An important specification concerning parameters is that the positional parameters (required parameters) must \n",
    ">placed before keywords parameters."
   ]
  },
  {
   "cell_type": "code",
   "execution_count": 60,
   "metadata": {
    "collapsed": false,
    "jupyter": {
     "outputs_hidden": false
    },
    "pycharm": {
     "is_executing": false,
     "name": "#%%\n"
    }
   },
   "outputs": [
    {
     "ename": "SyntaxError",
     "evalue": "positional argument follows keyword argument (<ipython-input-60-9fc8d3e419b0>, line 2)",
     "output_type": "error",
     "traceback": [
      "\u001b[0;36m  File \u001b[0;32m\"<ipython-input-60-9fc8d3e419b0>\"\u001b[0;36m, line \u001b[0;32m2\u001b[0m\n\u001b[0;31m    my_new_function(my_status=\"feeling good\", 9, 12, [], \"hey\")\u001b[0m\n\u001b[0m                                             ^\u001b[0m\n\u001b[0;31mSyntaxError\u001b[0m\u001b[0;31m:\u001b[0m positional argument follows keyword argument\n"
     ]
    }
   ],
   "source": [
    "try:\n",
    "    my_new_function(my_status=\"feeling good\", 9, 12, [], \"hey\")\n",
    "except SyntaxError as e:\n",
    "    print(str(e))"
   ]
  },
  {
   "cell_type": "code",
   "execution_count": null,
   "metadata": {
    "collapsed": false,
    "jupyter": {
     "outputs_hidden": false
    },
    "pycharm": {
     "is_executing": false,
     "name": "#%%\n"
    }
   },
   "outputs": [],
   "source": [
    "def useful_function(a, b, c=12, *args, **kwargs):\n",
    "    print(\"a : {}\".format(a))\n",
    "    print(\"b: {}\".format(b))\n",
    "    print(\"c: {}\".format(c))\n",
    "    print(\"args: {}\".format(args))\n",
    "    print(\"kwargs: {}\".format(kwargs))\n",
    "\n",
    "useful_function(\"aaaaaaaaa\", \"bbbbbbbbbbbb\", \"cccccccc\", \"dddddddddd\", \"eeeeeeeeee\", f=\"ff\", g=\"gg\")"
   ]
  },
  {
   "cell_type": "markdown",
   "metadata": {},
   "source": [
    "## Docstrings\n",
    "> It is widely known that reading code if often much more difficult that writing it. Eventually, your code will be \n",
    ">read by other people and will create a real impact. Try to make the life of these people as well as possible. The \n",
    ">first important trick is to write long and detailed variable and function names. Try to write as few comments as \n",
    ">possible.   \n",
    ">Where you want to describe the logic of your program is in the function's docstring. The docstring is a \n",
    ">summary of the parameters a function requires, it's behaviour and logic as well as it's expected return value. Then,\n",
    "> you can see the docstring generated with the ```help()``` function.  \n",
    "> You can also generate a readthedocs using \n",
    ">sphynx which will automatically parse your docstrings. The following link is an example of what can be done:\n",
    "> https://lifelines.readthedocs.io/en/latest/"
   ]
  },
  {
   "cell_type": "code",
   "execution_count": null,
   "metadata": {
    "collapsed": false,
    "jupyter": {
     "outputs_hidden": false
    },
    "pycharm": {
     "is_executing": false,
     "name": "#%%\n"
    }
   },
   "outputs": [],
   "source": [
    "import math\n",
    "help(math.sqrt)\n",
    "\n",
    "help(abs)\n",
    "\n",
    "help(pow)\n"
   ]
  },
  {
   "cell_type": "markdown",
   "metadata": {
    "pycharm": {
     "name": "#%% md\n"
    }
   },
   "source": [
    "> Docstrings are specified by long strings just after a function's signature.\n"
   ]
  },
  {
   "cell_type": "code",
   "execution_count": null,
   "metadata": {
    "collapsed": false,
    "jupyter": {
     "outputs_hidden": false
    },
    "pycharm": {
     "is_executing": false,
     "name": "#%%\n"
    }
   },
   "outputs": [],
   "source": [
    "def my_complex_fct(list_to_be_processed, threshold):\n",
    "    \"\"\"\n",
    "    This very complex function sums up the elements in a list.\n",
    "    :param list_to_be_processed: list to be summed up, must be numbers!\n",
    "    :param threshold: if an element of the list_to_be_processed is bigger than the \n",
    "    threshold, do not consider it\n",
    "    :return: the sum of the elements in the list_to_be_processed\n",
    "    \"\"\"    \n",
    "    _sum = 0\n",
    "    for element in list_to_be_processed:\n",
    "        if element < threshold:\n",
    "            _sum += element\n",
    "    return _sum\n",
    "\n",
    "my_complex_fct([1,2,3,5,6], threshold=6)\n",
    "\n",
    "help(my_complex_fct)"
   ]
  },
  {
   "cell_type": "markdown",
   "metadata": {
    "pycharm": {
     "name": "#%% md\n"
    }
   },
   "source": [
    "### Exercise!\n",
    "> Complete the body of the following function according to its docstring. HINT: Python has a builtin function `round`\n"
   ]
  },
  {
   "cell_type": "code",
   "execution_count": 4,
   "metadata": {
    "collapsed": false,
    "jupyter": {
     "outputs_hidden": false
    },
    "pycharm": {
     "is_executing": false,
     "name": "#%%\n"
    }
   },
   "outputs": [
    {
     "ename": "AssertionError",
     "evalue": "\nexpected: None to equal 3.14",
     "output_type": "error",
     "traceback": [
      "\u001b[0;31m---------------------------------------------------------------------------\u001b[0m",
      "\u001b[0;31mAssertionError\u001b[0m                            Traceback (most recent call last)",
      "\u001b[0;32m<ipython-input-4-b669946370af>\u001b[0m in \u001b[0;36m<module>\u001b[0;34m\u001b[0m\n\u001b[1;32m     10\u001b[0m     \u001b[0;32mpass\u001b[0m\u001b[0;34m\u001b[0m\u001b[0;34m\u001b[0m\u001b[0m\n\u001b[1;32m     11\u001b[0m \u001b[0;34m\u001b[0m\u001b[0m\n\u001b[0;32m---> 12\u001b[0;31m \u001b[0mexpect\u001b[0m\u001b[0;34m(\u001b[0m\u001b[0mround_to_two_places\u001b[0m\u001b[0;34m(\u001b[0m\u001b[0;36m3.14159\u001b[0m\u001b[0;34m)\u001b[0m\u001b[0;34m)\u001b[0m\u001b[0;34m.\u001b[0m\u001b[0mto\u001b[0m\u001b[0;34m(\u001b[0m\u001b[0mequal\u001b[0m\u001b[0;34m(\u001b[0m\u001b[0;36m3.14\u001b[0m\u001b[0;34m)\u001b[0m\u001b[0;34m)\u001b[0m\u001b[0;34m\u001b[0m\u001b[0;34m\u001b[0m\u001b[0m\n\u001b[0m\u001b[1;32m     13\u001b[0m \u001b[0mexpect\u001b[0m\u001b[0;34m(\u001b[0m\u001b[0mround_to_two_places\u001b[0m\u001b[0;34m(\u001b[0m\u001b[0;36m0\u001b[0m\u001b[0;34m)\u001b[0m\u001b[0;34m)\u001b[0m\u001b[0;34m.\u001b[0m\u001b[0mto\u001b[0m\u001b[0;34m(\u001b[0m\u001b[0mequal\u001b[0m\u001b[0;34m(\u001b[0m\u001b[0;36m0\u001b[0m\u001b[0;34m)\u001b[0m\u001b[0;34m)\u001b[0m\u001b[0;34m\u001b[0m\u001b[0;34m\u001b[0m\u001b[0m\n\u001b[1;32m     14\u001b[0m \u001b[0mexpect\u001b[0m\u001b[0;34m(\u001b[0m\u001b[0mround_to_two_places\u001b[0m\u001b[0;34m(\u001b[0m\u001b[0;34m-\u001b[0m\u001b[0;36m99999.99999\u001b[0m\u001b[0;34m)\u001b[0m\u001b[0;34m)\u001b[0m\u001b[0;34m.\u001b[0m\u001b[0mto\u001b[0m\u001b[0;34m(\u001b[0m\u001b[0mequal\u001b[0m\u001b[0;34m(\u001b[0m\u001b[0;34m-\u001b[0m\u001b[0;36m100000.0\u001b[0m\u001b[0;34m)\u001b[0m\u001b[0;34m)\u001b[0m\u001b[0;34m\u001b[0m\u001b[0;34m\u001b[0m\u001b[0m\n",
      "\u001b[0;32m~/anaconda3/lib/python3.7/site-packages/expects/expectations.py\u001b[0m in \u001b[0;36mto\u001b[0;34m(self, matcher)\u001b[0m\n\u001b[1;32m     23\u001b[0m         \u001b[0m__tracebackhide__\u001b[0m \u001b[0;34m=\u001b[0m \u001b[0;32mTrue\u001b[0m\u001b[0;34m\u001b[0m\u001b[0;34m\u001b[0m\u001b[0m\n\u001b[1;32m     24\u001b[0m \u001b[0;34m\u001b[0m\u001b[0m\n\u001b[0;32m---> 25\u001b[0;31m         \u001b[0mself\u001b[0m\u001b[0;34m.\u001b[0m\u001b[0m_assert\u001b[0m\u001b[0;34m(\u001b[0m\u001b[0mmatcher\u001b[0m\u001b[0;34m)\u001b[0m\u001b[0;34m\u001b[0m\u001b[0;34m\u001b[0m\u001b[0m\n\u001b[0m\u001b[1;32m     26\u001b[0m \u001b[0;34m\u001b[0m\u001b[0m\n\u001b[1;32m     27\u001b[0m     \u001b[0;32mdef\u001b[0m \u001b[0m_assert\u001b[0m\u001b[0;34m(\u001b[0m\u001b[0mself\u001b[0m\u001b[0;34m,\u001b[0m \u001b[0mmatcher\u001b[0m\u001b[0;34m)\u001b[0m\u001b[0;34m:\u001b[0m\u001b[0;34m\u001b[0m\u001b[0;34m\u001b[0m\u001b[0m\n",
      "\u001b[0;32m~/anaconda3/lib/python3.7/site-packages/expects/expectations.py\u001b[0m in \u001b[0;36m_assert\u001b[0;34m(self, matcher)\u001b[0m\n\u001b[1;32m     31\u001b[0m \u001b[0;34m\u001b[0m\u001b[0m\n\u001b[1;32m     32\u001b[0m         \u001b[0;32mif\u001b[0m \u001b[0;32mnot\u001b[0m \u001b[0mok\u001b[0m\u001b[0;34m:\u001b[0m\u001b[0;34m\u001b[0m\u001b[0;34m\u001b[0m\u001b[0m\n\u001b[0;32m---> 33\u001b[0;31m             \u001b[0;32mraise\u001b[0m \u001b[0mAssertionError\u001b[0m\u001b[0;34m(\u001b[0m\u001b[0mself\u001b[0m\u001b[0;34m.\u001b[0m\u001b[0m_failure_message\u001b[0m\u001b[0;34m(\u001b[0m\u001b[0mmatcher\u001b[0m\u001b[0;34m,\u001b[0m \u001b[0mreasons\u001b[0m\u001b[0;34m)\u001b[0m\u001b[0;34m)\u001b[0m\u001b[0;34m\u001b[0m\u001b[0;34m\u001b[0m\u001b[0m\n\u001b[0m\u001b[1;32m     34\u001b[0m \u001b[0;34m\u001b[0m\u001b[0m\n\u001b[1;32m     35\u001b[0m     \u001b[0;32mdef\u001b[0m \u001b[0m_match\u001b[0m\u001b[0;34m(\u001b[0m\u001b[0mself\u001b[0m\u001b[0;34m,\u001b[0m \u001b[0mmatcher\u001b[0m\u001b[0;34m)\u001b[0m\u001b[0;34m:\u001b[0m\u001b[0;34m\u001b[0m\u001b[0;34m\u001b[0m\u001b[0m\n",
      "\u001b[0;31mAssertionError\u001b[0m: \nexpected: None to equal 3.14"
     ]
    }
   ],
   "source": [
    "def round_to_two_places(num):\n",
    "    \"\"\"Return the given number rounded to two decimal places. \n",
    "    \n",
    "    >>> round_to_two_places(3.14159)\n",
    "    3.14\n",
    "    \"\"\"\n",
    "    # Replace this body with your own code.\n",
    "    # (\"pass\" is a keyword that does literally nothing. We used it as a placeholder\n",
    "    # because after we begin a code block, Python requires at least one line of code)\n",
    "    pass\n",
    "\n",
    "expect(round_to_two_places(3.14159)).to(equal(3.14))\n",
    "expect(round_to_two_places(0)).to(equal(0))\n",
    "expect(round_to_two_places(-99999.99999)).to(equal(-100000.0))\n"
   ]
  },
  {
   "cell_type": "markdown",
   "metadata": {
    "pycharm": {
     "name": "#%% md\n"
    }
   },
   "source": [
    "## Global and Local Scopes\n",
    "> Let's get into a slightly more tricky subject and talk about the variables' scopes in Python. This section might \n",
    ">save you a lot of headache in the future while debugging your code, so pay attention!  \n",
    ">Let's start by defining and understanding scopes. A scope is essentially a dictionary-like object of variables along \n",
    ">with their values for a certain body of code. \n"
   ]
  },
  {
   "cell_type": "code",
   "execution_count": null,
   "metadata": {
    "collapsed": false,
    "jupyter": {
     "outputs_hidden": false
    },
    "pycharm": {
     "is_executing": false,
     "name": "#%%\n"
    }
   },
   "outputs": [],
   "source": [
    "x = 99\n",
    "y = 88\n",
    "\n",
    "def dummy_fct():\n",
    "    x = \"Totally different value\"\n",
    "    y = \"Another totally different value\"\n",
    "    print(\"local variables (local scope) is {}\".format(locals()))\n",
    "\n",
    "dummy_fct()\n",
    "\n",
    "# print only interesting variables from the global scope\n",
    "print('global value of x: {}, global value of y: {}'.format(globals()['x'], globals()['y']))\n"
   ]
  },
  {
   "cell_type": "markdown",
   "metadata": {
    "pycharm": {
     "is_executing": false,
     "name": "#%% md\n"
    }
   },
   "source": [
    "> Notice how the local scope takes precedence over the global scope. Now, let's define a global variable that will be\n",
    "> modified in the body of a function.\n",
    "\n"
   ]
  },
  {
   "cell_type": "code",
   "execution_count": null,
   "metadata": {
    "collapsed": false,
    "jupyter": {
     "outputs_hidden": false
    },
    "pycharm": {
     "is_executing": false,
     "name": "#%%\n"
    }
   },
   "outputs": [],
   "source": [
    "dummy_var = 99\n",
    "\n",
    "def modify_dummy_var():\n",
    "    dummy_var = -2\n",
    "    \n",
    "modify_dummy_var()\n",
    "dummy_var\n",
    "    "
   ]
  },
  {
   "cell_type": "markdown",
   "metadata": {
    "pycharm": {
     "name": "#%% md\n"
    }
   },
   "source": [
    "> So, why was the value of dummy_var still 99 after we supposedly modified it to -2. Why is this so? The reason is we\n",
    "> are actually defining dummy_var locally instead of modifying its global value. Notice:\n"
   ]
  },
  {
   "cell_type": "code",
   "execution_count": null,
   "metadata": {
    "collapsed": false,
    "jupyter": {
     "outputs_hidden": false
    },
    "pycharm": {
     "is_executing": false,
     "name": "#%%\n"
    }
   },
   "outputs": [],
   "source": [
    "dummy_var = 99\n",
    "\n",
    "def modify_dummy_var():\n",
    "    dummy_var = -2\n",
    "    print(locals())\n",
    "    print(\"dummy var in globals: {}\".format(globals()['dummy_var']))\n",
    "    \n",
    "modify_dummy_var()\n",
    "\n"
   ]
  },
  {
   "cell_type": "markdown",
   "metadata": {
    "pycharm": {
     "name": "#%% md\n"
    }
   },
   "source": [
    "> Okay, so what if I really want to modify the value of dummy_var inside our function? I need to use the global \n",
    ">keyword.\n"
   ]
  },
  {
   "cell_type": "code",
   "execution_count": null,
   "metadata": {
    "collapsed": false,
    "jupyter": {
     "outputs_hidden": false
    },
    "pycharm": {
     "is_executing": false,
     "name": "#%%\n"
    }
   },
   "outputs": [],
   "source": [
    "dummy_var = 99\n",
    "\n",
    "def modify_dummy_var():\n",
    "    global  dummy_var\n",
    "    dummy_var = -2\n",
    "    print(locals())\n",
    "    print(\"dummy var in globals: {}\".format(globals()['dummy_var']))\n",
    "    \n",
    "modify_dummy_var()"
   ]
  },
  {
   "cell_type": "markdown",
   "metadata": {
    "pycharm": {
     "name": "#%% md\n"
    }
   },
   "source": [
    "> Voila! We can play with global variables inside of function now, but keep in mind that this is generally not \n",
    ">considered good practice in Python.\n",
    ">\n",
    "### Exercise!\n",
    "> What does the following code print?\n",
    "```\n",
    "a_var = 'global variable'\n",
    "def a_func():\n",
    "    print(a_var, '[ a_var inside a_func() ]')\n",
    "a_func()\n",
    "print(a_var, '[ a_var outside a_func() ]')\n",
    "```\n",
    "> See the solution in the answer sheet.\n"
   ]
  }
 ],
 "metadata": {
  "kernelspec": {
   "display_name": "Python 3",
   "language": "python",
   "name": "python3"
  },
  "language_info": {
   "codemirror_mode": {
    "name": "ipython",
    "version": 3
   },
   "file_extension": ".py",
   "mimetype": "text/x-python",
   "name": "python",
   "nbconvert_exporter": "python",
   "pygments_lexer": "ipython3",
   "version": "3.7.3"
  },
  "pycharm": {
   "stem_cell": {
    "cell_type": "raw",
    "metadata": {
     "collapsed": false
    },
    "source": []
   }
  }
 },
 "nbformat": 4,
 "nbformat_minor": 4
}
