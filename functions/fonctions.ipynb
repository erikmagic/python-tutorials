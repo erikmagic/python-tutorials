{
 "cells": [
  {
   "cell_type": "markdown",
   "metadata": {
    "pycharm": {
     "name": "#%% md\n"
    }
   },
   "source": [
    "#  Les Fonctions en Python\n",
    "## Introduction\n",
    "\n",
    "> Les fonctions sont une partie intégrante de Python. Nous pouvons fragmenter les fonctions afin d'en faire des opérations \n",
    "générales, paramétrables et qui peuvent être répétées. Dans ce tutoriel, nous allons voir comment utiliser et définir nos\n",
    "propres fonctions.\n",
    "Nous avons déjà vu diverses fonctions prédéfinies comme ```print(), len() ...```\n"
   ]
  },
  {
   "cell_type": "code",
   "execution_count": 1,
   "metadata": {},
   "outputs": [],
   "source": [
    "from expects import expect, equal"
   ]
  },
  {
   "cell_type": "code",
   "execution_count": 2,
   "metadata": {
    "collapsed": false,
    "jupyter": {
     "outputs_hidden": false
    },
    "pycharm": {
     "is_executing": false,
     "name": "#%%\n"
    }
   },
   "outputs": [
    {
     "name": "stdout",
     "output_type": "stream",
     "text": [
      "12\n"
     ]
    },
    {
     "data": {
      "text/plain": [
       "3"
      ]
     },
     "execution_count": 2,
     "metadata": {},
     "output_type": "execute_result"
    }
   ],
   "source": [
    "print(12)\n",
    "len([12,3,4])"
   ]
  },
  {
   "cell_type": "markdown",
   "metadata": {
    "pycharm": {
     "name": "#%% md\n"
    }
   },
   "source": [
    "> Commençons par définir nos propres fonctions. La syntaxe est la suivante:\n",
    "```\n",
    "def nom_fonction(liste de paramètres):\n",
    "      bloc d'instructions\n",
    "```\n",
    "\n",
    "> Donc vous pouvez choisir le nom de fonction qui vous convient en tenant compte de ne pas utiliser des caractères\n",
    " particuliers à l'exception du caractère souligné << _ >>. Effectivement, un bon moyen de nommer des noms plus complexes\n",
    " est d'utiliser allègrement le caractère souligné. Un bon nom de fonction est descriptif: \n",
    " ```\n",
    " def test_outbound_call_generating_valid_number_of_values(...):\n",
    "    ...\n",
    " ```\n",
    " \n",
    " > Bon, donc une fonction est constituée d'un nom, d'une liste de paramètres suivi d'un deux-points. Ensuite, les lignes \n",
    " suivantes constituant le corps de la fonction sont séparées grâce à l'indentation. Ce bloc d'instructions est le corps\n",
    " de la fonction.\n",
    " "
   ]
  },
  {
   "cell_type": "code",
   "execution_count": 6,
   "metadata": {
    "collapsed": false,
    "jupyter": {
     "outputs_hidden": false
    },
    "pycharm": {
     "is_executing": false,
     "name": "#%%\n"
    }
   },
   "outputs": [
    {
     "data": {
      "text/plain": [
       "27"
      ]
     },
     "execution_count": 6,
     "metadata": {},
     "output_type": "execute_result"
    }
   ],
   "source": [
    "def addition(nombre_1, nombre_2):\n",
    "    resultat = nombre_1 + nombre_2\n",
    "    return resultat\n",
    "addition(12, 15)"
   ]
  },
  {
   "cell_type": "code",
   "execution_count": 8,
   "metadata": {
    "collapsed": false,
    "jupyter": {
     "outputs_hidden": false
    },
    "pycharm": {
     "is_executing": false,
     "name": "#%%\n"
    }
   },
   "outputs": [
    {
     "data": {
      "text/plain": [
       "32"
      ]
     },
     "execution_count": 8,
     "metadata": {},
     "output_type": "execute_result"
    }
   ],
   "source": [
    "def multiplication(nombre_1, nombre_2):\n",
    "    total = 0\n",
    "    for _ in range(nombre_2):\n",
    "        total = addition(total, nombre_1)\n",
    "    return total\n",
    "multiplication(4, 8)"
   ]
  },
  {
   "cell_type": "markdown",
   "metadata": {
    "pycharm": {
     "name": "#%% md\n"
    }
   },
   "source": [
    "> Comme dans l'exemple précédent, les fonctions peuvent appeler d'autres fonctions sans problème. Les fonctions\n",
    "peuvent également prendre d'autres fonctions comme arguments et retourner d'autres fonctions. Très polyvalent!\n",
    "### Exercice !\n",
    "> Écrivez une fonction calculant la valeur absolue de quelconques nombres."
   ]
  },
  {
   "cell_type": "code",
   "execution_count": 2,
   "metadata": {
    "collapsed": false,
    "jupyter": {
     "outputs_hidden": false
    },
    "pycharm": {
     "name": "#%%\n"
    }
   },
   "outputs": [
    {
     "ename": "AssertionError",
     "evalue": "\nexpected: None to equal 82",
     "output_type": "error",
     "traceback": [
      "\u001b[0;31m---------------------------------------------------------------------------\u001b[0m",
      "\u001b[0;31mAssertionError\u001b[0m                            Traceback (most recent call last)",
      "\u001b[0;32m<ipython-input-2-db2fcbd8ba04>\u001b[0m in \u001b[0;36m<module>\u001b[0;34m\u001b[0m\n\u001b[1;32m      8\u001b[0m \u001b[0;34m\u001b[0m\u001b[0m\n\u001b[1;32m      9\u001b[0m \u001b[0;32mfor\u001b[0m \u001b[0mnombre_aleatoire\u001b[0m \u001b[0;32min\u001b[0m \u001b[0mtest_nombres\u001b[0m\u001b[0;34m:\u001b[0m\u001b[0;34m\u001b[0m\u001b[0;34m\u001b[0m\u001b[0m\n\u001b[0;32m---> 10\u001b[0;31m     \u001b[0mexpect\u001b[0m\u001b[0;34m(\u001b[0m\u001b[0mmon_abs\u001b[0m\u001b[0;34m(\u001b[0m\u001b[0mnombre_aleatoire\u001b[0m\u001b[0;34m)\u001b[0m\u001b[0;34m)\u001b[0m\u001b[0;34m.\u001b[0m\u001b[0mto\u001b[0m\u001b[0;34m(\u001b[0m\u001b[0mequal\u001b[0m\u001b[0;34m(\u001b[0m\u001b[0mabs\u001b[0m\u001b[0;34m(\u001b[0m\u001b[0mnombre_aleatoire\u001b[0m\u001b[0;34m)\u001b[0m\u001b[0;34m)\u001b[0m\u001b[0;34m)\u001b[0m\u001b[0;34m\u001b[0m\u001b[0;34m\u001b[0m\u001b[0m\n\u001b[0m",
      "\u001b[0;32m~/anaconda3/lib/python3.7/site-packages/expects/expectations.py\u001b[0m in \u001b[0;36mto\u001b[0;34m(self, matcher)\u001b[0m\n\u001b[1;32m     23\u001b[0m         \u001b[0m__tracebackhide__\u001b[0m \u001b[0;34m=\u001b[0m \u001b[0;32mTrue\u001b[0m\u001b[0;34m\u001b[0m\u001b[0;34m\u001b[0m\u001b[0m\n\u001b[1;32m     24\u001b[0m \u001b[0;34m\u001b[0m\u001b[0m\n\u001b[0;32m---> 25\u001b[0;31m         \u001b[0mself\u001b[0m\u001b[0;34m.\u001b[0m\u001b[0m_assert\u001b[0m\u001b[0;34m(\u001b[0m\u001b[0mmatcher\u001b[0m\u001b[0;34m)\u001b[0m\u001b[0;34m\u001b[0m\u001b[0;34m\u001b[0m\u001b[0m\n\u001b[0m\u001b[1;32m     26\u001b[0m \u001b[0;34m\u001b[0m\u001b[0m\n\u001b[1;32m     27\u001b[0m     \u001b[0;32mdef\u001b[0m \u001b[0m_assert\u001b[0m\u001b[0;34m(\u001b[0m\u001b[0mself\u001b[0m\u001b[0;34m,\u001b[0m \u001b[0mmatcher\u001b[0m\u001b[0;34m)\u001b[0m\u001b[0;34m:\u001b[0m\u001b[0;34m\u001b[0m\u001b[0;34m\u001b[0m\u001b[0m\n",
      "\u001b[0;32m~/anaconda3/lib/python3.7/site-packages/expects/expectations.py\u001b[0m in \u001b[0;36m_assert\u001b[0;34m(self, matcher)\u001b[0m\n\u001b[1;32m     31\u001b[0m \u001b[0;34m\u001b[0m\u001b[0m\n\u001b[1;32m     32\u001b[0m         \u001b[0;32mif\u001b[0m \u001b[0;32mnot\u001b[0m \u001b[0mok\u001b[0m\u001b[0;34m:\u001b[0m\u001b[0;34m\u001b[0m\u001b[0;34m\u001b[0m\u001b[0m\n\u001b[0;32m---> 33\u001b[0;31m             \u001b[0;32mraise\u001b[0m \u001b[0mAssertionError\u001b[0m\u001b[0;34m(\u001b[0m\u001b[0mself\u001b[0m\u001b[0;34m.\u001b[0m\u001b[0m_failure_message\u001b[0m\u001b[0;34m(\u001b[0m\u001b[0mmatcher\u001b[0m\u001b[0;34m,\u001b[0m \u001b[0mreasons\u001b[0m\u001b[0;34m)\u001b[0m\u001b[0;34m)\u001b[0m\u001b[0;34m\u001b[0m\u001b[0;34m\u001b[0m\u001b[0m\n\u001b[0m\u001b[1;32m     34\u001b[0m \u001b[0;34m\u001b[0m\u001b[0m\n\u001b[1;32m     35\u001b[0m     \u001b[0;32mdef\u001b[0m \u001b[0m_match\u001b[0m\u001b[0;34m(\u001b[0m\u001b[0mself\u001b[0m\u001b[0;34m,\u001b[0m \u001b[0mmatcher\u001b[0m\u001b[0;34m)\u001b[0m\u001b[0;34m:\u001b[0m\u001b[0;34m\u001b[0m\u001b[0;34m\u001b[0m\u001b[0m\n",
      "\u001b[0;31mAssertionError\u001b[0m: \nexpected: None to equal 82"
     ]
    }
   ],
   "source": [
    "import random\n",
    "\n",
    "def mon_abs(nombre):\n",
    "    pass\n",
    "\n",
    "# générer 20 nombres de -100 à 100\n",
    "test_nombres = random.sample(range(-100, 100), 20)\n",
    "\n",
    "for nombre_aleatoire in test_nombres:\n",
    "    expect(mon_abs(nombre_aleatoire)).to(equal(abs(nombre_aleatoire)))    "
   ]
  },
  {
   "cell_type": "markdown",
   "metadata": {
    "pycharm": {
     "name": "#%% md\n"
    }
   },
   "source": [
    "## Valeurs de retours\n",
    "> Nous avons beaucoup d'options en ce qui concerne les valeurs de retours en Python. À priori, nous n'avons pas besoin\n",
    "de retourner quoi que ce soit. Dans ce cas-là, la valeur ```None``` est automatiquement retournée.\n"
   ]
  },
  {
   "cell_type": "code",
   "execution_count": 10,
   "metadata": {
    "collapsed": false,
    "jupyter": {
     "outputs_hidden": false
    },
    "pycharm": {
     "is_executing": false,
     "name": "#%%\n"
    }
   },
   "outputs": [
    {
     "name": "stdout",
     "output_type": "stream",
     "text": [
      "\n",
      "                                       ._ o o\n",
      "                                       \\_`-)|_\n",
      "                                    ,\"\"       \\ \n",
      "                                  ,\"  ## |   ಠ ಠ. \n",
      "                                ,\" ##   ,-\\__    `.\n",
      "                              ,\"       /     `--._;)\n",
      "                            ,\"     ## /\n",
      "                          ,\"   ##    /\n",
      "\n",
      "\n",
      "                    \n",
      "\n",
      "                                       ._ o o\n",
      "                                       \\_`-)|_\n",
      "                                    ,\"\"       \\ \n",
      "                                  ,\"  ## |   ಠ ಠ. \n",
      "                                ,\" ##   ,-\\__    `.\n",
      "                              ,\"       /     `--._;)\n",
      "                            ,\"     ## /\n",
      "                          ,\"   ##    /\n",
      "\n",
      "\n",
      "                    \n",
      "Quel est la valeur de x?: None\n"
     ]
    }
   ],
   "source": [
    "def print_horse():\n",
    "    print(\"\"\"\\\n",
    "\n",
    "                                       ._ o o\n",
    "                                       \\_`-)|_\n",
    "                                    ,\"\"       \\ \n",
    "                                  ,\"  ## |   ಠ ಠ. \n",
    "                                ,\" ##   ,-\\__    `.\n",
    "                              ,\"       /     `--._;)\n",
    "                            ,\"     ## /\n",
    "                          ,\"   ##    /\n",
    "\n",
    "\n",
    "                    \"\"\")\n",
    "\n",
    "print_horse()\n",
    "x = print_horse() \n",
    "print('Quel est la valeur de x?: {}'.format(x))"
   ]
  },
  {
   "cell_type": "markdown",
   "metadata": {
    "pycharm": {
     "name": "#%% md\n"
    }
   },
   "source": [
    "> Nous pouvons retourner plusieurs valeurs qui prendront la forme d'un tuple en sortant. Cela peut s'avérer très utile,\n",
    "mais prenez conscience que c'est considéré comme une mauvaise pratique en général de retourner plusieurs valeurs\n",
    "d'une seule fonction.\n"
   ]
  },
  {
   "cell_type": "code",
   "execution_count": 2,
   "metadata": {
    "collapsed": false,
    "jupyter": {
     "outputs_hidden": false
    },
    "pycharm": {
     "is_executing": false,
     "name": "#%%\n"
    }
   },
   "outputs": [
    {
     "data": {
      "text/plain": [
       "(False, 4)"
      ]
     },
     "execution_count": 2,
     "metadata": {},
     "output_type": "execute_result"
    }
   ],
   "source": [
    "def element_in_list(el, _list):\n",
    "    found_index = -1\n",
    "    found = False\n",
    "    for i, list_element in enumerate(_list):\n",
    "        if list_element == el:\n",
    "            found_index = i\n",
    "            found = True\n",
    "            break\n",
    "    return found, found_index\n",
    "\n",
    "element_in_list(9, [1,2,3,5,9])"
   ]
  },
  {
   "cell_type": "markdown",
   "metadata": {
    "pycharm": {
     "name": "#%% md\n"
    }
   },
   "source": [
    "> Noter que nous pouvons également retourner des fonctions dans nos fonctions."
   ]
  },
  {
   "cell_type": "code",
   "execution_count": 3,
   "metadata": {
    "collapsed": false,
    "jupyter": {
     "outputs_hidden": false
    },
    "pycharm": {
     "is_executing": false,
     "name": "#%%\n"
    }
   },
   "outputs": [
    {
     "data": {
      "text/plain": [
       "'Bonjour'"
      ]
     },
     "execution_count": 3,
     "metadata": {},
     "output_type": "execute_result"
    }
   ],
   "source": [
    "def hello():\n",
    "    def dit_bonjour():\n",
    "        return \"Bonjour\"\n",
    "    return dit_bonjour\n",
    "\n",
    "dit_bonjour = hello() # dit_bonjour est desormais notre fonction\n",
    "dit_bonjour()\n"
   ]
  },
  {
   "cell_type": "markdown",
   "metadata": {
    "pycharm": {
     "is_executing": false,
     "name": "#%% md\n"
    }
   },
   "source": [
    "### Exercice !\n",
    "> Écriver une fonction qui prend une liste et retourne une autre liste avec les éléments uniques de la première liste\n",
    "ainsi que la proportion d'éléments unique trouvée dans la liste originale sur ses éléments totaux.\n"
   ]
  },
  {
   "cell_type": "code",
   "execution_count": 3,
   "metadata": {
    "collapsed": false,
    "jupyter": {
     "outputs_hidden": false
    },
    "pycharm": {
     "name": "#%%\n"
    }
   },
   "outputs": [
    {
     "ename": "TypeError",
     "evalue": "'NoneType' object is not subscriptable",
     "output_type": "error",
     "traceback": [
      "\u001b[0;31m---------------------------------------------------------------------------\u001b[0m",
      "\u001b[0;31mTypeError\u001b[0m                                 Traceback (most recent call last)",
      "\u001b[0;32m<ipython-input-3-3d403dfd99d1>\u001b[0m in \u001b[0;36m<module>\u001b[0;34m\u001b[0m\n\u001b[1;32m      4\u001b[0m \u001b[0;34m\u001b[0m\u001b[0m\n\u001b[1;32m      5\u001b[0m \u001b[0mans1\u001b[0m \u001b[0;34m=\u001b[0m \u001b[0munique_elements\u001b[0m\u001b[0;34m(\u001b[0m\u001b[0;34m[\u001b[0m\u001b[0;36m6\u001b[0m\u001b[0;34m,\u001b[0m\u001b[0;36m13\u001b[0m\u001b[0;34m,\u001b[0m\u001b[0;36m15\u001b[0m\u001b[0;34m,\u001b[0m\u001b[0;36m13\u001b[0m\u001b[0;34m,\u001b[0m\u001b[0;36m67\u001b[0m\u001b[0;34m,\u001b[0m\u001b[0;36m1\u001b[0m\u001b[0;34m,\u001b[0m\u001b[0;36m1\u001b[0m\u001b[0;34m,\u001b[0m\u001b[0;36m1\u001b[0m\u001b[0;34m,\u001b[0m\u001b[0;36m1\u001b[0m\u001b[0;34m]\u001b[0m\u001b[0;34m)\u001b[0m\u001b[0;34m\u001b[0m\u001b[0;34m\u001b[0m\u001b[0m\n\u001b[0;32m----> 6\u001b[0;31m \u001b[0mans1\u001b[0m\u001b[0;34m[\u001b[0m\u001b[0;36m0\u001b[0m\u001b[0;34m]\u001b[0m\u001b[0;34m.\u001b[0m\u001b[0msort\u001b[0m\u001b[0;34m(\u001b[0m\u001b[0;34m)\u001b[0m\u001b[0;34m\u001b[0m\u001b[0;34m\u001b[0m\u001b[0m\n\u001b[0m\u001b[1;32m      7\u001b[0m \u001b[0;34m\u001b[0m\u001b[0m\n\u001b[1;32m      8\u001b[0m \u001b[0mexpect\u001b[0m\u001b[0;34m(\u001b[0m\u001b[0mrep1\u001b[0m\u001b[0;34m[\u001b[0m\u001b[0;36m0\u001b[0m\u001b[0;34m]\u001b[0m\u001b[0;34m)\u001b[0m\u001b[0;34m.\u001b[0m\u001b[0mto\u001b[0m\u001b[0;34m(\u001b[0m\u001b[0mequal\u001b[0m\u001b[0;34m(\u001b[0m\u001b[0;34m[\u001b[0m\u001b[0;36m1\u001b[0m\u001b[0;34m,\u001b[0m \u001b[0;36m6\u001b[0m\u001b[0;34m,\u001b[0m \u001b[0;36m13\u001b[0m\u001b[0;34m,\u001b[0m \u001b[0;36m15\u001b[0m\u001b[0;34m,\u001b[0m \u001b[0;36m67\u001b[0m\u001b[0;34m]\u001b[0m\u001b[0;34m)\u001b[0m\u001b[0;34m)\u001b[0m\u001b[0;34m\u001b[0m\u001b[0;34m\u001b[0m\u001b[0m\n",
      "\u001b[0;31mTypeError\u001b[0m: 'NoneType' object is not subscriptable"
     ]
    }
   ],
   "source": [
    "def unique_elements(input_list):\n",
    "    pass\n",
    "\n",
    "\n",
    "ans1 = unique_elements([6,13,15,13,67,1,1,1,1])\n",
    "ans1[0].sort()\n",
    "\n",
    "expect(rep1[0]).to(equal([1, 6, 13, 15, 67]))\n",
    "expect(rep1[1]).to(equal(5/9))\n"
   ]
  },
  {
   "cell_type": "markdown",
   "metadata": {
    "pycharm": {
     "is_executing": false,
     "name": "#%% md\n"
    }
   },
   "source": [
    "## Paramètres et paramètres par défaut\n",
    "> Il existe deux types de paramètres en Python, les paramètres optionnels et les paramètres obligatoires."
   ]
  },
  {
   "cell_type": "code",
   "execution_count": null,
   "metadata": {
    "collapsed": false,
    "jupyter": {
     "outputs_hidden": false
    },
    "pycharm": {
     "name": "#%% \n"
    }
   },
   "outputs": [],
   "source": [
    "def ma_fonction(obligatoire, optionnel=\"Salut\"):\n",
    "    print(\"mes paramètres sont {} et {}\".format(obligatoire, optionnel))\n",
    "\n",
    "# appel normal à ma fonction\n",
    "ma_fonction('bonjour bonjour')\n",
    "\n",
    "# erreur puisque le paramètre obligatoire n'a pas été entré\n",
    "try:\n",
    "    ma_fonction()\n",
    "except Exception as e:\n",
    "    print(str(e))\n",
    "\n",
    "# appelé la fonction avec une valeur sur son paramètre optionnel\n",
    "ma_fonction(\"bonjour\", \"hi\")\n",
    "\n",
    "# nous pouvons changé l'ordre des paramètres appelés sans problèmes\n",
    "ma_fonction(optionnel=\"White\", obligatoire=\"Stripes\")"
   ]
  },
  {
   "cell_type": "markdown",
   "metadata": {
    "pycharm": {
     "name": "#%% md\n"
    }
   },
   "source": [
    "> En lisant du code python, vous allez fréquemment tomber sur les mots-clés \"args\" et \"kwargs\" souvent spécifiés de \n",
    "la manière suivante.\n",
    "```\n",
    "def ma_fonction(*args, **kwargs):\n",
    "    mon_corps\n",
    "```\n",
    "> Args est un diminutif pour \"Arguments\" tandis que kwargs est un diminutif pour \"Keywords arguments\". Args est utilisé \n",
    "pour l'équivalent des arguments obligatoires tandis que kwargs est utilisé pour l'équivalent des keywords optionnels. Je\n",
    "dis l'équivalent puisque tous args sont totalement optionnels également, mais ses arguments ont la forme des arguments\n",
    "obligatoires vus précédemment dans le sens qu'il non pas la forme (key=value).Dans le fond, args et kwargs\n",
    "sont utilisés afin d'avoir des fonctions plus polyvalentes qui prennent virtuellement n'importe quoi comme entrant. \n"
   ]
  },
  {
   "cell_type": "code",
   "execution_count": 9,
   "metadata": {
    "collapsed": false,
    "jupyter": {
     "outputs_hidden": false
    },
    "pycharm": {
     "is_executing": false,
     "name": "#%% \n"
    }
   },
   "outputs": [
    {
     "name": "stdout",
     "output_type": "stream",
     "text": [
      "argument simple #0: salut\n",
      "argument simple #1: 9\n",
      "argument simple #2: True\n",
      "nom du paramètre: jack, valeur du paramètre: Huncho\n",
      "nom du paramètre: mon_statut, valeur du paramètre: 12\n"
     ]
    }
   ],
   "source": [
    "def my_new_function(*args, **kwargs):\n",
    "    for i, arg in enumerate(args):\n",
    "        print(\"argument simple #{}: {}\".format(i, arg))\n",
    "        \n",
    "    for key, value in kwargs.items():\n",
    "        print(\"nom du paramètre: {}, valeur du paramètre: {}\".format(key, value))\n",
    "\n",
    "my_new_function('salut', 9, True, jack=\"Huncho\", mon_statut=12)\n"
   ]
  },
  {
   "cell_type": "markdown",
   "metadata": {
    "pycharm": {
     "name": "#%% md\n"
    }
   },
   "source": [
    "> À noter que les arguments optionnels sont appelés des \"keywords arguments\" et que les arguments obligatoires sont\n",
    "appelés des \"positional arguments\" en anglais. Il faut également toujours écrire nos \"positional arguments\" avant\n",
    "nos \"keyword arguments\"."
   ]
  },
  {
   "cell_type": "code",
   "execution_count": 12,
   "metadata": {
    "collapsed": false,
    "jupyter": {
     "outputs_hidden": false
    },
    "pycharm": {
     "is_executing": false,
     "name": "#%%\n"
    }
   },
   "outputs": [
    {
     "ename": "SyntaxError",
     "evalue": "positional argument follows keyword argument (<ipython-input-12-4af83d8f2478>, line 2)",
     "output_type": "error",
     "traceback": [
      "\u001b[1;36m  File \u001b[1;32m\"<ipython-input-12-4af83d8f2478>\"\u001b[1;36m, line \u001b[1;32m2\u001b[0m\n\u001b[1;33m    my_new_function(mon_statut=\"très bien\", 9, 12, [], \"salut\")\u001b[0m\n\u001b[1;37m                                                 ^\u001b[0m\n\u001b[1;31mSyntaxError\u001b[0m\u001b[1;31m:\u001b[0m positional argument follows keyword argument\n"
     ]
    }
   ],
   "source": [
    "try:\n",
    "    my_new_function(mon_statut=\"très bien\", 9, 12, [], \"salut\")\n",
    "except SyntaxError as e:\n",
    "    print(str(e))"
   ]
  },
  {
   "cell_type": "code",
   "execution_count": 16,
   "metadata": {
    "collapsed": false,
    "jupyter": {
     "outputs_hidden": false
    },
    "pycharm": {
     "is_executing": false,
     "name": "#%%\n"
    }
   },
   "outputs": [
    {
     "name": "stdout",
     "output_type": "stream",
     "text": [
      "a : aaaaaaaaa\n",
      "b: bbbbbbbbbbbb\n",
      "c: cccccccc\n",
      "args: ('dddddddddd', 'eeeeeeeeee')\n",
      "kwargs: {'f': 'ff', 'g': 'gg'}\n"
     ]
    }
   ],
   "source": [
    "def fonction_utile(a, b, c=12, *args, **kwargs):\n",
    "    print(\"a : {}\".format(a))\n",
    "    print(\"b: {}\".format(b))\n",
    "    print(\"c: {}\".format(c))\n",
    "    print(\"args: {}\".format(args))\n",
    "    print(\"kwargs: {}\".format(kwargs))\n",
    "\n",
    "fonction_utile(\"aaaaaaaaa\", \"bbbbbbbbbbbb\", \"cccccccc\", \"dddddddddd\", \"eeeeeeeeee\", f=\"ff\", g=\"gg\")"
   ]
  },
  {
   "cell_type": "markdown",
   "metadata": {
    "pycharm": {
     "is_executing": false,
     "name": "#%% md\n"
    }
   },
   "source": [
    "## Docstrings\n",
    "> C'est connu que lire du code est souvent plus difficile qu'en écrire. Éventuellement, votre code sera lu par autrui et\n",
    "éventuellement créer un impact réel. Essayer de rendre la vie des lecteurs aussi simple que possible. Le premier truc\n",
    "est d'écrire de longs et détaillés noms pour vos variables. Le second est de réduire son nombre de commentaires et d'utiliser\n",
    "des ```docstrings``` comme description de ses fonctions à la place.  \n",
    "> Donc les docstrings sont utilisés afin de décrire la logique et l'utilité d'une fonction. Les docstrings résument également\n",
    "les paramètres ainsi que les valeurs de retour de la fonction en question. Ensuite, vous pouvez utiliser la fonction\n",
    "```help()``` afin de retrouver la doctstring d'une fonction. Vous pouvez utiliser les docstrings afin de générer un\n",
    "readthedocs en utilisant sphynx. Le lien suivant est un exemple de documentation générer à partir de docstrings.  \n",
    " https://lifelines.readthedocs.io/en/latest/\n",
    " "
   ]
  },
  {
   "cell_type": "code",
   "execution_count": null,
   "metadata": {
    "collapsed": false,
    "jupyter": {
     "outputs_hidden": false
    },
    "pycharm": {
     "name": "#%%\n"
    }
   },
   "outputs": [],
   "source": [
    "import math\n",
    "help(math.sqrt)\n",
    "\n",
    "help(abs)\n",
    "\n",
    "help(pow)\n"
   ]
  },
  {
   "cell_type": "markdown",
   "metadata": {
    "pycharm": {
     "name": "#%% md\n"
    }
   },
   "source": [
    "> Les docstrings sont spécifiés par des longues strings suivant une signature de fonction.\n"
   ]
  },
  {
   "cell_type": "code",
   "execution_count": null,
   "metadata": {
    "collapsed": false,
    "jupyter": {
     "outputs_hidden": false
    },
    "pycharm": {
     "name": "#%%\n"
    }
   },
   "outputs": [],
   "source": [
    "def ma_fonction_complexe(liste_dentrants, limite):\n",
    "    \"\"\"\n",
    "    Cette fonction additione les éléments de la liste d'entrants inférieurs à la limite \n",
    "    :param liste_dentrants: la liste à additioner, doit être une liste de nombres!\n",
    "    :param limite: limite pour additioner les éléments de la liste d'entrants.\n",
    "    :return: la somme des éléments de la liste d'entrants.\n",
    "    \"\"\"    \n",
    "    _sum = 0\n",
    "    for element in liste_dentrants:\n",
    "        if element < limite:\n",
    "            _sum += element\n",
    "    return _sum\n",
    "\n",
    "ma_fonction_complexe([1,2,3,5,6], limite=6)\n",
    "\n",
    "help(ma_fonction_complexe)"
   ]
  },
  {
   "cell_type": "markdown",
   "metadata": {},
   "source": [
    "### Exercice !\n",
    "> Compléter la fonction suivante avec les instructions de la docstring. INDICE: Python a une fonction `round`"
   ]
  },
  {
   "cell_type": "code",
   "execution_count": 4,
   "metadata": {
    "collapsed": false,
    "jupyter": {
     "outputs_hidden": false
    },
    "pycharm": {
     "name": "#%%\n"
    }
   },
   "outputs": [
    {
     "ename": "AssertionError",
     "evalue": "\nexpected: None to equal 3.14",
     "output_type": "error",
     "traceback": [
      "\u001b[0;31m---------------------------------------------------------------------------\u001b[0m",
      "\u001b[0;31mAssertionError\u001b[0m                            Traceback (most recent call last)",
      "\u001b[0;32m<ipython-input-4-a04f67758804>\u001b[0m in \u001b[0;36m<module>\u001b[0;34m\u001b[0m\n\u001b[1;32m      8\u001b[0m     \u001b[0;32mpass\u001b[0m\u001b[0;34m\u001b[0m\u001b[0;34m\u001b[0m\u001b[0m\n\u001b[1;32m      9\u001b[0m \u001b[0;34m\u001b[0m\u001b[0m\n\u001b[0;32m---> 10\u001b[0;31m \u001b[0mexpect\u001b[0m\u001b[0;34m(\u001b[0m\u001b[0marrondir_a_deux_decimals\u001b[0m\u001b[0;34m(\u001b[0m\u001b[0;36m3.14159\u001b[0m\u001b[0;34m)\u001b[0m\u001b[0;34m)\u001b[0m\u001b[0;34m.\u001b[0m\u001b[0mto\u001b[0m\u001b[0;34m(\u001b[0m\u001b[0mequal\u001b[0m\u001b[0;34m(\u001b[0m\u001b[0;36m3.14\u001b[0m\u001b[0;34m)\u001b[0m\u001b[0;34m)\u001b[0m\u001b[0;34m\u001b[0m\u001b[0;34m\u001b[0m\u001b[0m\n\u001b[0m\u001b[1;32m     11\u001b[0m \u001b[0mexpect\u001b[0m\u001b[0;34m(\u001b[0m\u001b[0marrondir_a_deux_decimals\u001b[0m\u001b[0;34m(\u001b[0m\u001b[0;36m0\u001b[0m\u001b[0;34m)\u001b[0m\u001b[0;34m)\u001b[0m\u001b[0;34m.\u001b[0m\u001b[0mto\u001b[0m\u001b[0;34m(\u001b[0m\u001b[0mequal\u001b[0m\u001b[0;34m(\u001b[0m\u001b[0;36m0\u001b[0m\u001b[0;34m)\u001b[0m\u001b[0;34m)\u001b[0m\u001b[0;34m\u001b[0m\u001b[0;34m\u001b[0m\u001b[0m\n\u001b[1;32m     12\u001b[0m \u001b[0mexpect\u001b[0m\u001b[0;34m(\u001b[0m\u001b[0marrondir_a_deux_decimals\u001b[0m\u001b[0;34m(\u001b[0m\u001b[0;34m-\u001b[0m\u001b[0;36m99999.99999\u001b[0m\u001b[0;34m)\u001b[0m\u001b[0;34m)\u001b[0m\u001b[0;34m.\u001b[0m\u001b[0mto\u001b[0m\u001b[0;34m(\u001b[0m\u001b[0mequal\u001b[0m\u001b[0;34m(\u001b[0m\u001b[0;34m-\u001b[0m\u001b[0;36m100000.0\u001b[0m\u001b[0;34m)\u001b[0m\u001b[0;34m)\u001b[0m\u001b[0;34m\u001b[0m\u001b[0;34m\u001b[0m\u001b[0m\n",
      "\u001b[0;32m~/anaconda3/lib/python3.7/site-packages/expects/expectations.py\u001b[0m in \u001b[0;36mto\u001b[0;34m(self, matcher)\u001b[0m\n\u001b[1;32m     23\u001b[0m         \u001b[0m__tracebackhide__\u001b[0m \u001b[0;34m=\u001b[0m \u001b[0;32mTrue\u001b[0m\u001b[0;34m\u001b[0m\u001b[0;34m\u001b[0m\u001b[0m\n\u001b[1;32m     24\u001b[0m \u001b[0;34m\u001b[0m\u001b[0m\n\u001b[0;32m---> 25\u001b[0;31m         \u001b[0mself\u001b[0m\u001b[0;34m.\u001b[0m\u001b[0m_assert\u001b[0m\u001b[0;34m(\u001b[0m\u001b[0mmatcher\u001b[0m\u001b[0;34m)\u001b[0m\u001b[0;34m\u001b[0m\u001b[0;34m\u001b[0m\u001b[0m\n\u001b[0m\u001b[1;32m     26\u001b[0m \u001b[0;34m\u001b[0m\u001b[0m\n\u001b[1;32m     27\u001b[0m     \u001b[0;32mdef\u001b[0m \u001b[0m_assert\u001b[0m\u001b[0;34m(\u001b[0m\u001b[0mself\u001b[0m\u001b[0;34m,\u001b[0m \u001b[0mmatcher\u001b[0m\u001b[0;34m)\u001b[0m\u001b[0;34m:\u001b[0m\u001b[0;34m\u001b[0m\u001b[0;34m\u001b[0m\u001b[0m\n",
      "\u001b[0;32m~/anaconda3/lib/python3.7/site-packages/expects/expectations.py\u001b[0m in \u001b[0;36m_assert\u001b[0;34m(self, matcher)\u001b[0m\n\u001b[1;32m     31\u001b[0m \u001b[0;34m\u001b[0m\u001b[0m\n\u001b[1;32m     32\u001b[0m         \u001b[0;32mif\u001b[0m \u001b[0;32mnot\u001b[0m \u001b[0mok\u001b[0m\u001b[0;34m:\u001b[0m\u001b[0;34m\u001b[0m\u001b[0;34m\u001b[0m\u001b[0m\n\u001b[0;32m---> 33\u001b[0;31m             \u001b[0;32mraise\u001b[0m \u001b[0mAssertionError\u001b[0m\u001b[0;34m(\u001b[0m\u001b[0mself\u001b[0m\u001b[0;34m.\u001b[0m\u001b[0m_failure_message\u001b[0m\u001b[0;34m(\u001b[0m\u001b[0mmatcher\u001b[0m\u001b[0;34m,\u001b[0m \u001b[0mreasons\u001b[0m\u001b[0;34m)\u001b[0m\u001b[0;34m)\u001b[0m\u001b[0;34m\u001b[0m\u001b[0;34m\u001b[0m\u001b[0m\n\u001b[0m\u001b[1;32m     34\u001b[0m \u001b[0;34m\u001b[0m\u001b[0m\n\u001b[1;32m     35\u001b[0m     \u001b[0;32mdef\u001b[0m \u001b[0m_match\u001b[0m\u001b[0;34m(\u001b[0m\u001b[0mself\u001b[0m\u001b[0;34m,\u001b[0m \u001b[0mmatcher\u001b[0m\u001b[0;34m)\u001b[0m\u001b[0;34m:\u001b[0m\u001b[0;34m\u001b[0m\u001b[0;34m\u001b[0m\u001b[0m\n",
      "\u001b[0;31mAssertionError\u001b[0m: \nexpected: None to equal 3.14"
     ]
    }
   ],
   "source": [
    "def arrondir_a_deux_decimals(num):\n",
    "    \"\"\"Retourne le nombre arrondi à deux décimals près. \n",
    "    \n",
    "    >>> arrondir_a_deux_decimals(3.14159)\n",
    "    3.14\n",
    "    \"\"\"\n",
    "    # Remplacer le cors de la fonction avec votre propre code\n",
    "    pass\n",
    "\n",
    "expect(arrondir_a_deux_decimals(3.14159)).to(equal(3.14))\n",
    "expect(arrondir_a_deux_decimals(0)).to(equal(0))\n",
    "expect(arrondir_a_deux_decimals(-99999.99999)).to(equal(-100000.0))\n"
   ]
  },
  {
   "cell_type": "markdown",
   "metadata": {},
   "source": [
    "## Scopes global et local\n",
    "> Entrons dans un sujet un peu plus technique en parlant brièvement des scopes en Python. Cette section pourrait vous\n",
    "sauver beaucoup de temps lorsque vous allez debbuger votre code dans le futur alors porter attention!  \n",
    "> Commençons en définissant et en comprenant les scopes. Un scope est essentiellement un objet de la forme d'un dictionnaire \n",
    "contenant les variables ainsi que leur valeur pour une section de code.\n"
   ]
  },
  {
   "cell_type": "code",
   "execution_count": null,
   "metadata": {
    "collapsed": false,
    "jupyter": {
     "outputs_hidden": false
    },
    "pycharm": {
     "name": "#%%\n"
    }
   },
   "outputs": [],
   "source": [
    "x = 99\n",
    "y = 88\n",
    "\n",
    "def dummy_fct():\n",
    "    x = \"Valeur totalement différente\"\n",
    "    y = \"Une autre valeur complètement différente\"\n",
    "    print(\"local variables (local scope) est {}\".format(locals()))\n",
    "\n",
    "dummy_fct()\n",
    "\n",
    "# print only interesting variables from the global scope\n",
    "print('valeur global de x: {}, valeur global de y: {}'.format(globals()['x'], globals()['y']))\n"
   ]
  },
  {
   "cell_type": "markdown",
   "metadata": {},
   "source": [
    "> Prenez conscience que le scope local prend précédence sur le scope global. Maintenant, définissons une variable globale\n",
    "qui sera modifiée dans le corps d'une fonction.\n"
   ]
  },
  {
   "cell_type": "code",
   "execution_count": null,
   "metadata": {
    "collapsed": false,
    "jupyter": {
     "outputs_hidden": false
    },
    "pycharm": {
     "name": "#%%\n"
    }
   },
   "outputs": [],
   "source": [
    "dummy_var = 99\n",
    "\n",
    "def modifier_dummy_var():\n",
    "    dummy_var = -2\n",
    "    \n",
    "modifier_dummy_var()\n",
    "dummy_var\n",
    "    "
   ]
  },
  {
   "cell_type": "markdown",
   "metadata": {},
   "source": [
    "> Alors, pourquoi est-ce que la valeur de dummy_var est-elle encore de 99 après que que l'on ait supposément modifié? \n",
    "La raison est qu'on a en fait défini une dummy_var locale au lieu de modifier la dummy_var globale. Et voilà:\n"
   ]
  },
  {
   "cell_type": "code",
   "execution_count": null,
   "metadata": {
    "collapsed": false,
    "jupyter": {
     "outputs_hidden": false
    },
    "pycharm": {
     "name": "#%%\n"
    }
   },
   "outputs": [],
   "source": [
    "dummy_var = 99\n",
    "\n",
    "def modifier_dummy_var():\n",
    "    dummy_var = -2\n",
    "    print(locals())\n",
    "    print(\"dummy var dans globals: {}\".format(globals()['dummy_var']))\n",
    "    \n",
    "modifier_dummy_var()"
   ]
  },
  {
   "cell_type": "markdown",
   "metadata": {
    "pycharm": {
     "name": "#%% md\n"
    }
   },
   "source": [
    "> Voilà! Nous pouvons manipuler les variables globales dans nos fonctions, mais garder en tête que ce n'est génerallement\n",
    "pas  considéré de la bonne pratique de le faire en Python... \n",
    ">\n",
    "### Exercice !\n",
    "> Qu'imprime le code suivant?\n",
    "```\n",
    "a_var = 'global variable'\n",
    "def a_func():\n",
    "    print(a_var, '[ a_var inside a_func() ]')\n",
    "a_func()\n",
    "print(a_var, '[ a_var outside a_func() ]')\n",
    "```\n",
    "> La solution est dans le solutionnaire.\n"
   ]
  }
 ],
 "metadata": {
  "kernelspec": {
   "display_name": "Python 3",
   "language": "python",
   "name": "python3"
  },
  "language_info": {
   "codemirror_mode": {
    "name": "ipython",
    "version": 3
   },
   "file_extension": ".py",
   "mimetype": "text/x-python",
   "name": "python",
   "nbconvert_exporter": "python",
   "pygments_lexer": "ipython3",
   "version": "3.7.6"
  },
  "pycharm": {
   "stem_cell": {
    "cell_type": "raw",
    "metadata": {
     "collapsed": false
    },
    "source": []
   }
  }
 },
 "nbformat": 4,
 "nbformat_minor": 4
}
