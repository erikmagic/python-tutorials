{
 "cells": [
  {
   "cell_type": "markdown",
   "source": [
    "### Exercice!\n",
    "> Écrivez une fonction qui calcule la valeur absolue de quelconque nombre.\n"
   ],
   "metadata": {
    "collapsed": false
   }
  },
  {
   "cell_type": "code",
   "execution_count": 1,
   "outputs": [],
   "source": [
    "import random\n",
    "\n",
    "def mon_abs(nomb):\n",
    "    if nomb < 0:\n",
    "        return nomb * -1\n",
    "    return nomb\n",
    "\n",
    "# generate 20 random numbers from -100 to 100\n",
    "test_nombres = random.sample(range(-100, 100), 20)\n",
    "\n",
    "for nombre_aleatoire in test_nombres:\n",
    "    assert mon_abs(nombre_aleatoire) == abs(nombre_aleatoire)"
   ],
   "metadata": {
    "collapsed": false,
    "pycharm": {
     "name": "#%%\n",
     "is_executing": false
    }
   }
  },
  {
   "cell_type": "markdown",
   "source": [
    "### Exercice !\n",
    "> Écrivez une fonction qui prend une liste en entrée et retourne une nouvelle liste avec les éléments uniques de la \n",
    "première liste ainsi que la proportion des éléments uniques de la première liste sur les éléments totaux de la \n",
    "première liste.\n"
   ],
   "metadata": {
    "collapsed": false
   }
  },
  {
   "cell_type": "code",
   "execution_count": null,
   "outputs": [],
   "source": [
    "def unique_elements(liste_entrants):\n",
    "    uniques = []\n",
    "    for el in liste_entrants:\n",
    "        if el not in uniques:\n",
    "            uniques.append(el)\n",
    "    return uniques, len(uniques) / len(liste_entrants)\n",
    "\n",
    "\n",
    "rep1 = unique_elements([6,13,15,13,67,1,1,1,1])\n",
    "rep1[0].sort()\n",
    "assert rep1[0] == [1, 6, 13, 15, 67] \n",
    "assert rep1[1] == 5/9\n"
   ],
   "metadata": {
    "collapsed": false,
    "pycharm": {
     "name": "#%%\n"
    }
   }
  },
  {
   "cell_type": "markdown",
   "source": [
    "### Exercice !\n",
    "> Compléter le corps de la fonction suivante en fonction des instructions dans sa dosctring. INDICE: Python à une \n",
    "fonction `round`.\n"
   ],
   "metadata": {
    "collapsed": false
   }
  },
  {
   "cell_type": "code",
   "execution_count": null,
   "outputs": [],
   "source": [
    "def arrondir_a_deux_decimals(num):\n",
    "    \"\"\"Retourner le num arrondi à deux décimals\n",
    "    \n",
    "    >>> arrondir_a_deux_decimals(3.14159)\n",
    "    3.14\n",
    "    \"\"\"\n",
    "    return round(num, 2)\n",
    "    \n",
    "assert arrondir_a_deux_decimals(3.14159) == 3.14\n",
    "assert arrondir_a_deux_decimals(0) == 0 \n",
    "assert arrondir_a_deux_decimals(-99999.99999) == -100000.0\n"
   ],
   "metadata": {
    "collapsed": false,
    "pycharm": {
     "name": "#%%\n"
    }
   }
  },
  {
   "cell_type": "markdown",
   "source": [
    "### Exercice!\n",
    "> Qu'es que le code suivant imprime?\n",
    "```\n",
    "a_var = 'global variable'\n",
    "def a_func():\n",
    "    print(a_var, '[ a_var inside a_func() ]')\n",
    "a_func()\n",
    "print(a_var, '[ a_var outside a_func() ]')\n",
    "```\n",
    "\n",
    "Réponse: \n",
    "global value [ a_var inside a_func() ]  \n",
    "global value [ a_var outside a_func() ]\n",
    "\n",
    "Puisque nous appelons a_func() en premier, cette fonction est supposée imrpimer la valeur de a_var. Puisque a_var\n",
    "n'est pas localement définie, l'interpréteur regarde un scope en haut (le global scope) et imprime la valeur globale\n",
    "de a_var. Ensuite, le deuxième print statement affiche évidemment la valeur globale de a_var. \n"
   ],
   "metadata": {
    "collapsed": false
   }
  }
 ],
 "metadata": {
  "language_info": {
   "codemirror_mode": {
    "name": "ipython",
    "version": 2
   },
   "file_extension": ".py",
   "mimetype": "text/x-python",
   "name": "python",
   "nbconvert_exporter": "python",
   "pygments_lexer": "ipython2",
   "version": "2.7.6"
  },
  "kernelspec": {
   "name": "python3",
   "language": "python",
   "display_name": "Python 3"
  },
  "pycharm": {
   "stem_cell": {
    "cell_type": "raw",
    "source": [],
    "metadata": {
     "collapsed": false
    }
   }
  }
 },
 "nbformat": 4,
 "nbformat_minor": 0
}