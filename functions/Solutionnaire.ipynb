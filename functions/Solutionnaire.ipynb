{
 "cells": [
  {
   "cell_type": "markdown",
   "metadata": {},
   "source": [
    "### Exercice!\n",
    "> Écrivez une fonction qui calcule la valeur absolue de quelconque nombre.\n"
   ]
  },
  {
   "cell_type": "code",
   "execution_count": 1,
   "metadata": {
    "collapsed": false,
    "jupyter": {
     "outputs_hidden": false
    },
    "pycharm": {
     "is_executing": false,
     "name": "#%%\n"
    }
   },
   "outputs": [],
   "source": [
    "import random\n",
    "from expects import expect, equal\n",
    "\n",
    "def mon_abs(nomb):\n",
    "    if nomb < 0:\n",
    "        return nomb * -1\n",
    "    return nomb\n",
    "\n",
    "# generate 20 random numbers from -100 to 100\n",
    "test_nombres = random.sample(range(-100, 100), 20)\n",
    "\n",
    "\n",
    "expect\n",
    "for nombre_aleatoire in test_nombres:\n",
    "    expect(mon_abs(nombre_aleatoire)).to(equal(abs(nombre_aleatoire)))"
   ]
  },
  {
   "cell_type": "markdown",
   "metadata": {},
   "source": [
    "### Exercice !\n",
    "> Écrivez une fonction qui prend une liste en entrée et retourne une nouvelle liste avec les éléments uniques de la \n",
    "première liste ainsi que la proportion des éléments uniques de la première liste sur les éléments totaux de la \n",
    "première liste.\n"
   ]
  },
  {
   "cell_type": "code",
   "execution_count": 3,
   "metadata": {
    "collapsed": false,
    "jupyter": {
     "outputs_hidden": false
    },
    "pycharm": {
     "name": "#%%\n"
    }
   },
   "outputs": [],
   "source": [
    "def unique_elements(liste_entrants):\n",
    "    uniques = []\n",
    "    for el in liste_entrants:\n",
    "        if el not in uniques:\n",
    "            uniques.append(el)\n",
    "    return uniques, len(uniques) / len(liste_entrants)\n",
    "\n",
    "\n",
    "rep1 = unique_elements([6,13,15,13,67,1,1,1,1])\n",
    "rep1[0].sort()\n",
    "\n",
    "expect(rep1[0]).to(equal([1, 6, 13, 15, 67]))\n",
    "expect(rep1[1]).to(equal(5/9))\n"
   ]
  },
  {
   "cell_type": "markdown",
   "metadata": {},
   "source": [
    "### Exercice !\n",
    "> Compléter le corps de la fonction suivante en fonction des instructions dans sa dosctring. INDICE: Python à une \n",
    "fonction `round`.\n"
   ]
  },
  {
   "cell_type": "code",
   "execution_count": 5,
   "metadata": {
    "collapsed": false,
    "jupyter": {
     "outputs_hidden": false
    },
    "pycharm": {
     "name": "#%%\n"
    }
   },
   "outputs": [],
   "source": [
    "def arrondir_a_deux_decimals(num):\n",
    "    \"\"\"Retourner le num arrondi à deux décimals\n",
    "    \n",
    "    >>> arrondir_a_deux_decimals(3.14159)\n",
    "    3.14\n",
    "    \"\"\"\n",
    "    return round(num, 2)\n",
    "\n",
    "expect(arrondir_a_deux_decimals(3.14159)).to(equal(3.14))\n",
    "expect(arrondir_a_deux_decimals(0))rep1.to(equal(0))\n",
    "expect(arrondir_a_deux_decimals(-99999.99999)).to(equal(-100000.0))\n"
   ]
  },
  {
   "cell_type": "markdown",
   "metadata": {},
   "source": [
    "### Exercice!\n",
    "> Qu'es que le code suivant imprime?\n",
    "```\n",
    "a_var = 'global variable'\n",
    "def a_func():\n",
    "    print(a_var, '[ a_var inside a_func() ]')\n",
    "a_func()\n",
    "print(a_var, '[ a_var outside a_func() ]')\n",
    "```\n",
    "\n",
    "Réponse: \n",
    "global value [ a_var inside a_func() ]  \n",
    "global value [ a_var outside a_func() ]\n",
    "\n",
    "Puisque nous appelons a_func() en premier, cette fonction est supposée imrpimer la valeur de a_var. Puisque a_var\n",
    "n'est pas localement définie, l'interpréteur regarde un scope en haut (le global scope) et imprime la valeur globale\n",
    "de a_var. Ensuite, le deuxième print statement affiche évidemment la valeur globale de a_var. \n"
   ]
  }
 ],
 "metadata": {
  "kernelspec": {
   "display_name": "Python 3",
   "language": "python",
   "name": "python3"
  },
  "language_info": {
   "codemirror_mode": {
    "name": "ipython",
    "version": 3
   },
   "file_extension": ".py",
   "mimetype": "text/x-python",
   "name": "python",
   "nbconvert_exporter": "python",
   "pygments_lexer": "ipython3",
   "version": "3.7.6"
  },
  "pycharm": {
   "stem_cell": {
    "cell_type": "raw",
    "metadata": {
     "collapsed": false
    },
    "source": []
   }
  }
 },
 "nbformat": 4,
 "nbformat_minor": 4
}
