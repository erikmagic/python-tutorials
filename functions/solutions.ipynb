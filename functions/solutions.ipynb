{
 "cells": [
  {
   "cell_type": "markdown",
   "metadata": {
    "pycharm": {
     "name": "#%% md\n"
    }
   },
   "source": [
    "### Exercise!\n",
    "> Write a function that computes the absolute value of any number."
   ]
  },
  {
   "cell_type": "code",
   "execution_count": 3,
   "metadata": {
    "collapsed": false,
    "jupyter": {
     "outputs_hidden": false
    },
    "pycharm": {
     "name": "#%%\n"
    }
   },
   "outputs": [],
   "source": [
    "import random\n",
    "from expects import expect, equal\n",
    "\n",
    "def my_abs(input_number):\n",
    "    if input_number < 0:\n",
    "        return input_number * -1\n",
    "    return  input_number\n",
    "\n",
    "# generate 20 random numbers from -100 to 100\n",
    "test_numbers = random.sample(range(-100, 100), 20)\n",
    "\n",
    "for random_number in test_numbers:\n",
    "    expect(my_abs(random_number)).to(equal(abs(random_number)))"
   ]
  },
  {
   "cell_type": "markdown",
   "metadata": {},
   "source": [
    "### Exercise !\n",
    "> Write a Python function that takes a list and returns a new list with unique elements of the first list as well as \n",
    ">the proportion of unique elements that were found in the input list over the number of elements of the input list.\n"
   ]
  },
  {
   "cell_type": "code",
   "execution_count": 5,
   "metadata": {
    "collapsed": false,
    "jupyter": {
     "outputs_hidden": false
    },
    "pycharm": {
     "name": "#%%\n"
    }
   },
   "outputs": [],
   "source": [
    "def unique_elements(input_list):\n",
    "    uniques = []\n",
    "    for el in input_list:\n",
    "        if el not in uniques:\n",
    "            uniques.append(el)\n",
    "    return uniques, len(uniques) / len(input_list)\n",
    "\n",
    "\n",
    "ans1 = unique_elements([6,13,15,13,67,1,1,1,1])\n",
    "ans1[0].sort()\n",
    "\n",
    "expect(ans1[0]).to(equal([1, 6, 13, 15, 67]))\n",
    "expect(ans1[1]).to(equal(5/9))\n"
   ]
  },
  {
   "cell_type": "markdown",
   "metadata": {},
   "source": [
    "### Exercise!\n",
    "> Complete the body of the following function according to its docstring. HINT: Python has a builtin function `round`\n"
   ]
  },
  {
   "cell_type": "code",
   "execution_count": 7,
   "metadata": {
    "collapsed": false,
    "jupyter": {
     "outputs_hidden": false
    },
    "pycharm": {
     "name": "#%%\n"
    }
   },
   "outputs": [],
   "source": [
    "def round_to_two_places(num):\n",
    "    \"\"\"Return the given number rounded to two decimal places. \n",
    "    \n",
    "    >>> round_to_two_places(3.14159)\n",
    "    3.14\n",
    "    \"\"\"\n",
    "    return round(num, 2)\n",
    "    \n",
    "\n",
    "expect(round_to_two_places(3.14159)).to(equal(3.14))\n",
    "expect(round_to_two_places(0)).to(equal(0))\n",
    "expect(round_to_two_places(-99999.99999)).to(equal(-100000.0))\n"
   ]
  },
  {
   "cell_type": "markdown",
   "metadata": {
    "pycharm": {
     "name": "#%% md\n"
    }
   },
   "source": [
    "### Exercise!\n",
    "> What does the following code print?\n",
    "```\n",
    "a_var = 'global variable'\n",
    "def a_func():\n",
    "    print(a_var, '[ a_var inside a_func() ]')\n",
    "a_func()\n",
    "print(a_var, '[ a_var outside a_func() ]')\n",
    "```\n",
    "> See the solution in the answer sheet.\n",
    "\n",
    "Answer: global value [ a_var inside a_func() ]  \n",
    "global value [ a_var outside a_func() ]\n",
    "\n",
    "Because we call a_func() first, which is supposed to print the value of a_var. Now, a_var is not locally defined, so \n",
    "it looks up one level up and prints the global value of a_var. Then, the second print obviously prints the global \n",
    "value of a_var"
   ]
  }
 ],
 "metadata": {
  "kernelspec": {
   "display_name": "Python 3",
   "language": "python",
   "name": "python3"
  },
  "language_info": {
   "codemirror_mode": {
    "name": "ipython",
    "version": 3
   },
   "file_extension": ".py",
   "mimetype": "text/x-python",
   "name": "python",
   "nbconvert_exporter": "python",
   "pygments_lexer": "ipython3",
   "version": "3.7.6"
  },
  "pycharm": {
   "stem_cell": {
    "cell_type": "raw",
    "metadata": {
     "collapsed": false
    },
    "source": []
   }
  }
 },
 "nbformat": 4,
 "nbformat_minor": 4
}
