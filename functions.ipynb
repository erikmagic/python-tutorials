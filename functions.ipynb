{
 "cells": [
  {
   "cell_type": "markdown",
   "source": [
    "#  Functions in Python\n",
    "## Introduction\n",
    "\n",
    "> Functions are a very important part of Python. We can use them to create general, configurable and repeatable pieces\n",
    ">of code. In this tutorial, we will explore the syntax and the features of Python's functions. We will also learn how\n",
    ">to use them and what are good practices associated to Python functions. In previous tutorials, we already saw few\n",
    ">functions like ```print(), len() ...   ```"
   ],
   "metadata": {
    "collapsed": false
   }
  },
  {
   "cell_type": "code",
   "execution_count": 51,
   "outputs": [
    {
     "name": "stdout",
     "text": [
      "12\n"
     ],
     "output_type": "stream"
    },
    {
     "data": {
      "text/plain": "3"
     },
     "metadata": {},
     "output_type": "execute_result",
     "execution_count": 51
    }
   ],
   "source": [
    "print(12)\n",
    "len([12,3,4])"
   ],
   "metadata": {
    "collapsed": false,
    "pycharm": {
     "name": "#%%\n",
     "is_executing": false
    }
   }
  },
  {
   "cell_type": "markdown",
   "source": [
    "> Let's start by defining our own functions. The syntax is the following:\n",
    "```\n",
    "def function_name(parameters):\n",
    "      function body\n",
    "```\n",
    "\n",
    "> So, you can choose any name that does not contain any funky characters. Only the underscore, letters and numbers \n",
    ">are allowed. Also not that you may not start your function with a number. The parameters are surrounded by \n",
    ">parenthesis and are the inputs to your function. You might have no parameters just like you might have 10. The \n",
    ">function body is split from the definition line (called the function signature) by indentation. In Python, it is \n",
    ">good practice to give your function good lengthy precise names. The following is a good example: \n",
    " ```\n",
    " def test_outbound_call_generating_valid_number_of_values(...):\n",
    "    ...\n",
    " ```\n",
    " \n",
    " > It is important to notice the colon after the list of parameters. "
   ],
   "metadata": {
    "collapsed": false
   }
  },
  {
   "cell_type": "code",
   "execution_count": 52,
   "outputs": [
    {
     "data": {
      "text/plain": "27"
     },
     "metadata": {},
     "output_type": "execute_result",
     "execution_count": 52
    }
   ],
   "source": [
    "# notice the pass keyword, it's use when we want an empty function.\n",
    "def first_function():\n",
    "    pass\n",
    "\n",
    "def addition(number_1, number_2):\n",
    "    result = number_1 + number_2\n",
    "    return result\n",
    "addition(12, 15)"
   ],
   "metadata": {
    "collapsed": false,
    "pycharm": {
     "name": "#%%\n",
     "is_executing": false
    }
   }
  },
  {
   "cell_type": "code",
   "execution_count": 53,
   "outputs": [
    {
     "data": {
      "text/plain": "32"
     },
     "metadata": {},
     "output_type": "execute_result",
     "execution_count": 53
    }
   ],
   "source": [
    "def multiplication(number_1, number_2):\n",
    "    total = 0\n",
    "    for _ in range(number_2):\n",
    "        total = addition(total, number_1)\n",
    "    return total\n",
    "multiplication(4, 8)"
   ],
   "metadata": {
    "collapsed": false,
    "pycharm": {
     "name": "#%%\n",
     "is_executing": false
    }
   }
  },
  {
   "cell_type": "markdown",
   "source": [
    "> As seen in this previous example, functions can call other functions, they can also take other functions as input \n",
    ">and return functions. Very versatile!\n",
    "\n",
    "### Exercise!\n",
    "> Write a function that computes the absolute value of any number."
   ],
   "metadata": {
    "collapsed": false
   }
  },
  {
   "cell_type": "code",
   "execution_count": 62,
   "outputs": [
    {
     "name": "stdout",
     "text": [
      "89\n-46\n-96\n72\n44\n21\n-51\n83\n94\n2\n-70\n10\n-58\n-11\n-75\n-87\n17\n22\n-95\n-78\n"
     ],
     "output_type": "stream"
    }
   ],
   "source": [
    "import random\n",
    "\n",
    "def my_abs(input_number):\n",
    "    if input_number < 0:\n",
    "        return input_number * -1\n",
    "    return  input_number\n",
    "\n",
    "# generate 20 random numbers from -100 to 100\n",
    "test_numbers = random.sample(range(-100, 100), 20)\n",
    "\n",
    "for random_number in test_numbers:\n",
    "    assert my_abs(random_number) == abs(random_number)"
   ],
   "metadata": {
    "collapsed": false,
    "pycharm": {
     "name": "#%%\n",
     "is_executing": false
    }
   }
  },
  {
   "cell_type": "markdown",
   "source": [
    "## Return Values\n",
    "> Once again, Python offers us a lot of options, this time for return values. Just keep in mind, we don't have to return\n",
    ">anything, it is optional. If we don't specify any return values, the value ```None``` is returned. You also might want\n",
    ">to use the ```return``` keyword in order to stop your function following a conditional statement."
   ],
   "metadata": {
    "collapsed": false
   }
  },
  {
   "cell_type": "code",
   "execution_count": 54,
   "outputs": [
    {
     "name": "stdout",
     "text": [
      "\n                                       ._ o o\n                                       \\_`-)|_\n                                    ,\"\"       \\ \n                                  ,\"  ## |   ಠ ಠ. \n                                ,\" ##   ,-\\__    `.\n                              ,\"       /     `--._;)\n                            ,\"     ## /\n                          ,\"   ##    /\n\n\n                    \n\n                                       ._ o o\n                                       \\_`-)|_\n                                    ,\"\"       \\ \n                                  ,\"  ## |   ಠ ಠ. \n                                ,\" ##   ,-\\__    `.\n                              ,\"       /     `--._;)\n                            ,\"     ## /\n                          ,\"   ##    /\n\n\n                    \nWhat was the value returned by the function?: None\n"
     ],
     "output_type": "stream"
    }
   ],
   "source": [
    "def print_horse():\n",
    "    print(\"\"\"\\\n",
    "\n",
    "                                       ._ o o\n",
    "                                       \\_`-)|_\n",
    "                                    ,\"\"       \\ \n",
    "                                  ,\"  ## |   ಠ ಠ. \n",
    "                                ,\" ##   ,-\\__    `.\n",
    "                              ,\"       /     `--._;)\n",
    "                            ,\"     ## /\n",
    "                          ,\"   ##    /\n",
    "\n",
    "\n",
    "                    \"\"\")\n",
    "\n",
    "print_horse()\n",
    "x = print_horse() \n",
    "print('What was the value returned by the function?: {}'.format(x))"
   ],
   "metadata": {
    "collapsed": false,
    "pycharm": {
     "name": "#%%\n",
     "is_executing": false
    }
   }
  },
  {
   "cell_type": "markdown",
   "source": [
    "> We can return multiple values at once from a function, they will automatically take the shape of a tuple. This can \n",
    ">be very useful, but keep in mind that it is generally considered bad python practice to return multiple values from \n",
    ">one single function."
   ],
   "metadata": {
    "collapsed": false
   }
  },
  {
   "cell_type": "code",
   "execution_count": 55,
   "outputs": [
    {
     "data": {
      "text/plain": "(True, 4)"
     },
     "metadata": {},
     "output_type": "execute_result",
     "execution_count": 55
    }
   ],
   "source": [
    "def element_in_list(el, _list):\n",
    "    found_index = -1\n",
    "    found = False\n",
    "    for i, list_element in enumerate(_list):\n",
    "        if list_element == el:\n",
    "            found_index = i\n",
    "            found = True\n",
    "            break\n",
    "    return found, found_index\n",
    "\n",
    "element_in_list(9, [1,2,3,5,9])"
   ],
   "metadata": {
    "collapsed": false,
    "pycharm": {
     "name": "#%%\n",
     "is_executing": false
    }
   }
  },
  {
   "cell_type": "markdown",
   "source": [
    "> Note that you can also return functions from a function."
   ],
   "metadata": {
    "collapsed": false
   }
  },
  {
   "cell_type": "code",
   "execution_count": 56,
   "outputs": [
    {
     "data": {
      "text/plain": "'Hi'"
     },
     "metadata": {},
     "output_type": "execute_result",
     "execution_count": 56
    }
   ],
   "source": [
    "def hello():\n",
    "    def say_hi_fct():\n",
    "        return \"Hi\"\n",
    "    return say_hi_fct\n",
    "\n",
    "say_hi_var = hello() # say_hi function is assign to the function variable\n",
    "say_hi_var()\n"
   ],
   "metadata": {
    "collapsed": false,
    "pycharm": {
     "name": "#%%\n",
     "is_executing": false
    }
   }
  },
  {
   "cell_type": "markdown",
   "source": [
    "### Exercise !\n",
    "> Write a Python function that takes a list and returns a new list with unique elements of the first list as well as \n",
    ">the proportion of unique elements that were found in the input list over the number of elements of the input list.\n"
   ],
   "metadata": {
    "collapsed": false,
    "pycharm": {
     "name": "#%% md\n"
    }
   }
  },
  {
   "cell_type": "code",
   "execution_count": 70,
   "outputs": [],
   "source": [
    "def unique_elements(input_list):\n",
    "    uniques = []\n",
    "    for el in input_list:\n",
    "        if el not in uniques:\n",
    "            uniques.append(el)\n",
    "    return uniques, len(uniques) / len(input_list)\n",
    "\n",
    "\n",
    "ans1 = unique_elements([6,13,15,13,67,1,1,1,1])\n",
    "ans1[0].sort()\n",
    "assert ans1[0] == [1, 6, 13, 15, 67] \n",
    "assert ans1[1] == 5/9"
   ],
   "metadata": {
    "collapsed": false,
    "pycharm": {
     "name": "#%%\n",
     "is_executing": false
    }
   }
  },
  {
   "cell_type": "markdown",
   "source": [
    "## Parameters and Default Parameters\n",
    "> There exists two types of parameters in python, required parameters, and default/keyword parameters. \n",
    "> I might interchange arguments and parameters when I talk, as the disctinction is not very rigourous. However, they \n",
    ">have slightly different meanings as an argument refers to the VALUE passed to the function while a parameter refers \n",
    ">to the VARIABLE passed to a function."
   ],
   "metadata": {
    "collapsed": false
   }
  },
  {
   "cell_type": "code",
   "execution_count": 57,
   "outputs": [
    {
     "name": "stdout",
     "text": [
      "my parameters are Hello and Okay hey\nmy_function() missing 1 required positional argument: 'required_arg'\nmy parameters are bonjour and hi\nmy parameters are Stripes and White\n"
     ],
     "output_type": "stream"
    }
   ],
   "source": [
    "def my_function(required_arg, default_args=\"Okay hey\"):\n",
    "    print(\"my parameters are {} and {}\".format(required_arg, default_args))\n",
    "\n",
    "# normal call to \"my_function\"\n",
    "my_function('Hello')\n",
    "\n",
    "# This call will throw a function as the required parameter is not filled\n",
    "try:\n",
    "    my_function()\n",
    "except Exception as e:\n",
    "    print(str(e))\n",
    "\n",
    "# calling the function with another parameter instead of the default parameter\n",
    "my_function(\"bonjour\", \"hi\")\n",
    "\n",
    "# when we use the name of the parameters in the function call, we can switch up their names with no problems\n",
    "my_function(default_args=\"White\", required_arg=\"Stripes\")"
   ],
   "metadata": {
    "collapsed": false,
    "pycharm": {
     "name": "#%% \n",
     "is_executing": false
    }
   }
  },
  {
   "cell_type": "markdown",
   "source": [
    "> As you start reading more and more Python code, you will frequently encounter the keywords \"args\" and \"kwargs\", \n",
    ">they are frequently used in the following manner:\n",
    "```\n",
    "def my_fct(*args, **kwargs):\n",
    "    fct_body\n",
    "```\n",
    "> Args is a diminutive for \"arguments\" while kwargs is a diminutive for \"keyword arguments\". Args is used to collect\n",
    "> an arbitrary numbers of required parameters while kwargs is used the same way for optional keywords. Keep in the \n",
    ">mind that these \"required\" parameters are totally optional as well. It' just that in the current context, they have \n",
    ">the same form. Let's analyze how the \"args\" and \"kwargs\" work. "
   ],
   "metadata": {
    "collapsed": false
   }
  },
  {
   "cell_type": "code",
   "execution_count": 58,
   "outputs": [
    {
     "name": "stdout",
     "text": [
      "argument #0: heyyy\nargument #1: 9\nargument #2: True\nargument's value jack, parameter's name : Huncho\nargument's value my_status, parameter's name : 12\n"
     ],
     "output_type": "stream"
    }
   ],
   "source": [
    "def my_new_function(*args, **kwargs):\n",
    "    for i, arg in enumerate(args):\n",
    "        print(\"argument #{}: {}\".format(i, arg))\n",
    "        \n",
    "    for key, value in kwargs.items():\n",
    "        print(\"argument's value {}, parameter's name : {}\".format(key, value))\n",
    "\n",
    "my_new_function('heyyy', 9, True, jack=\"Huncho\", my_status=12)"
   ],
   "metadata": {
    "collapsed": false,
    "pycharm": {
     "name": "#%% \n",
     "is_executing": false
    }
   }
  },
  {
   "cell_type": "markdown",
   "source": [
    "> Quickly, I am sure you all noticed the asterisk and the double asterisks before the args and the kwargs \n",
    ">parameters. These are the packing and unpacking operators, the single asterisks is used for iterators such as lists \n",
    ">and tuples while the second is used for dictionaries-like types."
   ],
   "metadata": {
    "collapsed": false
   }
  },
  {
   "cell_type": "code",
   "execution_count": 59,
   "outputs": [
    {
     "name": "stdout",
     "text": [
      "argument #0: 9\nargument #1: hi\nargument's value first_var, parameter's name : 9\nargument's value second_var, parameter's name : hi\n"
     ],
     "output_type": "stream"
    }
   ],
   "source": [
    "first_var = 9\n",
    "second_var = \"hi\"\n",
    "\n",
    "my_new_function(first_var, second_var)\n",
    "\n",
    "my_dict = dict(first_var=first_var, second_var=second_var)\n",
    "\n",
    "my_new_function(**my_dict)"
   ],
   "metadata": {
    "collapsed": false,
    "pycharm": {
     "name": "#%%\n",
     "is_executing": false
    }
   }
  },
  {
   "cell_type": "markdown",
   "source": [
    "> An important specification concerning parameters is that the positional parameters (required parameters) must \n",
    ">placed before keywords parameters."
   ],
   "metadata": {
    "collapsed": false,
    "pycharm": {
     "name": "#%% md\n"
    }
   }
  },
  {
   "cell_type": "code",
   "execution_count": 60,
   "outputs": [
    {
     "traceback": [
      "\u001b[0;36m  File \u001b[0;32m\"<ipython-input-60-9fc8d3e419b0>\"\u001b[0;36m, line \u001b[0;32m2\u001b[0m\n\u001b[0;31m    my_new_function(my_status=\"feeling good\", 9, 12, [], \"hey\")\u001b[0m\n\u001b[0m                                             ^\u001b[0m\n\u001b[0;31mSyntaxError\u001b[0m\u001b[0;31m:\u001b[0m positional argument follows keyword argument\n"
     ],
     "ename": "SyntaxError",
     "evalue": "positional argument follows keyword argument (<ipython-input-60-9fc8d3e419b0>, line 2)",
     "output_type": "error"
    }
   ],
   "source": [
    "try:\n",
    "    my_new_function(my_status=\"feeling good\", 9, 12, [], \"hey\")\n",
    "except SyntaxError as e:\n",
    "    print(str(e))"
   ],
   "metadata": {
    "collapsed": false,
    "pycharm": {
     "name": "#%%\n",
     "is_executing": false
    }
   }
  },
  {
   "cell_type": "code",
   "execution_count": null,
   "outputs": [],
   "source": [
    "def useful_function(a, b, c=12, *args, **kwargs):\n",
    "    print(\"a : {}\".format(a))\n",
    "    print(\"b: {}\".format(b))\n",
    "    print(\"c: {}\".format(c))\n",
    "    print(\"args: {}\".format(args))\n",
    "    print(\"kwargs: {}\".format(kwargs))\n",
    "\n",
    "useful_function(\"aaaaaaaaa\", \"bbbbbbbbbbbb\", \"cccccccc\", \"dddddddddd\", \"eeeeeeeeee\", f=\"ff\", g=\"gg\")"
   ],
   "metadata": {
    "collapsed": false,
    "pycharm": {
     "name": "#%%\n",
     "is_executing": false
    }
   }
  },
  {
   "cell_type": "markdown",
   "source": [
    "## Docstrings\n",
    "> It is widely known that reading code if often much more difficult that writing it. Eventually, your code will be \n",
    ">read by other people and will create a real impact. Try to make the life of these people as good as possible. The \n",
    ">first important trick is to write long and detailed variable and function names. Try to write as few comments as \n",
    ">possible.   \n",
    ">Where you want to describe the logic of your program is in the function's docstring. The docstring is a \n",
    ">summary of the parameters a function requires, it's behaviour and logic as well as it's expected return value. Then,\n",
    "> you can see the docstring generated with the ```help()``` function.  \n",
    "> You can also generate a readthedocs using \n",
    ">sphynx which will automatically parse your docstrings. The following link is an example of what can be done:\n",
    "> https://lifelines.readthedocs.io/en/latest/"
   ],
   "metadata": {
    "collapsed": false
   }
  },
  {
   "cell_type": "code",
   "execution_count": null,
   "outputs": [],
   "source": [
    "import math\n",
    "help(math.sqrt)\n",
    "\n",
    "help(abs)\n",
    "\n",
    "help(pow)\n"
   ],
   "metadata": {
    "collapsed": false,
    "pycharm": {
     "name": "#%%\n",
     "is_executing": false
    }
   }
  },
  {
   "cell_type": "markdown",
   "source": [
    "> Docstrings are specified by long strings just after a function's signatrue.\n"
   ],
   "metadata": {
    "collapsed": false,
    "pycharm": {
     "name": "#%% md\n"
    }
   }
  },
  {
   "cell_type": "code",
   "execution_count": null,
   "outputs": [],
   "source": [
    "def my_complex_fct(list_to_be_processed, threshold):\n",
    "    \"\"\"\n",
    "    This very complex function sums up the elements in a list.\n",
    "    :param list_to_be_processed: list to be summed up, must be numbers!\n",
    "    :param threshold: if an element of the list_to_be_processed is bigger than the \n",
    "    threshold, do not consider it\n",
    "    :return: the sum of the elements in the list_to_be_processed\n",
    "    \"\"\"    \n",
    "    _sum = 0\n",
    "    for element in list_to_be_processed:\n",
    "        if element < threshold:\n",
    "            _sum += element\n",
    "    return _sum\n",
    "\n",
    "my_complex_fct([1,2,3,5,6], threshold=6)\n",
    "\n",
    "help(my_complex_fct)"
   ],
   "metadata": {
    "collapsed": false,
    "pycharm": {
     "name": "#%%\n",
     "is_executing": false
    }
   }
  },
  {
   "cell_type": "markdown",
   "source": [
    "### Exercise!\n",
    "> Complete the body of the following function according to its docstring. HINT: Python has a builtin function `round`\n"
   ],
   "metadata": {
    "collapsed": false,
    "pycharm": {
     "name": "#%% md\n"
    }
   }
  },
  {
   "cell_type": "code",
   "execution_count": 80,
   "outputs": [],
   "source": [
    "def round_to_two_places(num):\n",
    "    \"\"\"Return the given number rounded to two decimal places. \n",
    "    \n",
    "    >>> round_to_two_places(3.14159)\n",
    "    3.14\n",
    "    \"\"\"\n",
    "    # Replace this body with your own code.\n",
    "    # (\"pass\" is a keyword that does literally nothing. We used it as a placeholder\n",
    "    # because after we begin a code block, Python requires at least one line of code)\n",
    "    pass\n",
    "\n",
    "def round_to_two_places(num):\n",
    "    \"\"\"Return the given number rounded to two decimal places. \n",
    "    \n",
    "    >>> round_to_two_places(3.14159)\n",
    "    3.14\n",
    "    \"\"\"\n",
    "    return round(num, 2)\n",
    "    \n",
    "\n",
    "assert round_to_two_places(3.14159) == 3.14\n",
    "assert round_to_two_places(0) == 0 \n",
    "assert round_to_two_places(-99999.99999) == -100000.0"
   ],
   "metadata": {
    "collapsed": false,
    "pycharm": {
     "name": "#%%\n",
     "is_executing": false
    }
   }
  },
  {
   "cell_type": "markdown",
   "source": [
    "## Global and Local Scopes\n",
    "> Let's get into a slightly more tricky subject and talk about the variables' scopes in Python. This section might \n",
    ">save you a lot of headache in the future while debugging your code, so pay attention!  \n",
    ">Let's start by defining and understanding scopes. A scope is essentially a dictionary-like object of variables along \n",
    ">with their values for a certain body of code. \n"
   ],
   "metadata": {
    "collapsed": false,
    "pycharm": {
     "name": "#%% md\n"
    }
   }
  },
  {
   "cell_type": "code",
   "execution_count": null,
   "outputs": [],
   "source": [
    "x = 99\n",
    "y = 88\n",
    "\n",
    "def dummy_fct():\n",
    "    x = \"Totally different value\"\n",
    "    y = \"Another totally different value\"\n",
    "    print(\"local variables (local scope) is {}\".format(locals()))\n",
    "\n",
    "dummy_fct()\n",
    "\n",
    "# print only interesting variables from the global scope\n",
    "print('global value of x: {}, global value of y: {}'.format(globals()['x'], globals()['y']))\n"
   ],
   "metadata": {
    "collapsed": false,
    "pycharm": {
     "name": "#%%\n",
     "is_executing": false
    }
   }
  },
  {
   "cell_type": "markdown",
   "source": [
    "> Notice how the local scope takes precedence over the global scope. Now, let's define a global variable that will be\n",
    "> modified in the body of a function.\n",
    "\n"
   ],
   "metadata": {
    "collapsed": false,
    "pycharm": {
     "name": "#%% md\n",
     "is_executing": false
    }
   }
  },
  {
   "cell_type": "code",
   "execution_count": null,
   "outputs": [],
   "source": [
    "dummy_var = 99\n",
    "\n",
    "def modify_dummy_var():\n",
    "    dummy_var = -2\n",
    "    \n",
    "modify_dummy_var()\n",
    "dummy_var\n",
    "    "
   ],
   "metadata": {
    "collapsed": false,
    "pycharm": {
     "name": "#%%\n",
     "is_executing": false
    }
   }
  },
  {
   "cell_type": "markdown",
   "source": [
    "> So, why was the value of dummy_var still 99 after we supposedly modified it to -2. Why is this so? The reason is we\n",
    "> are actually defining dummy_var locally instead of modifying its global value. Notice:\n",
    "\n"
   ],
   "metadata": {
    "collapsed": false,
    "pycharm": {
     "name": "#%% md\n"
    }
   }
  },
  {
   "cell_type": "code",
   "execution_count": null,
   "outputs": [],
   "source": [
    "dummy_var = 99\n",
    "\n",
    "def modify_dummy_var():\n",
    "    dummy_var = -2\n",
    "    print(locals())\n",
    "    print(\"dummy var in globals: {}\".format(globals()['dummy_var']))\n",
    "    \n",
    "modify_dummy_var()\n",
    "\n"
   ],
   "metadata": {
    "collapsed": false,
    "pycharm": {
     "name": "#%%\n",
     "is_executing": false
    }
   }
  },
  {
   "cell_type": "markdown",
   "source": [
    "> Okay, so what if I really want to modify the value of dummy_var inside our function? I need to use the global \n",
    ">keyword."
   ],
   "metadata": {
    "collapsed": false,
    "pycharm": {
     "name": "#%% md\n"
    }
   }
  },
  {
   "cell_type": "code",
   "execution_count": null,
   "outputs": [],
   "source": [
    "dummy_var = 99\n",
    "\n",
    "def modify_dummy_var():\n",
    "    global  dummy_var\n",
    "    dummy_var = -2\n",
    "    print(locals())\n",
    "    print(\"dummy var in globals: {}\".format(globals()['dummy_var']))\n",
    "    \n",
    "modify_dummy_var()"
   ],
   "metadata": {
    "collapsed": false,
    "pycharm": {
     "name": "#%%\n",
     "is_executing": false
    }
   }
  },
  {
   "cell_type": "markdown",
   "source": [
    "> Voila! We can play with global variables inside of function now, but keep in mind that this is generally not \n",
    ">considered good practice in Python.\n",
    ">\n",
    "### Exercise!\n",
    "> What does the following code print?\n",
    "```\n",
    "a_var = 'global variable'\n",
    "def a_func():\n",
    "    print(a_var, '[ a_var inside a_func() ]')\n",
    "a_func()\n",
    "print(a_var, '[ a_var outside a_func() ]')\n",
    "```\n",
    "> See the solution in the answer sheet.\n",
    "\n",
    "Answer: global value [ a_var inside a_func() ]  \n",
    "global value [ a_var outside a_func() ]\n",
    "\n",
    "Because we call a_func() first, which is supposed to print the value of a_var. Now, a_var is not locally defined, so \n",
    "it looks up one level up and prints the global value of a_var. Then, the second print obviously prints the global \n",
    "value of a_var"
   ],
   "metadata": {
    "collapsed": false,
    "pycharm": {
     "name": "#%% md\n"
    }
   }
  }
 ],
 "metadata": {
  "language_info": {
   "codemirror_mode": {
    "name": "ipython",
    "version": 2
   },
   "file_extension": ".py",
   "mimetype": "text/x-python",
   "name": "python",
   "nbconvert_exporter": "python",
   "pygments_lexer": "ipython2",
   "version": "2.7.6"
  },
  "kernelspec": {
   "name": "python3",
   "language": "python",
   "display_name": "Python 3"
  },
  "pycharm": {
   "stem_cell": {
    "cell_type": "raw",
    "source": [],
    "metadata": {
     "collapsed": false
    }
   }
  }
 },
 "nbformat": 4,
 "nbformat_minor": 0
}