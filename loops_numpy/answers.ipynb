{
 "cells": [
  {
   "cell_type": "markdown",
   "metadata": {},
   "source": [
    "### Exercise 1"
   ]
  },
  {
   "cell_type": "code",
   "execution_count": 4,
   "metadata": {},
   "outputs": [],
   "source": [
    "import numpy as np\n",
    "big_arr = np.arange(100).reshape(10, 10)\n",
    "\n",
    "\n",
    "def exercise1(arr):\n",
    "  x = arr[-1][:]\n",
    "  return x\n",
    "\n",
    "assert (exercise1(big_arr) == np.array([90, 91, 92, 93, 94, 95, 96, 97, 98, 99])).all()"
   ]
  },
  {
   "cell_type": "markdown",
   "metadata": {},
   "source": [
    "### Exercise 2"
   ]
  },
  {
   "cell_type": "code",
   "execution_count": 5,
   "metadata": {},
   "outputs": [],
   "source": [
    "def exercise2(number1, low_threshold1, high_threshold1,\n",
    "              number2, low_threshold2, high_threshold2):\n",
    "  cond1 = number1 > low_threshold1 and number1 < high_threshold1\n",
    "  cond2 = number2 > low_threshold2 and number2 < high_threshold2\n",
    "  return cond1 or cond2\n",
    "\n",
    "assert exercise2(10, 15, 20, 12, 10, 11) == False\n",
    "\n",
    "assert exercise2(8, 6, 9, 10, 11, 22) == True\n"
   ]
  },
  {
   "cell_type": "markdown",
   "metadata": {},
   "source": [
    "### Exercise 3"
   ]
  },
  {
   "cell_type": "code",
   "execution_count": 6,
   "metadata": {},
   "outputs": [],
   "source": [
    "x = np.random.randn(100)\n",
    "\n",
    "def exercise3(arr):\n",
    "  _sum = 0\n",
    "  for el in arr:\n",
    "    _sum = _sum + el\n",
    "\n",
    "  return _sum / arr.size\n",
    "\n",
    "\n",
    "assert '{:3f}'.format(exercise3(x)) == '{:3f}'.format(np.average(x))"
   ]
  },
  {
   "cell_type": "markdown",
   "metadata": {},
   "source": [
    "### Exercise 4"
   ]
  },
  {
   "cell_type": "code",
   "execution_count": 8,
   "metadata": {},
   "outputs": [],
   "source": [
    "import pandas as pd\n",
    "whr = pd.read_csv('world-happiness-report-2019.csv')\n",
    "\n",
    "\n",
    "def exercise4(row):\n",
    "  smallest_value = 10000\n",
    "  for element in row:\n",
    "    if element <= smallest_value:\n",
    "      smallest_value = element\n",
    "  \n",
    "  return smallest_value\n",
    "\n",
    "row = whr.iloc[39, 1:]\n",
    "assert exercise4(row) == 28"
   ]
  }
 ],
 "metadata": {
  "kernelspec": {
   "display_name": "Python 3",
   "language": "python",
   "name": "python3"
  },
  "language_info": {
   "codemirror_mode": {
    "name": "ipython",
    "version": 3
   },
   "file_extension": ".py",
   "mimetype": "text/x-python",
   "name": "python",
   "nbconvert_exporter": "python",
   "pygments_lexer": "ipython3",
   "version": "3.6.7"
  }
 },
 "nbformat": 4,
 "nbformat_minor": 2
}
