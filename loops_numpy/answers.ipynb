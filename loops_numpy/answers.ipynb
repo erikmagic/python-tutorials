{
 "cells": [
  {
   "cell_type": "markdown",
   "metadata": {},
   "source": [
    "### Exercise 1"
   ]
  },
  {
   "cell_type": "code",
   "execution_count": 16,
   "metadata": {},
   "outputs": [],
   "source": [
    "import numpy as np\n",
    "from expects import expect, equal, contain_exactly, be_within\n",
    "big_arr = np.arange(100).reshape(10, 10)\n",
    "\n",
    "x = big_arr[-1][:]\n",
    "\n",
    "expect(list(x)).to(contain_exactly(*list(np.array([90, 91, 92, 93, 94, 95, 96, 97, 98, 99]))))"
   ]
  },
  {
   "cell_type": "markdown",
   "metadata": {},
   "source": [
    "### Exercise 2"
   ]
  },
  {
   "cell_type": "code",
   "execution_count": 12,
   "metadata": {},
   "outputs": [],
   "source": [
    "def exercise2(number1, low_threshold1, high_threshold1,\n",
    "              number2, low_threshold2, high_threshold2):\n",
    "  cond1 = number1 > low_threshold1 and number1 < high_threshold1\n",
    "  cond2 = number2 > low_threshold2 and number2 < high_threshold2\n",
    "  return cond1 or cond2\n",
    "\n",
    "\n",
    "expect(exercise2(10,15,20,12,10,11)).to(equal(False))\n",
    "expect(exercise2(8, 6, 9, 10, 11, 22)).to(equal(True))"
   ]
  },
  {
   "cell_type": "markdown",
   "metadata": {},
   "source": [
    "### Exercise 3"
   ]
  },
  {
   "cell_type": "code",
   "execution_count": 18,
   "metadata": {},
   "outputs": [],
   "source": [
    "x = np.random.randn(100)\n",
    "\n",
    "def exercise3(arr):\n",
    "  _sum = 0\n",
    "  for el in arr:\n",
    "    _sum = _sum + el\n",
    "\n",
    "  return _sum / arr.size\n",
    "\n",
    "expect(exercise3(x)).to(be_within(np.average(x) -0.001, np.average(x) + 0.01))"
   ]
  },
  {
   "cell_type": "markdown",
   "metadata": {},
   "source": [
    "### Exercise 4"
   ]
  },
  {
   "cell_type": "code",
   "execution_count": 20,
   "metadata": {},
   "outputs": [],
   "source": [
    "import pandas as pd\n",
    "whr = pd.read_csv('world-happiness-report-2019.csv')\n",
    "\n",
    "\n",
    "def exercise4(row):\n",
    "  smallest_value = 10000\n",
    "  for element in row:\n",
    "    if element <= smallest_value:\n",
    "      smallest_value = element\n",
    "  \n",
    "  return smallest_value\n",
    "\n",
    "row = whr.iloc[39, 1:]\n",
    "expect(exercise4(row)).to(equal(28))"
   ]
  }
 ],
 "metadata": {
  "kernelspec": {
   "display_name": "Python 3",
   "language": "python",
   "name": "python3"
  },
  "language_info": {
   "codemirror_mode": {
    "name": "ipython",
    "version": 3
   },
   "file_extension": ".py",
   "mimetype": "text/x-python",
   "name": "python",
   "nbconvert_exporter": "python",
   "pygments_lexer": "ipython3",
   "version": "3.7.6"
  }
 },
 "nbformat": 4,
 "nbformat_minor": 4
}
