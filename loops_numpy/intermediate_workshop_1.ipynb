{
 "cells": [
  {
   "cell_type": "markdown",
   "metadata": {},
   "source": [
    "# Intermediate Workshop 1: numpy, loops and *if statements*"
   ]
  },
  {
   "cell_type": "markdown",
   "metadata": {},
   "source": [
    "## 1.1 Numpy"
   ]
  },
  {
   "cell_type": "markdown",
   "metadata": {
    "colab_type": "text",
    "id": "7oKQE4nfsBEm"
   },
   "source": [
    "> Numpy's main object is the multidimensional array, known as an ndarray. It can also be referred as an array.  \n",
    "Indeed, numpy.array is just a convenience function to create an ndarray.  \n",
    "So,  an ndarray should always be constructed using *array*, *zeros*, or *empty* as per numpy's documentation."
   ]
  },
  {
   "cell_type": "code",
   "execution_count": 3,
   "metadata": {
    "colab": {
     "base_uri": "https://localhost:8080/",
     "height": 52
    },
    "colab_type": "code",
    "id": "p2pGuycnsHeI",
    "outputId": "e81522b9-2f12-47f2-a51b-9820b11990a6"
   },
   "outputs": [
    {
     "data": {
      "text/plain": [
       "(array([[ 1,  2,  3],\n",
       "        [10, 11, 12]]), numpy.ndarray)"
      ]
     },
     "execution_count": 3,
     "metadata": {},
     "output_type": "execute_result"
    }
   ],
   "source": [
    "import numpy as np\n",
    "\n",
    "# instantiating an ndarray using array\n",
    "arr = np.array([[1,2,3],[10,11,12]])\n",
    "arr, type(arr)"
   ]
  },
  {
   "cell_type": "code",
   "execution_count": 4,
   "metadata": {
    "colab": {
     "base_uri": "https://localhost:8080/",
     "height": 69
    },
    "colab_type": "code",
    "id": "702SHvPAsd3x",
    "outputId": "f06aa868-af04-4d51-9fac-199a874fa159"
   },
   "outputs": [
    {
     "data": {
      "text/plain": [
       "array([[0., 0.],\n",
       "       [0., 0.],\n",
       "       [0., 0.]])"
      ]
     },
     "execution_count": 4,
     "metadata": {},
     "output_type": "execute_result"
    }
   ],
   "source": [
    "# instantiating an ndarray using zeros\n",
    "zeros_arr = np.zeros((3,2)) # the input is a tuple to determine the desired shape\n",
    "zeros_arr"
   ]
  },
  {
   "cell_type": "code",
   "execution_count": 5,
   "metadata": {
    "colab": {
     "base_uri": "https://localhost:8080/",
     "height": 69
    },
    "colab_type": "code",
    "id": "XfwRPKsfsR6r",
    "outputId": "875fb082-a852-4418-e356-ae9f9c424286"
   },
   "outputs": [
    {
     "data": {
      "text/plain": [
       "array([[0., 0.],\n",
       "       [0., 0.],\n",
       "       [0., 0.]])"
      ]
     },
     "execution_count": 5,
     "metadata": {},
     "output_type": "execute_result"
    }
   ],
   "source": [
    "# instantiating an ndarray using empty\n",
    "empty_arr = np.empty((3,2))\n",
    "empty_arr"
   ]
  },
  {
   "cell_type": "markdown",
   "metadata": {
    "colab_type": "text",
    "id": "MvUoZqoRuFdn"
   },
   "source": [
    "> The main attributes of an ndarray are  \n",
    "* ndim: the number of axes (dimensions) of the array\n",
    "* shape: the dimension of the array (for an n*m array, the dimension is the tuple (n,m))\n",
    "* size: number of elements in the array (n times m)\n",
    "* dtype: all elements in an numpy have the same type (dtype)"
   ]
  },
  {
   "cell_type": "code",
   "execution_count": 6,
   "metadata": {
    "colab": {
     "base_uri": "https://localhost:8080/",
     "height": 35
    },
    "colab_type": "code",
    "id": "lRXk7g-NvXSg",
    "outputId": "2d6026b1-913b-41a4-dd2c-f730a40fa133"
   },
   "outputs": [
    {
     "data": {
      "text/plain": [
       "{'ndim': 2, 'shape': (2, 3), 'size': (2, 3), 'dtype': dtype('int32')}"
      ]
     },
     "execution_count": 6,
     "metadata": {},
     "output_type": "execute_result"
    }
   ],
   "source": [
    "{'ndim': arr.ndim, 'shape': arr.shape, 'size': arr.shape, 'dtype': arr.dtype}"
   ]
  },
  {
   "cell_type": "markdown",
   "metadata": {
    "colab_type": "text",
    "id": "vJCSbMAfv28V"
   },
   "source": [
    "> We can use arithmetic operations on arrays, these operations are applied _elementwise_."
   ]
  },
  {
   "cell_type": "code",
   "execution_count": 7,
   "metadata": {
    "colab": {
     "base_uri": "https://localhost:8080/",
     "height": 121
    },
    "colab_type": "code",
    "id": "cn1aZLCBvary",
    "outputId": "a298ef8b-76a3-461d-c4e3-d1130ccfebf6"
   },
   "outputs": [
    {
     "name": "stdout",
     "output_type": "stream",
     "text": [
      "[[ 1  2  3]\n",
      " [10 11 12]]\n",
      "[[0 1 2]\n",
      " [3 4 5]]\n"
     ]
    },
    {
     "data": {
      "text/plain": [
       "array([[ 1,  3,  5],\n",
       "       [13, 15, 17]])"
      ]
     },
     "execution_count": 7,
     "metadata": {},
     "output_type": "execute_result"
    }
   ],
   "source": [
    "arr2 = np.arange(6).reshape(2,3) # the arange function just creates a array with\n",
    "  # elements from 0 to size\n",
    "print(arr)\n",
    "print(arr2)\n",
    "arr + arr2"
   ]
  },
  {
   "cell_type": "code",
   "execution_count": 8,
   "metadata": {
    "colab": {
     "base_uri": "https://localhost:8080/",
     "height": 52
    },
    "colab_type": "code",
    "id": "IsAZExluwO3j",
    "outputId": "647f171a-e815-4de8-862d-02a028d3d558"
   },
   "outputs": [
    {
     "data": {
      "text/plain": [
       "array([[ 0,  2,  6],\n",
       "       [30, 44, 60]])"
      ]
     },
     "execution_count": 8,
     "metadata": {},
     "output_type": "execute_result"
    }
   ],
   "source": [
    "arr * arr2"
   ]
  },
  {
   "cell_type": "markdown",
   "metadata": {
    "colab_type": "text",
    "id": "mknGHAApxZiT"
   },
   "source": [
    "> There exists a bunch of unary function that works on arrays. For instance, the square root function, the exponential function and so on."
   ]
  },
  {
   "cell_type": "code",
   "execution_count": 9,
   "metadata": {
    "colab": {
     "base_uri": "https://localhost:8080/",
     "height": 87
    },
    "colab_type": "code",
    "id": "qmjaDfq5xlEa",
    "outputId": "10384c45-3a16-4b9d-9822-eb9f418b1ab0"
   },
   "outputs": [
    {
     "name": "stdout",
     "output_type": "stream",
     "text": [
      "[[1.         1.41421356 1.73205081]\n",
      " [3.16227766 3.31662479 3.46410162]]\n"
     ]
    },
    {
     "data": {
      "text/plain": [
       "array([[1.        , 1.41421356, 1.73205081],\n",
       "       [3.16227766, 3.31662479, 3.46410162]])"
      ]
     },
     "execution_count": 9,
     "metadata": {},
     "output_type": "execute_result"
    }
   ],
   "source": [
    "print(np.sqrt(arr))\n",
    "np.sqrt(arr)"
   ]
  },
  {
   "cell_type": "markdown",
   "metadata": {
    "colab_type": "text",
    "id": "FPCTHwLTyQPV"
   },
   "source": [
    "> In the previous workshop, we saw how indexing and slicing can be used on lists and strings. Now, we can use these same concepts on arrays."
   ]
  },
  {
   "cell_type": "code",
   "execution_count": 10,
   "metadata": {
    "colab": {
     "base_uri": "https://localhost:8080/",
     "height": 104
    },
    "colab_type": "code",
    "id": "znAz6lrAzfYr",
    "outputId": "29ef0282-c671-443f-cc10-a66510b66a75"
   },
   "outputs": [
    {
     "name": "stdout",
     "output_type": "stream",
     "text": [
      "[[ 1  2  3]\n",
      " [10 11 12]]\n",
      "[[11 12]]\n",
      "1\n",
      "12\n"
     ]
    }
   ],
   "source": [
    "print(arr)\n",
    "print(arr[1:, 1:])\n",
    "print(arr[0, 0])\n",
    "print(arr[-1, -1])"
   ]
  },
  {
   "cell_type": "markdown",
   "metadata": {
    "colab_type": "text",
    "id": "3kAaqrJmz7Yf"
   },
   "source": [
    "> For arrays, there is a new character _..._ that can be particularly useful when indexing arrays with lots of dimensions.  \n",
    "$x[1,2...] = x[1, 2, :, :, :]$"
   ]
  },
  {
   "cell_type": "code",
   "execution_count": 11,
   "metadata": {
    "colab": {
     "base_uri": "https://localhost:8080/",
     "height": 35
    },
    "colab_type": "code",
    "id": "ZA8Jv5c415BE",
    "outputId": "a63dde1d-7b65-444d-a7b8-f40d49312e48"
   },
   "outputs": [
    {
     "data": {
      "text/plain": [
       "array([ 1, 10])"
      ]
     },
     "execution_count": 11,
     "metadata": {},
     "output_type": "execute_result"
    }
   ],
   "source": [
    "arr[..., 0] # select only the first \"column\""
   ]
  },
  {
   "cell_type": "markdown",
   "metadata": {
    "colab_type": "text",
    "id": "A6bvVfln2Frk"
   },
   "source": [
    "> We can stack arrays on top of eachother to extend our defined arrays. We can use the *vstack* to stack data vertically or *htstack* to stack data horizontally."
   ]
  },
  {
   "cell_type": "code",
   "execution_count": 12,
   "metadata": {
    "colab": {
     "base_uri": "https://localhost:8080/",
     "height": 69
    },
    "colab_type": "code",
    "id": "AiF5e_uQ24x4",
    "outputId": "ce7ed239-efa0-484f-a741-b755f05a2182"
   },
   "outputs": [
    {
     "data": {
      "text/plain": [
       "array([[   1,    2,    3],\n",
       "       [  10,   11,   12],\n",
       "       [1000, 2000, 3000]])"
      ]
     },
     "execution_count": 12,
     "metadata": {},
     "output_type": "execute_result"
    }
   ],
   "source": [
    "new_row = np.array([1000, 2000, 3000])\n",
    "np.vstack((arr, new_row)) # inputs have the shape of a tuple"
   ]
  },
  {
   "cell_type": "code",
   "execution_count": 13,
   "metadata": {
    "colab": {
     "base_uri": "https://localhost:8080/",
     "height": 87
    },
    "colab_type": "code",
    "id": "uj3uhU6R5PgK",
    "outputId": "b578642b-f321-44b2-ed12-79aab48a32c1"
   },
   "outputs": [
    {
     "name": "stdout",
     "output_type": "stream",
     "text": [
      "[[999]\n",
      " [888]]\n"
     ]
    },
    {
     "data": {
      "text/plain": [
       "array([[999,   1,   2,   3],\n",
       "       [888,  10,  11,  12]])"
      ]
     },
     "execution_count": 13,
     "metadata": {},
     "output_type": "execute_result"
    }
   ],
   "source": [
    "new_column = np.array([999, 888])\n",
    "new_column = new_column.reshape(2,1)\n",
    "print(new_column)\n",
    "np.hstack((new_column, arr))"
   ]
  },
  {
   "cell_type": "markdown",
   "metadata": {
    "colab_type": "text",
    "id": "9J92FJuz6seA"
   },
   "source": [
    "> Something you must always keep in mind in numpy, and often in Python is that you access variable by reference, and not by value. In other words, when I re-assign an array, it is the same one re-assigned twice."
   ]
  },
  {
   "cell_type": "code",
   "execution_count": 14,
   "metadata": {
    "colab": {
     "base_uri": "https://localhost:8080/",
     "height": 69
    },
    "colab_type": "code",
    "id": "n5h72T1o7Uqw",
    "outputId": "299702ed-1911-42c0-8e84-0690b289eb8e"
   },
   "outputs": [
    {
     "name": "stdout",
     "output_type": "stream",
     "text": [
      "True\n"
     ]
    },
    {
     "data": {
      "text/plain": [
       "array([[999999,      2,      3],\n",
       "       [    10,     11,     12]])"
      ]
     },
     "execution_count": 14,
     "metadata": {},
     "output_type": "execute_result"
    }
   ],
   "source": [
    "new_arr = arr\n",
    "print(arr is new_arr)\n",
    "arr[0,0] = 999999\n",
    "new_arr"
   ]
  },
  {
   "cell_type": "markdown",
   "metadata": {
    "colab_type": "text",
    "id": "M31pW33C7Yr6"
   },
   "source": [
    "> If I want to actually copy an array to modify one variable independently of the other, you can use the *copy* function.\n"
   ]
  },
  {
   "cell_type": "code",
   "execution_count": 15,
   "metadata": {
    "colab": {
     "base_uri": "https://localhost:8080/",
     "height": 69
    },
    "colab_type": "code",
    "id": "qKWUHrfu7p0q",
    "outputId": "4e5abd6a-8fc1-44e8-d81d-94758bff0fd1"
   },
   "outputs": [
    {
     "name": "stdout",
     "output_type": "stream",
     "text": [
      "False\n"
     ]
    },
    {
     "data": {
      "text/plain": [
       "array([[999999,      2,      3],\n",
       "       [    10,     11,     12]])"
      ]
     },
     "execution_count": 15,
     "metadata": {},
     "output_type": "execute_result"
    }
   ],
   "source": [
    "new_arr = arr.copy()\n",
    "print(arr is new_arr)\n",
    "arr[0,0] = 22222\n",
    "new_arr"
   ]
  },
  {
   "cell_type": "markdown",
   "metadata": {
    "colab_type": "text",
    "id": "_weI-r7kPSOe"
   },
   "source": [
    "> Let's create a bigger array with the *arange* function."
   ]
  },
  {
   "cell_type": "code",
   "execution_count": 16,
   "metadata": {
    "colab": {
     "base_uri": "https://localhost:8080/",
     "height": 191
    },
    "colab_type": "code",
    "id": "cntt5BNoPRnp",
    "outputId": "782ce0ce-d1bc-4a73-bdae-bf24601017a8"
   },
   "outputs": [
    {
     "data": {
      "text/plain": [
       "array([[ 0,  1,  2,  3,  4,  5,  6,  7,  8,  9],\n",
       "       [10, 11, 12, 13, 14, 15, 16, 17, 18, 19],\n",
       "       [20, 21, 22, 23, 24, 25, 26, 27, 28, 29],\n",
       "       [30, 31, 32, 33, 34, 35, 36, 37, 38, 39],\n",
       "       [40, 41, 42, 43, 44, 45, 46, 47, 48, 49],\n",
       "       [50, 51, 52, 53, 54, 55, 56, 57, 58, 59],\n",
       "       [60, 61, 62, 63, 64, 65, 66, 67, 68, 69],\n",
       "       [70, 71, 72, 73, 74, 75, 76, 77, 78, 79],\n",
       "       [80, 81, 82, 83, 84, 85, 86, 87, 88, 89],\n",
       "       [90, 91, 92, 93, 94, 95, 96, 97, 98, 99]])"
      ]
     },
     "execution_count": 16,
     "metadata": {},
     "output_type": "execute_result"
    }
   ],
   "source": [
    "big_arr = np.arange(100).reshape(10, 10)\n",
    "big_arr"
   ]
  },
  {
   "cell_type": "markdown",
   "metadata": {},
   "source": [
    "### Exercise 1"
   ]
  },
  {
   "cell_type": "markdown",
   "metadata": {},
   "source": [
    "> Retrieve the last row of the *big_arr*."
   ]
  },
  {
   "cell_type": "code",
   "execution_count": 17,
   "metadata": {
    "colab": {},
    "colab_type": "code",
    "id": "ZidSZbmhHGSt"
   },
   "outputs": [
    {
     "ename": "AssertionError",
     "evalue": "",
     "output_type": "error",
     "traceback": [
      "\u001b[1;31m---------------------------------------------------------------------------\u001b[0m",
      "\u001b[1;31mAssertionError\u001b[0m                            Traceback (most recent call last)",
      "\u001b[1;32m<ipython-input-17-52d47cc00606>\u001b[0m in \u001b[0;36m<module>\u001b[1;34m\u001b[0m\n\u001b[0;32m      3\u001b[0m   \u001b[1;32mreturn\u001b[0m \u001b[0mx\u001b[0m\u001b[1;33m\u001b[0m\u001b[1;33m\u001b[0m\u001b[0m\n\u001b[0;32m      4\u001b[0m \u001b[1;33m\u001b[0m\u001b[0m\n\u001b[1;32m----> 5\u001b[1;33m \u001b[1;32massert\u001b[0m \u001b[1;33m(\u001b[0m\u001b[0mexercise1\u001b[0m\u001b[1;33m(\u001b[0m\u001b[0mbig_arr\u001b[0m\u001b[1;33m)\u001b[0m \u001b[1;33m==\u001b[0m \u001b[0mnp\u001b[0m\u001b[1;33m.\u001b[0m\u001b[0marray\u001b[0m\u001b[1;33m(\u001b[0m\u001b[1;33m[\u001b[0m\u001b[1;36m90\u001b[0m\u001b[1;33m,\u001b[0m \u001b[1;36m91\u001b[0m\u001b[1;33m,\u001b[0m \u001b[1;36m92\u001b[0m\u001b[1;33m,\u001b[0m \u001b[1;36m93\u001b[0m\u001b[1;33m,\u001b[0m \u001b[1;36m94\u001b[0m\u001b[1;33m,\u001b[0m \u001b[1;36m95\u001b[0m\u001b[1;33m,\u001b[0m \u001b[1;36m96\u001b[0m\u001b[1;33m,\u001b[0m \u001b[1;36m97\u001b[0m\u001b[1;33m,\u001b[0m \u001b[1;36m98\u001b[0m\u001b[1;33m,\u001b[0m \u001b[1;36m99\u001b[0m\u001b[1;33m]\u001b[0m\u001b[1;33m)\u001b[0m\u001b[1;33m)\u001b[0m\u001b[1;33m.\u001b[0m\u001b[0mall\u001b[0m\u001b[1;33m(\u001b[0m\u001b[1;33m)\u001b[0m\u001b[1;33m\u001b[0m\u001b[1;33m\u001b[0m\u001b[0m\n\u001b[0m",
      "\u001b[1;31mAssertionError\u001b[0m: "
     ]
    }
   ],
   "source": [
    "def exercise1(arr):\n",
    "  x = None\n",
    "  return x\n",
    "\n",
    "assert (exercise1(big_arr) == np.array([90, 91, 92, 93, 94, 95, 96, 97, 98, 99])).all()"
   ]
  },
  {
   "cell_type": "markdown",
   "metadata": {},
   "source": [
    "## 1.2 *If statements*"
   ]
  },
  {
   "cell_type": "markdown",
   "metadata": {
    "colab_type": "text",
    "id": "CCn_dwNnTGVW"
   },
   "source": [
    "> As the goal of this workshop is to make you very comfortable with looping in Python, the second building block necessary for this goal is to understand control flow tools and control statements. We will start with the *if statement*."
   ]
  },
  {
   "cell_type": "code",
   "execution_count": 18,
   "metadata": {
    "colab": {
     "base_uri": "https://localhost:8080/",
     "height": 35
    },
    "colab_type": "code",
    "id": "e_Oac6NxTeC2",
    "outputId": "5d322959-c46f-462f-f808-7acda0ee1357"
   },
   "outputs": [
    {
     "name": "stdout",
     "output_type": "stream",
     "text": [
      "this statement runs\n"
     ]
    }
   ],
   "source": [
    "condition = True # boolean variable set to true\n",
    "\n",
    "if condition == True: \n",
    "  print('this statement runs')\n",
    "\n",
    "condition = False\n",
    "\n",
    "if condition == True:\n",
    "  print('this statement does not')"
   ]
  },
  {
   "cell_type": "markdown",
   "metadata": {
    "colab_type": "text",
    "id": "IROYGBzlTyO8"
   },
   "source": [
    "> In the previous cell, a lot of new keywords and concepts were introduced, let's describe them\n",
    "```\n",
    "if condition == True\n",
    "````\n",
    "The $==$ is a comparison operator which compares the value to its right to the value to its left. If the two elements are equal, then the whole expression evaluates to true and can be understood as\n",
    "```\n",
    "if True == True  \n",
    "if True: # True == True reduces to True\n",
    "```\n",
    "Now, the *if statement*, being $True$, executes the piece of code after the colon. In our case,\n",
    "```\n",
    "print('this statement runs')\n",
    "```\n",
    "executes.  \n",
    "In the second case, \n",
    "```\n",
    "if condition == True\n",
    "```\n",
    "evaluates to \n",
    "```\n",
    "if False == True\n",
    "```\n",
    "and since $False \\neq True$, then the expression evaluates to $False$ just like\n",
    "```\n",
    "if False\n",
    "```\n",
    "and so the block of code delimated by this *if statement* does not execute.  \n",
    "To summarize, *if statements* only execute their code if their condition is $true$.\n",
    "```\n",
    "if condition:\n",
    "  their code\n",
    " ```\n",
    " Where their code is indented more than the if line.\n",
    "\n"
   ]
  },
  {
   "cell_type": "markdown",
   "metadata": {
    "colab_type": "text",
    "id": "fR1nm1H5X3mE"
   },
   "source": [
    "> Beside the equality comparison operator $(==)$ seen in the previous cell, there exists a lot more logic operators in python. The opposite of the equality comparison operator is the *not equal* operator $(!=)$. There exists also the *greater* and *greater or equal* operators $(>=, >)$, the *less than* and *less or equal* operators $(<=, <)$, and the negation operator (not)."
   ]
  },
  {
   "cell_type": "code",
   "execution_count": 19,
   "metadata": {
    "colab": {
     "base_uri": "https://localhost:8080/",
     "height": 69
    },
    "colab_type": "code",
    "id": "FEdQ-ggqYl22",
    "outputId": "9d1a423e-78ae-4146-fad1-e76daaa04dc9"
   },
   "outputs": [
    {
     "name": "stdout",
     "output_type": "stream",
     "text": [
      "will print\n",
      "will print\n",
      "will print\n"
     ]
    }
   ],
   "source": [
    "condition = True\n",
    "small_number = 5\n",
    "huge_number = 100000\n",
    "\n",
    "if not condition:\n",
    "  print('will not print')\n",
    "  \n",
    "if condition != False:\n",
    "  print('will print')\n",
    "  \n",
    "if small_number > huge_number:\n",
    "  print('will not print')\n",
    "  \n",
    "if small_number < huge_number:\n",
    "  print('will print')\n",
    "  \n",
    "if huge_number >= small_number:\n",
    "  print('will print')"
   ]
  },
  {
   "cell_type": "markdown",
   "metadata": {
    "colab_type": "text",
    "id": "Yho4X7dVZXWs"
   },
   "source": [
    "> The equal sign with a boolean value is optional\n",
    "```\n",
    "if condition == True:\n",
    "  print('hi')\n",
    "```\n",
    "is exactly the same statement as\n",
    "```\n",
    "if condition:\n",
    "  print('hi')\n",
    "```\n",
    "and\n",
    "```\n",
    "if condition == False:\n",
    "  print('hi')\n",
    "```\n",
    "is exactly the same statement as \n",
    "```\n",
    "if not condition:\n",
    "  print('hi')\n",
    "```"
   ]
  },
  {
   "cell_type": "code",
   "execution_count": 20,
   "metadata": {
    "colab": {
     "base_uri": "https://localhost:8080/",
     "height": 35
    },
    "colab_type": "code",
    "id": "utJrL04XZ-AI",
    "outputId": "4385f615-c12d-4c69-e9d0-6b63c277d775"
   },
   "outputs": [
    {
     "name": "stdout",
     "output_type": "stream",
     "text": [
      "not False == True, so I print\n"
     ]
    }
   ],
   "source": [
    "condition = False\n",
    "if not condition:\n",
    "  print('not False == True, so I print')\n",
    "\n",
    "if condition:\n",
    "  print('will not print')"
   ]
  },
  {
   "cell_type": "markdown",
   "metadata": {
    "colab_type": "text",
    "id": "n5qjbv4uZ7NR"
   },
   "source": [
    "> We can mix conditions together for more flexibility in logical expressions such as  *if statements*. We have the $and$ and the $or$ statements\n",
    "\n",
    "| Condition 1 | Condition 2 | or    | and   |\n",
    "|-------------|-------------|-------|-------|\n",
    "| False       | False       | False | False |\n",
    "| False       | True        | True  | False |\n",
    "| True        | False       | True  | False |\n",
    "| True        | True        | True  | True  |\n",
    "\n",
    "We can interpret this table with the following code\n",
    "``` \n",
    "if False and True:\n",
    "  print('will not print')\n",
    "  \n",
    "if False or True:\n",
    "  print('will print')\n",
    "  \n",
    "```"
   ]
  },
  {
   "cell_type": "code",
   "execution_count": 21,
   "metadata": {
    "colab": {
     "base_uri": "https://localhost:8080/",
     "height": 35
    },
    "colab_type": "code",
    "id": "62abjbMrglGY",
    "outputId": "c2729db8-9b27-4e3f-8a84-6a34c3af2a92"
   },
   "outputs": [
    {
     "name": "stdout",
     "output_type": "stream",
     "text": [
      "this will print\n"
     ]
    }
   ],
   "source": [
    "if False or False:\n",
    "  print('this does not print')\n",
    "\n",
    "if True and True:\n",
    "  print('this will print')\n",
    "  \n",
    " "
   ]
  },
  {
   "cell_type": "markdown",
   "metadata": {
    "colab_type": "text",
    "id": "mvkOq_pfoMnV"
   },
   "source": [
    "> The examples seen  in the previous cells all used boolean values or numbers . However, we can create more complex conditions involving strings and functions."
   ]
  },
  {
   "cell_type": "code",
   "execution_count": 22,
   "metadata": {
    "colab": {
     "base_uri": "https://localhost:8080/",
     "height": 69
    },
    "colab_type": "code",
    "id": "l4gwru6Coqnz",
    "outputId": "d4a6fe63-fa66-4a0e-fa90-fc21803630a6"
   },
   "outputs": [
    {
     "name": "stdout",
     "output_type": "stream",
     "text": [
      "this will print\n",
      "this will print\n",
      "this will print\n"
     ]
    }
   ],
   "source": [
    "name = 'Jack O'\n",
    "\n",
    "if name == 'Jack O':\n",
    "  print('this will print')\n",
    "\n",
    "if len(name) == 6:\n",
    "  print('this will print')\n",
    "  \n",
    "if name == 'Jack O' and len(name) == 6:\n",
    "  print('this will print')"
   ]
  },
  {
   "cell_type": "markdown",
   "metadata": {},
   "source": [
    "### Exercise 2"
   ]
  },
  {
   "cell_type": "markdown",
   "metadata": {},
   "source": [
    "> Make sure that either number1 or number2 lie between their respective thresholds"
   ]
  },
  {
   "cell_type": "code",
   "execution_count": 23,
   "metadata": {
    "colab": {},
    "colab_type": "code",
    "id": "GhYaX1eHHK4j"
   },
   "outputs": [
    {
     "ename": "AssertionError",
     "evalue": "",
     "output_type": "error",
     "traceback": [
      "\u001b[1;31m---------------------------------------------------------------------------\u001b[0m",
      "\u001b[1;31mAssertionError\u001b[0m                            Traceback (most recent call last)",
      "\u001b[1;32m<ipython-input-23-655aa52a7410>\u001b[0m in \u001b[0;36m<module>\u001b[1;34m\u001b[0m\n\u001b[0;32m      3\u001b[0m   \u001b[1;32mpass\u001b[0m\u001b[1;33m\u001b[0m\u001b[1;33m\u001b[0m\u001b[0m\n\u001b[0;32m      4\u001b[0m \u001b[1;33m\u001b[0m\u001b[0m\n\u001b[1;32m----> 5\u001b[1;33m \u001b[1;32massert\u001b[0m \u001b[0mexercise2\u001b[0m\u001b[1;33m(\u001b[0m\u001b[1;36m10\u001b[0m\u001b[1;33m,\u001b[0m \u001b[1;36m15\u001b[0m\u001b[1;33m,\u001b[0m \u001b[1;36m20\u001b[0m\u001b[1;33m,\u001b[0m \u001b[1;36m12\u001b[0m\u001b[1;33m,\u001b[0m \u001b[1;36m10\u001b[0m\u001b[1;33m,\u001b[0m \u001b[1;36m11\u001b[0m\u001b[1;33m)\u001b[0m \u001b[1;33m==\u001b[0m \u001b[1;32mFalse\u001b[0m\u001b[1;33m\u001b[0m\u001b[1;33m\u001b[0m\u001b[0m\n\u001b[0m\u001b[0;32m      6\u001b[0m \u001b[1;33m\u001b[0m\u001b[0m\n\u001b[0;32m      7\u001b[0m \u001b[1;32massert\u001b[0m \u001b[0mexercise2\u001b[0m\u001b[1;33m(\u001b[0m\u001b[1;36m8\u001b[0m\u001b[1;33m,\u001b[0m \u001b[1;36m6\u001b[0m\u001b[1;33m,\u001b[0m \u001b[1;36m9\u001b[0m\u001b[1;33m,\u001b[0m \u001b[1;36m10\u001b[0m\u001b[1;33m,\u001b[0m \u001b[1;36m11\u001b[0m\u001b[1;33m,\u001b[0m \u001b[1;36m22\u001b[0m\u001b[1;33m)\u001b[0m \u001b[1;33m==\u001b[0m \u001b[1;32mTrue\u001b[0m\u001b[1;33m\u001b[0m\u001b[1;33m\u001b[0m\u001b[0m\n",
      "\u001b[1;31mAssertionError\u001b[0m: "
     ]
    }
   ],
   "source": [
    "def exercise2(number1, low_threshold1, high_threshold1,\n",
    "              number2, low_threshold2, high_threshold2):\n",
    "  pass\n",
    "\n",
    "assert exercise2(10, 15, 20, 12, 10, 11) == False\n",
    "\n",
    "assert exercise2(8, 6, 9, 10, 11, 22) == True\n"
   ]
  },
  {
   "cell_type": "markdown",
   "metadata": {},
   "source": [
    "## 1.3 Loops"
   ]
  },
  {
   "cell_type": "markdown",
   "metadata": {
    "colab_type": "text",
    "id": "iz99T6IQQkbq"
   },
   "source": [
    "> Loops are very important in any good programming languages, and Python is no exception. They are often used to iterate over some lists, arrays or iterable data structure, or to repeat a task multiple times. Python features two main types of loops: the *for loop* and the *while loop*."
   ]
  },
  {
   "cell_type": "code",
   "execution_count": 24,
   "metadata": {
    "colab": {
     "base_uri": "https://localhost:8080/",
     "height": 191
    },
    "colab_type": "code",
    "id": "X-gPRIDkQiCz",
    "outputId": "4d4f833b-e8f5-4921-f7f3-d8b7e07c9ada"
   },
   "outputs": [
    {
     "name": "stdout",
     "output_type": "stream",
     "text": [
      "current element: [0 1 2 3 4 5 6 7 8 9]\n",
      "current element: [10 11 12 13 14 15 16 17 18 19]\n",
      "current element: [20 21 22 23 24 25 26 27 28 29]\n",
      "current element: [30 31 32 33 34 35 36 37 38 39]\n",
      "current element: [40 41 42 43 44 45 46 47 48 49]\n",
      "current element: [50 51 52 53 54 55 56 57 58 59]\n",
      "current element: [60 61 62 63 64 65 66 67 68 69]\n",
      "current element: [70 71 72 73 74 75 76 77 78 79]\n",
      "current element: [80 81 82 83 84 85 86 87 88 89]\n",
      "current element: [90 91 92 93 94 95 96 97 98 99]\n"
     ]
    }
   ],
   "source": [
    "for element in big_arr:\n",
    "  print(\"current element: {}\".format(element))"
   ]
  },
  {
   "cell_type": "markdown",
   "metadata": {
    "colab_type": "text",
    "id": "2NNLQLnPeuXa"
   },
   "source": [
    "> Let's understand the previous statement. \n",
    "```\n",
    "for element in big_arr:\n",
    "```\n",
    "since *big_arr* is a multidimensional array (a 2 dimension array in our case), we iterate over the rows. Everything is taken care of under the hood such that the loop stops automatically.  We can appreciate the simplicity of Python when we compare to other programming languages, such as C.\n",
    "```\n",
    "int[][] big_arr = new int[10][10];\n",
    "for (int i = 0; i < 10; i++){\n",
    "  printf(\"current element:\");\n",
    "  for (int j = 0; j < 10; j++)}\n",
    "    printf(\"%f\", big_arr[i][j]);  \n",
    "  }\n",
    "  printf(\"\\n\");\n",
    "}\n",
    "```\n",
    "\n",
    "We might want the index for numerous purposes such as printing the current iteration. We use the *enumerate* method to do so. "
   ]
  },
  {
   "cell_type": "code",
   "execution_count": 25,
   "metadata": {
    "colab": {
     "base_uri": "https://localhost:8080/",
     "height": 191
    },
    "colab_type": "code",
    "id": "UN5e6tJtiszT",
    "outputId": "c257725f-7db7-4e6f-b00a-eafbf37e5671"
   },
   "outputs": [
    {
     "name": "stdout",
     "output_type": "stream",
     "text": [
      "current index: 0, current element: [0 1 2 3 4 5 6 7 8 9]\n",
      "current index: 1, current element: [10 11 12 13 14 15 16 17 18 19]\n",
      "current index: 2, current element: [20 21 22 23 24 25 26 27 28 29]\n",
      "current index: 3, current element: [30 31 32 33 34 35 36 37 38 39]\n",
      "current index: 4, current element: [40 41 42 43 44 45 46 47 48 49]\n",
      "current index: 5, current element: [50 51 52 53 54 55 56 57 58 59]\n",
      "current index: 6, current element: [60 61 62 63 64 65 66 67 68 69]\n",
      "current index: 7, current element: [70 71 72 73 74 75 76 77 78 79]\n",
      "current index: 8, current element: [80 81 82 83 84 85 86 87 88 89]\n",
      "current index: 9, current element: [90 91 92 93 94 95 96 97 98 99]\n"
     ]
    }
   ],
   "source": [
    "for index, element in enumerate(big_arr):\n",
    "  print('current index: {}, current element: {}'.format(index, element))"
   ]
  },
  {
   "cell_type": "markdown",
   "metadata": {
    "colab_type": "text",
    "id": "_EEyby0AlngU"
   },
   "source": [
    "> Notice that the loop starts at index 0 and not 1.  \n",
    "We can pile up loops on top of each other. The first loop is called the _outer_ loop while the second loop is calle dthe _inner_ loop."
   ]
  },
  {
   "cell_type": "code",
   "execution_count": 26,
   "metadata": {
    "colab": {
     "base_uri": "https://localhost:8080/",
     "height": 364
    },
    "colab_type": "code",
    "id": "3Q83tv0-lg3y",
    "outputId": "d93eb0f3-4825-44e5-ac7e-f4a923f538d1"
   },
   "outputs": [
    {
     "name": "stdout",
     "output_type": "stream",
     "text": [
      "0\n",
      "1\n",
      "2\n",
      "3\n",
      "4\n",
      "5\n",
      "6\n",
      "7\n",
      "8\n",
      "9\n",
      "10\n",
      "11\n",
      "12\n",
      "13\n",
      "14\n",
      "15\n",
      "16\n",
      "17\n",
      "18\n",
      "19\n"
     ]
    }
   ],
   "source": [
    "for i, row in enumerate(big_arr): # outer loop\n",
    "  for j, element in enumerate(row): # inner loop\n",
    "    if i * big_arr.shape[0] + j < 20: # I print only the first 20 elements\n",
    "      print(element) "
   ]
  },
  {
   "cell_type": "markdown",
   "metadata": {},
   "source": [
    "### Exercise 3"
   ]
  },
  {
   "cell_type": "markdown",
   "metadata": {},
   "source": [
    "> Compute the average value of the $x$ array."
   ]
  },
  {
   "cell_type": "code",
   "execution_count": 27,
   "metadata": {
    "colab": {},
    "colab_type": "code",
    "id": "0oyHCeI7NDV4"
   },
   "outputs": [
    {
     "ename": "AssertionError",
     "evalue": "",
     "output_type": "error",
     "traceback": [
      "\u001b[1;31m---------------------------------------------------------------------------\u001b[0m",
      "\u001b[1;31mAssertionError\u001b[0m                            Traceback (most recent call last)",
      "\u001b[1;32m<ipython-input-27-daaba776d938>\u001b[0m in \u001b[0;36m<module>\u001b[1;34m\u001b[0m\n\u001b[0;32m      6\u001b[0m \u001b[1;33m\u001b[0m\u001b[0m\n\u001b[0;32m      7\u001b[0m \u001b[1;33m\u001b[0m\u001b[0m\n\u001b[1;32m----> 8\u001b[1;33m \u001b[1;32massert\u001b[0m \u001b[1;34m'{:3f}'\u001b[0m\u001b[1;33m.\u001b[0m\u001b[0mformat\u001b[0m\u001b[1;33m(\u001b[0m\u001b[0mexercise3\u001b[0m\u001b[1;33m(\u001b[0m\u001b[0mx\u001b[0m\u001b[1;33m)\u001b[0m\u001b[1;33m)\u001b[0m \u001b[1;33m==\u001b[0m \u001b[1;34m'{:3f}'\u001b[0m\u001b[1;33m.\u001b[0m\u001b[0mformat\u001b[0m\u001b[1;33m(\u001b[0m\u001b[0mnp\u001b[0m\u001b[1;33m.\u001b[0m\u001b[0maverage\u001b[0m\u001b[1;33m(\u001b[0m\u001b[0mx\u001b[0m\u001b[1;33m)\u001b[0m\u001b[1;33m)\u001b[0m\u001b[1;33m\u001b[0m\u001b[1;33m\u001b[0m\u001b[0m\n\u001b[0m",
      "\u001b[1;31mAssertionError\u001b[0m: "
     ]
    }
   ],
   "source": [
    "x = np.random.randn(100)\n",
    "\n",
    "def exercise3(arr):\n",
    "  _sum = 0\n",
    "  return _sum\n",
    "\n",
    "\n",
    "assert '{:3f}'.format(exercise3(x)) == '{:3f}'.format(np.average(x))"
   ]
  },
  {
   "cell_type": "markdown",
   "metadata": {
    "colab_type": "text",
    "id": "ej_zBwMWnGoX"
   },
   "source": [
    "> There exists another way of dealing with *for loops* in Python which is named list comprehensions. The basic syntax is \n",
    "```\n",
    "[ expression for item in list if condition ]\n",
    "```\n",
    "notice the two bracked surrounding the line, as well as the few keywords.  \n",
    "* for: the variable name following the for is an individual element coming from the list which can be accessed in the expression.\n",
    "* in: the variable following the in keyword represents where we are looping on.\n",
    "* if:  the if keyword as well as its condition that follows it are optional."
   ]
  },
  {
   "cell_type": "code",
   "execution_count": 37,
   "metadata": {},
   "outputs": [
    {
     "name": "stdout",
     "output_type": "stream",
     "text": [
      "-0.019922292112282376\n"
     ]
    },
    {
     "data": {
      "text/plain": [
       "[0.6414412389252723,\n",
       " 0.2099006295640668,\n",
       " 0.300886351097635,\n",
       " 0.05492078564340846,\n",
       " 0.8319457661383078,\n",
       " 1.008280837606465]"
      ]
     },
     "execution_count": 37,
     "metadata": {},
     "output_type": "execute_result"
    }
   ],
   "source": [
    "random_values = np.random.randn(12)\n",
    "print(np.average(random_values))\n",
    "top_x_values = [el for el in random_values if el > np.average(random_values)]\n",
    "top_x_values"
   ]
  },
  {
   "cell_type": "code",
   "execution_count": 40,
   "metadata": {},
   "outputs": [
    {
     "data": {
      "text/plain": [
       "[[], [], [], [], []]"
      ]
     },
     "execution_count": 40,
     "metadata": {},
     "output_type": "execute_result"
    }
   ],
   "source": [
    "# creating a simple 2d list\n",
    "twodim_list = [[] for whatever in range(5)]\n",
    "twodim_list"
   ]
  },
  {
   "cell_type": "markdown",
   "metadata": {
    "colab_type": "text",
    "id": "nh2Pr5uXCdtV"
   },
   "source": [
    "> There is another type of loop which is the *while* loop that has a different structure. The *while* loop uses the same structure as the *if statement* seen previously. It executes until its condition evaluates to $False$.\n",
    "```\n",
    "while condition:\n",
    "  expression\n",
    "```\n",
    "The expression runs only if the condition evaluates to $True$."
   ]
  },
  {
   "cell_type": "code",
   "execution_count": 41,
   "metadata": {
    "colab": {
     "base_uri": "https://localhost:8080/",
     "height": 104
    },
    "colab_type": "code",
    "id": "IQLpu_LXmWWt",
    "outputId": "9d69b1ae-a28a-41d8-a637-594ee6fd85f5"
   },
   "outputs": [
    {
     "name": "stdout",
     "output_type": "stream",
     "text": [
      "i value: 0\n",
      "i value: 1\n",
      "i value: 2\n",
      "i value: 3\n",
      "i value: 4\n"
     ]
    }
   ],
   "source": [
    "i = 0\n",
    "while i < 5:\n",
    "  print('i value: {}'.format(i))\n",
    "  i = i + 1 # alternatively i += 1"
   ]
  },
  {
   "cell_type": "markdown",
   "metadata": {
    "colab_type": "text",
    "id": "yrhKL4WqOQoY"
   },
   "source": [
    "> Let's wrap our conversation about loops with the *range*  function\n",
    "```\n",
    "range(start, stop, step)\n",
    "```\n",
    "All three parameters are optional, by default $start$ is 0, $stop$ is nothing and $step$ is 1. In other words, it's an $\\infty $ range. If we give one parameter to the range function, it's the stop value.\n",
    "```\n",
    "range(10)\n",
    "```\n",
    "So if we use the following line in our code, we will be able to loop 10 times."
   ]
  },
  {
   "cell_type": "code",
   "execution_count": 42,
   "metadata": {
    "colab": {
     "base_uri": "https://localhost:8080/",
     "height": 104
    },
    "colab_type": "code",
    "id": "5njNQ2E3WRvT",
    "outputId": "e9af7e0d-8d80-4beb-b0f3-fe1de8c869e2"
   },
   "outputs": [
    {
     "name": "stdout",
     "output_type": "stream",
     "text": [
      "0\n",
      "1\n",
      "2\n",
      "3\n",
      "4\n"
     ]
    }
   ],
   "source": [
    "for x in range(5):\n",
    "  print(x)"
   ]
  },
  {
   "cell_type": "markdown",
   "metadata": {
    "colab_type": "text",
    "id": "eLgnMYgWHnNS"
   },
   "source": [
    "> Let's use the notion we saw today to preprocess some dataset. The dataset we will look at is the World Hapiness Report 2019. We will use pandas DataFrame to manipulate the data."
   ]
  },
  {
   "cell_type": "code",
   "execution_count": 43,
   "metadata": {
    "colab": {
     "base_uri": "https://localhost:8080/",
     "height": 218
    },
    "colab_type": "code",
    "id": "axPNLcWqJTbn",
    "outputId": "6a43135c-6c9d-4be2-80f6-2c29b5601fed"
   },
   "outputs": [
    {
     "data": {
      "text/html": [
       "<div>\n",
       "<style scoped>\n",
       "    .dataframe tbody tr th:only-of-type {\n",
       "        vertical-align: middle;\n",
       "    }\n",
       "\n",
       "    .dataframe tbody tr th {\n",
       "        vertical-align: top;\n",
       "    }\n",
       "\n",
       "    .dataframe thead th {\n",
       "        text-align: right;\n",
       "    }\n",
       "</style>\n",
       "<table border=\"1\" class=\"dataframe\">\n",
       "  <thead>\n",
       "    <tr style=\"text-align: right;\">\n",
       "      <th></th>\n",
       "      <th>Country (region)</th>\n",
       "      <th>Ladder</th>\n",
       "      <th>SD of Ladder</th>\n",
       "      <th>Positive affect</th>\n",
       "      <th>Negative affect</th>\n",
       "      <th>Social support</th>\n",
       "      <th>Freedom</th>\n",
       "      <th>Corruption</th>\n",
       "      <th>Generosity</th>\n",
       "      <th>Log of GDP\n",
       "per capita</th>\n",
       "      <th>Healthy life\n",
       "expectancy</th>\n",
       "    </tr>\n",
       "  </thead>\n",
       "  <tbody>\n",
       "    <tr>\n",
       "      <th>30</th>\n",
       "      <td>Panama</td>\n",
       "      <td>31</td>\n",
       "      <td>121</td>\n",
       "      <td>7.0</td>\n",
       "      <td>48.0</td>\n",
       "      <td>41.0</td>\n",
       "      <td>32.0</td>\n",
       "      <td>104.0</td>\n",
       "      <td>88.0</td>\n",
       "      <td>51.0</td>\n",
       "      <td>33.0</td>\n",
       "    </tr>\n",
       "    <tr>\n",
       "      <th>31</th>\n",
       "      <td>Brazil</td>\n",
       "      <td>32</td>\n",
       "      <td>116</td>\n",
       "      <td>69.0</td>\n",
       "      <td>105.0</td>\n",
       "      <td>43.0</td>\n",
       "      <td>84.0</td>\n",
       "      <td>71.0</td>\n",
       "      <td>108.0</td>\n",
       "      <td>70.0</td>\n",
       "      <td>72.0</td>\n",
       "    </tr>\n",
       "    <tr>\n",
       "      <th>32</th>\n",
       "      <td>Uruguay</td>\n",
       "      <td>33</td>\n",
       "      <td>88</td>\n",
       "      <td>10.0</td>\n",
       "      <td>76.0</td>\n",
       "      <td>35.0</td>\n",
       "      <td>30.0</td>\n",
       "      <td>33.0</td>\n",
       "      <td>80.0</td>\n",
       "      <td>52.0</td>\n",
       "      <td>35.0</td>\n",
       "    </tr>\n",
       "    <tr>\n",
       "      <th>33</th>\n",
       "      <td>Singapore</td>\n",
       "      <td>34</td>\n",
       "      <td>5</td>\n",
       "      <td>38.0</td>\n",
       "      <td>2.0</td>\n",
       "      <td>36.0</td>\n",
       "      <td>20.0</td>\n",
       "      <td>1.0</td>\n",
       "      <td>21.0</td>\n",
       "      <td>3.0</td>\n",
       "      <td>1.0</td>\n",
       "    </tr>\n",
       "    <tr>\n",
       "      <th>34</th>\n",
       "      <td>El Salvador</td>\n",
       "      <td>35</td>\n",
       "      <td>112</td>\n",
       "      <td>23.0</td>\n",
       "      <td>84.0</td>\n",
       "      <td>83.0</td>\n",
       "      <td>74.0</td>\n",
       "      <td>85.0</td>\n",
       "      <td>134.0</td>\n",
       "      <td>100.0</td>\n",
       "      <td>75.0</td>\n",
       "    </tr>\n",
       "    <tr>\n",
       "      <th>35</th>\n",
       "      <td>Italy</td>\n",
       "      <td>36</td>\n",
       "      <td>31</td>\n",
       "      <td>99.0</td>\n",
       "      <td>123.0</td>\n",
       "      <td>23.0</td>\n",
       "      <td>132.0</td>\n",
       "      <td>128.0</td>\n",
       "      <td>48.0</td>\n",
       "      <td>29.0</td>\n",
       "      <td>7.0</td>\n",
       "    </tr>\n",
       "    <tr>\n",
       "      <th>36</th>\n",
       "      <td>Bahrain</td>\n",
       "      <td>37</td>\n",
       "      <td>83</td>\n",
       "      <td>39.0</td>\n",
       "      <td>83.0</td>\n",
       "      <td>59.0</td>\n",
       "      <td>24.0</td>\n",
       "      <td>NaN</td>\n",
       "      <td>23.0</td>\n",
       "      <td>20.0</td>\n",
       "      <td>42.0</td>\n",
       "    </tr>\n",
       "    <tr>\n",
       "      <th>37</th>\n",
       "      <td>Slovakia</td>\n",
       "      <td>38</td>\n",
       "      <td>39</td>\n",
       "      <td>53.0</td>\n",
       "      <td>47.0</td>\n",
       "      <td>21.0</td>\n",
       "      <td>108.0</td>\n",
       "      <td>142.0</td>\n",
       "      <td>70.0</td>\n",
       "      <td>35.0</td>\n",
       "      <td>38.0</td>\n",
       "    </tr>\n",
       "    <tr>\n",
       "      <th>38</th>\n",
       "      <td>Trinidad and Tobago</td>\n",
       "      <td>39</td>\n",
       "      <td>89</td>\n",
       "      <td>14.0</td>\n",
       "      <td>52.0</td>\n",
       "      <td>29.0</td>\n",
       "      <td>51.0</td>\n",
       "      <td>141.0</td>\n",
       "      <td>41.0</td>\n",
       "      <td>38.0</td>\n",
       "      <td>93.0</td>\n",
       "    </tr>\n",
       "    <tr>\n",
       "      <th>39</th>\n",
       "      <td>Poland</td>\n",
       "      <td>40</td>\n",
       "      <td>28</td>\n",
       "      <td>76.0</td>\n",
       "      <td>33.0</td>\n",
       "      <td>44.0</td>\n",
       "      <td>52.0</td>\n",
       "      <td>108.0</td>\n",
       "      <td>77.0</td>\n",
       "      <td>41.0</td>\n",
       "      <td>36.0</td>\n",
       "    </tr>\n",
       "    <tr>\n",
       "      <th>40</th>\n",
       "      <td>Uzbekistan</td>\n",
       "      <td>41</td>\n",
       "      <td>99</td>\n",
       "      <td>19.0</td>\n",
       "      <td>15.0</td>\n",
       "      <td>11.0</td>\n",
       "      <td>1.0</td>\n",
       "      <td>18.0</td>\n",
       "      <td>29.0</td>\n",
       "      <td>104.0</td>\n",
       "      <td>83.0</td>\n",
       "    </tr>\n",
       "    <tr>\n",
       "      <th>41</th>\n",
       "      <td>Lithuania</td>\n",
       "      <td>42</td>\n",
       "      <td>55</td>\n",
       "      <td>138.0</td>\n",
       "      <td>41.0</td>\n",
       "      <td>17.0</td>\n",
       "      <td>122.0</td>\n",
       "      <td>113.0</td>\n",
       "      <td>124.0</td>\n",
       "      <td>36.0</td>\n",
       "      <td>62.0</td>\n",
       "    </tr>\n",
       "    <tr>\n",
       "      <th>42</th>\n",
       "      <td>Colombia</td>\n",
       "      <td>43</td>\n",
       "      <td>120</td>\n",
       "      <td>30.0</td>\n",
       "      <td>88.0</td>\n",
       "      <td>52.0</td>\n",
       "      <td>56.0</td>\n",
       "      <td>124.0</td>\n",
       "      <td>111.0</td>\n",
       "      <td>74.0</td>\n",
       "      <td>51.0</td>\n",
       "    </tr>\n",
       "    <tr>\n",
       "      <th>43</th>\n",
       "      <td>Slovenia</td>\n",
       "      <td>44</td>\n",
       "      <td>54</td>\n",
       "      <td>114.0</td>\n",
       "      <td>71.0</td>\n",
       "      <td>14.0</td>\n",
       "      <td>13.0</td>\n",
       "      <td>97.0</td>\n",
       "      <td>54.0</td>\n",
       "      <td>34.0</td>\n",
       "      <td>29.0</td>\n",
       "    </tr>\n",
       "    <tr>\n",
       "      <th>44</th>\n",
       "      <td>Nicaragua</td>\n",
       "      <td>45</td>\n",
       "      <td>133</td>\n",
       "      <td>31.0</td>\n",
       "      <td>125.0</td>\n",
       "      <td>66.0</td>\n",
       "      <td>70.0</td>\n",
       "      <td>43.0</td>\n",
       "      <td>71.0</td>\n",
       "      <td>108.0</td>\n",
       "      <td>53.0</td>\n",
       "    </tr>\n",
       "    <tr>\n",
       "      <th>45</th>\n",
       "      <td>Kosovo</td>\n",
       "      <td>46</td>\n",
       "      <td>107</td>\n",
       "      <td>71.0</td>\n",
       "      <td>7.0</td>\n",
       "      <td>85.0</td>\n",
       "      <td>50.0</td>\n",
       "      <td>144.0</td>\n",
       "      <td>31.0</td>\n",
       "      <td>88.0</td>\n",
       "      <td>NaN</td>\n",
       "    </tr>\n",
       "    <tr>\n",
       "      <th>46</th>\n",
       "      <td>Argentina</td>\n",
       "      <td>47</td>\n",
       "      <td>97</td>\n",
       "      <td>28.0</td>\n",
       "      <td>93.0</td>\n",
       "      <td>46.0</td>\n",
       "      <td>54.0</td>\n",
       "      <td>109.0</td>\n",
       "      <td>123.0</td>\n",
       "      <td>55.0</td>\n",
       "      <td>37.0</td>\n",
       "    </tr>\n",
       "    <tr>\n",
       "      <th>47</th>\n",
       "      <td>Romania</td>\n",
       "      <td>48</td>\n",
       "      <td>75</td>\n",
       "      <td>80.0</td>\n",
       "      <td>62.0</td>\n",
       "      <td>86.0</td>\n",
       "      <td>57.0</td>\n",
       "      <td>146.0</td>\n",
       "      <td>102.0</td>\n",
       "      <td>48.0</td>\n",
       "      <td>61.0</td>\n",
       "    </tr>\n",
       "    <tr>\n",
       "      <th>48</th>\n",
       "      <td>Cyprus</td>\n",
       "      <td>49</td>\n",
       "      <td>95</td>\n",
       "      <td>60.0</td>\n",
       "      <td>99.0</td>\n",
       "      <td>90.0</td>\n",
       "      <td>81.0</td>\n",
       "      <td>115.0</td>\n",
       "      <td>39.0</td>\n",
       "      <td>33.0</td>\n",
       "      <td>6.0</td>\n",
       "    </tr>\n",
       "    <tr>\n",
       "      <th>49</th>\n",
       "      <td>Ecuador</td>\n",
       "      <td>50</td>\n",
       "      <td>113</td>\n",
       "      <td>11.0</td>\n",
       "      <td>113.0</td>\n",
       "      <td>71.0</td>\n",
       "      <td>42.0</td>\n",
       "      <td>68.0</td>\n",
       "      <td>95.0</td>\n",
       "      <td>86.0</td>\n",
       "      <td>45.0</td>\n",
       "    </tr>\n",
       "    <tr>\n",
       "      <th>50</th>\n",
       "      <td>Kuwait</td>\n",
       "      <td>51</td>\n",
       "      <td>98</td>\n",
       "      <td>89.0</td>\n",
       "      <td>97.0</td>\n",
       "      <td>69.0</td>\n",
       "      <td>47.0</td>\n",
       "      <td>NaN</td>\n",
       "      <td>42.0</td>\n",
       "      <td>5.0</td>\n",
       "      <td>70.0</td>\n",
       "    </tr>\n",
       "    <tr>\n",
       "      <th>51</th>\n",
       "      <td>Thailand</td>\n",
       "      <td>52</td>\n",
       "      <td>81</td>\n",
       "      <td>20.0</td>\n",
       "      <td>35.0</td>\n",
       "      <td>53.0</td>\n",
       "      <td>18.0</td>\n",
       "      <td>131.0</td>\n",
       "      <td>10.0</td>\n",
       "      <td>62.0</td>\n",
       "      <td>58.0</td>\n",
       "    </tr>\n",
       "    <tr>\n",
       "      <th>52</th>\n",
       "      <td>Latvia</td>\n",
       "      <td>53</td>\n",
       "      <td>30</td>\n",
       "      <td>119.0</td>\n",
       "      <td>38.0</td>\n",
       "      <td>34.0</td>\n",
       "      <td>126.0</td>\n",
       "      <td>92.0</td>\n",
       "      <td>105.0</td>\n",
       "      <td>43.0</td>\n",
       "      <td>68.0</td>\n",
       "    </tr>\n",
       "    <tr>\n",
       "      <th>53</th>\n",
       "      <td>South Korea</td>\n",
       "      <td>54</td>\n",
       "      <td>57</td>\n",
       "      <td>101.0</td>\n",
       "      <td>45.0</td>\n",
       "      <td>91.0</td>\n",
       "      <td>144.0</td>\n",
       "      <td>100.0</td>\n",
       "      <td>40.0</td>\n",
       "      <td>27.0</td>\n",
       "      <td>9.0</td>\n",
       "    </tr>\n",
       "    <tr>\n",
       "      <th>54</th>\n",
       "      <td>Estonia</td>\n",
       "      <td>55</td>\n",
       "      <td>32</td>\n",
       "      <td>50.0</td>\n",
       "      <td>6.0</td>\n",
       "      <td>12.0</td>\n",
       "      <td>45.0</td>\n",
       "      <td>30.0</td>\n",
       "      <td>83.0</td>\n",
       "      <td>37.0</td>\n",
       "      <td>41.0</td>\n",
       "    </tr>\n",
       "    <tr>\n",
       "      <th>55</th>\n",
       "      <td>Jamaica</td>\n",
       "      <td>56</td>\n",
       "      <td>102</td>\n",
       "      <td>51.0</td>\n",
       "      <td>51.0</td>\n",
       "      <td>28.0</td>\n",
       "      <td>49.0</td>\n",
       "      <td>130.0</td>\n",
       "      <td>119.0</td>\n",
       "      <td>93.0</td>\n",
       "      <td>55.0</td>\n",
       "    </tr>\n",
       "    <tr>\n",
       "      <th>56</th>\n",
       "      <td>Mauritius</td>\n",
       "      <td>57</td>\n",
       "      <td>94</td>\n",
       "      <td>55.0</td>\n",
       "      <td>16.0</td>\n",
       "      <td>54.0</td>\n",
       "      <td>40.0</td>\n",
       "      <td>96.0</td>\n",
       "      <td>37.0</td>\n",
       "      <td>53.0</td>\n",
       "      <td>73.0</td>\n",
       "    </tr>\n",
       "    <tr>\n",
       "      <th>57</th>\n",
       "      <td>Japan</td>\n",
       "      <td>58</td>\n",
       "      <td>43</td>\n",
       "      <td>73.0</td>\n",
       "      <td>14.0</td>\n",
       "      <td>50.0</td>\n",
       "      <td>64.0</td>\n",
       "      <td>39.0</td>\n",
       "      <td>92.0</td>\n",
       "      <td>24.0</td>\n",
       "      <td>2.0</td>\n",
       "    </tr>\n",
       "    <tr>\n",
       "      <th>58</th>\n",
       "      <td>Honduras</td>\n",
       "      <td>59</td>\n",
       "      <td>151</td>\n",
       "      <td>13.0</td>\n",
       "      <td>73.0</td>\n",
       "      <td>84.0</td>\n",
       "      <td>39.0</td>\n",
       "      <td>79.0</td>\n",
       "      <td>51.0</td>\n",
       "      <td>113.0</td>\n",
       "      <td>57.0</td>\n",
       "    </tr>\n",
       "    <tr>\n",
       "      <th>59</th>\n",
       "      <td>Kazakhstan</td>\n",
       "      <td>60</td>\n",
       "      <td>40</td>\n",
       "      <td>81.0</td>\n",
       "      <td>5.0</td>\n",
       "      <td>19.0</td>\n",
       "      <td>80.0</td>\n",
       "      <td>57.0</td>\n",
       "      <td>57.0</td>\n",
       "      <td>47.0</td>\n",
       "      <td>88.0</td>\n",
       "    </tr>\n",
       "    <tr>\n",
       "      <th>60</th>\n",
       "      <td>Bolivia</td>\n",
       "      <td>61</td>\n",
       "      <td>71</td>\n",
       "      <td>70.0</td>\n",
       "      <td>138.0</td>\n",
       "      <td>93.0</td>\n",
       "      <td>35.0</td>\n",
       "      <td>91.0</td>\n",
       "      <td>104.0</td>\n",
       "      <td>101.0</td>\n",
       "      <td>94.0</td>\n",
       "    </tr>\n",
       "  </tbody>\n",
       "</table>\n",
       "</div>"
      ],
      "text/plain": [
       "       Country (region)  Ladder  SD of Ladder  Positive affect  \\\n",
       "30               Panama      31           121              7.0   \n",
       "31               Brazil      32           116             69.0   \n",
       "32              Uruguay      33            88             10.0   \n",
       "33            Singapore      34             5             38.0   \n",
       "34          El Salvador      35           112             23.0   \n",
       "35                Italy      36            31             99.0   \n",
       "36              Bahrain      37            83             39.0   \n",
       "37             Slovakia      38            39             53.0   \n",
       "38  Trinidad and Tobago      39            89             14.0   \n",
       "39               Poland      40            28             76.0   \n",
       "40           Uzbekistan      41            99             19.0   \n",
       "41            Lithuania      42            55            138.0   \n",
       "42             Colombia      43           120             30.0   \n",
       "43             Slovenia      44            54            114.0   \n",
       "44            Nicaragua      45           133             31.0   \n",
       "45               Kosovo      46           107             71.0   \n",
       "46            Argentina      47            97             28.0   \n",
       "47              Romania      48            75             80.0   \n",
       "48               Cyprus      49            95             60.0   \n",
       "49              Ecuador      50           113             11.0   \n",
       "50               Kuwait      51            98             89.0   \n",
       "51             Thailand      52            81             20.0   \n",
       "52               Latvia      53            30            119.0   \n",
       "53          South Korea      54            57            101.0   \n",
       "54              Estonia      55            32             50.0   \n",
       "55              Jamaica      56           102             51.0   \n",
       "56            Mauritius      57            94             55.0   \n",
       "57                Japan      58            43             73.0   \n",
       "58             Honduras      59           151             13.0   \n",
       "59           Kazakhstan      60            40             81.0   \n",
       "60              Bolivia      61            71             70.0   \n",
       "\n",
       "    Negative affect  Social support  Freedom  Corruption  Generosity  \\\n",
       "30             48.0            41.0     32.0       104.0        88.0   \n",
       "31            105.0            43.0     84.0        71.0       108.0   \n",
       "32             76.0            35.0     30.0        33.0        80.0   \n",
       "33              2.0            36.0     20.0         1.0        21.0   \n",
       "34             84.0            83.0     74.0        85.0       134.0   \n",
       "35            123.0            23.0    132.0       128.0        48.0   \n",
       "36             83.0            59.0     24.0         NaN        23.0   \n",
       "37             47.0            21.0    108.0       142.0        70.0   \n",
       "38             52.0            29.0     51.0       141.0        41.0   \n",
       "39             33.0            44.0     52.0       108.0        77.0   \n",
       "40             15.0            11.0      1.0        18.0        29.0   \n",
       "41             41.0            17.0    122.0       113.0       124.0   \n",
       "42             88.0            52.0     56.0       124.0       111.0   \n",
       "43             71.0            14.0     13.0        97.0        54.0   \n",
       "44            125.0            66.0     70.0        43.0        71.0   \n",
       "45              7.0            85.0     50.0       144.0        31.0   \n",
       "46             93.0            46.0     54.0       109.0       123.0   \n",
       "47             62.0            86.0     57.0       146.0       102.0   \n",
       "48             99.0            90.0     81.0       115.0        39.0   \n",
       "49            113.0            71.0     42.0        68.0        95.0   \n",
       "50             97.0            69.0     47.0         NaN        42.0   \n",
       "51             35.0            53.0     18.0       131.0        10.0   \n",
       "52             38.0            34.0    126.0        92.0       105.0   \n",
       "53             45.0            91.0    144.0       100.0        40.0   \n",
       "54              6.0            12.0     45.0        30.0        83.0   \n",
       "55             51.0            28.0     49.0       130.0       119.0   \n",
       "56             16.0            54.0     40.0        96.0        37.0   \n",
       "57             14.0            50.0     64.0        39.0        92.0   \n",
       "58             73.0            84.0     39.0        79.0        51.0   \n",
       "59              5.0            19.0     80.0        57.0        57.0   \n",
       "60            138.0            93.0     35.0        91.0       104.0   \n",
       "\n",
       "    Log of GDP\\nper capita  Healthy life\\nexpectancy  \n",
       "30                    51.0                      33.0  \n",
       "31                    70.0                      72.0  \n",
       "32                    52.0                      35.0  \n",
       "33                     3.0                       1.0  \n",
       "34                   100.0                      75.0  \n",
       "35                    29.0                       7.0  \n",
       "36                    20.0                      42.0  \n",
       "37                    35.0                      38.0  \n",
       "38                    38.0                      93.0  \n",
       "39                    41.0                      36.0  \n",
       "40                   104.0                      83.0  \n",
       "41                    36.0                      62.0  \n",
       "42                    74.0                      51.0  \n",
       "43                    34.0                      29.0  \n",
       "44                   108.0                      53.0  \n",
       "45                    88.0                       NaN  \n",
       "46                    55.0                      37.0  \n",
       "47                    48.0                      61.0  \n",
       "48                    33.0                       6.0  \n",
       "49                    86.0                      45.0  \n",
       "50                     5.0                      70.0  \n",
       "51                    62.0                      58.0  \n",
       "52                    43.0                      68.0  \n",
       "53                    27.0                       9.0  \n",
       "54                    37.0                      41.0  \n",
       "55                    93.0                      55.0  \n",
       "56                    53.0                      73.0  \n",
       "57                    24.0                       2.0  \n",
       "58                   113.0                      57.0  \n",
       "59                    47.0                      88.0  \n",
       "60                   101.0                      94.0  "
      ]
     },
     "execution_count": 43,
     "metadata": {},
     "output_type": "execute_result"
    }
   ],
   "source": [
    "import io\n",
    "import pandas as pd\n",
    "whr = pd.read_csv('world-happiness-report-2019.csv')\n",
    "whr.loc[30:60]"
   ]
  },
  {
   "cell_type": "markdown",
   "metadata": {
    "colab_type": "text",
    "id": "wVRo0npnK6go"
   },
   "source": [
    "> When reading the World Happiness Dataset, we notice that some values are $NaN$, which stands for not a number. We will loop on this dataframe to replace the not a number to the number of rows in our dataset. Naively, we will replace $NaN$ value with the number of rows in this dataset."
   ]
  },
  {
   "cell_type": "code",
   "execution_count": 44,
   "metadata": {
    "colab": {},
    "colab_type": "code",
    "id": "IoHXggWwKX8_"
   },
   "outputs": [
    {
     "name": "stdout",
     "output_type": "stream",
     "text": [
      "i: 20, j: 7\n",
      "i: 24, j: 9\n",
      "i: 24, j: 10\n",
      "i: 27, j: 7\n",
      "i: 28, j: 3\n",
      "i: 28, j: 4\n",
      "i: 28, j: 5\n",
      "i: 28, j: 6\n",
      "i: 28, j: 7\n",
      "i: 28, j: 8\n",
      "i: 36, j: 7\n",
      "i: 45, j: 10\n",
      "i: 50, j: 7\n",
      "i: 63, j: 9\n",
      "i: 63, j: 10\n",
      "i: 75, j: 10\n",
      "i: 86, j: 7\n",
      "i: 92, j: 7\n",
      "i: 100, j: 7\n",
      "i: 109, j: 10\n",
      "i: 111, j: 9\n",
      "i: 134, j: 10\n",
      "i: 148, j: 9\n"
     ]
    }
   ],
   "source": [
    "\n",
    "number_of_rows = whr.shape[0]\n",
    "number_of_columns = whr.shape[1]\n",
    "\n",
    "\n",
    "for i in range(number_of_rows):\n",
    "  for j in range(1, number_of_columns):\n",
    "    if np.isnan(whr.iloc[i, j]):\n",
    "      print('i: {}, j: {}'.format(i,j))\n",
    "      whr.iloc[i, j] = number_of_rows\n"
   ]
  },
  {
   "cell_type": "code",
   "execution_count": 45,
   "metadata": {
    "colab": {
     "base_uri": "https://localhost:8080/",
     "height": 166
    },
    "colab_type": "code",
    "id": "rV8qdV2iOr5Q",
    "outputId": "df387351-2c8e-4576-886e-53688a7cfd6c"
   },
   "outputs": [
    {
     "data": {
      "text/html": [
       "<div>\n",
       "<style scoped>\n",
       "    .dataframe tbody tr th:only-of-type {\n",
       "        vertical-align: middle;\n",
       "    }\n",
       "\n",
       "    .dataframe tbody tr th {\n",
       "        vertical-align: top;\n",
       "    }\n",
       "\n",
       "    .dataframe thead th {\n",
       "        text-align: right;\n",
       "    }\n",
       "</style>\n",
       "<table border=\"1\" class=\"dataframe\">\n",
       "  <thead>\n",
       "    <tr style=\"text-align: right;\">\n",
       "      <th></th>\n",
       "      <th>Country (region)</th>\n",
       "      <th>Ladder</th>\n",
       "      <th>SD of Ladder</th>\n",
       "      <th>Positive affect</th>\n",
       "      <th>Negative affect</th>\n",
       "      <th>Social support</th>\n",
       "      <th>Freedom</th>\n",
       "      <th>Corruption</th>\n",
       "      <th>Generosity</th>\n",
       "      <th>Log of GDP\n",
       "per capita</th>\n",
       "      <th>Healthy life\n",
       "expectancy</th>\n",
       "    </tr>\n",
       "  </thead>\n",
       "  <tbody>\n",
       "    <tr>\n",
       "      <th>30</th>\n",
       "      <td>Panama</td>\n",
       "      <td>31</td>\n",
       "      <td>121</td>\n",
       "      <td>7.0</td>\n",
       "      <td>48.0</td>\n",
       "      <td>41.0</td>\n",
       "      <td>32.0</td>\n",
       "      <td>104.0</td>\n",
       "      <td>88.0</td>\n",
       "      <td>51.0</td>\n",
       "      <td>33.0</td>\n",
       "    </tr>\n",
       "    <tr>\n",
       "      <th>31</th>\n",
       "      <td>Brazil</td>\n",
       "      <td>32</td>\n",
       "      <td>116</td>\n",
       "      <td>69.0</td>\n",
       "      <td>105.0</td>\n",
       "      <td>43.0</td>\n",
       "      <td>84.0</td>\n",
       "      <td>71.0</td>\n",
       "      <td>108.0</td>\n",
       "      <td>70.0</td>\n",
       "      <td>72.0</td>\n",
       "    </tr>\n",
       "    <tr>\n",
       "      <th>32</th>\n",
       "      <td>Uruguay</td>\n",
       "      <td>33</td>\n",
       "      <td>88</td>\n",
       "      <td>10.0</td>\n",
       "      <td>76.0</td>\n",
       "      <td>35.0</td>\n",
       "      <td>30.0</td>\n",
       "      <td>33.0</td>\n",
       "      <td>80.0</td>\n",
       "      <td>52.0</td>\n",
       "      <td>35.0</td>\n",
       "    </tr>\n",
       "    <tr>\n",
       "      <th>33</th>\n",
       "      <td>Singapore</td>\n",
       "      <td>34</td>\n",
       "      <td>5</td>\n",
       "      <td>38.0</td>\n",
       "      <td>2.0</td>\n",
       "      <td>36.0</td>\n",
       "      <td>20.0</td>\n",
       "      <td>1.0</td>\n",
       "      <td>21.0</td>\n",
       "      <td>3.0</td>\n",
       "      <td>1.0</td>\n",
       "    </tr>\n",
       "    <tr>\n",
       "      <th>34</th>\n",
       "      <td>El Salvador</td>\n",
       "      <td>35</td>\n",
       "      <td>112</td>\n",
       "      <td>23.0</td>\n",
       "      <td>84.0</td>\n",
       "      <td>83.0</td>\n",
       "      <td>74.0</td>\n",
       "      <td>85.0</td>\n",
       "      <td>134.0</td>\n",
       "      <td>100.0</td>\n",
       "      <td>75.0</td>\n",
       "    </tr>\n",
       "    <tr>\n",
       "      <th>35</th>\n",
       "      <td>Italy</td>\n",
       "      <td>36</td>\n",
       "      <td>31</td>\n",
       "      <td>99.0</td>\n",
       "      <td>123.0</td>\n",
       "      <td>23.0</td>\n",
       "      <td>132.0</td>\n",
       "      <td>128.0</td>\n",
       "      <td>48.0</td>\n",
       "      <td>29.0</td>\n",
       "      <td>7.0</td>\n",
       "    </tr>\n",
       "    <tr>\n",
       "      <th>36</th>\n",
       "      <td>Bahrain</td>\n",
       "      <td>37</td>\n",
       "      <td>83</td>\n",
       "      <td>39.0</td>\n",
       "      <td>83.0</td>\n",
       "      <td>59.0</td>\n",
       "      <td>24.0</td>\n",
       "      <td>156.0</td>\n",
       "      <td>23.0</td>\n",
       "      <td>20.0</td>\n",
       "      <td>42.0</td>\n",
       "    </tr>\n",
       "    <tr>\n",
       "      <th>37</th>\n",
       "      <td>Slovakia</td>\n",
       "      <td>38</td>\n",
       "      <td>39</td>\n",
       "      <td>53.0</td>\n",
       "      <td>47.0</td>\n",
       "      <td>21.0</td>\n",
       "      <td>108.0</td>\n",
       "      <td>142.0</td>\n",
       "      <td>70.0</td>\n",
       "      <td>35.0</td>\n",
       "      <td>38.0</td>\n",
       "    </tr>\n",
       "    <tr>\n",
       "      <th>38</th>\n",
       "      <td>Trinidad and Tobago</td>\n",
       "      <td>39</td>\n",
       "      <td>89</td>\n",
       "      <td>14.0</td>\n",
       "      <td>52.0</td>\n",
       "      <td>29.0</td>\n",
       "      <td>51.0</td>\n",
       "      <td>141.0</td>\n",
       "      <td>41.0</td>\n",
       "      <td>38.0</td>\n",
       "      <td>93.0</td>\n",
       "    </tr>\n",
       "    <tr>\n",
       "      <th>39</th>\n",
       "      <td>Poland</td>\n",
       "      <td>40</td>\n",
       "      <td>28</td>\n",
       "      <td>76.0</td>\n",
       "      <td>33.0</td>\n",
       "      <td>44.0</td>\n",
       "      <td>52.0</td>\n",
       "      <td>108.0</td>\n",
       "      <td>77.0</td>\n",
       "      <td>41.0</td>\n",
       "      <td>36.0</td>\n",
       "    </tr>\n",
       "    <tr>\n",
       "      <th>40</th>\n",
       "      <td>Uzbekistan</td>\n",
       "      <td>41</td>\n",
       "      <td>99</td>\n",
       "      <td>19.0</td>\n",
       "      <td>15.0</td>\n",
       "      <td>11.0</td>\n",
       "      <td>1.0</td>\n",
       "      <td>18.0</td>\n",
       "      <td>29.0</td>\n",
       "      <td>104.0</td>\n",
       "      <td>83.0</td>\n",
       "    </tr>\n",
       "    <tr>\n",
       "      <th>41</th>\n",
       "      <td>Lithuania</td>\n",
       "      <td>42</td>\n",
       "      <td>55</td>\n",
       "      <td>138.0</td>\n",
       "      <td>41.0</td>\n",
       "      <td>17.0</td>\n",
       "      <td>122.0</td>\n",
       "      <td>113.0</td>\n",
       "      <td>124.0</td>\n",
       "      <td>36.0</td>\n",
       "      <td>62.0</td>\n",
       "    </tr>\n",
       "    <tr>\n",
       "      <th>42</th>\n",
       "      <td>Colombia</td>\n",
       "      <td>43</td>\n",
       "      <td>120</td>\n",
       "      <td>30.0</td>\n",
       "      <td>88.0</td>\n",
       "      <td>52.0</td>\n",
       "      <td>56.0</td>\n",
       "      <td>124.0</td>\n",
       "      <td>111.0</td>\n",
       "      <td>74.0</td>\n",
       "      <td>51.0</td>\n",
       "    </tr>\n",
       "    <tr>\n",
       "      <th>43</th>\n",
       "      <td>Slovenia</td>\n",
       "      <td>44</td>\n",
       "      <td>54</td>\n",
       "      <td>114.0</td>\n",
       "      <td>71.0</td>\n",
       "      <td>14.0</td>\n",
       "      <td>13.0</td>\n",
       "      <td>97.0</td>\n",
       "      <td>54.0</td>\n",
       "      <td>34.0</td>\n",
       "      <td>29.0</td>\n",
       "    </tr>\n",
       "    <tr>\n",
       "      <th>44</th>\n",
       "      <td>Nicaragua</td>\n",
       "      <td>45</td>\n",
       "      <td>133</td>\n",
       "      <td>31.0</td>\n",
       "      <td>125.0</td>\n",
       "      <td>66.0</td>\n",
       "      <td>70.0</td>\n",
       "      <td>43.0</td>\n",
       "      <td>71.0</td>\n",
       "      <td>108.0</td>\n",
       "      <td>53.0</td>\n",
       "    </tr>\n",
       "    <tr>\n",
       "      <th>45</th>\n",
       "      <td>Kosovo</td>\n",
       "      <td>46</td>\n",
       "      <td>107</td>\n",
       "      <td>71.0</td>\n",
       "      <td>7.0</td>\n",
       "      <td>85.0</td>\n",
       "      <td>50.0</td>\n",
       "      <td>144.0</td>\n",
       "      <td>31.0</td>\n",
       "      <td>88.0</td>\n",
       "      <td>156.0</td>\n",
       "    </tr>\n",
       "    <tr>\n",
       "      <th>46</th>\n",
       "      <td>Argentina</td>\n",
       "      <td>47</td>\n",
       "      <td>97</td>\n",
       "      <td>28.0</td>\n",
       "      <td>93.0</td>\n",
       "      <td>46.0</td>\n",
       "      <td>54.0</td>\n",
       "      <td>109.0</td>\n",
       "      <td>123.0</td>\n",
       "      <td>55.0</td>\n",
       "      <td>37.0</td>\n",
       "    </tr>\n",
       "    <tr>\n",
       "      <th>47</th>\n",
       "      <td>Romania</td>\n",
       "      <td>48</td>\n",
       "      <td>75</td>\n",
       "      <td>80.0</td>\n",
       "      <td>62.0</td>\n",
       "      <td>86.0</td>\n",
       "      <td>57.0</td>\n",
       "      <td>146.0</td>\n",
       "      <td>102.0</td>\n",
       "      <td>48.0</td>\n",
       "      <td>61.0</td>\n",
       "    </tr>\n",
       "    <tr>\n",
       "      <th>48</th>\n",
       "      <td>Cyprus</td>\n",
       "      <td>49</td>\n",
       "      <td>95</td>\n",
       "      <td>60.0</td>\n",
       "      <td>99.0</td>\n",
       "      <td>90.0</td>\n",
       "      <td>81.0</td>\n",
       "      <td>115.0</td>\n",
       "      <td>39.0</td>\n",
       "      <td>33.0</td>\n",
       "      <td>6.0</td>\n",
       "    </tr>\n",
       "    <tr>\n",
       "      <th>49</th>\n",
       "      <td>Ecuador</td>\n",
       "      <td>50</td>\n",
       "      <td>113</td>\n",
       "      <td>11.0</td>\n",
       "      <td>113.0</td>\n",
       "      <td>71.0</td>\n",
       "      <td>42.0</td>\n",
       "      <td>68.0</td>\n",
       "      <td>95.0</td>\n",
       "      <td>86.0</td>\n",
       "      <td>45.0</td>\n",
       "    </tr>\n",
       "    <tr>\n",
       "      <th>50</th>\n",
       "      <td>Kuwait</td>\n",
       "      <td>51</td>\n",
       "      <td>98</td>\n",
       "      <td>89.0</td>\n",
       "      <td>97.0</td>\n",
       "      <td>69.0</td>\n",
       "      <td>47.0</td>\n",
       "      <td>156.0</td>\n",
       "      <td>42.0</td>\n",
       "      <td>5.0</td>\n",
       "      <td>70.0</td>\n",
       "    </tr>\n",
       "    <tr>\n",
       "      <th>51</th>\n",
       "      <td>Thailand</td>\n",
       "      <td>52</td>\n",
       "      <td>81</td>\n",
       "      <td>20.0</td>\n",
       "      <td>35.0</td>\n",
       "      <td>53.0</td>\n",
       "      <td>18.0</td>\n",
       "      <td>131.0</td>\n",
       "      <td>10.0</td>\n",
       "      <td>62.0</td>\n",
       "      <td>58.0</td>\n",
       "    </tr>\n",
       "    <tr>\n",
       "      <th>52</th>\n",
       "      <td>Latvia</td>\n",
       "      <td>53</td>\n",
       "      <td>30</td>\n",
       "      <td>119.0</td>\n",
       "      <td>38.0</td>\n",
       "      <td>34.0</td>\n",
       "      <td>126.0</td>\n",
       "      <td>92.0</td>\n",
       "      <td>105.0</td>\n",
       "      <td>43.0</td>\n",
       "      <td>68.0</td>\n",
       "    </tr>\n",
       "    <tr>\n",
       "      <th>53</th>\n",
       "      <td>South Korea</td>\n",
       "      <td>54</td>\n",
       "      <td>57</td>\n",
       "      <td>101.0</td>\n",
       "      <td>45.0</td>\n",
       "      <td>91.0</td>\n",
       "      <td>144.0</td>\n",
       "      <td>100.0</td>\n",
       "      <td>40.0</td>\n",
       "      <td>27.0</td>\n",
       "      <td>9.0</td>\n",
       "    </tr>\n",
       "    <tr>\n",
       "      <th>54</th>\n",
       "      <td>Estonia</td>\n",
       "      <td>55</td>\n",
       "      <td>32</td>\n",
       "      <td>50.0</td>\n",
       "      <td>6.0</td>\n",
       "      <td>12.0</td>\n",
       "      <td>45.0</td>\n",
       "      <td>30.0</td>\n",
       "      <td>83.0</td>\n",
       "      <td>37.0</td>\n",
       "      <td>41.0</td>\n",
       "    </tr>\n",
       "    <tr>\n",
       "      <th>55</th>\n",
       "      <td>Jamaica</td>\n",
       "      <td>56</td>\n",
       "      <td>102</td>\n",
       "      <td>51.0</td>\n",
       "      <td>51.0</td>\n",
       "      <td>28.0</td>\n",
       "      <td>49.0</td>\n",
       "      <td>130.0</td>\n",
       "      <td>119.0</td>\n",
       "      <td>93.0</td>\n",
       "      <td>55.0</td>\n",
       "    </tr>\n",
       "    <tr>\n",
       "      <th>56</th>\n",
       "      <td>Mauritius</td>\n",
       "      <td>57</td>\n",
       "      <td>94</td>\n",
       "      <td>55.0</td>\n",
       "      <td>16.0</td>\n",
       "      <td>54.0</td>\n",
       "      <td>40.0</td>\n",
       "      <td>96.0</td>\n",
       "      <td>37.0</td>\n",
       "      <td>53.0</td>\n",
       "      <td>73.0</td>\n",
       "    </tr>\n",
       "    <tr>\n",
       "      <th>57</th>\n",
       "      <td>Japan</td>\n",
       "      <td>58</td>\n",
       "      <td>43</td>\n",
       "      <td>73.0</td>\n",
       "      <td>14.0</td>\n",
       "      <td>50.0</td>\n",
       "      <td>64.0</td>\n",
       "      <td>39.0</td>\n",
       "      <td>92.0</td>\n",
       "      <td>24.0</td>\n",
       "      <td>2.0</td>\n",
       "    </tr>\n",
       "    <tr>\n",
       "      <th>58</th>\n",
       "      <td>Honduras</td>\n",
       "      <td>59</td>\n",
       "      <td>151</td>\n",
       "      <td>13.0</td>\n",
       "      <td>73.0</td>\n",
       "      <td>84.0</td>\n",
       "      <td>39.0</td>\n",
       "      <td>79.0</td>\n",
       "      <td>51.0</td>\n",
       "      <td>113.0</td>\n",
       "      <td>57.0</td>\n",
       "    </tr>\n",
       "    <tr>\n",
       "      <th>59</th>\n",
       "      <td>Kazakhstan</td>\n",
       "      <td>60</td>\n",
       "      <td>40</td>\n",
       "      <td>81.0</td>\n",
       "      <td>5.0</td>\n",
       "      <td>19.0</td>\n",
       "      <td>80.0</td>\n",
       "      <td>57.0</td>\n",
       "      <td>57.0</td>\n",
       "      <td>47.0</td>\n",
       "      <td>88.0</td>\n",
       "    </tr>\n",
       "    <tr>\n",
       "      <th>60</th>\n",
       "      <td>Bolivia</td>\n",
       "      <td>61</td>\n",
       "      <td>71</td>\n",
       "      <td>70.0</td>\n",
       "      <td>138.0</td>\n",
       "      <td>93.0</td>\n",
       "      <td>35.0</td>\n",
       "      <td>91.0</td>\n",
       "      <td>104.0</td>\n",
       "      <td>101.0</td>\n",
       "      <td>94.0</td>\n",
       "    </tr>\n",
       "  </tbody>\n",
       "</table>\n",
       "</div>"
      ],
      "text/plain": [
       "       Country (region)  Ladder  SD of Ladder  Positive affect  \\\n",
       "30               Panama      31           121              7.0   \n",
       "31               Brazil      32           116             69.0   \n",
       "32              Uruguay      33            88             10.0   \n",
       "33            Singapore      34             5             38.0   \n",
       "34          El Salvador      35           112             23.0   \n",
       "35                Italy      36            31             99.0   \n",
       "36              Bahrain      37            83             39.0   \n",
       "37             Slovakia      38            39             53.0   \n",
       "38  Trinidad and Tobago      39            89             14.0   \n",
       "39               Poland      40            28             76.0   \n",
       "40           Uzbekistan      41            99             19.0   \n",
       "41            Lithuania      42            55            138.0   \n",
       "42             Colombia      43           120             30.0   \n",
       "43             Slovenia      44            54            114.0   \n",
       "44            Nicaragua      45           133             31.0   \n",
       "45               Kosovo      46           107             71.0   \n",
       "46            Argentina      47            97             28.0   \n",
       "47              Romania      48            75             80.0   \n",
       "48               Cyprus      49            95             60.0   \n",
       "49              Ecuador      50           113             11.0   \n",
       "50               Kuwait      51            98             89.0   \n",
       "51             Thailand      52            81             20.0   \n",
       "52               Latvia      53            30            119.0   \n",
       "53          South Korea      54            57            101.0   \n",
       "54              Estonia      55            32             50.0   \n",
       "55              Jamaica      56           102             51.0   \n",
       "56            Mauritius      57            94             55.0   \n",
       "57                Japan      58            43             73.0   \n",
       "58             Honduras      59           151             13.0   \n",
       "59           Kazakhstan      60            40             81.0   \n",
       "60              Bolivia      61            71             70.0   \n",
       "\n",
       "    Negative affect  Social support  Freedom  Corruption  Generosity  \\\n",
       "30             48.0            41.0     32.0       104.0        88.0   \n",
       "31            105.0            43.0     84.0        71.0       108.0   \n",
       "32             76.0            35.0     30.0        33.0        80.0   \n",
       "33              2.0            36.0     20.0         1.0        21.0   \n",
       "34             84.0            83.0     74.0        85.0       134.0   \n",
       "35            123.0            23.0    132.0       128.0        48.0   \n",
       "36             83.0            59.0     24.0       156.0        23.0   \n",
       "37             47.0            21.0    108.0       142.0        70.0   \n",
       "38             52.0            29.0     51.0       141.0        41.0   \n",
       "39             33.0            44.0     52.0       108.0        77.0   \n",
       "40             15.0            11.0      1.0        18.0        29.0   \n",
       "41             41.0            17.0    122.0       113.0       124.0   \n",
       "42             88.0            52.0     56.0       124.0       111.0   \n",
       "43             71.0            14.0     13.0        97.0        54.0   \n",
       "44            125.0            66.0     70.0        43.0        71.0   \n",
       "45              7.0            85.0     50.0       144.0        31.0   \n",
       "46             93.0            46.0     54.0       109.0       123.0   \n",
       "47             62.0            86.0     57.0       146.0       102.0   \n",
       "48             99.0            90.0     81.0       115.0        39.0   \n",
       "49            113.0            71.0     42.0        68.0        95.0   \n",
       "50             97.0            69.0     47.0       156.0        42.0   \n",
       "51             35.0            53.0     18.0       131.0        10.0   \n",
       "52             38.0            34.0    126.0        92.0       105.0   \n",
       "53             45.0            91.0    144.0       100.0        40.0   \n",
       "54              6.0            12.0     45.0        30.0        83.0   \n",
       "55             51.0            28.0     49.0       130.0       119.0   \n",
       "56             16.0            54.0     40.0        96.0        37.0   \n",
       "57             14.0            50.0     64.0        39.0        92.0   \n",
       "58             73.0            84.0     39.0        79.0        51.0   \n",
       "59              5.0            19.0     80.0        57.0        57.0   \n",
       "60            138.0            93.0     35.0        91.0       104.0   \n",
       "\n",
       "    Log of GDP\\nper capita  Healthy life\\nexpectancy  \n",
       "30                    51.0                      33.0  \n",
       "31                    70.0                      72.0  \n",
       "32                    52.0                      35.0  \n",
       "33                     3.0                       1.0  \n",
       "34                   100.0                      75.0  \n",
       "35                    29.0                       7.0  \n",
       "36                    20.0                      42.0  \n",
       "37                    35.0                      38.0  \n",
       "38                    38.0                      93.0  \n",
       "39                    41.0                      36.0  \n",
       "40                   104.0                      83.0  \n",
       "41                    36.0                      62.0  \n",
       "42                    74.0                      51.0  \n",
       "43                    34.0                      29.0  \n",
       "44                   108.0                      53.0  \n",
       "45                    88.0                     156.0  \n",
       "46                    55.0                      37.0  \n",
       "47                    48.0                      61.0  \n",
       "48                    33.0                       6.0  \n",
       "49                    86.0                      45.0  \n",
       "50                     5.0                      70.0  \n",
       "51                    62.0                      58.0  \n",
       "52                    43.0                      68.0  \n",
       "53                    27.0                       9.0  \n",
       "54                    37.0                      41.0  \n",
       "55                    93.0                      55.0  \n",
       "56                    53.0                      73.0  \n",
       "57                    24.0                       2.0  \n",
       "58                   113.0                      57.0  \n",
       "59                    47.0                      88.0  \n",
       "60                   101.0                      94.0  "
      ]
     },
     "execution_count": 45,
     "metadata": {},
     "output_type": "execute_result"
    }
   ],
   "source": [
    "whr.loc[30:60]"
   ]
  },
  {
   "cell_type": "markdown",
   "metadata": {},
   "source": [
    "### Exercise 4"
   ]
  },
  {
   "cell_type": "markdown",
   "metadata": {},
   "source": [
    "> Retrieve the element having the smallest value from the row corresponding to poland."
   ]
  },
  {
   "cell_type": "code",
   "execution_count": 46,
   "metadata": {
    "colab": {
     "base_uri": "https://localhost:8080/",
     "height": 218
    },
    "colab_type": "code",
    "id": "dlM7tLVyOssZ",
    "outputId": "f96aeeff-5b19-4409-950a-61cbb5f2376b"
   },
   "outputs": [
    {
     "ename": "AssertionError",
     "evalue": "",
     "output_type": "error",
     "traceback": [
      "\u001b[1;31m---------------------------------------------------------------------------\u001b[0m",
      "\u001b[1;31mAssertionError\u001b[0m                            Traceback (most recent call last)",
      "\u001b[1;32m<ipython-input-46-3fbed9595373>\u001b[0m in \u001b[0;36m<module>\u001b[1;34m\u001b[0m\n\u001b[0;32m      4\u001b[0m \u001b[1;33m\u001b[0m\u001b[0m\n\u001b[0;32m      5\u001b[0m \u001b[0mrow\u001b[0m \u001b[1;33m=\u001b[0m \u001b[0mwhr\u001b[0m\u001b[1;33m.\u001b[0m\u001b[0miloc\u001b[0m\u001b[1;33m[\u001b[0m\u001b[1;36m39\u001b[0m\u001b[1;33m,\u001b[0m \u001b[1;36m1\u001b[0m\u001b[1;33m:\u001b[0m\u001b[1;33m]\u001b[0m\u001b[1;33m\u001b[0m\u001b[1;33m\u001b[0m\u001b[0m\n\u001b[1;32m----> 6\u001b[1;33m \u001b[1;32massert\u001b[0m \u001b[0mexercise4\u001b[0m\u001b[1;33m(\u001b[0m\u001b[0mrow\u001b[0m\u001b[1;33m)\u001b[0m \u001b[1;33m==\u001b[0m \u001b[1;36m28\u001b[0m\u001b[1;33m\u001b[0m\u001b[1;33m\u001b[0m\u001b[0m\n\u001b[0m",
      "\u001b[1;31mAssertionError\u001b[0m: "
     ]
    }
   ],
   "source": [
    "def exercise4(row):\n",
    "  smallest_value = 100000\n",
    "  return smallest_value\n",
    "\n",
    "row = whr.iloc[39, 1:]\n",
    "assert exercise4(row) == 28"
   ]
  }
 ],
 "metadata": {
  "colab": {
   "collapsed_sections": [],
   "name": "Untitled2.ipynb",
   "provenance": [],
   "version": "0.3.2"
  },
  "kernelspec": {
   "display_name": "Python 3",
   "language": "python",
   "name": "python3"
  },
  "language_info": {
   "codemirror_mode": {
    "name": "ipython",
    "version": 3
   },
   "file_extension": ".py",
   "mimetype": "text/x-python",
   "name": "python",
   "nbconvert_exporter": "python",
   "pygments_lexer": "ipython3",
   "version": "3.6.7"
  }
 },
 "nbformat": 4,
 "nbformat_minor": 2
}
