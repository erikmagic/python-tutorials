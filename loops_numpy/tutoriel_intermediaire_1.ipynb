{
 "cells": [
  {
   "cell_type": "markdown",
   "metadata": {},
   "source": [
    "# Tutoriel Intermédiaire 1: boucles, contrôle de flux et numpy"
   ]
  },
  {
   "cell_type": "markdown",
   "metadata": {},
   "source": [
    "##  1.1 Numpy"
   ]
  },
  {
   "cell_type": "markdown",
   "metadata": {
    "colab_type": "text",
    "id": "7oKQE4nfsBEm"
   },
   "source": [
    "> L'objet principal du module *numpy* est le tableau multidimensionnel(array multidimensionnelle), qui s'appelle un ndarray. Les ndarrays peuvent également être considérées des arrays. En fait. numpy.array est une fonction intuitive pour créer une ndarray.  \n",
    "Donc, une ndarray devrait principalement être créée avec les fonctions *array*, *zeros* ou *empty* selon la documentation de numpy."
   ]
  },
  {
   "cell_type": "code",
   "execution_count": 1,
   "metadata": {
    "colab": {
     "base_uri": "https://localhost:8080/",
     "height": 52
    },
    "colab_type": "code",
    "id": "p2pGuycnsHeI",
    "outputId": "c3dad719-c5af-4a22-957f-686ef8199f66"
   },
   "outputs": [
    {
     "data": {
      "text/plain": [
       "(array([[ 1,  2,  3],\n",
       "        [10, 11, 12]]), numpy.ndarray)"
      ]
     },
     "execution_count": 1,
     "metadata": {},
     "output_type": "execute_result"
    }
   ],
   "source": [
    "import numpy as np\n",
    "\n",
    "# instancier une ndarray en utilisant la fonction array (et des listes)\n",
    "arr = np.array([[1,2,3],[10,11,12]])\n",
    "arr, type(arr)"
   ]
  },
  {
   "cell_type": "code",
   "execution_count": 2,
   "metadata": {
    "colab": {
     "base_uri": "https://localhost:8080/",
     "height": 69
    },
    "colab_type": "code",
    "id": "702SHvPAsd3x",
    "outputId": "04af6602-0c65-4fb9-f502-4621ce1f0a8f"
   },
   "outputs": [
    {
     "data": {
      "text/plain": [
       "array([[0., 0.],\n",
       "       [0., 0.],\n",
       "       [0., 0.]])"
      ]
     },
     "execution_count": 2,
     "metadata": {},
     "output_type": "execute_result"
    }
   ],
   "source": [
    "# instancier une ndarray en utilisant la fonction zeros\n",
    "zeros_arr = np.zeros((3,2)) # l'entrant est un tuple représentant le nombre de rangées\n",
    "  # et de colonnes dans notre cas\n",
    "zeros_arr"
   ]
  },
  {
   "cell_type": "code",
   "execution_count": 3,
   "metadata": {
    "colab": {
     "base_uri": "https://localhost:8080/",
     "height": 69
    },
    "colab_type": "code",
    "id": "XfwRPKsfsR6r",
    "outputId": "0c3aac62-d6ce-464b-b046-d3589a8f4d5c"
   },
   "outputs": [
    {
     "data": {
      "text/plain": [
       "array([[0., 0.],\n",
       "       [0., 0.],\n",
       "       [0., 0.]])"
      ]
     },
     "execution_count": 3,
     "metadata": {},
     "output_type": "execute_result"
    }
   ],
   "source": [
    "# instancie une ndarray en utilisant la fonction empty\n",
    "empty_arr = np.empty((3,2))\n",
    "empty_arr"
   ]
  },
  {
   "cell_type": "markdown",
   "metadata": {
    "colab_type": "text",
    "id": "MvUoZqoRuFdn"
   },
   "source": [
    "> Les attributes principaux d'une ndarray sont  \n",
    "* ndim: le nombre d'axes (dimensions) de l'array \n",
    "* shape: la forme de l'array (toutes ses dimensions) (pour une array de forme n*m, la dimension est le tuple (n,m))\n",
    "* size: le nombre d'éléments dans l'array (n fois m)\n",
    "* dtype: tous les éléments dans une array numpy ont le même type, alors cet attribut retourne le type de ces éléments"
   ]
  },
  {
   "cell_type": "code",
   "execution_count": 4,
   "metadata": {
    "colab": {
     "base_uri": "https://localhost:8080/",
     "height": 35
    },
    "colab_type": "code",
    "id": "lRXk7g-NvXSg",
    "outputId": "e16a6fb0-eeb8-4285-e6cf-75e710a7d984"
   },
   "outputs": [
    {
     "data": {
      "text/plain": [
       "{'ndim': 2, 'shape': (2, 3), 'size': (2, 3), 'dtype': dtype('int32')}"
      ]
     },
     "execution_count": 4,
     "metadata": {},
     "output_type": "execute_result"
    }
   ],
   "source": [
    "{'ndim': arr.ndim, 'shape': arr.shape, 'size': arr.shape, 'dtype': arr.dtype}"
   ]
  },
  {
   "cell_type": "markdown",
   "metadata": {
    "colab_type": "text",
    "id": "vJCSbMAfv28V"
   },
   "source": [
    "> Nous pouvons utiliser des opérations arithmétiques sur les arrays numpy, mais ces opérations sont appliquées _par éléments_."
   ]
  },
  {
   "cell_type": "code",
   "execution_count": 5,
   "metadata": {
    "colab": {
     "base_uri": "https://localhost:8080/",
     "height": 121
    },
    "colab_type": "code",
    "id": "cn1aZLCBvary",
    "outputId": "d00b3520-c6b2-442c-d135-9d15af5928e9"
   },
   "outputs": [
    {
     "name": "stdout",
     "output_type": "stream",
     "text": [
      "[[ 1  2  3]\n",
      " [10 11 12]]\n",
      "[[0 1 2]\n",
      " [3 4 5]]\n"
     ]
    },
    {
     "data": {
      "text/plain": [
       "array([[ 1,  3,  5],\n",
       "       [13, 15, 17]])"
      ]
     },
     "execution_count": 5,
     "metadata": {},
     "output_type": "execute_result"
    }
   ],
   "source": [
    "arr2 = np.arange(6).reshape(2,3) # la fonction 'arange' créee n éléments de 0 à n\n",
    "  # ensuite on change la structure cette array avec la fonction reshape\n",
    "print(arr)\n",
    "print(arr2)\n",
    "arr + arr2"
   ]
  },
  {
   "cell_type": "code",
   "execution_count": 6,
   "metadata": {
    "colab": {
     "base_uri": "https://localhost:8080/",
     "height": 52
    },
    "colab_type": "code",
    "id": "IsAZExluwO3j",
    "outputId": "aa9cdc40-8e97-421b-e953-b7d417a4a6e1"
   },
   "outputs": [
    {
     "data": {
      "text/plain": [
       "array([[ 0,  2,  6],\n",
       "       [30, 44, 60]])"
      ]
     },
     "execution_count": 6,
     "metadata": {},
     "output_type": "execute_result"
    }
   ],
   "source": [
    "arr * arr2"
   ]
  },
  {
   "cell_type": "markdown",
   "metadata": {
    "colab_type": "text",
    "id": "mknGHAApxZiT"
   },
   "source": [
    "> Il existe plusieurs fonctions unaires fonctionnant sur les arrays numpy. Par exemple, la fonction racine carrée, la fonction exponentielle et ainsi de suite."
   ]
  },
  {
   "cell_type": "code",
   "execution_count": 7,
   "metadata": {
    "colab": {
     "base_uri": "https://localhost:8080/",
     "height": 87
    },
    "colab_type": "code",
    "id": "qmjaDfq5xlEa",
    "outputId": "f258c643-6264-4a10-8ded-a4d89347be54"
   },
   "outputs": [
    {
     "name": "stdout",
     "output_type": "stream",
     "text": [
      "[[1.         1.41421356 1.73205081]\n",
      " [3.16227766 3.31662479 3.46410162]]\n"
     ]
    },
    {
     "data": {
      "text/plain": [
       "array([[1.        , 1.41421356, 1.73205081],\n",
       "       [3.16227766, 3.31662479, 3.46410162]])"
      ]
     },
     "execution_count": 7,
     "metadata": {},
     "output_type": "execute_result"
    }
   ],
   "source": [
    "print(np.sqrt(arr))\n",
    "np.sqrt(arr)"
   ]
  },
  {
   "cell_type": "markdown",
   "metadata": {
    "colab_type": "text",
    "id": "FPCTHwLTyQPV"
   },
   "source": [
    "> Dans l'atelier précédent, nous avons vu comment l'*indexing* et le *slicing* peuvent être utilisés sur les listes et les strings. Maintenant, nous pouvons utiliser ces concepts sur les arrays de numpy."
   ]
  },
  {
   "cell_type": "code",
   "execution_count": 8,
   "metadata": {
    "colab": {
     "base_uri": "https://localhost:8080/",
     "height": 104
    },
    "colab_type": "code",
    "id": "znAz6lrAzfYr",
    "outputId": "b88eba6c-0ad6-49e6-ff60-9275f390c2b0"
   },
   "outputs": [
    {
     "name": "stdout",
     "output_type": "stream",
     "text": [
      "[[ 1  2  3]\n",
      " [10 11 12]]\n",
      "[[11 12]]\n",
      "1\n",
      "12\n"
     ]
    }
   ],
   "source": [
    "print(arr)\n",
    "print(arr[1:, 1:])\n",
    "print(arr[0, 0])\n",
    "print(arr[-1, -1])"
   ]
  },
  {
   "cell_type": "markdown",
   "metadata": {
    "colab_type": "text",
    "id": "3kAaqrJmz7Yf"
   },
   "source": [
    "> En passant, nous avons un nouveau caractère _..._ qui peut être particulièrement intéressant lorsque nous voulons indexer des arrays ayant plusieurs dimensions. \n",
    "$x[1,2...] = x[1, 2, :, :, :]$\n"
   ]
  },
  {
   "cell_type": "code",
   "execution_count": 9,
   "metadata": {
    "colab": {
     "base_uri": "https://localhost:8080/",
     "height": 35
    },
    "colab_type": "code",
    "id": "ZA8Jv5c415BE",
    "outputId": "caf7cfeb-fa5b-44ba-d420-c2ca77d44c4b"
   },
   "outputs": [
    {
     "data": {
      "text/plain": [
       "array([ 1, 10])"
      ]
     },
     "execution_count": 9,
     "metadata": {},
     "output_type": "execute_result"
    }
   ],
   "source": [
    "arr[..., 0] # selectionne seulement la première \"colonne\""
   ]
  },
  {
   "cell_type": "markdown",
   "metadata": {
    "colab_type": "text",
    "id": "A6bvVfln2Frk"
   },
   "source": [
    "> Nous pouvons empiler des arrays ensemble afin de les agrandir. Nous pouvons utiliser la fonction *vstack* afin d'empiler nos données verticalement ou bien utiliser la fonction *hstack* afin de les empiler horizontalement."
   ]
  },
  {
   "cell_type": "code",
   "execution_count": 10,
   "metadata": {
    "colab": {
     "base_uri": "https://localhost:8080/",
     "height": 69
    },
    "colab_type": "code",
    "id": "AiF5e_uQ24x4",
    "outputId": "5c9b1474-8f89-468a-edf5-77acc55460a0"
   },
   "outputs": [
    {
     "data": {
      "text/plain": [
       "array([[   1,    2,    3],\n",
       "       [  10,   11,   12],\n",
       "       [1000, 2000, 3000]])"
      ]
     },
     "execution_count": 10,
     "metadata": {},
     "output_type": "execute_result"
    }
   ],
   "source": [
    "nouvelle_rangée = np.array([1000, 2000, 3000])\n",
    "np.vstack((arr, nouvelle_rangée)) # les entrants ont la forme d'un tuple"
   ]
  },
  {
   "cell_type": "code",
   "execution_count": 11,
   "metadata": {
    "colab": {
     "base_uri": "https://localhost:8080/",
     "height": 87
    },
    "colab_type": "code",
    "id": "uj3uhU6R5PgK",
    "outputId": "6cdfb467-708b-4aac-ebe9-8a92091c73eb"
   },
   "outputs": [
    {
     "name": "stdout",
     "output_type": "stream",
     "text": [
      "[[999]\n",
      " [888]]\n"
     ]
    },
    {
     "data": {
      "text/plain": [
       "array([[999,   1,   2,   3],\n",
       "       [888,  10,  11,  12]])"
      ]
     },
     "execution_count": 11,
     "metadata": {},
     "output_type": "execute_result"
    }
   ],
   "source": [
    "nouvelle_colonne = np.array([999, 888])\n",
    "nouvelle_colonne = nouvelle_colonne.reshape(2,1)\n",
    "print(nouvelle_colonne)\n",
    "np.hstack((nouvelle_colonne, arr))"
   ]
  },
  {
   "cell_type": "markdown",
   "metadata": {
    "colab_type": "text",
    "id": "9J92FJuz6seA"
   },
   "source": [
    "> Souvenez-vous que mis à part les *numbers*, la plupart des types en Python sont accédéss par référence et non par valeur. En d'autres mots, lorsque je réassigne une array, c'est la même array qui est passé une deuxième fois."
   ]
  },
  {
   "cell_type": "code",
   "execution_count": 12,
   "metadata": {
    "colab": {
     "base_uri": "https://localhost:8080/",
     "height": 69
    },
    "colab_type": "code",
    "id": "n5h72T1o7Uqw",
    "outputId": "10b4f606-3580-41fe-a026-b4dcf3cc13bc"
   },
   "outputs": [
    {
     "name": "stdout",
     "output_type": "stream",
     "text": [
      "True\n"
     ]
    },
    {
     "data": {
      "text/plain": [
       "array([[999999,      2,      3],\n",
       "       [    10,     11,     12]])"
      ]
     },
     "execution_count": 12,
     "metadata": {},
     "output_type": "execute_result"
    }
   ],
   "source": [
    "nouvelle_array = arr\n",
    "print(arr is nouvelle_array)\n",
    "arr[0,0] = 999999\n",
    "nouvelle_array"
   ]
  },
  {
   "cell_type": "markdown",
   "metadata": {
    "colab_type": "text",
    "id": "M31pW33C7Yr6"
   },
   "source": [
    "> Si vous voulez copier une array afin de modifier cette variable de façon indépendante de l'originale, vous pouvez utiliser la fonction *copy*.\n"
   ]
  },
  {
   "cell_type": "code",
   "execution_count": 13,
   "metadata": {
    "colab": {
     "base_uri": "https://localhost:8080/",
     "height": 69
    },
    "colab_type": "code",
    "id": "qKWUHrfu7p0q",
    "outputId": "19584afc-4e67-4794-82db-f63584791d67"
   },
   "outputs": [
    {
     "name": "stdout",
     "output_type": "stream",
     "text": [
      "False\n"
     ]
    },
    {
     "data": {
      "text/plain": [
       "array([[999999,      2,      3],\n",
       "       [    10,     11,     12]])"
      ]
     },
     "execution_count": 13,
     "metadata": {},
     "output_type": "execute_result"
    }
   ],
   "source": [
    "nouvelle_arr = arr.copy()\n",
    "print(arr is nouvelle_arr)\n",
    "arr[0,0] = 22222\n",
    "nouvelle_arr"
   ]
  },
  {
   "cell_type": "markdown",
   "metadata": {
    "colab_type": "text",
    "id": "_weI-r7kPSOe"
   },
   "source": [
    "> Désormais, créons  une array plus significative avec la fonction *arange*."
   ]
  },
  {
   "cell_type": "code",
   "execution_count": 14,
   "metadata": {
    "colab": {
     "base_uri": "https://localhost:8080/",
     "height": 191
    },
    "colab_type": "code",
    "id": "cntt5BNoPRnp",
    "outputId": "4b7d7f28-d012-46ba-e881-055fb3507a39"
   },
   "outputs": [
    {
     "data": {
      "text/plain": [
       "array([[ 0,  1,  2,  3,  4,  5,  6,  7,  8,  9],\n",
       "       [10, 11, 12, 13, 14, 15, 16, 17, 18, 19],\n",
       "       [20, 21, 22, 23, 24, 25, 26, 27, 28, 29],\n",
       "       [30, 31, 32, 33, 34, 35, 36, 37, 38, 39],\n",
       "       [40, 41, 42, 43, 44, 45, 46, 47, 48, 49],\n",
       "       [50, 51, 52, 53, 54, 55, 56, 57, 58, 59],\n",
       "       [60, 61, 62, 63, 64, 65, 66, 67, 68, 69],\n",
       "       [70, 71, 72, 73, 74, 75, 76, 77, 78, 79],\n",
       "       [80, 81, 82, 83, 84, 85, 86, 87, 88, 89],\n",
       "       [90, 91, 92, 93, 94, 95, 96, 97, 98, 99]])"
      ]
     },
     "execution_count": 14,
     "metadata": {},
     "output_type": "execute_result"
    }
   ],
   "source": [
    "grosse_arr = np.arange(100).reshape(10, 10)\n",
    "grosse_arr"
   ]
  },
  {
   "cell_type": "markdown",
   "metadata": {},
   "source": [
    "### Exercice 1\n",
    "> Retrouvez la dernière rangée de la *grosse_arr*"
   ]
  },
  {
   "cell_type": "code",
   "execution_count": 15,
   "metadata": {
    "colab": {},
    "colab_type": "code",
    "id": "lQdB5UezGWZu"
   },
   "outputs": [
    {
     "ename": "AssertionError",
     "evalue": "",
     "output_type": "error",
     "traceback": [
      "\u001b[1;31m---------------------------------------------------------------------------\u001b[0m",
      "\u001b[1;31mAssertionError\u001b[0m                            Traceback (most recent call last)",
      "\u001b[1;32m<ipython-input-15-b9f75975153f>\u001b[0m in \u001b[0;36m<module>\u001b[1;34m\u001b[0m\n\u001b[0;32m      3\u001b[0m   \u001b[1;32mreturn\u001b[0m \u001b[0mx\u001b[0m\u001b[1;33m\u001b[0m\u001b[1;33m\u001b[0m\u001b[0m\n\u001b[0;32m      4\u001b[0m \u001b[1;33m\u001b[0m\u001b[0m\n\u001b[1;32m----> 5\u001b[1;33m \u001b[1;32massert\u001b[0m \u001b[1;33m(\u001b[0m\u001b[0mexercice1\u001b[0m\u001b[1;33m(\u001b[0m\u001b[0mgrosse_arr\u001b[0m\u001b[1;33m)\u001b[0m \u001b[1;33m==\u001b[0m \u001b[0mnp\u001b[0m\u001b[1;33m.\u001b[0m\u001b[0marray\u001b[0m\u001b[1;33m(\u001b[0m\u001b[1;33m[\u001b[0m\u001b[1;36m90\u001b[0m\u001b[1;33m,\u001b[0m \u001b[1;36m91\u001b[0m\u001b[1;33m,\u001b[0m \u001b[1;36m92\u001b[0m\u001b[1;33m,\u001b[0m \u001b[1;36m93\u001b[0m\u001b[1;33m,\u001b[0m \u001b[1;36m94\u001b[0m\u001b[1;33m,\u001b[0m \u001b[1;36m95\u001b[0m\u001b[1;33m,\u001b[0m \u001b[1;36m96\u001b[0m\u001b[1;33m,\u001b[0m \u001b[1;36m97\u001b[0m\u001b[1;33m,\u001b[0m \u001b[1;36m98\u001b[0m\u001b[1;33m,\u001b[0m \u001b[1;36m99\u001b[0m\u001b[1;33m]\u001b[0m\u001b[1;33m)\u001b[0m\u001b[1;33m)\u001b[0m\u001b[1;33m.\u001b[0m\u001b[0mall\u001b[0m\u001b[1;33m(\u001b[0m\u001b[1;33m)\u001b[0m\u001b[1;33m\u001b[0m\u001b[1;33m\u001b[0m\u001b[0m\n\u001b[0m",
      "\u001b[1;31mAssertionError\u001b[0m: "
     ]
    }
   ],
   "source": [
    "def exercice1(arr):\n",
    "  x = None\n",
    "  return x\n",
    "\n",
    "assert (exercice1(grosse_arr) == np.array([90, 91, 92, 93, 94, 95, 96, 97, 98, 99])).all()"
   ]
  },
  {
   "cell_type": "markdown",
   "metadata": {},
   "source": [
    "## 1.2 Les *if statements*"
   ]
  },
  {
   "cell_type": "markdown",
   "metadata": {
    "colab_type": "text",
    "id": "CCn_dwNnTGVW"
   },
   "source": [
    "> Puisque cet atelier a comme objectif de vous rendre très confortable avec les boucles en Python, le deuxième bloc nécessaire afin d'atteindre cet objectif est la compréhension des contrôles de flux et des ordres de contrôle. Nous allons commencer avec le *if statement*."
   ]
  },
  {
   "cell_type": "code",
   "execution_count": 16,
   "metadata": {
    "colab": {
     "base_uri": "https://localhost:8080/",
     "height": 35
    },
    "colab_type": "code",
    "id": "e_Oac6NxTeC2",
    "outputId": "7ad430a0-eb5a-412b-d5b4-c347278d5aca"
   },
   "outputs": [
    {
     "name": "stdout",
     "output_type": "stream",
     "text": [
      "cette expression s'évalue\n"
     ]
    }
   ],
   "source": [
    "condition = True # une variable booléenne déclarée comme True\n",
    "\n",
    "if condition == True: \n",
    "    print(\"cette expression s'évalue\")\n",
    "\n",
    "condition = False\n",
    "\n",
    "if condition == True:\n",
    "  print(\"cette expression ne s'évalue pas\")"
   ]
  },
  {
   "cell_type": "markdown",
   "metadata": {
    "colab_type": "text",
    "id": "IROYGBzlTyO8"
   },
   "source": [
    "> Dans la cellule précédente, nous avons vu beaucoup de nouveaux mots clefs et des concepts. Nous allons maintenant les décrire\n",
    "```\n",
    "if condition == True\n",
    "````\n",
    "L'opérateur de comparaison $==$ compare la valeur à sa droite de celle à sa gauche. Si les deux valeurs sont égales, alors l'expression complète s'évalue comme $True$ et peut-être vu comme:\n",
    "```\n",
    "if True == True  \n",
    "if True: # True == True se réduit à True\n",
    "```\n",
    "Maintenant, le *if statement*, étant $True$ exécute le code indenté qui le suit. Dans notre cas, le suivant\n",
    "```\n",
    "print('the condition is true')\n",
    "```\n",
    "exécute.  \n",
    "Dans le deuxième cas,\n",
    "```\n",
    "if condition == True\n",
    "```\n",
    "devient\n",
    "```\n",
    "if False == True\n",
    "```\n",
    "et puisque $False \\neq True$, alors l'expression se réduit à $False$\n",
    "```\n",
    "if False\n",
    "```\n",
    "donc le bloc de code délimité par le *if statement* ne s'exécute pas.\n",
    "Pour résumer, les *if statements* s'exécute seulement si leur condition est $True$.\n",
    "```\n",
    "if condition:\n",
    "  leur code\n",
    " ```\n",
    "Où leur code est indenté une coche de plus que le *if statement*.\n",
    "\n"
   ]
  },
  {
   "cell_type": "markdown",
   "metadata": {
    "colab_type": "text",
    "id": "fR1nm1H5X3mE"
   },
   "source": [
    "> En dehors de l'opérateur de comparaison $(==)$ vu dans la cellule précédente, il existe beaucoup plus d'opérateurs logiques en Python. L'opposé de l'opérateur de comparaison est l'opérateur *not equal* $(!=)$. Il existe également l'opérateur *plus grand ou égal*, l'opérateur *plus grand que*, l'opérateur *plus petit ou égal*, l'opérateur *plus petit* et l'opérateur de négation (not)."
   ]
  },
  {
   "cell_type": "code",
   "execution_count": 17,
   "metadata": {
    "colab": {
     "base_uri": "https://localhost:8080/",
     "height": 69
    },
    "colab_type": "code",
    "id": "FEdQ-ggqYl22",
    "outputId": "2cbb1bad-96a0-457f-eb32-cd22b8e675ef"
   },
   "outputs": [
    {
     "name": "stdout",
     "output_type": "stream",
     "text": [
      "Vrai\n",
      "Vrai\n",
      "Vrai\n"
     ]
    }
   ],
   "source": [
    "condition = True\n",
    "petit_nombre = 5\n",
    "grand_nombre = 100000\n",
    "\n",
    "if not condition:\n",
    "  print('Faux')\n",
    "  \n",
    "if condition != False:\n",
    "  print('Vrai')\n",
    "  \n",
    "if petit_nombre > grand_nombre:\n",
    "  print('Faux')\n",
    "  \n",
    "if petit_nombre < grand_nombre:\n",
    "  print('Vrai')\n",
    " \n",
    "if grand_nombre >= petit_nombre:\n",
    "  print('Vrai')"
   ]
  },
  {
   "cell_type": "markdown",
   "metadata": {
    "colab_type": "text",
    "id": "Yho4X7dVZXWs"
   },
   "source": [
    "> L'opérateur de comparaison d'égalité avec une valeur booléenne est optionnel\n",
    "```\n",
    "if condition == True:\n",
    "  print('bonjour')\n",
    "```\n",
    "est exactement la même expression que la suivante\n",
    "```\n",
    "if condition:\n",
    "  print('bonjour')\n",
    "```\n",
    "et\n",
    "```\n",
    "if condition == False:\n",
    "  print('bonjour')\n",
    "```\n",
    "est exactement la même expression que la suivante\n",
    "```\n",
    "if not condition:\n",
    "  print('bonjour')\n",
    "```"
   ]
  },
  {
   "cell_type": "code",
   "execution_count": 18,
   "metadata": {
    "colab": {
     "base_uri": "https://localhost:8080/",
     "height": 35
    },
    "colab_type": "code",
    "id": "utJrL04XZ-AI",
    "outputId": "4a49153b-14e5-42c8-facb-0de0b1950b45"
   },
   "outputs": [
    {
     "name": "stdout",
     "output_type": "stream",
     "text": [
      "Vrai\n"
     ]
    }
   ],
   "source": [
    "condition = False\n",
    "if not condition:\n",
    "  print('Vrai')\n",
    "\n",
    "if condition:\n",
    "  print('Faux')"
   ]
  },
  {
   "cell_type": "markdown",
   "metadata": {
    "colab_type": "text",
    "id": "n5qjbv4uZ7NR"
   },
   "source": [
    "> Nous pouvons mélanger des conditions ensemble pour avoir plus de flexibilité dans les expressions logiques comme les *if statements*. Nous avons les opérateurs $and$ et $or$.\n",
    "\n",
    "| Condition 1 | Condition 2 | or    | and   |\n",
    "|-------------|-------------|-------|-------|\n",
    "| False       | False       | False | False |\n",
    "| False       | True        | True  | False |\n",
    "| True        | False       | True  | False |\n",
    "| True        | True        | True  | True  |\n",
    "\n",
    "Nous pouvons interpréter la table précédente avec le code suivant\n",
    "``` \n",
    "if False and True:\n",
    "  print('Faux')\n",
    "  \n",
    "if False or True:\n",
    "  print('Vrai')\n",
    "  \n",
    "```"
   ]
  },
  {
   "cell_type": "code",
   "execution_count": 19,
   "metadata": {
    "colab": {
     "base_uri": "https://localhost:8080/",
     "height": 35
    },
    "colab_type": "code",
    "id": "62abjbMrglGY",
    "outputId": "59908884-1772-4203-e216-5f14f76a5790"
   },
   "outputs": [
    {
     "name": "stdout",
     "output_type": "stream",
     "text": [
      "Vrai\n"
     ]
    }
   ],
   "source": [
    "if False or False:\n",
    "  print('Faux')\n",
    "\n",
    "if True and True:\n",
    "  print('Vrai')\n",
    "  \n",
    " "
   ]
  },
  {
   "cell_type": "markdown",
   "metadata": {
    "colab_type": "text",
    "id": "mvkOq_pfoMnV"
   },
   "source": [
    "> Les exemples vus dans les cellules précédentes utilisent tous des valeurs booléennes ou bien des nombres. Par contre, nous pouvons utiliser des conditions plus complexes avec des strings et des fonctions par exemple."
   ]
  },
  {
   "cell_type": "code",
   "execution_count": 20,
   "metadata": {
    "colab": {
     "base_uri": "https://localhost:8080/",
     "height": 69
    },
    "colab_type": "code",
    "id": "l4gwru6Coqnz",
    "outputId": "40428c80-5809-42c8-81c3-a74f88af358b"
   },
   "outputs": [
    {
     "name": "stdout",
     "output_type": "stream",
     "text": [
      "Vrai\n",
      "Vrai\n",
      "Vrai\n"
     ]
    }
   ],
   "source": [
    "nom = 'Jack O'\n",
    "\n",
    "if nom == 'Jack O':\n",
    "  print('Vrai')\n",
    "\n",
    "if len(nom) == 6:\n",
    "  print('Vrai')\n",
    "  \n",
    "if nom == 'Jack O' and len(nom) == 6:\n",
    "  print('Vrai')"
   ]
  },
  {
   "cell_type": "markdown",
   "metadata": {},
   "source": [
    "### Exercice 2\n",
    "> Validez que au moins un des deux nombres soient entre ses deux seuils"
   ]
  },
  {
   "cell_type": "code",
   "execution_count": 21,
   "metadata": {
    "colab": {},
    "colab_type": "code",
    "id": "mwPp4fWxMszn"
   },
   "outputs": [
    {
     "ename": "AssertionError",
     "evalue": "",
     "output_type": "error",
     "traceback": [
      "\u001b[1;31m---------------------------------------------------------------------------\u001b[0m",
      "\u001b[1;31mAssertionError\u001b[0m                            Traceback (most recent call last)",
      "\u001b[1;32m<ipython-input-21-478c1c57526f>\u001b[0m in \u001b[0;36m<module>\u001b[1;34m\u001b[0m\n\u001b[0;32m      3\u001b[0m   \u001b[1;32mpass\u001b[0m\u001b[1;33m\u001b[0m\u001b[1;33m\u001b[0m\u001b[0m\n\u001b[0;32m      4\u001b[0m \u001b[1;33m\u001b[0m\u001b[0m\n\u001b[1;32m----> 5\u001b[1;33m \u001b[1;32massert\u001b[0m \u001b[0mexercice2\u001b[0m\u001b[1;33m(\u001b[0m\u001b[1;36m10\u001b[0m\u001b[1;33m,\u001b[0m \u001b[1;36m15\u001b[0m\u001b[1;33m,\u001b[0m \u001b[1;36m20\u001b[0m\u001b[1;33m,\u001b[0m \u001b[1;36m12\u001b[0m\u001b[1;33m,\u001b[0m \u001b[1;36m10\u001b[0m\u001b[1;33m,\u001b[0m \u001b[1;36m11\u001b[0m\u001b[1;33m)\u001b[0m \u001b[1;33m==\u001b[0m \u001b[1;32mFalse\u001b[0m\u001b[1;33m\u001b[0m\u001b[1;33m\u001b[0m\u001b[0m\n\u001b[0m\u001b[0;32m      6\u001b[0m \u001b[1;33m\u001b[0m\u001b[0m\n\u001b[0;32m      7\u001b[0m \u001b[1;32massert\u001b[0m \u001b[0mexercice2\u001b[0m\u001b[1;33m(\u001b[0m\u001b[1;36m8\u001b[0m\u001b[1;33m,\u001b[0m \u001b[1;36m6\u001b[0m\u001b[1;33m,\u001b[0m \u001b[1;36m9\u001b[0m\u001b[1;33m,\u001b[0m \u001b[1;36m10\u001b[0m\u001b[1;33m,\u001b[0m \u001b[1;36m11\u001b[0m\u001b[1;33m,\u001b[0m \u001b[1;36m22\u001b[0m\u001b[1;33m)\u001b[0m \u001b[1;33m==\u001b[0m \u001b[1;32mTrue\u001b[0m\u001b[1;33m\u001b[0m\u001b[1;33m\u001b[0m\u001b[0m\n",
      "\u001b[1;31mAssertionError\u001b[0m: "
     ]
    }
   ],
   "source": [
    "def exercice2(nombre1, seuil_inférieur1, seul_supérieur1,\n",
    "              nombre2, seuil_inférieur2, seul_supérieur2):\n",
    "  pass\n",
    "\n",
    "assert exercice2(10, 15, 20, 12, 10, 11) == False\n",
    "\n",
    "assert exercice2(8, 6, 9, 10, 11, 22) == True"
   ]
  },
  {
   "cell_type": "markdown",
   "metadata": {},
   "source": [
    "## 1.3 Boucles"
   ]
  },
  {
   "cell_type": "markdown",
   "metadata": {
    "colab_type": "text",
    "id": "iz99T6IQQkbq"
   },
   "source": [
    "> Les boucles sont très importantes dans quelconque language de programmation de qualité et Python ne fait pas exception. Elles sont souvent utilisées afin d'itérer sur des listes, des arrays ou quelconques structures de données itérables, ou bien afin de répéter une tâche répétitive."
   ]
  },
  {
   "cell_type": "code",
   "execution_count": 22,
   "metadata": {
    "colab": {
     "base_uri": "https://localhost:8080/",
     "height": 191
    },
    "colab_type": "code",
    "id": "X-gPRIDkQiCz",
    "outputId": "38fc15a7-a2c3-4a3f-9384-bffaaf1ad5ef"
   },
   "outputs": [
    {
     "name": "stdout",
     "output_type": "stream",
     "text": [
      "élément présent: [0 1 2 3 4 5 6 7 8 9]\n",
      "élément présent: [10 11 12 13 14 15 16 17 18 19]\n",
      "élément présent: [20 21 22 23 24 25 26 27 28 29]\n",
      "élément présent: [30 31 32 33 34 35 36 37 38 39]\n",
      "élément présent: [40 41 42 43 44 45 46 47 48 49]\n",
      "élément présent: [50 51 52 53 54 55 56 57 58 59]\n",
      "élément présent: [60 61 62 63 64 65 66 67 68 69]\n",
      "élément présent: [70 71 72 73 74 75 76 77 78 79]\n",
      "élément présent: [80 81 82 83 84 85 86 87 88 89]\n",
      "élément présent: [90 91 92 93 94 95 96 97 98 99]\n"
     ]
    }
   ],
   "source": [
    "for element in grosse_arr:\n",
    "  print(\"élément présent: {}\".format(element))"
   ]
  },
  {
   "cell_type": "markdown",
   "metadata": {
    "colab_type": "text",
    "id": "2NNLQLnPeuXa"
   },
   "source": [
    "> Analysons la cellule précédente.\n",
    "```\n",
    "for element in grosse_arr:\n",
    "```\n",
    "puisque la *grosse_arr* est une array multidimensionnelle de 2 dimensions, nous itérons sur les rangées. En Python, tous le travail des for loops est caché ce qui permet de rendre Python beaucoup plus simple. Si on compare la syntaxe de Python avec un autre language comme C, on s'aperçoit rapidement de la force de Python.\n",
    "```\n",
    "int[][] grosse_arr = new int[10][10];\n",
    "for (int i = 0; i < 10; i++){\n",
    "  printf(\"élément présent:\");\n",
    "  for (int j = 0; j < 10; j++)}\n",
    "    printf(\"%f\", grosse_arr[i][j]);  \n",
    "  }\n",
    "  printf(\"\\n\");\n",
    "}\n",
    "```\n",
    "Nous avons parfois besoin de l'index lorsque nous itérons sur une liste ou une array afin de savoir nous sommes présentement à quelle itération. Nous utilisons la fonction *enumerate* afin de parvenir à nos besoins.\n"
   ]
  },
  {
   "cell_type": "code",
   "execution_count": 23,
   "metadata": {
    "colab": {
     "base_uri": "https://localhost:8080/",
     "height": 191
    },
    "colab_type": "code",
    "id": "UN5e6tJtiszT",
    "outputId": "a2f59484-286e-4ecf-bc8f-32a363884990"
   },
   "outputs": [
    {
     "name": "stdout",
     "output_type": "stream",
     "text": [
      "index présent: 0, élément présent: [0 1 2 3 4 5 6 7 8 9]\n",
      "index présent: 1, élément présent: [10 11 12 13 14 15 16 17 18 19]\n",
      "index présent: 2, élément présent: [20 21 22 23 24 25 26 27 28 29]\n",
      "index présent: 3, élément présent: [30 31 32 33 34 35 36 37 38 39]\n",
      "index présent: 4, élément présent: [40 41 42 43 44 45 46 47 48 49]\n",
      "index présent: 5, élément présent: [50 51 52 53 54 55 56 57 58 59]\n",
      "index présent: 6, élément présent: [60 61 62 63 64 65 66 67 68 69]\n",
      "index présent: 7, élément présent: [70 71 72 73 74 75 76 77 78 79]\n",
      "index présent: 8, élément présent: [80 81 82 83 84 85 86 87 88 89]\n",
      "index présent: 9, élément présent: [90 91 92 93 94 95 96 97 98 99]\n"
     ]
    }
   ],
   "source": [
    "for index, élément in enumerate(grosse_arr):\n",
    "  print('index présent: {}, élément présent: {}'.format(index, élément))"
   ]
  },
  {
   "cell_type": "markdown",
   "metadata": {
    "colab_type": "text",
    "id": "_EEyby0AlngU"
   },
   "source": [
    "> Remarquez que la boucle commence à l'index 0 et non 1.  \n",
    "Nous pouvons imbriquer des boucles dans d'autres. Par exemple, pour une boucle embriquée dans une autre, nous appelons cette dernière la boucle intérieure et la première la boucle extérieure."
   ]
  },
  {
   "cell_type": "code",
   "execution_count": 24,
   "metadata": {
    "colab": {
     "base_uri": "https://localhost:8080/",
     "height": 364
    },
    "colab_type": "code",
    "id": "3Q83tv0-lg3y",
    "outputId": "2bdffa01-8bcf-4530-cba0-873ae0cfaa2a"
   },
   "outputs": [
    {
     "name": "stdout",
     "output_type": "stream",
     "text": [
      "0\n",
      "1\n",
      "2\n",
      "3\n",
      "4\n",
      "5\n",
      "6\n",
      "7\n",
      "8\n",
      "9\n",
      "10\n",
      "11\n",
      "12\n",
      "13\n",
      "14\n",
      "15\n",
      "16\n",
      "17\n",
      "18\n",
      "19\n"
     ]
    }
   ],
   "source": [
    "for i, rangée in enumerate(grosse_arr): # boucle extérieure\n",
    "  for j, élément in enumerate(rangée): # boucle intérieure\n",
    "    if i * grosse_arr.shape[0] + j < 20: # imprime seulement les 20 premiers éléments\n",
    "      print(élément) "
   ]
  },
  {
   "cell_type": "markdown",
   "metadata": {},
   "source": [
    "### Exercice 3\n",
    "> Calculez la moyenne de l'array $x$."
   ]
  },
  {
   "cell_type": "code",
   "execution_count": 25,
   "metadata": {
    "colab": {},
    "colab_type": "code",
    "id": "AlfdDcSUONcG"
   },
   "outputs": [
    {
     "ename": "AssertionError",
     "evalue": "",
     "output_type": "error",
     "traceback": [
      "\u001b[1;31m---------------------------------------------------------------------------\u001b[0m",
      "\u001b[1;31mAssertionError\u001b[0m                            Traceback (most recent call last)",
      "\u001b[1;32m<ipython-input-25-1e3afaa2a9f4>\u001b[0m in \u001b[0;36m<module>\u001b[1;34m\u001b[0m\n\u001b[0;32m      6\u001b[0m \u001b[1;33m\u001b[0m\u001b[0m\n\u001b[0;32m      7\u001b[0m \u001b[1;33m\u001b[0m\u001b[0m\n\u001b[1;32m----> 8\u001b[1;33m \u001b[1;32massert\u001b[0m \u001b[1;34m'{:3f}'\u001b[0m\u001b[1;33m.\u001b[0m\u001b[0mformat\u001b[0m\u001b[1;33m(\u001b[0m\u001b[0mexercice3\u001b[0m\u001b[1;33m(\u001b[0m\u001b[0mx\u001b[0m\u001b[1;33m)\u001b[0m\u001b[1;33m)\u001b[0m \u001b[1;33m==\u001b[0m \u001b[1;34m'{:3f}'\u001b[0m\u001b[1;33m.\u001b[0m\u001b[0mformat\u001b[0m\u001b[1;33m(\u001b[0m\u001b[0mnp\u001b[0m\u001b[1;33m.\u001b[0m\u001b[0maverage\u001b[0m\u001b[1;33m(\u001b[0m\u001b[0mx\u001b[0m\u001b[1;33m)\u001b[0m\u001b[1;33m)\u001b[0m\u001b[1;33m\u001b[0m\u001b[1;33m\u001b[0m\u001b[0m\n\u001b[0m",
      "\u001b[1;31mAssertionError\u001b[0m: "
     ]
    }
   ],
   "source": [
    "x = np.random.randn(100)\n",
    "\n",
    "def exercice3(arr):\n",
    "  somme = 0\n",
    "  return somme\n",
    "\n",
    "\n",
    "assert '{:3f}'.format(exercice3(x)) == '{:3f}'.format(np.average(x))"
   ]
  },
  {
   "cell_type": "markdown",
   "metadata": {
    "colab_type": "text",
    "id": "ej_zBwMWnGoX"
   },
   "source": [
    "> Il existe une autre façon d'interagir avec les boucles *for* avec la compréhension de liste. La syntaxe de base est la suivante\n",
    "```\n",
    "[ expression for item in liste if condition ]\n",
    "```\n",
    "Remarquez les deux crochets autour de la ligne complète,  et les mots-clefs suivants:\n",
    "* for: la variable suivant le for est un élément individuel provenant de la liste, nous pouvons accéder à cet élément dans l'expression.\n",
    "* in: la variable suivant le mot-clef in est la liste sur laquelle nous sommes en train d'itérer.\n",
    "* if: la condition suivant le if spécifie si l'expression s'exécute, cette partie est optionnelle.\n"
   ]
  },
  {
   "cell_type": "code",
   "execution_count": 26,
   "metadata": {},
   "outputs": [
    {
     "name": "stdout",
     "output_type": "stream",
     "text": [
      "-0.13799857116047187\n"
     ]
    },
    {
     "data": {
      "text/plain": [
       "[1.3711684476870805,\n",
       " -0.1084060082115768,\n",
       " 0.9965783910861999,\n",
       " 1.327095426767479,\n",
       " 0.1660907120758052,\n",
       " 0.9648090960785973]"
      ]
     },
     "execution_count": 26,
     "metadata": {},
     "output_type": "execute_result"
    }
   ],
   "source": [
    "valeurs_aléatoires = np.random.randn(12)\n",
    "print(np.average(valeurs_aléatoires))\n",
    "top_valeurs = [el for el in valeurs_aléatoires if el > np.average(valeurs_aléatoires)]\n",
    "top_valeurs"
   ]
  },
  {
   "cell_type": "code",
   "execution_count": 28,
   "metadata": {},
   "outputs": [
    {
     "data": {
      "text/plain": [
       "[[], [], [], [], []]"
      ]
     },
     "execution_count": 28,
     "metadata": {},
     "output_type": "execute_result"
    }
   ],
   "source": [
    "# créer une simple liste vide ayant 2 dimensions\n",
    "deuxdim_liste = [[] for peuimporte in range(5)]\n",
    "deuxdim_liste"
   ]
  },
  {
   "cell_type": "markdown",
   "metadata": {
    "colab_type": "text",
    "id": "nh2Pr5uXCdtV"
   },
   "source": [
    "> Il y a également un autre type de boucle qui se nomme la boucle *while*  et qui a une structure différente. La boucle *while* utilise la même structure que le *if statement* vu précédemment. Cette boucle s'exécute jusqu'à sa condition s'évalue à $False$.\n",
    "```\n",
    "while condition:\n",
    "  code\n",
    "```\n",
    "Donc, le code s'exécute seulement lorsque la condition s'évalue à $True$."
   ]
  },
  {
   "cell_type": "code",
   "execution_count": 29,
   "metadata": {
    "colab": {
     "base_uri": "https://localhost:8080/",
     "height": 104
    },
    "colab_type": "code",
    "id": "IQLpu_LXmWWt",
    "outputId": "29f5c582-9afb-4b6d-8336-45baae0528e2"
   },
   "outputs": [
    {
     "name": "stdout",
     "output_type": "stream",
     "text": [
      "i value: 0\n",
      "i value: 1\n",
      "i value: 2\n",
      "i value: 3\n",
      "i value: 4\n"
     ]
    }
   ],
   "source": [
    "i = 0\n",
    "while i < 5:\n",
    "  print('i value: {}'.format(i))\n",
    "  i = i + 1 # alternatively i += 1"
   ]
  },
  {
   "cell_type": "markdown",
   "metadata": {
    "colab_type": "text",
    "id": "yrhKL4WqOQoY"
   },
   "source": [
    "> Finissons notre conversation sur les boucles avec la fonction *range*.\n",
    "```\n",
    "range(start, stop, step)\n",
    "```\n",
    "Les trois paramètres de la fonction *range* sont optionnels. Par défaut, le paramètre *start* à la valeur 0, le paramètre *stop* n'a pas de valeur et le paramètre *step* à la valeur 1. En d'autres mots, c'est une *range* $\\infty$. Si l'on donne seulement un paramètre à la fonction *range*, par défaut c'est le paramètre *stop*.\n",
    "```\n",
    "range(10)\n",
    "```\n",
    "Donc en utilisant l'expression précédente dans notre code, nous pourrions boucler 10 fois."
   ]
  },
  {
   "cell_type": "code",
   "execution_count": 30,
   "metadata": {
    "colab": {
     "base_uri": "https://localhost:8080/",
     "height": 104
    },
    "colab_type": "code",
    "id": "5njNQ2E3WRvT",
    "outputId": "171a2bf0-9f5d-46c5-f845-c96da8f41d3a"
   },
   "outputs": [
    {
     "name": "stdout",
     "output_type": "stream",
     "text": [
      "0\n",
      "1\n",
      "2\n",
      "3\n",
      "4\n"
     ]
    }
   ],
   "source": [
    "for x in range(5):\n",
    "  print(x)"
   ]
  },
  {
   "cell_type": "markdown",
   "metadata": {
    "colab_type": "text",
    "id": "eLgnMYgWHnNS"
   },
   "source": [
    "> Utilisons les notions vues aujourd'hui afin de traiter des données au préalable. Nous allons utiliser le *World Happiness Report* de 2019. Nous allons utiliser des DataFrame afin de manipuler des données."
   ]
  },
  {
   "cell_type": "code",
   "execution_count": 31,
   "metadata": {
    "colab": {
     "base_uri": "https://localhost:8080/",
     "height": 999
    },
    "colab_type": "code",
    "id": "axPNLcWqJTbn",
    "outputId": "74f27cb8-00cf-40d9-c572-9adac71c808f"
   },
   "outputs": [
    {
     "data": {
      "text/html": [
       "<div>\n",
       "<style scoped>\n",
       "    .dataframe tbody tr th:only-of-type {\n",
       "        vertical-align: middle;\n",
       "    }\n",
       "\n",
       "    .dataframe tbody tr th {\n",
       "        vertical-align: top;\n",
       "    }\n",
       "\n",
       "    .dataframe thead th {\n",
       "        text-align: right;\n",
       "    }\n",
       "</style>\n",
       "<table border=\"1\" class=\"dataframe\">\n",
       "  <thead>\n",
       "    <tr style=\"text-align: right;\">\n",
       "      <th></th>\n",
       "      <th>Country (region)</th>\n",
       "      <th>Ladder</th>\n",
       "      <th>SD of Ladder</th>\n",
       "      <th>Positive affect</th>\n",
       "      <th>Negative affect</th>\n",
       "      <th>Social support</th>\n",
       "      <th>Freedom</th>\n",
       "      <th>Corruption</th>\n",
       "      <th>Generosity</th>\n",
       "      <th>Log of GDP\n",
       "per capita</th>\n",
       "      <th>Healthy life\n",
       "expectancy</th>\n",
       "    </tr>\n",
       "  </thead>\n",
       "  <tbody>\n",
       "    <tr>\n",
       "      <th>30</th>\n",
       "      <td>Panama</td>\n",
       "      <td>31</td>\n",
       "      <td>121</td>\n",
       "      <td>7.0</td>\n",
       "      <td>48.0</td>\n",
       "      <td>41.0</td>\n",
       "      <td>32.0</td>\n",
       "      <td>104.0</td>\n",
       "      <td>88.0</td>\n",
       "      <td>51.0</td>\n",
       "      <td>33.0</td>\n",
       "    </tr>\n",
       "    <tr>\n",
       "      <th>31</th>\n",
       "      <td>Brazil</td>\n",
       "      <td>32</td>\n",
       "      <td>116</td>\n",
       "      <td>69.0</td>\n",
       "      <td>105.0</td>\n",
       "      <td>43.0</td>\n",
       "      <td>84.0</td>\n",
       "      <td>71.0</td>\n",
       "      <td>108.0</td>\n",
       "      <td>70.0</td>\n",
       "      <td>72.0</td>\n",
       "    </tr>\n",
       "    <tr>\n",
       "      <th>32</th>\n",
       "      <td>Uruguay</td>\n",
       "      <td>33</td>\n",
       "      <td>88</td>\n",
       "      <td>10.0</td>\n",
       "      <td>76.0</td>\n",
       "      <td>35.0</td>\n",
       "      <td>30.0</td>\n",
       "      <td>33.0</td>\n",
       "      <td>80.0</td>\n",
       "      <td>52.0</td>\n",
       "      <td>35.0</td>\n",
       "    </tr>\n",
       "    <tr>\n",
       "      <th>33</th>\n",
       "      <td>Singapore</td>\n",
       "      <td>34</td>\n",
       "      <td>5</td>\n",
       "      <td>38.0</td>\n",
       "      <td>2.0</td>\n",
       "      <td>36.0</td>\n",
       "      <td>20.0</td>\n",
       "      <td>1.0</td>\n",
       "      <td>21.0</td>\n",
       "      <td>3.0</td>\n",
       "      <td>1.0</td>\n",
       "    </tr>\n",
       "    <tr>\n",
       "      <th>34</th>\n",
       "      <td>El Salvador</td>\n",
       "      <td>35</td>\n",
       "      <td>112</td>\n",
       "      <td>23.0</td>\n",
       "      <td>84.0</td>\n",
       "      <td>83.0</td>\n",
       "      <td>74.0</td>\n",
       "      <td>85.0</td>\n",
       "      <td>134.0</td>\n",
       "      <td>100.0</td>\n",
       "      <td>75.0</td>\n",
       "    </tr>\n",
       "    <tr>\n",
       "      <th>35</th>\n",
       "      <td>Italy</td>\n",
       "      <td>36</td>\n",
       "      <td>31</td>\n",
       "      <td>99.0</td>\n",
       "      <td>123.0</td>\n",
       "      <td>23.0</td>\n",
       "      <td>132.0</td>\n",
       "      <td>128.0</td>\n",
       "      <td>48.0</td>\n",
       "      <td>29.0</td>\n",
       "      <td>7.0</td>\n",
       "    </tr>\n",
       "    <tr>\n",
       "      <th>36</th>\n",
       "      <td>Bahrain</td>\n",
       "      <td>37</td>\n",
       "      <td>83</td>\n",
       "      <td>39.0</td>\n",
       "      <td>83.0</td>\n",
       "      <td>59.0</td>\n",
       "      <td>24.0</td>\n",
       "      <td>NaN</td>\n",
       "      <td>23.0</td>\n",
       "      <td>20.0</td>\n",
       "      <td>42.0</td>\n",
       "    </tr>\n",
       "    <tr>\n",
       "      <th>37</th>\n",
       "      <td>Slovakia</td>\n",
       "      <td>38</td>\n",
       "      <td>39</td>\n",
       "      <td>53.0</td>\n",
       "      <td>47.0</td>\n",
       "      <td>21.0</td>\n",
       "      <td>108.0</td>\n",
       "      <td>142.0</td>\n",
       "      <td>70.0</td>\n",
       "      <td>35.0</td>\n",
       "      <td>38.0</td>\n",
       "    </tr>\n",
       "    <tr>\n",
       "      <th>38</th>\n",
       "      <td>Trinidad and Tobago</td>\n",
       "      <td>39</td>\n",
       "      <td>89</td>\n",
       "      <td>14.0</td>\n",
       "      <td>52.0</td>\n",
       "      <td>29.0</td>\n",
       "      <td>51.0</td>\n",
       "      <td>141.0</td>\n",
       "      <td>41.0</td>\n",
       "      <td>38.0</td>\n",
       "      <td>93.0</td>\n",
       "    </tr>\n",
       "    <tr>\n",
       "      <th>39</th>\n",
       "      <td>Poland</td>\n",
       "      <td>40</td>\n",
       "      <td>28</td>\n",
       "      <td>76.0</td>\n",
       "      <td>33.0</td>\n",
       "      <td>44.0</td>\n",
       "      <td>52.0</td>\n",
       "      <td>108.0</td>\n",
       "      <td>77.0</td>\n",
       "      <td>41.0</td>\n",
       "      <td>36.0</td>\n",
       "    </tr>\n",
       "    <tr>\n",
       "      <th>40</th>\n",
       "      <td>Uzbekistan</td>\n",
       "      <td>41</td>\n",
       "      <td>99</td>\n",
       "      <td>19.0</td>\n",
       "      <td>15.0</td>\n",
       "      <td>11.0</td>\n",
       "      <td>1.0</td>\n",
       "      <td>18.0</td>\n",
       "      <td>29.0</td>\n",
       "      <td>104.0</td>\n",
       "      <td>83.0</td>\n",
       "    </tr>\n",
       "    <tr>\n",
       "      <th>41</th>\n",
       "      <td>Lithuania</td>\n",
       "      <td>42</td>\n",
       "      <td>55</td>\n",
       "      <td>138.0</td>\n",
       "      <td>41.0</td>\n",
       "      <td>17.0</td>\n",
       "      <td>122.0</td>\n",
       "      <td>113.0</td>\n",
       "      <td>124.0</td>\n",
       "      <td>36.0</td>\n",
       "      <td>62.0</td>\n",
       "    </tr>\n",
       "    <tr>\n",
       "      <th>42</th>\n",
       "      <td>Colombia</td>\n",
       "      <td>43</td>\n",
       "      <td>120</td>\n",
       "      <td>30.0</td>\n",
       "      <td>88.0</td>\n",
       "      <td>52.0</td>\n",
       "      <td>56.0</td>\n",
       "      <td>124.0</td>\n",
       "      <td>111.0</td>\n",
       "      <td>74.0</td>\n",
       "      <td>51.0</td>\n",
       "    </tr>\n",
       "    <tr>\n",
       "      <th>43</th>\n",
       "      <td>Slovenia</td>\n",
       "      <td>44</td>\n",
       "      <td>54</td>\n",
       "      <td>114.0</td>\n",
       "      <td>71.0</td>\n",
       "      <td>14.0</td>\n",
       "      <td>13.0</td>\n",
       "      <td>97.0</td>\n",
       "      <td>54.0</td>\n",
       "      <td>34.0</td>\n",
       "      <td>29.0</td>\n",
       "    </tr>\n",
       "    <tr>\n",
       "      <th>44</th>\n",
       "      <td>Nicaragua</td>\n",
       "      <td>45</td>\n",
       "      <td>133</td>\n",
       "      <td>31.0</td>\n",
       "      <td>125.0</td>\n",
       "      <td>66.0</td>\n",
       "      <td>70.0</td>\n",
       "      <td>43.0</td>\n",
       "      <td>71.0</td>\n",
       "      <td>108.0</td>\n",
       "      <td>53.0</td>\n",
       "    </tr>\n",
       "    <tr>\n",
       "      <th>45</th>\n",
       "      <td>Kosovo</td>\n",
       "      <td>46</td>\n",
       "      <td>107</td>\n",
       "      <td>71.0</td>\n",
       "      <td>7.0</td>\n",
       "      <td>85.0</td>\n",
       "      <td>50.0</td>\n",
       "      <td>144.0</td>\n",
       "      <td>31.0</td>\n",
       "      <td>88.0</td>\n",
       "      <td>NaN</td>\n",
       "    </tr>\n",
       "    <tr>\n",
       "      <th>46</th>\n",
       "      <td>Argentina</td>\n",
       "      <td>47</td>\n",
       "      <td>97</td>\n",
       "      <td>28.0</td>\n",
       "      <td>93.0</td>\n",
       "      <td>46.0</td>\n",
       "      <td>54.0</td>\n",
       "      <td>109.0</td>\n",
       "      <td>123.0</td>\n",
       "      <td>55.0</td>\n",
       "      <td>37.0</td>\n",
       "    </tr>\n",
       "    <tr>\n",
       "      <th>47</th>\n",
       "      <td>Romania</td>\n",
       "      <td>48</td>\n",
       "      <td>75</td>\n",
       "      <td>80.0</td>\n",
       "      <td>62.0</td>\n",
       "      <td>86.0</td>\n",
       "      <td>57.0</td>\n",
       "      <td>146.0</td>\n",
       "      <td>102.0</td>\n",
       "      <td>48.0</td>\n",
       "      <td>61.0</td>\n",
       "    </tr>\n",
       "    <tr>\n",
       "      <th>48</th>\n",
       "      <td>Cyprus</td>\n",
       "      <td>49</td>\n",
       "      <td>95</td>\n",
       "      <td>60.0</td>\n",
       "      <td>99.0</td>\n",
       "      <td>90.0</td>\n",
       "      <td>81.0</td>\n",
       "      <td>115.0</td>\n",
       "      <td>39.0</td>\n",
       "      <td>33.0</td>\n",
       "      <td>6.0</td>\n",
       "    </tr>\n",
       "    <tr>\n",
       "      <th>49</th>\n",
       "      <td>Ecuador</td>\n",
       "      <td>50</td>\n",
       "      <td>113</td>\n",
       "      <td>11.0</td>\n",
       "      <td>113.0</td>\n",
       "      <td>71.0</td>\n",
       "      <td>42.0</td>\n",
       "      <td>68.0</td>\n",
       "      <td>95.0</td>\n",
       "      <td>86.0</td>\n",
       "      <td>45.0</td>\n",
       "    </tr>\n",
       "    <tr>\n",
       "      <th>50</th>\n",
       "      <td>Kuwait</td>\n",
       "      <td>51</td>\n",
       "      <td>98</td>\n",
       "      <td>89.0</td>\n",
       "      <td>97.0</td>\n",
       "      <td>69.0</td>\n",
       "      <td>47.0</td>\n",
       "      <td>NaN</td>\n",
       "      <td>42.0</td>\n",
       "      <td>5.0</td>\n",
       "      <td>70.0</td>\n",
       "    </tr>\n",
       "    <tr>\n",
       "      <th>51</th>\n",
       "      <td>Thailand</td>\n",
       "      <td>52</td>\n",
       "      <td>81</td>\n",
       "      <td>20.0</td>\n",
       "      <td>35.0</td>\n",
       "      <td>53.0</td>\n",
       "      <td>18.0</td>\n",
       "      <td>131.0</td>\n",
       "      <td>10.0</td>\n",
       "      <td>62.0</td>\n",
       "      <td>58.0</td>\n",
       "    </tr>\n",
       "    <tr>\n",
       "      <th>52</th>\n",
       "      <td>Latvia</td>\n",
       "      <td>53</td>\n",
       "      <td>30</td>\n",
       "      <td>119.0</td>\n",
       "      <td>38.0</td>\n",
       "      <td>34.0</td>\n",
       "      <td>126.0</td>\n",
       "      <td>92.0</td>\n",
       "      <td>105.0</td>\n",
       "      <td>43.0</td>\n",
       "      <td>68.0</td>\n",
       "    </tr>\n",
       "    <tr>\n",
       "      <th>53</th>\n",
       "      <td>South Korea</td>\n",
       "      <td>54</td>\n",
       "      <td>57</td>\n",
       "      <td>101.0</td>\n",
       "      <td>45.0</td>\n",
       "      <td>91.0</td>\n",
       "      <td>144.0</td>\n",
       "      <td>100.0</td>\n",
       "      <td>40.0</td>\n",
       "      <td>27.0</td>\n",
       "      <td>9.0</td>\n",
       "    </tr>\n",
       "    <tr>\n",
       "      <th>54</th>\n",
       "      <td>Estonia</td>\n",
       "      <td>55</td>\n",
       "      <td>32</td>\n",
       "      <td>50.0</td>\n",
       "      <td>6.0</td>\n",
       "      <td>12.0</td>\n",
       "      <td>45.0</td>\n",
       "      <td>30.0</td>\n",
       "      <td>83.0</td>\n",
       "      <td>37.0</td>\n",
       "      <td>41.0</td>\n",
       "    </tr>\n",
       "    <tr>\n",
       "      <th>55</th>\n",
       "      <td>Jamaica</td>\n",
       "      <td>56</td>\n",
       "      <td>102</td>\n",
       "      <td>51.0</td>\n",
       "      <td>51.0</td>\n",
       "      <td>28.0</td>\n",
       "      <td>49.0</td>\n",
       "      <td>130.0</td>\n",
       "      <td>119.0</td>\n",
       "      <td>93.0</td>\n",
       "      <td>55.0</td>\n",
       "    </tr>\n",
       "    <tr>\n",
       "      <th>56</th>\n",
       "      <td>Mauritius</td>\n",
       "      <td>57</td>\n",
       "      <td>94</td>\n",
       "      <td>55.0</td>\n",
       "      <td>16.0</td>\n",
       "      <td>54.0</td>\n",
       "      <td>40.0</td>\n",
       "      <td>96.0</td>\n",
       "      <td>37.0</td>\n",
       "      <td>53.0</td>\n",
       "      <td>73.0</td>\n",
       "    </tr>\n",
       "    <tr>\n",
       "      <th>57</th>\n",
       "      <td>Japan</td>\n",
       "      <td>58</td>\n",
       "      <td>43</td>\n",
       "      <td>73.0</td>\n",
       "      <td>14.0</td>\n",
       "      <td>50.0</td>\n",
       "      <td>64.0</td>\n",
       "      <td>39.0</td>\n",
       "      <td>92.0</td>\n",
       "      <td>24.0</td>\n",
       "      <td>2.0</td>\n",
       "    </tr>\n",
       "    <tr>\n",
       "      <th>58</th>\n",
       "      <td>Honduras</td>\n",
       "      <td>59</td>\n",
       "      <td>151</td>\n",
       "      <td>13.0</td>\n",
       "      <td>73.0</td>\n",
       "      <td>84.0</td>\n",
       "      <td>39.0</td>\n",
       "      <td>79.0</td>\n",
       "      <td>51.0</td>\n",
       "      <td>113.0</td>\n",
       "      <td>57.0</td>\n",
       "    </tr>\n",
       "    <tr>\n",
       "      <th>59</th>\n",
       "      <td>Kazakhstan</td>\n",
       "      <td>60</td>\n",
       "      <td>40</td>\n",
       "      <td>81.0</td>\n",
       "      <td>5.0</td>\n",
       "      <td>19.0</td>\n",
       "      <td>80.0</td>\n",
       "      <td>57.0</td>\n",
       "      <td>57.0</td>\n",
       "      <td>47.0</td>\n",
       "      <td>88.0</td>\n",
       "    </tr>\n",
       "    <tr>\n",
       "      <th>60</th>\n",
       "      <td>Bolivia</td>\n",
       "      <td>61</td>\n",
       "      <td>71</td>\n",
       "      <td>70.0</td>\n",
       "      <td>138.0</td>\n",
       "      <td>93.0</td>\n",
       "      <td>35.0</td>\n",
       "      <td>91.0</td>\n",
       "      <td>104.0</td>\n",
       "      <td>101.0</td>\n",
       "      <td>94.0</td>\n",
       "    </tr>\n",
       "  </tbody>\n",
       "</table>\n",
       "</div>"
      ],
      "text/plain": [
       "       Country (region)  Ladder  SD of Ladder  Positive affect  \\\n",
       "30               Panama      31           121              7.0   \n",
       "31               Brazil      32           116             69.0   \n",
       "32              Uruguay      33            88             10.0   \n",
       "33            Singapore      34             5             38.0   \n",
       "34          El Salvador      35           112             23.0   \n",
       "35                Italy      36            31             99.0   \n",
       "36              Bahrain      37            83             39.0   \n",
       "37             Slovakia      38            39             53.0   \n",
       "38  Trinidad and Tobago      39            89             14.0   \n",
       "39               Poland      40            28             76.0   \n",
       "40           Uzbekistan      41            99             19.0   \n",
       "41            Lithuania      42            55            138.0   \n",
       "42             Colombia      43           120             30.0   \n",
       "43             Slovenia      44            54            114.0   \n",
       "44            Nicaragua      45           133             31.0   \n",
       "45               Kosovo      46           107             71.0   \n",
       "46            Argentina      47            97             28.0   \n",
       "47              Romania      48            75             80.0   \n",
       "48               Cyprus      49            95             60.0   \n",
       "49              Ecuador      50           113             11.0   \n",
       "50               Kuwait      51            98             89.0   \n",
       "51             Thailand      52            81             20.0   \n",
       "52               Latvia      53            30            119.0   \n",
       "53          South Korea      54            57            101.0   \n",
       "54              Estonia      55            32             50.0   \n",
       "55              Jamaica      56           102             51.0   \n",
       "56            Mauritius      57            94             55.0   \n",
       "57                Japan      58            43             73.0   \n",
       "58             Honduras      59           151             13.0   \n",
       "59           Kazakhstan      60            40             81.0   \n",
       "60              Bolivia      61            71             70.0   \n",
       "\n",
       "    Negative affect  Social support  Freedom  Corruption  Generosity  \\\n",
       "30             48.0            41.0     32.0       104.0        88.0   \n",
       "31            105.0            43.0     84.0        71.0       108.0   \n",
       "32             76.0            35.0     30.0        33.0        80.0   \n",
       "33              2.0            36.0     20.0         1.0        21.0   \n",
       "34             84.0            83.0     74.0        85.0       134.0   \n",
       "35            123.0            23.0    132.0       128.0        48.0   \n",
       "36             83.0            59.0     24.0         NaN        23.0   \n",
       "37             47.0            21.0    108.0       142.0        70.0   \n",
       "38             52.0            29.0     51.0       141.0        41.0   \n",
       "39             33.0            44.0     52.0       108.0        77.0   \n",
       "40             15.0            11.0      1.0        18.0        29.0   \n",
       "41             41.0            17.0    122.0       113.0       124.0   \n",
       "42             88.0            52.0     56.0       124.0       111.0   \n",
       "43             71.0            14.0     13.0        97.0        54.0   \n",
       "44            125.0            66.0     70.0        43.0        71.0   \n",
       "45              7.0            85.0     50.0       144.0        31.0   \n",
       "46             93.0            46.0     54.0       109.0       123.0   \n",
       "47             62.0            86.0     57.0       146.0       102.0   \n",
       "48             99.0            90.0     81.0       115.0        39.0   \n",
       "49            113.0            71.0     42.0        68.0        95.0   \n",
       "50             97.0            69.0     47.0         NaN        42.0   \n",
       "51             35.0            53.0     18.0       131.0        10.0   \n",
       "52             38.0            34.0    126.0        92.0       105.0   \n",
       "53             45.0            91.0    144.0       100.0        40.0   \n",
       "54              6.0            12.0     45.0        30.0        83.0   \n",
       "55             51.0            28.0     49.0       130.0       119.0   \n",
       "56             16.0            54.0     40.0        96.0        37.0   \n",
       "57             14.0            50.0     64.0        39.0        92.0   \n",
       "58             73.0            84.0     39.0        79.0        51.0   \n",
       "59              5.0            19.0     80.0        57.0        57.0   \n",
       "60            138.0            93.0     35.0        91.0       104.0   \n",
       "\n",
       "    Log of GDP\\nper capita  Healthy life\\nexpectancy  \n",
       "30                    51.0                      33.0  \n",
       "31                    70.0                      72.0  \n",
       "32                    52.0                      35.0  \n",
       "33                     3.0                       1.0  \n",
       "34                   100.0                      75.0  \n",
       "35                    29.0                       7.0  \n",
       "36                    20.0                      42.0  \n",
       "37                    35.0                      38.0  \n",
       "38                    38.0                      93.0  \n",
       "39                    41.0                      36.0  \n",
       "40                   104.0                      83.0  \n",
       "41                    36.0                      62.0  \n",
       "42                    74.0                      51.0  \n",
       "43                    34.0                      29.0  \n",
       "44                   108.0                      53.0  \n",
       "45                    88.0                       NaN  \n",
       "46                    55.0                      37.0  \n",
       "47                    48.0                      61.0  \n",
       "48                    33.0                       6.0  \n",
       "49                    86.0                      45.0  \n",
       "50                     5.0                      70.0  \n",
       "51                    62.0                      58.0  \n",
       "52                    43.0                      68.0  \n",
       "53                    27.0                       9.0  \n",
       "54                    37.0                      41.0  \n",
       "55                    93.0                      55.0  \n",
       "56                    53.0                      73.0  \n",
       "57                    24.0                       2.0  \n",
       "58                   113.0                      57.0  \n",
       "59                    47.0                      88.0  \n",
       "60                   101.0                      94.0  "
      ]
     },
     "execution_count": 31,
     "metadata": {},
     "output_type": "execute_result"
    }
   ],
   "source": [
    "import io\n",
    "import pandas as pd\n",
    "whr = pd.read_csv('world-happiness-report-2019.csv')\n",
    "whr.loc[30:60]"
   ]
  },
  {
   "cell_type": "markdown",
   "metadata": {
    "colab_type": "text",
    "id": "wVRo0npnK6go"
   },
   "source": [
    "> En regardant notre jeu de données de plus près, nous nous apercevons que certaines valeurs sont $NaN$ (not a number). Naïvement, nous allons itérer sur notre jeu de données afin de remplacer les $NaN$ par le nombre de colonnes."
   ]
  },
  {
   "cell_type": "code",
   "execution_count": 32,
   "metadata": {
    "colab": {
     "base_uri": "https://localhost:8080/",
     "height": 416
    },
    "colab_type": "code",
    "id": "IoHXggWwKX8_",
    "outputId": "6e069523-edab-4b77-abe7-ed51e5bffb98"
   },
   "outputs": [
    {
     "name": "stdout",
     "output_type": "stream",
     "text": [
      "i: 20, j: 7\n",
      "i: 24, j: 9\n",
      "i: 24, j: 10\n",
      "i: 27, j: 7\n",
      "i: 28, j: 3\n",
      "i: 28, j: 4\n",
      "i: 28, j: 5\n",
      "i: 28, j: 6\n",
      "i: 28, j: 7\n",
      "i: 28, j: 8\n",
      "i: 36, j: 7\n",
      "i: 45, j: 10\n",
      "i: 50, j: 7\n",
      "i: 63, j: 9\n",
      "i: 63, j: 10\n",
      "i: 75, j: 10\n",
      "i: 86, j: 7\n",
      "i: 92, j: 7\n",
      "i: 100, j: 7\n",
      "i: 109, j: 10\n",
      "i: 111, j: 9\n",
      "i: 134, j: 10\n",
      "i: 148, j: 9\n"
     ]
    }
   ],
   "source": [
    "\n",
    "nombre_de_rangées = whr.shape[0]\n",
    "nombre_de_colonnes = whr.shape[1]\n",
    "\n",
    "\n",
    "for i in range(nombre_de_rangées):\n",
    "  for j in range(1, nombre_de_colonnes):\n",
    "    if np.isnan(whr.iloc[i, j]):\n",
    "      print('i: {}, j: {}'.format(i,j))\n",
    "      whr.iloc[i, j] = nombre_de_rangées\n"
   ]
  },
  {
   "cell_type": "code",
   "execution_count": 33,
   "metadata": {
    "colab": {
     "base_uri": "https://localhost:8080/",
     "height": 999
    },
    "colab_type": "code",
    "id": "MNKpHFz2Oaj7",
    "outputId": "e58d25e5-22f4-4450-eb9d-2ce7e23e3e48"
   },
   "outputs": [
    {
     "data": {
      "text/html": [
       "<div>\n",
       "<style scoped>\n",
       "    .dataframe tbody tr th:only-of-type {\n",
       "        vertical-align: middle;\n",
       "    }\n",
       "\n",
       "    .dataframe tbody tr th {\n",
       "        vertical-align: top;\n",
       "    }\n",
       "\n",
       "    .dataframe thead th {\n",
       "        text-align: right;\n",
       "    }\n",
       "</style>\n",
       "<table border=\"1\" class=\"dataframe\">\n",
       "  <thead>\n",
       "    <tr style=\"text-align: right;\">\n",
       "      <th></th>\n",
       "      <th>Country (region)</th>\n",
       "      <th>Ladder</th>\n",
       "      <th>SD of Ladder</th>\n",
       "      <th>Positive affect</th>\n",
       "      <th>Negative affect</th>\n",
       "      <th>Social support</th>\n",
       "      <th>Freedom</th>\n",
       "      <th>Corruption</th>\n",
       "      <th>Generosity</th>\n",
       "      <th>Log of GDP\n",
       "per capita</th>\n",
       "      <th>Healthy life\n",
       "expectancy</th>\n",
       "    </tr>\n",
       "  </thead>\n",
       "  <tbody>\n",
       "    <tr>\n",
       "      <th>30</th>\n",
       "      <td>Panama</td>\n",
       "      <td>31</td>\n",
       "      <td>121</td>\n",
       "      <td>7.0</td>\n",
       "      <td>48.0</td>\n",
       "      <td>41.0</td>\n",
       "      <td>32.0</td>\n",
       "      <td>104.0</td>\n",
       "      <td>88.0</td>\n",
       "      <td>51.0</td>\n",
       "      <td>33.0</td>\n",
       "    </tr>\n",
       "    <tr>\n",
       "      <th>31</th>\n",
       "      <td>Brazil</td>\n",
       "      <td>32</td>\n",
       "      <td>116</td>\n",
       "      <td>69.0</td>\n",
       "      <td>105.0</td>\n",
       "      <td>43.0</td>\n",
       "      <td>84.0</td>\n",
       "      <td>71.0</td>\n",
       "      <td>108.0</td>\n",
       "      <td>70.0</td>\n",
       "      <td>72.0</td>\n",
       "    </tr>\n",
       "    <tr>\n",
       "      <th>32</th>\n",
       "      <td>Uruguay</td>\n",
       "      <td>33</td>\n",
       "      <td>88</td>\n",
       "      <td>10.0</td>\n",
       "      <td>76.0</td>\n",
       "      <td>35.0</td>\n",
       "      <td>30.0</td>\n",
       "      <td>33.0</td>\n",
       "      <td>80.0</td>\n",
       "      <td>52.0</td>\n",
       "      <td>35.0</td>\n",
       "    </tr>\n",
       "    <tr>\n",
       "      <th>33</th>\n",
       "      <td>Singapore</td>\n",
       "      <td>34</td>\n",
       "      <td>5</td>\n",
       "      <td>38.0</td>\n",
       "      <td>2.0</td>\n",
       "      <td>36.0</td>\n",
       "      <td>20.0</td>\n",
       "      <td>1.0</td>\n",
       "      <td>21.0</td>\n",
       "      <td>3.0</td>\n",
       "      <td>1.0</td>\n",
       "    </tr>\n",
       "    <tr>\n",
       "      <th>34</th>\n",
       "      <td>El Salvador</td>\n",
       "      <td>35</td>\n",
       "      <td>112</td>\n",
       "      <td>23.0</td>\n",
       "      <td>84.0</td>\n",
       "      <td>83.0</td>\n",
       "      <td>74.0</td>\n",
       "      <td>85.0</td>\n",
       "      <td>134.0</td>\n",
       "      <td>100.0</td>\n",
       "      <td>75.0</td>\n",
       "    </tr>\n",
       "    <tr>\n",
       "      <th>35</th>\n",
       "      <td>Italy</td>\n",
       "      <td>36</td>\n",
       "      <td>31</td>\n",
       "      <td>99.0</td>\n",
       "      <td>123.0</td>\n",
       "      <td>23.0</td>\n",
       "      <td>132.0</td>\n",
       "      <td>128.0</td>\n",
       "      <td>48.0</td>\n",
       "      <td>29.0</td>\n",
       "      <td>7.0</td>\n",
       "    </tr>\n",
       "    <tr>\n",
       "      <th>36</th>\n",
       "      <td>Bahrain</td>\n",
       "      <td>37</td>\n",
       "      <td>83</td>\n",
       "      <td>39.0</td>\n",
       "      <td>83.0</td>\n",
       "      <td>59.0</td>\n",
       "      <td>24.0</td>\n",
       "      <td>156.0</td>\n",
       "      <td>23.0</td>\n",
       "      <td>20.0</td>\n",
       "      <td>42.0</td>\n",
       "    </tr>\n",
       "    <tr>\n",
       "      <th>37</th>\n",
       "      <td>Slovakia</td>\n",
       "      <td>38</td>\n",
       "      <td>39</td>\n",
       "      <td>53.0</td>\n",
       "      <td>47.0</td>\n",
       "      <td>21.0</td>\n",
       "      <td>108.0</td>\n",
       "      <td>142.0</td>\n",
       "      <td>70.0</td>\n",
       "      <td>35.0</td>\n",
       "      <td>38.0</td>\n",
       "    </tr>\n",
       "    <tr>\n",
       "      <th>38</th>\n",
       "      <td>Trinidad and Tobago</td>\n",
       "      <td>39</td>\n",
       "      <td>89</td>\n",
       "      <td>14.0</td>\n",
       "      <td>52.0</td>\n",
       "      <td>29.0</td>\n",
       "      <td>51.0</td>\n",
       "      <td>141.0</td>\n",
       "      <td>41.0</td>\n",
       "      <td>38.0</td>\n",
       "      <td>93.0</td>\n",
       "    </tr>\n",
       "    <tr>\n",
       "      <th>39</th>\n",
       "      <td>Poland</td>\n",
       "      <td>40</td>\n",
       "      <td>28</td>\n",
       "      <td>76.0</td>\n",
       "      <td>33.0</td>\n",
       "      <td>44.0</td>\n",
       "      <td>52.0</td>\n",
       "      <td>108.0</td>\n",
       "      <td>77.0</td>\n",
       "      <td>41.0</td>\n",
       "      <td>36.0</td>\n",
       "    </tr>\n",
       "    <tr>\n",
       "      <th>40</th>\n",
       "      <td>Uzbekistan</td>\n",
       "      <td>41</td>\n",
       "      <td>99</td>\n",
       "      <td>19.0</td>\n",
       "      <td>15.0</td>\n",
       "      <td>11.0</td>\n",
       "      <td>1.0</td>\n",
       "      <td>18.0</td>\n",
       "      <td>29.0</td>\n",
       "      <td>104.0</td>\n",
       "      <td>83.0</td>\n",
       "    </tr>\n",
       "    <tr>\n",
       "      <th>41</th>\n",
       "      <td>Lithuania</td>\n",
       "      <td>42</td>\n",
       "      <td>55</td>\n",
       "      <td>138.0</td>\n",
       "      <td>41.0</td>\n",
       "      <td>17.0</td>\n",
       "      <td>122.0</td>\n",
       "      <td>113.0</td>\n",
       "      <td>124.0</td>\n",
       "      <td>36.0</td>\n",
       "      <td>62.0</td>\n",
       "    </tr>\n",
       "    <tr>\n",
       "      <th>42</th>\n",
       "      <td>Colombia</td>\n",
       "      <td>43</td>\n",
       "      <td>120</td>\n",
       "      <td>30.0</td>\n",
       "      <td>88.0</td>\n",
       "      <td>52.0</td>\n",
       "      <td>56.0</td>\n",
       "      <td>124.0</td>\n",
       "      <td>111.0</td>\n",
       "      <td>74.0</td>\n",
       "      <td>51.0</td>\n",
       "    </tr>\n",
       "    <tr>\n",
       "      <th>43</th>\n",
       "      <td>Slovenia</td>\n",
       "      <td>44</td>\n",
       "      <td>54</td>\n",
       "      <td>114.0</td>\n",
       "      <td>71.0</td>\n",
       "      <td>14.0</td>\n",
       "      <td>13.0</td>\n",
       "      <td>97.0</td>\n",
       "      <td>54.0</td>\n",
       "      <td>34.0</td>\n",
       "      <td>29.0</td>\n",
       "    </tr>\n",
       "    <tr>\n",
       "      <th>44</th>\n",
       "      <td>Nicaragua</td>\n",
       "      <td>45</td>\n",
       "      <td>133</td>\n",
       "      <td>31.0</td>\n",
       "      <td>125.0</td>\n",
       "      <td>66.0</td>\n",
       "      <td>70.0</td>\n",
       "      <td>43.0</td>\n",
       "      <td>71.0</td>\n",
       "      <td>108.0</td>\n",
       "      <td>53.0</td>\n",
       "    </tr>\n",
       "    <tr>\n",
       "      <th>45</th>\n",
       "      <td>Kosovo</td>\n",
       "      <td>46</td>\n",
       "      <td>107</td>\n",
       "      <td>71.0</td>\n",
       "      <td>7.0</td>\n",
       "      <td>85.0</td>\n",
       "      <td>50.0</td>\n",
       "      <td>144.0</td>\n",
       "      <td>31.0</td>\n",
       "      <td>88.0</td>\n",
       "      <td>156.0</td>\n",
       "    </tr>\n",
       "    <tr>\n",
       "      <th>46</th>\n",
       "      <td>Argentina</td>\n",
       "      <td>47</td>\n",
       "      <td>97</td>\n",
       "      <td>28.0</td>\n",
       "      <td>93.0</td>\n",
       "      <td>46.0</td>\n",
       "      <td>54.0</td>\n",
       "      <td>109.0</td>\n",
       "      <td>123.0</td>\n",
       "      <td>55.0</td>\n",
       "      <td>37.0</td>\n",
       "    </tr>\n",
       "    <tr>\n",
       "      <th>47</th>\n",
       "      <td>Romania</td>\n",
       "      <td>48</td>\n",
       "      <td>75</td>\n",
       "      <td>80.0</td>\n",
       "      <td>62.0</td>\n",
       "      <td>86.0</td>\n",
       "      <td>57.0</td>\n",
       "      <td>146.0</td>\n",
       "      <td>102.0</td>\n",
       "      <td>48.0</td>\n",
       "      <td>61.0</td>\n",
       "    </tr>\n",
       "    <tr>\n",
       "      <th>48</th>\n",
       "      <td>Cyprus</td>\n",
       "      <td>49</td>\n",
       "      <td>95</td>\n",
       "      <td>60.0</td>\n",
       "      <td>99.0</td>\n",
       "      <td>90.0</td>\n",
       "      <td>81.0</td>\n",
       "      <td>115.0</td>\n",
       "      <td>39.0</td>\n",
       "      <td>33.0</td>\n",
       "      <td>6.0</td>\n",
       "    </tr>\n",
       "    <tr>\n",
       "      <th>49</th>\n",
       "      <td>Ecuador</td>\n",
       "      <td>50</td>\n",
       "      <td>113</td>\n",
       "      <td>11.0</td>\n",
       "      <td>113.0</td>\n",
       "      <td>71.0</td>\n",
       "      <td>42.0</td>\n",
       "      <td>68.0</td>\n",
       "      <td>95.0</td>\n",
       "      <td>86.0</td>\n",
       "      <td>45.0</td>\n",
       "    </tr>\n",
       "    <tr>\n",
       "      <th>50</th>\n",
       "      <td>Kuwait</td>\n",
       "      <td>51</td>\n",
       "      <td>98</td>\n",
       "      <td>89.0</td>\n",
       "      <td>97.0</td>\n",
       "      <td>69.0</td>\n",
       "      <td>47.0</td>\n",
       "      <td>156.0</td>\n",
       "      <td>42.0</td>\n",
       "      <td>5.0</td>\n",
       "      <td>70.0</td>\n",
       "    </tr>\n",
       "    <tr>\n",
       "      <th>51</th>\n",
       "      <td>Thailand</td>\n",
       "      <td>52</td>\n",
       "      <td>81</td>\n",
       "      <td>20.0</td>\n",
       "      <td>35.0</td>\n",
       "      <td>53.0</td>\n",
       "      <td>18.0</td>\n",
       "      <td>131.0</td>\n",
       "      <td>10.0</td>\n",
       "      <td>62.0</td>\n",
       "      <td>58.0</td>\n",
       "    </tr>\n",
       "    <tr>\n",
       "      <th>52</th>\n",
       "      <td>Latvia</td>\n",
       "      <td>53</td>\n",
       "      <td>30</td>\n",
       "      <td>119.0</td>\n",
       "      <td>38.0</td>\n",
       "      <td>34.0</td>\n",
       "      <td>126.0</td>\n",
       "      <td>92.0</td>\n",
       "      <td>105.0</td>\n",
       "      <td>43.0</td>\n",
       "      <td>68.0</td>\n",
       "    </tr>\n",
       "    <tr>\n",
       "      <th>53</th>\n",
       "      <td>South Korea</td>\n",
       "      <td>54</td>\n",
       "      <td>57</td>\n",
       "      <td>101.0</td>\n",
       "      <td>45.0</td>\n",
       "      <td>91.0</td>\n",
       "      <td>144.0</td>\n",
       "      <td>100.0</td>\n",
       "      <td>40.0</td>\n",
       "      <td>27.0</td>\n",
       "      <td>9.0</td>\n",
       "    </tr>\n",
       "    <tr>\n",
       "      <th>54</th>\n",
       "      <td>Estonia</td>\n",
       "      <td>55</td>\n",
       "      <td>32</td>\n",
       "      <td>50.0</td>\n",
       "      <td>6.0</td>\n",
       "      <td>12.0</td>\n",
       "      <td>45.0</td>\n",
       "      <td>30.0</td>\n",
       "      <td>83.0</td>\n",
       "      <td>37.0</td>\n",
       "      <td>41.0</td>\n",
       "    </tr>\n",
       "    <tr>\n",
       "      <th>55</th>\n",
       "      <td>Jamaica</td>\n",
       "      <td>56</td>\n",
       "      <td>102</td>\n",
       "      <td>51.0</td>\n",
       "      <td>51.0</td>\n",
       "      <td>28.0</td>\n",
       "      <td>49.0</td>\n",
       "      <td>130.0</td>\n",
       "      <td>119.0</td>\n",
       "      <td>93.0</td>\n",
       "      <td>55.0</td>\n",
       "    </tr>\n",
       "    <tr>\n",
       "      <th>56</th>\n",
       "      <td>Mauritius</td>\n",
       "      <td>57</td>\n",
       "      <td>94</td>\n",
       "      <td>55.0</td>\n",
       "      <td>16.0</td>\n",
       "      <td>54.0</td>\n",
       "      <td>40.0</td>\n",
       "      <td>96.0</td>\n",
       "      <td>37.0</td>\n",
       "      <td>53.0</td>\n",
       "      <td>73.0</td>\n",
       "    </tr>\n",
       "    <tr>\n",
       "      <th>57</th>\n",
       "      <td>Japan</td>\n",
       "      <td>58</td>\n",
       "      <td>43</td>\n",
       "      <td>73.0</td>\n",
       "      <td>14.0</td>\n",
       "      <td>50.0</td>\n",
       "      <td>64.0</td>\n",
       "      <td>39.0</td>\n",
       "      <td>92.0</td>\n",
       "      <td>24.0</td>\n",
       "      <td>2.0</td>\n",
       "    </tr>\n",
       "    <tr>\n",
       "      <th>58</th>\n",
       "      <td>Honduras</td>\n",
       "      <td>59</td>\n",
       "      <td>151</td>\n",
       "      <td>13.0</td>\n",
       "      <td>73.0</td>\n",
       "      <td>84.0</td>\n",
       "      <td>39.0</td>\n",
       "      <td>79.0</td>\n",
       "      <td>51.0</td>\n",
       "      <td>113.0</td>\n",
       "      <td>57.0</td>\n",
       "    </tr>\n",
       "    <tr>\n",
       "      <th>59</th>\n",
       "      <td>Kazakhstan</td>\n",
       "      <td>60</td>\n",
       "      <td>40</td>\n",
       "      <td>81.0</td>\n",
       "      <td>5.0</td>\n",
       "      <td>19.0</td>\n",
       "      <td>80.0</td>\n",
       "      <td>57.0</td>\n",
       "      <td>57.0</td>\n",
       "      <td>47.0</td>\n",
       "      <td>88.0</td>\n",
       "    </tr>\n",
       "    <tr>\n",
       "      <th>60</th>\n",
       "      <td>Bolivia</td>\n",
       "      <td>61</td>\n",
       "      <td>71</td>\n",
       "      <td>70.0</td>\n",
       "      <td>138.0</td>\n",
       "      <td>93.0</td>\n",
       "      <td>35.0</td>\n",
       "      <td>91.0</td>\n",
       "      <td>104.0</td>\n",
       "      <td>101.0</td>\n",
       "      <td>94.0</td>\n",
       "    </tr>\n",
       "  </tbody>\n",
       "</table>\n",
       "</div>"
      ],
      "text/plain": [
       "       Country (region)  Ladder  SD of Ladder  Positive affect  \\\n",
       "30               Panama      31           121              7.0   \n",
       "31               Brazil      32           116             69.0   \n",
       "32              Uruguay      33            88             10.0   \n",
       "33            Singapore      34             5             38.0   \n",
       "34          El Salvador      35           112             23.0   \n",
       "35                Italy      36            31             99.0   \n",
       "36              Bahrain      37            83             39.0   \n",
       "37             Slovakia      38            39             53.0   \n",
       "38  Trinidad and Tobago      39            89             14.0   \n",
       "39               Poland      40            28             76.0   \n",
       "40           Uzbekistan      41            99             19.0   \n",
       "41            Lithuania      42            55            138.0   \n",
       "42             Colombia      43           120             30.0   \n",
       "43             Slovenia      44            54            114.0   \n",
       "44            Nicaragua      45           133             31.0   \n",
       "45               Kosovo      46           107             71.0   \n",
       "46            Argentina      47            97             28.0   \n",
       "47              Romania      48            75             80.0   \n",
       "48               Cyprus      49            95             60.0   \n",
       "49              Ecuador      50           113             11.0   \n",
       "50               Kuwait      51            98             89.0   \n",
       "51             Thailand      52            81             20.0   \n",
       "52               Latvia      53            30            119.0   \n",
       "53          South Korea      54            57            101.0   \n",
       "54              Estonia      55            32             50.0   \n",
       "55              Jamaica      56           102             51.0   \n",
       "56            Mauritius      57            94             55.0   \n",
       "57                Japan      58            43             73.0   \n",
       "58             Honduras      59           151             13.0   \n",
       "59           Kazakhstan      60            40             81.0   \n",
       "60              Bolivia      61            71             70.0   \n",
       "\n",
       "    Negative affect  Social support  Freedom  Corruption  Generosity  \\\n",
       "30             48.0            41.0     32.0       104.0        88.0   \n",
       "31            105.0            43.0     84.0        71.0       108.0   \n",
       "32             76.0            35.0     30.0        33.0        80.0   \n",
       "33              2.0            36.0     20.0         1.0        21.0   \n",
       "34             84.0            83.0     74.0        85.0       134.0   \n",
       "35            123.0            23.0    132.0       128.0        48.0   \n",
       "36             83.0            59.0     24.0       156.0        23.0   \n",
       "37             47.0            21.0    108.0       142.0        70.0   \n",
       "38             52.0            29.0     51.0       141.0        41.0   \n",
       "39             33.0            44.0     52.0       108.0        77.0   \n",
       "40             15.0            11.0      1.0        18.0        29.0   \n",
       "41             41.0            17.0    122.0       113.0       124.0   \n",
       "42             88.0            52.0     56.0       124.0       111.0   \n",
       "43             71.0            14.0     13.0        97.0        54.0   \n",
       "44            125.0            66.0     70.0        43.0        71.0   \n",
       "45              7.0            85.0     50.0       144.0        31.0   \n",
       "46             93.0            46.0     54.0       109.0       123.0   \n",
       "47             62.0            86.0     57.0       146.0       102.0   \n",
       "48             99.0            90.0     81.0       115.0        39.0   \n",
       "49            113.0            71.0     42.0        68.0        95.0   \n",
       "50             97.0            69.0     47.0       156.0        42.0   \n",
       "51             35.0            53.0     18.0       131.0        10.0   \n",
       "52             38.0            34.0    126.0        92.0       105.0   \n",
       "53             45.0            91.0    144.0       100.0        40.0   \n",
       "54              6.0            12.0     45.0        30.0        83.0   \n",
       "55             51.0            28.0     49.0       130.0       119.0   \n",
       "56             16.0            54.0     40.0        96.0        37.0   \n",
       "57             14.0            50.0     64.0        39.0        92.0   \n",
       "58             73.0            84.0     39.0        79.0        51.0   \n",
       "59              5.0            19.0     80.0        57.0        57.0   \n",
       "60            138.0            93.0     35.0        91.0       104.0   \n",
       "\n",
       "    Log of GDP\\nper capita  Healthy life\\nexpectancy  \n",
       "30                    51.0                      33.0  \n",
       "31                    70.0                      72.0  \n",
       "32                    52.0                      35.0  \n",
       "33                     3.0                       1.0  \n",
       "34                   100.0                      75.0  \n",
       "35                    29.0                       7.0  \n",
       "36                    20.0                      42.0  \n",
       "37                    35.0                      38.0  \n",
       "38                    38.0                      93.0  \n",
       "39                    41.0                      36.0  \n",
       "40                   104.0                      83.0  \n",
       "41                    36.0                      62.0  \n",
       "42                    74.0                      51.0  \n",
       "43                    34.0                      29.0  \n",
       "44                   108.0                      53.0  \n",
       "45                    88.0                     156.0  \n",
       "46                    55.0                      37.0  \n",
       "47                    48.0                      61.0  \n",
       "48                    33.0                       6.0  \n",
       "49                    86.0                      45.0  \n",
       "50                     5.0                      70.0  \n",
       "51                    62.0                      58.0  \n",
       "52                    43.0                      68.0  \n",
       "53                    27.0                       9.0  \n",
       "54                    37.0                      41.0  \n",
       "55                    93.0                      55.0  \n",
       "56                    53.0                      73.0  \n",
       "57                    24.0                       2.0  \n",
       "58                   113.0                      57.0  \n",
       "59                    47.0                      88.0  \n",
       "60                   101.0                      94.0  "
      ]
     },
     "execution_count": 33,
     "metadata": {},
     "output_type": "execute_result"
    }
   ],
   "source": [
    "whr.loc[30:60]"
   ]
  },
  {
   "cell_type": "markdown",
   "metadata": {},
   "source": [
    "### Exercice 4\n",
    "> Retournez l'élément ayant la plus petite valeur de la rangée corespondant à la Pologne"
   ]
  },
  {
   "cell_type": "code",
   "execution_count": 34,
   "metadata": {
    "colab": {},
    "colab_type": "code",
    "id": "N3-7qA7ic-ZD"
   },
   "outputs": [
    {
     "ename": "AssertionError",
     "evalue": "",
     "output_type": "error",
     "traceback": [
      "\u001b[1;31m---------------------------------------------------------------------------\u001b[0m",
      "\u001b[1;31mAssertionError\u001b[0m                            Traceback (most recent call last)",
      "\u001b[1;32m<ipython-input-34-b13de929a874>\u001b[0m in \u001b[0;36m<module>\u001b[1;34m\u001b[0m\n\u001b[0;32m      4\u001b[0m \u001b[1;33m\u001b[0m\u001b[0m\n\u001b[0;32m      5\u001b[0m \u001b[0mrangée\u001b[0m \u001b[1;33m=\u001b[0m \u001b[0mwhr\u001b[0m\u001b[1;33m.\u001b[0m\u001b[0miloc\u001b[0m\u001b[1;33m[\u001b[0m\u001b[1;36m39\u001b[0m\u001b[1;33m,\u001b[0m \u001b[1;36m1\u001b[0m\u001b[1;33m:\u001b[0m\u001b[1;33m]\u001b[0m\u001b[1;33m\u001b[0m\u001b[1;33m\u001b[0m\u001b[0m\n\u001b[1;32m----> 6\u001b[1;33m \u001b[1;32massert\u001b[0m \u001b[0mexercice4\u001b[0m\u001b[1;33m(\u001b[0m\u001b[0mrangée\u001b[0m\u001b[1;33m)\u001b[0m \u001b[1;33m==\u001b[0m \u001b[1;36m28\u001b[0m\u001b[1;33m\u001b[0m\u001b[1;33m\u001b[0m\u001b[0m\n\u001b[0m",
      "\u001b[1;31mAssertionError\u001b[0m: "
     ]
    }
   ],
   "source": [
    "def exercice4(rangée):\n",
    "  plus_bas = None  \n",
    "  return plus_bas\n",
    "\n",
    "rangée = whr.iloc[39, 1:]\n",
    "assert exercice4(rangée) == 28"
   ]
  }
 ],
 "metadata": {
  "colab": {
   "collapsed_sections": [],
   "name": "Copie de Untitled2.ipynb",
   "provenance": [],
   "version": "0.3.2"
  },
  "kernelspec": {
   "display_name": "Python 3",
   "language": "python",
   "name": "python3"
  },
  "language_info": {
   "codemirror_mode": {
    "name": "ipython",
    "version": 3
   },
   "file_extension": ".py",
   "mimetype": "text/x-python",
   "name": "python",
   "nbconvert_exporter": "python",
   "pygments_lexer": "ipython3",
   "version": "3.6.7"
  }
 },
 "nbformat": 4,
 "nbformat_minor": 2
}
