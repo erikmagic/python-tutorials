{
 "cells": [
  {
   "cell_type": "markdown",
   "metadata": {},
   "source": [
    "### Exercice 1"
   ]
  },
  {
   "cell_type": "code",
   "execution_count": 4,
   "metadata": {},
   "outputs": [],
   "source": [
    "import numpy as np\n",
    "grosse_arr = np.arange(100).reshape(10, 10)\n",
    "\n",
    "def exercice1(arr):\n",
    "  x = arr[-1][:]\n",
    "  return x\n",
    "\n",
    "assert (exercice1(grosse_arr) == np.array([90, 91, 92, 93, 94, 95, 96, 97, 98, 99])).all()"
   ]
  },
  {
   "cell_type": "markdown",
   "metadata": {},
   "source": [
    "### Exercice 2"
   ]
  },
  {
   "cell_type": "code",
   "execution_count": 1,
   "metadata": {},
   "outputs": [],
   "source": [
    "def exercice2(nombre1, seuil_inférieur1, seul_supérieur1,\n",
    "              nombre2, seuil_inférieur2, seul_supérieur2):\n",
    "  cond1 = nombre1 > seuil_inférieur1 and nombre1 < seul_supérieur1\n",
    "  cond2 = nombre2 > seuil_inférieur2 and nombre2 < seul_supérieur2\n",
    "  return cond1 or cond2\n",
    "\n",
    "assert exercice2(10, 15, 20, 12, 10, 11) == False\n",
    "\n",
    "assert exercice2(8, 6, 9, 10, 11, 22) == True"
   ]
  },
  {
   "cell_type": "markdown",
   "metadata": {},
   "source": [
    "### Exercice 3"
   ]
  },
  {
   "cell_type": "code",
   "execution_count": 5,
   "metadata": {},
   "outputs": [],
   "source": [
    "x = np.random.randn(100)\n",
    "\n",
    "def exercice3(arr):\n",
    "  somme = 0\n",
    "  for el in arr:\n",
    "    somme = somme + el\n",
    "\n",
    "  return somme / arr.size\n",
    "\n",
    "\n",
    "assert '{:3f}'.format(exercice3(x)) == '{:3f}'.format(np.average(x))"
   ]
  },
  {
   "cell_type": "markdown",
   "metadata": {},
   "source": [
    "### Exercice 4"
   ]
  },
  {
   "cell_type": "code",
   "execution_count": 7,
   "metadata": {},
   "outputs": [],
   "source": [
    "import pandas as pd\n",
    "whr = pd.read_csv('world-happiness-report-2019.csv')\n",
    "\n",
    "def exercice4(rangée):\n",
    "  plus_bas = 10000\n",
    "  for élément in rangée:\n",
    "    if élément <= plus_bas:\n",
    "      plus_bas = élément\n",
    "  \n",
    "  return plus_bas\n",
    "\n",
    "rangée = whr.iloc[39, 1:]\n",
    "assert exercice4(rangée) == 28"
   ]
  }
 ],
 "metadata": {
  "kernelspec": {
   "display_name": "Python 3",
   "language": "python",
   "name": "python3"
  },
  "language_info": {
   "codemirror_mode": {
    "name": "ipython",
    "version": 3
   },
   "file_extension": ".py",
   "mimetype": "text/x-python",
   "name": "python",
   "nbconvert_exporter": "python",
   "pygments_lexer": "ipython3",
   "version": "3.6.7"
  }
 },
 "nbformat": 4,
 "nbformat_minor": 2
}
