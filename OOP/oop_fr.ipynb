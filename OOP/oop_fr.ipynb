{
 "cells": [
  {
   "cell_type": "markdown",
   "metadata": {
    "collapsed": true,
    "pycharm": {
     "name": "#%% md\n"
    }
   },
   "source": [
    "# Programmation Orientée Objet (POO)\n",
    "\n",
    "La programmation orientée objet est un paradigme très populaire en pratique.\n",
    "C'est une manière de développer intuitive, à l'aide de cette technique, nous pouvons\n",
    "créer des logiciels assez complexes qui sont simultanément bien organisés."
   ]
  },
  {
   "cell_type": "markdown",
   "source": [
    "### Languages supportant la programmation orientée objet\n",
    "La plupart des langages modernes supportent la POO. Le language emblématique de ce paradigme est\n",
    "Java qui fonctionne obligatoirement avec des classes (la base de la POO).\n",
    "Python ne permet pas d'utiliser l'ensemble des fonctionnalités reliées à la POO offert par Java.\n",
    "Toutefois, les concepts indispensables sont tous présents."
   ],
   "metadata": {
    "collapsed": false,
    "pycharm": {
     "name": "#%% md\n"
    }
   }
  },
  {
   "cell_type": "markdown",
   "source": [
    "### Pourquoi utilisé la POO?\n",
    "La POO est née dans des langages procédurales comme manière facile d'organiser des structures plus complexes.\n",
    "Ces princales forces sont:\n",
    "* enforcer la modularité\n",
    "* enforcer la discipline\n",
    "* enforcer la visibilité de différentes parties du code\n",
    "\n",
    "Plus spécifiquement, la modularité est la séparation du code en sous-catégorie permettant\n",
    "de mieux organiser la structure.\n",
    "La discipline réfère à l'utilisation adéquate du code, comme il a été imaginé.\n",
    "Ensuite, à l'aide des fonctionnalités issues de la POO, il devient facile de limiter l'accès à certaines parties\n",
    " du code."
   ],
   "metadata": {
    "collapsed": false,
    "pycharm": {
     "name": "#%% md\n"
    }
   }
  },
  {
   "cell_type": "markdown",
   "source": [
    "### La POO en Python\n",
    "#### Classes\n",
    "Noter la syntaxe propre à Python. Nous utilisons le mot-clé `class` avant de nommer notre classe.\n",
    "Noter le mot-clé `pass` qui sert uniquement à délimiter du code vide (à cause de l'indentation).\n",
    "Lorsque nous associons une classe à une variable nous _instancions_ cette classe sous forme d'objet.\n",
    "En d'autres mots, les classes sont l'équivalent de plan et les objets sont des réalisations des plans."
   ],
   "metadata": {
    "collapsed": false,
    "pycharm": {
     "name": "#%% md\n",
     "is_executing": true
    }
   }
  },
  {
   "cell_type": "code",
   "execution_count": 2,
   "outputs": [
    {
     "data": {
      "text/plain": "<__main__.DummyClass at 0x7f7a301f0190>"
     },
     "execution_count": 2,
     "metadata": {},
     "output_type": "execute_result"
    }
   ],
   "source": [
    "class DummyClass:\n",
    "    pass\n",
    "\n",
    "my_class_object = DummyClass()\n",
    "my_class_object"
   ],
   "metadata": {
    "collapsed": false,
    "pycharm": {
     "name": "#%%\n"
    }
   }
  },
  {
   "cell_type": "markdown",
   "source": [
    "Fonctions définies dans une classe == méthode.\n",
    "Les méthodes débutant par deux barres de soulignements sont appelées `dunder` ou `magic` méthodes.\n",
    "Dans la cellule suivante, la méthode `__init__` est le constructeur.\n",
    "Cette méthode est automatiquement appelée lorsque la classe est instanciée."
   ],
   "metadata": {
    "collapsed": false,
    "pycharm": {
     "name": "#%% md\n"
    }
   }
  },
  {
   "cell_type": "code",
   "execution_count": 3,
   "outputs": [
    {
     "data": {
      "text/plain": "<__main__.DummyClassWithConstructor at 0x7f7a301f06d0>"
     },
     "execution_count": 3,
     "metadata": {},
     "output_type": "execute_result"
    }
   ],
   "source": [
    "class DummyClassWithConstructor:\n",
    "    def __init__(self):\n",
    "        pass\n",
    "my_class_object = DummyClassWithConstructor()\n",
    "my_class_object"
   ],
   "metadata": {
    "collapsed": false,
    "pycharm": {
     "name": "#%%\n"
    }
   }
  },
  {
   "cell_type": "markdown",
   "source": [
    "Dans la cellule suivante, nous utilisons deux autres `magic methods`.\n",
    "`__str__` est utilisée lorsque nous _castons_ notre objet en string.\n",
    "(par exemple, dans le cas suivant le `f-string` appelle implicitement\n",
    "la fonction `__str__`.\n",
    "`__repr__` est utilisée lors de l'affichage de l'objet en soit. Par défaut,\n",
    "il est important de définir `__repr__`  en premier."
   ],
   "metadata": {
    "collapsed": false,
    "pycharm": {
     "name": "#%% md\n"
    }
   }
  },
  {
   "cell_type": "code",
   "execution_count": 4,
   "outputs": [
    {
     "name": "stdout",
     "output_type": "stream",
     "text": [
      "obs desc: My name is Dummy Class\n"
     ]
    },
    {
     "data": {
      "text/plain": "My name is Dummy Class"
     },
     "execution_count": 4,
     "metadata": {},
     "output_type": "execute_result"
    }
   ],
   "source": [
    "class DummyClassWithAttribute:\n",
    "    def __init__(self):\n",
    "        self.name = \"Dummy Class\"\n",
    "\n",
    "    def __str__(self):\n",
    "        return f\"My name is {self.name}\"\n",
    "\n",
    "    def __repr__(self):\n",
    "        return self.__str__()\n",
    "\n",
    "my_class_object = DummyClassWithAttribute()\n",
    "print(f\"obs desc: {my_class_object}\")\n",
    "my_class_object"
   ],
   "metadata": {
    "collapsed": false,
    "pycharm": {
     "name": "#%%\n"
    }
   }
  },
  {
   "cell_type": "markdown",
   "source": [
    "#### Qu'est que le mot-clé `self`??\n",
    "Vous avez sans doute remarqué le mot-clé `self` comme premier argument des\n",
    "méthodes de l'exemple précédent. En fait, ce n'est pas un mot-clé, mais plutôt\n",
    "une convention. Cet argument réfère à la classe en soit."
   ],
   "metadata": {
    "collapsed": false,
    "pycharm": {
     "name": "#%% md\n"
    }
   }
  },
  {
   "cell_type": "code",
   "execution_count": 5,
   "outputs": [
    {
     "name": "stdout",
     "output_type": "stream",
     "text": [
      "hello\n",
      "hello\n"
     ]
    }
   ],
   "source": [
    "class DummyClassWithMethod:\n",
    "    def print_message(self):\n",
    "        print(\"hello\")\n",
    "my_class_object = DummyClassWithMethod()\n",
    "my_class_object.print_message()\n",
    "\n",
    "DummyClassWithMethod.print_message(my_class_object)\n"
   ],
   "metadata": {
    "collapsed": false,
    "pycharm": {
     "name": "#%%\n"
    }
   }
  },
  {
   "cell_type": "markdown",
   "source": [
    "Donc vous voyez, les deux manières sont identiques. Cependant. la première est plus intuitive."
   ],
   "metadata": {
    "collapsed": false,
    "pycharm": {
     "name": "#%% md\n"
    }
   }
  },
  {
   "cell_type": "markdown",
   "source": [
    "### Exercice 1\n",
    "Créer une classe avec deux arguments de type `int`, un constructeur les initialisant et une méthode les additionant."
   ],
   "metadata": {
    "collapsed": false,
    "pycharm": {
     "name": "#%% md\n"
    }
   }
  },
  {
   "cell_type": "code",
   "execution_count": 6,
   "outputs": [],
   "source": [
    "# exercice 1\n"
   ],
   "metadata": {
    "collapsed": false,
    "pycharm": {
     "name": "#%%\n"
    }
   }
  },
  {
   "cell_type": "markdown",
   "source": [
    "----------------------------------------------------------------\n",
    "### Variable de classe versus variable d'instance\n",
    "Il existe deux types de variables entourant le concept de classe en python.\n",
    "Premièrement, les variables d'instances. Ces variables sont spécifiques à une\n",
    "instance d'une classe, c'est-à-dire un objet en particulier.\n",
    "Deuxièmement, les variables de classe. Ces variables sont partagées par\n",
    "l'ensemble des instances associées à la classe en question."
   ],
   "metadata": {
    "collapsed": false,
    "pycharm": {
     "name": "#%% md\n"
    }
   }
  },
  {
   "cell_type": "code",
   "execution_count": 7,
   "outputs": [
    {
     "name": "stdout",
     "output_type": "stream",
     "text": [
      "Region: quebec, Pays: canada\n",
      "Region: quebec, Pays: US\n",
      "la region de ma deuxième instance est quebec\n",
      "les paysans de ma deuxième instance sont ['john', 'jack', 'erik']\n",
      "le pays de ma première instance est canada\n",
      "les dictateurs de ma première instance sont ['louis 14']\n"
     ]
    }
   ],
   "source": [
    "class DummyClass2:\n",
    "    region = 'quebec'\n",
    "    paysans = [\"john\", \"jack\"]\n",
    "    def __init__(self, pays):\n",
    "        self.pays = pays\n",
    "        self.dictateurs = ['louis 14']\n",
    "\n",
    "    def __repr__(self):\n",
    "        return f\"Region: {self.region}, Pays: {self.pays}\"\n",
    "\n",
    "    def __str__(self):\n",
    "        return self.__repr__()\n",
    "\n",
    "my_class_object  = DummyClass2('canada')\n",
    "my_class_object2 = DummyClass2('US')\n",
    "print(my_class_object)\n",
    "print(my_class_object2)\n",
    "\n",
    "my_class_object.region = \"Ontario\"\n",
    "my_class_object.paysans.append(\"erik\")\n",
    "print(f\"la region de ma deuxième instance est {my_class_object2.region}\")\n",
    "print(f\"les paysans de ma deuxième instance sont {my_class_object2.paysans}\")\n",
    "\n",
    "my_class_object2.pays = 'zimbabwe'\n",
    "my_class_object2.dictateurs.append('catherine le grande')\n",
    "print(f\"le pays de ma première instance est {my_class_object.pays}\")\n",
    "print(f\"les dictateurs de ma première instance sont {my_class_object.dictateurs}\")"
   ],
   "metadata": {
    "collapsed": false,
    "pycharm": {
     "name": "#%%\n"
    }
   }
  },
  {
   "cell_type": "markdown",
   "source": [
    "En résumé les variables de classe sont partagées par l'ensemble de mes variables.\n",
    "Il faut faire attention lorsque ces variables sont des types complexes puisque les changements\n",
    "seront appliqués sur l'ensemble des instances associées.\n",
    "Nous pouvons également avoir des méthodes d'instance et des méthodes de classe."
   ],
   "metadata": {
    "collapsed": false,
    "pycharm": {
     "name": "#%% md\n"
    }
   }
  },
  {
   "cell_type": "code",
   "execution_count": 8,
   "outputs": [
    {
     "data": {
      "text/plain": "jaskon wildman"
     },
     "execution_count": 8,
     "metadata": {},
     "output_type": "execute_result"
    }
   ],
   "source": [
    "class DummyFactoryClass:\n",
    "\n",
    "    def __init__(self, first_name, last_name):\n",
    "        self.first_name = first_name\n",
    "        self.last_name = last_name\n",
    "\n",
    "    @classmethod\n",
    "    def create_from_complete_name(cls, complete_name):\n",
    "        first_name = complete_name.split(\" \")[0]\n",
    "        last_name = complete_name.split(\" \")[1]\n",
    "        return cls(first_name, last_name)\n",
    "\n",
    "    def __repr__(self):\n",
    "        return self.first_name + \" \" + self.last_name\n",
    "\n",
    "    def __str__(self):\n",
    "        return self.__repr__()\n",
    "\n",
    "my_class_object = DummyFactoryClass.create_from_complete_name(\"jaskon wildman\")\n",
    "my_class_object"
   ],
   "metadata": {
    "collapsed": false,
    "pycharm": {
     "name": "#%%\n"
    }
   }
  },
  {
   "cell_type": "markdown",
   "source": [
    "Comme démontré dans l'exemple précédent, les méthodes de classes sont souvent utilisées afin\n",
    "d'instancier des classes de différentes façons. Ici, nous parlons du _factory design pattern_\n",
    "de l'ingénierie logicielle.\n",
    "\n",
    "----------------------------------------------------------------\n",
    "### Variables privées versus variables publiques\n",
    "Dans de nombreux langages de programmation, il existe plusieurs _modifiers_ de visibilité des variables et fonctions\n",
    "dans les classes. Normalement, on retrouve au moins les _modifiers private et public_. Nous les utilisons pour\n",
    "empêcher certaines méthodes et variables d'être utilisées ailleurs, où elles ne sont pas désirées.\n",
    "Malheureusement, python ne supporte pas vraiment ces fonctionnalités."
   ],
   "metadata": {
    "collapsed": false,
    "pycharm": {
     "name": "#%% md\n"
    }
   }
  },
  {
   "cell_type": "code",
   "execution_count": 9,
   "outputs": [
    {
     "name": "stdout",
     "output_type": "stream",
     "text": [
      "'DummyClassPrivateComponents' object has no attribute '__hidden_method'\n"
     ]
    }
   ],
   "source": [
    "class DummyClassPrivateComponents:\n",
    "    def __hidden_method(self):\n",
    "        print(\"I am hidden\")\n",
    "\n",
    "    def _hidden_method_2(self):\n",
    "        print(\"I am hidden as well\")\n",
    "\n",
    "    def not_hidden_method(self):\n",
    "        print(\"I am not hidden.\")\n",
    "\n",
    "my_class_object = DummyClassPrivateComponents()\n",
    "try:\n",
    "    my_class_object.__hidden_method()\n",
    "except Exception as e:\n",
    "    print(e)"
   ],
   "metadata": {
    "collapsed": false,
    "pycharm": {
     "name": "#%%\n"
    }
   }
  },
  {
   "cell_type": "code",
   "execution_count": 10,
   "outputs": [
    {
     "name": "stdout",
     "output_type": "stream",
     "text": [
      "Help on class DummyClassPrivateComponents in module __main__:\n",
      "\n",
      "class DummyClassPrivateComponents(builtins.object)\n",
      " |  Methods defined here:\n",
      " |  \n",
      " |  not_hidden_method(self)\n",
      " |  \n",
      " |  ----------------------------------------------------------------------\n",
      " |  Data descriptors defined here:\n",
      " |  \n",
      " |  __dict__\n",
      " |      dictionary for instance variables (if defined)\n",
      " |  \n",
      " |  __weakref__\n",
      " |      list of weak references to the object (if defined)\n",
      "\n",
      "I am hidden as well\n"
     ]
    }
   ],
   "source": [
    "# hmm _hidden_method_2 n'est pas visible comme les autres méthodes dans\n",
    "# notre classe\n",
    "help(DummyClassPrivateComponents)\n",
    "\n",
    "# mais nous pouvons toutefois l'appelée:\n",
    "my_class_object._hidden_method_2()"
   ],
   "metadata": {
    "collapsed": false,
    "pycharm": {
     "name": "#%%\n"
    }
   }
  },
  {
   "cell_type": "markdown",
   "source": [
    "Donc, il n'a a pas de variables private _per se_ en python. Par contre, il existe\n",
    "quelques mécanismes afin de restreindre la visibilité sur les méthodes ou variables.\n",
    "Le premier est la barre de soulignement unique, ceci permet d'empêcher que la méthode/variable soit\n",
    "visible avec la documentation ou les aides.\n",
    "Le deuxième est les doubles barres de soulignement ce qui change le nom de la variable/méthode en ajoutant le\n",
    "nom de la class avant."
   ],
   "metadata": {
    "collapsed": false,
    "pycharm": {
     "name": "#%% md\n"
    }
   }
  },
  {
   "cell_type": "code",
   "source": [
    "my_class_object._DummyClassPrivateComponents__hidden_method()\n"
   ],
   "metadata": {
    "collapsed": false,
    "pycharm": {
     "name": "#%%\n"
    }
   },
   "execution_count": 11,
   "outputs": [
    {
     "name": "stdout",
     "output_type": "stream",
     "text": [
      "I am hidden\n"
     ]
    }
   ]
  },
  {
   "cell_type": "markdown",
   "source": [
    "### Exercice 2\n",
    "Créer une classe avec un exemple réaliste d'utilisation de variable private."
   ],
   "metadata": {
    "collapsed": false,
    "pycharm": {
     "name": "#%% md\n"
    }
   }
  },
  {
   "cell_type": "code",
   "execution_count": 12,
   "outputs": [],
   "source": [
    "# exercice 2\n"
   ],
   "metadata": {
    "collapsed": false,
    "pycharm": {
     "name": "#%%\n"
    }
   }
  },
  {
   "cell_type": "markdown",
   "source": [
    "----------------------------------------------------------------\n",
    "### L'héritage\n",
    "Une partie importante de la programmation orientée objet est l'héritage. Une classe hérite les méthodes et les\n",
    "variables d'une autre (ou de plusieurs autres). Nous allons matérialiser l'idée à l'aide d'un exemple d'automobiles."
   ],
   "metadata": {
    "collapsed": false,
    "pycharm": {
     "name": "#%% md\n"
    }
   }
  },
  {
   "cell_type": "code",
   "source": [
    "import math\n",
    "\n",
    "class EuclideanPoint:\n",
    "    # slots design pattern afin de minimiser l'espace nécessaire\n",
    "    # pour nos objets issues de la classe présente et de ses\n",
    "    # enfants.\n",
    "    __slots__ = \"x\", \"y\", \"z\"\n",
    "\n",
    "    @classmethod\n",
    "    def generate_default(cls):\n",
    "        return cls(0, 0, 0)\n",
    "\n",
    "    def __init__(self, x, y, z):\n",
    "        self.x = x\n",
    "        self.y = y\n",
    "        self.z = z\n",
    "\n",
    "    def compute_distance(self, other):\n",
    "        return math.sqrt((self.x - other.x) ** 2\n",
    "                         + (self.y - other.y) ** 2\n",
    "                         + (self.z - other.z) ** 2)\n",
    "\n",
    "    def __repr__(self):\n",
    "        return f\"({self.x}, {self.y}, {self.z})\"\n",
    "\n",
    "    def __str__(self):\n",
    "        return self.__repr__()\n",
    "    \n",
    "class NotEnoughGasException(Exception):\n",
    "    pass\n",
    "\n",
    "class Vehicle:\n",
    "\n",
    "    def __init__(self, color, size):\n",
    "        self.pos = EuclideanPoint.generate_default()\n",
    "        self.color = color\n",
    "        self.size = size\n",
    "\n",
    "    def move(self, target_point):\n",
    "        raise NotImplementedError(\"Base class should implement move method.\")\n",
    "\n",
    "    def get_position(self):\n",
    "        return f\"Current position is {self.pos}\"\n",
    "\n",
    "class Car(Vehicle):\n",
    "\n",
    "    KM_PER_LITTERS = 10\n",
    "    \n",
    "    def __init__(self, color=\"black\", size=\"big\", tank=20):\n",
    "       self.tank = tank\n",
    "       super().__init__(color, size)\n",
    "        \n",
    "\n",
    "    def move(self, target_point):\n",
    "        self.use_gas(target_point)\n",
    "        self.pos = target_point\n",
    "\n",
    "    def use_gas(self, target_point):\n",
    "        distance = self.pos.compute_distance(target_point)\n",
    "        gas_litters_needed = distance * self.KM_PER_LITTERS\n",
    "        if self.tank >= gas_litters_needed:\n",
    "            self.tank -= gas_litters_needed\n",
    "        else:\n",
    "            raise NotEnoughGasException(\"pas assez d'essence\")\n",
    "\n",
    "class Bicycle(Vehicle):\n",
    "\n",
    "    def __init__(self, color=\"red\", size=\"medium\", wheel_size=700):\n",
    "       self.wheel_size = wheel_size\n",
    "       super().__init__(color, size)\n",
    "\n",
    "    def move(self, target_point):\n",
    "        self.pos = target_point\n",
    "\n",
    "bike = Bicycle(\"brown\")\n",
    "print(bike.get_position())\n",
    "destination = EuclideanPoint(12, 12, 0)\n",
    "bike.move(destination)\n",
    "print(bike.get_position())\n",
    "\n",
    "# what about cars now?\n",
    "car = Car()\n",
    "print(car.get_position())\n",
    "try:\n",
    "    destination = EuclideanPoint(100, 100, 0)\n",
    "    car.move(destination)\n",
    "except NotEnoughGasException as e:\n",
    "    print(f\"oh nooo:\\n\\t{e}\")"
   ],
   "metadata": {
    "collapsed": false,
    "pycharm": {
     "name": "#%%\n"
    }
   },
   "execution_count": 13,
   "outputs": [
    {
     "name": "stdout",
     "output_type": "stream",
     "text": [
      "Current position is (0, 0, 0)\n",
      "Current position is (12, 12, 0)\n",
      "Current position is (0, 0, 0)\n",
      "oh nooo:\n",
      "\tpas assez d'essence\n"
     ]
    }
   ]
  },
  {
   "cell_type": "markdown",
   "source": [
    "oulalala, il y énormément à décortiquer dans la cellule précédente, allons-y tranquillement.\n",
    "1.  La classe `EuclideanPoint` implémente le patron de conception `__slots__` qui remplace\n",
    "    le dictionnaire normal utilisé pour enregistrer les attributs associés à une classe.\n",
    "2.  La classe `EuclideanPoint` utilise une méthode de classe pour aisément instancier\n",
    "    un point par défaut.\n",
    "3. La classe `NotEnoughGasException` extensionne la classe Exception de python. Ceci permet d'agir comme une Exception\n",
    "    normale mais avec un nom différent, nous permettant de l'isoler lors de la résolution d'exception.\n",
    "4. La classe `Vehicle` est la classe _parente_ de `Bicycle` et `Car`, c'est-à-dire que ces deux classes sont\n",
    "    effectivement des `Vehicle` -- et donc offre l'ensemble des fonctionnalités de `Vehicle` -- mais en offrant davantage\n",
    "    de méthodes ou d'attributs. De plus les deux classes héritant de `Vehicle` _ override_  la méthode `move` de la classe\n",
    "    `Vehicle`.\n",
    "5. Les deux classes _enfant_ utilisent le mot-clé `super` ce qui a pour effet de pouvoir appeler les\n",
    "    méthodes de la classe parent.\n",
    "\n",
    "Comment fonctionne l'héritage ? En python, un mécanisme appelé le `Method Resolution Order`  résout l'ordre de résolution\n",
    "des méthodes. Par exemple, la méthode `move` est implémentée dans l'ensemble des classes, donc quelle méthode `move` devrait\n",
    "être appelée? Simplement, la méthode la plus près de la classe en question sera appelée.\n",
    "Donc si j'utilise `car.move()`, la méthode `move` la plus près de la classe `Car` est celle définit dans la classe `Car`.\n",
    "Si j'utilise `car.get_position()`, la méthode `get_position` n'est pas définie dans la classe `Car`, donc la méthode la plus\n",
    "proche est dans la classe `Vehicle`."
   ],
   "metadata": {
    "collapsed": false,
    "pycharm": {
     "name": "#%% md\n"
    }
   }
  },
  {
   "cell_type": "markdown",
   "source": [
    "### Exercice 3\n",
    "Définisser une classe parent `Shape` avec les méthodes `get_area, get_parameter`.\n",
    "Ensuite, défininisser les classes `Rectangle`, `Triangle`, `Square`, et `Circle` qui implémente les deux méthodes de\n",
    "leur classe parent. De plus, implémenter les fonctions `__str__, __repr__`  pour `Shape` et `__init__` pour\n",
    "les autres."
   ],
   "metadata": {
    "collapsed": false,
    "pycharm": {
     "name": "#%% md\n"
    }
   }
  },
  {
   "cell_type": "code",
   "execution_count": 14,
   "outputs": [],
   "source": [
    "# exercice 3"
   ],
   "metadata": {
    "collapsed": false,
    "pycharm": {
     "name": "#%%\n"
    }
   }
  },
  {
   "cell_type": "markdown",
   "source": [
    "----------------------------------\n",
    "### Propriétés (properties)\n",
    "Les objets peuvent avoir des propriétés à la place d'attributs."
   ],
   "metadata": {
    "collapsed": false,
    "pycharm": {
     "name": "#%% md\n"
    }
   }
  },
  {
   "cell_type": "code",
   "execution_count": 15,
   "outputs": [
    {
     "name": "stdout",
     "output_type": "stream",
     "text": [
      "person with height of 180 cm\n"
     ]
    }
   ],
   "source": [
    "class Person:\n",
    "\n",
    "    @property\n",
    "    def height(self):\n",
    "        return self._height\n",
    "    @height.setter\n",
    "    def height(self, h):\n",
    "        self._height = h\n",
    "\n",
    "    def __init__(self, height):\n",
    "        self.height = height\n",
    "\n",
    "    def __repr__(self):\n",
    "        return f\"person with height of {self.height} cm\"\n",
    "\n",
    "    def __str__(self):\n",
    "        return self.__repr__()\n",
    "\n",
    "p = Person(180)\n",
    "print(p)"
   ],
   "metadata": {
    "collapsed": false,
    "pycharm": {
     "name": "#%%\n"
    }
   }
  },
  {
   "cell_type": "markdown",
   "source": [
    "Mais à quoi servet exactement les propriétés?\n",
    "Bonne question, premièrement nous pouvons désormais enforcer des limites lors de la définition d'un attribut:"
   ],
   "metadata": {
    "collapsed": false,
    "pycharm": {
     "name": "#%% md\n"
    }
   }
  },
  {
   "cell_type": "code",
   "execution_count": 21,
   "outputs": [
    {
     "name": "stdout",
     "output_type": "stream",
     "text": [
      "oups: height must be between 0 and 250\n"
     ]
    }
   ],
   "source": [
    "class Person:\n",
    "\n",
    "    @property\n",
    "    def height(self):\n",
    "        return self._height\n",
    "    @height.setter\n",
    "    def height(self, h):\n",
    "        if h <= 0 or h > 250:\n",
    "            raise ValueError(\"height must be between 0 and 250\")\n",
    "        self._height = h\n",
    "\n",
    "    def __init__(self, height):\n",
    "        self.height = height\n",
    "\n",
    "    def __repr__(self):\n",
    "        return f\"person with height of {self.height} cm\"\n",
    "\n",
    "    def __str__(self):\n",
    "        return self.__repr__()\n",
    "\n",
    "try:\n",
    "    p = Person(-180)\n",
    "    print(p)\n",
    "except ValueError as e:\n",
    "    print(f\"oups: {e}\")"
   ],
   "metadata": {
    "collapsed": false,
    "pycharm": {
     "name": "#%%\n"
    }
   }
  },
  {
   "cell_type": "markdown",
   "source": [
    "De plus, si nous avons plusieurs dépendances à la classe Person, et ces dépendances utilisent\n",
    "l'attribut `height`, nous pouvons modifier cet attribut sans conséquences pour le reste du code:"
   ],
   "metadata": {
    "collapsed": false,
    "pycharm": {
     "name": "#%% md\n"
    }
   }
  },
  {
   "cell_type": "code",
   "execution_count": 22,
   "outputs": [
    {
     "name": "stdout",
     "output_type": "stream",
     "text": [
      "150.0\n",
      "69.0\n"
     ]
    }
   ],
   "source": [
    "class Group:\n",
    "\n",
    "    def __init__(self, *args):\n",
    "        self.people = args\n",
    "\n",
    "    def compute_average_height(self):\n",
    "        _sum = sum([p.height for p in self.people])\n",
    "        return _sum / len(self.people)\n",
    "\n",
    "group = Group(Person(100), Person(200), Person(150))\n",
    "print(group.compute_average_height())\n",
    "\n",
    "# okay, mais comment puis-je exposer ma taille en pouce, tout en sauvegardans\n",
    "# l'information en centimètres?\n",
    "class Person:\n",
    "\n",
    "    @property\n",
    "    def height(self):\n",
    "        return self._height / 2.54\n",
    "    @height.setter\n",
    "    def height(self, h):\n",
    "        if h <= 0 or h > 100:\n",
    "            raise ValueError(\"height must be between 0 and 100\")\n",
    "        self._height = h * 2.54\n",
    "\n",
    "    def __init__(self, height):\n",
    "        self.height = height\n",
    "\n",
    "    def __repr__(self):\n",
    "        return f\"person with height of {self.height} cm\"\n",
    "\n",
    "    def __str__(self):\n",
    "        return self.__repr__()\n",
    "\n",
    "group = Group(Person(60), Person(70), Person(77))\n",
    "print(group.compute_average_height())"
   ],
   "metadata": {
    "collapsed": false,
    "pycharm": {
     "name": "#%%\n"
    }
   }
  },
  {
   "cell_type": "markdown",
   "source": [
    "-------------------------------\n",
    "### Investigations d'exemples réels\n",
    "Bien merveilleux ces outils de classes et tout, maintenant regardons comment ils sont utilisés en pratique à l'aide\n",
    "de package python vous intéressant certainement soit _scipy_  et _pandas_ . Nous allons investiguer pourquoi des classes\n",
    "sont utilisées.\n",
    "\n",
    "Commençons par la classe [KDTree](https://github.com/scipy/scipy/blob/master/scipy/spatial/kdtree.py#L182) provenant de _scipy_:"
   ],
   "metadata": {
    "collapsed": false,
    "pycharm": {
     "name": "#%% md\n"
    }
   }
  },
  {
   "cell_type": "markdown",
   "source": [
    "```python\n",
    "class KDTree(object):\n",
    "```\n",
    "Par défaut, l'ensemble des classes héritent de la classe object. C'était obligatoire d'utiliser cette syntaxe\n",
    "dans python2. Maintenant, c'est optionnel, donc écrire\n",
    "```python\n",
    "class KDTree:\n",
    "```\n",
    "est identique.\n",
    "```python\n",
    "def __init__(self, data, leafsize=10):\n",
    "    self.data = np.asarray(data)\n",
    "    if self.data.dtype.kind == 'c':\n",
    "        raise TypeError(\"KDTree does not work with complex data\")\n",
    "\n",
    "    self.n, self.m = np.shape(self.data)\n",
    "    self.leafsize = int(leafsize)\n",
    "    if self.leafsize < 1:\n",
    "        raise ValueError(\"leafsize must be at least 1\")\n",
    "    self.maxes = np.amax(self.data,axis=0)\n",
    "    self.mins = np.amin(self.data,axis=0)\n",
    "\n",
    "    self.tree = self.__build(np.arange(self.n), self.maxes, self.mins)\n",
    "```\n",
    "Nous comprenons pourquoi l'algorithme est structuré en tant que classe désormais. Cela permet de\n",
    "sauvegarder des données comme attribut afin de simplifier les méthodes suivantes.\n",
    "Également, vous remarquerez que l'arbre est instancié avec la méthode `__build`. Comme nous l'avons vu\n",
    "plus tôt, cette méthode n'est pas directement accessible hors de la classe. C'est une méthode\n",
    "destinée pour construire l'arbre, d'autres méthodes ne commençant pas par deux barres de soulignement\n",
    "sont ensuite accessibles aux usagers tels que la suivante:\n",
    "```python\n",
    "def query(self, x, k=1, eps=0, p=2, distance_upper_bound=np.inf):\n",
    "    \"\"\"\n",
    "    Query the kd-tree for nearest neighbors\n",
    "    \"\"\"\n",
    "```\n",
    "En fait, la méthode `query` est intéressante puisqu'elle est représentative d'un mécanisme fréquemment\n",
    "utilisé par les développeurs: de séparer la logique de la manipulation des arguments. Dans ce cas,\n",
    "la méthode `query` sert à valider que les arguments fournis par l'usager sont valides. Ensuite, la méthode\n",
    "`__query` s'occupe de réellement effectuer l'opération.\n",
    "Une particularité intéressante de la classe KDTree est qu'elle contient elle-même d'autres classes:\n",
    "```python\n",
    "class node(object):\n",
    "    def __lt__(self, other):\n",
    "        return id(self) < id(other)\n",
    "\n",
    "    def __gt__(self, other):\n",
    "        return id(self) > id(other)\n",
    "\n",
    "    def __le__(self, other):\n",
    "        return id(self) <= id(other)\n",
    "\n",
    "    def __ge__(self, other):\n",
    "        return id(self) >= id(other)\n",
    "\n",
    "    def __eq__(self, other):\n",
    "        return id(self) == id(other)\n",
    "\n",
    "class leafnode(node):\n",
    "    def __init__(self, idx):\n",
    "        self.idx = idx\n",
    "        self.children = len(idx)\n",
    "\n",
    "class innernode(node):\n",
    "    def __init__(self, split_dim, split, less, greater):\n",
    "        self.split_dim = split_dim\n",
    "        self.split = split\n",
    "        self.less = less\n",
    "        self.greater = greater\n",
    "        self.children = less.children+greater.children\n",
    "```"
   ],
   "metadata": {
    "collapsed": false,
    "pycharm": {
     "name": "#%% md\n"
    }
   }
  },
  {
   "cell_type": "markdown",
   "source": [
    "Continuons notre exploration avec la classe emblématique de _pandas_, soit le\n",
    "[DataFrame](https://github.com/pandas-dev/pandas/blob/v1.0.5/pandas/core/frame.py#L319).\n",
    "\n",
    "```python\n",
    "class DataFrame(NDFrame):\n",
    "    \"\"\"\n",
    "    Two-dimensional, size-mutable, potentially heterogeneous tabular data.\n",
    "    Data structure also contains labeled axes (rows and columns).\n",
    "    Arithmetic operations align on both row and column labels. Can be\n",
    "    thought of as a dict-like container for Series objects. The primary\n",
    "    pandas data structure.\n",
    "    \"\"\"\n",
    "```\n",
    "Directement, nous remarquons que le DataFrame hérite de la classe plus générale `NDFrame`. Cette dernière\n",
    "définit les informations de base d'un DataFrame, tels les axes.\n",
    "La classe DataFrame utilise la plupart des concepts que nous avons vu, par exemple, plusieurs propriétés\n",
    "sont définies.\n",
    "```python\n",
    "@property\n",
    "def shape(self) -> Tuple[int, int]:\n",
    "    \"\"\"\n",
    "    Return a tuple representing the dimensionality of the DataFrame.\n",
    "    See Also\n",
    "    --------\n",
    "    ndarray.shape\n",
    "    Examples\n",
    "    --------\n",
    "    >>> df = pd.DataFrame({'col1': [1, 2], 'col2': [3, 4]})\n",
    "    >>> df.shape\n",
    "    (2, 2)\n",
    "    >>> df = pd.DataFrame({'col1': [1, 2], 'col2': [3, 4],\n",
    "    ...                    'col3': [5, 6]})\n",
    "    >>> df.shape\n",
    "    (2, 3)\n",
    "    \"\"\"\n",
    "    return len(self.index), len(self.columns)\n",
    "```\n",
    "Également, des méthodes de classe le sont afin d'instancier des `DataFrame`:\n",
    "```python\n",
    "@classmethod\n",
    "def from_dict(cls, data, orient=\"columns\", dtype=None, columns=None) -> \"DataFrame\":\n",
    "    \"\"\"\n",
    "    Construct DataFrame from dict of array-like or dicts.\n",
    "    Creates DataFrame object from dictionary by columns or by index\n",
    "    allowing dtype specification.\n",
    "    \"\"\"\n",
    "\n",
    "```"
   ],
   "metadata": {
    "collapsed": false,
    "pycharm": {
     "name": "#%% md\n"
    }
   }
  }
 ],
 "metadata": {
  "kernelspec": {
   "display_name": "Python 3",
   "language": "python",
   "name": "python3"
  },
  "language_info": {
   "codemirror_mode": {
    "name": "ipython",
    "version": 2
   },
   "file_extension": ".py",
   "mimetype": "text/x-python",
   "name": "python",
   "nbconvert_exporter": "python",
   "pygments_lexer": "ipython2",
   "version": "2.7.6"
  }
 },
 "nbformat": 4,
 "nbformat_minor": 0
}