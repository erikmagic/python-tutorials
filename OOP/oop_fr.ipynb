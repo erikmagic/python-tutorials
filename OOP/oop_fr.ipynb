{
 "cells": [
  {
   "cell_type": "markdown",
   "metadata": {
    "pycharm": {
     "name": "#%% md\n"
    }
   },
   "source": [
    "# Programmation Orientée Objet (POO)\n",
    "\n",
    "La programmation orientée objet est un paradigme très populaire en pratique.\n",
    "C'est une manière de développer intuitive, à l'aide de cette technique, nous pouvons\n",
    "créer des logiciels assez complexes qui sont simultanément bien organisés."
   ]
  },
  {
   "cell_type": "markdown",
   "metadata": {
    "pycharm": {
     "name": "#%% md\n"
    }
   },
   "source": [
    "### Languages supportant la programmation orientée objet\n",
    "La plupart des langages modernes supportent la POO. Le language emblématique de ce paradigme est\n",
    "Java qui fonctionne obligatoirement avec des classes (la base de la POO).\n",
    "Python ne permet pas d'utiliser l'ensemble des fonctionnalités reliées à la POO offert par Java.\n",
    "Toutefois, les concepts indispensables sont tous présents."
   ]
  },
  {
   "cell_type": "markdown",
   "metadata": {
    "pycharm": {
     "name": "#%% md\n"
    }
   },
   "source": [
    "### Pourquoi utilisé la POO?\n",
    "La POO est née dans des langages procédurales comme manière facile d'organiser des structures plus complexes.\n",
    "Ces princales forces sont:\n",
    "* enforcer la modularité\n",
    "* enforcer la discipline\n",
    "* enforcer la visibilité de différentes parties du code\n",
    "\n",
    "Plus spécifiquement, la modularité est la séparation du code en sous-catégorie permettant\n",
    "de mieux organiser la structure.\n",
    "La discipline réfère à l'utilisation adéquate du code, comme il a été imaginé.\n",
    "Ensuite, à l'aide des fonctionnalités issues de la POO, il devient facile de limiter l'accès à certaines parties\n",
    " du code."
   ]
  },
  {
   "cell_type": "markdown",
   "metadata": {},
   "source": [
    "Dans les ateliers précédents, nous nous sommes penchés sur les fonctions. Maintenant, nous développons ce concept en proposant des objets. Les objets sont la partie \"active\" d'une classe. Les objets comprennent des fonctions, mais peuvent aussi inclure des attributs qui sont des variables affectées à l'objet spécifique. Dans un sens, les objets sont plus généraux que les fonctions. Les objets vous permettront de programmer du code plus compliqué car les fonctions sont généralement courtes et ne font qu'une seule chose. Un objet peut contenir de nombreuses méthodes qui font différentes choses.  \n",
    "Les objets sont également portables d'une certaine manière, car ils constituent un morceau de code autonome avec des dépendances limitées sur le code extérieur. En d'autres termes, les objets comprennent une grande partie du code nécessaire sous forme de méthodes et d'attributs propres. Comme mentionné ci-dessus, un objet comprend généralement des attributs et des méthodes.\n",
    "* _méthodes -> fonctions_ les méthodes sont des fonctions qui appartiennent à une classe/un objet.\n",
    "* _attributs -> variables_ les attributs sont des variables qui appartiennent à une classe/un objet.\n",
    "L'objet lui-même est l'assemblage  de ces méthodes et attributs."
   ]
  },
  {
   "cell_type": "markdown",
   "metadata": {
    "pycharm": {
     "is_executing": true,
     "name": "#%% md\n"
    }
   },
   "source": [
    "### La POO en Python\n",
    "#### Classes\n",
    "Noter la syntaxe propre à Python. Nous utilisons le mot-clé `class` avant de nommer notre classe.\n",
    "Noter le mot-clé `pass` qui sert uniquement à délimiter du code vide (à cause de l'indentation).\n",
    "Lorsque nous associons une classe à une variable nous _instancions_ cette classe sous forme d'objet.\n",
    "En d'autres mots, les classes sont l'équivalent de plan et les objets sont des réalisations des plans."
   ]
  },
  {
   "cell_type": "code",
   "execution_count": 1,
   "metadata": {
    "collapsed": false,
    "jupyter": {
     "outputs_hidden": false
    },
    "pycharm": {
     "name": "#%%\n"
    }
   },
   "outputs": [
    {
     "data": {
      "text/plain": [
       "<__main__.Vehicle at 0x7fc2b5ff9fd0>"
      ]
     },
     "execution_count": 1,
     "metadata": {},
     "output_type": "execute_result"
    }
   ],
   "source": [
    "class Vehicle:\n",
    "    \"\"\"\n",
    "    Cette classe est définie à partir du mot-clé \"class\". \n",
    "    Remarquez le même deux-points que celui utilisé pour les boucles et les déclarations if. Ce deux-points et l'indentation ultérieure \n",
    "    est la façon dont Python définit l'étendue de la classe. Tout ce qui est écrit avec l'indentation spécifique est dans la classe.\n",
    "    Le mot-clé \"pass\" est utilisé pour nous permettre de ne rien écrire à l'intérieur de la classe tout en étant capable de faire fonctionner la cellule !\n",
    "    Nous \"instancions\" ou \"créons\" un objet à partir de cette classe en ajoutant des parenthèses après le nom de la classe, comme nous le faisons pour les fonctions.\n",
    "    \"\"\"\n",
    "    pass\n",
    "\n",
    "vehicle = Vehicle()\n",
    "vehicle"
   ]
  },
  {
   "cell_type": "markdown",
   "metadata": {
    "pycharm": {
     "name": "#%% md\n"
    }
   },
   "source": [
    "Fonctions définies dans une classe == méthode.\n",
    "Les méthodes débutant par deux barres de soulignements sont appelées `dunder` ou `magic` méthodes.  \n",
    "Les méthodes `magic` ne sont pas écrites afin d'être appelé par le programmeur, mais plutôt par Python indirectement. Vous allez fréquemment voir ces méthodes écrites, mais rarement, voir jamais, appelé. Nous allons voir un exemple concret avec la méthode `magic` `__init__` un peu plus tard qui est implicitement appelé par Python lors de la création de l'objet. Cette méthode s'éxecute, sans que l'on voit `__init__` explicitement dans le code.\n",
    "\n",
    "Dans la cellule suivante, la méthode `__init__` est le constructeur.\n",
    "Cette méthode est automatiquement appelée lorsque la classe est instanciée.  \n",
    "Nous allons voir en détail l'argument de la méthode `__init__` en détail un peu plus loin puisque celui ci a un rôle particulier.\n"
   ]
  },
  {
   "cell_type": "code",
   "execution_count": 3,
   "metadata": {
    "collapsed": false,
    "jupyter": {
     "outputs_hidden": false
    },
    "pycharm": {
     "name": "#%%\n"
    }
   },
   "outputs": [
    {
     "data": {
      "text/plain": [
       "<__main__.Vehicle at 0x7fc2b5fe1150>"
      ]
     },
     "execution_count": 3,
     "metadata": {},
     "output_type": "execute_result"
    }
   ],
   "source": [
    "class Vehicle:\n",
    "    def __init__(self):\n",
    "        \"\"\"\n",
    "        La méthode \" ___init__ \" est une méthode magique. Les méthodes magiques ne sont presque jamais appelées par nous, Python les utilise indirectement à des fins diverses.\n",
    "        https://rszalski.github.io/magicmethods/\n",
    "        \"\"\"\n",
    "        pass\n",
    "vehicle = Vehicle()\n",
    "vehicle"
   ]
  },
  {
   "cell_type": "markdown",
   "metadata": {},
   "source": [
    "### Qu'est-ce que la méthode \"init\" ?\n",
    "La méthode `__init__` est la façon dont python définit un constructeur. Un constructeur est automatiquement appelé lorsqu'un objet est instancié à partir d'une classe. En d'autres termes, le constructeur va \"construire\" l'objet. La méthode `__init__` est donc la toute première méthode appelée lorsque nous créons un objet. Ce fait est très important lors de l'écriture des classes. C'est là que nous définirons généralement la plupart, sinon la totalité, des attributs. De cette façon, nous pouvons utiliser les attributs en toute sécurité dans d'autres méthodes, car nous saurons qu'ils sont définis. "
   ]
  },
  {
   "cell_type": "markdown",
   "metadata": {
    "pycharm": {
     "name": "#%% md\n"
    }
   },
   "source": [
    "Dans la cellule suivante, nous utilisons deux autres `magic methods`.\n",
    "`__str__` est utilisée lorsque nous _castons_ notre objet en string.\n",
    "(par exemple, dans le cas suivant le `f-string` appelle implicitement\n",
    "la fonction `__str__`.\n",
    "`__repr__` est utilisée lors de l'affichage de l'objet en soit. Par défaut,\n",
    "il est important de définir `__repr__`  en premier."
   ]
  },
  {
   "cell_type": "code",
   "execution_count": 1,
   "metadata": {
    "collapsed": false,
    "jupyter": {
     "outputs_hidden": false
    },
    "pycharm": {
     "name": "#%%\n"
    }
   },
   "outputs": [
    {
     "name": "stdout",
     "output_type": "stream",
     "text": [
      "obs desc: My brand is Toyota\n"
     ]
    },
    {
     "data": {
      "text/plain": [
       "My brand is Toyota"
      ]
     },
     "execution_count": 1,
     "metadata": {},
     "output_type": "execute_result"
    }
   ],
   "source": [
    "class Vehicle:\n",
    "    def __init__(self):\n",
    "        \"\"\"\n",
    "            Nous utilisons ici l'argument du soi pour définir les attributs. Ainsi, nous savons que les attributs sont automatiquement définis au début de la vie de notre objet.\n",
    "        Ensuite, les attributs peuvent être utilisés dans des méthodes ultérieures.\n",
    "        \"\"\"\n",
    "        self.name = \"Toyota\"\n",
    "\n",
    "    def __str__(self):\n",
    "        \"\"\"\n",
    "        Notez que cette méthode ne sera jamais utilisée directement, Python l'invoquera automatiquement lorsque nous lancerons une chaîne ou que nous imprimerons notre objet.\n",
    "        \"\"\"\n",
    "        return f\"My brand is {self.name}\"\n",
    "\n",
    "    def __repr__(self):\n",
    "        \"\"\"\n",
    "        Notez que nous pouvons appeler les méthodes de notre objet à l'intérieur de la classe en utilisant le mot-clé `self`.\n",
    "        \"\"\"\n",
    "        return self.__str__()\n",
    "\n",
    "vehicle = Vehicle()\n",
    "print(f\"obs desc: {vehicle}\")\n",
    "vehicle"
   ]
  },
  {
   "cell_type": "markdown",
   "metadata": {
    "pycharm": {
     "name": "#%% md\n"
    }
   },
   "source": [
    "#### Qu'est que le mot-clé `self`??\n",
    "Vous avez sans doute remarqué le mot-clé `self` comme premier argument des\n",
    "méthodes de l'exemple précédent. En fait, ce n'est pas un mot-clé, mais plutôt\n",
    "une convention. Cet argument réfère à la classe en soit."
   ]
  },
  {
   "cell_type": "code",
   "execution_count": 2,
   "metadata": {
    "collapsed": false,
    "jupyter": {
     "outputs_hidden": false
    },
    "pycharm": {
     "name": "#%%\n"
    }
   },
   "outputs": [
    {
     "name": "stdout",
     "output_type": "stream",
     "text": [
      "vroom vroom\n",
      "vroom vroom\n"
     ]
    }
   ],
   "source": [
    "class Vehicle:\n",
    "    def print_message(self):\n",
    "        print(\"vroom vroom\")\n",
    "vehicle = Vehicle()\n",
    "vehicle.print_message()\n",
    "\n",
    "Vehicle.print_message(vehicle)\n"
   ]
  },
  {
   "cell_type": "markdown",
   "metadata": {
    "pycharm": {
     "name": "#%% md\n"
    }
   },
   "source": [
    "Donc vous voyez, les deux manières sont identiques. Cependant. la première est plus intuitive."
   ]
  },
  {
   "cell_type": "markdown",
   "metadata": {
    "pycharm": {
     "name": "#%% md\n"
    }
   },
   "source": [
    "### Exercice 1\n",
    "Créer une classe avec deux arguments de type `int`, un constructeur les initialisant et une méthode les additionant."
   ]
  },
  {
   "cell_type": "code",
   "execution_count": 6,
   "metadata": {
    "collapsed": false,
    "jupyter": {
     "outputs_hidden": false
    },
    "pycharm": {
     "name": "#%%\n"
    }
   },
   "outputs": [],
   "source": [
    "# exercice 1\n"
   ]
  },
  {
   "cell_type": "markdown",
   "metadata": {
    "pycharm": {
     "name": "#%% md\n"
    }
   },
   "source": [
    "----------------------------------------------------------------\n",
    "### Variable de classe versus variable d'instance\n",
    "Il existe deux types de variables entourant le concept de classe en python.\n",
    "Premièrement, les variables d'instances. Ces variables sont spécifiques à une\n",
    "instance d'une classe, c'est-à-dire un objet en particulier.\n",
    "Deuxièmement, les variables de classe. Ces variables sont partagées par\n",
    "l'ensemble des instances associées à la classe en question."
   ]
  },
  {
   "cell_type": "code",
   "execution_count": 2,
   "metadata": {
    "collapsed": false,
    "jupyter": {
     "outputs_hidden": false
    },
    "pycharm": {
     "name": "#%%\n"
    }
   },
   "outputs": [
    {
     "name": "stdout",
     "output_type": "stream",
     "text": [
      "Brand: toyota, Noise made: vroom vroom\n",
      "Brand: BMW, Noise made: vroom vroom\n",
      "le bruit de ma premiere instance vroom\n",
      "les marques possibles de ma deuxième instance sont ['Toyota', 'BMW', 'Mercedes']\n",
      "la marque de ma deuxième instance est Mercedes\n",
      "les modes de conduite de ma première instance sont ['automatic', 'manual']\n"
     ]
    }
   ],
   "source": [
    "class Vehicle:\n",
    "    \"\"\"\n",
    "    Notre classe de véhicules possède désormais deux attributs de classe.\n",
    "    Le premier attribut est une chaîne de caractères qui n'est pas mutable.\n",
    "    Le second attribut est une liste de chaînes de caractères qui est mutable.\n",
    "    \"\"\"\n",
    "    noise = 'vroom vroom'\n",
    "    possible_brands = [\"Toyota\", \"BMW\"]\n",
    "    def __init__(self, brand):\n",
    "        \"\"\"\n",
    "        Nous ajoutons deux attributs à notre objet dans le constructeur. Ces attributs sont créées au moment même que notre objet est créé.\n",
    "        \"\"\"\n",
    "        self.brand = brand\n",
    "        self.driving_mode = ['automatic', 'manual']\n",
    "\n",
    "    def __repr__(self):\n",
    "        \"\"\"\n",
    "        Une fonction `magic` afin de mieux qualifier notre objet.\n",
    "        Notez l'utilisation de f-string qui permet de construire une string de manière plus intuitive et simple.\n",
    "        \"\"\"\n",
    "        return f\"Brand: {self.brand}, Noise made: {self.noise}\"\n",
    "\n",
    "    def __str__(self):\n",
    "        return self.__repr__()\n",
    "\n",
    "vehicle  = Vehicle('toyota')\n",
    "vehicle_2 = Vehicle('BMW')\n",
    "print(vehicle)\n",
    "print(vehicle_2)\n",
    "\n",
    "vehicle.noise = \"vroom\"\n",
    "vehicle.possible_brands.append(\"Mercedes\")\n",
    "print(f\"le bruit de ma premiere instance {vehicle.noise}\")\n",
    "print(f\"les marques possibles de ma deuxième instance sont {vehicle_2.possible_brands}\")\n",
    "\n",
    "vehicle_2.brand = 'Mercedes'\n",
    "vehicle_2.driving_mode.append('hybrid')\n",
    "print(f\"la marque de ma deuxième instance est {vehicle_2.brand}\")\n",
    "print(f\"les modes de conduite de ma première instance sont {vehicle.driving_mode}\")"
   ]
  },
  {
   "cell_type": "markdown",
   "metadata": {
    "pycharm": {
     "name": "#%% md\n"
    }
   },
   "source": [
    "En résumé les variables de classe sont partagées par l'ensemble de mes variables.\n",
    "Il faut faire attention lorsque ces variables sont des types complexes puisque les changements\n",
    "seront appliqués sur l'ensemble des instances associées.\n",
    "Nous pouvons également avoir des méthodes d'instance et des méthodes de classe."
   ]
  },
  {
   "cell_type": "code",
   "execution_count": 5,
   "metadata": {
    "collapsed": false,
    "jupyter": {
     "outputs_hidden": false
    },
    "pycharm": {
     "name": "#%%\n"
    }
   },
   "outputs": [
    {
     "data": {
      "text/plain": [
       "2010 toyota corolla"
      ]
     },
     "execution_count": 5,
     "metadata": {},
     "output_type": "execute_result"
    }
   ],
   "source": [
    "class Vehicle:\n",
    "\n",
    "    def __init__(self, year, brand, model):\n",
    "        \"\"\"\n",
    "        Encore plus d'arguments au constructeur que nous utiliserons comme attributs. L'argument self n'est pas directement écrit lors de la création de notre objet.\n",
    "        \"\"\"\n",
    "        self.year = year\n",
    "        self.brand = brand\n",
    "        self.model = model\n",
    "\n",
    "    @classmethod\n",
    "    def create_from_description(cls, description):\n",
    "        \"\"\"\n",
    "        La méthode @classmethod est appelée un descripteur. Un descripteur est identifié par le @. \n",
    "        Un descripteur modifie le comportement d'une fonction ou d'une méthode. Cette méthode de classe est un descripteur\n",
    "        venant de Python lui-même, mais nous pouvons aussi créer nos propres descripteurs.\n",
    "        \"\"\"\n",
    "        year = description.split()[0]\n",
    "        brand = description.split()[1]\n",
    "        model = description.split()[2]\n",
    "        return cls(year, brand, model)\n",
    "\n",
    "    def __repr__(self):\n",
    "        \"\"\"\n",
    "        Une manière différente de créer une string que les f-strings\n",
    "        \"\"\"\n",
    "        return self.year + \" \" + self.brand + \" \" + self.model\n",
    "\n",
    "    def __str__(self):\n",
    "        return self.__repr__()\n",
    "\n",
    "vehicle = Vehicle.create_from_description(\"2010 toyota corolla\")\n",
    "vehicle"
   ]
  },
  {
   "cell_type": "markdown",
   "metadata": {
    "pycharm": {
     "name": "#%% md\n"
    }
   },
   "source": [
    "----------------------------------------------------------------\n",
    "### L'héritage\n",
    "Une partie importante de la programmation orientée objet est l'héritage. Une classe hérite les méthodes et les\n",
    "variables d'une autre (ou de plusieurs autres). Nous allons matérialiser l'idée à l'aide d'un exemple d'automobiles."
   ]
  },
  {
   "cell_type": "code",
   "execution_count": 4,
   "metadata": {
    "collapsed": false,
    "jupyter": {
     "outputs_hidden": false
    },
    "pycharm": {
     "name": "#%%\n"
    }
   },
   "outputs": [
    {
     "name": "stdout",
     "output_type": "stream",
     "text": [
      "Position actuelle: (0, 0, 0)\n",
      "Position actuelle: (12, 12, 0)\n",
      "Position actuelle: (0, 0, 0)\n",
      "oh nooo:\n",
      "\tpas assez d'essence\n"
     ]
    }
   ],
   "source": [
    "import math\n",
    "\n",
    "class EuclideanPoint:\n",
    "    \"\"\"\n",
    "    Cette classe représente un point dans un système de coordonnée de 3 dimensions.\n",
    "    \"\"\"\n",
    "\n",
    "    @classmethod\n",
    "    def generate_default(cls):\n",
    "        return cls(0, 0, 0)\n",
    "\n",
    "    def __init__(self, x, y, z):\n",
    "        self.x = x\n",
    "        self.y = y\n",
    "        self.z = z\n",
    "\n",
    "    def compute_distance(self, other):\n",
    "        return math.sqrt((self.x - other.x) ** 2\n",
    "                         + (self.y - other.y) ** 2\n",
    "                         + (self.z - other.z) ** 2)\n",
    "\n",
    "    def __repr__(self):\n",
    "        return f\"({self.x}, {self.y}, {self.z})\"\n",
    "\n",
    "    def __str__(self):\n",
    "        return self.__repr__()\n",
    "    \n",
    "class NotEnoughGasException(Exception):\n",
    "    \"\"\"\n",
    "    Nous héritons de la classe de base Exception, qui est fournie par Python.\n",
    "    Nous ne modifions pas la classe de base Exception.\n",
    "    Cela sert uniquement à créer une Exception qui est identifiable par un nom différent et plus spécifique que le nom général \"Exception\".\n",
    "    \"\"\"\n",
    "    pass\n",
    "\n",
    "class Vehicle:\n",
    "\n",
    "    def __init__(self, color, size):\n",
    "        \"\"\"\n",
    "        Nous créons un attribut à partir de notre classe/\n",
    "        \"\"\"\n",
    "        self.pos = EuclideanPoint.generate_default()\n",
    "        self.color = color\n",
    "        self.size = size\n",
    "\n",
    "    def move(self, target_point):\n",
    "        \"\"\"\n",
    "        Nous `raisons` notre propre exception que nous avons défini plus haut.\n",
    "        \"\"\"\n",
    "        raise NotImplementedError(\"Les classes enfants devraient implémenter cette méthode.\")\n",
    "\n",
    "    def get_position(self):\n",
    "        return f\"Position actuelle: {self.pos}\"\n",
    "\n",
    "class Car(Vehicle):\n",
    "    \"\"\"\n",
    "    Notez que nous héritons de notre classe parent `Vehicle`.\n",
    "    Ceci nous confère l'ensemble des méthodes et attributs de la classe `Vehicle` dans la classe `Car`.\n",
    "    \"\"\"\n",
    "\n",
    "    KM_PER_LITTERS = 10\n",
    "    \n",
    "    def __init__(self, color=\"black\", size=\"big\", tank=20):\n",
    "        \"\"\"\n",
    "        Nous utilisons le mot-clé `super` pour accéder à la classe du parent. \n",
    "        De cette façon, nous appelons la méthode du parent (Véhicule) __init__ car elle n'est plus automatiquement appelée, étant le parent.\n",
    "        \"\"\"\n",
    "        self.tank = tank\n",
    "        super().__init__(color, size)\n",
    "        \n",
    "\n",
    "    def move(self, target_point):\n",
    "        self.use_gas(target_point)\n",
    "        self.pos = target_point\n",
    "\n",
    "    def use_gas(self, target_point):\n",
    "        distance = self.pos.compute_distance(target_point)\n",
    "        gas_litters_needed = distance * self.KM_PER_LITTERS\n",
    "        if self.tank >= gas_litters_needed:\n",
    "            self.tank -= gas_litters_needed\n",
    "        else:\n",
    "            raise NotEnoughGasException(\"pas assez d'essence\")\n",
    "\n",
    "class Bicycle(Vehicle):\n",
    "    \"\"\"\n",
    "    Il s'agit d'une classe différente de celle des voitures, mais qui hérite toujours de la même classe de base. En général, vous aurez de nombreuses\n",
    "    classes héritant d'une classe de base. Sinon, utiliser le mécanisme d'héritage n'est pas très utile.\n",
    "    \"\"\"\n",
    "    def __init__(self, color=\"red\", size=\"medium\", wheel_size=700):\n",
    "        \"\"\"\n",
    "        Ici encore, nous utilisons la méthode `__init__` du parent à l'aide du mot-clé `super`.\n",
    "        \"\"\"\n",
    "        self.wheel_size = wheel_size\n",
    "        super().__init__(color, size)\n",
    "\n",
    "    def move(self, target_point):\n",
    "        self.pos = target_point\n",
    "\n",
    "bike = Bicycle(\"brun\")\n",
    "print(bike.get_position())\n",
    "destination = EuclideanPoint(12, 12, 0)\n",
    "bike.move(destination)\n",
    "print(bike.get_position())\n",
    "\n",
    "# what about cars now?\n",
    "car = Car()\n",
    "print(car.get_position())\n",
    "try:\n",
    "    destination = EuclideanPoint(100, 100, 0)\n",
    "    car.move(destination)\n",
    "except NotEnoughGasException as e:\n",
    "    print(f\"oh nooo:\\n\\t{e}\")"
   ]
  },
  {
   "cell_type": "markdown",
   "metadata": {
    "pycharm": {
     "name": "#%% md\n"
    }
   },
   "source": [
    "Il y énormément à décortiquer dans la cellule précédente, allons-y tranquillement.\n",
    "1.  La classe `EuclideanPoint` utilise une méthode de classe pour aisément instancier\n",
    "    un point par défaut.\n",
    "2. La classe `NotEnoughGasException` extensionne la classe Exception de python. Ceci permet d'agir comme une Exception\n",
    "    normale mais avec un nom différent, nous permettant de l'isoler lors de la résolution d'exception.\n",
    "3. La classe `Vehicle` est la classe _parente_ de `Bicycle` et `Car`, c'est-à-dire que ces deux classes sont\n",
    "    effectivement des `Vehicle` -- et donc offre l'ensemble des fonctionnalités de `Vehicle` -- mais en offrant davantage\n",
    "    de méthodes ou d'attributs. De plus les deux classes héritant de `Vehicle` _ override_  la méthode `move` de la classe\n",
    "    `Vehicle`.\n",
    "4. Les deux classes _enfant_ utilisent le mot-clé `super` ce qui a pour effet de pouvoir appeler les\n",
    "    méthodes de la classe parent.\n",
    "\n",
    "Comment fonctionne l'héritage ? En python, un mécanisme appelé le `Method Resolution Order`  résout l'ordre de résolution\n",
    "des méthodes. Par exemple, la méthode `move` est implémentée dans l'ensemble des classes, donc quelle méthode `move` devrait\n",
    "être appelée? Simplement, la méthode la plus près de la classe en question sera appelée.\n",
    "Donc si j'utilise `car.move()`, la méthode `move` la plus près de la classe `Car` est celle définit dans la classe `Car`.\n",
    "Si j'utilise `car.get_position()`, la méthode `get_position` n'est pas définie dans la classe `Car`, donc la méthode la plus\n",
    "proche est dans la classe `Vehicle`."
   ]
  },
  {
   "cell_type": "markdown",
   "metadata": {
    "pycharm": {
     "name": "#%% md\n"
    }
   },
   "source": [
    "### Exercice 3\n",
    "Définisser une classe parent `Shape` avec les méthodes `get_area, get_perimeter`.\n",
    "Ensuite, défininisser les classes `Rectangle`, `Triangle`, `Square`, et `Circle` qui implémente les deux méthodes de\n",
    "leur classe parent. De plus, implémenter les fonctions `__str__, __repr__`  pour `Shape` et `__init__` pour\n",
    "les autres."
   ]
  },
  {
   "cell_type": "code",
   "execution_count": 14,
   "metadata": {
    "collapsed": false,
    "jupyter": {
     "outputs_hidden": false
    },
    "pycharm": {
     "name": "#%%\n"
    }
   },
   "outputs": [],
   "source": [
    "# exercice 3"
   ]
  },
  {
   "cell_type": "markdown",
   "metadata": {
    "pycharm": {
     "name": "#%% md\n"
    }
   },
   "source": [
    "----------------------------------\n",
    "### Propriétés (properties)\n",
    "Les objets peuvent avoir des propriétés à la place d'attributs."
   ]
  },
  {
   "cell_type": "code",
   "execution_count": 5,
   "metadata": {
    "collapsed": false,
    "jupyter": {
     "outputs_hidden": false
    },
    "pycharm": {
     "name": "#%%\n"
    }
   },
   "outputs": [
    {
     "name": "stdout",
     "output_type": "stream",
     "text": [
      "capacité de tank de 40 L\n"
     ]
    }
   ],
   "source": [
    "class Vehicle: \n",
    "    \n",
    "    @property\n",
    "    def tank_capacity(self):\n",
    "        \"\"\"\n",
    "        Là encore, nous voyons un décorateur. Un décorateur est identifié en étant juste avant une méthode/fonction et en commençant par un @.\n",
    "        Ce décorateur est fourni par python et est utilisé pour définir les propriétés.\n",
    "        https://pythonguide.readthedocs.io/en/latest/python/property.html\n",
    "        \"\"\"\n",
    "        return self._tank_capacity\n",
    "    \n",
    "    @tank_capacity.setter\n",
    "    def tank_capacity(self, c):\n",
    "        \"\"\"\n",
    "        Ce décorateur a comme nom la propriété que nous avons nous-même défini.\n",
    "        \"\"\"\n",
    "        self._tank_capacity = c\n",
    "\n",
    "    def __init__(self, tank_capacity):\n",
    "        self.tank_capacity = tank_capacity\n",
    "\n",
    "    def __repr__(self):\n",
    "        return f\"capacité de tank de {self.tank_capacity} L\"\n",
    "\n",
    "    def __str__(self):\n",
    "        return self.__repr__()\n",
    "\n",
    "vehicle = Vehicle(40)\n",
    "print(vehicle)"
   ]
  },
  {
   "cell_type": "markdown",
   "metadata": {
    "pycharm": {
     "name": "#%% md\n"
    }
   },
   "source": [
    "Mais à quoi servet exactement les propriétés?\n",
    "Bonne question, premièrement nous pouvons désormais enforcer des limites lors de la définition d'un attribut:"
   ]
  },
  {
   "cell_type": "code",
   "execution_count": 6,
   "metadata": {
    "collapsed": false,
    "jupyter": {
     "outputs_hidden": false
    },
    "pycharm": {
     "name": "#%%\n"
    }
   },
   "outputs": [
    {
     "name": "stdout",
     "output_type": "stream",
     "text": [
      "oups: La tank devrait avoir plus de 0 litre et moins de 100 litres.\n"
     ]
    }
   ],
   "source": [
    "class Vehicle: \n",
    "    \n",
    "    @property\n",
    "    def tank_capacity(self):\n",
    "        return self._tank_capacity\n",
    "    \n",
    "    @tank_capacity.setter\n",
    "    def tank_capacity(self, c):\n",
    "        \"\"\"\n",
    "        Les propriétés sont utiles afin d'enforcer des contraintes variés pour nos attributs.\n",
    "        \"\"\"\n",
    "        if c < 0 or c > 100:\n",
    "            raise ValueError(\"La tank devrait avoir plus de 0 litre et moins de 100 litres.\")\n",
    "        self._tank_capacity = c\n",
    "\n",
    "    def __init__(self, tank_capacity):\n",
    "        self.tank_capacity = tank_capacity\n",
    "\n",
    "    def __repr__(self):\n",
    "        return f\"véhicule avec tank de  {self.tank_capacity} L\"\n",
    "\n",
    "    def __str__(self):\n",
    "        return self.__repr__()\n",
    "\n",
    "try:\n",
    "    vehicle = Vehicle(-180)\n",
    "    print(vehicle)\n",
    "except ValueError as e:\n",
    "    print(f\"oups: {e}\")\n"
   ]
  },
  {
   "cell_type": "markdown",
   "metadata": {
    "pycharm": {
     "name": "#%% md\n"
    }
   },
   "source": [
    "De plus, si nous avons plusieurs dépendances à la classe Vehicle, et ces dépendances utilisent\n",
    "l'attribut `tank_capacity`, nous pouvons modifier cet attribut sans conséquences pour le reste du code:"
   ]
  },
  {
   "cell_type": "code",
   "execution_count": 7,
   "metadata": {
    "collapsed": false,
    "jupyter": {
     "outputs_hidden": false
    },
    "pycharm": {
     "name": "#%%\n"
    }
   },
   "outputs": [
    {
     "name": "stdout",
     "output_type": "stream",
     "text": [
      "13.978125\n"
     ]
    }
   ],
   "source": [
    "class Marque:\n",
    "    \n",
    "    def __init__(self, *vehicles):\n",
    "        \"\"\"\n",
    "        L'astérisque (*) dans l'argument renvoie à un nombre variable d'arguments.\n",
    "        C'est la même chose que lorsque nous voyons des *args. \n",
    "        Tous les arguments seront accessibles sous forme de tuple, puis convertis en une liste.\n",
    "        \"\"\"\n",
    "        self.vehicles = list(vehicles)\n",
    "        \n",
    "    def compute_average_tank_capacity(self):\n",
    "        \"\"\"\n",
    "        Nous avons ajouté une barre de soulignement avant notre variable `sum` afin de la différencier de la fonction Python sum.\n",
    "        \"\"\"\n",
    "        _sum = sum(v.tank_capacity for v in self.vehicles)\n",
    "        return _sum / len(self.vehicles)\n",
    "        \n",
    "\n",
    "class Vehicle: \n",
    "    \"\"\"\n",
    "    Cette classe démontre comment je peux afficher ma capacité en gallons, tout en la gardant en littres.\n",
    "    \"\"\"\n",
    "    \n",
    "    @property\n",
    "    def tank_capacity(self):\n",
    "        return self._tank_capacity * 0.2556\n",
    "    \n",
    "    @tank_capacity.setter\n",
    "    def tank_capacity(self, c):\n",
    "        if c < 0 or c > 100 / 0.256:\n",
    "            raise ValueError(\"La tank devrait avoir une capacité de plus de 0 litre et moins de 100 L\")\n",
    "        self._tank_capacity = c / 0.256\n",
    "\n",
    "    def __init__(self, tank_capacity):\n",
    "        self.tank_capacity = tank_capacity\n",
    "\n",
    "    def __repr__(self):\n",
    "        return f\"véhicule avec capacité de {self.tank_capacity} L\"\n",
    "\n",
    "    def __str__(self):\n",
    "        return self.__repr__()\n",
    "\n",
    "marque = Marque(Vehicle(12), Vehicle(14), Vehicle(16))\n",
    "print(marque.compute_average_tank_capacity())"
   ]
  },
  {
   "cell_type": "markdown",
   "metadata": {
    "pycharm": {
     "name": "#%% md\n"
    }
   },
   "source": [
    "-------------------------------\n",
    "### Investigations d'exemples réels\n",
    "Bien merveilleux ces outils de classes et tout, maintenant regardons comment ils sont utilisés en pratique à l'aide\n",
    "de package python vous intéressant certainement  _pandas_ . Nous allons investiguer pourquoi des classes\n",
    "sont utilisées.\n"
   ]
  },
  {
   "cell_type": "markdown",
   "metadata": {
    "pycharm": {
     "name": "#%% md\n"
    }
   },
   "source": [
    "[DataFrame](https://github.com/pandas-dev/pandas/blob/v1.0.5/pandas/core/frame.py#L319).\n",
    "\n",
    "```python\n",
    "class DataFrame(NDFrame):\n",
    "    \"\"\"\n",
    "    Two-dimensional, size-mutable, potentially heterogeneous tabular data.\n",
    "    Data structure also contains labeled axes (rows and columns).\n",
    "    Arithmetic operations align on both row and column labels. Can be\n",
    "    thought of as a dict-like container for Series objects. The primary\n",
    "    pandas data structure.\n",
    "    \"\"\"\n",
    "```\n",
    "Directement, nous remarquons que le DataFrame hérite de la classe plus générale `NDFrame`. Cette dernière\n",
    "définit les informations de base d'un DataFrame, tels les axes.\n",
    "La classe DataFrame utilise la plupart des concepts que nous avons vu, par exemple, plusieurs propriétés\n",
    "sont définies.\n",
    "```python\n",
    "@property\n",
    "def shape(self) -> Tuple[int, int]:\n",
    "    \"\"\"\n",
    "    Return a tuple representing the dimensionality of the DataFrame.\n",
    "    See Also\n",
    "    --------\n",
    "    ndarray.shape\n",
    "    Examples\n",
    "    --------\n",
    "    >>> df = pd.DataFrame({'col1': [1, 2], 'col2': [3, 4]})\n",
    "    >>> df.shape\n",
    "    (2, 2)\n",
    "    >>> df = pd.DataFrame({'col1': [1, 2], 'col2': [3, 4],\n",
    "    ...                    'col3': [5, 6]})\n",
    "    >>> df.shape\n",
    "    (2, 3)\n",
    "    \"\"\"\n",
    "    return len(self.index), len(self.columns)\n",
    "```\n",
    "Également, des méthodes de classe le sont afin d'instancier des `DataFrame`:\n",
    "```python\n",
    "@classmethod\n",
    "def from_dict(cls, data, orient=\"columns\", dtype=None, columns=None) -> \"DataFrame\":\n",
    "    \"\"\"\n",
    "    Construct DataFrame from dict of array-like or dicts.\n",
    "    Creates DataFrame object from dictionary by columns or by index\n",
    "    allowing dtype specification.\n",
    "    \"\"\"\n",
    "\n",
    "```"
   ]
  }
 ],
 "metadata": {
  "kernelspec": {
   "display_name": "Python 3",
   "language": "python",
   "name": "python3"
  },
  "language_info": {
   "codemirror_mode": {
    "name": "ipython",
    "version": 3
   },
   "file_extension": ".py",
   "mimetype": "text/x-python",
   "name": "python",
   "nbconvert_exporter": "python",
   "pygments_lexer": "ipython3",
   "version": "3.8.5"
  }
 },
 "nbformat": 4,
 "nbformat_minor": 4
}
