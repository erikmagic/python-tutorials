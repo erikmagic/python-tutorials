{
 "cells": [
  {
   "cell_type": "markdown",
   "metadata": {},
   "source": [
    "# Object Oriented Programming (OPP)\n",
    "\n",
    "Object-oriented programming is a very popular paradigm in practice.\n",
    "It is a way to develop intuitively, using this technique we can\n",
    "create fairly complex software that is simultaneously well organized."
   ]
  },
  {
   "cell_type": "markdown",
   "metadata": {},
   "source": [
    "### Which languages support object oriented programming?\n",
    "Most modern languages support OOP. The emblematic language of this paradigm is\n",
    "Java which only works with classes (the basis of OOP).\n",
    "Python does not allow you to use all the OOP-related functionalities offered by Java.\n",
    "However, the essential concepts are all present."
   ]
  },
  {
   "cell_type": "markdown",
   "metadata": {},
   "source": [
    "### Why bother using OOP?\n",
    "OOP originated in procedural languages as an easy way to organize more complex structures.\n",
    "These are its main strengths:\n",
    "* enforcing modularity\n",
    "* enforcing discipline\n",
    "* enforcing the visibility of different parts of the code\n",
    "\n",
    "More specifically, modularity is the separation of the code into subcategories allowing for\n",
    "to better organization the structure.\n",
    "Discipline mentioned here refers to the proper use of the code, as it was envisioned.\n",
    "Because with the help of the features from the OOP, it becomes easy to limit access to certain parts\n",
    " of the code."
   ]
  },
  {
   "cell_type": "markdown",
   "metadata": {},
   "source": [
    "### OOP Using Python\n",
    "#### Classes\n",
    "Note the syntax specific to Python. We use the `class` keyword before naming our class.\n",
    "Note the `pass` keyword, which is only used to delimit empty code (because of the indentation).\n",
    "When we associate a class with a variable we _instantiate_ that class as an object.\n",
    "In other words, classes are the equivalent of blueprints and objects are realizations of these blueprints."
   ]
  },
  {
   "cell_type": "code",
   "execution_count": null,
   "metadata": {
    "collapsed": false,
    "jupyter": {
     "outputs_hidden": false
    },
    "pycharm": {
     "name": "#%%\n"
    }
   },
   "outputs": [],
   "source": [
    "class Vehicle:\n",
    "    pass\n",
    "\n",
    "vehicle_ = Vehicle()\n",
    "vehicle_"
   ]
  },
  {
   "cell_type": "markdown",
   "metadata": {},
   "source": [
    "Functions defined in a class == methods.\n",
    "Methods starting with two underscore bars are called `dunder` or `magic` methods.\n",
    "In the next cell, the `__init__` method is the constructor.\n",
    "This method is automatically called when the class is instantiated."
   ]
  },
  {
   "cell_type": "code",
   "execution_count": null,
   "metadata": {
    "collapsed": false,
    "jupyter": {
     "outputs_hidden": false
    },
    "pycharm": {
     "name": "#%%\n"
    }
   },
   "outputs": [],
   "source": [
    "class Vehicle:\n",
    "    def __init__(self):\n",
    "        pass\n",
    "vehicle_ = Vehicle()\n",
    "vehicle_"
   ]
  },
  {
   "cell_type": "markdown",
   "metadata": {},
   "source": [
    "In the next cell, we use two more `magic methods`.\n",
    "`__str__` is used when we _cast_ our object as a string.\n",
    "(For example, in the following case the `f-string` implicitly calls\n",
    "the `__str__` function.\n",
    "`__repr__` is used when displaying the object itself. The default is `__str__`,\n",
    "it is important to define `__repr__` first."
   ]
  },
  {
   "cell_type": "code",
   "execution_count": 1,
   "metadata": {
    "collapsed": false,
    "jupyter": {
     "outputs_hidden": false
    },
    "pycharm": {
     "name": "#%%\n"
    }
   },
   "outputs": [
    {
     "name": "stdout",
     "output_type": "stream",
     "text": [
      "obs desc: My brand is Toyota\n"
     ]
    },
    {
     "data": {
      "text/plain": [
       "My brand is Toyota"
      ]
     },
     "execution_count": 1,
     "metadata": {},
     "output_type": "execute_result"
    }
   ],
   "source": [
    "class Vehicle:\n",
    "    def __init__(self):\n",
    "        self.name = \"Toyota\"\n",
    "\n",
    "    def __str__(self):\n",
    "        return f\"My brand is {self.name}\"\n",
    "\n",
    "    def __repr__(self):\n",
    "        return self.__str__()\n",
    "\n",
    "vehicle_ = Vehicle()\n",
    "print(f\"obs desc: {vehicle_}\")\n",
    "vehicle_"
   ]
  },
  {
   "cell_type": "markdown",
   "metadata": {},
   "source": [
    "#### What is the `self` keyword?\n",
    "You may have noticed the keyword `self' as the first argument of the\n",
    "methods from the previous example. In fact, it is not a keyword, but rather\n",
    "a convention. This argument refers to the class itself."
   ]
  },
  {
   "cell_type": "code",
   "execution_count": 2,
   "metadata": {
    "collapsed": false,
    "jupyter": {
     "outputs_hidden": false
    },
    "pycharm": {
     "name": "#%%\n"
    }
   },
   "outputs": [
    {
     "name": "stdout",
     "output_type": "stream",
     "text": [
      "vroom vroom\n",
      "vroom vroom\n"
     ]
    }
   ],
   "source": [
    "class Vehicle:\n",
    "    def print_message(self):\n",
    "        print(\"vroom vroom\")\n",
    "vehicle_ = Vehicle()\n",
    "vehicle_.print_message()\n",
    "\n",
    "Vehicle.print_message(vehicle_)\n"
   ]
  },
  {
   "cell_type": "markdown",
   "metadata": {},
   "source": [
    "So you see, both ways are the same. However, the first is more intuitive."
   ]
  },
  {
   "cell_type": "markdown",
   "metadata": {},
   "source": [
    "### Exercise 1\n",
    "Create a class with two arguments of type `int`, a constructor initializing them and a method adding them."
   ]
  },
  {
   "cell_type": "code",
   "execution_count": null,
   "metadata": {
    "collapsed": false,
    "jupyter": {
     "outputs_hidden": false
    },
    "pycharm": {
     "name": "#%%\n"
    }
   },
   "outputs": [],
   "source": [
    "# exercise 1\n"
   ]
  },
  {
   "cell_type": "markdown",
   "metadata": {},
   "source": [
    "----------------------------------------------------------------\n",
    "### Class variables/methods versus instance variables/methods\n",
    "There are two types of variables for python classes.\n",
    "First, instance variables. These variables are specific to a\n",
    "instance of a class, that is, a particular object.\n",
    "Second, class variables. These variables are shared by\n",
    "the set of instances associated with the class in question."
   ]
  },
  {
   "cell_type": "code",
   "execution_count": 4,
   "metadata": {
    "collapsed": false,
    "jupyter": {
     "outputs_hidden": false
    },
    "pycharm": {
     "name": "#%%\n"
    }
   },
   "outputs": [
    {
     "name": "stdout",
     "output_type": "stream",
     "text": [
      "Brand: toyota, Noise made: vroom vroom\n",
      "Brand: BMW, Noise made: vroom vroom\n",
      "The noise of my first instance vroom\n",
      "The possible brands of my second instance are ['Toyota', 'BMW', 'Mercedes']\n",
      "The brand of my second instance is Mercedes\n",
      "the driving modes of my first instance is ['automatic', 'manual']\n"
     ]
    }
   ],
   "source": [
    "class Vehicle:\n",
    "    noise = 'vroom vroom'\n",
    "    possible_brands = [\"Toyota\", \"BMW\"]\n",
    "    def __init__(self, brand):\n",
    "        self.brand = brand\n",
    "        self.driving_mode = ['automatic', 'manual']\n",
    "\n",
    "    def __repr__(self):\n",
    "        return f\"Brand: {self.brand}, Noise made: {self.noise}\"\n",
    "\n",
    "    def __str__(self):\n",
    "        return self.__repr__()\n",
    "\n",
    "vehicle_  = Vehicle('toyota')\n",
    "vehicle_2 = Vehicle('BMW')\n",
    "print(vehicle_)\n",
    "print(vehicle_2)\n",
    "\n",
    "vehicle_.noise = \"vroom\"\n",
    "vehicle_.possible_brands.append(\"Mercedes\")\n",
    "print(f\"The noise of my first instance {vehicle_.noise}\")\n",
    "print(f\"The possible brands of my second instance are {vehicle_2.possible_brands}\")\n",
    "\n",
    "vehicle_2.brand = 'Mercedes'\n",
    "vehicle_2.driving_mode.append('hybrid')\n",
    "print(f\"The brand of my second instance is {vehicle_2.brand}\")\n",
    "print(f\"the driving modes of my first instance is {vehicle_.driving_mode}\")"
   ]
  },
  {
   "cell_type": "markdown",
   "metadata": {},
   "source": [
    "In summary the class variables are shared by all my variables.\n",
    "Care must be taken when these variables are complex types since the changes\n",
    "will be applied to all associated instances.\n",
    "We can also also have instance methods and class methods."
   ]
  },
  {
   "cell_type": "code",
   "execution_count": 5,
   "metadata": {
    "collapsed": false,
    "jupyter": {
     "outputs_hidden": false
    },
    "pycharm": {
     "name": "#%%\n"
    }
   },
   "outputs": [
    {
     "data": {
      "text/plain": [
       "2010 toyota corolla"
      ]
     },
     "execution_count": 5,
     "metadata": {},
     "output_type": "execute_result"
    }
   ],
   "source": [
    "class Vehicle:\n",
    "\n",
    "    def __init__(self, year, brand, model):\n",
    "        self.year = year\n",
    "        self.brand = brand\n",
    "        self.model = model\n",
    "\n",
    "    @classmethod\n",
    "    def create_from_description(cls, description):\n",
    "        year = description.split()[0]\n",
    "        brand = description.split()[1]\n",
    "        model = description.split()[2]\n",
    "        return cls(year, brand, model)\n",
    "\n",
    "    def __repr__(self):\n",
    "        return self.year + \" \" + self.brand + \" \" + self.model\n",
    "\n",
    "    def __str__(self):\n",
    "        return self.__repr__()\n",
    "\n",
    "vehicle_ = Vehicle.create_from_description(\"2010 toyota corolla\")\n",
    "vehicle_"
   ]
  },
  {
   "cell_type": "markdown",
   "metadata": {},
   "source": [
    "As shown in the previous example, class methods are often used to\n",
    "to instantiate classes in different ways. Here we are talking about the _factory design pattern_ in\n",
    "software engineering.\n",
    "\n",
    "----------------------------------------------------------------\n",
    "### Private versus public variables\n",
    "In many programming languages, there are several _modifiers_ for the visibility of variables and functions\n",
    "in the classes. Normally, at least the _private and public_ modifiers are present. We use them for\n",
    "prevent certain methods and variables from being used elsewhere, where they are not desired.\n",
    "Unfortunately, python does not really support these features."
   ]
  },
  {
   "cell_type": "code",
   "execution_count": 6,
   "metadata": {
    "collapsed": false,
    "jupyter": {
     "outputs_hidden": false
    },
    "pycharm": {
     "name": "#%%\n"
    }
   },
   "outputs": [
    {
     "name": "stdout",
     "output_type": "stream",
     "text": [
      "'Vehicle' object has no attribute '__hidden_method'\n"
     ]
    }
   ],
   "source": [
    "class Vehicle:\n",
    "    def __hidden_method(self):\n",
    "        print(\"I am hidden\")\n",
    "\n",
    "    def _hidden_method_2(self):\n",
    "        print(\"I am hidden as well\")\n",
    "\n",
    "    def not_hidden_method(self):\n",
    "        print(\"I am not hidden.\")\n",
    "\n",
    "vehicle_ = Vehicle()\n",
    "try:\n",
    "    vehicle_.__hidden_method()\n",
    "except Exception as e:\n",
    "    print(e)"
   ]
  },
  {
   "cell_type": "code",
   "execution_count": 7,
   "metadata": {
    "collapsed": false,
    "jupyter": {
     "outputs_hidden": false
    },
    "pycharm": {
     "name": "#%%\n"
    }
   },
   "outputs": [
    {
     "name": "stdout",
     "output_type": "stream",
     "text": [
      "Help on class Vehicle in module __main__:\n",
      "\n",
      "class Vehicle(builtins.object)\n",
      " |  Methods defined here:\n",
      " |  \n",
      " |  not_hidden_method(self)\n",
      " |  \n",
      " |  ----------------------------------------------------------------------\n",
      " |  Data descriptors defined here:\n",
      " |  \n",
      " |  __dict__\n",
      " |      dictionary for instance variables (if defined)\n",
      " |  \n",
      " |  __weakref__\n",
      " |      list of weak references to the object (if defined)\n",
      "\n",
      "I am hidden as well\n"
     ]
    }
   ],
   "source": [
    "# hmm _hidden_method_2 n'est pas visible comme les autres méthodes dans\n",
    "# notre classe\n",
    "help(Vehicle)\n",
    "\n",
    "# mais nous pouvons toutefois l'appelée:\n",
    "vehicle_._hidden_method_2()"
   ]
  },
  {
   "cell_type": "markdown",
   "metadata": {},
   "source": [
    "So it has no private _per se_ variables in python. On the other hand, there is\n",
    "some mechanisms to restrict visibility on methods or variables.\n",
    "The first one is the single underscore bar, this prevents the method/variable from being\n",
    "visible using the set of documentation.\n",
    "The second one is the double underscore which changes the name of the variable/method by adding the\n",
    "name of the front class."
   ]
  },
  {
   "cell_type": "code",
   "execution_count": 8,
   "metadata": {
    "collapsed": false,
    "jupyter": {
     "outputs_hidden": false
    },
    "pycharm": {
     "name": "#%%\n"
    }
   },
   "outputs": [
    {
     "name": "stdout",
     "output_type": "stream",
     "text": [
      "I am hidden\n"
     ]
    }
   ],
   "source": [
    "vehicle_._Vehicle__hidden_method()\n"
   ]
  },
  {
   "cell_type": "markdown",
   "metadata": {},
   "source": [
    "### Exercise 2\n",
    "Create a class with a realistic example of using a private variable."
   ]
  },
  {
   "cell_type": "code",
   "execution_count": null,
   "metadata": {
    "collapsed": false,
    "jupyter": {
     "outputs_hidden": false
    },
    "pycharm": {
     "name": "#%%\n"
    }
   },
   "outputs": [],
   "source": [
    "# exercise 2\n"
   ]
  },
  {
   "cell_type": "markdown",
   "metadata": {},
   "source": [
    "----------------------------------------------------------------\n",
    "### Inheritance\n",
    "An important part of object-oriented programming is inheritance. A class inherits methods and\n",
    "variables of another (or several others). We will materialize the idea using an example of automobiles."
   ]
  },
  {
   "cell_type": "code",
   "execution_count": null,
   "metadata": {
    "collapsed": false,
    "jupyter": {
     "outputs_hidden": false
    },
    "pycharm": {
     "name": "#%%\n"
    }
   },
   "outputs": [],
   "source": [
    "import math\n",
    "\n",
    "class EuclideanPoint:\n",
    "    # slots design pattern to minimize the memory used by this object\n",
    "    __slots__ = \"x\", \"y\", \"z\"\n",
    "\n",
    "    @classmethod\n",
    "    def generate_default(cls):\n",
    "        return cls(0, 0, 0)\n",
    "\n",
    "    def __init__(self, x, y, z):\n",
    "        self.x = x\n",
    "        self.y = y\n",
    "        self.z = z\n",
    "\n",
    "    def compute_distance(self, other):\n",
    "        return math.sqrt((self.x - other.x) ** 2\n",
    "                         + (self.y - other.y) ** 2\n",
    "                         + (self.z - other.z) ** 2)\n",
    "\n",
    "    def __repr__(self):\n",
    "        return f\"({self.x}, {self.y}, {self.z})\"\n",
    "\n",
    "    def __str__(self):\n",
    "        return self.__repr__()\n",
    "\n",
    "class NotEnoughGasException(Exception):\n",
    "    pass\n",
    "\n",
    "class Vehicle:\n",
    "\n",
    "    def __init__(self, color, size):\n",
    "        self.pos = EuclideanPoint.generate_default()\n",
    "        self.color = color\n",
    "        self.size = size\n",
    "\n",
    "    def move(self, target_point):\n",
    "        raise NotImplementedError(\"Base class should implement move method.\")\n",
    "\n",
    "    def get_position(self):\n",
    "        return f\"Current position is {self.pos}\"\n",
    "\n",
    "class Car(Vehicle):\n",
    "\n",
    "    KM_PER_LITTERS = 10\n",
    "\n",
    "    def __init__(self, color=\"black\", size=\"big\", tank=20):\n",
    "       self.tank = tank\n",
    "       super().__init__(color, size)\n",
    "\n",
    "\n",
    "    def move(self, target_point):\n",
    "        self.use_gas(target_point)\n",
    "        self.pos = target_point\n",
    "\n",
    "    def use_gas(self, target_point):\n",
    "        distance = self.pos.compute_distance(target_point)\n",
    "        gas_litters_needed = distance * self.KM_PER_LITTERS\n",
    "        if self.tank >= gas_litters_needed:\n",
    "            self.tank -= gas_litters_needed\n",
    "        else:\n",
    "            raise NotEnoughGasException(\"pas assez d'essence\")\n",
    "\n",
    "class Bicycle(Vehicle):\n",
    "\n",
    "    def __init__(self, color=\"red\", size=\"medium\", wheel_size=700):\n",
    "       self.wheel_size = wheel_size\n",
    "       super().__init__(color, size)\n",
    "\n",
    "    def move(self, target_point):\n",
    "        self.pos = target_point\n",
    "\n",
    "bike = Bicycle(\"brown\")\n",
    "print(bike.get_position())\n",
    "destination = EuclideanPoint(12, 12, 0)\n",
    "bike.move(destination)\n",
    "print(bike.get_position())\n",
    "\n",
    "# what about cars now?\n",
    "car = Car()\n",
    "print(car.get_position())\n",
    "try:\n",
    "    destination = EuclideanPoint(100, 100, 0)\n",
    "    car.move(destination)\n",
    "except NotEnoughGasException as e:\n",
    "    print(f\"oh nooo:\\n\\t{e}\")"
   ]
  },
  {
   "cell_type": "markdown",
   "metadata": {},
   "source": [
    "oulalala, there's a lot to unpack in the previous cell, let's go quietly.\n",
    "1.  The `EuclideanPoint' class implements the `__slots__` design pattern which substitutes for\n",
    "    the normal dictionary used to record the attributes associated with a class.\n",
    "2.  The `EuclideanPoint` class uses a class method to easily instantiate\n",
    "    a default point.\n",
    "3. The `NotEnoughGasException` class extends the python Exception class. This allows it to act as an Exception like\n",
    "    normally but with a different name, allowing us to isolate it during exception resolution.\n",
    "4. The `Vehicle` class is the _parent_ class of `Bicycle` and `Car`, i.e. these two classes are\n",
    "    actually `Vehicle` -- and therefore offers the full functionality of `Vehicle` -- but with more\n",
    "    methods or attributes. In addition, the two classes inheriting from `Vehicle` _ override the `move` method of the class\n",
    "    `Vehicle` (in our case).\n",
    "5. Both _child_ classes use the `super' keyword, which has the effect of being able to call the\n",
    "    methods of the parent class.\n",
    "\n",
    "How does inheritance work? In python, a mechanism called the `Method Resolution Order` resolves the order of resolution. For example, the `move` method is implemented in all classes, so which `move` method should be called?\n",
    "Simply, the method closest to the class in question will be called.\n",
    "So if I use `car.move()`, the `move` method closest to the `Car` class is the one defined in the `Car` class.\n",
    "If I use `car.get_position()`, the `get_position` method is not defined in the `Car` class, so the method closest to the `Car` class will be called.\n",
    "is in the `Vehicle' class."
   ]
  },
  {
   "cell_type": "markdown",
   "metadata": {},
   "source": [
    "### Exercise 3\n",
    "Define a `Shape' parent class with the `get_area, get_parameter' methods.\n",
    "Next, define the `Rectangle`, `Triangle`, `Square`, and `Circle` classes which implement the two methods of\n",
    "their parent class. In addition, implement the functions `__str__, __repr__` for `Shape` and `__init__` for all\n",
    "the others classes."
   ]
  },
  {
   "cell_type": "code",
   "execution_count": null,
   "metadata": {
    "collapsed": false,
    "jupyter": {
     "outputs_hidden": false
    },
    "pycharm": {
     "name": "#%%\n"
    }
   },
   "outputs": [],
   "source": [
    "# exercise 3"
   ]
  },
  {
   "cell_type": "markdown",
   "metadata": {},
   "source": [
    "----------------------------------\n",
    "### Properties\n",
    "Objects can have properties instead of attributes."
   ]
  },
  {
   "cell_type": "code",
   "execution_count": 9,
   "metadata": {
    "collapsed": false,
    "jupyter": {
     "outputs_hidden": false
    },
    "pycharm": {
     "name": "#%%\n"
    }
   },
   "outputs": [
    {
     "name": "stdout",
     "output_type": "stream",
     "text": [
      "vehicle with tank capacity of 40 L\n"
     ]
    }
   ],
   "source": [
    "class Vehicle: \n",
    "    \n",
    "    @property\n",
    "    def tank_capacity(self):\n",
    "        return self._tank_capacity\n",
    "    @tank_capacity.setter\n",
    "    def tank_capacity(self, c):\n",
    "        self._tank_capacity = c\n",
    "\n",
    "    def __init__(self, tank_capacity):\n",
    "        self.tank_capacity = tank_capacity\n",
    "\n",
    "    def __repr__(self):\n",
    "        return f\"vehicle with tank capacity of {self.tank_capacity} L\"\n",
    "\n",
    "    def __str__(self):\n",
    "        return self.__repr__()\n",
    "\n",
    "vehicle_ = Vehicle(40)\n",
    "print(vehicle_)"
   ]
  },
  {
   "cell_type": "markdown",
   "metadata": {},
   "source": [
    "But what exactly are the properties for?\n",
    "Good question, first of all we can now enforce limits when defining an attribute:"
   ]
  },
  {
   "cell_type": "code",
   "execution_count": 10,
   "metadata": {
    "collapsed": false,
    "jupyter": {
     "outputs_hidden": false
    },
    "pycharm": {
     "name": "#%%\n"
    }
   },
   "outputs": [
    {
     "name": "stdout",
     "output_type": "stream",
     "text": [
      "oups: Tank capacity must be between 0 and 100 L\n"
     ]
    }
   ],
   "source": [
    "class Vehicle: \n",
    "    \n",
    "    @property\n",
    "    def tank_capacity(self):\n",
    "        return self._tank_capacity\n",
    "    @tank_capacity.setter\n",
    "    def tank_capacity(self, c):\n",
    "        if c < 0 or c > 100:\n",
    "            raise ValueError(\"Tank capacity must be between 0 and 100 L\")\n",
    "        self._tank_capacity = c\n",
    "\n",
    "    def __init__(self, tank_capacity):\n",
    "        self.tank_capacity = tank_capacity\n",
    "\n",
    "    def __repr__(self):\n",
    "        return f\"vehicle with tank capacity of {self.tank_capacity} L\"\n",
    "\n",
    "    def __str__(self):\n",
    "        return self.__repr__()\n",
    "\n",
    "try:\n",
    "    vehicle_ = Vehicle(-180)\n",
    "    print(vehicle_)\n",
    "except ValueError as e:\n",
    "    print(f\"oups: {e}\")\n"
   ]
  },
  {
   "cell_type": "markdown",
   "metadata": {},
   "source": [
    "In addition, if we have several dependencies to the Vehicle class, and these dependencies use\n",
    "the `tank_capacity` attribute, we can modify this attribute without consequences for the rest of the code:"
   ]
  },
  {
   "cell_type": "code",
   "execution_count": 12,
   "metadata": {
    "collapsed": false,
    "jupyter": {
     "outputs_hidden": false
    },
    "pycharm": {
     "name": "#%%\n"
    }
   },
   "outputs": [
    {
     "name": "stdout",
     "output_type": "stream",
     "text": [
      "13.978125\n"
     ]
    }
   ],
   "source": [
    "class Brand:\n",
    "    \n",
    "    def __init__(self, *vehicles):\n",
    "        self.vehicles = list(vehicles)\n",
    "        \n",
    "    def compute_average_tank_capacity(self):\n",
    "        _sum = sum(v.tank_capacity for v in self.vehicles)\n",
    "        return _sum / len(self.vehicles)\n",
    "        \n",
    "\n",
    "# okay, mais comment puis-je exposer ma capacité en gallons, tout en gardant\n",
    "# l'information en litres?\n",
    "class Vehicle: \n",
    "    \n",
    "    @property\n",
    "    def tank_capacity(self):\n",
    "        return self._tank_capacity * 0.2556\n",
    "    \n",
    "    @tank_capacity.setter\n",
    "    def tank_capacity(self, c):\n",
    "        if c < 0 or c > 100 / 0.256:\n",
    "            raise ValueError(\"Tank capacity must be between 0 and 100 L\")\n",
    "        self._tank_capacity = c / 0.256\n",
    "\n",
    "    def __init__(self, tank_capacity):\n",
    "        self.tank_capacity = tank_capacity\n",
    "\n",
    "    def __repr__(self):\n",
    "        return f\"vehicle with tank capacity of {self.tank_capacity} L\"\n",
    "\n",
    "    def __str__(self):\n",
    "        return self.__repr__()\n",
    "\n",
    "brand = Brand(Vehicle(12), Vehicle(14), Vehicle(16))\n",
    "print(brand.compute_average_tank_capacity())"
   ]
  },
  {
   "cell_type": "markdown",
   "metadata": {},
   "source": [
    "-------------------------------\n",
    "### Let's look at real use cases\n",
    "These classes and tools are wonderful and everything but let's now look at how they are used in practice with the help of\n",
    "of python packages you are certainly interested in either _scipy_ and _pandas_ . We will investigate why classes\n",
    "are used in these cases.\n",
    "\n",
    "Let's start with the class [KDTree](https://github.com/scipy/scipy/blob/master/scipy/spatial/kdtree.py#L182) from _scipy_:"
   ]
  },
  {
   "cell_type": "markdown",
   "metadata": {},
   "source": [
    "```python\n",
    "class KDTree(object):\n",
    "```\n",
    "By default, all classes inherit from the object class. It was mandatory to use this syntax\n",
    "in python2. Now, this is optional, so write\n",
    "```python\n",
    "class KDTree:\n",
    "```\n",
    "is the same thing.\n",
    "```python\n",
    "def __init__(self, data, leafsize=10):\n",
    "    self.data = np.asarray(data)\n",
    "    if self.data.dtype.kind == 'c':\n",
    "        raise TypeError(\"KDTree does not work with complex data\")\n",
    "\n",
    "    self.n, self.m = np.shape(self.data)\n",
    "    self.leafsize = int(leafsize)\n",
    "    if self.leafsize < 1:\n",
    "        raise ValueError(\"leafsize must be at least 1\")\n",
    "    self.maxes = np.amax(self.data,axis=0)\n",
    "    self.mins = np.amin(self.data,axis=0)\n",
    "\n",
    "    self.tree = self.__build(np.arange(self.n), self.maxes, self.mins)\n",
    "```\n",
    "We understand why the algorithm is structured as a class now. This makes it possible to\n",
    "save data as an attribute to simplify the following methods.\n",
    "Also, you will notice that the tree is instantiated with the `__build` method. As we have seen\n",
    "earlier, this method is not directly accessible outside the classroom. It is a method\n",
    "for constructing the tree, other methods not starting with two underlines\n",
    "are then accessible to users such as the following:\n",
    "\n",
    "```python\n",
    "def query(self, x, k=1, eps=0, p=2, distance_upper_bound=np.inf):\n",
    "    \"\"\"\n",
    "    Query the kd-tree for nearest neighbors\n",
    "    \"\"\"\n",
    "```\n",
    "In fact, the `query` method is interesting since it is representative of a mechanism that is frequently\n",
    "used by developers: to separate the logic from the manipulation of arguments. In this case,\n",
    "the `query` method is used to validate that the arguments provided by the user are valid. Then, the method\n",
    "`__query` actually performs the operation.\n",
    "An interesting feature of the KDTree class is that it itself contains other classes:\n",
    "```python\n",
    "class node(object):\n",
    "    def __lt__(self, other):\n",
    "        return id(self) < id(other)\n",
    "\n",
    "    def __gt__(self, other):\n",
    "        return id(self) > id(other)\n",
    "\n",
    "    def __le__(self, other):\n",
    "        return id(self) <= id(other)\n",
    "\n",
    "    def __ge__(self, other):\n",
    "        return id(self) >= id(other)\n",
    "\n",
    "    def __eq__(self, other):\n",
    "        return id(self) == id(other)\n",
    "\n",
    "class leafnode(node):\n",
    "    def __init__(self, idx):\n",
    "        self.idx = idx\n",
    "        self.children = len(idx)\n",
    "\n",
    "class innernode(node):\n",
    "    def __init__(self, split_dim, split, less, greater):\n",
    "        self.split_dim = split_dim\n",
    "        self.split = split\n",
    "        self.less = less\n",
    "        self.greater = greater\n",
    "        self.children = less.children+greater.children\n",
    "```"
   ]
  },
  {
   "cell_type": "markdown",
   "metadata": {},
   "source": [
    "Let us continue our exploration with the emblematic class of _pandas_, namely the\n",
    "[DataFrame](https://github.com/pandas-dev/pandas/blob/v1.0.5/pandas/core/frame.py#L319).\n",
    "\n",
    "```python\n",
    "class DataFrame(NDFrame):\n",
    "    \"\"\"\n",
    "    Two-dimensional, size-mutable, potentially heterogeneous tabular data.\n",
    "    Data structure also contains labeled axes (rows and columns).\n",
    "    Arithmetic operations align on both row and column labels. Can be\n",
    "    thought of as a dict-like container for Series objects. The primary\n",
    "    pandas data structure.\n",
    "    \"\"\"\n",
    "```\n",
    "Instantly, we notice that the DataFrame inherits from the more general `NDFrame` class. The latter\n",
    "defines the basic information of a DataFrame, such as axes.\n",
    "The DataFrame class uses most of the concepts we have seen, for example, several properties\n",
    "are defined.\n",
    "\n",
    "```python\n",
    "@property\n",
    "def shape(self) -> Tuple[int, int]:\n",
    "    \"\"\"\n",
    "    Return a tuple representing the dimensionality of the DataFrame.\n",
    "    See Also\n",
    "    --------\n",
    "    ndarray.shape\n",
    "    Examples\n",
    "    --------\n",
    "    >>> df = pd.DataFrame({'col1': [1, 2], 'col2': [3, 4]})\n",
    "    >>> df.shape\n",
    "    (2, 2)\n",
    "    >>> df = pd.DataFrame({'col1': [1, 2], 'col2': [3, 4],\n",
    "    ...                    'col3': [5, 6]})\n",
    "    >>> df.shape\n",
    "    (2, 3)\n",
    "    \"\"\"\n",
    "    return len(self.index), len(self.columns)\n",
    "```\n",
    "Also, class methosd are used to instanciate new `DataFrame`:\n",
    "```python\n",
    "@classmethod\n",
    "def from_dict(cls, data, orient=\"columns\", dtype=None, columns=None) -> \"DataFrame\":\n",
    "    \"\"\"\n",
    "    Construct DataFrame from dict of array-like or dicts.\n",
    "    Creates DataFrame object from dictionary by columns or by index\n",
    "    allowing dtype specification.\n",
    "    \"\"\"\n",
    "\n",
    "```\n"
   ]
  }
 ],
 "metadata": {
  "kernelspec": {
   "display_name": "Python 3",
   "language": "python",
   "name": "python3"
  },
  "language_info": {
   "codemirror_mode": {
    "name": "ipython",
    "version": 3
   },
   "file_extension": ".py",
   "mimetype": "text/x-python",
   "name": "python",
   "nbconvert_exporter": "python",
   "pygments_lexer": "ipython3",
   "version": "3.7.6"
  }
 },
 "nbformat": 4,
 "nbformat_minor": 4
}
