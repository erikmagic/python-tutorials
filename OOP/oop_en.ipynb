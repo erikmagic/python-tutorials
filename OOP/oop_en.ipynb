{
 "cells": [
  {
   "cell_type": "markdown",
   "metadata": {},
   "source": [
    "# Object Oriented Programming (OPP)\n",
    "\n",
    "Object-oriented programming is a very popular paradigm in practice.\n",
    "It is a way to develop intuitively, using this technique we can\n",
    "create fairly complex software that is simultaneously well organized."
   ]
  },
  {
   "cell_type": "markdown",
   "metadata": {},
   "source": [
    "### Which languages support object oriented programming?\n",
    "Most modern languages support OOP. The emblematic language of this paradigm is\n",
    "Java which only works with classes (the basis of OOP).\n",
    "Python does not allow you to use all the OOP-related functionalities offered by Java.\n",
    "However, the essential concepts are all present."
   ]
  },
  {
   "cell_type": "markdown",
   "metadata": {},
   "source": [
    "### Why bother using OOP?\n",
    "OOP originated in procedural languages as an easy way to organize more complex structures.\n",
    "These are its main strengths:\n",
    "* enforcing modularity\n",
    "* enforcing discipline\n",
    "* enforcing the visibility of different parts of the code\n",
    "\n",
    "More specifically, modularity is the separation of the code into subcategories allowing for\n",
    "to better organization the structure.\n",
    "Discipline mentioned here refers to the proper use of the code, as it was envisioned.\n",
    "Because with the help of the features from the OOP, it becomes easy to limit access to certain parts\n",
    " of the code."
   ]
  },
  {
   "cell_type": "markdown",
   "metadata": {},
   "source": [
    "### Functions versus Objects\n",
    "In the previous workshops, we looked at functions. Now we expand on this concept by proposing objects. Objects are the \"active\" part of a class. Objects will include functions but might also include attributes which are variables assigned to the specific object. In a sense, objects are more general than functions. Objects will allow you to program more complicated code as functions are generally short and do only one thing. An object might contain numerous methods which does different things.  \n",
    "Objects are also portable in a way as they are self-contained piece of code with limited dependencies on the outer code. In other words, objects include much of the necessary code as own methods and attributes. As mentioned above, an object generally include attributes and methods.\n",
    "* _methods -> functions_ methods are functions that belong to a class/object.\n",
    "* _attributes -> variables_ attributes are variables that belong to a class/object.\n",
    "The object itself is the composite of these methods and attributes."
   ]
  },
  {
   "cell_type": "markdown",
   "metadata": {},
   "source": [
    "### OOP Using Python\n",
    "#### Classes\n",
    "Note the syntax specific to Python. We use the `class` keyword before naming our class.\n",
    "Note the `pass` keyword, which is only used to delimit empty code (because of the indentation).\n",
    "When we associate a class with a variable we _instantiate_ that class as an object.\n",
    "In other words, classes are the equivalent of blueprints and objects are realizations of these blueprints."
   ]
  },
  {
   "cell_type": "code",
   "execution_count": 2,
   "metadata": {
    "collapsed": false,
    "jupyter": {
     "outputs_hidden": false
    },
    "pycharm": {
     "name": "#%%\n"
    }
   },
   "outputs": [
    {
     "data": {
      "text/plain": [
       "<__main__.Vehicle at 0x7fa13c7a2eb0>"
      ]
     },
     "execution_count": 2,
     "metadata": {},
     "output_type": "execute_result"
    }
   ],
   "source": [
    "class Vehicle:\n",
    "    \"\"\"\n",
    "    This class is defined from the `class` keyword. Notice the same colon used in for loops and if statements. This colon and the later indendation \n",
    "    is Python's way of defining the scope of the class. Everything written with the specific indentation is in the class.\n",
    "    The `pass` keyword is used to allow us to write nothing inside the class and still be able to run the cell!\n",
    "    We `instantiate` or `create` an object from this class by adding parenthesis after the class name, just like we do with functions.\n",
    "    \"\"\"\n",
    "    pass\n",
    "\n",
    "vehicle = Vehicle()\n",
    "vehicle"
   ]
  },
  {
   "cell_type": "markdown",
   "metadata": {},
   "source": [
    "Functions defined in a class == methods.\n",
    "Methods starting with two underscore bars are called `dunder` or `magic` methods.\n",
    "`Magic` methods are methods which are not intended for the programmer to call, but rather by Python itself. You will often see these methods defined and written in classes, but rarely if never actually used in the code. This is because Python automatically calls them under the hood in specific circumstances. A bit later, we will see the `__init__` method in more details which servers as a good example because we never actually call the `__init__` method, it is automatically called when we instantiate, or create, an object from a class.  \n",
    "\n",
    "In the next cell, the `__init__` method is the constructor.\n",
    "This method is automatically called when the class is instantiated.  \n",
    "We will talk about the first argument `self` to the `__init__` method later as it has a special role, unlike normal arguments."
   ]
  },
  {
   "cell_type": "code",
   "execution_count": 1,
   "metadata": {
    "collapsed": false,
    "jupyter": {
     "outputs_hidden": false
    },
    "pycharm": {
     "name": "#%%\n"
    }
   },
   "outputs": [
    {
     "data": {
      "text/plain": [
       "<__main__.Vehicle at 0x7fa13c786d60>"
      ]
     },
     "execution_count": 1,
     "metadata": {},
     "output_type": "execute_result"
    }
   ],
   "source": [
    "class Vehicle:\n",
    "    def __init__(self):\n",
    "        \"\"\"\n",
    "        The `__init__` method is a magic method. Magic methods are almost never called by us, Python indirectly uses them for various purposes.\n",
    "        https://rszalski.github.io/magicmethods/\n",
    "        \"\"\"\n",
    "        pass\n",
    "vehicle = Vehicle()\n",
    "vehicle"
   ]
  },
  {
   "cell_type": "markdown",
   "metadata": {},
   "source": [
    "### What is the `__init__` method ?\n",
    "The `__init__` method is python's way of defining a constructor. A constructor is automatically called when an object is instantiated from a class. In other words, the constructor will \"construct\" the object. The `__init__` is thus the very first method called when we create an object. This fact is very important when writing classes. This is where we will generally define most, if not all, are attributes. That way, we can use the attributes safely in other methods as we will know they are defined. "
   ]
  },
  {
   "cell_type": "markdown",
   "metadata": {},
   "source": [
    "In the next cell, we use two more `magic methods`.\n",
    "`__str__` is used when we _cast_ our object as a string.\n",
    "(For example, in the following case the `f-string` implicitly calls\n",
    "the `__str__` function.\n",
    "`__repr__` is used when displaying the object itself. The default is `__str__`,\n",
    "it is important to define `__repr__` first."
   ]
  },
  {
   "cell_type": "code",
   "execution_count": 3,
   "metadata": {
    "collapsed": false,
    "jupyter": {
     "outputs_hidden": false
    },
    "pycharm": {
     "name": "#%%\n"
    }
   },
   "outputs": [
    {
     "name": "stdout",
     "output_type": "stream",
     "text": [
      "obs desc: My brand is Toyota\n"
     ]
    },
    {
     "data": {
      "text/plain": [
       "My brand is Toyota"
      ]
     },
     "execution_count": 3,
     "metadata": {},
     "output_type": "execute_result"
    }
   ],
   "source": [
    "class Vehicle:\n",
    "    def __init__(self):\n",
    "        \"\"\"\n",
    "        We use the self argument to define attributes here. This way, we know attributes are automatically defined at the beginning of our object's life.\n",
    "        Then, the attributes can be used in later methods.\n",
    "        \"\"\"\n",
    "        self.name = \"Toyota\"\n",
    "\n",
    "    def __str__(self):\n",
    "        \"\"\"\n",
    "        Notice this method will never be used directly, Python will automatically invoke it when we cast a string or we print our object.\n",
    "        \"\"\"\n",
    "        return f\"My brand is {self.name}\"\n",
    "\n",
    "    def __repr__(self):\n",
    "        \"\"\"\n",
    "        Notice we can call methods from our object by using the self attribute.\n",
    "        \"\"\"\n",
    "        return self.__str__()\n",
    "\n",
    "vehicle = Vehicle()\n",
    "print(f\"obs desc: {vehicle}\")\n",
    "vehicle"
   ]
  },
  {
   "cell_type": "markdown",
   "metadata": {},
   "source": [
    "#### What is the `self` keyword?\n",
    "You may have noticed the keyword `self` as the first argument of the\n",
    "methods from the previous example. In fact, it is not a keyword, but rather\n",
    "a convention. This argument refers to the class itself."
   ]
  },
  {
   "cell_type": "code",
   "execution_count": 2,
   "metadata": {
    "collapsed": false,
    "jupyter": {
     "outputs_hidden": false
    },
    "pycharm": {
     "name": "#%%\n"
    }
   },
   "outputs": [
    {
     "name": "stdout",
     "output_type": "stream",
     "text": [
      "vroom vroom\n",
      "vroom vroom\n"
     ]
    }
   ],
   "source": [
    "class Vehicle:\n",
    "    def print_message(self):\n",
    "        \"\"\"\n",
    "        This is just a normal method that simply prints a message.\n",
    "        \"\"\"\n",
    "        print(\"vroom vroom\")\n",
    "        \n",
    "vehicle = Vehicle()\n",
    "vehicle.print_message()\n",
    "\n",
    "Vehicle.print_message(vehicle)\n"
   ]
  },
  {
   "cell_type": "markdown",
   "metadata": {},
   "source": [
    "So you see, both ways are the same. However, the first is more intuitive."
   ]
  },
  {
   "cell_type": "markdown",
   "metadata": {},
   "source": [
    "### Exercise 1\n",
    "Create a class with two arguments of type `int`, a constructor (`__init__`) initializing them and a method adding them."
   ]
  },
  {
   "cell_type": "code",
   "execution_count": null,
   "metadata": {
    "collapsed": false,
    "jupyter": {
     "outputs_hidden": false
    },
    "pycharm": {
     "name": "#%%\n"
    }
   },
   "outputs": [],
   "source": [
    "# exercise 1\n"
   ]
  },
  {
   "cell_type": "markdown",
   "metadata": {},
   "source": [
    "----------------------------------------------------------------\n",
    "### Class variables/methods versus instance variables/methods\n",
    "There are two types of variables for python classes.\n",
    "First, instance variables. These variables are specific to a\n",
    "instance of a class, that is, a particular object.\n",
    "Second, class variables. These variables are shared by\n",
    "the set of instances associated with the class in question."
   ]
  },
  {
   "cell_type": "code",
   "execution_count": 1,
   "metadata": {
    "collapsed": false,
    "jupyter": {
     "outputs_hidden": false
    },
    "pycharm": {
     "name": "#%%\n"
    }
   },
   "outputs": [
    {
     "name": "stdout",
     "output_type": "stream",
     "text": [
      "Brand: toyota, Noise made: vroom vroom\n",
      "Brand: BMW, Noise made: vroom vroom\n",
      "The noise of my first instance vroom\n",
      "The possible brands of my second instance are ['Toyota', 'BMW', 'Mercedes']\n",
      "The brand of my second instance is Mercedes\n",
      "the driving modes of my first instance is ['automatic', 'manual']\n"
     ]
    }
   ],
   "source": [
    "class Vehicle:\n",
    "    \"\"\"\n",
    "    Our Vehicle class now has two class attributes.\n",
    "    The first attribute is a string which is not mutable.\n",
    "    The second attribute is a list of strings which is mutable.\n",
    "    \"\"\"\n",
    "    noise = 'vroom vroom'\n",
    "    possible_brands = [\"Toyota\", \"BMW\"]\n",
    "    def __init__(self, brand):\n",
    "        \"\"\"\n",
    "        We add two instance attributes in the constructor. These attributes are created at the very moment our object is created.\n",
    "        \"\"\"\n",
    "        self.brand = brand\n",
    "        self.driving_mode = ['automatic', 'manual']\n",
    "\n",
    "    def __repr__(self):\n",
    "        \"\"\"\n",
    "        Magic method to print our object in a more useful way.\n",
    "        Notice we use f-strings which allow us to construct strings from our variables in an intuitive manner.\n",
    "        \"\"\"\n",
    "        return f\"Brand: {self.brand}, Noise made: {self.noise}\"\n",
    "\n",
    "    def __str__(self):\n",
    "        return self.__repr__()\n",
    "\n",
    "vehicle  = Vehicle('toyota')\n",
    "vehicle_2 = Vehicle('BMW')\n",
    "print(vehicle)\n",
    "print(vehicle_2)\n",
    "\n",
    "vehicle.noise = \"vroom\"\n",
    "vehicle.possible_brands.append(\"Mercedes\")\n",
    "print(f\"The noise of my first instance {vehicle.noise}\")\n",
    "print(f\"The possible brands of my second instance are {vehicle_2.possible_brands}\")\n",
    "\n",
    "vehicle_2.brand = 'Mercedes'\n",
    "vehicle_2.driving_mode.append('hybrid')\n",
    "print(f\"The brand of my second instance is {vehicle_2.brand}\")\n",
    "print(f\"the driving modes of my first instance is {vehicle.driving_mode}\")"
   ]
  },
  {
   "cell_type": "markdown",
   "metadata": {},
   "source": [
    "In summary the class variables are shared by all my variables.\n",
    "Care must be taken when these variables are complex types since the changes\n",
    "will be applied to all associated instances.\n",
    "We can also also have instance methods and class methods."
   ]
  },
  {
   "cell_type": "code",
   "execution_count": 4,
   "metadata": {
    "collapsed": false,
    "jupyter": {
     "outputs_hidden": false
    },
    "pycharm": {
     "name": "#%%\n"
    }
   },
   "outputs": [
    {
     "data": {
      "text/plain": [
       "2010 toyota corolla"
      ]
     },
     "execution_count": 4,
     "metadata": {},
     "output_type": "execute_result"
    }
   ],
   "source": [
    "class Vehicle:\n",
    "\n",
    "    def __init__(self, year, brand, model):\n",
    "        \"\"\"\n",
    "        Ever more arguments to the constructor which we will use as attributes. The self argument is not directly written when creating our object.\n",
    "        \"\"\"\n",
    "        self.year = year\n",
    "        self.brand = brand\n",
    "        self.model = model\n",
    "\n",
    "    @classmethod\n",
    "    def create_from_description(cls, description):\n",
    "        \"\"\"\n",
    "        The @classmethod is called a descriptor. A descriptor is identified by the @. \n",
    "        A descriptor modifies the behavior of a function or a method. This classmethod is a descriptor\n",
    "        coming from Python itself, but we can also create our own descriptors.\n",
    "        \"\"\"\n",
    "        year = description.split()[0]\n",
    "        brand = description.split()[1]\n",
    "        model = description.split()[2]\n",
    "        return cls(year, brand, model)\n",
    "\n",
    "    def __repr__(self):\n",
    "        \"\"\"\n",
    "        A different way of creating a string as opposed to f-strings.\n",
    "        \"\"\"\n",
    "        return self.year + \" \" + self.brand + \" \" + self.model\n",
    "\n",
    "    def __str__(self):\n",
    "        return self.__repr__()\n",
    "\n",
    "vehicle = Vehicle.create_from_description(\"2010 toyota corolla\")\n",
    "vehicle"
   ]
  },
  {
   "cell_type": "markdown",
   "metadata": {},
   "source": [
    "----------------------------------------------------------------\n",
    "### Inheritance\n",
    "An important part of object-oriented programming is inheritance. A class inherits methods and\n",
    "variables of another (or several others). We will materialize the idea using an example of automobiles."
   ]
  },
  {
   "cell_type": "code",
   "execution_count": 7,
   "metadata": {
    "collapsed": false,
    "jupyter": {
     "outputs_hidden": false
    },
    "pycharm": {
     "name": "#%%\n"
    }
   },
   "outputs": [
    {
     "name": "stdout",
     "output_type": "stream",
     "text": [
      "Current position is (0, 0, 0)\n",
      "Current position is (12, 12, 0)\n",
      "Current position is (0, 0, 0)\n",
      "oh nooo:\n",
      "\tNot enough gas!\n"
     ]
    }
   ],
   "source": [
    "import math\n",
    "\n",
    "class EuclideanPoint:\n",
    "    \"\"\"\n",
    "    \n",
    "    This class represents a point in a 3 coordinates system.\n",
    "    \"\"\"\n",
    "\n",
    "    @classmethod\n",
    "    def generate_default(cls):\n",
    "        return cls(0, 0, 0)\n",
    "\n",
    "    def __init__(self, x, y, z):\n",
    "        self.x = x\n",
    "        self.y = y\n",
    "        self.z = z\n",
    "\n",
    "    def compute_distance(self, other):\n",
    "        return math.sqrt((self.x - other.x) ** 2\n",
    "                         + (self.y - other.y) ** 2\n",
    "                         + (self.z - other.z) ** 2)\n",
    "\n",
    "    def __repr__(self):\n",
    "        return f\"({self.x}, {self.y}, {self.z})\"\n",
    "\n",
    "    def __str__(self):\n",
    "        return self.__repr__()\n",
    "\n",
    "class NotEnoughGasException(Exception):\n",
    "    \"\"\"\n",
    "    We inherit form the Exception base class, which is provided by Python.\n",
    "    We do not modify the Exception base class.\n",
    "    This is only to create an Exception which is identiable by a different and more specific name than the general \"Exception\" name.\n",
    "    \"\"\"\n",
    "    pass\n",
    "\n",
    "class Vehicle:\n",
    "\n",
    "    def __init__(self, color, size):\n",
    "        \"\"\"\n",
    "        We also create an attribute not from our arguments here which is very much allowed.\n",
    "        \"\"\"\n",
    "        self.pos = EuclideanPoint.generate_default()\n",
    "        self.color = color\n",
    "        self.size = size\n",
    "\n",
    "    def move(self, target_point):\n",
    "        \"\"\"\n",
    "        We are raising our own custom exception which we just defined.\n",
    "        \"\"\"\n",
    "        raise NotImplementedError(\"Child class should implement move method.\")\n",
    "\n",
    "    def get_position(self):\n",
    "        return f\"Current position is {self.pos}\"\n",
    "\n",
    "class Car(Vehicle):\n",
    "    \"\"\"\n",
    "    Notice that we inherit from the Vehicle parent class.\n",
    "    As such, we have access to all of its methods and attributes.\n",
    "    \"\"\"\n",
    "\n",
    "    KM_PER_LITTERS = 10\n",
    "\n",
    "    def __init__(self, color=\"black\", size=\"big\", tank=20):\n",
    "        \"\"\"\n",
    "        We use the super keyword to access the parent's class. \n",
    "        That way, we call the parent's class (Vehicle) __init__ as it is no more automatically called, being the parent.\n",
    "        \"\"\"\n",
    "        self.tank = tank\n",
    "        super().__init__(color, size)\n",
    "\n",
    "\n",
    "    def move(self, target_point):\n",
    "        self.use_gas(target_point)\n",
    "        self.pos = target_point\n",
    "\n",
    "    def use_gas(self, target_point):\n",
    "        distance = self.pos.compute_distance(target_point)\n",
    "        gas_litters_needed = distance * self.KM_PER_LITTERS\n",
    "        if self.tank >= gas_litters_needed:\n",
    "            self.tank -= gas_litters_needed\n",
    "        else:\n",
    "            raise NotEnoughGasException(\"Not enough gas!\")\n",
    "\n",
    "class Bicycle(Vehicle):\n",
    "    \"\"\"\n",
    "    This is a different class than Car, yet still inherit from the same base class. Generally, you will have many\n",
    "    classes inheriting from a base class. Otherwise, writing the inheritance mecanism isn't that useful.\n",
    "    \"\"\"\n",
    "    def __init__(self, color=\"red\", size=\"medium\", wheel_size=700):\n",
    "        \"\"\"\n",
    "        Once again, we call the parent's __init__ method using the super keyword.\n",
    "        \"\"\"\n",
    "        self.wheel_size = wheel_size\n",
    "        super().__init__(color, size)\n",
    "\n",
    "    def move(self, target_point):\n",
    "        self.pos = target_point\n",
    "\n",
    "bike = Bicycle(\"brown\")\n",
    "print(bike.get_position())\n",
    "destination = EuclideanPoint(12, 12, 0)\n",
    "bike.move(destination)\n",
    "print(bike.get_position())\n",
    "\n",
    "# what about cars now?\n",
    "car = Car()\n",
    "print(car.get_position())\n",
    "try:\n",
    "    destination = EuclideanPoint(100, 100, 0)\n",
    "    car.move(destination)\n",
    "except NotEnoughGasException as e:\n",
    "    print(f\"oh nooo:\\n\\t{e}\")"
   ]
  },
  {
   "cell_type": "markdown",
   "metadata": {},
   "source": [
    "There's a lot to unpack in the previous cell, let's go quietly.\n",
    "1.  The `EuclideanPoint` class uses a class method to easily instantiate\n",
    "    a default point.\n",
    "2. The `NotEnoughGasException` class extends the python Exception class. This allows it to act as an Exception like\n",
    "    normally but with a different name, allowing us to isolate it during exception resolution.\n",
    "3. The `Vehicle` class is the _parent_ class of `Bicycle` and `Car`, i.e. these two classes are\n",
    "    actually `Vehicle` -- and therefore offers the full functionality of `Vehicle` -- but with more\n",
    "    methods or attributes. In addition, the two classes inheriting from `Vehicle` _ override the `move` method of the class\n",
    "    `Vehicle` (in our case).\n",
    "4. Both _child_ classes use the `super' keyword, which has the effect of being able to call the\n",
    "    methods of the parent class.\n",
    "\n",
    "How does inheritance work? In python, a mechanism called the `Method Resolution Order` resolves the order of resolution. For example, the `move` method is implemented in all classes, so which `move` method should be called?\n",
    "Simply, the method closest to the class in question will be called.\n",
    "So if I use `car.move()`, the `move` method closest to the `Car` class is the one defined in the `Car` class.\n",
    "If I use `car.get_position()`, the `get_position` method is not defined in the `Car` class, so the method closest to the `Car` class will be called.\n",
    "is in the `Vehicle' class."
   ]
  },
  {
   "cell_type": "markdown",
   "metadata": {},
   "source": [
    "### Exercise 3\n",
    "Define a `Shape` parent class with the `get_area, get_perimeter` methods.\n",
    "Next, define the `Rectangle`, `Triangle`, `Square`, and `Circle` classes which implement the two methods of\n",
    "their parent class. In addition, implement the functions `__str__, __repr__` for `Shape` and `__init__` for all\n",
    "the others classes."
   ]
  },
  {
   "cell_type": "code",
   "execution_count": null,
   "metadata": {
    "collapsed": false,
    "jupyter": {
     "outputs_hidden": false
    },
    "pycharm": {
     "name": "#%%\n"
    }
   },
   "outputs": [],
   "source": [
    "# exercise 3"
   ]
  },
  {
   "cell_type": "markdown",
   "metadata": {},
   "source": [
    "----------------------------------\n",
    "### Properties\n",
    "Objects can have properties instead of attributes."
   ]
  },
  {
   "cell_type": "code",
   "execution_count": 9,
   "metadata": {
    "collapsed": false,
    "jupyter": {
     "outputs_hidden": false
    },
    "pycharm": {
     "name": "#%%\n"
    }
   },
   "outputs": [
    {
     "name": "stdout",
     "output_type": "stream",
     "text": [
      "vehicle with tank capacity of 40 L\n"
     ]
    }
   ],
   "source": [
    "class Vehicle: \n",
    "    \n",
    "    @property\n",
    "    def tank_capacity(self):\n",
    "        \"\"\"\n",
    "        Here again, we see a decorator. A decorator is identified by being just before a method/function and starting by a @.\n",
    "        This decorator is provided by python and is used to define properties.\n",
    "        https://pythonguide.readthedocs.io/en/latest/python/property.html\n",
    "        \"\"\"\n",
    "        return self._tank_capacity\n",
    "    \n",
    "    @tank_capacity.setter\n",
    "    def tank_capacity(self, c):\n",
    "        \"\"\"\n",
    "        This decorator is based on the name of the previous property we defined ourselves.\n",
    "        \"\"\"\n",
    "        self._tank_capacity = c\n",
    "\n",
    "    def __init__(self, tank_capacity):\n",
    "        self.tank_capacity = tank_capacity\n",
    "\n",
    "    def __repr__(self):\n",
    "        return f\"vehicle with tank capacity of {self.tank_capacity} L\"\n",
    "\n",
    "    def __str__(self):\n",
    "        return self.__repr__()\n",
    "\n",
    "vehicle = Vehicle(40)\n",
    "print(vehicle)"
   ]
  },
  {
   "cell_type": "markdown",
   "metadata": {},
   "source": [
    "But what exactly are the properties for?\n",
    "Good question, first of all we can now enforce limits when defining an attribute:"
   ]
  },
  {
   "cell_type": "code",
   "execution_count": 6,
   "metadata": {
    "collapsed": false,
    "jupyter": {
     "outputs_hidden": false
    },
    "pycharm": {
     "name": "#%%\n"
    }
   },
   "outputs": [
    {
     "name": "stdout",
     "output_type": "stream",
     "text": [
      "oups: Tank capacity must be between 0 and 100 L\n"
     ]
    }
   ],
   "source": [
    "class Vehicle: \n",
    "    \n",
    "    @property\n",
    "    def tank_capacity(self):\n",
    "        return self._tank_capacity\n",
    "    \n",
    "    @tank_capacity.setter\n",
    "    def tank_capacity(self, c):\n",
    "        \"\"\"\n",
    "        This property is useful as it allows us the define a constraint in the setter.\n",
    "        \"\"\"\n",
    "        if c < 0 or c > 100:\n",
    "            raise ValueError(\"Tank capacity must be between 0 and 100 L\")\n",
    "        self._tank_capacity = c\n",
    "\n",
    "    def __init__(self, tank_capacity):\n",
    "        self.tank_capacity = tank_capacity\n",
    "\n",
    "    def __repr__(self):\n",
    "        return f\"vehicle with tank capacity of {self.tank_capacity} L\"\n",
    "\n",
    "    def __str__(self):\n",
    "        return self.__repr__()\n",
    "\n",
    "try:\n",
    "    vehicle = Vehicle(-180)\n",
    "    print(vehicle)\n",
    "except ValueError as e:\n",
    "    print(f\"oups: {e}\")\n"
   ]
  },
  {
   "cell_type": "markdown",
   "metadata": {},
   "source": [
    "In addition, if we have several dependencies to the Vehicle class, and these dependencies use\n",
    "the `tank_capacity` attribute, we can modify this attribute without consequences for the rest of the code:"
   ]
  },
  {
   "cell_type": "code",
   "execution_count": 8,
   "metadata": {
    "collapsed": false,
    "jupyter": {
     "outputs_hidden": false
    },
    "pycharm": {
     "name": "#%%\n"
    }
   },
   "outputs": [
    {
     "name": "stdout",
     "output_type": "stream",
     "text": [
      "13.978125\n"
     ]
    }
   ],
   "source": [
    "class Brand:\n",
    "    \n",
    "    def __init__(self, *vehicles):\n",
    "        \"\"\"\n",
    "        The * in the argument refers to a variable number of arguments.\n",
    "        This is the same thing as when we see *args. \n",
    "        All the arguments will be accessed as a tuple, then converted to a list.\n",
    "        \"\"\"\n",
    "        self.vehicles = list(vehicles)\n",
    "        \n",
    "    def compute_average_tank_capacity(self):\n",
    "        \"\"\"\n",
    "        Here, the underscore before our variable sum is used to identify it clearly\n",
    "        from the sum function from Python.\n",
    "        \"\"\"\n",
    "        _sum = sum(v.tank_capacity for v in self.vehicles)\n",
    "        return _sum / len(self.vehicles)\n",
    "        \n",
    "\n",
    "class Vehicle: \n",
    "    \"\"\"\n",
    "    This class shows how I can expose my tank capacity in gallons, while internally saving it in litters.\n",
    "    \"\"\"\n",
    "    \n",
    "    @property\n",
    "    def tank_capacity(self):\n",
    "        return self._tank_capacity * 0.2556\n",
    "    \n",
    "    @tank_capacity.setter\n",
    "    def tank_capacity(self, c):\n",
    "        if c < 0 or c > 100 / 0.256:\n",
    "            raise ValueError(\"Tank capacity must be between 0 and 100 L\")\n",
    "        self._tank_capacity = c / 0.256\n",
    "\n",
    "    def __init__(self, tank_capacity):\n",
    "        self.tank_capacity = tank_capacity\n",
    "\n",
    "    def __repr__(self):\n",
    "        return f\"vehicle with tank capacity of {self.tank_capacity} L\"\n",
    "\n",
    "    def __str__(self):\n",
    "        return self.__repr__()\n",
    "\n",
    "brand = Brand(Vehicle(12), Vehicle(14), Vehicle(16))\n",
    "print(brand.compute_average_tank_capacity())"
   ]
  },
  {
   "cell_type": "markdown",
   "metadata": {},
   "source": [
    "-------------------------------\n",
    "### Let's look at real use cases\n",
    "These classes and tools are wonderful and everything but let's now look at how they are used in practice with the help of\n",
    "of python packages you are certainly interested in _pandas_ . We will investigate why classes\n",
    "are used in these cases.\n",
    "\n"
   ]
  },
  {
   "cell_type": "markdown",
   "metadata": {},
   "source": [
    "[DataFrame](https://github.com/pandas-dev/pandas/blob/v1.0.5/pandas/core/frame.py#L319).\n",
    "\n",
    "```python\n",
    "class DataFrame(NDFrame):\n",
    "    \"\"\"\n",
    "    Two-dimensional, size-mutable, potentially heterogeneous tabular data.\n",
    "    Data structure also contains labeled axes (rows and columns).\n",
    "    Arithmetic operations align on both row and column labels. Can be\n",
    "    thought of as a dict-like container for Series objects. The primary\n",
    "    pandas data structure.\n",
    "    \"\"\"\n",
    "```\n",
    "Instantly, we notice that the DataFrame inherits from the more general `NDFrame` class. The latter\n",
    "defines the basic information of a DataFrame, such as axes.\n",
    "The DataFrame class uses most of the concepts we have seen, for example, several properties\n",
    "are defined.\n",
    "\n",
    "```python\n",
    "@property\n",
    "def shape(self) -> Tuple[int, int]:\n",
    "    \"\"\"\n",
    "    Return a tuple representing the dimensionality of the DataFrame.\n",
    "    See Also\n",
    "    --------\n",
    "    ndarray.shape\n",
    "    Examples\n",
    "    --------\n",
    "    >>> df = pd.DataFrame({'col1': [1, 2], 'col2': [3, 4]})\n",
    "    >>> df.shape\n",
    "    (2, 2)\n",
    "    >>> df = pd.DataFrame({'col1': [1, 2], 'col2': [3, 4],\n",
    "    ...                    'col3': [5, 6]})\n",
    "    >>> df.shape\n",
    "    (2, 3)\n",
    "    \"\"\"\n",
    "    return len(self.index), len(self.columns)\n",
    "```\n",
    "Also, class methods are used to instanciate new `DataFrame`:\n",
    "```python\n",
    "@classmethod\n",
    "def from_dict(cls, data, orient=\"columns\", dtype=None, columns=None) -> \"DataFrame\":\n",
    "    \"\"\"\n",
    "    Construct DataFrame from dict of array-like or dicts.\n",
    "    Creates DataFrame object from dictionary by columns or by index\n",
    "    allowing dtype specification.\n",
    "    \"\"\"\n",
    "\n",
    "```\n"
   ]
  }
 ],
 "metadata": {
  "kernelspec": {
   "display_name": "Python 3",
   "language": "python",
   "name": "python3"
  },
  "language_info": {
   "codemirror_mode": {
    "name": "ipython",
    "version": 3
   },
   "file_extension": ".py",
   "mimetype": "text/x-python",
   "name": "python",
   "nbconvert_exporter": "python",
   "pygments_lexer": "ipython3",
   "version": "3.8.5"
  }
 },
 "nbformat": 4,
 "nbformat_minor": 4
}
